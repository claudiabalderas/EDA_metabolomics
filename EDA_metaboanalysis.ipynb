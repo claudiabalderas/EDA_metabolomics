{
 "cells": [
  {
   "cell_type": "markdown",
   "id": "c5d3ad02",
   "metadata": {},
   "source": [
    "# **EDA** \n",
    "## APLICACION EN MUESTRAS DE DIABETES PROVENIENTES DE UN ESTUDIO METABOLÓMICO\n",
    "\n",
    "Titulo dataset: Human Serum Metabolome Variability \n",
    "\n",
    "SET DE DATOS SACADOS DE : https://www.kaggle.com/datasets/desertman/human-serum-metabolome-variability\n"
   ]
  },
  {
   "cell_type": "markdown",
   "id": "21594c51",
   "metadata": {},
   "source": [
    "# 1. Importar librerias"
   ]
  },
  {
   "cell_type": "code",
   "execution_count": 2,
   "id": "4769a4dc",
   "metadata": {},
   "outputs": [
    {
     "data": {
      "text/html": [
       "        <script type=\"text/javascript\">\n",
       "        window.PlotlyConfig = {MathJaxConfig: 'local'};\n",
       "        if (window.MathJax && window.MathJax.Hub && window.MathJax.Hub.Config) {window.MathJax.Hub.Config({SVG: {font: \"STIX-Web\"}});}\n",
       "        </script>\n",
       "        <script type=\"module\">import \"https://cdn.plot.ly/plotly-3.1.1.min\"</script>\n",
       "        "
      ]
     },
     "metadata": {},
     "output_type": "display_data"
    }
   ],
   "source": [
    "import pandas as pd\n",
    "import numpy as np\n",
    "import matplotlib.pyplot as plt\n",
    "import seaborn as sns\n",
    "import plotly.express as px\n",
    "import plotly.graph_objects as go\n",
    "import plotly.figure_factory as ff\n",
    "from plotly.subplots import make_subplots\n",
    "from scipy import stats\n",
    "from scipy.stats import pearsonr, spearmanr, normaltest, chi2_contingency\n",
    "from sklearn.preprocessing import StandardScaler, MinMaxScaler\n",
    "from sklearn.decomposition import PCA\n",
    "import plotly.offline as pyo\n",
    "pyo.init_notebook_mode(connected=True)\n",
    "import warnings\n",
    "warnings.filterwarnings('ignore')"
   ]
  },
  {
   "cell_type": "code",
   "execution_count": 3,
   "id": "5430882f",
   "metadata": {},
   "outputs": [
    {
     "data": {
      "text/html": [
       "        <script type=\"text/javascript\">\n",
       "        window.PlotlyConfig = {MathJaxConfig: 'local'};\n",
       "        if (window.MathJax && window.MathJax.Hub && window.MathJax.Hub.Config) {window.MathJax.Hub.Config({SVG: {font: \"STIX-Web\"}});}\n",
       "        </script>\n",
       "        <script type=\"module\">import \"https://cdn.plot.ly/plotly-3.1.1.min\"</script>\n",
       "        "
      ]
     },
     "metadata": {},
     "output_type": "display_data"
    }
   ],
   "source": [
    "##Data analysis\n",
    "import numpy as np\n",
    "import pandas as pd\n",
    "\n",
    "\n",
    "\n",
    "##Visualización\n",
    "\n",
    "#matplotlib\n",
    "import matplotlib as mpl\n",
    "import matplotlib.pyplot as plt\n",
    "%matplotlib inline\n",
    "\n",
    "#seaborn\n",
    "import seaborn as sns\n",
    "\n",
    "\n",
    "# plotly\n",
    "from plotly.offline import init_notebook_mode, iplot\n",
    "import plotly as py\n",
    "init_notebook_mode(connected=True)\n",
    "import plotly.graph_objs as go\n",
    "import plotly.express as px\n",
    "\n",
    "\n",
    "#librería para hacer el PCA y el análisis estadístico. \n",
    "#Libreria correspondiente al repositorio The Centre for Integrative Metabolomics and Computational Biology\n",
    "# https://github.com/orgs/CIMCB/repositories\n",
    "\n",
    "import cimcb_lite as cb  \n",
    "\n"
   ]
  },
  {
   "cell_type": "markdown",
   "id": "956d26c1",
   "metadata": {},
   "source": [
    "# 2. Cargar datos"
   ]
  },
  {
   "cell_type": "code",
   "execution_count": 4,
   "id": "81b26e96",
   "metadata": {},
   "outputs": [
    {
     "data": {
      "text/html": [
       "<div>\n",
       "<style scoped>\n",
       "    .dataframe tbody tr th:only-of-type {\n",
       "        vertical-align: middle;\n",
       "    }\n",
       "\n",
       "    .dataframe tbody tr th {\n",
       "        vertical-align: top;\n",
       "    }\n",
       "\n",
       "    .dataframe thead th {\n",
       "        text-align: right;\n",
       "    }\n",
       "</style>\n",
       "<table border=\"1\" class=\"dataframe\">\n",
       "  <thead>\n",
       "    <tr style=\"text-align: right;\">\n",
       "      <th></th>\n",
       "      <th>sample_id</th>\n",
       "      <th>sample_id_study</th>\n",
       "      <th>CLIENT_IDENTIFIER</th>\n",
       "      <th>CLIENT_MATRIX</th>\n",
       "      <th>DAY</th>\n",
       "      <th>Health</th>\n",
       "      <th>Time</th>\n",
       "      <th>HEALTH_STATUS</th>\n",
       "      <th>RUN_DAY</th>\n",
       "      <th>SAMPLE_AMT</th>\n",
       "      <th>SUBJECT</th>\n",
       "      <th>Time Point</th>\n",
       "      <th>study_group</th>\n",
       "      <th>sex</th>\n",
       "      <th>BMI</th>\n",
       "      <th>hba1c</th>\n",
       "    </tr>\n",
       "  </thead>\n",
       "  <tbody>\n",
       "    <tr>\n",
       "      <th>0</th>\n",
       "      <td>sample_0001</td>\n",
       "      <td>2904988</td>\n",
       "      <td>101-d2-MMT(-0.5h)-S002</td>\n",
       "      <td>Serum</td>\n",
       "      <td>D2</td>\n",
       "      <td>Healthy</td>\n",
       "      <td>Pre</td>\n",
       "      <td>healthy subjects</td>\n",
       "      <td>1</td>\n",
       "      <td>200 ul</td>\n",
       "      <td>101</td>\n",
       "      <td>pre</td>\n",
       "      <td>Healthy_D2_Pre</td>\n",
       "      <td>f</td>\n",
       "      <td>27.9</td>\n",
       "      <td>5.05</td>\n",
       "    </tr>\n",
       "    <tr>\n",
       "      <th>1</th>\n",
       "      <td>sample_0002</td>\n",
       "      <td>2904989</td>\n",
       "      <td>101-d2-MMT(+1h)-S032</td>\n",
       "      <td>Serum</td>\n",
       "      <td>D2</td>\n",
       "      <td>Healthy</td>\n",
       "      <td>Post</td>\n",
       "      <td>healthy subjects</td>\n",
       "      <td>1</td>\n",
       "      <td>200 ul</td>\n",
       "      <td>101</td>\n",
       "      <td>1h</td>\n",
       "      <td>Healthy_D2_Post</td>\n",
       "      <td>f</td>\n",
       "      <td>27.9</td>\n",
       "      <td>5.05</td>\n",
       "    </tr>\n",
       "    <tr>\n",
       "      <th>2</th>\n",
       "      <td>sample_0003</td>\n",
       "      <td>2904991</td>\n",
       "      <td>101-d14-MMT(-0.5h)-S002</td>\n",
       "      <td>Serum</td>\n",
       "      <td>D14</td>\n",
       "      <td>Healthy</td>\n",
       "      <td>Pre</td>\n",
       "      <td>healthy subjects</td>\n",
       "      <td>1</td>\n",
       "      <td>200 ul</td>\n",
       "      <td>101</td>\n",
       "      <td>pre</td>\n",
       "      <td>Healthy_D14_Pre</td>\n",
       "      <td>f</td>\n",
       "      <td>27.9</td>\n",
       "      <td>5.05</td>\n",
       "    </tr>\n",
       "    <tr>\n",
       "      <th>3</th>\n",
       "      <td>sample_0004</td>\n",
       "      <td>2904992</td>\n",
       "      <td>101-d14-MMT(+1h)-S032</td>\n",
       "      <td>Serum</td>\n",
       "      <td>D14</td>\n",
       "      <td>Healthy</td>\n",
       "      <td>Post</td>\n",
       "      <td>healthy subjects</td>\n",
       "      <td>1</td>\n",
       "      <td>200 ul</td>\n",
       "      <td>101</td>\n",
       "      <td>1h</td>\n",
       "      <td>Healthy_D14_Post</td>\n",
       "      <td>f</td>\n",
       "      <td>27.9</td>\n",
       "      <td>5.05</td>\n",
       "    </tr>\n",
       "    <tr>\n",
       "      <th>4</th>\n",
       "      <td>sample_0005</td>\n",
       "      <td>2904994</td>\n",
       "      <td>101-d28-MMT(-0.5h)-S002</td>\n",
       "      <td>Serum</td>\n",
       "      <td>D28</td>\n",
       "      <td>Healthy</td>\n",
       "      <td>Pre</td>\n",
       "      <td>healthy subjects</td>\n",
       "      <td>1</td>\n",
       "      <td>200 ul</td>\n",
       "      <td>101</td>\n",
       "      <td>pre</td>\n",
       "      <td>Healthy_D28_Pre</td>\n",
       "      <td>f</td>\n",
       "      <td>27.9</td>\n",
       "      <td>5.05</td>\n",
       "    </tr>\n",
       "  </tbody>\n",
       "</table>\n",
       "</div>"
      ],
      "text/plain": [
       "     sample_id  sample_id_study        CLIENT_IDENTIFIER CLIENT_MATRIX  DAY  \\\n",
       "0  sample_0001          2904988   101-d2-MMT(-0.5h)-S002         Serum   D2   \n",
       "1  sample_0002          2904989     101-d2-MMT(+1h)-S032         Serum   D2   \n",
       "2  sample_0003          2904991  101-d14-MMT(-0.5h)-S002         Serum  D14   \n",
       "3  sample_0004          2904992    101-d14-MMT(+1h)-S032         Serum  D14   \n",
       "4  sample_0005          2904994  101-d28-MMT(-0.5h)-S002         Serum  D28   \n",
       "\n",
       "    Health  Time     HEALTH_STATUS  RUN_DAY SAMPLE_AMT  SUBJECT Time Point  \\\n",
       "0  Healthy   Pre  healthy subjects        1     200 ul      101        pre   \n",
       "1  Healthy  Post  healthy subjects        1     200 ul      101         1h   \n",
       "2  Healthy   Pre  healthy subjects        1     200 ul      101        pre   \n",
       "3  Healthy  Post  healthy subjects        1     200 ul      101         1h   \n",
       "4  Healthy   Pre  healthy subjects        1     200 ul      101        pre   \n",
       "\n",
       "        study_group sex   BMI  hba1c  \n",
       "0    Healthy_D2_Pre   f  27.9   5.05  \n",
       "1   Healthy_D2_Post   f  27.9   5.05  \n",
       "2   Healthy_D14_Pre   f  27.9   5.05  \n",
       "3  Healthy_D14_Post   f  27.9   5.05  \n",
       "4   Healthy_D28_Pre   f  27.9   5.05  "
      ]
     },
     "execution_count": 4,
     "metadata": {},
     "output_type": "execute_result"
    }
   ],
   "source": [
    "### 2.1 Dataset Hoja 1 ---> Informacion general de estudio\n",
    "#Dataset información general del estudio\n",
    "sample_metadata = pd.read_excel(r\"C:\\Users\\Momentum\\Desktop\\Claudia\\Cursos\\Bootcamp_Data_e_IA\\Proyecto_EDA\\study_data.xlsx\", sheet_name=\"sample_metadata\")\n",
    "sample_metadata.head()"
   ]
  },
  {
   "cell_type": "code",
   "execution_count": 5,
   "id": "5ecce3f0",
   "metadata": {},
   "outputs": [
    {
     "data": {
      "text/plain": [
       "Index(['sample_id', 'sample_id_study', 'CLIENT_IDENTIFIER', 'CLIENT_MATRIX',\n",
       "       'DAY', 'Health', 'Time', 'HEALTH_STATUS', 'RUN_DAY', 'SAMPLE_AMT',\n",
       "       'SUBJECT', 'Time Point', 'study_group', 'sex', 'BMI', 'hba1c'],\n",
       "      dtype='object')"
      ]
     },
     "execution_count": 5,
     "metadata": {},
     "output_type": "execute_result"
    }
   ],
   "source": [
    "#Nombre de las columnas\n",
    "sample_metadata.columns"
   ]
  },
  {
   "cell_type": "markdown",
   "id": "992822b2",
   "metadata": {},
   "source": [
    "***Features que nos interesan para el análisis***\n",
    "\n",
    "    *sample_id: ID único de muestra\n",
    "    *CLIENT_MATRIX: Tipo de muestra extraída:\n",
    "    *Health: Nombre corto correspondiente al estado de salud\n",
    "    *HEALTH_STATUS: Estado de salud \n",
    "    *sex: sexo del paciente\n",
    "    *BMI: Indice de masa corporal\n",
    "    *hba1: Hemoglobina glicosilada "
   ]
  },
  {
   "cell_type": "code",
   "execution_count": 6,
   "id": "7b10afc9",
   "metadata": {},
   "outputs": [
    {
     "name": "stdout",
     "output_type": "stream",
     "text": [
      "<class 'pandas.core.frame.DataFrame'>\n",
      "RangeIndex: 180 entries, 0 to 179\n",
      "Data columns (total 16 columns):\n",
      " #   Column             Non-Null Count  Dtype  \n",
      "---  ------             --------------  -----  \n",
      " 0   sample_id          180 non-null    object \n",
      " 1   sample_id_study    180 non-null    int64  \n",
      " 2   CLIENT_IDENTIFIER  180 non-null    object \n",
      " 3   CLIENT_MATRIX      180 non-null    object \n",
      " 4   DAY                180 non-null    object \n",
      " 5   Health             180 non-null    object \n",
      " 6   Time               180 non-null    object \n",
      " 7   HEALTH_STATUS      180 non-null    object \n",
      " 8   RUN_DAY            180 non-null    int64  \n",
      " 9   SAMPLE_AMT         180 non-null    object \n",
      " 10  SUBJECT            180 non-null    int64  \n",
      " 11  Time Point         180 non-null    object \n",
      " 12  study_group        180 non-null    object \n",
      " 13  sex                180 non-null    object \n",
      " 14  BMI                180 non-null    float64\n",
      " 15  hba1c              180 non-null    float64\n",
      "dtypes: float64(2), int64(3), object(11)\n",
      "memory usage: 22.6+ KB\n"
     ]
    }
   ],
   "source": [
    "#información básica del dataset, tipos de datos y columnas\n",
    "sample_metadata.info()"
   ]
  },
  {
   "cell_type": "code",
   "execution_count": 7,
   "id": "a7a633c1",
   "metadata": {},
   "outputs": [
    {
     "data": {
      "text/html": [
       "<div>\n",
       "<style scoped>\n",
       "    .dataframe tbody tr th:only-of-type {\n",
       "        vertical-align: middle;\n",
       "    }\n",
       "\n",
       "    .dataframe tbody tr th {\n",
       "        vertical-align: top;\n",
       "    }\n",
       "\n",
       "    .dataframe thead th {\n",
       "        text-align: right;\n",
       "    }\n",
       "</style>\n",
       "<table border=\"1\" class=\"dataframe\">\n",
       "  <thead>\n",
       "    <tr style=\"text-align: right;\">\n",
       "      <th></th>\n",
       "      <th>compound_id</th>\n",
       "      <th>sample_0001</th>\n",
       "      <th>sample_0002</th>\n",
       "      <th>sample_0003</th>\n",
       "      <th>sample_0004</th>\n",
       "      <th>sample_0005</th>\n",
       "      <th>sample_0006</th>\n",
       "      <th>sample_0007</th>\n",
       "      <th>sample_0008</th>\n",
       "      <th>sample_0009</th>\n",
       "      <th>...</th>\n",
       "      <th>sample_0171</th>\n",
       "      <th>sample_0172</th>\n",
       "      <th>sample_0173</th>\n",
       "      <th>sample_0174</th>\n",
       "      <th>sample_0175</th>\n",
       "      <th>sample_0176</th>\n",
       "      <th>sample_0177</th>\n",
       "      <th>sample_0178</th>\n",
       "      <th>sample_0179</th>\n",
       "      <th>sample_0180</th>\n",
       "    </tr>\n",
       "  </thead>\n",
       "  <tbody>\n",
       "    <tr>\n",
       "      <th>0</th>\n",
       "      <td>compound_0001</td>\n",
       "      <td>0.793620</td>\n",
       "      <td>0.713684</td>\n",
       "      <td>1.073165</td>\n",
       "      <td>1.074977</td>\n",
       "      <td>0.903153</td>\n",
       "      <td>0.792167</td>\n",
       "      <td>1.195207</td>\n",
       "      <td>1.141416</td>\n",
       "      <td>1.274139</td>\n",
       "      <td>...</td>\n",
       "      <td>1.048767</td>\n",
       "      <td>1.094411</td>\n",
       "      <td>1.086644</td>\n",
       "      <td>1.254065</td>\n",
       "      <td>0.745389</td>\n",
       "      <td>0.542919</td>\n",
       "      <td>0.628734</td>\n",
       "      <td>0.555390</td>\n",
       "      <td>0.590216</td>\n",
       "      <td>0.601484</td>\n",
       "    </tr>\n",
       "    <tr>\n",
       "      <th>1</th>\n",
       "      <td>compound_0002</td>\n",
       "      <td>0.743363</td>\n",
       "      <td>0.762673</td>\n",
       "      <td>1.184788</td>\n",
       "      <td>0.959059</td>\n",
       "      <td>0.442795</td>\n",
       "      <td>0.685413</td>\n",
       "      <td>1.683612</td>\n",
       "      <td>1.412755</td>\n",
       "      <td>1.128855</td>\n",
       "      <td>...</td>\n",
       "      <td>1.191599</td>\n",
       "      <td>1.161694</td>\n",
       "      <td>0.903035</td>\n",
       "      <td>0.842545</td>\n",
       "      <td>0.561035</td>\n",
       "      <td>0.553931</td>\n",
       "      <td>0.701192</td>\n",
       "      <td>0.576311</td>\n",
       "      <td>0.830575</td>\n",
       "      <td>0.649295</td>\n",
       "    </tr>\n",
       "    <tr>\n",
       "      <th>2</th>\n",
       "      <td>compound_0003</td>\n",
       "      <td>0.360069</td>\n",
       "      <td>0.716626</td>\n",
       "      <td>0.448938</td>\n",
       "      <td>0.695333</td>\n",
       "      <td>0.444998</td>\n",
       "      <td>0.935179</td>\n",
       "      <td>1.444924</td>\n",
       "      <td>1.947233</td>\n",
       "      <td>1.182661</td>\n",
       "      <td>...</td>\n",
       "      <td>0.673173</td>\n",
       "      <td>1.030949</td>\n",
       "      <td>0.888554</td>\n",
       "      <td>1.156123</td>\n",
       "      <td>1.901547</td>\n",
       "      <td>2.349338</td>\n",
       "      <td>1.245951</td>\n",
       "      <td>2.362415</td>\n",
       "      <td>1.660026</td>\n",
       "      <td>2.050633</td>\n",
       "    </tr>\n",
       "    <tr>\n",
       "      <th>3</th>\n",
       "      <td>compound_0004</td>\n",
       "      <td>0.557168</td>\n",
       "      <td>0.739390</td>\n",
       "      <td>0.609914</td>\n",
       "      <td>0.699223</td>\n",
       "      <td>0.668752</td>\n",
       "      <td>0.899727</td>\n",
       "      <td>1.476924</td>\n",
       "      <td>1.460609</td>\n",
       "      <td>1.116283</td>\n",
       "      <td>...</td>\n",
       "      <td>0.882301</td>\n",
       "      <td>1.007380</td>\n",
       "      <td>0.817482</td>\n",
       "      <td>0.868670</td>\n",
       "      <td>1.164877</td>\n",
       "      <td>0.936585</td>\n",
       "      <td>1.079366</td>\n",
       "      <td>1.029833</td>\n",
       "      <td>0.937246</td>\n",
       "      <td>1.468545</td>\n",
       "    </tr>\n",
       "    <tr>\n",
       "      <th>4</th>\n",
       "      <td>compound_0005</td>\n",
       "      <td>0.886952</td>\n",
       "      <td>0.921852</td>\n",
       "      <td>0.861769</td>\n",
       "      <td>0.893694</td>\n",
       "      <td>0.917792</td>\n",
       "      <td>0.979249</td>\n",
       "      <td>1.648081</td>\n",
       "      <td>1.751745</td>\n",
       "      <td>1.266781</td>\n",
       "      <td>...</td>\n",
       "      <td>1.278643</td>\n",
       "      <td>1.313778</td>\n",
       "      <td>1.210348</td>\n",
       "      <td>1.292895</td>\n",
       "      <td>1.224971</td>\n",
       "      <td>0.965326</td>\n",
       "      <td>1.014223</td>\n",
       "      <td>0.869503</td>\n",
       "      <td>1.008572</td>\n",
       "      <td>1.196692</td>\n",
       "    </tr>\n",
       "  </tbody>\n",
       "</table>\n",
       "<p>5 rows × 181 columns</p>\n",
       "</div>"
      ],
      "text/plain": [
       "     compound_id  sample_0001  sample_0002  sample_0003  sample_0004  \\\n",
       "0  compound_0001     0.793620     0.713684     1.073165     1.074977   \n",
       "1  compound_0002     0.743363     0.762673     1.184788     0.959059   \n",
       "2  compound_0003     0.360069     0.716626     0.448938     0.695333   \n",
       "3  compound_0004     0.557168     0.739390     0.609914     0.699223   \n",
       "4  compound_0005     0.886952     0.921852     0.861769     0.893694   \n",
       "\n",
       "   sample_0005  sample_0006  sample_0007  sample_0008  sample_0009  ...  \\\n",
       "0     0.903153     0.792167     1.195207     1.141416     1.274139  ...   \n",
       "1     0.442795     0.685413     1.683612     1.412755     1.128855  ...   \n",
       "2     0.444998     0.935179     1.444924     1.947233     1.182661  ...   \n",
       "3     0.668752     0.899727     1.476924     1.460609     1.116283  ...   \n",
       "4     0.917792     0.979249     1.648081     1.751745     1.266781  ...   \n",
       "\n",
       "   sample_0171  sample_0172  sample_0173  sample_0174  sample_0175  \\\n",
       "0     1.048767     1.094411     1.086644     1.254065     0.745389   \n",
       "1     1.191599     1.161694     0.903035     0.842545     0.561035   \n",
       "2     0.673173     1.030949     0.888554     1.156123     1.901547   \n",
       "3     0.882301     1.007380     0.817482     0.868670     1.164877   \n",
       "4     1.278643     1.313778     1.210348     1.292895     1.224971   \n",
       "\n",
       "   sample_0176  sample_0177  sample_0178  sample_0179  sample_0180  \n",
       "0     0.542919     0.628734     0.555390     0.590216     0.601484  \n",
       "1     0.553931     0.701192     0.576311     0.830575     0.649295  \n",
       "2     2.349338     1.245951     2.362415     1.660026     2.050633  \n",
       "3     0.936585     1.079366     1.029833     0.937246     1.468545  \n",
       "4     0.965326     1.014223     0.869503     1.008572     1.196692  \n",
       "\n",
       "[5 rows x 181 columns]"
      ]
     },
     "execution_count": 7,
     "metadata": {},
     "output_type": "execute_result"
    }
   ],
   "source": [
    "### 2.2 Dataset Hoja2 --> Principal de metabolitos encontrados\n",
    "#Dataset principal de metabolitos encontrados \n",
    "data_matrix = pd.read_excel(r\"C:\\Users\\Momentum\\Desktop\\Claudia\\Cursos\\Bootcamp_Data_e_IA\\Proyecto_EDA\\study_data.xlsx\", sheet_name=\"data_matrix\")\n",
    "data_matrix.head()"
   ]
  },
  {
   "cell_type": "code",
   "execution_count": 8,
   "id": "332b3ff7",
   "metadata": {},
   "outputs": [
    {
     "data": {
      "text/html": [
       "<div>\n",
       "<style scoped>\n",
       "    .dataframe tbody tr th:only-of-type {\n",
       "        vertical-align: middle;\n",
       "    }\n",
       "\n",
       "    .dataframe tbody tr th {\n",
       "        vertical-align: top;\n",
       "    }\n",
       "\n",
       "    .dataframe thead th {\n",
       "        text-align: right;\n",
       "    }\n",
       "</style>\n",
       "<table border=\"1\" class=\"dataframe\">\n",
       "  <thead>\n",
       "    <tr style=\"text-align: right;\">\n",
       "      <th></th>\n",
       "      <th>compound_id</th>\n",
       "      <th>sample_0001</th>\n",
       "      <th>sample_0002</th>\n",
       "      <th>sample_0003</th>\n",
       "      <th>sample_0004</th>\n",
       "      <th>sample_0005</th>\n",
       "      <th>sample_0006</th>\n",
       "      <th>sample_0007</th>\n",
       "      <th>sample_0008</th>\n",
       "      <th>sample_0009</th>\n",
       "      <th>...</th>\n",
       "      <th>sample_0171</th>\n",
       "      <th>sample_0172</th>\n",
       "      <th>sample_0173</th>\n",
       "      <th>sample_0174</th>\n",
       "      <th>sample_0175</th>\n",
       "      <th>sample_0176</th>\n",
       "      <th>sample_0177</th>\n",
       "      <th>sample_0178</th>\n",
       "      <th>sample_0179</th>\n",
       "      <th>sample_0180</th>\n",
       "    </tr>\n",
       "  </thead>\n",
       "  <tbody>\n",
       "    <tr>\n",
       "      <th>1481</th>\n",
       "      <td>compound_1482</td>\n",
       "      <td>0.690831</td>\n",
       "      <td>0.917702</td>\n",
       "      <td>0.736977</td>\n",
       "      <td>0.750908</td>\n",
       "      <td>0.506770</td>\n",
       "      <td>0.655764</td>\n",
       "      <td>1.532433</td>\n",
       "      <td>1.592221</td>\n",
       "      <td>1.506956</td>\n",
       "      <td>...</td>\n",
       "      <td>1.494171</td>\n",
       "      <td>1.356426</td>\n",
       "      <td>1.364765</td>\n",
       "      <td>1.270024</td>\n",
       "      <td>1.068146</td>\n",
       "      <td>0.908436</td>\n",
       "      <td>0.842580</td>\n",
       "      <td>0.822898</td>\n",
       "      <td>1.028227</td>\n",
       "      <td>0.941312</td>\n",
       "    </tr>\n",
       "    <tr>\n",
       "      <th>1482</th>\n",
       "      <td>compound_1483</td>\n",
       "      <td>0.865679</td>\n",
       "      <td>0.371899</td>\n",
       "      <td>0.919946</td>\n",
       "      <td>0.392298</td>\n",
       "      <td>0.651075</td>\n",
       "      <td>0.631727</td>\n",
       "      <td>1.454727</td>\n",
       "      <td>0.783603</td>\n",
       "      <td>1.684733</td>\n",
       "      <td>...</td>\n",
       "      <td>1.542909</td>\n",
       "      <td>0.911678</td>\n",
       "      <td>1.014928</td>\n",
       "      <td>0.916838</td>\n",
       "      <td>1.313251</td>\n",
       "      <td>0.788290</td>\n",
       "      <td>1.243000</td>\n",
       "      <td>0.200175</td>\n",
       "      <td>0.774527</td>\n",
       "      <td>1.234610</td>\n",
       "    </tr>\n",
       "    <tr>\n",
       "      <th>1483</th>\n",
       "      <td>compound_1484</td>\n",
       "      <td>0.254363</td>\n",
       "      <td>0.244953</td>\n",
       "      <td>0.209242</td>\n",
       "      <td>0.211141</td>\n",
       "      <td>0.679437</td>\n",
       "      <td>0.776275</td>\n",
       "      <td>0.016702</td>\n",
       "      <td>0.175735</td>\n",
       "      <td>0.703014</td>\n",
       "      <td>...</td>\n",
       "      <td>2.026509</td>\n",
       "      <td>1.929681</td>\n",
       "      <td>2.957102</td>\n",
       "      <td>2.175087</td>\n",
       "      <td>1.603923</td>\n",
       "      <td>0.977343</td>\n",
       "      <td>0.815561</td>\n",
       "      <td>0.596484</td>\n",
       "      <td>3.107715</td>\n",
       "      <td>3.388902</td>\n",
       "    </tr>\n",
       "    <tr>\n",
       "      <th>1484</th>\n",
       "      <td>compound_1485</td>\n",
       "      <td>1.369263</td>\n",
       "      <td>1.417962</td>\n",
       "      <td>1.028140</td>\n",
       "      <td>1.126669</td>\n",
       "      <td>0.936695</td>\n",
       "      <td>0.941886</td>\n",
       "      <td>1.353740</td>\n",
       "      <td>1.180336</td>\n",
       "      <td>1.073465</td>\n",
       "      <td>...</td>\n",
       "      <td>0.817718</td>\n",
       "      <td>0.841181</td>\n",
       "      <td>1.009938</td>\n",
       "      <td>1.036077</td>\n",
       "      <td>0.969826</td>\n",
       "      <td>1.131925</td>\n",
       "      <td>1.041996</td>\n",
       "      <td>1.050490</td>\n",
       "      <td>0.967872</td>\n",
       "      <td>0.958265</td>\n",
       "    </tr>\n",
       "    <tr>\n",
       "      <th>1485</th>\n",
       "      <td>compound_1486</td>\n",
       "      <td>0.898327</td>\n",
       "      <td>1.023614</td>\n",
       "      <td>1.718457</td>\n",
       "      <td>2.942013</td>\n",
       "      <td>0.993321</td>\n",
       "      <td>1.099359</td>\n",
       "      <td>1.151924</td>\n",
       "      <td>1.073034</td>\n",
       "      <td>1.118541</td>\n",
       "      <td>...</td>\n",
       "      <td>0.908398</td>\n",
       "      <td>1.006679</td>\n",
       "      <td>0.911629</td>\n",
       "      <td>1.204362</td>\n",
       "      <td>0.869234</td>\n",
       "      <td>0.896456</td>\n",
       "      <td>0.743896</td>\n",
       "      <td>0.731513</td>\n",
       "      <td>0.618127</td>\n",
       "      <td>0.744399</td>\n",
       "    </tr>\n",
       "  </tbody>\n",
       "</table>\n",
       "<p>5 rows × 181 columns</p>\n",
       "</div>"
      ],
      "text/plain": [
       "        compound_id  sample_0001  sample_0002  sample_0003  sample_0004  \\\n",
       "1481  compound_1482     0.690831     0.917702     0.736977     0.750908   \n",
       "1482  compound_1483     0.865679     0.371899     0.919946     0.392298   \n",
       "1483  compound_1484     0.254363     0.244953     0.209242     0.211141   \n",
       "1484  compound_1485     1.369263     1.417962     1.028140     1.126669   \n",
       "1485  compound_1486     0.898327     1.023614     1.718457     2.942013   \n",
       "\n",
       "      sample_0005  sample_0006  sample_0007  sample_0008  sample_0009  ...  \\\n",
       "1481     0.506770     0.655764     1.532433     1.592221     1.506956  ...   \n",
       "1482     0.651075     0.631727     1.454727     0.783603     1.684733  ...   \n",
       "1483     0.679437     0.776275     0.016702     0.175735     0.703014  ...   \n",
       "1484     0.936695     0.941886     1.353740     1.180336     1.073465  ...   \n",
       "1485     0.993321     1.099359     1.151924     1.073034     1.118541  ...   \n",
       "\n",
       "      sample_0171  sample_0172  sample_0173  sample_0174  sample_0175  \\\n",
       "1481     1.494171     1.356426     1.364765     1.270024     1.068146   \n",
       "1482     1.542909     0.911678     1.014928     0.916838     1.313251   \n",
       "1483     2.026509     1.929681     2.957102     2.175087     1.603923   \n",
       "1484     0.817718     0.841181     1.009938     1.036077     0.969826   \n",
       "1485     0.908398     1.006679     0.911629     1.204362     0.869234   \n",
       "\n",
       "      sample_0176  sample_0177  sample_0178  sample_0179  sample_0180  \n",
       "1481     0.908436     0.842580     0.822898     1.028227     0.941312  \n",
       "1482     0.788290     1.243000     0.200175     0.774527     1.234610  \n",
       "1483     0.977343     0.815561     0.596484     3.107715     3.388902  \n",
       "1484     1.131925     1.041996     1.050490     0.967872     0.958265  \n",
       "1485     0.896456     0.743896     0.731513     0.618127     0.744399  \n",
       "\n",
       "[5 rows x 181 columns]"
      ]
     },
     "execution_count": 8,
     "metadata": {},
     "output_type": "execute_result"
    }
   ],
   "source": [
    "data_matrix.tail()"
   ]
  },
  {
   "cell_type": "code",
   "execution_count": 9,
   "id": "aa8c5832",
   "metadata": {},
   "outputs": [
    {
     "name": "stdout",
     "output_type": "stream",
     "text": [
      "<class 'pandas.core.frame.DataFrame'>\n",
      "RangeIndex: 1486 entries, 0 to 1485\n",
      "Columns: 181 entries, compound_id to sample_0180\n",
      "dtypes: float64(180), object(1)\n",
      "memory usage: 2.1+ MB\n"
     ]
    }
   ],
   "source": [
    "#información básica del dataset, tipos de datos y columnas\n",
    "data_matrix.info()"
   ]
  },
  {
   "cell_type": "markdown",
   "id": "04ea780e",
   "metadata": {},
   "source": [
    "***Features***\n",
    "\n",
    "    -compound_id: \n",
    "    -Sample_n:"
   ]
  },
  {
   "cell_type": "code",
   "execution_count": 10,
   "id": "d23bfa2b",
   "metadata": {},
   "outputs": [
    {
     "name": "stdout",
     "output_type": "stream",
     "text": [
      "El dataset tiene 1486 Filas\n",
      "El dataset tiene 181 Columnas\n"
     ]
    }
   ],
   "source": [
    "# Información del tamaño del dataset\n",
    "print(\"El dataset tiene {0} Filas\".format(data_matrix.shape[0]))\n",
    "print(\"El dataset tiene {0} Columnas\".format(data_matrix.shape[1]))"
   ]
  },
  {
   "cell_type": "code",
   "execution_count": 11,
   "id": "9d730d3a",
   "metadata": {},
   "outputs": [
    {
     "data": {
      "text/html": [
       "<div>\n",
       "<style scoped>\n",
       "    .dataframe tbody tr th:only-of-type {\n",
       "        vertical-align: middle;\n",
       "    }\n",
       "\n",
       "    .dataframe tbody tr th {\n",
       "        vertical-align: top;\n",
       "    }\n",
       "\n",
       "    .dataframe thead th {\n",
       "        text-align: right;\n",
       "    }\n",
       "</style>\n",
       "<table border=\"1\" class=\"dataframe\">\n",
       "  <thead>\n",
       "    <tr style=\"text-align: right;\">\n",
       "      <th></th>\n",
       "      <th>compound_id</th>\n",
       "      <th>sample_0001</th>\n",
       "      <th>sample_0002</th>\n",
       "      <th>sample_0003</th>\n",
       "      <th>sample_0004</th>\n",
       "      <th>sample_0005</th>\n",
       "      <th>sample_0006</th>\n",
       "      <th>sample_0007</th>\n",
       "      <th>sample_0008</th>\n",
       "      <th>sample_0009</th>\n",
       "      <th>...</th>\n",
       "      <th>sample_0171</th>\n",
       "      <th>sample_0172</th>\n",
       "      <th>sample_0173</th>\n",
       "      <th>sample_0174</th>\n",
       "      <th>sample_0175</th>\n",
       "      <th>sample_0176</th>\n",
       "      <th>sample_0177</th>\n",
       "      <th>sample_0178</th>\n",
       "      <th>sample_0179</th>\n",
       "      <th>sample_0180</th>\n",
       "    </tr>\n",
       "  </thead>\n",
       "  <tbody>\n",
       "    <tr>\n",
       "      <th>0</th>\n",
       "      <td>False</td>\n",
       "      <td>False</td>\n",
       "      <td>False</td>\n",
       "      <td>False</td>\n",
       "      <td>False</td>\n",
       "      <td>False</td>\n",
       "      <td>False</td>\n",
       "      <td>False</td>\n",
       "      <td>False</td>\n",
       "      <td>False</td>\n",
       "      <td>...</td>\n",
       "      <td>False</td>\n",
       "      <td>False</td>\n",
       "      <td>False</td>\n",
       "      <td>False</td>\n",
       "      <td>False</td>\n",
       "      <td>False</td>\n",
       "      <td>False</td>\n",
       "      <td>False</td>\n",
       "      <td>False</td>\n",
       "      <td>False</td>\n",
       "    </tr>\n",
       "    <tr>\n",
       "      <th>1</th>\n",
       "      <td>False</td>\n",
       "      <td>False</td>\n",
       "      <td>False</td>\n",
       "      <td>False</td>\n",
       "      <td>False</td>\n",
       "      <td>False</td>\n",
       "      <td>False</td>\n",
       "      <td>False</td>\n",
       "      <td>False</td>\n",
       "      <td>False</td>\n",
       "      <td>...</td>\n",
       "      <td>False</td>\n",
       "      <td>False</td>\n",
       "      <td>False</td>\n",
       "      <td>False</td>\n",
       "      <td>False</td>\n",
       "      <td>False</td>\n",
       "      <td>False</td>\n",
       "      <td>False</td>\n",
       "      <td>False</td>\n",
       "      <td>False</td>\n",
       "    </tr>\n",
       "    <tr>\n",
       "      <th>2</th>\n",
       "      <td>False</td>\n",
       "      <td>False</td>\n",
       "      <td>False</td>\n",
       "      <td>False</td>\n",
       "      <td>False</td>\n",
       "      <td>False</td>\n",
       "      <td>False</td>\n",
       "      <td>False</td>\n",
       "      <td>False</td>\n",
       "      <td>False</td>\n",
       "      <td>...</td>\n",
       "      <td>False</td>\n",
       "      <td>False</td>\n",
       "      <td>False</td>\n",
       "      <td>False</td>\n",
       "      <td>False</td>\n",
       "      <td>False</td>\n",
       "      <td>False</td>\n",
       "      <td>False</td>\n",
       "      <td>False</td>\n",
       "      <td>False</td>\n",
       "    </tr>\n",
       "    <tr>\n",
       "      <th>3</th>\n",
       "      <td>False</td>\n",
       "      <td>False</td>\n",
       "      <td>False</td>\n",
       "      <td>False</td>\n",
       "      <td>False</td>\n",
       "      <td>False</td>\n",
       "      <td>False</td>\n",
       "      <td>False</td>\n",
       "      <td>False</td>\n",
       "      <td>False</td>\n",
       "      <td>...</td>\n",
       "      <td>False</td>\n",
       "      <td>False</td>\n",
       "      <td>False</td>\n",
       "      <td>False</td>\n",
       "      <td>False</td>\n",
       "      <td>False</td>\n",
       "      <td>False</td>\n",
       "      <td>False</td>\n",
       "      <td>False</td>\n",
       "      <td>False</td>\n",
       "    </tr>\n",
       "    <tr>\n",
       "      <th>4</th>\n",
       "      <td>False</td>\n",
       "      <td>False</td>\n",
       "      <td>False</td>\n",
       "      <td>False</td>\n",
       "      <td>False</td>\n",
       "      <td>False</td>\n",
       "      <td>False</td>\n",
       "      <td>False</td>\n",
       "      <td>False</td>\n",
       "      <td>False</td>\n",
       "      <td>...</td>\n",
       "      <td>False</td>\n",
       "      <td>False</td>\n",
       "      <td>False</td>\n",
       "      <td>False</td>\n",
       "      <td>False</td>\n",
       "      <td>False</td>\n",
       "      <td>False</td>\n",
       "      <td>False</td>\n",
       "      <td>False</td>\n",
       "      <td>False</td>\n",
       "    </tr>\n",
       "    <tr>\n",
       "      <th>...</th>\n",
       "      <td>...</td>\n",
       "      <td>...</td>\n",
       "      <td>...</td>\n",
       "      <td>...</td>\n",
       "      <td>...</td>\n",
       "      <td>...</td>\n",
       "      <td>...</td>\n",
       "      <td>...</td>\n",
       "      <td>...</td>\n",
       "      <td>...</td>\n",
       "      <td>...</td>\n",
       "      <td>...</td>\n",
       "      <td>...</td>\n",
       "      <td>...</td>\n",
       "      <td>...</td>\n",
       "      <td>...</td>\n",
       "      <td>...</td>\n",
       "      <td>...</td>\n",
       "      <td>...</td>\n",
       "      <td>...</td>\n",
       "      <td>...</td>\n",
       "    </tr>\n",
       "    <tr>\n",
       "      <th>1481</th>\n",
       "      <td>False</td>\n",
       "      <td>False</td>\n",
       "      <td>False</td>\n",
       "      <td>False</td>\n",
       "      <td>False</td>\n",
       "      <td>False</td>\n",
       "      <td>False</td>\n",
       "      <td>False</td>\n",
       "      <td>False</td>\n",
       "      <td>False</td>\n",
       "      <td>...</td>\n",
       "      <td>False</td>\n",
       "      <td>False</td>\n",
       "      <td>False</td>\n",
       "      <td>False</td>\n",
       "      <td>False</td>\n",
       "      <td>False</td>\n",
       "      <td>False</td>\n",
       "      <td>False</td>\n",
       "      <td>False</td>\n",
       "      <td>False</td>\n",
       "    </tr>\n",
       "    <tr>\n",
       "      <th>1482</th>\n",
       "      <td>False</td>\n",
       "      <td>False</td>\n",
       "      <td>False</td>\n",
       "      <td>False</td>\n",
       "      <td>False</td>\n",
       "      <td>False</td>\n",
       "      <td>False</td>\n",
       "      <td>False</td>\n",
       "      <td>False</td>\n",
       "      <td>False</td>\n",
       "      <td>...</td>\n",
       "      <td>False</td>\n",
       "      <td>False</td>\n",
       "      <td>False</td>\n",
       "      <td>False</td>\n",
       "      <td>False</td>\n",
       "      <td>False</td>\n",
       "      <td>False</td>\n",
       "      <td>False</td>\n",
       "      <td>False</td>\n",
       "      <td>False</td>\n",
       "    </tr>\n",
       "    <tr>\n",
       "      <th>1483</th>\n",
       "      <td>False</td>\n",
       "      <td>False</td>\n",
       "      <td>False</td>\n",
       "      <td>False</td>\n",
       "      <td>False</td>\n",
       "      <td>False</td>\n",
       "      <td>False</td>\n",
       "      <td>False</td>\n",
       "      <td>False</td>\n",
       "      <td>False</td>\n",
       "      <td>...</td>\n",
       "      <td>False</td>\n",
       "      <td>False</td>\n",
       "      <td>False</td>\n",
       "      <td>False</td>\n",
       "      <td>False</td>\n",
       "      <td>False</td>\n",
       "      <td>False</td>\n",
       "      <td>False</td>\n",
       "      <td>False</td>\n",
       "      <td>False</td>\n",
       "    </tr>\n",
       "    <tr>\n",
       "      <th>1484</th>\n",
       "      <td>False</td>\n",
       "      <td>False</td>\n",
       "      <td>False</td>\n",
       "      <td>False</td>\n",
       "      <td>False</td>\n",
       "      <td>False</td>\n",
       "      <td>False</td>\n",
       "      <td>False</td>\n",
       "      <td>False</td>\n",
       "      <td>False</td>\n",
       "      <td>...</td>\n",
       "      <td>False</td>\n",
       "      <td>False</td>\n",
       "      <td>False</td>\n",
       "      <td>False</td>\n",
       "      <td>False</td>\n",
       "      <td>False</td>\n",
       "      <td>False</td>\n",
       "      <td>False</td>\n",
       "      <td>False</td>\n",
       "      <td>False</td>\n",
       "    </tr>\n",
       "    <tr>\n",
       "      <th>1485</th>\n",
       "      <td>False</td>\n",
       "      <td>False</td>\n",
       "      <td>False</td>\n",
       "      <td>False</td>\n",
       "      <td>False</td>\n",
       "      <td>False</td>\n",
       "      <td>False</td>\n",
       "      <td>False</td>\n",
       "      <td>False</td>\n",
       "      <td>False</td>\n",
       "      <td>...</td>\n",
       "      <td>False</td>\n",
       "      <td>False</td>\n",
       "      <td>False</td>\n",
       "      <td>False</td>\n",
       "      <td>False</td>\n",
       "      <td>False</td>\n",
       "      <td>False</td>\n",
       "      <td>False</td>\n",
       "      <td>False</td>\n",
       "      <td>False</td>\n",
       "    </tr>\n",
       "  </tbody>\n",
       "</table>\n",
       "<p>1486 rows × 181 columns</p>\n",
       "</div>"
      ],
      "text/plain": [
       "      compound_id  sample_0001  sample_0002  sample_0003  sample_0004  \\\n",
       "0           False        False        False        False        False   \n",
       "1           False        False        False        False        False   \n",
       "2           False        False        False        False        False   \n",
       "3           False        False        False        False        False   \n",
       "4           False        False        False        False        False   \n",
       "...           ...          ...          ...          ...          ...   \n",
       "1481        False        False        False        False        False   \n",
       "1482        False        False        False        False        False   \n",
       "1483        False        False        False        False        False   \n",
       "1484        False        False        False        False        False   \n",
       "1485        False        False        False        False        False   \n",
       "\n",
       "      sample_0005  sample_0006  sample_0007  sample_0008  sample_0009  ...  \\\n",
       "0           False        False        False        False        False  ...   \n",
       "1           False        False        False        False        False  ...   \n",
       "2           False        False        False        False        False  ...   \n",
       "3           False        False        False        False        False  ...   \n",
       "4           False        False        False        False        False  ...   \n",
       "...           ...          ...          ...          ...          ...  ...   \n",
       "1481        False        False        False        False        False  ...   \n",
       "1482        False        False        False        False        False  ...   \n",
       "1483        False        False        False        False        False  ...   \n",
       "1484        False        False        False        False        False  ...   \n",
       "1485        False        False        False        False        False  ...   \n",
       "\n",
       "      sample_0171  sample_0172  sample_0173  sample_0174  sample_0175  \\\n",
       "0           False        False        False        False        False   \n",
       "1           False        False        False        False        False   \n",
       "2           False        False        False        False        False   \n",
       "3           False        False        False        False        False   \n",
       "4           False        False        False        False        False   \n",
       "...           ...          ...          ...          ...          ...   \n",
       "1481        False        False        False        False        False   \n",
       "1482        False        False        False        False        False   \n",
       "1483        False        False        False        False        False   \n",
       "1484        False        False        False        False        False   \n",
       "1485        False        False        False        False        False   \n",
       "\n",
       "      sample_0176  sample_0177  sample_0178  sample_0179  sample_0180  \n",
       "0           False        False        False        False        False  \n",
       "1           False        False        False        False        False  \n",
       "2           False        False        False        False        False  \n",
       "3           False        False        False        False        False  \n",
       "4           False        False        False        False        False  \n",
       "...           ...          ...          ...          ...          ...  \n",
       "1481        False        False        False        False        False  \n",
       "1482        False        False        False        False        False  \n",
       "1483        False        False        False        False        False  \n",
       "1484        False        False        False        False        False  \n",
       "1485        False        False        False        False        False  \n",
       "\n",
       "[1486 rows x 181 columns]"
      ]
     },
     "execution_count": 11,
     "metadata": {},
     "output_type": "execute_result"
    }
   ],
   "source": [
    "#Revisar valores nulos\n",
    "data_matrix.isna()"
   ]
  },
  {
   "cell_type": "code",
   "execution_count": 12,
   "id": "34d2671e",
   "metadata": {},
   "outputs": [
    {
     "data": {
      "text/plain": [
       "compound_id    0\n",
       "sample_0001    0\n",
       "sample_0002    0\n",
       "sample_0003    0\n",
       "sample_0004    0\n",
       "              ..\n",
       "sample_0176    0\n",
       "sample_0177    0\n",
       "sample_0178    0\n",
       "sample_0179    0\n",
       "sample_0180    0\n",
       "Length: 181, dtype: int64"
      ]
     },
     "execution_count": 12,
     "metadata": {},
     "output_type": "execute_result"
    }
   ],
   "source": [
    "np.sum(data_matrix.isna())"
   ]
  },
  {
   "cell_type": "code",
   "execution_count": 13,
   "id": "04124a61",
   "metadata": {},
   "outputs": [
    {
     "data": {
      "text/html": [
       "<div>\n",
       "<style scoped>\n",
       "    .dataframe tbody tr th:only-of-type {\n",
       "        vertical-align: middle;\n",
       "    }\n",
       "\n",
       "    .dataframe tbody tr th {\n",
       "        vertical-align: top;\n",
       "    }\n",
       "\n",
       "    .dataframe thead th {\n",
       "        text-align: right;\n",
       "    }\n",
       "</style>\n",
       "<table border=\"1\" class=\"dataframe\">\n",
       "  <thead>\n",
       "    <tr style=\"text-align: right;\">\n",
       "      <th></th>\n",
       "      <th>compound_id</th>\n",
       "      <th>PATHWAY_SORTORDER</th>\n",
       "      <th>BIOCHEMICAL</th>\n",
       "      <th>SUPER_PATHWAY</th>\n",
       "      <th>SUB_PATHWAY</th>\n",
       "      <th>COMP_ID</th>\n",
       "      <th>PLATFORM</th>\n",
       "      <th>RI</th>\n",
       "      <th>MASS</th>\n",
       "      <th>PUBCHEM</th>\n",
       "      <th>KEGG</th>\n",
       "      <th>HMDB_ID</th>\n",
       "    </tr>\n",
       "  </thead>\n",
       "  <tbody>\n",
       "    <tr>\n",
       "      <th>0</th>\n",
       "      <td>compound_0001</td>\n",
       "      <td>1</td>\n",
       "      <td>glycine</td>\n",
       "      <td>Amino Acid</td>\n",
       "      <td>Glycine, Serine and Threonine Metabolism</td>\n",
       "      <td>58</td>\n",
       "      <td>LC/MS Pos Early</td>\n",
       "      <td>1375</td>\n",
       "      <td>76.0393</td>\n",
       "      <td>750</td>\n",
       "      <td>C00037</td>\n",
       "      <td>HMDB00123</td>\n",
       "    </tr>\n",
       "    <tr>\n",
       "      <th>1</th>\n",
       "      <td>compound_0002</td>\n",
       "      <td>2</td>\n",
       "      <td>N-acetylglycine</td>\n",
       "      <td>Amino Acid</td>\n",
       "      <td>Glycine, Serine and Threonine Metabolism</td>\n",
       "      <td>27710</td>\n",
       "      <td>LC/MS Neg</td>\n",
       "      <td>731</td>\n",
       "      <td>116.0353</td>\n",
       "      <td>10972</td>\n",
       "      <td>NaN</td>\n",
       "      <td>HMDB00532</td>\n",
       "    </tr>\n",
       "    <tr>\n",
       "      <th>2</th>\n",
       "      <td>compound_0003</td>\n",
       "      <td>4</td>\n",
       "      <td>sarcosine</td>\n",
       "      <td>Amino Acid</td>\n",
       "      <td>Glycine, Serine and Threonine Metabolism</td>\n",
       "      <td>1516</td>\n",
       "      <td>LC/MS Pos Early</td>\n",
       "      <td>1280</td>\n",
       "      <td>90.055</td>\n",
       "      <td>1088</td>\n",
       "      <td>C00213</td>\n",
       "      <td>HMDB00271</td>\n",
       "    </tr>\n",
       "    <tr>\n",
       "      <th>3</th>\n",
       "      <td>compound_0004</td>\n",
       "      <td>5</td>\n",
       "      <td>dimethylglycine</td>\n",
       "      <td>Amino Acid</td>\n",
       "      <td>Glycine, Serine and Threonine Metabolism</td>\n",
       "      <td>5086</td>\n",
       "      <td>LC/MS Pos Early</td>\n",
       "      <td>1104</td>\n",
       "      <td>104.0706</td>\n",
       "      <td>673</td>\n",
       "      <td>C01026</td>\n",
       "      <td>HMDB00092</td>\n",
       "    </tr>\n",
       "    <tr>\n",
       "      <th>4</th>\n",
       "      <td>compound_0005</td>\n",
       "      <td>6</td>\n",
       "      <td>betaine</td>\n",
       "      <td>Amino Acid</td>\n",
       "      <td>Glycine, Serine and Threonine Metabolism</td>\n",
       "      <td>3141</td>\n",
       "      <td>LC/MS Pos Early</td>\n",
       "      <td>1064</td>\n",
       "      <td>118.0863</td>\n",
       "      <td>247</td>\n",
       "      <td>C00719</td>\n",
       "      <td>HMDB00043</td>\n",
       "    </tr>\n",
       "  </tbody>\n",
       "</table>\n",
       "</div>"
      ],
      "text/plain": [
       "     compound_id PATHWAY_SORTORDER      BIOCHEMICAL SUPER_PATHWAY  \\\n",
       "0  compound_0001                 1          glycine    Amino Acid   \n",
       "1  compound_0002                 2  N-acetylglycine    Amino Acid   \n",
       "2  compound_0003                 4        sarcosine    Amino Acid   \n",
       "3  compound_0004                 5  dimethylglycine    Amino Acid   \n",
       "4  compound_0005                 6          betaine    Amino Acid   \n",
       "\n",
       "                                SUB_PATHWAY  COMP_ID         PLATFORM    RI  \\\n",
       "0  Glycine, Serine and Threonine Metabolism       58  LC/MS Pos Early  1375   \n",
       "1  Glycine, Serine and Threonine Metabolism    27710        LC/MS Neg   731   \n",
       "2  Glycine, Serine and Threonine Metabolism     1516  LC/MS Pos Early  1280   \n",
       "3  Glycine, Serine and Threonine Metabolism     5086  LC/MS Pos Early  1104   \n",
       "4  Glycine, Serine and Threonine Metabolism     3141  LC/MS Pos Early  1064   \n",
       "\n",
       "       MASS PUBCHEM    KEGG    HMDB_ID  \n",
       "0   76.0393     750  C00037  HMDB00123  \n",
       "1  116.0353   10972     NaN  HMDB00532  \n",
       "2    90.055    1088  C00213  HMDB00271  \n",
       "3  104.0706     673  C01026  HMDB00092  \n",
       "4  118.0863     247  C00719  HMDB00043  "
      ]
     },
     "execution_count": 13,
     "metadata": {},
     "output_type": "execute_result"
    }
   ],
   "source": [
    "### 2.3 Dataset Hoja 3   -----> Información identificacion/clase de los compuestos\n",
    "#Dataset información identificación/clase de los compuestos \n",
    "data_dictionary = pd.read_excel(r\"C:\\Users\\Momentum\\Desktop\\Claudia\\Cursos\\Bootcamp_Data_e_IA\\Proyecto_EDA\\study_data.xlsx\", sheet_name=\"data_dictionary\")\n",
    "data_dictionary.head()"
   ]
  },
  {
   "cell_type": "code",
   "execution_count": 14,
   "id": "a374110b",
   "metadata": {},
   "outputs": [
    {
     "data": {
      "text/html": [
       "<div>\n",
       "<style scoped>\n",
       "    .dataframe tbody tr th:only-of-type {\n",
       "        vertical-align: middle;\n",
       "    }\n",
       "\n",
       "    .dataframe tbody tr th {\n",
       "        vertical-align: top;\n",
       "    }\n",
       "\n",
       "    .dataframe thead th {\n",
       "        text-align: right;\n",
       "    }\n",
       "</style>\n",
       "<table border=\"1\" class=\"dataframe\">\n",
       "  <thead>\n",
       "    <tr style=\"text-align: right;\">\n",
       "      <th></th>\n",
       "      <th>compound_id</th>\n",
       "      <th>PATHWAY_SORTORDER</th>\n",
       "      <th>BIOCHEMICAL</th>\n",
       "      <th>SUPER_PATHWAY</th>\n",
       "      <th>SUB_PATHWAY</th>\n",
       "      <th>COMP_ID</th>\n",
       "      <th>PLATFORM</th>\n",
       "      <th>RI</th>\n",
       "      <th>MASS</th>\n",
       "      <th>PUBCHEM</th>\n",
       "      <th>KEGG</th>\n",
       "      <th>HMDB_ID</th>\n",
       "    </tr>\n",
       "  </thead>\n",
       "  <tbody>\n",
       "    <tr>\n",
       "      <th>1481</th>\n",
       "      <td>compound_1482</td>\n",
       "      <td>.</td>\n",
       "      <td>X - 24699</td>\n",
       "      <td>.</td>\n",
       "      <td>.</td>\n",
       "      <td>53127</td>\n",
       "      <td>LC/MS Pos Early</td>\n",
       "      <td>2402.3</td>\n",
       "      <td>241.1544</td>\n",
       "      <td>NaN</td>\n",
       "      <td>NaN</td>\n",
       "      <td>NaN</td>\n",
       "    </tr>\n",
       "    <tr>\n",
       "      <th>1482</th>\n",
       "      <td>compound_1483</td>\n",
       "      <td>.</td>\n",
       "      <td>X - 24728</td>\n",
       "      <td>.</td>\n",
       "      <td>.</td>\n",
       "      <td>53157</td>\n",
       "      <td>LC/MS Pos Early</td>\n",
       "      <td>1431</td>\n",
       "      <td>238.0376</td>\n",
       "      <td>NaN</td>\n",
       "      <td>NaN</td>\n",
       "      <td>NaN</td>\n",
       "    </tr>\n",
       "    <tr>\n",
       "      <th>1483</th>\n",
       "      <td>compound_1484</td>\n",
       "      <td>.</td>\n",
       "      <td>X - 24738</td>\n",
       "      <td>.</td>\n",
       "      <td>.</td>\n",
       "      <td>53214</td>\n",
       "      <td>LC/MS Pos Early</td>\n",
       "      <td>1051</td>\n",
       "      <td>160.0967</td>\n",
       "      <td>NaN</td>\n",
       "      <td>NaN</td>\n",
       "      <td>NaN</td>\n",
       "    </tr>\n",
       "    <tr>\n",
       "      <th>1484</th>\n",
       "      <td>compound_1485</td>\n",
       "      <td>.</td>\n",
       "      <td>X - 24748</td>\n",
       "      <td>.</td>\n",
       "      <td>.</td>\n",
       "      <td>53267</td>\n",
       "      <td>LC/MS Neg</td>\n",
       "      <td>4596</td>\n",
       "      <td>321.1469</td>\n",
       "      <td>NaN</td>\n",
       "      <td>NaN</td>\n",
       "      <td>NaN</td>\n",
       "    </tr>\n",
       "    <tr>\n",
       "      <th>1485</th>\n",
       "      <td>compound_1486</td>\n",
       "      <td>.</td>\n",
       "      <td>X - 24766</td>\n",
       "      <td>.</td>\n",
       "      <td>.</td>\n",
       "      <td>54704</td>\n",
       "      <td>LC/MS Pos Early</td>\n",
       "      <td>2068.7</td>\n",
       "      <td>115.0866</td>\n",
       "      <td>NaN</td>\n",
       "      <td>NaN</td>\n",
       "      <td>NaN</td>\n",
       "    </tr>\n",
       "  </tbody>\n",
       "</table>\n",
       "</div>"
      ],
      "text/plain": [
       "        compound_id PATHWAY_SORTORDER BIOCHEMICAL SUPER_PATHWAY SUB_PATHWAY  \\\n",
       "1481  compound_1482                 .   X - 24699             .           .   \n",
       "1482  compound_1483                 .   X - 24728             .           .   \n",
       "1483  compound_1484                 .   X - 24738             .           .   \n",
       "1484  compound_1485                 .   X - 24748             .           .   \n",
       "1485  compound_1486                 .   X - 24766             .           .   \n",
       "\n",
       "      COMP_ID         PLATFORM      RI      MASS PUBCHEM KEGG HMDB_ID  \n",
       "1481    53127  LC/MS Pos Early  2402.3  241.1544     NaN  NaN     NaN  \n",
       "1482    53157  LC/MS Pos Early    1431  238.0376     NaN  NaN     NaN  \n",
       "1483    53214  LC/MS Pos Early    1051  160.0967     NaN  NaN     NaN  \n",
       "1484    53267        LC/MS Neg    4596  321.1469     NaN  NaN     NaN  \n",
       "1485    54704  LC/MS Pos Early  2068.7  115.0866     NaN  NaN     NaN  "
      ]
     },
     "execution_count": 14,
     "metadata": {},
     "output_type": "execute_result"
    }
   ],
   "source": [
    "data_dictionary.tail()"
   ]
  },
  {
   "cell_type": "code",
   "execution_count": 15,
   "id": "17a4e4bf",
   "metadata": {},
   "outputs": [
    {
     "data": {
      "text/plain": [
       "Index(['compound_id', 'PATHWAY_SORTORDER', 'BIOCHEMICAL', 'SUPER_PATHWAY',\n",
       "       'SUB_PATHWAY', 'COMP_ID', 'PLATFORM', 'RI', 'MASS', 'PUBCHEM', 'KEGG',\n",
       "       'HMDB_ID'],\n",
       "      dtype='object')"
      ]
     },
     "execution_count": 15,
     "metadata": {},
     "output_type": "execute_result"
    }
   ],
   "source": [
    "data_dictionary.columns"
   ]
  },
  {
   "cell_type": "code",
   "execution_count": 16,
   "id": "562d7704",
   "metadata": {},
   "outputs": [
    {
     "name": "stdout",
     "output_type": "stream",
     "text": [
      "<class 'pandas.core.frame.DataFrame'>\n",
      "RangeIndex: 1486 entries, 0 to 1485\n",
      "Data columns (total 12 columns):\n",
      " #   Column             Non-Null Count  Dtype \n",
      "---  ------             --------------  ----- \n",
      " 0   compound_id        1486 non-null   object\n",
      " 1   PATHWAY_SORTORDER  1486 non-null   object\n",
      " 2   BIOCHEMICAL        1486 non-null   object\n",
      " 3   SUPER_PATHWAY      1486 non-null   object\n",
      " 4   SUB_PATHWAY        1486 non-null   object\n",
      " 5   COMP_ID            1486 non-null   int64 \n",
      " 6   PLATFORM           1486 non-null   object\n",
      " 7   RI                 1486 non-null   object\n",
      " 8   MASS               1486 non-null   object\n",
      " 9   PUBCHEM            403 non-null    object\n",
      " 10  KEGG               268 non-null    object\n",
      " 11  HMDB_ID            358 non-null    object\n",
      "dtypes: int64(1), object(11)\n",
      "memory usage: 139.4+ KB\n"
     ]
    }
   ],
   "source": [
    "#información básica del dataset, tipos de datos y columnas\n",
    "data_dictionary.info()"
   ]
  },
  {
   "cell_type": "markdown",
   "id": "60e0b028",
   "metadata": {},
   "source": [
    "# 3. Obtención de gráficos"
   ]
  },
  {
   "cell_type": "code",
   "execution_count": 17,
   "id": "09e4d5a6",
   "metadata": {},
   "outputs": [
    {
     "data": {
      "text/plain": [
       "HEALTH_STATUS\n",
       "healthy subjects     60\n",
       "prediabetic          60\n",
       "diabetic subjects    60\n",
       "Name: count, dtype: int64"
      ]
     },
     "execution_count": 17,
     "metadata": {},
     "output_type": "execute_result"
    }
   ],
   "source": [
    "### 3.1 Dataset Hoja 1 ---> Informacion general de estudio\n",
    "# Grupos de estudio\n",
    "\n",
    "# Asegúrate de que sample_metadata está correctamente cargado desde la hoja \"sample_metadata\"\n",
    "sample_metadata = pd.read_excel(r\"C:\\Users\\Momentum\\Desktop\\Claudia\\Cursos\\Bootcamp_Data_e_IA\\Proyecto_EDA\\study_data.xlsx\", sheet_name=\"sample_metadata\")\n",
    "\n",
    "Grupos_de_estudio = sample_metadata['HEALTH_STATUS'].value_counts()\n",
    "Grupos_de_estudio"
   ]
  },
  {
   "cell_type": "code",
   "execution_count": 18,
   "id": "f6d3c0d0",
   "metadata": {},
   "outputs": [
    {
     "data": {
      "text/plain": [
       "['healthy subjects', 'prediabetic', 'diabetic subjects']"
      ]
     },
     "execution_count": 18,
     "metadata": {},
     "output_type": "execute_result"
    }
   ],
   "source": [
    "#Pasar los datos a formato lista para después hacer el gráfico \n",
    "Diagnostico= sample_metadata['HEALTH_STATUS'].unique().tolist()\n",
    "Diagnostico"
   ]
  },
  {
   "cell_type": "code",
   "execution_count": 19,
   "id": "3d7c3f51",
   "metadata": {},
   "outputs": [
    {
     "data": {
      "image/png": "[encoded data removed]",
      "text/plain": [
       "<Figure size 800x500 with 1 Axes>"
      ]
     },
     "metadata": {},
     "output_type": "display_data"
    }
   ],
   "source": [
    "##Gráfico para representar el número de participantes en el estudio \n",
    "plt.figure(figsize=(8,5), dpi=100)\n",
    "plt.bar(Diagnostico, Grupos_de_estudio)\n",
    "plt.show()"
   ]
  },
  {
   "cell_type": "code",
   "execution_count": 20,
   "id": "cf5b218b",
   "metadata": {},
   "outputs": [
    {
     "data": {
      "image/png": "[encoded data removed]",
      "text/plain": [
       "<Figure size 800x800 with 1 Axes>"
      ]
     },
     "metadata": {},
     "output_type": "display_data"
    }
   ],
   "source": [
    "#Gráfico para representar el número de participantes en el estudio  (Final para presentación)\n",
    "muestras_de_estudio = sample_metadata['HEALTH_STATUS'].value_counts()\n",
    " \n",
    "# Crear circulo de dentro\n",
    "my_circle=plt.Circle( (0,0), 0.5, color='white')   \n",
    "#crear el pai\n",
    "plt.figure(figsize=(8,8))\n",
    "plt.pie(muestras_de_estudio.values,          \n",
    "        labels=muestras_de_estudio.index,\n",
    "        autopct='%1.2f%%')   \n",
    "p=plt.gcf()\n",
    "p.gca().add_artist(my_circle)\n",
    "plt.show()"
   ]
  },
  {
   "cell_type": "code",
   "execution_count": 21,
   "id": "6362f6f6",
   "metadata": {},
   "outputs": [
    {
     "data": {
      "image/png": "[encoded data removed]",
      "text/plain": [
       "<Figure size 1200x800 with 1 Axes>"
      ]
     },
     "metadata": {},
     "output_type": "display_data"
    }
   ],
   "source": [
    "#Evaluar la relación del BMI y hba1c de cada grupo mediante un scatter       #Hipotésis 1\n",
    "plt.figure(figsize=(12,8))\n",
    "sns.scatterplot(x = sample_metadata[\"BMI\"],\n",
    "y = sample_metadata[\"hba1c\"],\n",
    "s= 200,   #tamaño de los circulos\n",
    "hue = sample_metadata[\"HEALTH_STATUS\"]);"
   ]
  },
  {
   "cell_type": "code",
   "execution_count": 22,
   "id": "127f12d4",
   "metadata": {},
   "outputs": [
    {
     "data": {
      "application/vnd.plotly.v1+json": {
       "config": {
        "linkText": "Export to plot.ly",
        "plotlyServerURL": "https://plot.ly",
        "showLink": false
       },
       "data": [
        {
         "marker": {
          "color": "rgba(0, 40, 70, 20)"
         },
         "name": "BMI",
         "type": "bar",
         "x": [
          "healthy subjects",
          "healthy subjects",
          "healthy subjects",
          "healthy subjects",
          "healthy subjects",
          "healthy subjects",
          "healthy subjects",
          "healthy subjects",
          "healthy subjects",
          "healthy subjects",
          "healthy subjects",
          "healthy subjects",
          "healthy subjects",
          "healthy subjects",
          "healthy subjects",
          "healthy subjects",
          "healthy subjects",
          "healthy subjects",
          "healthy subjects",
          "healthy subjects",
          "healthy subjects",
          "healthy subjects",
          "healthy subjects",
          "healthy subjects",
          "healthy subjects",
          "healthy subjects",
          "healthy subjects",
          "healthy subjects",
          "healthy subjects",
          "healthy subjects",
          "healthy subjects",
          "healthy subjects",
          "healthy subjects",
          "healthy subjects",
          "healthy subjects",
          "healthy subjects",
          "healthy subjects",
          "healthy subjects",
          "healthy subjects",
          "healthy subjects",
          "healthy subjects",
          "healthy subjects",
          "healthy subjects",
          "healthy subjects",
          "healthy subjects",
          "healthy subjects",
          "healthy subjects",
          "healthy subjects",
          "healthy subjects",
          "healthy subjects",
          "healthy subjects",
          "healthy subjects",
          "healthy subjects",
          "healthy subjects",
          "healthy subjects",
          "healthy subjects",
          "healthy subjects",
          "healthy subjects",
          "healthy subjects",
          "healthy subjects",
          "prediabetic",
          "prediabetic",
          "prediabetic",
          "prediabetic",
          "prediabetic",
          "prediabetic",
          "prediabetic",
          "prediabetic",
          "prediabetic",
          "prediabetic",
          "prediabetic",
          "prediabetic",
          "prediabetic",
          "prediabetic",
          "prediabetic",
          "prediabetic",
          "prediabetic",
          "prediabetic",
          "prediabetic",
          "prediabetic",
          "prediabetic",
          "prediabetic",
          "prediabetic",
          "prediabetic",
          "prediabetic",
          "prediabetic",
          "prediabetic",
          "prediabetic",
          "prediabetic",
          "prediabetic",
          "prediabetic",
          "prediabetic",
          "prediabetic",
          "prediabetic",
          "prediabetic",
          "prediabetic",
          "prediabetic",
          "prediabetic",
          "prediabetic",
          "prediabetic",
          "prediabetic",
          "prediabetic",
          "prediabetic",
          "prediabetic",
          "prediabetic",
          "prediabetic",
          "prediabetic",
          "prediabetic",
          "prediabetic",
          "prediabetic",
          "prediabetic",
          "prediabetic",
          "prediabetic",
          "prediabetic",
          "prediabetic",
          "prediabetic",
          "prediabetic",
          "prediabetic",
          "prediabetic",
          "prediabetic",
          "diabetic subjects",
          "diabetic subjects",
          "diabetic subjects",
          "diabetic subjects",
          "diabetic subjects",
          "diabetic subjects",
          "diabetic subjects",
          "diabetic subjects",
          "diabetic subjects",
          "diabetic subjects",
          "diabetic subjects",
          "diabetic subjects",
          "diabetic subjects",
          "diabetic subjects",
          "diabetic subjects",
          "diabetic subjects",
          "diabetic subjects",
          "diabetic subjects",
          "diabetic subjects",
          "diabetic subjects",
          "diabetic subjects",
          "diabetic subjects",
          "diabetic subjects",
          "diabetic subjects",
          "diabetic subjects",
          "diabetic subjects",
          "diabetic subjects",
          "diabetic subjects",
          "diabetic subjects",
          "diabetic subjects",
          "diabetic subjects",
          "diabetic subjects",
          "diabetic subjects",
          "diabetic subjects",
          "diabetic subjects",
          "diabetic subjects",
          "diabetic subjects",
          "diabetic subjects",
          "diabetic subjects",
          "diabetic subjects",
          "diabetic subjects",
          "diabetic subjects",
          "diabetic subjects",
          "diabetic subjects",
          "diabetic subjects",
          "diabetic subjects",
          "diabetic subjects",
          "diabetic subjects",
          "diabetic subjects",
          "diabetic subjects",
          "diabetic subjects",
          "diabetic subjects",
          "diabetic subjects",
          "diabetic subjects",
          "diabetic subjects",
          "diabetic subjects",
          "diabetic subjects",
          "diabetic subjects",
          "diabetic subjects",
          "diabetic subjects"
         ],
         "y": {
          "bdata": "ZmZmZmbmO0BmZmZmZuY7QGZmZmZm5jtAZmZmZmbmO0BmZmZmZuY7QGZmZmZm5jtAAAAAAACANEAAAAAAAIA0QAAAAAAAgDRAAAAAAACANEAAAAAAAIA0QAAAAAAAgDRAZmZmZmZmNUBmZmZmZmY1QGZmZmZmZjVAZmZmZmZmNUBmZmZmZmY1QGZmZmZmZjVAMzMzMzMzO0AzMzMzMzM7QDMzMzMzMztAMzMzMzMzO0AzMzMzMzM7QDMzMzMzMztAAAAAAACAOkAAAAAAAIA6QAAAAAAAgDpAAAAAAACAOkAAAAAAAIA6QAAAAAAAgDpAAAAAAACANEAAAAAAAIA0QAAAAAAAgDRAAAAAAACANEAAAAAAAIA0QAAAAAAAgDRAMzMzMzOzOEAzMzMzM7M4QDMzMzMzszhAMzMzMzOzOEAzMzMzM7M4QDMzMzMzszhAZmZmZmbmM0BmZmZmZuYzQGZmZmZm5jNAZmZmZmbmM0BmZmZmZuYzQGZmZmZm5jNAzczMzMzMNEDNzMzMzMw0QM3MzMzMzDRAzczMzMzMNEDNzMzMzMw0QM3MzMzMzDRAzczMzMzMO0DNzMzMzMw7QM3MzMzMzDtAzczMzMzMO0DNzMzMzMw7QM3MzMzMzDtAZmZmZmZmQUBmZmZmZmZBQGZmZmZmZkFAZmZmZmZmQUBmZmZmZmZBQGZmZmZmZkFAzczMzMxMPEDNzMzMzEw8QM3MzMzMTDxAzczMzMxMPEDNzMzMzEw8QM3MzMzMTDxAZmZmZmYmQEBmZmZmZiZAQGZmZmZmJkBAZmZmZmYmQEBmZmZmZiZAQGZmZmZmJkBAMzMzMzNzQ0AzMzMzM3NDQDMzMzMzc0NAMzMzMzNzQ0AzMzMzM3NDQDMzMzMzc0NAMzMzMzOzQUAzMzMzM7NBQDMzMzMzs0FAMzMzMzOzQUAzMzMzM7NBQDMzMzMzs0FAmpmZmZnZQECamZmZmdlAQJqZmZmZ2UBAmpmZmZnZQECamZmZmdlAQJqZmZmZ2UBAAAAAAAAAPkAAAAAAAAA+QAAAAAAAAD5AAAAAAAAAPkAAAAAAAAA+QAAAAAAAAD5AzczMzMwMREDNzMzMzAxEQM3MzMzMDERAzczMzMwMREDNzMzMzAxEQM3MzMzMDERAMzMzMzMzPUAzMzMzMzM9QDMzMzMzMz1AMzMzMzMzPUAzMzMzMzM9QDMzMzMzMz1AMzMzMzPzREAzMzMzM/NEQDMzMzMz80RAMzMzMzPzREAzMzMzM/NEQDMzMzMz80RAMzMzMzNzQ0AzMzMzM3NDQDMzMzMzc0NAMzMzMzNzQ0AzMzMzM3NDQDMzMzMzc0NAMzMzMzNzQEAzMzMzM3NAQDMzMzMzc0BAMzMzMzNzQEAzMzMzM3NAQDMzMzMzc0BAmpmZmZlZQECamZmZmVlAQJqZmZmZWUBAmpmZmZlZQECamZmZmVlAQJqZmZmZWUBAAAAAAACAO0AAAAAAAIA7QAAAAAAAgDtAAAAAAACAO0AAAAAAAIA7QAAAAAAAgDtAMzMzMzMzPkAzMzMzMzM+QDMzMzMzMz5AMzMzMzMzPkAzMzMzMzM+QDMzMzMzMz5AmpmZmZmZOkCamZmZmZk6QJqZmZmZmTpAmpmZmZmZOkCamZmZmZk6QJqZmZmZmTpAZmZmZmYmQUBmZmZmZiZBQGZmZmZmJkFAZmZmZmYmQUBmZmZmZiZBQGZmZmZmJkFAAAAAAAAAO0AAAAAAAAA7QAAAAAAAADtAAAAAAAAAO0AAAAAAAAA7QAAAAAAAADtAMzMzMzMzO0AzMzMzMzM7QDMzMzMzMztAMzMzMzMzO0AzMzMzMzM7QDMzMzMzMztAzczMzMxMQ0DNzMzMzExDQM3MzMzMTENAzczMzMxMQ0DNzMzMzExDQM3MzMzMTENA",
          "dtype": "f8"
         }
        },
        {
         "marker": {
          "color": "rgba(255, 148, 7, 80)"
         },
         "name": "hba1c",
         "type": "bar",
         "x": [
          "healthy subjects",
          "healthy subjects",
          "healthy subjects",
          "healthy subjects",
          "healthy subjects",
          "healthy subjects",
          "healthy subjects",
          "healthy subjects",
          "healthy subjects",
          "healthy subjects",
          "healthy subjects",
          "healthy subjects",
          "healthy subjects",
          "healthy subjects",
          "healthy subjects",
          "healthy subjects",
          "healthy subjects",
          "healthy subjects",
          "healthy subjects",
          "healthy subjects",
          "healthy subjects",
          "healthy subjects",
          "healthy subjects",
          "healthy subjects",
          "healthy subjects",
          "healthy subjects",
          "healthy subjects",
          "healthy subjects",
          "healthy subjects",
          "healthy subjects",
          "healthy subjects",
          "healthy subjects",
          "healthy subjects",
          "healthy subjects",
          "healthy subjects",
          "healthy subjects",
          "healthy subjects",
          "healthy subjects",
          "healthy subjects",
          "healthy subjects",
          "healthy subjects",
          "healthy subjects",
          "healthy subjects",
          "healthy subjects",
          "healthy subjects",
          "healthy subjects",
          "healthy subjects",
          "healthy subjects",
          "healthy subjects",
          "healthy subjects",
          "healthy subjects",
          "healthy subjects",
          "healthy subjects",
          "healthy subjects",
          "healthy subjects",
          "healthy subjects",
          "healthy subjects",
          "healthy subjects",
          "healthy subjects",
          "healthy subjects",
          "prediabetic",
          "prediabetic",
          "prediabetic",
          "prediabetic",
          "prediabetic",
          "prediabetic",
          "prediabetic",
          "prediabetic",
          "prediabetic",
          "prediabetic",
          "prediabetic",
          "prediabetic",
          "prediabetic",
          "prediabetic",
          "prediabetic",
          "prediabetic",
          "prediabetic",
          "prediabetic",
          "prediabetic",
          "prediabetic",
          "prediabetic",
          "prediabetic",
          "prediabetic",
          "prediabetic",
          "prediabetic",
          "prediabetic",
          "prediabetic",
          "prediabetic",
          "prediabetic",
          "prediabetic",
          "prediabetic",
          "prediabetic",
          "prediabetic",
          "prediabetic",
          "prediabetic",
          "prediabetic",
          "prediabetic",
          "prediabetic",
          "prediabetic",
          "prediabetic",
          "prediabetic",
          "prediabetic",
          "prediabetic",
          "prediabetic",
          "prediabetic",
          "prediabetic",
          "prediabetic",
          "prediabetic",
          "prediabetic",
          "prediabetic",
          "prediabetic",
          "prediabetic",
          "prediabetic",
          "prediabetic",
          "prediabetic",
          "prediabetic",
          "prediabetic",
          "prediabetic",
          "prediabetic",
          "prediabetic",
          "diabetic subjects",
          "diabetic subjects",
          "diabetic subjects",
          "diabetic subjects",
          "diabetic subjects",
          "diabetic subjects",
          "diabetic subjects",
          "diabetic subjects",
          "diabetic subjects",
          "diabetic subjects",
          "diabetic subjects",
          "diabetic subjects",
          "diabetic subjects",
          "diabetic subjects",
          "diabetic subjects",
          "diabetic subjects",
          "diabetic subjects",
          "diabetic subjects",
          "diabetic subjects",
          "diabetic subjects",
          "diabetic subjects",
          "diabetic subjects",
          "diabetic subjects",
          "diabetic subjects",
          "diabetic subjects",
          "diabetic subjects",
          "diabetic subjects",
          "diabetic subjects",
          "diabetic subjects",
          "diabetic subjects",
          "diabetic subjects",
          "diabetic subjects",
          "diabetic subjects",
          "diabetic subjects",
          "diabetic subjects",
          "diabetic subjects",
          "diabetic subjects",
          "diabetic subjects",
          "diabetic subjects",
          "diabetic subjects",
          "diabetic subjects",
          "diabetic subjects",
          "diabetic subjects",
          "diabetic subjects",
          "diabetic subjects",
          "diabetic subjects",
          "diabetic subjects",
          "diabetic subjects",
          "diabetic subjects",
          "diabetic subjects",
          "diabetic subjects",
          "diabetic subjects",
          "diabetic subjects",
          "diabetic subjects",
          "diabetic subjects",
          "diabetic subjects",
          "diabetic subjects",
          "diabetic subjects",
          "diabetic subjects",
          "diabetic subjects"
         ],
         "y": {
          "bdata": "MzMzMzMzFEAzMzMzMzMUQDMzMzMzMxRAMzMzMzMzFEAzMzMzMzMUQDMzMzMzMxRAUrgehetRFkBSuB6F61EWQFK4HoXrURZAUrgehetRFkBSuB6F61EWQFK4HoXrURZAmpmZmZmZFUCamZmZmZkVQJqZmZmZmRVAmpmZmZmZFUCamZmZmZkVQJqZmZmZmRVAUrgehetRFEBSuB6F61EUQFK4HoXrURRAUrgehetRFEBSuB6F61EUQFK4HoXrURRAzczMzMzMFkDNzMzMzMwWQM3MzMzMzBZAzczMzMzMFkDNzMzMzMwWQM3MzMzMzBZAmpmZmZmZFUCamZmZmZkVQJqZmZmZmRVAmpmZmZmZFUCamZmZmZkVQJqZmZmZmRVASOF6FK5HFkBI4XoUrkcWQEjhehSuRxZASOF6FK5HFkBI4XoUrkcWQEjhehSuRxZAZmZmZmZmF0BmZmZmZmYXQGZmZmZmZhdAZmZmZmZmF0BmZmZmZmYXQGZmZmZmZhdA16NwPQrXFUDXo3A9CtcVQNejcD0K1xVA16NwPQrXFUDXo3A9CtcVQNejcD0K1xVAexSuR+F6E0B7FK5H4XoTQHsUrkfhehNAexSuR+F6E0B7FK5H4XoTQHsUrkfhehNAcT0K16NwF0BxPQrXo3AXQHE9CtejcBdAcT0K16NwF0BxPQrXo3AXQHE9CtejcBdAKVyPwvUoGUApXI/C9SgZQClcj8L1KBlAKVyPwvUoGUApXI/C9SgZQClcj8L1KBlAw/UoXI/CF0DD9Shcj8IXQMP1KFyPwhdAw/UoXI/CF0DD9Shcj8IXQMP1KFyPwhdAAAAAAAAAGEAAAAAAAAAYQAAAAAAAABhAAAAAAAAAGEAAAAAAAAAYQAAAAAAAABhAw/UoXI/CF0DD9Shcj8IXQMP1KFyPwhdAw/UoXI/CF0DD9Shcj8IXQMP1KFyPwhdAFK5H4XoUGEAUrkfhehQYQBSuR+F6FBhAFK5H4XoUGEAUrkfhehQYQBSuR+F6FBhAzczMzMzMFUDNzMzMzMwVQM3MzMzMzBVAzczMzMzMFUDNzMzMzMwVQM3MzMzMzBVAMzMzMzMzGEAzMzMzMzMYQDMzMzMzMxhAMzMzMzMzGEAzMzMzMzMYQDMzMzMzMxhAmpmZmZmZF0CamZmZmZkXQJqZmZmZmRdAmpmZmZmZF0CamZmZmZkXQJqZmZmZmRdAZmZmZmZmFEBmZmZmZmYUQGZmZmZmZhRAZmZmZmZmFEBmZmZmZmYUQGZmZmZmZhRAXI/C9ShcH0Bcj8L1KFwfQFyPwvUoXB9AXI/C9ShcH0Bcj8L1KFwfQFyPwvUoXB9AUrgehetRH0BSuB6F61EfQFK4HoXrUR9AUrgehetRH0BSuB6F61EfQFK4HoXrUR9AzczMzMzMGkDNzMzMzMwaQM3MzMzMzBpAzczMzMzMGkDNzMzMzMwaQM3MzMzMzBpAzczMzMzMGkDNzMzMzMwaQM3MzMzMzBpAzczMzMzMGkDNzMzMzMwaQM3MzMzMzBpA4XoUrkfhHkDhehSuR+EeQOF6FK5H4R5A4XoUrkfhHkDhehSuR+EeQOF6FK5H4R5AH4XrUbgeHkAfhetRuB4eQB+F61G4Hh5AH4XrUbgeHkAfhetRuB4eQB+F61G4Hh5AAAAAAAAAIEAAAAAAAAAgQAAAAAAAACBAAAAAAAAAIEAAAAAAAAAgQAAAAAAAACBA9ihcj8L1G0D2KFyPwvUbQPYoXI/C9RtA9ihcj8L1G0D2KFyPwvUbQPYoXI/C9RtAw/UoXI/CG0DD9Shcj8IbQMP1KFyPwhtAw/UoXI/CG0DD9Shcj8IbQMP1KFyPwhtAMzMzMzMzIkAzMzMzMzMiQDMzMzMzMyJAMzMzMzMzIkAzMzMzMzMiQDMzMzMzMyJA",
          "dtype": "f8"
         }
        }
       ],
       "layout": {
        "barmode": "group",
        "template": {
         "data": {
          "bar": [
           {
            "error_x": {
             "color": "#2a3f5f"
            },
            "error_y": {
             "color": "#2a3f5f"
            },
            "marker": {
             "line": {
              "color": "#E5ECF6",
              "width": 0.5
             },
             "pattern": {
              "fillmode": "overlay",
              "size": 10,
              "solidity": 0.2
             }
            },
            "type": "bar"
           }
          ],
          "barpolar": [
           {
            "marker": {
             "line": {
              "color": "#E5ECF6",
              "width": 0.5
             },
             "pattern": {
              "fillmode": "overlay",
              "size": 10,
              "solidity": 0.2
             }
            },
            "type": "barpolar"
           }
          ],
          "carpet": [
           {
            "aaxis": {
             "endlinecolor": "#2a3f5f",
             "gridcolor": "white",
             "linecolor": "white",
             "minorgridcolor": "white",
             "startlinecolor": "#2a3f5f"
            },
            "baxis": {
             "endlinecolor": "#2a3f5f",
             "gridcolor": "white",
             "linecolor": "white",
             "minorgridcolor": "white",
             "startlinecolor": "#2a3f5f"
            },
            "type": "carpet"
           }
          ],
          "choropleth": [
           {
            "colorbar": {
             "outlinewidth": 0,
             "ticks": ""
            },
            "type": "choropleth"
           }
          ],
          "contour": [
           {
            "colorbar": {
             "outlinewidth": 0,
             "ticks": ""
            },
            "colorscale": [
             [
              0,
              "#0d0887"
             ],
             [
              0.1111111111111111,
              "#46039f"
             ],
             [
              0.2222222222222222,
              "#7201a8"
             ],
             [
              0.3333333333333333,
              "#9c179e"
             ],
             [
              0.4444444444444444,
              "#bd3786"
             ],
             [
              0.5555555555555556,
              "#d8576b"
             ],
             [
              0.6666666666666666,
              "#ed7953"
             ],
             [
              0.7777777777777778,
              "#fb9f3a"
             ],
             [
              0.8888888888888888,
              "#fdca26"
             ],
             [
              1,
              "#f0f921"
             ]
            ],
            "type": "contour"
           }
          ],
          "contourcarpet": [
           {
            "colorbar": {
             "outlinewidth": 0,
             "ticks": ""
            },
            "type": "contourcarpet"
           }
          ],
          "heatmap": [
           {
            "colorbar": {
             "outlinewidth": 0,
             "ticks": ""
            },
            "colorscale": [
             [
              0,
              "#0d0887"
             ],
             [
              0.1111111111111111,
              "#46039f"
             ],
             [
              0.2222222222222222,
              "#7201a8"
             ],
             [
              0.3333333333333333,
              "#9c179e"
             ],
             [
              0.4444444444444444,
              "#bd3786"
             ],
             [
              0.5555555555555556,
              "#d8576b"
             ],
             [
              0.6666666666666666,
              "#ed7953"
             ],
             [
              0.7777777777777778,
              "#fb9f3a"
             ],
             [
              0.8888888888888888,
              "#fdca26"
             ],
             [
              1,
              "#f0f921"
             ]
            ],
            "type": "heatmap"
           }
          ],
          "histogram": [
           {
            "marker": {
             "pattern": {
              "fillmode": "overlay",
              "size": 10,
              "solidity": 0.2
             }
            },
            "type": "histogram"
           }
          ],
          "histogram2d": [
           {
            "colorbar": {
             "outlinewidth": 0,
             "ticks": ""
            },
            "colorscale": [
             [
              0,
              "#0d0887"
             ],
             [
              0.1111111111111111,
              "#46039f"
             ],
             [
              0.2222222222222222,
              "#7201a8"
             ],
             [
              0.3333333333333333,
              "#9c179e"
             ],
             [
              0.4444444444444444,
              "#bd3786"
             ],
             [
              0.5555555555555556,
              "#d8576b"
             ],
             [
              0.6666666666666666,
              "#ed7953"
             ],
             [
              0.7777777777777778,
              "#fb9f3a"
             ],
             [
              0.8888888888888888,
              "#fdca26"
             ],
             [
              1,
              "#f0f921"
             ]
            ],
            "type": "histogram2d"
           }
          ],
          "histogram2dcontour": [
           {
            "colorbar": {
             "outlinewidth": 0,
             "ticks": ""
            },
            "colorscale": [
             [
              0,
              "#0d0887"
             ],
             [
              0.1111111111111111,
              "#46039f"
             ],
             [
              0.2222222222222222,
              "#7201a8"
             ],
             [
              0.3333333333333333,
              "#9c179e"
             ],
             [
              0.4444444444444444,
              "#bd3786"
             ],
             [
              0.5555555555555556,
              "#d8576b"
             ],
             [
              0.6666666666666666,
              "#ed7953"
             ],
             [
              0.7777777777777778,
              "#fb9f3a"
             ],
             [
              0.8888888888888888,
              "#fdca26"
             ],
             [
              1,
              "#f0f921"
             ]
            ],
            "type": "histogram2dcontour"
           }
          ],
          "mesh3d": [
           {
            "colorbar": {
             "outlinewidth": 0,
             "ticks": ""
            },
            "type": "mesh3d"
           }
          ],
          "parcoords": [
           {
            "line": {
             "colorbar": {
              "outlinewidth": 0,
              "ticks": ""
             }
            },
            "type": "parcoords"
           }
          ],
          "pie": [
           {
            "automargin": true,
            "type": "pie"
           }
          ],
          "scatter": [
           {
            "fillpattern": {
             "fillmode": "overlay",
             "size": 10,
             "solidity": 0.2
            },
            "type": "scatter"
           }
          ],
          "scatter3d": [
           {
            "line": {
             "colorbar": {
              "outlinewidth": 0,
              "ticks": ""
             }
            },
            "marker": {
             "colorbar": {
              "outlinewidth": 0,
              "ticks": ""
             }
            },
            "type": "scatter3d"
           }
          ],
          "scattercarpet": [
           {
            "marker": {
             "colorbar": {
              "outlinewidth": 0,
              "ticks": ""
             }
            },
            "type": "scattercarpet"
           }
          ],
          "scattergeo": [
           {
            "marker": {
             "colorbar": {
              "outlinewidth": 0,
              "ticks": ""
             }
            },
            "type": "scattergeo"
           }
          ],
          "scattergl": [
           {
            "marker": {
             "colorbar": {
              "outlinewidth": 0,
              "ticks": ""
             }
            },
            "type": "scattergl"
           }
          ],
          "scattermap": [
           {
            "marker": {
             "colorbar": {
              "outlinewidth": 0,
              "ticks": ""
             }
            },
            "type": "scattermap"
           }
          ],
          "scattermapbox": [
           {
            "marker": {
             "colorbar": {
              "outlinewidth": 0,
              "ticks": ""
             }
            },
            "type": "scattermapbox"
           }
          ],
          "scatterpolar": [
           {
            "marker": {
             "colorbar": {
              "outlinewidth": 0,
              "ticks": ""
             }
            },
            "type": "scatterpolar"
           }
          ],
          "scatterpolargl": [
           {
            "marker": {
             "colorbar": {
              "outlinewidth": 0,
              "ticks": ""
             }
            },
            "type": "scatterpolargl"
           }
          ],
          "scatterternary": [
           {
            "marker": {
             "colorbar": {
              "outlinewidth": 0,
              "ticks": ""
             }
            },
            "type": "scatterternary"
           }
          ],
          "surface": [
           {
            "colorbar": {
             "outlinewidth": 0,
             "ticks": ""
            },
            "colorscale": [
             [
              0,
              "#0d0887"
             ],
             [
              0.1111111111111111,
              "#46039f"
             ],
             [
              0.2222222222222222,
              "#7201a8"
             ],
             [
              0.3333333333333333,
              "#9c179e"
             ],
             [
              0.4444444444444444,
              "#bd3786"
             ],
             [
              0.5555555555555556,
              "#d8576b"
             ],
             [
              0.6666666666666666,
              "#ed7953"
             ],
             [
              0.7777777777777778,
              "#fb9f3a"
             ],
             [
              0.8888888888888888,
              "#fdca26"
             ],
             [
              1,
              "#f0f921"
             ]
            ],
            "type": "surface"
           }
          ],
          "table": [
           {
            "cells": {
             "fill": {
              "color": "#EBF0F8"
             },
             "line": {
              "color": "white"
             }
            },
            "header": {
             "fill": {
              "color": "#C8D4E3"
             },
             "line": {
              "color": "white"
             }
            },
            "type": "table"
           }
          ]
         },
         "layout": {
          "annotationdefaults": {
           "arrowcolor": "#2a3f5f",
           "arrowhead": 0,
           "arrowwidth": 1
          },
          "autotypenumbers": "strict",
          "coloraxis": {
           "colorbar": {
            "outlinewidth": 0,
            "ticks": ""
           }
          },
          "colorscale": {
           "diverging": [
            [
             0,
             "#8e0152"
            ],
            [
             0.1,
             "#c51b7d"
            ],
            [
             0.2,
             "#de77ae"
            ],
            [
             0.3,
             "#f1b6da"
            ],
            [
             0.4,
             "#fde0ef"
            ],
            [
             0.5,
             "#f7f7f7"
            ],
            [
             0.6,
             "#e6f5d0"
            ],
            [
             0.7,
             "#b8e186"
            ],
            [
             0.8,
             "#7fbc41"
            ],
            [
             0.9,
             "#4d9221"
            ],
            [
             1,
             "#276419"
            ]
           ],
           "sequential": [
            [
             0,
             "#0d0887"
            ],
            [
             0.1111111111111111,
             "#46039f"
            ],
            [
             0.2222222222222222,
             "#7201a8"
            ],
            [
             0.3333333333333333,
             "#9c179e"
            ],
            [
             0.4444444444444444,
             "#bd3786"
            ],
            [
             0.5555555555555556,
             "#d8576b"
            ],
            [
             0.6666666666666666,
             "#ed7953"
            ],
            [
             0.7777777777777778,
             "#fb9f3a"
            ],
            [
             0.8888888888888888,
             "#fdca26"
            ],
            [
             1,
             "#f0f921"
            ]
           ],
           "sequentialminus": [
            [
             0,
             "#0d0887"
            ],
            [
             0.1111111111111111,
             "#46039f"
            ],
            [
             0.2222222222222222,
             "#7201a8"
            ],
            [
             0.3333333333333333,
             "#9c179e"
            ],
            [
             0.4444444444444444,
             "#bd3786"
            ],
            [
             0.5555555555555556,
             "#d8576b"
            ],
            [
             0.6666666666666666,
             "#ed7953"
            ],
            [
             0.7777777777777778,
             "#fb9f3a"
            ],
            [
             0.8888888888888888,
             "#fdca26"
            ],
            [
             1,
             "#f0f921"
            ]
           ]
          },
          "colorway": [
           "#636efa",
           "#EF553B",
           "#00cc96",
           "#ab63fa",
           "#FFA15A",
           "#19d3f3",
           "#FF6692",
           "#B6E880",
           "#FF97FF",
           "#FECB52"
          ],
          "font": {
           "color": "#2a3f5f"
          },
          "geo": {
           "bgcolor": "white",
           "lakecolor": "white",
           "landcolor": "#E5ECF6",
           "showlakes": true,
           "showland": true,
           "subunitcolor": "white"
          },
          "hoverlabel": {
           "align": "left"
          },
          "hovermode": "closest",
          "mapbox": {
           "style": "light"
          },
          "paper_bgcolor": "white",
          "plot_bgcolor": "#E5ECF6",
          "polar": {
           "angularaxis": {
            "gridcolor": "white",
            "linecolor": "white",
            "ticks": ""
           },
           "bgcolor": "#E5ECF6",
           "radialaxis": {
            "gridcolor": "white",
            "linecolor": "white",
            "ticks": ""
           }
          },
          "scene": {
           "xaxis": {
            "backgroundcolor": "#E5ECF6",
            "gridcolor": "white",
            "gridwidth": 2,
            "linecolor": "white",
            "showbackground": true,
            "ticks": "",
            "zerolinecolor": "white"
           },
           "yaxis": {
            "backgroundcolor": "#E5ECF6",
            "gridcolor": "white",
            "gridwidth": 2,
            "linecolor": "white",
            "showbackground": true,
            "ticks": "",
            "zerolinecolor": "white"
           },
           "zaxis": {
            "backgroundcolor": "#E5ECF6",
            "gridcolor": "white",
            "gridwidth": 2,
            "linecolor": "white",
            "showbackground": true,
            "ticks": "",
            "zerolinecolor": "white"
           }
          },
          "shapedefaults": {
           "line": {
            "color": "#2a3f5f"
           }
          },
          "ternary": {
           "aaxis": {
            "gridcolor": "white",
            "linecolor": "white",
            "ticks": ""
           },
           "baxis": {
            "gridcolor": "white",
            "linecolor": "white",
            "ticks": ""
           },
           "bgcolor": "#E5ECF6",
           "caxis": {
            "gridcolor": "white",
            "linecolor": "white",
            "ticks": ""
           }
          },
          "title": {
           "x": 0.05
          },
          "xaxis": {
           "automargin": true,
           "gridcolor": "white",
           "linecolor": "white",
           "ticks": "",
           "title": {
            "standoff": 15
           },
           "zerolinecolor": "white",
           "zerolinewidth": 2
          },
          "yaxis": {
           "automargin": true,
           "gridcolor": "white",
           "linecolor": "white",
           "ticks": "",
           "title": {
            "standoff": 15
           },
           "zerolinecolor": "white",
           "zerolinewidth": 2
          }
         }
        }
       }
      },
      "text/html": [
       "<div>            <script src=\"https://cdnjs.cloudflare.com/ajax/libs/mathjax/2.7.5/MathJax.js?config=TeX-AMS-MML_SVG\"></script><script type=\"text/javascript\">if (window.MathJax && window.MathJax.Hub && window.MathJax.Hub.Config) {window.MathJax.Hub.Config({SVG: {font: \"STIX-Web\"}});}</script>                <script type=\"text/javascript\">window.PlotlyConfig = {MathJaxConfig: 'local'};</script>\n",
       "        <script charset=\"utf-8\" src=\"https://cdn.plot.ly/plotly-3.1.1.min.js\" integrity=\"sha256-HUEFyfiTnZJxCxur99FjbKYTvKSzwDaD3/x5TqHpFu4=\" crossorigin=\"anonymous\"></script>                <div id=\"0533cc66-4898-4120-a749-56ec9c6043ee\" class=\"plotly-graph-div\" style=\"height:525px; width:100%;\"></div>            <script type=\"text/javascript\">                window.PLOTLYENV=window.PLOTLYENV || {};                                if (document.getElementById(\"0533cc66-4898-4120-a749-56ec9c6043ee\")) {                    Plotly.newPlot(                        \"0533cc66-4898-4120-a749-56ec9c6043ee\",                        [{\"marker\":{\"color\":\"rgba(0, 40, 70, 20)\"},\"name\":\"BMI\",\"x\":[\"healthy subjects\",\"healthy subjects\",\"healthy subjects\",\"healthy subjects\",\"healthy subjects\",\"healthy subjects\",\"healthy subjects\",\"healthy subjects\",\"healthy subjects\",\"healthy subjects\",\"healthy subjects\",\"healthy subjects\",\"healthy subjects\",\"healthy subjects\",\"healthy subjects\",\"healthy subjects\",\"healthy subjects\",\"healthy subjects\",\"healthy subjects\",\"healthy subjects\",\"healthy subjects\",\"healthy subjects\",\"healthy subjects\",\"healthy subjects\",\"healthy subjects\",\"healthy subjects\",\"healthy subjects\",\"healthy subjects\",\"healthy subjects\",\"healthy subjects\",\"healthy subjects\",\"healthy subjects\",\"healthy subjects\",\"healthy subjects\",\"healthy subjects\",\"healthy subjects\",\"healthy subjects\",\"healthy subjects\",\"healthy subjects\",\"healthy subjects\",\"healthy subjects\",\"healthy subjects\",\"healthy subjects\",\"healthy subjects\",\"healthy subjects\",\"healthy subjects\",\"healthy subjects\",\"healthy subjects\",\"healthy subjects\",\"healthy subjects\",\"healthy subjects\",\"healthy subjects\",\"healthy subjects\",\"healthy subjects\",\"healthy subjects\",\"healthy subjects\",\"healthy subjects\",\"healthy subjects\",\"healthy subjects\",\"healthy subjects\",\"prediabetic\",\"prediabetic\",\"prediabetic\",\"prediabetic\",\"prediabetic\",\"prediabetic\",\"prediabetic\",\"prediabetic\",\"prediabetic\",\"prediabetic\",\"prediabetic\",\"prediabetic\",\"prediabetic\",\"prediabetic\",\"prediabetic\",\"prediabetic\",\"prediabetic\",\"prediabetic\",\"prediabetic\",\"prediabetic\",\"prediabetic\",\"prediabetic\",\"prediabetic\",\"prediabetic\",\"prediabetic\",\"prediabetic\",\"prediabetic\",\"prediabetic\",\"prediabetic\",\"prediabetic\",\"prediabetic\",\"prediabetic\",\"prediabetic\",\"prediabetic\",\"prediabetic\",\"prediabetic\",\"prediabetic\",\"prediabetic\",\"prediabetic\",\"prediabetic\",\"prediabetic\",\"prediabetic\",\"prediabetic\",\"prediabetic\",\"prediabetic\",\"prediabetic\",\"prediabetic\",\"prediabetic\",\"prediabetic\",\"prediabetic\",\"prediabetic\",\"prediabetic\",\"prediabetic\",\"prediabetic\",\"prediabetic\",\"prediabetic\",\"prediabetic\",\"prediabetic\",\"prediabetic\",\"prediabetic\",\"diabetic subjects\",\"diabetic subjects\",\"diabetic subjects\",\"diabetic subjects\",\"diabetic subjects\",\"diabetic subjects\",\"diabetic subjects\",\"diabetic subjects\",\"diabetic subjects\",\"diabetic subjects\",\"diabetic subjects\",\"diabetic subjects\",\"diabetic subjects\",\"diabetic subjects\",\"diabetic subjects\",\"diabetic subjects\",\"diabetic subjects\",\"diabetic subjects\",\"diabetic subjects\",\"diabetic subjects\",\"diabetic subjects\",\"diabetic subjects\",\"diabetic subjects\",\"diabetic subjects\",\"diabetic subjects\",\"diabetic subjects\",\"diabetic subjects\",\"diabetic subjects\",\"diabetic subjects\",\"diabetic subjects\",\"diabetic subjects\",\"diabetic subjects\",\"diabetic subjects\",\"diabetic subjects\",\"diabetic subjects\",\"diabetic subjects\",\"diabetic subjects\",\"diabetic subjects\",\"diabetic subjects\",\"diabetic subjects\",\"diabetic subjects\",\"diabetic subjects\",\"diabetic subjects\",\"diabetic subjects\",\"diabetic subjects\",\"diabetic subjects\",\"diabetic subjects\",\"diabetic subjects\",\"diabetic subjects\",\"diabetic subjects\",\"diabetic subjects\",\"diabetic subjects\",\"diabetic subjects\",\"diabetic subjects\",\"diabetic subjects\",\"diabetic subjects\",\"diabetic subjects\",\"diabetic subjects\",\"diabetic subjects\",\"diabetic subjects\"],\"y\":{\"dtype\":\"f8\",\"bdata\":\"ZmZmZmbmO0BmZmZmZuY7QGZmZmZm5jtAZmZmZmbmO0BmZmZmZuY7QGZmZmZm5jtAAAAAAACANEAAAAAAAIA0QAAAAAAAgDRAAAAAAACANEAAAAAAAIA0QAAAAAAAgDRAZmZmZmZmNUBmZmZmZmY1QGZmZmZmZjVAZmZmZmZmNUBmZmZmZmY1QGZmZmZmZjVAMzMzMzMzO0AzMzMzMzM7QDMzMzMzMztAMzMzMzMzO0AzMzMzMzM7QDMzMzMzMztAAAAAAACAOkAAAAAAAIA6QAAAAAAAgDpAAAAAAACAOkAAAAAAAIA6QAAAAAAAgDpAAAAAAACANEAAAAAAAIA0QAAAAAAAgDRAAAAAAACANEAAAAAAAIA0QAAAAAAAgDRAMzMzMzOzOEAzMzMzM7M4QDMzMzMzszhAMzMzMzOzOEAzMzMzM7M4QDMzMzMzszhAZmZmZmbmM0BmZmZmZuYzQGZmZmZm5jNAZmZmZmbmM0BmZmZmZuYzQGZmZmZm5jNAzczMzMzMNEDNzMzMzMw0QM3MzMzMzDRAzczMzMzMNEDNzMzMzMw0QM3MzMzMzDRAzczMzMzMO0DNzMzMzMw7QM3MzMzMzDtAzczMzMzMO0DNzMzMzMw7QM3MzMzMzDtAZmZmZmZmQUBmZmZmZmZBQGZmZmZmZkFAZmZmZmZmQUBmZmZmZmZBQGZmZmZmZkFAzczMzMxMPEDNzMzMzEw8QM3MzMzMTDxAzczMzMxMPEDNzMzMzEw8QM3MzMzMTDxAZmZmZmYmQEBmZmZmZiZAQGZmZmZmJkBAZmZmZmYmQEBmZmZmZiZAQGZmZmZmJkBAMzMzMzNzQ0AzMzMzM3NDQDMzMzMzc0NAMzMzMzNzQ0AzMzMzM3NDQDMzMzMzc0NAMzMzMzOzQUAzMzMzM7NBQDMzMzMzs0FAMzMzMzOzQUAzMzMzM7NBQDMzMzMzs0FAmpmZmZnZQECamZmZmdlAQJqZmZmZ2UBAmpmZmZnZQECamZmZmdlAQJqZmZmZ2UBAAAAAAAAAPkAAAAAAAAA+QAAAAAAAAD5AAAAAAAAAPkAAAAAAAAA+QAAAAAAAAD5AzczMzMwMREDNzMzMzAxEQM3MzMzMDERAzczMzMwMREDNzMzMzAxEQM3MzMzMDERAMzMzMzMzPUAzMzMzMzM9QDMzMzMzMz1AMzMzMzMzPUAzMzMzMzM9QDMzMzMzMz1AMzMzMzPzREAzMzMzM\\u002fNEQDMzMzMz80RAMzMzMzPzREAzMzMzM\\u002fNEQDMzMzMz80RAMzMzMzNzQ0AzMzMzM3NDQDMzMzMzc0NAMzMzMzNzQ0AzMzMzM3NDQDMzMzMzc0NAMzMzMzNzQEAzMzMzM3NAQDMzMzMzc0BAMzMzMzNzQEAzMzMzM3NAQDMzMzMzc0BAmpmZmZlZQECamZmZmVlAQJqZmZmZWUBAmpmZmZlZQECamZmZmVlAQJqZmZmZWUBAAAAAAACAO0AAAAAAAIA7QAAAAAAAgDtAAAAAAACAO0AAAAAAAIA7QAAAAAAAgDtAMzMzMzMzPkAzMzMzMzM+QDMzMzMzMz5AMzMzMzMzPkAzMzMzMzM+QDMzMzMzMz5AmpmZmZmZOkCamZmZmZk6QJqZmZmZmTpAmpmZmZmZOkCamZmZmZk6QJqZmZmZmTpAZmZmZmYmQUBmZmZmZiZBQGZmZmZmJkFAZmZmZmYmQUBmZmZmZiZBQGZmZmZmJkFAAAAAAAAAO0AAAAAAAAA7QAAAAAAAADtAAAAAAAAAO0AAAAAAAAA7QAAAAAAAADtAMzMzMzMzO0AzMzMzMzM7QDMzMzMzMztAMzMzMzMzO0AzMzMzMzM7QDMzMzMzMztAzczMzMxMQ0DNzMzMzExDQM3MzMzMTENAzczMzMxMQ0DNzMzMzExDQM3MzMzMTENA\"},\"type\":\"bar\"},{\"marker\":{\"color\":\"rgba(255, 148, 7, 80)\"},\"name\":\"hba1c\",\"x\":[\"healthy subjects\",\"healthy subjects\",\"healthy subjects\",\"healthy subjects\",\"healthy subjects\",\"healthy subjects\",\"healthy subjects\",\"healthy subjects\",\"healthy subjects\",\"healthy subjects\",\"healthy subjects\",\"healthy subjects\",\"healthy subjects\",\"healthy subjects\",\"healthy subjects\",\"healthy subjects\",\"healthy subjects\",\"healthy subjects\",\"healthy subjects\",\"healthy subjects\",\"healthy subjects\",\"healthy subjects\",\"healthy subjects\",\"healthy subjects\",\"healthy subjects\",\"healthy subjects\",\"healthy subjects\",\"healthy subjects\",\"healthy subjects\",\"healthy subjects\",\"healthy subjects\",\"healthy subjects\",\"healthy subjects\",\"healthy subjects\",\"healthy subjects\",\"healthy subjects\",\"healthy subjects\",\"healthy subjects\",\"healthy subjects\",\"healthy subjects\",\"healthy subjects\",\"healthy subjects\",\"healthy subjects\",\"healthy subjects\",\"healthy subjects\",\"healthy subjects\",\"healthy subjects\",\"healthy subjects\",\"healthy subjects\",\"healthy subjects\",\"healthy subjects\",\"healthy subjects\",\"healthy subjects\",\"healthy subjects\",\"healthy subjects\",\"healthy subjects\",\"healthy subjects\",\"healthy subjects\",\"healthy subjects\",\"healthy subjects\",\"prediabetic\",\"prediabetic\",\"prediabetic\",\"prediabetic\",\"prediabetic\",\"prediabetic\",\"prediabetic\",\"prediabetic\",\"prediabetic\",\"prediabetic\",\"prediabetic\",\"prediabetic\",\"prediabetic\",\"prediabetic\",\"prediabetic\",\"prediabetic\",\"prediabetic\",\"prediabetic\",\"prediabetic\",\"prediabetic\",\"prediabetic\",\"prediabetic\",\"prediabetic\",\"prediabetic\",\"prediabetic\",\"prediabetic\",\"prediabetic\",\"prediabetic\",\"prediabetic\",\"prediabetic\",\"prediabetic\",\"prediabetic\",\"prediabetic\",\"prediabetic\",\"prediabetic\",\"prediabetic\",\"prediabetic\",\"prediabetic\",\"prediabetic\",\"prediabetic\",\"prediabetic\",\"prediabetic\",\"prediabetic\",\"prediabetic\",\"prediabetic\",\"prediabetic\",\"prediabetic\",\"prediabetic\",\"prediabetic\",\"prediabetic\",\"prediabetic\",\"prediabetic\",\"prediabetic\",\"prediabetic\",\"prediabetic\",\"prediabetic\",\"prediabetic\",\"prediabetic\",\"prediabetic\",\"prediabetic\",\"diabetic subjects\",\"diabetic subjects\",\"diabetic subjects\",\"diabetic subjects\",\"diabetic subjects\",\"diabetic subjects\",\"diabetic subjects\",\"diabetic subjects\",\"diabetic subjects\",\"diabetic subjects\",\"diabetic subjects\",\"diabetic subjects\",\"diabetic subjects\",\"diabetic subjects\",\"diabetic subjects\",\"diabetic subjects\",\"diabetic subjects\",\"diabetic subjects\",\"diabetic subjects\",\"diabetic subjects\",\"diabetic subjects\",\"diabetic subjects\",\"diabetic subjects\",\"diabetic subjects\",\"diabetic subjects\",\"diabetic subjects\",\"diabetic subjects\",\"diabetic subjects\",\"diabetic subjects\",\"diabetic subjects\",\"diabetic subjects\",\"diabetic subjects\",\"diabetic subjects\",\"diabetic subjects\",\"diabetic subjects\",\"diabetic subjects\",\"diabetic subjects\",\"diabetic subjects\",\"diabetic subjects\",\"diabetic subjects\",\"diabetic subjects\",\"diabetic subjects\",\"diabetic subjects\",\"diabetic subjects\",\"diabetic subjects\",\"diabetic subjects\",\"diabetic subjects\",\"diabetic subjects\",\"diabetic subjects\",\"diabetic subjects\",\"diabetic subjects\",\"diabetic subjects\",\"diabetic subjects\",\"diabetic subjects\",\"diabetic subjects\",\"diabetic subjects\",\"diabetic subjects\",\"diabetic subjects\",\"diabetic subjects\",\"diabetic subjects\"],\"y\":{\"dtype\":\"f8\",\"bdata\":\"MzMzMzMzFEAzMzMzMzMUQDMzMzMzMxRAMzMzMzMzFEAzMzMzMzMUQDMzMzMzMxRAUrgehetRFkBSuB6F61EWQFK4HoXrURZAUrgehetRFkBSuB6F61EWQFK4HoXrURZAmpmZmZmZFUCamZmZmZkVQJqZmZmZmRVAmpmZmZmZFUCamZmZmZkVQJqZmZmZmRVAUrgehetRFEBSuB6F61EUQFK4HoXrURRAUrgehetRFEBSuB6F61EUQFK4HoXrURRAzczMzMzMFkDNzMzMzMwWQM3MzMzMzBZAzczMzMzMFkDNzMzMzMwWQM3MzMzMzBZAmpmZmZmZFUCamZmZmZkVQJqZmZmZmRVAmpmZmZmZFUCamZmZmZkVQJqZmZmZmRVASOF6FK5HFkBI4XoUrkcWQEjhehSuRxZASOF6FK5HFkBI4XoUrkcWQEjhehSuRxZAZmZmZmZmF0BmZmZmZmYXQGZmZmZmZhdAZmZmZmZmF0BmZmZmZmYXQGZmZmZmZhdA16NwPQrXFUDXo3A9CtcVQNejcD0K1xVA16NwPQrXFUDXo3A9CtcVQNejcD0K1xVAexSuR+F6E0B7FK5H4XoTQHsUrkfhehNAexSuR+F6E0B7FK5H4XoTQHsUrkfhehNAcT0K16NwF0BxPQrXo3AXQHE9CtejcBdAcT0K16NwF0BxPQrXo3AXQHE9CtejcBdAKVyPwvUoGUApXI\\u002fC9SgZQClcj8L1KBlAKVyPwvUoGUApXI\\u002fC9SgZQClcj8L1KBlAw\\u002fUoXI\\u002fCF0DD9Shcj8IXQMP1KFyPwhdAw\\u002fUoXI\\u002fCF0DD9Shcj8IXQMP1KFyPwhdAAAAAAAAAGEAAAAAAAAAYQAAAAAAAABhAAAAAAAAAGEAAAAAAAAAYQAAAAAAAABhAw\\u002fUoXI\\u002fCF0DD9Shcj8IXQMP1KFyPwhdAw\\u002fUoXI\\u002fCF0DD9Shcj8IXQMP1KFyPwhdAFK5H4XoUGEAUrkfhehQYQBSuR+F6FBhAFK5H4XoUGEAUrkfhehQYQBSuR+F6FBhAzczMzMzMFUDNzMzMzMwVQM3MzMzMzBVAzczMzMzMFUDNzMzMzMwVQM3MzMzMzBVAMzMzMzMzGEAzMzMzMzMYQDMzMzMzMxhAMzMzMzMzGEAzMzMzMzMYQDMzMzMzMxhAmpmZmZmZF0CamZmZmZkXQJqZmZmZmRdAmpmZmZmZF0CamZmZmZkXQJqZmZmZmRdAZmZmZmZmFEBmZmZmZmYUQGZmZmZmZhRAZmZmZmZmFEBmZmZmZmYUQGZmZmZmZhRAXI\\u002fC9ShcH0Bcj8L1KFwfQFyPwvUoXB9AXI\\u002fC9ShcH0Bcj8L1KFwfQFyPwvUoXB9AUrgehetRH0BSuB6F61EfQFK4HoXrUR9AUrgehetRH0BSuB6F61EfQFK4HoXrUR9AzczMzMzMGkDNzMzMzMwaQM3MzMzMzBpAzczMzMzMGkDNzMzMzMwaQM3MzMzMzBpAzczMzMzMGkDNzMzMzMwaQM3MzMzMzBpAzczMzMzMGkDNzMzMzMwaQM3MzMzMzBpA4XoUrkfhHkDhehSuR+EeQOF6FK5H4R5A4XoUrkfhHkDhehSuR+EeQOF6FK5H4R5AH4XrUbgeHkAfhetRuB4eQB+F61G4Hh5AH4XrUbgeHkAfhetRuB4eQB+F61G4Hh5AAAAAAAAAIEAAAAAAAAAgQAAAAAAAACBAAAAAAAAAIEAAAAAAAAAgQAAAAAAAACBA9ihcj8L1G0D2KFyPwvUbQPYoXI\\u002fC9RtA9ihcj8L1G0D2KFyPwvUbQPYoXI\\u002fC9RtAw\\u002fUoXI\\u002fCG0DD9Shcj8IbQMP1KFyPwhtAw\\u002fUoXI\\u002fCG0DD9Shcj8IbQMP1KFyPwhtAMzMzMzMzIkAzMzMzMzMiQDMzMzMzMyJAMzMzMzMzIkAzMzMzMzMiQDMzMzMzMyJA\"},\"type\":\"bar\"}],                        {\"barmode\":\"group\",\"template\":{\"data\":{\"barpolar\":[{\"marker\":{\"line\":{\"color\":\"#E5ECF6\",\"width\":0.5},\"pattern\":{\"fillmode\":\"overlay\",\"size\":10,\"solidity\":0.2}},\"type\":\"barpolar\"}],\"bar\":[{\"error_x\":{\"color\":\"#2a3f5f\"},\"error_y\":{\"color\":\"#2a3f5f\"},\"marker\":{\"line\":{\"color\":\"#E5ECF6\",\"width\":0.5},\"pattern\":{\"fillmode\":\"overlay\",\"size\":10,\"solidity\":0.2}},\"type\":\"bar\"}],\"carpet\":[{\"aaxis\":{\"endlinecolor\":\"#2a3f5f\",\"gridcolor\":\"white\",\"linecolor\":\"white\",\"minorgridcolor\":\"white\",\"startlinecolor\":\"#2a3f5f\"},\"baxis\":{\"endlinecolor\":\"#2a3f5f\",\"gridcolor\":\"white\",\"linecolor\":\"white\",\"minorgridcolor\":\"white\",\"startlinecolor\":\"#2a3f5f\"},\"type\":\"carpet\"}],\"choropleth\":[{\"colorbar\":{\"outlinewidth\":0,\"ticks\":\"\"},\"type\":\"choropleth\"}],\"contourcarpet\":[{\"colorbar\":{\"outlinewidth\":0,\"ticks\":\"\"},\"type\":\"contourcarpet\"}],\"contour\":[{\"colorbar\":{\"outlinewidth\":0,\"ticks\":\"\"},\"colorscale\":[[0.0,\"#0d0887\"],[0.1111111111111111,\"#46039f\"],[0.2222222222222222,\"#7201a8\"],[0.3333333333333333,\"#9c179e\"],[0.4444444444444444,\"#bd3786\"],[0.5555555555555556,\"#d8576b\"],[0.6666666666666666,\"#ed7953\"],[0.7777777777777778,\"#fb9f3a\"],[0.8888888888888888,\"#fdca26\"],[1.0,\"#f0f921\"]],\"type\":\"contour\"}],\"heatmap\":[{\"colorbar\":{\"outlinewidth\":0,\"ticks\":\"\"},\"colorscale\":[[0.0,\"#0d0887\"],[0.1111111111111111,\"#46039f\"],[0.2222222222222222,\"#7201a8\"],[0.3333333333333333,\"#9c179e\"],[0.4444444444444444,\"#bd3786\"],[0.5555555555555556,\"#d8576b\"],[0.6666666666666666,\"#ed7953\"],[0.7777777777777778,\"#fb9f3a\"],[0.8888888888888888,\"#fdca26\"],[1.0,\"#f0f921\"]],\"type\":\"heatmap\"}],\"histogram2dcontour\":[{\"colorbar\":{\"outlinewidth\":0,\"ticks\":\"\"},\"colorscale\":[[0.0,\"#0d0887\"],[0.1111111111111111,\"#46039f\"],[0.2222222222222222,\"#7201a8\"],[0.3333333333333333,\"#9c179e\"],[0.4444444444444444,\"#bd3786\"],[0.5555555555555556,\"#d8576b\"],[0.6666666666666666,\"#ed7953\"],[0.7777777777777778,\"#fb9f3a\"],[0.8888888888888888,\"#fdca26\"],[1.0,\"#f0f921\"]],\"type\":\"histogram2dcontour\"}],\"histogram2d\":[{\"colorbar\":{\"outlinewidth\":0,\"ticks\":\"\"},\"colorscale\":[[0.0,\"#0d0887\"],[0.1111111111111111,\"#46039f\"],[0.2222222222222222,\"#7201a8\"],[0.3333333333333333,\"#9c179e\"],[0.4444444444444444,\"#bd3786\"],[0.5555555555555556,\"#d8576b\"],[0.6666666666666666,\"#ed7953\"],[0.7777777777777778,\"#fb9f3a\"],[0.8888888888888888,\"#fdca26\"],[1.0,\"#f0f921\"]],\"type\":\"histogram2d\"}],\"histogram\":[{\"marker\":{\"pattern\":{\"fillmode\":\"overlay\",\"size\":10,\"solidity\":0.2}},\"type\":\"histogram\"}],\"mesh3d\":[{\"colorbar\":{\"outlinewidth\":0,\"ticks\":\"\"},\"type\":\"mesh3d\"}],\"parcoords\":[{\"line\":{\"colorbar\":{\"outlinewidth\":0,\"ticks\":\"\"}},\"type\":\"parcoords\"}],\"pie\":[{\"automargin\":true,\"type\":\"pie\"}],\"scatter3d\":[{\"line\":{\"colorbar\":{\"outlinewidth\":0,\"ticks\":\"\"}},\"marker\":{\"colorbar\":{\"outlinewidth\":0,\"ticks\":\"\"}},\"type\":\"scatter3d\"}],\"scattercarpet\":[{\"marker\":{\"colorbar\":{\"outlinewidth\":0,\"ticks\":\"\"}},\"type\":\"scattercarpet\"}],\"scattergeo\":[{\"marker\":{\"colorbar\":{\"outlinewidth\":0,\"ticks\":\"\"}},\"type\":\"scattergeo\"}],\"scattergl\":[{\"marker\":{\"colorbar\":{\"outlinewidth\":0,\"ticks\":\"\"}},\"type\":\"scattergl\"}],\"scattermapbox\":[{\"marker\":{\"colorbar\":{\"outlinewidth\":0,\"ticks\":\"\"}},\"type\":\"scattermapbox\"}],\"scattermap\":[{\"marker\":{\"colorbar\":{\"outlinewidth\":0,\"ticks\":\"\"}},\"type\":\"scattermap\"}],\"scatterpolargl\":[{\"marker\":{\"colorbar\":{\"outlinewidth\":0,\"ticks\":\"\"}},\"type\":\"scatterpolargl\"}],\"scatterpolar\":[{\"marker\":{\"colorbar\":{\"outlinewidth\":0,\"ticks\":\"\"}},\"type\":\"scatterpolar\"}],\"scatter\":[{\"fillpattern\":{\"fillmode\":\"overlay\",\"size\":10,\"solidity\":0.2},\"type\":\"scatter\"}],\"scatterternary\":[{\"marker\":{\"colorbar\":{\"outlinewidth\":0,\"ticks\":\"\"}},\"type\":\"scatterternary\"}],\"surface\":[{\"colorbar\":{\"outlinewidth\":0,\"ticks\":\"\"},\"colorscale\":[[0.0,\"#0d0887\"],[0.1111111111111111,\"#46039f\"],[0.2222222222222222,\"#7201a8\"],[0.3333333333333333,\"#9c179e\"],[0.4444444444444444,\"#bd3786\"],[0.5555555555555556,\"#d8576b\"],[0.6666666666666666,\"#ed7953\"],[0.7777777777777778,\"#fb9f3a\"],[0.8888888888888888,\"#fdca26\"],[1.0,\"#f0f921\"]],\"type\":\"surface\"}],\"table\":[{\"cells\":{\"fill\":{\"color\":\"#EBF0F8\"},\"line\":{\"color\":\"white\"}},\"header\":{\"fill\":{\"color\":\"#C8D4E3\"},\"line\":{\"color\":\"white\"}},\"type\":\"table\"}]},\"layout\":{\"annotationdefaults\":{\"arrowcolor\":\"#2a3f5f\",\"arrowhead\":0,\"arrowwidth\":1},\"autotypenumbers\":\"strict\",\"coloraxis\":{\"colorbar\":{\"outlinewidth\":0,\"ticks\":\"\"}},\"colorscale\":{\"diverging\":[[0,\"#8e0152\"],[0.1,\"#c51b7d\"],[0.2,\"#de77ae\"],[0.3,\"#f1b6da\"],[0.4,\"#fde0ef\"],[0.5,\"#f7f7f7\"],[0.6,\"#e6f5d0\"],[0.7,\"#b8e186\"],[0.8,\"#7fbc41\"],[0.9,\"#4d9221\"],[1,\"#276419\"]],\"sequential\":[[0.0,\"#0d0887\"],[0.1111111111111111,\"#46039f\"],[0.2222222222222222,\"#7201a8\"],[0.3333333333333333,\"#9c179e\"],[0.4444444444444444,\"#bd3786\"],[0.5555555555555556,\"#d8576b\"],[0.6666666666666666,\"#ed7953\"],[0.7777777777777778,\"#fb9f3a\"],[0.8888888888888888,\"#fdca26\"],[1.0,\"#f0f921\"]],\"sequentialminus\":[[0.0,\"#0d0887\"],[0.1111111111111111,\"#46039f\"],[0.2222222222222222,\"#7201a8\"],[0.3333333333333333,\"#9c179e\"],[0.4444444444444444,\"#bd3786\"],[0.5555555555555556,\"#d8576b\"],[0.6666666666666666,\"#ed7953\"],[0.7777777777777778,\"#fb9f3a\"],[0.8888888888888888,\"#fdca26\"],[1.0,\"#f0f921\"]]},\"colorway\":[\"#636efa\",\"#EF553B\",\"#00cc96\",\"#ab63fa\",\"#FFA15A\",\"#19d3f3\",\"#FF6692\",\"#B6E880\",\"#FF97FF\",\"#FECB52\"],\"font\":{\"color\":\"#2a3f5f\"},\"geo\":{\"bgcolor\":\"white\",\"lakecolor\":\"white\",\"landcolor\":\"#E5ECF6\",\"showlakes\":true,\"showland\":true,\"subunitcolor\":\"white\"},\"hoverlabel\":{\"align\":\"left\"},\"hovermode\":\"closest\",\"mapbox\":{\"style\":\"light\"},\"paper_bgcolor\":\"white\",\"plot_bgcolor\":\"#E5ECF6\",\"polar\":{\"angularaxis\":{\"gridcolor\":\"white\",\"linecolor\":\"white\",\"ticks\":\"\"},\"bgcolor\":\"#E5ECF6\",\"radialaxis\":{\"gridcolor\":\"white\",\"linecolor\":\"white\",\"ticks\":\"\"}},\"scene\":{\"xaxis\":{\"backgroundcolor\":\"#E5ECF6\",\"gridcolor\":\"white\",\"gridwidth\":2,\"linecolor\":\"white\",\"showbackground\":true,\"ticks\":\"\",\"zerolinecolor\":\"white\"},\"yaxis\":{\"backgroundcolor\":\"#E5ECF6\",\"gridcolor\":\"white\",\"gridwidth\":2,\"linecolor\":\"white\",\"showbackground\":true,\"ticks\":\"\",\"zerolinecolor\":\"white\"},\"zaxis\":{\"backgroundcolor\":\"#E5ECF6\",\"gridcolor\":\"white\",\"gridwidth\":2,\"linecolor\":\"white\",\"showbackground\":true,\"ticks\":\"\",\"zerolinecolor\":\"white\"}},\"shapedefaults\":{\"line\":{\"color\":\"#2a3f5f\"}},\"ternary\":{\"aaxis\":{\"gridcolor\":\"white\",\"linecolor\":\"white\",\"ticks\":\"\"},\"baxis\":{\"gridcolor\":\"white\",\"linecolor\":\"white\",\"ticks\":\"\"},\"bgcolor\":\"#E5ECF6\",\"caxis\":{\"gridcolor\":\"white\",\"linecolor\":\"white\",\"ticks\":\"\"}},\"title\":{\"x\":0.05},\"xaxis\":{\"automargin\":true,\"gridcolor\":\"white\",\"linecolor\":\"white\",\"ticks\":\"\",\"title\":{\"standoff\":15},\"zerolinecolor\":\"white\",\"zerolinewidth\":2},\"yaxis\":{\"automargin\":true,\"gridcolor\":\"white\",\"linecolor\":\"white\",\"ticks\":\"\",\"title\":{\"standoff\":15},\"zerolinecolor\":\"white\",\"zerolinewidth\":2}}}},                        {\"responsive\": true}                    ).then(function(){\n",
       "                            \n",
       "var gd = document.getElementById('0533cc66-4898-4120-a749-56ec9c6043ee');\n",
       "var x = new MutationObserver(function (mutations, observer) {{\n",
       "        var display = window.getComputedStyle(gd).display;\n",
       "        if (!display || display === 'none') {{\n",
       "            console.log([gd, 'removed!']);\n",
       "            Plotly.purge(gd);\n",
       "            observer.disconnect();\n",
       "        }}\n",
       "}});\n",
       "\n",
       "// Listen for the removal of the full notebook cells\n",
       "var notebookContainer = gd.closest('#notebook-container');\n",
       "if (notebookContainer) {{\n",
       "    x.observe(notebookContainer, {childList: true});\n",
       "}}\n",
       "\n",
       "// Listen for the clearing of the current output cell\n",
       "var outputEl = gd.closest('.output');\n",
       "if (outputEl) {{\n",
       "    x.observe(outputEl, {childList: true});\n",
       "}}\n",
       "\n",
       "                        })                };            </script>        </div>"
      ]
     },
     "metadata": {},
     "output_type": "display_data"
    }
   ],
   "source": [
    "#Evaluar la relación del BMI y hba1c de cada grupo mediante un gráfico de barras interactivo\n",
    "\n",
    "trace1 = go.Bar(x = sample_metadata[\"HEALTH_STATUS\"],\n",
    "                y = sample_metadata['BMI'],\n",
    "                name = 'BMI',\n",
    "                marker = dict(color = 'rgba(0, 40, 70, 20)'),\n",
    "                )\n",
    "\n",
    "trace2 = go.Bar(x = sample_metadata[\"HEALTH_STATUS\"],\n",
    "               y = sample_metadata['hba1c'],\n",
    "               name = 'hba1c',\n",
    "               marker = dict(color = 'rgba(255, 148, 7, 80)'),\n",
    "               )\n",
    "\n",
    "data = [trace1, trace2] \n",
    "\n",
    "layout = go.Layout(barmode = \"group\") \n",
    "\n",
    "fig = go.Figure(data = data, layout = layout)\n",
    "\n",
    "iplot(fig)"
   ]
  },
  {
   "cell_type": "code",
   "execution_count": 23,
   "id": "c0292a31",
   "metadata": {},
   "outputs": [
    {
     "data": {
      "application/vnd.plotly.v1+json": {
       "config": {
        "linkText": "Export to plot.ly",
        "plotlyServerURL": "https://plot.ly",
        "showLink": false
       },
       "data": [
        {
         "name": "BMI",
         "type": "bar",
         "x": [
          "healthy subjects",
          "healthy subjects",
          "healthy subjects",
          "healthy subjects",
          "healthy subjects",
          "healthy subjects",
          "healthy subjects",
          "healthy subjects",
          "healthy subjects",
          "healthy subjects",
          "healthy subjects",
          "healthy subjects",
          "healthy subjects",
          "healthy subjects",
          "healthy subjects",
          "healthy subjects",
          "healthy subjects",
          "healthy subjects",
          "healthy subjects",
          "healthy subjects",
          "healthy subjects",
          "healthy subjects",
          "healthy subjects",
          "healthy subjects",
          "healthy subjects",
          "healthy subjects",
          "healthy subjects",
          "healthy subjects",
          "healthy subjects",
          "healthy subjects",
          "healthy subjects",
          "healthy subjects",
          "healthy subjects",
          "healthy subjects",
          "healthy subjects",
          "healthy subjects",
          "healthy subjects",
          "healthy subjects",
          "healthy subjects",
          "healthy subjects",
          "healthy subjects",
          "healthy subjects",
          "healthy subjects",
          "healthy subjects",
          "healthy subjects",
          "healthy subjects",
          "healthy subjects",
          "healthy subjects",
          "healthy subjects",
          "healthy subjects",
          "healthy subjects",
          "healthy subjects",
          "healthy subjects",
          "healthy subjects",
          "healthy subjects",
          "healthy subjects",
          "healthy subjects",
          "healthy subjects",
          "healthy subjects",
          "healthy subjects",
          "prediabetic",
          "prediabetic",
          "prediabetic",
          "prediabetic",
          "prediabetic",
          "prediabetic",
          "prediabetic",
          "prediabetic",
          "prediabetic",
          "prediabetic",
          "prediabetic",
          "prediabetic",
          "prediabetic",
          "prediabetic",
          "prediabetic",
          "prediabetic",
          "prediabetic",
          "prediabetic",
          "prediabetic",
          "prediabetic",
          "prediabetic",
          "prediabetic",
          "prediabetic",
          "prediabetic",
          "prediabetic",
          "prediabetic",
          "prediabetic",
          "prediabetic",
          "prediabetic",
          "prediabetic",
          "prediabetic",
          "prediabetic",
          "prediabetic",
          "prediabetic",
          "prediabetic",
          "prediabetic",
          "prediabetic",
          "prediabetic",
          "prediabetic",
          "prediabetic",
          "prediabetic",
          "prediabetic",
          "prediabetic",
          "prediabetic",
          "prediabetic",
          "prediabetic",
          "prediabetic",
          "prediabetic",
          "prediabetic",
          "prediabetic",
          "prediabetic",
          "prediabetic",
          "prediabetic",
          "prediabetic",
          "prediabetic",
          "prediabetic",
          "prediabetic",
          "prediabetic",
          "prediabetic",
          "prediabetic",
          "diabetic subjects",
          "diabetic subjects",
          "diabetic subjects",
          "diabetic subjects",
          "diabetic subjects",
          "diabetic subjects",
          "diabetic subjects",
          "diabetic subjects",
          "diabetic subjects",
          "diabetic subjects",
          "diabetic subjects",
          "diabetic subjects",
          "diabetic subjects",
          "diabetic subjects",
          "diabetic subjects",
          "diabetic subjects",
          "diabetic subjects",
          "diabetic subjects",
          "diabetic subjects",
          "diabetic subjects",
          "diabetic subjects",
          "diabetic subjects",
          "diabetic subjects",
          "diabetic subjects",
          "diabetic subjects",
          "diabetic subjects",
          "diabetic subjects",
          "diabetic subjects",
          "diabetic subjects",
          "diabetic subjects",
          "diabetic subjects",
          "diabetic subjects",
          "diabetic subjects",
          "diabetic subjects",
          "diabetic subjects",
          "diabetic subjects",
          "diabetic subjects",
          "diabetic subjects",
          "diabetic subjects",
          "diabetic subjects",
          "diabetic subjects",
          "diabetic subjects",
          "diabetic subjects",
          "diabetic subjects",
          "diabetic subjects",
          "diabetic subjects",
          "diabetic subjects",
          "diabetic subjects",
          "diabetic subjects",
          "diabetic subjects",
          "diabetic subjects",
          "diabetic subjects",
          "diabetic subjects",
          "diabetic subjects",
          "diabetic subjects",
          "diabetic subjects",
          "diabetic subjects",
          "diabetic subjects",
          "diabetic subjects",
          "diabetic subjects"
         ],
         "y": {
          "bdata": "ZmZmZmbmO0BmZmZmZuY7QGZmZmZm5jtAZmZmZmbmO0BmZmZmZuY7QGZmZmZm5jtAAAAAAACANEAAAAAAAIA0QAAAAAAAgDRAAAAAAACANEAAAAAAAIA0QAAAAAAAgDRAZmZmZmZmNUBmZmZmZmY1QGZmZmZmZjVAZmZmZmZmNUBmZmZmZmY1QGZmZmZmZjVAMzMzMzMzO0AzMzMzMzM7QDMzMzMzMztAMzMzMzMzO0AzMzMzMzM7QDMzMzMzMztAAAAAAACAOkAAAAAAAIA6QAAAAAAAgDpAAAAAAACAOkAAAAAAAIA6QAAAAAAAgDpAAAAAAACANEAAAAAAAIA0QAAAAAAAgDRAAAAAAACANEAAAAAAAIA0QAAAAAAAgDRAMzMzMzOzOEAzMzMzM7M4QDMzMzMzszhAMzMzMzOzOEAzMzMzM7M4QDMzMzMzszhAZmZmZmbmM0BmZmZmZuYzQGZmZmZm5jNAZmZmZmbmM0BmZmZmZuYzQGZmZmZm5jNAzczMzMzMNEDNzMzMzMw0QM3MzMzMzDRAzczMzMzMNEDNzMzMzMw0QM3MzMzMzDRAzczMzMzMO0DNzMzMzMw7QM3MzMzMzDtAzczMzMzMO0DNzMzMzMw7QM3MzMzMzDtAZmZmZmZmQUBmZmZmZmZBQGZmZmZmZkFAZmZmZmZmQUBmZmZmZmZBQGZmZmZmZkFAzczMzMxMPEDNzMzMzEw8QM3MzMzMTDxAzczMzMxMPEDNzMzMzEw8QM3MzMzMTDxAZmZmZmYmQEBmZmZmZiZAQGZmZmZmJkBAZmZmZmYmQEBmZmZmZiZAQGZmZmZmJkBAMzMzMzNzQ0AzMzMzM3NDQDMzMzMzc0NAMzMzMzNzQ0AzMzMzM3NDQDMzMzMzc0NAMzMzMzOzQUAzMzMzM7NBQDMzMzMzs0FAMzMzMzOzQUAzMzMzM7NBQDMzMzMzs0FAmpmZmZnZQECamZmZmdlAQJqZmZmZ2UBAmpmZmZnZQECamZmZmdlAQJqZmZmZ2UBAAAAAAAAAPkAAAAAAAAA+QAAAAAAAAD5AAAAAAAAAPkAAAAAAAAA+QAAAAAAAAD5AzczMzMwMREDNzMzMzAxEQM3MzMzMDERAzczMzMwMREDNzMzMzAxEQM3MzMzMDERAMzMzMzMzPUAzMzMzMzM9QDMzMzMzMz1AMzMzMzMzPUAzMzMzMzM9QDMzMzMzMz1AMzMzMzPzREAzMzMzM/NEQDMzMzMz80RAMzMzMzPzREAzMzMzM/NEQDMzMzMz80RAMzMzMzNzQ0AzMzMzM3NDQDMzMzMzc0NAMzMzMzNzQ0AzMzMzM3NDQDMzMzMzc0NAMzMzMzNzQEAzMzMzM3NAQDMzMzMzc0BAMzMzMzNzQEAzMzMzM3NAQDMzMzMzc0BAmpmZmZlZQECamZmZmVlAQJqZmZmZWUBAmpmZmZlZQECamZmZmVlAQJqZmZmZWUBAAAAAAACAO0AAAAAAAIA7QAAAAAAAgDtAAAAAAACAO0AAAAAAAIA7QAAAAAAAgDtAMzMzMzMzPkAzMzMzMzM+QDMzMzMzMz5AMzMzMzMzPkAzMzMzMzM+QDMzMzMzMz5AmpmZmZmZOkCamZmZmZk6QJqZmZmZmTpAmpmZmZmZOkCamZmZmZk6QJqZmZmZmTpAZmZmZmYmQUBmZmZmZiZBQGZmZmZmJkFAZmZmZmYmQUBmZmZmZiZBQGZmZmZmJkFAAAAAAAAAO0AAAAAAAAA7QAAAAAAAADtAAAAAAAAAO0AAAAAAAAA7QAAAAAAAADtAMzMzMzMzO0AzMzMzMzM7QDMzMzMzMztAMzMzMzMzO0AzMzMzMzM7QDMzMzMzMztAzczMzMxMQ0DNzMzMzExDQM3MzMzMTENAzczMzMxMQ0DNzMzMzExDQM3MzMzMTENA",
          "dtype": "f8"
         }
        },
        {
         "name": "hba1c",
         "type": "bar",
         "x": [
          "healthy subjects",
          "healthy subjects",
          "healthy subjects",
          "healthy subjects",
          "healthy subjects",
          "healthy subjects",
          "healthy subjects",
          "healthy subjects",
          "healthy subjects",
          "healthy subjects",
          "healthy subjects",
          "healthy subjects",
          "healthy subjects",
          "healthy subjects",
          "healthy subjects",
          "healthy subjects",
          "healthy subjects",
          "healthy subjects",
          "healthy subjects",
          "healthy subjects",
          "healthy subjects",
          "healthy subjects",
          "healthy subjects",
          "healthy subjects",
          "healthy subjects",
          "healthy subjects",
          "healthy subjects",
          "healthy subjects",
          "healthy subjects",
          "healthy subjects",
          "healthy subjects",
          "healthy subjects",
          "healthy subjects",
          "healthy subjects",
          "healthy subjects",
          "healthy subjects",
          "healthy subjects",
          "healthy subjects",
          "healthy subjects",
          "healthy subjects",
          "healthy subjects",
          "healthy subjects",
          "healthy subjects",
          "healthy subjects",
          "healthy subjects",
          "healthy subjects",
          "healthy subjects",
          "healthy subjects",
          "healthy subjects",
          "healthy subjects",
          "healthy subjects",
          "healthy subjects",
          "healthy subjects",
          "healthy subjects",
          "healthy subjects",
          "healthy subjects",
          "healthy subjects",
          "healthy subjects",
          "healthy subjects",
          "healthy subjects",
          "prediabetic",
          "prediabetic",
          "prediabetic",
          "prediabetic",
          "prediabetic",
          "prediabetic",
          "prediabetic",
          "prediabetic",
          "prediabetic",
          "prediabetic",
          "prediabetic",
          "prediabetic",
          "prediabetic",
          "prediabetic",
          "prediabetic",
          "prediabetic",
          "prediabetic",
          "prediabetic",
          "prediabetic",
          "prediabetic",
          "prediabetic",
          "prediabetic",
          "prediabetic",
          "prediabetic",
          "prediabetic",
          "prediabetic",
          "prediabetic",
          "prediabetic",
          "prediabetic",
          "prediabetic",
          "prediabetic",
          "prediabetic",
          "prediabetic",
          "prediabetic",
          "prediabetic",
          "prediabetic",
          "prediabetic",
          "prediabetic",
          "prediabetic",
          "prediabetic",
          "prediabetic",
          "prediabetic",
          "prediabetic",
          "prediabetic",
          "prediabetic",
          "prediabetic",
          "prediabetic",
          "prediabetic",
          "prediabetic",
          "prediabetic",
          "prediabetic",
          "prediabetic",
          "prediabetic",
          "prediabetic",
          "prediabetic",
          "prediabetic",
          "prediabetic",
          "prediabetic",
          "prediabetic",
          "prediabetic",
          "diabetic subjects",
          "diabetic subjects",
          "diabetic subjects",
          "diabetic subjects",
          "diabetic subjects",
          "diabetic subjects",
          "diabetic subjects",
          "diabetic subjects",
          "diabetic subjects",
          "diabetic subjects",
          "diabetic subjects",
          "diabetic subjects",
          "diabetic subjects",
          "diabetic subjects",
          "diabetic subjects",
          "diabetic subjects",
          "diabetic subjects",
          "diabetic subjects",
          "diabetic subjects",
          "diabetic subjects",
          "diabetic subjects",
          "diabetic subjects",
          "diabetic subjects",
          "diabetic subjects",
          "diabetic subjects",
          "diabetic subjects",
          "diabetic subjects",
          "diabetic subjects",
          "diabetic subjects",
          "diabetic subjects",
          "diabetic subjects",
          "diabetic subjects",
          "diabetic subjects",
          "diabetic subjects",
          "diabetic subjects",
          "diabetic subjects",
          "diabetic subjects",
          "diabetic subjects",
          "diabetic subjects",
          "diabetic subjects",
          "diabetic subjects",
          "diabetic subjects",
          "diabetic subjects",
          "diabetic subjects",
          "diabetic subjects",
          "diabetic subjects",
          "diabetic subjects",
          "diabetic subjects",
          "diabetic subjects",
          "diabetic subjects",
          "diabetic subjects",
          "diabetic subjects",
          "diabetic subjects",
          "diabetic subjects",
          "diabetic subjects",
          "diabetic subjects",
          "diabetic subjects",
          "diabetic subjects",
          "diabetic subjects",
          "diabetic subjects"
         ],
         "y": {
          "bdata": "MzMzMzMzFEAzMzMzMzMUQDMzMzMzMxRAMzMzMzMzFEAzMzMzMzMUQDMzMzMzMxRAUrgehetRFkBSuB6F61EWQFK4HoXrURZAUrgehetRFkBSuB6F61EWQFK4HoXrURZAmpmZmZmZFUCamZmZmZkVQJqZmZmZmRVAmpmZmZmZFUCamZmZmZkVQJqZmZmZmRVAUrgehetRFEBSuB6F61EUQFK4HoXrURRAUrgehetRFEBSuB6F61EUQFK4HoXrURRAzczMzMzMFkDNzMzMzMwWQM3MzMzMzBZAzczMzMzMFkDNzMzMzMwWQM3MzMzMzBZAmpmZmZmZFUCamZmZmZkVQJqZmZmZmRVAmpmZmZmZFUCamZmZmZkVQJqZmZmZmRVASOF6FK5HFkBI4XoUrkcWQEjhehSuRxZASOF6FK5HFkBI4XoUrkcWQEjhehSuRxZAZmZmZmZmF0BmZmZmZmYXQGZmZmZmZhdAZmZmZmZmF0BmZmZmZmYXQGZmZmZmZhdA16NwPQrXFUDXo3A9CtcVQNejcD0K1xVA16NwPQrXFUDXo3A9CtcVQNejcD0K1xVAexSuR+F6E0B7FK5H4XoTQHsUrkfhehNAexSuR+F6E0B7FK5H4XoTQHsUrkfhehNAcT0K16NwF0BxPQrXo3AXQHE9CtejcBdAcT0K16NwF0BxPQrXo3AXQHE9CtejcBdAKVyPwvUoGUApXI/C9SgZQClcj8L1KBlAKVyPwvUoGUApXI/C9SgZQClcj8L1KBlAw/UoXI/CF0DD9Shcj8IXQMP1KFyPwhdAw/UoXI/CF0DD9Shcj8IXQMP1KFyPwhdAAAAAAAAAGEAAAAAAAAAYQAAAAAAAABhAAAAAAAAAGEAAAAAAAAAYQAAAAAAAABhAw/UoXI/CF0DD9Shcj8IXQMP1KFyPwhdAw/UoXI/CF0DD9Shcj8IXQMP1KFyPwhdAFK5H4XoUGEAUrkfhehQYQBSuR+F6FBhAFK5H4XoUGEAUrkfhehQYQBSuR+F6FBhAzczMzMzMFUDNzMzMzMwVQM3MzMzMzBVAzczMzMzMFUDNzMzMzMwVQM3MzMzMzBVAMzMzMzMzGEAzMzMzMzMYQDMzMzMzMxhAMzMzMzMzGEAzMzMzMzMYQDMzMzMzMxhAmpmZmZmZF0CamZmZmZkXQJqZmZmZmRdAmpmZmZmZF0CamZmZmZkXQJqZmZmZmRdAZmZmZmZmFEBmZmZmZmYUQGZmZmZmZhRAZmZmZmZmFEBmZmZmZmYUQGZmZmZmZhRAXI/C9ShcH0Bcj8L1KFwfQFyPwvUoXB9AXI/C9ShcH0Bcj8L1KFwfQFyPwvUoXB9AUrgehetRH0BSuB6F61EfQFK4HoXrUR9AUrgehetRH0BSuB6F61EfQFK4HoXrUR9AzczMzMzMGkDNzMzMzMwaQM3MzMzMzBpAzczMzMzMGkDNzMzMzMwaQM3MzMzMzBpAzczMzMzMGkDNzMzMzMwaQM3MzMzMzBpAzczMzMzMGkDNzMzMzMwaQM3MzMzMzBpA4XoUrkfhHkDhehSuR+EeQOF6FK5H4R5A4XoUrkfhHkDhehSuR+EeQOF6FK5H4R5AH4XrUbgeHkAfhetRuB4eQB+F61G4Hh5AH4XrUbgeHkAfhetRuB4eQB+F61G4Hh5AAAAAAAAAIEAAAAAAAAAgQAAAAAAAACBAAAAAAAAAIEAAAAAAAAAgQAAAAAAAACBA9ihcj8L1G0D2KFyPwvUbQPYoXI/C9RtA9ihcj8L1G0D2KFyPwvUbQPYoXI/C9RtAw/UoXI/CG0DD9Shcj8IbQMP1KFyPwhtAw/UoXI/CG0DD9Shcj8IbQMP1KFyPwhtAMzMzMzMzIkAzMzMzMzMiQDMzMzMzMyJAMzMzMzMzIkAzMzMzMzMiQDMzMzMzMyJA",
          "dtype": "f8"
         }
        }
       ],
       "layout": {
        "barmode": "group",
        "template": {
         "data": {
          "bar": [
           {
            "error_x": {
             "color": "#2a3f5f"
            },
            "error_y": {
             "color": "#2a3f5f"
            },
            "marker": {
             "line": {
              "color": "#E5ECF6",
              "width": 0.5
             },
             "pattern": {
              "fillmode": "overlay",
              "size": 10,
              "solidity": 0.2
             }
            },
            "type": "bar"
           }
          ],
          "barpolar": [
           {
            "marker": {
             "line": {
              "color": "#E5ECF6",
              "width": 0.5
             },
             "pattern": {
              "fillmode": "overlay",
              "size": 10,
              "solidity": 0.2
             }
            },
            "type": "barpolar"
           }
          ],
          "carpet": [
           {
            "aaxis": {
             "endlinecolor": "#2a3f5f",
             "gridcolor": "white",
             "linecolor": "white",
             "minorgridcolor": "white",
             "startlinecolor": "#2a3f5f"
            },
            "baxis": {
             "endlinecolor": "#2a3f5f",
             "gridcolor": "white",
             "linecolor": "white",
             "minorgridcolor": "white",
             "startlinecolor": "#2a3f5f"
            },
            "type": "carpet"
           }
          ],
          "choropleth": [
           {
            "colorbar": {
             "outlinewidth": 0,
             "ticks": ""
            },
            "type": "choropleth"
           }
          ],
          "contour": [
           {
            "colorbar": {
             "outlinewidth": 0,
             "ticks": ""
            },
            "colorscale": [
             [
              0,
              "#0d0887"
             ],
             [
              0.1111111111111111,
              "#46039f"
             ],
             [
              0.2222222222222222,
              "#7201a8"
             ],
             [
              0.3333333333333333,
              "#9c179e"
             ],
             [
              0.4444444444444444,
              "#bd3786"
             ],
             [
              0.5555555555555556,
              "#d8576b"
             ],
             [
              0.6666666666666666,
              "#ed7953"
             ],
             [
              0.7777777777777778,
              "#fb9f3a"
             ],
             [
              0.8888888888888888,
              "#fdca26"
             ],
             [
              1,
              "#f0f921"
             ]
            ],
            "type": "contour"
           }
          ],
          "contourcarpet": [
           {
            "colorbar": {
             "outlinewidth": 0,
             "ticks": ""
            },
            "type": "contourcarpet"
           }
          ],
          "heatmap": [
           {
            "colorbar": {
             "outlinewidth": 0,
             "ticks": ""
            },
            "colorscale": [
             [
              0,
              "#0d0887"
             ],
             [
              0.1111111111111111,
              "#46039f"
             ],
             [
              0.2222222222222222,
              "#7201a8"
             ],
             [
              0.3333333333333333,
              "#9c179e"
             ],
             [
              0.4444444444444444,
              "#bd3786"
             ],
             [
              0.5555555555555556,
              "#d8576b"
             ],
             [
              0.6666666666666666,
              "#ed7953"
             ],
             [
              0.7777777777777778,
              "#fb9f3a"
             ],
             [
              0.8888888888888888,
              "#fdca26"
             ],
             [
              1,
              "#f0f921"
             ]
            ],
            "type": "heatmap"
           }
          ],
          "histogram": [
           {
            "marker": {
             "pattern": {
              "fillmode": "overlay",
              "size": 10,
              "solidity": 0.2
             }
            },
            "type": "histogram"
           }
          ],
          "histogram2d": [
           {
            "colorbar": {
             "outlinewidth": 0,
             "ticks": ""
            },
            "colorscale": [
             [
              0,
              "#0d0887"
             ],
             [
              0.1111111111111111,
              "#46039f"
             ],
             [
              0.2222222222222222,
              "#7201a8"
             ],
             [
              0.3333333333333333,
              "#9c179e"
             ],
             [
              0.4444444444444444,
              "#bd3786"
             ],
             [
              0.5555555555555556,
              "#d8576b"
             ],
             [
              0.6666666666666666,
              "#ed7953"
             ],
             [
              0.7777777777777778,
              "#fb9f3a"
             ],
             [
              0.8888888888888888,
              "#fdca26"
             ],
             [
              1,
              "#f0f921"
             ]
            ],
            "type": "histogram2d"
           }
          ],
          "histogram2dcontour": [
           {
            "colorbar": {
             "outlinewidth": 0,
             "ticks": ""
            },
            "colorscale": [
             [
              0,
              "#0d0887"
             ],
             [
              0.1111111111111111,
              "#46039f"
             ],
             [
              0.2222222222222222,
              "#7201a8"
             ],
             [
              0.3333333333333333,
              "#9c179e"
             ],
             [
              0.4444444444444444,
              "#bd3786"
             ],
             [
              0.5555555555555556,
              "#d8576b"
             ],
             [
              0.6666666666666666,
              "#ed7953"
             ],
             [
              0.7777777777777778,
              "#fb9f3a"
             ],
             [
              0.8888888888888888,
              "#fdca26"
             ],
             [
              1,
              "#f0f921"
             ]
            ],
            "type": "histogram2dcontour"
           }
          ],
          "mesh3d": [
           {
            "colorbar": {
             "outlinewidth": 0,
             "ticks": ""
            },
            "type": "mesh3d"
           }
          ],
          "parcoords": [
           {
            "line": {
             "colorbar": {
              "outlinewidth": 0,
              "ticks": ""
             }
            },
            "type": "parcoords"
           }
          ],
          "pie": [
           {
            "automargin": true,
            "type": "pie"
           }
          ],
          "scatter": [
           {
            "fillpattern": {
             "fillmode": "overlay",
             "size": 10,
             "solidity": 0.2
            },
            "type": "scatter"
           }
          ],
          "scatter3d": [
           {
            "line": {
             "colorbar": {
              "outlinewidth": 0,
              "ticks": ""
             }
            },
            "marker": {
             "colorbar": {
              "outlinewidth": 0,
              "ticks": ""
             }
            },
            "type": "scatter3d"
           }
          ],
          "scattercarpet": [
           {
            "marker": {
             "colorbar": {
              "outlinewidth": 0,
              "ticks": ""
             }
            },
            "type": "scattercarpet"
           }
          ],
          "scattergeo": [
           {
            "marker": {
             "colorbar": {
              "outlinewidth": 0,
              "ticks": ""
             }
            },
            "type": "scattergeo"
           }
          ],
          "scattergl": [
           {
            "marker": {
             "colorbar": {
              "outlinewidth": 0,
              "ticks": ""
             }
            },
            "type": "scattergl"
           }
          ],
          "scattermap": [
           {
            "marker": {
             "colorbar": {
              "outlinewidth": 0,
              "ticks": ""
             }
            },
            "type": "scattermap"
           }
          ],
          "scattermapbox": [
           {
            "marker": {
             "colorbar": {
              "outlinewidth": 0,
              "ticks": ""
             }
            },
            "type": "scattermapbox"
           }
          ],
          "scatterpolar": [
           {
            "marker": {
             "colorbar": {
              "outlinewidth": 0,
              "ticks": ""
             }
            },
            "type": "scatterpolar"
           }
          ],
          "scatterpolargl": [
           {
            "marker": {
             "colorbar": {
              "outlinewidth": 0,
              "ticks": ""
             }
            },
            "type": "scatterpolargl"
           }
          ],
          "scatterternary": [
           {
            "marker": {
             "colorbar": {
              "outlinewidth": 0,
              "ticks": ""
             }
            },
            "type": "scatterternary"
           }
          ],
          "surface": [
           {
            "colorbar": {
             "outlinewidth": 0,
             "ticks": ""
            },
            "colorscale": [
             [
              0,
              "#0d0887"
             ],
             [
              0.1111111111111111,
              "#46039f"
             ],
             [
              0.2222222222222222,
              "#7201a8"
             ],
             [
              0.3333333333333333,
              "#9c179e"
             ],
             [
              0.4444444444444444,
              "#bd3786"
             ],
             [
              0.5555555555555556,
              "#d8576b"
             ],
             [
              0.6666666666666666,
              "#ed7953"
             ],
             [
              0.7777777777777778,
              "#fb9f3a"
             ],
             [
              0.8888888888888888,
              "#fdca26"
             ],
             [
              1,
              "#f0f921"
             ]
            ],
            "type": "surface"
           }
          ],
          "table": [
           {
            "cells": {
             "fill": {
              "color": "#EBF0F8"
             },
             "line": {
              "color": "white"
             }
            },
            "header": {
             "fill": {
              "color": "#C8D4E3"
             },
             "line": {
              "color": "white"
             }
            },
            "type": "table"
           }
          ]
         },
         "layout": {
          "annotationdefaults": {
           "arrowcolor": "#2a3f5f",
           "arrowhead": 0,
           "arrowwidth": 1
          },
          "autotypenumbers": "strict",
          "coloraxis": {
           "colorbar": {
            "outlinewidth": 0,
            "ticks": ""
           }
          },
          "colorscale": {
           "diverging": [
            [
             0,
             "#8e0152"
            ],
            [
             0.1,
             "#c51b7d"
            ],
            [
             0.2,
             "#de77ae"
            ],
            [
             0.3,
             "#f1b6da"
            ],
            [
             0.4,
             "#fde0ef"
            ],
            [
             0.5,
             "#f7f7f7"
            ],
            [
             0.6,
             "#e6f5d0"
            ],
            [
             0.7,
             "#b8e186"
            ],
            [
             0.8,
             "#7fbc41"
            ],
            [
             0.9,
             "#4d9221"
            ],
            [
             1,
             "#276419"
            ]
           ],
           "sequential": [
            [
             0,
             "#0d0887"
            ],
            [
             0.1111111111111111,
             "#46039f"
            ],
            [
             0.2222222222222222,
             "#7201a8"
            ],
            [
             0.3333333333333333,
             "#9c179e"
            ],
            [
             0.4444444444444444,
             "#bd3786"
            ],
            [
             0.5555555555555556,
             "#d8576b"
            ],
            [
             0.6666666666666666,
             "#ed7953"
            ],
            [
             0.7777777777777778,
             "#fb9f3a"
            ],
            [
             0.8888888888888888,
             "#fdca26"
            ],
            [
             1,
             "#f0f921"
            ]
           ],
           "sequentialminus": [
            [
             0,
             "#0d0887"
            ],
            [
             0.1111111111111111,
             "#46039f"
            ],
            [
             0.2222222222222222,
             "#7201a8"
            ],
            [
             0.3333333333333333,
             "#9c179e"
            ],
            [
             0.4444444444444444,
             "#bd3786"
            ],
            [
             0.5555555555555556,
             "#d8576b"
            ],
            [
             0.6666666666666666,
             "#ed7953"
            ],
            [
             0.7777777777777778,
             "#fb9f3a"
            ],
            [
             0.8888888888888888,
             "#fdca26"
            ],
            [
             1,
             "#f0f921"
            ]
           ]
          },
          "colorway": [
           "#636efa",
           "#EF553B",
           "#00cc96",
           "#ab63fa",
           "#FFA15A",
           "#19d3f3",
           "#FF6692",
           "#B6E880",
           "#FF97FF",
           "#FECB52"
          ],
          "font": {
           "color": "#2a3f5f"
          },
          "geo": {
           "bgcolor": "white",
           "lakecolor": "white",
           "landcolor": "#E5ECF6",
           "showlakes": true,
           "showland": true,
           "subunitcolor": "white"
          },
          "hoverlabel": {
           "align": "left"
          },
          "hovermode": "closest",
          "mapbox": {
           "style": "light"
          },
          "paper_bgcolor": "white",
          "plot_bgcolor": "#E5ECF6",
          "polar": {
           "angularaxis": {
            "gridcolor": "white",
            "linecolor": "white",
            "ticks": ""
           },
           "bgcolor": "#E5ECF6",
           "radialaxis": {
            "gridcolor": "white",
            "linecolor": "white",
            "ticks": ""
           }
          },
          "scene": {
           "xaxis": {
            "backgroundcolor": "#E5ECF6",
            "gridcolor": "white",
            "gridwidth": 2,
            "linecolor": "white",
            "showbackground": true,
            "ticks": "",
            "zerolinecolor": "white"
           },
           "yaxis": {
            "backgroundcolor": "#E5ECF6",
            "gridcolor": "white",
            "gridwidth": 2,
            "linecolor": "white",
            "showbackground": true,
            "ticks": "",
            "zerolinecolor": "white"
           },
           "zaxis": {
            "backgroundcolor": "#E5ECF6",
            "gridcolor": "white",
            "gridwidth": 2,
            "linecolor": "white",
            "showbackground": true,
            "ticks": "",
            "zerolinecolor": "white"
           }
          },
          "shapedefaults": {
           "line": {
            "color": "#2a3f5f"
           }
          },
          "ternary": {
           "aaxis": {
            "gridcolor": "white",
            "linecolor": "white",
            "ticks": ""
           },
           "baxis": {
            "gridcolor": "white",
            "linecolor": "white",
            "ticks": ""
           },
           "bgcolor": "#E5ECF6",
           "caxis": {
            "gridcolor": "white",
            "linecolor": "white",
            "ticks": ""
           }
          },
          "title": {
           "x": 0.05
          },
          "xaxis": {
           "automargin": true,
           "gridcolor": "white",
           "linecolor": "white",
           "ticks": "",
           "title": {
            "standoff": 15
           },
           "zerolinecolor": "white",
           "zerolinewidth": 2
          },
          "yaxis": {
           "automargin": true,
           "gridcolor": "white",
           "linecolor": "white",
           "ticks": "",
           "title": {
            "standoff": 15
           },
           "zerolinecolor": "white",
           "zerolinewidth": 2
          }
         }
        },
        "title": {
         "text": "Relación entre BMI y hba1c"
        },
        "xaxis": {
         "title": {
          "text": "Estado de Salud"
         }
        }
       }
      },
      "text/html": [
       "<div>            <script src=\"https://cdnjs.cloudflare.com/ajax/libs/mathjax/2.7.5/MathJax.js?config=TeX-AMS-MML_SVG\"></script><script type=\"text/javascript\">if (window.MathJax && window.MathJax.Hub && window.MathJax.Hub.Config) {window.MathJax.Hub.Config({SVG: {font: \"STIX-Web\"}});}</script>                <script type=\"text/javascript\">window.PlotlyConfig = {MathJaxConfig: 'local'};</script>\n",
       "        <script charset=\"utf-8\" src=\"https://cdn.plot.ly/plotly-3.1.1.min.js\" integrity=\"sha256-HUEFyfiTnZJxCxur99FjbKYTvKSzwDaD3/x5TqHpFu4=\" crossorigin=\"anonymous\"></script>                <div id=\"3e4e027c-3d71-4858-a1c4-e8294b44f851\" class=\"plotly-graph-div\" style=\"height:525px; width:100%;\"></div>            <script type=\"text/javascript\">                window.PLOTLYENV=window.PLOTLYENV || {};                                if (document.getElementById(\"3e4e027c-3d71-4858-a1c4-e8294b44f851\")) {                    Plotly.newPlot(                        \"3e4e027c-3d71-4858-a1c4-e8294b44f851\",                        [{\"name\":\"BMI\",\"x\":[\"healthy subjects\",\"healthy subjects\",\"healthy subjects\",\"healthy subjects\",\"healthy subjects\",\"healthy subjects\",\"healthy subjects\",\"healthy subjects\",\"healthy subjects\",\"healthy subjects\",\"healthy subjects\",\"healthy subjects\",\"healthy subjects\",\"healthy subjects\",\"healthy subjects\",\"healthy subjects\",\"healthy subjects\",\"healthy subjects\",\"healthy subjects\",\"healthy subjects\",\"healthy subjects\",\"healthy subjects\",\"healthy subjects\",\"healthy subjects\",\"healthy subjects\",\"healthy subjects\",\"healthy subjects\",\"healthy subjects\",\"healthy subjects\",\"healthy subjects\",\"healthy subjects\",\"healthy subjects\",\"healthy subjects\",\"healthy subjects\",\"healthy subjects\",\"healthy subjects\",\"healthy subjects\",\"healthy subjects\",\"healthy subjects\",\"healthy subjects\",\"healthy subjects\",\"healthy subjects\",\"healthy subjects\",\"healthy subjects\",\"healthy subjects\",\"healthy subjects\",\"healthy subjects\",\"healthy subjects\",\"healthy subjects\",\"healthy subjects\",\"healthy subjects\",\"healthy subjects\",\"healthy subjects\",\"healthy subjects\",\"healthy subjects\",\"healthy subjects\",\"healthy subjects\",\"healthy subjects\",\"healthy subjects\",\"healthy subjects\",\"prediabetic\",\"prediabetic\",\"prediabetic\",\"prediabetic\",\"prediabetic\",\"prediabetic\",\"prediabetic\",\"prediabetic\",\"prediabetic\",\"prediabetic\",\"prediabetic\",\"prediabetic\",\"prediabetic\",\"prediabetic\",\"prediabetic\",\"prediabetic\",\"prediabetic\",\"prediabetic\",\"prediabetic\",\"prediabetic\",\"prediabetic\",\"prediabetic\",\"prediabetic\",\"prediabetic\",\"prediabetic\",\"prediabetic\",\"prediabetic\",\"prediabetic\",\"prediabetic\",\"prediabetic\",\"prediabetic\",\"prediabetic\",\"prediabetic\",\"prediabetic\",\"prediabetic\",\"prediabetic\",\"prediabetic\",\"prediabetic\",\"prediabetic\",\"prediabetic\",\"prediabetic\",\"prediabetic\",\"prediabetic\",\"prediabetic\",\"prediabetic\",\"prediabetic\",\"prediabetic\",\"prediabetic\",\"prediabetic\",\"prediabetic\",\"prediabetic\",\"prediabetic\",\"prediabetic\",\"prediabetic\",\"prediabetic\",\"prediabetic\",\"prediabetic\",\"prediabetic\",\"prediabetic\",\"prediabetic\",\"diabetic subjects\",\"diabetic subjects\",\"diabetic subjects\",\"diabetic subjects\",\"diabetic subjects\",\"diabetic subjects\",\"diabetic subjects\",\"diabetic subjects\",\"diabetic subjects\",\"diabetic subjects\",\"diabetic subjects\",\"diabetic subjects\",\"diabetic subjects\",\"diabetic subjects\",\"diabetic subjects\",\"diabetic subjects\",\"diabetic subjects\",\"diabetic subjects\",\"diabetic subjects\",\"diabetic subjects\",\"diabetic subjects\",\"diabetic subjects\",\"diabetic subjects\",\"diabetic subjects\",\"diabetic subjects\",\"diabetic subjects\",\"diabetic subjects\",\"diabetic subjects\",\"diabetic subjects\",\"diabetic subjects\",\"diabetic subjects\",\"diabetic subjects\",\"diabetic subjects\",\"diabetic subjects\",\"diabetic subjects\",\"diabetic subjects\",\"diabetic subjects\",\"diabetic subjects\",\"diabetic subjects\",\"diabetic subjects\",\"diabetic subjects\",\"diabetic subjects\",\"diabetic subjects\",\"diabetic subjects\",\"diabetic subjects\",\"diabetic subjects\",\"diabetic subjects\",\"diabetic subjects\",\"diabetic subjects\",\"diabetic subjects\",\"diabetic subjects\",\"diabetic subjects\",\"diabetic subjects\",\"diabetic subjects\",\"diabetic subjects\",\"diabetic subjects\",\"diabetic subjects\",\"diabetic subjects\",\"diabetic subjects\",\"diabetic subjects\"],\"y\":{\"dtype\":\"f8\",\"bdata\":\"ZmZmZmbmO0BmZmZmZuY7QGZmZmZm5jtAZmZmZmbmO0BmZmZmZuY7QGZmZmZm5jtAAAAAAACANEAAAAAAAIA0QAAAAAAAgDRAAAAAAACANEAAAAAAAIA0QAAAAAAAgDRAZmZmZmZmNUBmZmZmZmY1QGZmZmZmZjVAZmZmZmZmNUBmZmZmZmY1QGZmZmZmZjVAMzMzMzMzO0AzMzMzMzM7QDMzMzMzMztAMzMzMzMzO0AzMzMzMzM7QDMzMzMzMztAAAAAAACAOkAAAAAAAIA6QAAAAAAAgDpAAAAAAACAOkAAAAAAAIA6QAAAAAAAgDpAAAAAAACANEAAAAAAAIA0QAAAAAAAgDRAAAAAAACANEAAAAAAAIA0QAAAAAAAgDRAMzMzMzOzOEAzMzMzM7M4QDMzMzMzszhAMzMzMzOzOEAzMzMzM7M4QDMzMzMzszhAZmZmZmbmM0BmZmZmZuYzQGZmZmZm5jNAZmZmZmbmM0BmZmZmZuYzQGZmZmZm5jNAzczMzMzMNEDNzMzMzMw0QM3MzMzMzDRAzczMzMzMNEDNzMzMzMw0QM3MzMzMzDRAzczMzMzMO0DNzMzMzMw7QM3MzMzMzDtAzczMzMzMO0DNzMzMzMw7QM3MzMzMzDtAZmZmZmZmQUBmZmZmZmZBQGZmZmZmZkFAZmZmZmZmQUBmZmZmZmZBQGZmZmZmZkFAzczMzMxMPEDNzMzMzEw8QM3MzMzMTDxAzczMzMxMPEDNzMzMzEw8QM3MzMzMTDxAZmZmZmYmQEBmZmZmZiZAQGZmZmZmJkBAZmZmZmYmQEBmZmZmZiZAQGZmZmZmJkBAMzMzMzNzQ0AzMzMzM3NDQDMzMzMzc0NAMzMzMzNzQ0AzMzMzM3NDQDMzMzMzc0NAMzMzMzOzQUAzMzMzM7NBQDMzMzMzs0FAMzMzMzOzQUAzMzMzM7NBQDMzMzMzs0FAmpmZmZnZQECamZmZmdlAQJqZmZmZ2UBAmpmZmZnZQECamZmZmdlAQJqZmZmZ2UBAAAAAAAAAPkAAAAAAAAA+QAAAAAAAAD5AAAAAAAAAPkAAAAAAAAA+QAAAAAAAAD5AzczMzMwMREDNzMzMzAxEQM3MzMzMDERAzczMzMwMREDNzMzMzAxEQM3MzMzMDERAMzMzMzMzPUAzMzMzMzM9QDMzMzMzMz1AMzMzMzMzPUAzMzMzMzM9QDMzMzMzMz1AMzMzMzPzREAzMzMzM\\u002fNEQDMzMzMz80RAMzMzMzPzREAzMzMzM\\u002fNEQDMzMzMz80RAMzMzMzNzQ0AzMzMzM3NDQDMzMzMzc0NAMzMzMzNzQ0AzMzMzM3NDQDMzMzMzc0NAMzMzMzNzQEAzMzMzM3NAQDMzMzMzc0BAMzMzMzNzQEAzMzMzM3NAQDMzMzMzc0BAmpmZmZlZQECamZmZmVlAQJqZmZmZWUBAmpmZmZlZQECamZmZmVlAQJqZmZmZWUBAAAAAAACAO0AAAAAAAIA7QAAAAAAAgDtAAAAAAACAO0AAAAAAAIA7QAAAAAAAgDtAMzMzMzMzPkAzMzMzMzM+QDMzMzMzMz5AMzMzMzMzPkAzMzMzMzM+QDMzMzMzMz5AmpmZmZmZOkCamZmZmZk6QJqZmZmZmTpAmpmZmZmZOkCamZmZmZk6QJqZmZmZmTpAZmZmZmYmQUBmZmZmZiZBQGZmZmZmJkFAZmZmZmYmQUBmZmZmZiZBQGZmZmZmJkFAAAAAAAAAO0AAAAAAAAA7QAAAAAAAADtAAAAAAAAAO0AAAAAAAAA7QAAAAAAAADtAMzMzMzMzO0AzMzMzMzM7QDMzMzMzMztAMzMzMzMzO0AzMzMzMzM7QDMzMzMzMztAzczMzMxMQ0DNzMzMzExDQM3MzMzMTENAzczMzMxMQ0DNzMzMzExDQM3MzMzMTENA\"},\"type\":\"bar\"},{\"name\":\"hba1c\",\"x\":[\"healthy subjects\",\"healthy subjects\",\"healthy subjects\",\"healthy subjects\",\"healthy subjects\",\"healthy subjects\",\"healthy subjects\",\"healthy subjects\",\"healthy subjects\",\"healthy subjects\",\"healthy subjects\",\"healthy subjects\",\"healthy subjects\",\"healthy subjects\",\"healthy subjects\",\"healthy subjects\",\"healthy subjects\",\"healthy subjects\",\"healthy subjects\",\"healthy subjects\",\"healthy subjects\",\"healthy subjects\",\"healthy subjects\",\"healthy subjects\",\"healthy subjects\",\"healthy subjects\",\"healthy subjects\",\"healthy subjects\",\"healthy subjects\",\"healthy subjects\",\"healthy subjects\",\"healthy subjects\",\"healthy subjects\",\"healthy subjects\",\"healthy subjects\",\"healthy subjects\",\"healthy subjects\",\"healthy subjects\",\"healthy subjects\",\"healthy subjects\",\"healthy subjects\",\"healthy subjects\",\"healthy subjects\",\"healthy subjects\",\"healthy subjects\",\"healthy subjects\",\"healthy subjects\",\"healthy subjects\",\"healthy subjects\",\"healthy subjects\",\"healthy subjects\",\"healthy subjects\",\"healthy subjects\",\"healthy subjects\",\"healthy subjects\",\"healthy subjects\",\"healthy subjects\",\"healthy subjects\",\"healthy subjects\",\"healthy subjects\",\"prediabetic\",\"prediabetic\",\"prediabetic\",\"prediabetic\",\"prediabetic\",\"prediabetic\",\"prediabetic\",\"prediabetic\",\"prediabetic\",\"prediabetic\",\"prediabetic\",\"prediabetic\",\"prediabetic\",\"prediabetic\",\"prediabetic\",\"prediabetic\",\"prediabetic\",\"prediabetic\",\"prediabetic\",\"prediabetic\",\"prediabetic\",\"prediabetic\",\"prediabetic\",\"prediabetic\",\"prediabetic\",\"prediabetic\",\"prediabetic\",\"prediabetic\",\"prediabetic\",\"prediabetic\",\"prediabetic\",\"prediabetic\",\"prediabetic\",\"prediabetic\",\"prediabetic\",\"prediabetic\",\"prediabetic\",\"prediabetic\",\"prediabetic\",\"prediabetic\",\"prediabetic\",\"prediabetic\",\"prediabetic\",\"prediabetic\",\"prediabetic\",\"prediabetic\",\"prediabetic\",\"prediabetic\",\"prediabetic\",\"prediabetic\",\"prediabetic\",\"prediabetic\",\"prediabetic\",\"prediabetic\",\"prediabetic\",\"prediabetic\",\"prediabetic\",\"prediabetic\",\"prediabetic\",\"prediabetic\",\"diabetic subjects\",\"diabetic subjects\",\"diabetic subjects\",\"diabetic subjects\",\"diabetic subjects\",\"diabetic subjects\",\"diabetic subjects\",\"diabetic subjects\",\"diabetic subjects\",\"diabetic subjects\",\"diabetic subjects\",\"diabetic subjects\",\"diabetic subjects\",\"diabetic subjects\",\"diabetic subjects\",\"diabetic subjects\",\"diabetic subjects\",\"diabetic subjects\",\"diabetic subjects\",\"diabetic subjects\",\"diabetic subjects\",\"diabetic subjects\",\"diabetic subjects\",\"diabetic subjects\",\"diabetic subjects\",\"diabetic subjects\",\"diabetic subjects\",\"diabetic subjects\",\"diabetic subjects\",\"diabetic subjects\",\"diabetic subjects\",\"diabetic subjects\",\"diabetic subjects\",\"diabetic subjects\",\"diabetic subjects\",\"diabetic subjects\",\"diabetic subjects\",\"diabetic subjects\",\"diabetic subjects\",\"diabetic subjects\",\"diabetic subjects\",\"diabetic subjects\",\"diabetic subjects\",\"diabetic subjects\",\"diabetic subjects\",\"diabetic subjects\",\"diabetic subjects\",\"diabetic subjects\",\"diabetic subjects\",\"diabetic subjects\",\"diabetic subjects\",\"diabetic subjects\",\"diabetic subjects\",\"diabetic subjects\",\"diabetic subjects\",\"diabetic subjects\",\"diabetic subjects\",\"diabetic subjects\",\"diabetic subjects\",\"diabetic subjects\"],\"y\":{\"dtype\":\"f8\",\"bdata\":\"MzMzMzMzFEAzMzMzMzMUQDMzMzMzMxRAMzMzMzMzFEAzMzMzMzMUQDMzMzMzMxRAUrgehetRFkBSuB6F61EWQFK4HoXrURZAUrgehetRFkBSuB6F61EWQFK4HoXrURZAmpmZmZmZFUCamZmZmZkVQJqZmZmZmRVAmpmZmZmZFUCamZmZmZkVQJqZmZmZmRVAUrgehetRFEBSuB6F61EUQFK4HoXrURRAUrgehetRFEBSuB6F61EUQFK4HoXrURRAzczMzMzMFkDNzMzMzMwWQM3MzMzMzBZAzczMzMzMFkDNzMzMzMwWQM3MzMzMzBZAmpmZmZmZFUCamZmZmZkVQJqZmZmZmRVAmpmZmZmZFUCamZmZmZkVQJqZmZmZmRVASOF6FK5HFkBI4XoUrkcWQEjhehSuRxZASOF6FK5HFkBI4XoUrkcWQEjhehSuRxZAZmZmZmZmF0BmZmZmZmYXQGZmZmZmZhdAZmZmZmZmF0BmZmZmZmYXQGZmZmZmZhdA16NwPQrXFUDXo3A9CtcVQNejcD0K1xVA16NwPQrXFUDXo3A9CtcVQNejcD0K1xVAexSuR+F6E0B7FK5H4XoTQHsUrkfhehNAexSuR+F6E0B7FK5H4XoTQHsUrkfhehNAcT0K16NwF0BxPQrXo3AXQHE9CtejcBdAcT0K16NwF0BxPQrXo3AXQHE9CtejcBdAKVyPwvUoGUApXI\\u002fC9SgZQClcj8L1KBlAKVyPwvUoGUApXI\\u002fC9SgZQClcj8L1KBlAw\\u002fUoXI\\u002fCF0DD9Shcj8IXQMP1KFyPwhdAw\\u002fUoXI\\u002fCF0DD9Shcj8IXQMP1KFyPwhdAAAAAAAAAGEAAAAAAAAAYQAAAAAAAABhAAAAAAAAAGEAAAAAAAAAYQAAAAAAAABhAw\\u002fUoXI\\u002fCF0DD9Shcj8IXQMP1KFyPwhdAw\\u002fUoXI\\u002fCF0DD9Shcj8IXQMP1KFyPwhdAFK5H4XoUGEAUrkfhehQYQBSuR+F6FBhAFK5H4XoUGEAUrkfhehQYQBSuR+F6FBhAzczMzMzMFUDNzMzMzMwVQM3MzMzMzBVAzczMzMzMFUDNzMzMzMwVQM3MzMzMzBVAMzMzMzMzGEAzMzMzMzMYQDMzMzMzMxhAMzMzMzMzGEAzMzMzMzMYQDMzMzMzMxhAmpmZmZmZF0CamZmZmZkXQJqZmZmZmRdAmpmZmZmZF0CamZmZmZkXQJqZmZmZmRdAZmZmZmZmFEBmZmZmZmYUQGZmZmZmZhRAZmZmZmZmFEBmZmZmZmYUQGZmZmZmZhRAXI\\u002fC9ShcH0Bcj8L1KFwfQFyPwvUoXB9AXI\\u002fC9ShcH0Bcj8L1KFwfQFyPwvUoXB9AUrgehetRH0BSuB6F61EfQFK4HoXrUR9AUrgehetRH0BSuB6F61EfQFK4HoXrUR9AzczMzMzMGkDNzMzMzMwaQM3MzMzMzBpAzczMzMzMGkDNzMzMzMwaQM3MzMzMzBpAzczMzMzMGkDNzMzMzMwaQM3MzMzMzBpAzczMzMzMGkDNzMzMzMwaQM3MzMzMzBpA4XoUrkfhHkDhehSuR+EeQOF6FK5H4R5A4XoUrkfhHkDhehSuR+EeQOF6FK5H4R5AH4XrUbgeHkAfhetRuB4eQB+F61G4Hh5AH4XrUbgeHkAfhetRuB4eQB+F61G4Hh5AAAAAAAAAIEAAAAAAAAAgQAAAAAAAACBAAAAAAAAAIEAAAAAAAAAgQAAAAAAAACBA9ihcj8L1G0D2KFyPwvUbQPYoXI\\u002fC9RtA9ihcj8L1G0D2KFyPwvUbQPYoXI\\u002fC9RtAw\\u002fUoXI\\u002fCG0DD9Shcj8IbQMP1KFyPwhtAw\\u002fUoXI\\u002fCG0DD9Shcj8IbQMP1KFyPwhtAMzMzMzMzIkAzMzMzMzMiQDMzMzMzMyJAMzMzMzMzIkAzMzMzMzMiQDMzMzMzMyJA\"},\"type\":\"bar\"}],                        {\"barmode\":\"group\",\"template\":{\"data\":{\"barpolar\":[{\"marker\":{\"line\":{\"color\":\"#E5ECF6\",\"width\":0.5},\"pattern\":{\"fillmode\":\"overlay\",\"size\":10,\"solidity\":0.2}},\"type\":\"barpolar\"}],\"bar\":[{\"error_x\":{\"color\":\"#2a3f5f\"},\"error_y\":{\"color\":\"#2a3f5f\"},\"marker\":{\"line\":{\"color\":\"#E5ECF6\",\"width\":0.5},\"pattern\":{\"fillmode\":\"overlay\",\"size\":10,\"solidity\":0.2}},\"type\":\"bar\"}],\"carpet\":[{\"aaxis\":{\"endlinecolor\":\"#2a3f5f\",\"gridcolor\":\"white\",\"linecolor\":\"white\",\"minorgridcolor\":\"white\",\"startlinecolor\":\"#2a3f5f\"},\"baxis\":{\"endlinecolor\":\"#2a3f5f\",\"gridcolor\":\"white\",\"linecolor\":\"white\",\"minorgridcolor\":\"white\",\"startlinecolor\":\"#2a3f5f\"},\"type\":\"carpet\"}],\"choropleth\":[{\"colorbar\":{\"outlinewidth\":0,\"ticks\":\"\"},\"type\":\"choropleth\"}],\"contourcarpet\":[{\"colorbar\":{\"outlinewidth\":0,\"ticks\":\"\"},\"type\":\"contourcarpet\"}],\"contour\":[{\"colorbar\":{\"outlinewidth\":0,\"ticks\":\"\"},\"colorscale\":[[0.0,\"#0d0887\"],[0.1111111111111111,\"#46039f\"],[0.2222222222222222,\"#7201a8\"],[0.3333333333333333,\"#9c179e\"],[0.4444444444444444,\"#bd3786\"],[0.5555555555555556,\"#d8576b\"],[0.6666666666666666,\"#ed7953\"],[0.7777777777777778,\"#fb9f3a\"],[0.8888888888888888,\"#fdca26\"],[1.0,\"#f0f921\"]],\"type\":\"contour\"}],\"heatmap\":[{\"colorbar\":{\"outlinewidth\":0,\"ticks\":\"\"},\"colorscale\":[[0.0,\"#0d0887\"],[0.1111111111111111,\"#46039f\"],[0.2222222222222222,\"#7201a8\"],[0.3333333333333333,\"#9c179e\"],[0.4444444444444444,\"#bd3786\"],[0.5555555555555556,\"#d8576b\"],[0.6666666666666666,\"#ed7953\"],[0.7777777777777778,\"#fb9f3a\"],[0.8888888888888888,\"#fdca26\"],[1.0,\"#f0f921\"]],\"type\":\"heatmap\"}],\"histogram2dcontour\":[{\"colorbar\":{\"outlinewidth\":0,\"ticks\":\"\"},\"colorscale\":[[0.0,\"#0d0887\"],[0.1111111111111111,\"#46039f\"],[0.2222222222222222,\"#7201a8\"],[0.3333333333333333,\"#9c179e\"],[0.4444444444444444,\"#bd3786\"],[0.5555555555555556,\"#d8576b\"],[0.6666666666666666,\"#ed7953\"],[0.7777777777777778,\"#fb9f3a\"],[0.8888888888888888,\"#fdca26\"],[1.0,\"#f0f921\"]],\"type\":\"histogram2dcontour\"}],\"histogram2d\":[{\"colorbar\":{\"outlinewidth\":0,\"ticks\":\"\"},\"colorscale\":[[0.0,\"#0d0887\"],[0.1111111111111111,\"#46039f\"],[0.2222222222222222,\"#7201a8\"],[0.3333333333333333,\"#9c179e\"],[0.4444444444444444,\"#bd3786\"],[0.5555555555555556,\"#d8576b\"],[0.6666666666666666,\"#ed7953\"],[0.7777777777777778,\"#fb9f3a\"],[0.8888888888888888,\"#fdca26\"],[1.0,\"#f0f921\"]],\"type\":\"histogram2d\"}],\"histogram\":[{\"marker\":{\"pattern\":{\"fillmode\":\"overlay\",\"size\":10,\"solidity\":0.2}},\"type\":\"histogram\"}],\"mesh3d\":[{\"colorbar\":{\"outlinewidth\":0,\"ticks\":\"\"},\"type\":\"mesh3d\"}],\"parcoords\":[{\"line\":{\"colorbar\":{\"outlinewidth\":0,\"ticks\":\"\"}},\"type\":\"parcoords\"}],\"pie\":[{\"automargin\":true,\"type\":\"pie\"}],\"scatter3d\":[{\"line\":{\"colorbar\":{\"outlinewidth\":0,\"ticks\":\"\"}},\"marker\":{\"colorbar\":{\"outlinewidth\":0,\"ticks\":\"\"}},\"type\":\"scatter3d\"}],\"scattercarpet\":[{\"marker\":{\"colorbar\":{\"outlinewidth\":0,\"ticks\":\"\"}},\"type\":\"scattercarpet\"}],\"scattergeo\":[{\"marker\":{\"colorbar\":{\"outlinewidth\":0,\"ticks\":\"\"}},\"type\":\"scattergeo\"}],\"scattergl\":[{\"marker\":{\"colorbar\":{\"outlinewidth\":0,\"ticks\":\"\"}},\"type\":\"scattergl\"}],\"scattermapbox\":[{\"marker\":{\"colorbar\":{\"outlinewidth\":0,\"ticks\":\"\"}},\"type\":\"scattermapbox\"}],\"scattermap\":[{\"marker\":{\"colorbar\":{\"outlinewidth\":0,\"ticks\":\"\"}},\"type\":\"scattermap\"}],\"scatterpolargl\":[{\"marker\":{\"colorbar\":{\"outlinewidth\":0,\"ticks\":\"\"}},\"type\":\"scatterpolargl\"}],\"scatterpolar\":[{\"marker\":{\"colorbar\":{\"outlinewidth\":0,\"ticks\":\"\"}},\"type\":\"scatterpolar\"}],\"scatter\":[{\"fillpattern\":{\"fillmode\":\"overlay\",\"size\":10,\"solidity\":0.2},\"type\":\"scatter\"}],\"scatterternary\":[{\"marker\":{\"colorbar\":{\"outlinewidth\":0,\"ticks\":\"\"}},\"type\":\"scatterternary\"}],\"surface\":[{\"colorbar\":{\"outlinewidth\":0,\"ticks\":\"\"},\"colorscale\":[[0.0,\"#0d0887\"],[0.1111111111111111,\"#46039f\"],[0.2222222222222222,\"#7201a8\"],[0.3333333333333333,\"#9c179e\"],[0.4444444444444444,\"#bd3786\"],[0.5555555555555556,\"#d8576b\"],[0.6666666666666666,\"#ed7953\"],[0.7777777777777778,\"#fb9f3a\"],[0.8888888888888888,\"#fdca26\"],[1.0,\"#f0f921\"]],\"type\":\"surface\"}],\"table\":[{\"cells\":{\"fill\":{\"color\":\"#EBF0F8\"},\"line\":{\"color\":\"white\"}},\"header\":{\"fill\":{\"color\":\"#C8D4E3\"},\"line\":{\"color\":\"white\"}},\"type\":\"table\"}]},\"layout\":{\"annotationdefaults\":{\"arrowcolor\":\"#2a3f5f\",\"arrowhead\":0,\"arrowwidth\":1},\"autotypenumbers\":\"strict\",\"coloraxis\":{\"colorbar\":{\"outlinewidth\":0,\"ticks\":\"\"}},\"colorscale\":{\"diverging\":[[0,\"#8e0152\"],[0.1,\"#c51b7d\"],[0.2,\"#de77ae\"],[0.3,\"#f1b6da\"],[0.4,\"#fde0ef\"],[0.5,\"#f7f7f7\"],[0.6,\"#e6f5d0\"],[0.7,\"#b8e186\"],[0.8,\"#7fbc41\"],[0.9,\"#4d9221\"],[1,\"#276419\"]],\"sequential\":[[0.0,\"#0d0887\"],[0.1111111111111111,\"#46039f\"],[0.2222222222222222,\"#7201a8\"],[0.3333333333333333,\"#9c179e\"],[0.4444444444444444,\"#bd3786\"],[0.5555555555555556,\"#d8576b\"],[0.6666666666666666,\"#ed7953\"],[0.7777777777777778,\"#fb9f3a\"],[0.8888888888888888,\"#fdca26\"],[1.0,\"#f0f921\"]],\"sequentialminus\":[[0.0,\"#0d0887\"],[0.1111111111111111,\"#46039f\"],[0.2222222222222222,\"#7201a8\"],[0.3333333333333333,\"#9c179e\"],[0.4444444444444444,\"#bd3786\"],[0.5555555555555556,\"#d8576b\"],[0.6666666666666666,\"#ed7953\"],[0.7777777777777778,\"#fb9f3a\"],[0.8888888888888888,\"#fdca26\"],[1.0,\"#f0f921\"]]},\"colorway\":[\"#636efa\",\"#EF553B\",\"#00cc96\",\"#ab63fa\",\"#FFA15A\",\"#19d3f3\",\"#FF6692\",\"#B6E880\",\"#FF97FF\",\"#FECB52\"],\"font\":{\"color\":\"#2a3f5f\"},\"geo\":{\"bgcolor\":\"white\",\"lakecolor\":\"white\",\"landcolor\":\"#E5ECF6\",\"showlakes\":true,\"showland\":true,\"subunitcolor\":\"white\"},\"hoverlabel\":{\"align\":\"left\"},\"hovermode\":\"closest\",\"mapbox\":{\"style\":\"light\"},\"paper_bgcolor\":\"white\",\"plot_bgcolor\":\"#E5ECF6\",\"polar\":{\"angularaxis\":{\"gridcolor\":\"white\",\"linecolor\":\"white\",\"ticks\":\"\"},\"bgcolor\":\"#E5ECF6\",\"radialaxis\":{\"gridcolor\":\"white\",\"linecolor\":\"white\",\"ticks\":\"\"}},\"scene\":{\"xaxis\":{\"backgroundcolor\":\"#E5ECF6\",\"gridcolor\":\"white\",\"gridwidth\":2,\"linecolor\":\"white\",\"showbackground\":true,\"ticks\":\"\",\"zerolinecolor\":\"white\"},\"yaxis\":{\"backgroundcolor\":\"#E5ECF6\",\"gridcolor\":\"white\",\"gridwidth\":2,\"linecolor\":\"white\",\"showbackground\":true,\"ticks\":\"\",\"zerolinecolor\":\"white\"},\"zaxis\":{\"backgroundcolor\":\"#E5ECF6\",\"gridcolor\":\"white\",\"gridwidth\":2,\"linecolor\":\"white\",\"showbackground\":true,\"ticks\":\"\",\"zerolinecolor\":\"white\"}},\"shapedefaults\":{\"line\":{\"color\":\"#2a3f5f\"}},\"ternary\":{\"aaxis\":{\"gridcolor\":\"white\",\"linecolor\":\"white\",\"ticks\":\"\"},\"baxis\":{\"gridcolor\":\"white\",\"linecolor\":\"white\",\"ticks\":\"\"},\"bgcolor\":\"#E5ECF6\",\"caxis\":{\"gridcolor\":\"white\",\"linecolor\":\"white\",\"ticks\":\"\"}},\"title\":{\"x\":0.05},\"xaxis\":{\"automargin\":true,\"gridcolor\":\"white\",\"linecolor\":\"white\",\"ticks\":\"\",\"title\":{\"standoff\":15},\"zerolinecolor\":\"white\",\"zerolinewidth\":2},\"yaxis\":{\"automargin\":true,\"gridcolor\":\"white\",\"linecolor\":\"white\",\"ticks\":\"\",\"title\":{\"standoff\":15},\"zerolinecolor\":\"white\",\"zerolinewidth\":2}}},\"title\":{\"text\":\"Relación entre BMI y hba1c\"},\"xaxis\":{\"title\":{\"text\":\"Estado de Salud\"}}},                        {\"responsive\": true}                    ).then(function(){\n",
       "                            \n",
       "var gd = document.getElementById('3e4e027c-3d71-4858-a1c4-e8294b44f851');\n",
       "var x = new MutationObserver(function (mutations, observer) {{\n",
       "        var display = window.getComputedStyle(gd).display;\n",
       "        if (!display || display === 'none') {{\n",
       "            console.log([gd, 'removed!']);\n",
       "            Plotly.purge(gd);\n",
       "            observer.disconnect();\n",
       "        }}\n",
       "}});\n",
       "\n",
       "// Listen for the removal of the full notebook cells\n",
       "var notebookContainer = gd.closest('#notebook-container');\n",
       "if (notebookContainer) {{\n",
       "    x.observe(notebookContainer, {childList: true});\n",
       "}}\n",
       "\n",
       "// Listen for the clearing of the current output cell\n",
       "var outputEl = gd.closest('.output');\n",
       "if (outputEl) {{\n",
       "    x.observe(outputEl, {childList: true});\n",
       "}}\n",
       "\n",
       "                        })                };            </script>        </div>"
      ]
     },
     "metadata": {},
     "output_type": "display_data"
    }
   ],
   "source": [
    "#Evaluar la relación del BMI y hba1c (Gráfico final para la presentación)\n",
    "x = sample_metadata.HEALTH_STATUS\n",
    "\n",
    "trace1 = {\n",
    "    'x': x,\n",
    "    'y': sample_metadata['BMI'],\n",
    "    'name': 'BMI',\n",
    "    'type': 'bar'\n",
    "\n",
    "}\n",
    "\n",
    "trace2 = {\n",
    "    'x': x,\n",
    "    'y': sample_metadata['hba1c'],\n",
    "    'name': 'hba1c',\n",
    "    'type': 'bar'\n",
    "\n",
    "}\n",
    "\n",
    "data = [trace1, trace2]\n",
    "\n",
    "layout  = {\n",
    "    'xaxis': {'title': 'Estado de Salud'},\n",
    "    'barmode': 'group',  #agrupa tambien hay la opcion de apilar\n",
    "    'title': 'Relación entre BMI y hba1c'\n",
    "\n",
    "}\n",
    "\n",
    "fig = go.Figure(data = data, layout = layout)\n",
    "iplot(fig)"
   ]
  },
  {
   "cell_type": "code",
   "execution_count": 24,
   "id": "9b69f634",
   "metadata": {},
   "outputs": [
    {
     "data": {
      "image/png": "[encoded data removed]",
      "text/plain": [
       "<Figure size 1200x800 with 1 Axes>"
      ]
     },
     "metadata": {},
     "output_type": "display_data"
    }
   ],
   "source": [
    "#Evaluar la relación del BMI y hba1c en relación al genero mediante un scatter  ---(Hipotésis 2)\n",
    "plt.figure(figsize=(12,8))\n",
    "sns.scatterplot(x = sample_metadata[\"BMI\"],\n",
    "y = sample_metadata[\"hba1c\"],\n",
    "s= 200,   #tamaño de los circulos\n",
    "hue = sample_metadata[\"sex\"]);"
   ]
  },
  {
   "cell_type": "code",
   "execution_count": 25,
   "id": "d145753f",
   "metadata": {},
   "outputs": [
    {
     "data": {
      "image/png": "[encoded data removed]",
      "text/plain": [
       "<Figure size 911.111x300 with 3 Axes>"
      ]
     },
     "metadata": {},
     "output_type": "display_data"
    }
   ],
   "source": [
    "#Gráfico para evaluar el número de muestras implicadas en el estudio de acuerdo a su estado de salud y su genero, para relacionar el scatter anterior. (Para confirmar la Hipotesis 2)\n",
    "sns.catplot(x='sex',\n",
    "            col='HEALTH_STATUS',\n",
    "            height=3,\n",
    "            data=sample_metadata,\n",
    "            kind='count');"
   ]
  },
  {
   "cell_type": "markdown",
   "id": "d54d5fc8",
   "metadata": {},
   "source": [
    "### 3.2 Dataset Hoja2 -----> Principal de metabolitos encontrados"
   ]
  },
  {
   "cell_type": "code",
   "execution_count": 26,
   "id": "f9f34290",
   "metadata": {},
   "outputs": [
    {
     "data": {
      "text/html": [
       "<div>\n",
       "<style scoped>\n",
       "    .dataframe tbody tr th:only-of-type {\n",
       "        vertical-align: middle;\n",
       "    }\n",
       "\n",
       "    .dataframe tbody tr th {\n",
       "        vertical-align: top;\n",
       "    }\n",
       "\n",
       "    .dataframe thead th {\n",
       "        text-align: right;\n",
       "    }\n",
       "</style>\n",
       "<table border=\"1\" class=\"dataframe\">\n",
       "  <thead>\n",
       "    <tr style=\"text-align: right;\">\n",
       "      <th></th>\n",
       "      <th>compound_id</th>\n",
       "      <th>sample_0001</th>\n",
       "      <th>sample_0002</th>\n",
       "      <th>sample_0003</th>\n",
       "      <th>sample_0004</th>\n",
       "      <th>sample_0005</th>\n",
       "      <th>sample_0006</th>\n",
       "      <th>sample_0007</th>\n",
       "      <th>sample_0008</th>\n",
       "      <th>sample_0009</th>\n",
       "      <th>...</th>\n",
       "      <th>sample_0172</th>\n",
       "      <th>sample_0173</th>\n",
       "      <th>sample_0174</th>\n",
       "      <th>sample_0175</th>\n",
       "      <th>sample_0176</th>\n",
       "      <th>sample_0177</th>\n",
       "      <th>sample_0178</th>\n",
       "      <th>sample_0179</th>\n",
       "      <th>sample_0180</th>\n",
       "      <th>Idx</th>\n",
       "    </tr>\n",
       "  </thead>\n",
       "  <tbody>\n",
       "    <tr>\n",
       "      <th>0</th>\n",
       "      <td>compound_0001</td>\n",
       "      <td>0.793620</td>\n",
       "      <td>0.713684</td>\n",
       "      <td>1.073165</td>\n",
       "      <td>1.074977</td>\n",
       "      <td>0.903153</td>\n",
       "      <td>0.792167</td>\n",
       "      <td>1.195207</td>\n",
       "      <td>1.141416</td>\n",
       "      <td>1.274139</td>\n",
       "      <td>...</td>\n",
       "      <td>1.094411</td>\n",
       "      <td>1.086644</td>\n",
       "      <td>1.254065</td>\n",
       "      <td>0.745389</td>\n",
       "      <td>0.542919</td>\n",
       "      <td>0.628734</td>\n",
       "      <td>0.555390</td>\n",
       "      <td>0.590216</td>\n",
       "      <td>0.601484</td>\n",
       "      <td>1</td>\n",
       "    </tr>\n",
       "    <tr>\n",
       "      <th>1</th>\n",
       "      <td>compound_0002</td>\n",
       "      <td>0.743363</td>\n",
       "      <td>0.762673</td>\n",
       "      <td>1.184788</td>\n",
       "      <td>0.959059</td>\n",
       "      <td>0.442795</td>\n",
       "      <td>0.685413</td>\n",
       "      <td>1.683612</td>\n",
       "      <td>1.412755</td>\n",
       "      <td>1.128855</td>\n",
       "      <td>...</td>\n",
       "      <td>1.161694</td>\n",
       "      <td>0.903035</td>\n",
       "      <td>0.842545</td>\n",
       "      <td>0.561035</td>\n",
       "      <td>0.553931</td>\n",
       "      <td>0.701192</td>\n",
       "      <td>0.576311</td>\n",
       "      <td>0.830575</td>\n",
       "      <td>0.649295</td>\n",
       "      <td>2</td>\n",
       "    </tr>\n",
       "    <tr>\n",
       "      <th>2</th>\n",
       "      <td>compound_0003</td>\n",
       "      <td>0.360069</td>\n",
       "      <td>0.716626</td>\n",
       "      <td>0.448938</td>\n",
       "      <td>0.695333</td>\n",
       "      <td>0.444998</td>\n",
       "      <td>0.935179</td>\n",
       "      <td>1.444924</td>\n",
       "      <td>1.947233</td>\n",
       "      <td>1.182661</td>\n",
       "      <td>...</td>\n",
       "      <td>1.030949</td>\n",
       "      <td>0.888554</td>\n",
       "      <td>1.156123</td>\n",
       "      <td>1.901547</td>\n",
       "      <td>2.349338</td>\n",
       "      <td>1.245951</td>\n",
       "      <td>2.362415</td>\n",
       "      <td>1.660026</td>\n",
       "      <td>2.050633</td>\n",
       "      <td>3</td>\n",
       "    </tr>\n",
       "    <tr>\n",
       "      <th>3</th>\n",
       "      <td>compound_0004</td>\n",
       "      <td>0.557168</td>\n",
       "      <td>0.739390</td>\n",
       "      <td>0.609914</td>\n",
       "      <td>0.699223</td>\n",
       "      <td>0.668752</td>\n",
       "      <td>0.899727</td>\n",
       "      <td>1.476924</td>\n",
       "      <td>1.460609</td>\n",
       "      <td>1.116283</td>\n",
       "      <td>...</td>\n",
       "      <td>1.007380</td>\n",
       "      <td>0.817482</td>\n",
       "      <td>0.868670</td>\n",
       "      <td>1.164877</td>\n",
       "      <td>0.936585</td>\n",
       "      <td>1.079366</td>\n",
       "      <td>1.029833</td>\n",
       "      <td>0.937246</td>\n",
       "      <td>1.468545</td>\n",
       "      <td>4</td>\n",
       "    </tr>\n",
       "    <tr>\n",
       "      <th>4</th>\n",
       "      <td>compound_0005</td>\n",
       "      <td>0.886952</td>\n",
       "      <td>0.921852</td>\n",
       "      <td>0.861769</td>\n",
       "      <td>0.893694</td>\n",
       "      <td>0.917792</td>\n",
       "      <td>0.979249</td>\n",
       "      <td>1.648081</td>\n",
       "      <td>1.751745</td>\n",
       "      <td>1.266781</td>\n",
       "      <td>...</td>\n",
       "      <td>1.313778</td>\n",
       "      <td>1.210348</td>\n",
       "      <td>1.292895</td>\n",
       "      <td>1.224971</td>\n",
       "      <td>0.965326</td>\n",
       "      <td>1.014223</td>\n",
       "      <td>0.869503</td>\n",
       "      <td>1.008572</td>\n",
       "      <td>1.196692</td>\n",
       "      <td>5</td>\n",
       "    </tr>\n",
       "    <tr>\n",
       "      <th>...</th>\n",
       "      <td>...</td>\n",
       "      <td>...</td>\n",
       "      <td>...</td>\n",
       "      <td>...</td>\n",
       "      <td>...</td>\n",
       "      <td>...</td>\n",
       "      <td>...</td>\n",
       "      <td>...</td>\n",
       "      <td>...</td>\n",
       "      <td>...</td>\n",
       "      <td>...</td>\n",
       "      <td>...</td>\n",
       "      <td>...</td>\n",
       "      <td>...</td>\n",
       "      <td>...</td>\n",
       "      <td>...</td>\n",
       "      <td>...</td>\n",
       "      <td>...</td>\n",
       "      <td>...</td>\n",
       "      <td>...</td>\n",
       "      <td>...</td>\n",
       "    </tr>\n",
       "    <tr>\n",
       "      <th>1481</th>\n",
       "      <td>compound_1482</td>\n",
       "      <td>0.690831</td>\n",
       "      <td>0.917702</td>\n",
       "      <td>0.736977</td>\n",
       "      <td>0.750908</td>\n",
       "      <td>0.506770</td>\n",
       "      <td>0.655764</td>\n",
       "      <td>1.532433</td>\n",
       "      <td>1.592221</td>\n",
       "      <td>1.506956</td>\n",
       "      <td>...</td>\n",
       "      <td>1.356426</td>\n",
       "      <td>1.364765</td>\n",
       "      <td>1.270024</td>\n",
       "      <td>1.068146</td>\n",
       "      <td>0.908436</td>\n",
       "      <td>0.842580</td>\n",
       "      <td>0.822898</td>\n",
       "      <td>1.028227</td>\n",
       "      <td>0.941312</td>\n",
       "      <td>1482</td>\n",
       "    </tr>\n",
       "    <tr>\n",
       "      <th>1482</th>\n",
       "      <td>compound_1483</td>\n",
       "      <td>0.865679</td>\n",
       "      <td>0.371899</td>\n",
       "      <td>0.919946</td>\n",
       "      <td>0.392298</td>\n",
       "      <td>0.651075</td>\n",
       "      <td>0.631727</td>\n",
       "      <td>1.454727</td>\n",
       "      <td>0.783603</td>\n",
       "      <td>1.684733</td>\n",
       "      <td>...</td>\n",
       "      <td>0.911678</td>\n",
       "      <td>1.014928</td>\n",
       "      <td>0.916838</td>\n",
       "      <td>1.313251</td>\n",
       "      <td>0.788290</td>\n",
       "      <td>1.243000</td>\n",
       "      <td>0.200175</td>\n",
       "      <td>0.774527</td>\n",
       "      <td>1.234610</td>\n",
       "      <td>1483</td>\n",
       "    </tr>\n",
       "    <tr>\n",
       "      <th>1483</th>\n",
       "      <td>compound_1484</td>\n",
       "      <td>0.254363</td>\n",
       "      <td>0.244953</td>\n",
       "      <td>0.209242</td>\n",
       "      <td>0.211141</td>\n",
       "      <td>0.679437</td>\n",
       "      <td>0.776275</td>\n",
       "      <td>0.016702</td>\n",
       "      <td>0.175735</td>\n",
       "      <td>0.703014</td>\n",
       "      <td>...</td>\n",
       "      <td>1.929681</td>\n",
       "      <td>2.957102</td>\n",
       "      <td>2.175087</td>\n",
       "      <td>1.603923</td>\n",
       "      <td>0.977343</td>\n",
       "      <td>0.815561</td>\n",
       "      <td>0.596484</td>\n",
       "      <td>3.107715</td>\n",
       "      <td>3.388902</td>\n",
       "      <td>1484</td>\n",
       "    </tr>\n",
       "    <tr>\n",
       "      <th>1484</th>\n",
       "      <td>compound_1485</td>\n",
       "      <td>1.369263</td>\n",
       "      <td>1.417962</td>\n",
       "      <td>1.028140</td>\n",
       "      <td>1.126669</td>\n",
       "      <td>0.936695</td>\n",
       "      <td>0.941886</td>\n",
       "      <td>1.353740</td>\n",
       "      <td>1.180336</td>\n",
       "      <td>1.073465</td>\n",
       "      <td>...</td>\n",
       "      <td>0.841181</td>\n",
       "      <td>1.009938</td>\n",
       "      <td>1.036077</td>\n",
       "      <td>0.969826</td>\n",
       "      <td>1.131925</td>\n",
       "      <td>1.041996</td>\n",
       "      <td>1.050490</td>\n",
       "      <td>0.967872</td>\n",
       "      <td>0.958265</td>\n",
       "      <td>1485</td>\n",
       "    </tr>\n",
       "    <tr>\n",
       "      <th>1485</th>\n",
       "      <td>compound_1486</td>\n",
       "      <td>0.898327</td>\n",
       "      <td>1.023614</td>\n",
       "      <td>1.718457</td>\n",
       "      <td>2.942013</td>\n",
       "      <td>0.993321</td>\n",
       "      <td>1.099359</td>\n",
       "      <td>1.151924</td>\n",
       "      <td>1.073034</td>\n",
       "      <td>1.118541</td>\n",
       "      <td>...</td>\n",
       "      <td>1.006679</td>\n",
       "      <td>0.911629</td>\n",
       "      <td>1.204362</td>\n",
       "      <td>0.869234</td>\n",
       "      <td>0.896456</td>\n",
       "      <td>0.743896</td>\n",
       "      <td>0.731513</td>\n",
       "      <td>0.618127</td>\n",
       "      <td>0.744399</td>\n",
       "      <td>1486</td>\n",
       "    </tr>\n",
       "  </tbody>\n",
       "</table>\n",
       "<p>1486 rows × 182 columns</p>\n",
       "</div>"
      ],
      "text/plain": [
       "        compound_id  sample_0001  sample_0002  sample_0003  sample_0004  \\\n",
       "0     compound_0001     0.793620     0.713684     1.073165     1.074977   \n",
       "1     compound_0002     0.743363     0.762673     1.184788     0.959059   \n",
       "2     compound_0003     0.360069     0.716626     0.448938     0.695333   \n",
       "3     compound_0004     0.557168     0.739390     0.609914     0.699223   \n",
       "4     compound_0005     0.886952     0.921852     0.861769     0.893694   \n",
       "...             ...          ...          ...          ...          ...   \n",
       "1481  compound_1482     0.690831     0.917702     0.736977     0.750908   \n",
       "1482  compound_1483     0.865679     0.371899     0.919946     0.392298   \n",
       "1483  compound_1484     0.254363     0.244953     0.209242     0.211141   \n",
       "1484  compound_1485     1.369263     1.417962     1.028140     1.126669   \n",
       "1485  compound_1486     0.898327     1.023614     1.718457     2.942013   \n",
       "\n",
       "      sample_0005  sample_0006  sample_0007  sample_0008  sample_0009  ...  \\\n",
       "0        0.903153     0.792167     1.195207     1.141416     1.274139  ...   \n",
       "1        0.442795     0.685413     1.683612     1.412755     1.128855  ...   \n",
       "2        0.444998     0.935179     1.444924     1.947233     1.182661  ...   \n",
       "3        0.668752     0.899727     1.476924     1.460609     1.116283  ...   \n",
       "4        0.917792     0.979249     1.648081     1.751745     1.266781  ...   \n",
       "...           ...          ...          ...          ...          ...  ...   \n",
       "1481     0.506770     0.655764     1.532433     1.592221     1.506956  ...   \n",
       "1482     0.651075     0.631727     1.454727     0.783603     1.684733  ...   \n",
       "1483     0.679437     0.776275     0.016702     0.175735     0.703014  ...   \n",
       "1484     0.936695     0.941886     1.353740     1.180336     1.073465  ...   \n",
       "1485     0.993321     1.099359     1.151924     1.073034     1.118541  ...   \n",
       "\n",
       "      sample_0172  sample_0173  sample_0174  sample_0175  sample_0176  \\\n",
       "0        1.094411     1.086644     1.254065     0.745389     0.542919   \n",
       "1        1.161694     0.903035     0.842545     0.561035     0.553931   \n",
       "2        1.030949     0.888554     1.156123     1.901547     2.349338   \n",
       "3        1.007380     0.817482     0.868670     1.164877     0.936585   \n",
       "4        1.313778     1.210348     1.292895     1.224971     0.965326   \n",
       "...           ...          ...          ...          ...          ...   \n",
       "1481     1.356426     1.364765     1.270024     1.068146     0.908436   \n",
       "1482     0.911678     1.014928     0.916838     1.313251     0.788290   \n",
       "1483     1.929681     2.957102     2.175087     1.603923     0.977343   \n",
       "1484     0.841181     1.009938     1.036077     0.969826     1.131925   \n",
       "1485     1.006679     0.911629     1.204362     0.869234     0.896456   \n",
       "\n",
       "      sample_0177  sample_0178  sample_0179  sample_0180   Idx  \n",
       "0        0.628734     0.555390     0.590216     0.601484     1  \n",
       "1        0.701192     0.576311     0.830575     0.649295     2  \n",
       "2        1.245951     2.362415     1.660026     2.050633     3  \n",
       "3        1.079366     1.029833     0.937246     1.468545     4  \n",
       "4        1.014223     0.869503     1.008572     1.196692     5  \n",
       "...           ...          ...          ...          ...   ...  \n",
       "1481     0.842580     0.822898     1.028227     0.941312  1482  \n",
       "1482     1.243000     0.200175     0.774527     1.234610  1483  \n",
       "1483     0.815561     0.596484     3.107715     3.388902  1484  \n",
       "1484     1.041996     1.050490     0.967872     0.958265  1485  \n",
       "1485     0.743896     0.731513     0.618127     0.744399  1486  \n",
       "\n",
       "[1486 rows x 182 columns]"
      ]
     },
     "execution_count": 26,
     "metadata": {},
     "output_type": "execute_result"
    }
   ],
   "source": [
    "#Dataset principal de metabolitos encontrados \n",
    "#Como quiero hacer un PCA y la función que encontre dice que tengo que tener una columna común en la tabla para que la pueda cruzar con los datos de la Hoja 1, entonces agrego una una columna llamada Idx\n",
    "data_matrix_pca = data_matrix.copy()\n",
    "data_matrix_pca['Idx'] = range(1, len(data_matrix_pca) + 1)\n",
    "data_matrix_pca"
   ]
  },
  {
   "cell_type": "code",
   "execution_count": 27,
   "id": "4888c53c",
   "metadata": {},
   "outputs": [],
   "source": [
    "##necesito la matriz transpuesta\n",
    "matrix= data_matrix_pca.transpose()"
   ]
  },
  {
   "cell_type": "code",
   "execution_count": 28,
   "id": "f749047c",
   "metadata": {},
   "outputs": [
    {
     "data": {
      "text/html": [
       "<div>\n",
       "<style scoped>\n",
       "    .dataframe tbody tr th:only-of-type {\n",
       "        vertical-align: middle;\n",
       "    }\n",
       "\n",
       "    .dataframe tbody tr th {\n",
       "        vertical-align: top;\n",
       "    }\n",
       "\n",
       "    .dataframe thead th {\n",
       "        text-align: right;\n",
       "    }\n",
       "</style>\n",
       "<table border=\"1\" class=\"dataframe\">\n",
       "  <thead>\n",
       "    <tr style=\"text-align: right;\">\n",
       "      <th></th>\n",
       "      <th>0</th>\n",
       "      <th>1</th>\n",
       "      <th>2</th>\n",
       "      <th>3</th>\n",
       "      <th>4</th>\n",
       "      <th>5</th>\n",
       "      <th>6</th>\n",
       "      <th>7</th>\n",
       "      <th>8</th>\n",
       "      <th>9</th>\n",
       "      <th>...</th>\n",
       "      <th>1477</th>\n",
       "      <th>1478</th>\n",
       "      <th>1479</th>\n",
       "      <th>1480</th>\n",
       "      <th>1481</th>\n",
       "      <th>1482</th>\n",
       "      <th>1483</th>\n",
       "      <th>1484</th>\n",
       "      <th>1485</th>\n",
       "      <th>Idx</th>\n",
       "    </tr>\n",
       "  </thead>\n",
       "  <tbody>\n",
       "    <tr>\n",
       "      <th>compound_id</th>\n",
       "      <td>compound_0001</td>\n",
       "      <td>compound_0002</td>\n",
       "      <td>compound_0003</td>\n",
       "      <td>compound_0004</td>\n",
       "      <td>compound_0005</td>\n",
       "      <td>compound_0006</td>\n",
       "      <td>compound_0007</td>\n",
       "      <td>compound_0008</td>\n",
       "      <td>compound_0009</td>\n",
       "      <td>compound_0010</td>\n",
       "      <td>...</td>\n",
       "      <td>compound_1478</td>\n",
       "      <td>compound_1479</td>\n",
       "      <td>compound_1480</td>\n",
       "      <td>compound_1481</td>\n",
       "      <td>compound_1482</td>\n",
       "      <td>compound_1483</td>\n",
       "      <td>compound_1484</td>\n",
       "      <td>compound_1485</td>\n",
       "      <td>compound_1486</td>\n",
       "      <td>1</td>\n",
       "    </tr>\n",
       "    <tr>\n",
       "      <th>sample_0001</th>\n",
       "      <td>0.79362</td>\n",
       "      <td>0.743363</td>\n",
       "      <td>0.360069</td>\n",
       "      <td>0.557168</td>\n",
       "      <td>0.886952</td>\n",
       "      <td>0.698678</td>\n",
       "      <td>0.811203</td>\n",
       "      <td>0.54667</td>\n",
       "      <td>0.77026</td>\n",
       "      <td>0.781398</td>\n",
       "      <td>...</td>\n",
       "      <td>0.517077</td>\n",
       "      <td>0.661523</td>\n",
       "      <td>0.957021</td>\n",
       "      <td>1.384068</td>\n",
       "      <td>0.690831</td>\n",
       "      <td>0.865679</td>\n",
       "      <td>0.254363</td>\n",
       "      <td>1.369263</td>\n",
       "      <td>0.898327</td>\n",
       "      <td>2</td>\n",
       "    </tr>\n",
       "    <tr>\n",
       "      <th>sample_0002</th>\n",
       "      <td>0.713684</td>\n",
       "      <td>0.762673</td>\n",
       "      <td>0.716626</td>\n",
       "      <td>0.73939</td>\n",
       "      <td>0.921852</td>\n",
       "      <td>0.814239</td>\n",
       "      <td>0.858662</td>\n",
       "      <td>0.633751</td>\n",
       "      <td>0.740652</td>\n",
       "      <td>0.328962</td>\n",
       "      <td>...</td>\n",
       "      <td>0.534857</td>\n",
       "      <td>0.570957</td>\n",
       "      <td>1.111478</td>\n",
       "      <td>1.115342</td>\n",
       "      <td>0.917702</td>\n",
       "      <td>0.371899</td>\n",
       "      <td>0.244953</td>\n",
       "      <td>1.417962</td>\n",
       "      <td>1.023614</td>\n",
       "      <td>3</td>\n",
       "    </tr>\n",
       "    <tr>\n",
       "      <th>sample_0003</th>\n",
       "      <td>1.073165</td>\n",
       "      <td>1.184788</td>\n",
       "      <td>0.448938</td>\n",
       "      <td>0.609914</td>\n",
       "      <td>0.861769</td>\n",
       "      <td>1.064785</td>\n",
       "      <td>1.129699</td>\n",
       "      <td>1.094749</td>\n",
       "      <td>0.751253</td>\n",
       "      <td>0.942595</td>\n",
       "      <td>...</td>\n",
       "      <td>0.858642</td>\n",
       "      <td>0.463791</td>\n",
       "      <td>1.064177</td>\n",
       "      <td>1.036884</td>\n",
       "      <td>0.736977</td>\n",
       "      <td>0.919946</td>\n",
       "      <td>0.209242</td>\n",
       "      <td>1.02814</td>\n",
       "      <td>1.718457</td>\n",
       "      <td>4</td>\n",
       "    </tr>\n",
       "    <tr>\n",
       "      <th>sample_0004</th>\n",
       "      <td>1.074977</td>\n",
       "      <td>0.959059</td>\n",
       "      <td>0.695333</td>\n",
       "      <td>0.699223</td>\n",
       "      <td>0.893694</td>\n",
       "      <td>1.294579</td>\n",
       "      <td>1.062554</td>\n",
       "      <td>1.362446</td>\n",
       "      <td>0.739146</td>\n",
       "      <td>0.793178</td>\n",
       "      <td>...</td>\n",
       "      <td>0.770668</td>\n",
       "      <td>0.628167</td>\n",
       "      <td>1.075152</td>\n",
       "      <td>0.744478</td>\n",
       "      <td>0.750908</td>\n",
       "      <td>0.392298</td>\n",
       "      <td>0.211141</td>\n",
       "      <td>1.126669</td>\n",
       "      <td>2.942013</td>\n",
       "      <td>5</td>\n",
       "    </tr>\n",
       "    <tr>\n",
       "      <th>...</th>\n",
       "      <td>...</td>\n",
       "      <td>...</td>\n",
       "      <td>...</td>\n",
       "      <td>...</td>\n",
       "      <td>...</td>\n",
       "      <td>...</td>\n",
       "      <td>...</td>\n",
       "      <td>...</td>\n",
       "      <td>...</td>\n",
       "      <td>...</td>\n",
       "      <td>...</td>\n",
       "      <td>...</td>\n",
       "      <td>...</td>\n",
       "      <td>...</td>\n",
       "      <td>...</td>\n",
       "      <td>...</td>\n",
       "      <td>...</td>\n",
       "      <td>...</td>\n",
       "      <td>...</td>\n",
       "      <td>...</td>\n",
       "      <td>...</td>\n",
       "    </tr>\n",
       "    <tr>\n",
       "      <th>sample_0177</th>\n",
       "      <td>0.628734</td>\n",
       "      <td>0.701192</td>\n",
       "      <td>1.245951</td>\n",
       "      <td>1.079366</td>\n",
       "      <td>1.014223</td>\n",
       "      <td>0.824301</td>\n",
       "      <td>0.900189</td>\n",
       "      <td>0.609887</td>\n",
       "      <td>0.897941</td>\n",
       "      <td>0.958437</td>\n",
       "      <td>...</td>\n",
       "      <td>0.67895</td>\n",
       "      <td>1.894706</td>\n",
       "      <td>1.02124</td>\n",
       "      <td>0.95138</td>\n",
       "      <td>0.84258</td>\n",
       "      <td>1.243</td>\n",
       "      <td>0.815561</td>\n",
       "      <td>1.041996</td>\n",
       "      <td>0.743896</td>\n",
       "      <td>178</td>\n",
       "    </tr>\n",
       "    <tr>\n",
       "      <th>sample_0178</th>\n",
       "      <td>0.55539</td>\n",
       "      <td>0.576311</td>\n",
       "      <td>2.362415</td>\n",
       "      <td>1.029833</td>\n",
       "      <td>0.869503</td>\n",
       "      <td>0.737526</td>\n",
       "      <td>0.859506</td>\n",
       "      <td>0.659059</td>\n",
       "      <td>0.791604</td>\n",
       "      <td>0.686486</td>\n",
       "      <td>...</td>\n",
       "      <td>0.358595</td>\n",
       "      <td>1.628771</td>\n",
       "      <td>1.052294</td>\n",
       "      <td>0.610196</td>\n",
       "      <td>0.822898</td>\n",
       "      <td>0.200175</td>\n",
       "      <td>0.596484</td>\n",
       "      <td>1.05049</td>\n",
       "      <td>0.731513</td>\n",
       "      <td>179</td>\n",
       "    </tr>\n",
       "    <tr>\n",
       "      <th>sample_0179</th>\n",
       "      <td>0.590216</td>\n",
       "      <td>0.830575</td>\n",
       "      <td>1.660026</td>\n",
       "      <td>0.937246</td>\n",
       "      <td>1.008572</td>\n",
       "      <td>0.682781</td>\n",
       "      <td>0.885793</td>\n",
       "      <td>0.688223</td>\n",
       "      <td>0.945739</td>\n",
       "      <td>0.626076</td>\n",
       "      <td>...</td>\n",
       "      <td>0.716202</td>\n",
       "      <td>1.452911</td>\n",
       "      <td>1.225981</td>\n",
       "      <td>0.688868</td>\n",
       "      <td>1.028227</td>\n",
       "      <td>0.774527</td>\n",
       "      <td>3.107715</td>\n",
       "      <td>0.967872</td>\n",
       "      <td>0.618127</td>\n",
       "      <td>180</td>\n",
       "    </tr>\n",
       "    <tr>\n",
       "      <th>sample_0180</th>\n",
       "      <td>0.601484</td>\n",
       "      <td>0.649295</td>\n",
       "      <td>2.050633</td>\n",
       "      <td>1.468545</td>\n",
       "      <td>1.196692</td>\n",
       "      <td>0.838273</td>\n",
       "      <td>0.929139</td>\n",
       "      <td>0.732988</td>\n",
       "      <td>0.941791</td>\n",
       "      <td>0.693703</td>\n",
       "      <td>...</td>\n",
       "      <td>0.654983</td>\n",
       "      <td>1.883979</td>\n",
       "      <td>1.264813</td>\n",
       "      <td>0.810332</td>\n",
       "      <td>0.941312</td>\n",
       "      <td>1.23461</td>\n",
       "      <td>3.388902</td>\n",
       "      <td>0.958265</td>\n",
       "      <td>0.744399</td>\n",
       "      <td>181</td>\n",
       "    </tr>\n",
       "    <tr>\n",
       "      <th>Idx</th>\n",
       "      <td>1</td>\n",
       "      <td>2</td>\n",
       "      <td>3</td>\n",
       "      <td>4</td>\n",
       "      <td>5</td>\n",
       "      <td>6</td>\n",
       "      <td>7</td>\n",
       "      <td>8</td>\n",
       "      <td>9</td>\n",
       "      <td>10</td>\n",
       "      <td>...</td>\n",
       "      <td>1478</td>\n",
       "      <td>1479</td>\n",
       "      <td>1480</td>\n",
       "      <td>1481</td>\n",
       "      <td>1482</td>\n",
       "      <td>1483</td>\n",
       "      <td>1484</td>\n",
       "      <td>1485</td>\n",
       "      <td>1486</td>\n",
       "      <td>182</td>\n",
       "    </tr>\n",
       "  </tbody>\n",
       "</table>\n",
       "<p>182 rows × 1487 columns</p>\n",
       "</div>"
      ],
      "text/plain": [
       "                         0              1              2              3  \\\n",
       "compound_id  compound_0001  compound_0002  compound_0003  compound_0004   \n",
       "sample_0001        0.79362       0.743363       0.360069       0.557168   \n",
       "sample_0002       0.713684       0.762673       0.716626        0.73939   \n",
       "sample_0003       1.073165       1.184788       0.448938       0.609914   \n",
       "sample_0004       1.074977       0.959059       0.695333       0.699223   \n",
       "...                    ...            ...            ...            ...   \n",
       "sample_0177       0.628734       0.701192       1.245951       1.079366   \n",
       "sample_0178        0.55539       0.576311       2.362415       1.029833   \n",
       "sample_0179       0.590216       0.830575       1.660026       0.937246   \n",
       "sample_0180       0.601484       0.649295       2.050633       1.468545   \n",
       "Idx                      1              2              3              4   \n",
       "\n",
       "                         4              5              6              7  \\\n",
       "compound_id  compound_0005  compound_0006  compound_0007  compound_0008   \n",
       "sample_0001       0.886952       0.698678       0.811203        0.54667   \n",
       "sample_0002       0.921852       0.814239       0.858662       0.633751   \n",
       "sample_0003       0.861769       1.064785       1.129699       1.094749   \n",
       "sample_0004       0.893694       1.294579       1.062554       1.362446   \n",
       "...                    ...            ...            ...            ...   \n",
       "sample_0177       1.014223       0.824301       0.900189       0.609887   \n",
       "sample_0178       0.869503       0.737526       0.859506       0.659059   \n",
       "sample_0179       1.008572       0.682781       0.885793       0.688223   \n",
       "sample_0180       1.196692       0.838273       0.929139       0.732988   \n",
       "Idx                      5              6              7              8   \n",
       "\n",
       "                         8              9  ...           1477           1478  \\\n",
       "compound_id  compound_0009  compound_0010  ...  compound_1478  compound_1479   \n",
       "sample_0001        0.77026       0.781398  ...       0.517077       0.661523   \n",
       "sample_0002       0.740652       0.328962  ...       0.534857       0.570957   \n",
       "sample_0003       0.751253       0.942595  ...       0.858642       0.463791   \n",
       "sample_0004       0.739146       0.793178  ...       0.770668       0.628167   \n",
       "...                    ...            ...  ...            ...            ...   \n",
       "sample_0177       0.897941       0.958437  ...        0.67895       1.894706   \n",
       "sample_0178       0.791604       0.686486  ...       0.358595       1.628771   \n",
       "sample_0179       0.945739       0.626076  ...       0.716202       1.452911   \n",
       "sample_0180       0.941791       0.693703  ...       0.654983       1.883979   \n",
       "Idx                      9             10  ...           1478           1479   \n",
       "\n",
       "                      1479           1480           1481           1482  \\\n",
       "compound_id  compound_1480  compound_1481  compound_1482  compound_1483   \n",
       "sample_0001       0.957021       1.384068       0.690831       0.865679   \n",
       "sample_0002       1.111478       1.115342       0.917702       0.371899   \n",
       "sample_0003       1.064177       1.036884       0.736977       0.919946   \n",
       "sample_0004       1.075152       0.744478       0.750908       0.392298   \n",
       "...                    ...            ...            ...            ...   \n",
       "sample_0177        1.02124        0.95138        0.84258          1.243   \n",
       "sample_0178       1.052294       0.610196       0.822898       0.200175   \n",
       "sample_0179       1.225981       0.688868       1.028227       0.774527   \n",
       "sample_0180       1.264813       0.810332       0.941312        1.23461   \n",
       "Idx                   1480           1481           1482           1483   \n",
       "\n",
       "                      1483           1484           1485  Idx  \n",
       "compound_id  compound_1484  compound_1485  compound_1486    1  \n",
       "sample_0001       0.254363       1.369263       0.898327    2  \n",
       "sample_0002       0.244953       1.417962       1.023614    3  \n",
       "sample_0003       0.209242        1.02814       1.718457    4  \n",
       "sample_0004       0.211141       1.126669       2.942013    5  \n",
       "...                    ...            ...            ...  ...  \n",
       "sample_0177       0.815561       1.041996       0.743896  178  \n",
       "sample_0178       0.596484        1.05049       0.731513  179  \n",
       "sample_0179       3.107715       0.967872       0.618127  180  \n",
       "sample_0180       3.388902       0.958265       0.744399  181  \n",
       "Idx                   1484           1485           1486  182  \n",
       "\n",
       "[182 rows x 1487 columns]"
      ]
     },
     "execution_count": 28,
     "metadata": {},
     "output_type": "execute_result"
    }
   ],
   "source": [
    "#Crear una lista con el número correspondiente de mis filas \n",
    "rn1 = range(1, len(matrix) + 1)\n",
    "dataTable = matrix.assign(Idx = list(rn1))\n",
    "#comprobamos que se añadió la columna\n",
    "dataTable"
   ]
  },
  {
   "cell_type": "code",
   "execution_count": 29,
   "id": "77817867",
   "metadata": {},
   "outputs": [
    {
     "data": {
      "text/plain": [
       "Index(['sample_id', 'sample_id_study', 'CLIENT_IDENTIFIER', 'CLIENT_MATRIX',\n",
       "       'DAY', 'Health', 'Time', 'HEALTH_STATUS', 'RUN_DAY', 'SAMPLE_AMT',\n",
       "       'SUBJECT', 'Time Point', 'study_group', 'sex', 'BMI', 'hba1c'],\n",
       "      dtype='object')"
      ]
     },
     "execution_count": 29,
     "metadata": {},
     "output_type": "execute_result"
    }
   ],
   "source": [
    "#leo la hoja 1 para sacar una columna que necesito \"Health\", sample_id\n",
    "sample_metadata.columns"
   ]
  },
  {
   "cell_type": "code",
   "execution_count": 30,
   "id": "e0de76dc",
   "metadata": {},
   "outputs": [
    {
     "data": {
      "text/html": [
       "<div>\n",
       "<style scoped>\n",
       "    .dataframe tbody tr th:only-of-type {\n",
       "        vertical-align: middle;\n",
       "    }\n",
       "\n",
       "    .dataframe tbody tr th {\n",
       "        vertical-align: top;\n",
       "    }\n",
       "\n",
       "    .dataframe thead th {\n",
       "        text-align: right;\n",
       "    }\n",
       "</style>\n",
       "<table border=\"1\" class=\"dataframe\">\n",
       "  <thead>\n",
       "    <tr style=\"text-align: right;\">\n",
       "      <th></th>\n",
       "      <th>sample_id</th>\n",
       "    </tr>\n",
       "  </thead>\n",
       "  <tbody>\n",
       "    <tr>\n",
       "      <th>0</th>\n",
       "      <td>sample_0001</td>\n",
       "    </tr>\n",
       "    <tr>\n",
       "      <th>1</th>\n",
       "      <td>sample_0002</td>\n",
       "    </tr>\n",
       "    <tr>\n",
       "      <th>2</th>\n",
       "      <td>sample_0003</td>\n",
       "    </tr>\n",
       "    <tr>\n",
       "      <th>3</th>\n",
       "      <td>sample_0004</td>\n",
       "    </tr>\n",
       "    <tr>\n",
       "      <th>4</th>\n",
       "      <td>sample_0005</td>\n",
       "    </tr>\n",
       "    <tr>\n",
       "      <th>...</th>\n",
       "      <td>...</td>\n",
       "    </tr>\n",
       "    <tr>\n",
       "      <th>175</th>\n",
       "      <td>sample_0176</td>\n",
       "    </tr>\n",
       "    <tr>\n",
       "      <th>176</th>\n",
       "      <td>sample_0177</td>\n",
       "    </tr>\n",
       "    <tr>\n",
       "      <th>177</th>\n",
       "      <td>sample_0178</td>\n",
       "    </tr>\n",
       "    <tr>\n",
       "      <th>178</th>\n",
       "      <td>sample_0179</td>\n",
       "    </tr>\n",
       "    <tr>\n",
       "      <th>179</th>\n",
       "      <td>sample_0180</td>\n",
       "    </tr>\n",
       "  </tbody>\n",
       "</table>\n",
       "<p>180 rows × 1 columns</p>\n",
       "</div>"
      ],
      "text/plain": [
       "       sample_id\n",
       "0    sample_0001\n",
       "1    sample_0002\n",
       "2    sample_0003\n",
       "3    sample_0004\n",
       "4    sample_0005\n",
       "..           ...\n",
       "175  sample_0176\n",
       "176  sample_0177\n",
       "177  sample_0178\n",
       "178  sample_0179\n",
       "179  sample_0180\n",
       "\n",
       "[180 rows x 1 columns]"
      ]
     },
     "execution_count": 30,
     "metadata": {},
     "output_type": "execute_result"
    }
   ],
   "source": [
    "#Sacar la clase sample_id\n",
    "df= sample_metadata.loc[:,[\"sample_id\"]]\n",
    "df"
   ]
  },
  {
   "cell_type": "code",
   "execution_count": 31,
   "id": "8d9d7771",
   "metadata": {},
   "outputs": [],
   "source": [
    "#pasar a lista porque me esta dando error el comando de concat result=pd.concat([df1,df2], axis=1)\n",
    "muestras=df[\"sample_id\"].tolist()"
   ]
  },
  {
   "cell_type": "code",
   "execution_count": 32,
   "id": "830ca640",
   "metadata": {},
   "outputs": [
    {
     "data": {
      "text/html": [
       "<div>\n",
       "<style scoped>\n",
       "    .dataframe tbody tr th:only-of-type {\n",
       "        vertical-align: middle;\n",
       "    }\n",
       "\n",
       "    .dataframe tbody tr th {\n",
       "        vertical-align: top;\n",
       "    }\n",
       "\n",
       "    .dataframe thead th {\n",
       "        text-align: right;\n",
       "    }\n",
       "</style>\n",
       "<table border=\"1\" class=\"dataframe\">\n",
       "  <thead>\n",
       "    <tr style=\"text-align: right;\">\n",
       "      <th></th>\n",
       "      <th>Health</th>\n",
       "    </tr>\n",
       "  </thead>\n",
       "  <tbody>\n",
       "    <tr>\n",
       "      <th>0</th>\n",
       "      <td>Healthy</td>\n",
       "    </tr>\n",
       "    <tr>\n",
       "      <th>1</th>\n",
       "      <td>Healthy</td>\n",
       "    </tr>\n",
       "    <tr>\n",
       "      <th>2</th>\n",
       "      <td>Healthy</td>\n",
       "    </tr>\n",
       "    <tr>\n",
       "      <th>3</th>\n",
       "      <td>Healthy</td>\n",
       "    </tr>\n",
       "    <tr>\n",
       "      <th>4</th>\n",
       "      <td>Healthy</td>\n",
       "    </tr>\n",
       "    <tr>\n",
       "      <th>...</th>\n",
       "      <td>...</td>\n",
       "    </tr>\n",
       "    <tr>\n",
       "      <th>175</th>\n",
       "      <td>diabetic</td>\n",
       "    </tr>\n",
       "    <tr>\n",
       "      <th>176</th>\n",
       "      <td>diabetic</td>\n",
       "    </tr>\n",
       "    <tr>\n",
       "      <th>177</th>\n",
       "      <td>diabetic</td>\n",
       "    </tr>\n",
       "    <tr>\n",
       "      <th>178</th>\n",
       "      <td>diabetic</td>\n",
       "    </tr>\n",
       "    <tr>\n",
       "      <th>179</th>\n",
       "      <td>diabetic</td>\n",
       "    </tr>\n",
       "  </tbody>\n",
       "</table>\n",
       "<p>180 rows × 1 columns</p>\n",
       "</div>"
      ],
      "text/plain": [
       "       Health\n",
       "0     Healthy\n",
       "1     Healthy\n",
       "2     Healthy\n",
       "3     Healthy\n",
       "4     Healthy\n",
       "..        ...\n",
       "175  diabetic\n",
       "176  diabetic\n",
       "177  diabetic\n",
       "178  diabetic\n",
       "179  diabetic\n",
       "\n",
       "[180 rows x 1 columns]"
      ]
     },
     "execution_count": 32,
     "metadata": {},
     "output_type": "execute_result"
    }
   ],
   "source": [
    "#Sacar la clase Health\n",
    "\n",
    "df1= sample_metadata.loc[:,[\"Health\"]]\n",
    "df1"
   ]
  },
  {
   "cell_type": "code",
   "execution_count": 33,
   "id": "f6fcc2dd",
   "metadata": {},
   "outputs": [],
   "source": [
    "#pasar a lista porque me esta dando error el comando de concat result=pd.concat([df1,df2], axis=1)\n",
    "clase=sample_metadata[\"Health\"].tolist()"
   ]
  },
  {
   "cell_type": "code",
   "execution_count": 34,
   "id": "7888337c",
   "metadata": {},
   "outputs": [
    {
     "data": {
      "text/html": [
       "<div>\n",
       "<style scoped>\n",
       "    .dataframe tbody tr th:only-of-type {\n",
       "        vertical-align: middle;\n",
       "    }\n",
       "\n",
       "    .dataframe tbody tr th {\n",
       "        vertical-align: top;\n",
       "    }\n",
       "\n",
       "    .dataframe thead th {\n",
       "        text-align: right;\n",
       "    }\n",
       "</style>\n",
       "<table border=\"1\" class=\"dataframe\">\n",
       "  <thead>\n",
       "    <tr style=\"text-align: right;\">\n",
       "      <th></th>\n",
       "      <th>0</th>\n",
       "      <th>1</th>\n",
       "      <th>2</th>\n",
       "      <th>3</th>\n",
       "      <th>4</th>\n",
       "      <th>5</th>\n",
       "      <th>6</th>\n",
       "      <th>7</th>\n",
       "      <th>8</th>\n",
       "      <th>9</th>\n",
       "      <th>...</th>\n",
       "      <th>1478</th>\n",
       "      <th>1479</th>\n",
       "      <th>1480</th>\n",
       "      <th>1481</th>\n",
       "      <th>1482</th>\n",
       "      <th>1483</th>\n",
       "      <th>1484</th>\n",
       "      <th>1485</th>\n",
       "      <th>Idx</th>\n",
       "      <th>Class</th>\n",
       "    </tr>\n",
       "  </thead>\n",
       "  <tbody>\n",
       "    <tr>\n",
       "      <th>compound_id</th>\n",
       "      <td>compound_0001</td>\n",
       "      <td>compound_0002</td>\n",
       "      <td>compound_0003</td>\n",
       "      <td>compound_0004</td>\n",
       "      <td>compound_0005</td>\n",
       "      <td>compound_0006</td>\n",
       "      <td>compound_0007</td>\n",
       "      <td>compound_0008</td>\n",
       "      <td>compound_0009</td>\n",
       "      <td>compound_0010</td>\n",
       "      <td>...</td>\n",
       "      <td>compound_1479</td>\n",
       "      <td>compound_1480</td>\n",
       "      <td>compound_1481</td>\n",
       "      <td>compound_1482</td>\n",
       "      <td>compound_1483</td>\n",
       "      <td>compound_1484</td>\n",
       "      <td>compound_1485</td>\n",
       "      <td>compound_1486</td>\n",
       "      <td>1</td>\n",
       "      <td>Healthy</td>\n",
       "    </tr>\n",
       "    <tr>\n",
       "      <th>sample_0001</th>\n",
       "      <td>0.79362</td>\n",
       "      <td>0.743363</td>\n",
       "      <td>0.360069</td>\n",
       "      <td>0.557168</td>\n",
       "      <td>0.886952</td>\n",
       "      <td>0.698678</td>\n",
       "      <td>0.811203</td>\n",
       "      <td>0.54667</td>\n",
       "      <td>0.77026</td>\n",
       "      <td>0.781398</td>\n",
       "      <td>...</td>\n",
       "      <td>0.661523</td>\n",
       "      <td>0.957021</td>\n",
       "      <td>1.384068</td>\n",
       "      <td>0.690831</td>\n",
       "      <td>0.865679</td>\n",
       "      <td>0.254363</td>\n",
       "      <td>1.369263</td>\n",
       "      <td>0.898327</td>\n",
       "      <td>2</td>\n",
       "      <td>Healthy</td>\n",
       "    </tr>\n",
       "    <tr>\n",
       "      <th>sample_0002</th>\n",
       "      <td>0.713684</td>\n",
       "      <td>0.762673</td>\n",
       "      <td>0.716626</td>\n",
       "      <td>0.73939</td>\n",
       "      <td>0.921852</td>\n",
       "      <td>0.814239</td>\n",
       "      <td>0.858662</td>\n",
       "      <td>0.633751</td>\n",
       "      <td>0.740652</td>\n",
       "      <td>0.328962</td>\n",
       "      <td>...</td>\n",
       "      <td>0.570957</td>\n",
       "      <td>1.111478</td>\n",
       "      <td>1.115342</td>\n",
       "      <td>0.917702</td>\n",
       "      <td>0.371899</td>\n",
       "      <td>0.244953</td>\n",
       "      <td>1.417962</td>\n",
       "      <td>1.023614</td>\n",
       "      <td>3</td>\n",
       "      <td>Healthy</td>\n",
       "    </tr>\n",
       "    <tr>\n",
       "      <th>sample_0003</th>\n",
       "      <td>1.073165</td>\n",
       "      <td>1.184788</td>\n",
       "      <td>0.448938</td>\n",
       "      <td>0.609914</td>\n",
       "      <td>0.861769</td>\n",
       "      <td>1.064785</td>\n",
       "      <td>1.129699</td>\n",
       "      <td>1.094749</td>\n",
       "      <td>0.751253</td>\n",
       "      <td>0.942595</td>\n",
       "      <td>...</td>\n",
       "      <td>0.463791</td>\n",
       "      <td>1.064177</td>\n",
       "      <td>1.036884</td>\n",
       "      <td>0.736977</td>\n",
       "      <td>0.919946</td>\n",
       "      <td>0.209242</td>\n",
       "      <td>1.02814</td>\n",
       "      <td>1.718457</td>\n",
       "      <td>4</td>\n",
       "      <td>Healthy</td>\n",
       "    </tr>\n",
       "    <tr>\n",
       "      <th>sample_0004</th>\n",
       "      <td>1.074977</td>\n",
       "      <td>0.959059</td>\n",
       "      <td>0.695333</td>\n",
       "      <td>0.699223</td>\n",
       "      <td>0.893694</td>\n",
       "      <td>1.294579</td>\n",
       "      <td>1.062554</td>\n",
       "      <td>1.362446</td>\n",
       "      <td>0.739146</td>\n",
       "      <td>0.793178</td>\n",
       "      <td>...</td>\n",
       "      <td>0.628167</td>\n",
       "      <td>1.075152</td>\n",
       "      <td>0.744478</td>\n",
       "      <td>0.750908</td>\n",
       "      <td>0.392298</td>\n",
       "      <td>0.211141</td>\n",
       "      <td>1.126669</td>\n",
       "      <td>2.942013</td>\n",
       "      <td>5</td>\n",
       "      <td>Healthy</td>\n",
       "    </tr>\n",
       "    <tr>\n",
       "      <th>...</th>\n",
       "      <td>...</td>\n",
       "      <td>...</td>\n",
       "      <td>...</td>\n",
       "      <td>...</td>\n",
       "      <td>...</td>\n",
       "      <td>...</td>\n",
       "      <td>...</td>\n",
       "      <td>...</td>\n",
       "      <td>...</td>\n",
       "      <td>...</td>\n",
       "      <td>...</td>\n",
       "      <td>...</td>\n",
       "      <td>...</td>\n",
       "      <td>...</td>\n",
       "      <td>...</td>\n",
       "      <td>...</td>\n",
       "      <td>...</td>\n",
       "      <td>...</td>\n",
       "      <td>...</td>\n",
       "      <td>...</td>\n",
       "      <td>...</td>\n",
       "    </tr>\n",
       "    <tr>\n",
       "      <th>sample_0177</th>\n",
       "      <td>0.628734</td>\n",
       "      <td>0.701192</td>\n",
       "      <td>1.245951</td>\n",
       "      <td>1.079366</td>\n",
       "      <td>1.014223</td>\n",
       "      <td>0.824301</td>\n",
       "      <td>0.900189</td>\n",
       "      <td>0.609887</td>\n",
       "      <td>0.897941</td>\n",
       "      <td>0.958437</td>\n",
       "      <td>...</td>\n",
       "      <td>1.894706</td>\n",
       "      <td>1.02124</td>\n",
       "      <td>0.95138</td>\n",
       "      <td>0.84258</td>\n",
       "      <td>1.243</td>\n",
       "      <td>0.815561</td>\n",
       "      <td>1.041996</td>\n",
       "      <td>0.743896</td>\n",
       "      <td>178</td>\n",
       "      <td>diabetic</td>\n",
       "    </tr>\n",
       "    <tr>\n",
       "      <th>sample_0178</th>\n",
       "      <td>0.55539</td>\n",
       "      <td>0.576311</td>\n",
       "      <td>2.362415</td>\n",
       "      <td>1.029833</td>\n",
       "      <td>0.869503</td>\n",
       "      <td>0.737526</td>\n",
       "      <td>0.859506</td>\n",
       "      <td>0.659059</td>\n",
       "      <td>0.791604</td>\n",
       "      <td>0.686486</td>\n",
       "      <td>...</td>\n",
       "      <td>1.628771</td>\n",
       "      <td>1.052294</td>\n",
       "      <td>0.610196</td>\n",
       "      <td>0.822898</td>\n",
       "      <td>0.200175</td>\n",
       "      <td>0.596484</td>\n",
       "      <td>1.05049</td>\n",
       "      <td>0.731513</td>\n",
       "      <td>179</td>\n",
       "      <td>diabetic</td>\n",
       "    </tr>\n",
       "    <tr>\n",
       "      <th>sample_0179</th>\n",
       "      <td>0.590216</td>\n",
       "      <td>0.830575</td>\n",
       "      <td>1.660026</td>\n",
       "      <td>0.937246</td>\n",
       "      <td>1.008572</td>\n",
       "      <td>0.682781</td>\n",
       "      <td>0.885793</td>\n",
       "      <td>0.688223</td>\n",
       "      <td>0.945739</td>\n",
       "      <td>0.626076</td>\n",
       "      <td>...</td>\n",
       "      <td>1.452911</td>\n",
       "      <td>1.225981</td>\n",
       "      <td>0.688868</td>\n",
       "      <td>1.028227</td>\n",
       "      <td>0.774527</td>\n",
       "      <td>3.107715</td>\n",
       "      <td>0.967872</td>\n",
       "      <td>0.618127</td>\n",
       "      <td>180</td>\n",
       "      <td>diabetic</td>\n",
       "    </tr>\n",
       "    <tr>\n",
       "      <th>sample_0180</th>\n",
       "      <td>0.601484</td>\n",
       "      <td>0.649295</td>\n",
       "      <td>2.050633</td>\n",
       "      <td>1.468545</td>\n",
       "      <td>1.196692</td>\n",
       "      <td>0.838273</td>\n",
       "      <td>0.929139</td>\n",
       "      <td>0.732988</td>\n",
       "      <td>0.941791</td>\n",
       "      <td>0.693703</td>\n",
       "      <td>...</td>\n",
       "      <td>1.883979</td>\n",
       "      <td>1.264813</td>\n",
       "      <td>0.810332</td>\n",
       "      <td>0.941312</td>\n",
       "      <td>1.23461</td>\n",
       "      <td>3.388902</td>\n",
       "      <td>0.958265</td>\n",
       "      <td>0.744399</td>\n",
       "      <td>181</td>\n",
       "      <td>NaN</td>\n",
       "    </tr>\n",
       "    <tr>\n",
       "      <th>Idx</th>\n",
       "      <td>1</td>\n",
       "      <td>2</td>\n",
       "      <td>3</td>\n",
       "      <td>4</td>\n",
       "      <td>5</td>\n",
       "      <td>6</td>\n",
       "      <td>7</td>\n",
       "      <td>8</td>\n",
       "      <td>9</td>\n",
       "      <td>10</td>\n",
       "      <td>...</td>\n",
       "      <td>1479</td>\n",
       "      <td>1480</td>\n",
       "      <td>1481</td>\n",
       "      <td>1482</td>\n",
       "      <td>1483</td>\n",
       "      <td>1484</td>\n",
       "      <td>1485</td>\n",
       "      <td>1486</td>\n",
       "      <td>182</td>\n",
       "      <td>NaN</td>\n",
       "    </tr>\n",
       "  </tbody>\n",
       "</table>\n",
       "<p>182 rows × 1488 columns</p>\n",
       "</div>"
      ],
      "text/plain": [
       "                         0              1              2              3  \\\n",
       "compound_id  compound_0001  compound_0002  compound_0003  compound_0004   \n",
       "sample_0001        0.79362       0.743363       0.360069       0.557168   \n",
       "sample_0002       0.713684       0.762673       0.716626        0.73939   \n",
       "sample_0003       1.073165       1.184788       0.448938       0.609914   \n",
       "sample_0004       1.074977       0.959059       0.695333       0.699223   \n",
       "...                    ...            ...            ...            ...   \n",
       "sample_0177       0.628734       0.701192       1.245951       1.079366   \n",
       "sample_0178        0.55539       0.576311       2.362415       1.029833   \n",
       "sample_0179       0.590216       0.830575       1.660026       0.937246   \n",
       "sample_0180       0.601484       0.649295       2.050633       1.468545   \n",
       "Idx                      1              2              3              4   \n",
       "\n",
       "                         4              5              6              7  \\\n",
       "compound_id  compound_0005  compound_0006  compound_0007  compound_0008   \n",
       "sample_0001       0.886952       0.698678       0.811203        0.54667   \n",
       "sample_0002       0.921852       0.814239       0.858662       0.633751   \n",
       "sample_0003       0.861769       1.064785       1.129699       1.094749   \n",
       "sample_0004       0.893694       1.294579       1.062554       1.362446   \n",
       "...                    ...            ...            ...            ...   \n",
       "sample_0177       1.014223       0.824301       0.900189       0.609887   \n",
       "sample_0178       0.869503       0.737526       0.859506       0.659059   \n",
       "sample_0179       1.008572       0.682781       0.885793       0.688223   \n",
       "sample_0180       1.196692       0.838273       0.929139       0.732988   \n",
       "Idx                      5              6              7              8   \n",
       "\n",
       "                         8              9  ...           1478           1479  \\\n",
       "compound_id  compound_0009  compound_0010  ...  compound_1479  compound_1480   \n",
       "sample_0001        0.77026       0.781398  ...       0.661523       0.957021   \n",
       "sample_0002       0.740652       0.328962  ...       0.570957       1.111478   \n",
       "sample_0003       0.751253       0.942595  ...       0.463791       1.064177   \n",
       "sample_0004       0.739146       0.793178  ...       0.628167       1.075152   \n",
       "...                    ...            ...  ...            ...            ...   \n",
       "sample_0177       0.897941       0.958437  ...       1.894706        1.02124   \n",
       "sample_0178       0.791604       0.686486  ...       1.628771       1.052294   \n",
       "sample_0179       0.945739       0.626076  ...       1.452911       1.225981   \n",
       "sample_0180       0.941791       0.693703  ...       1.883979       1.264813   \n",
       "Idx                      9             10  ...           1479           1480   \n",
       "\n",
       "                      1480           1481           1482           1483  \\\n",
       "compound_id  compound_1481  compound_1482  compound_1483  compound_1484   \n",
       "sample_0001       1.384068       0.690831       0.865679       0.254363   \n",
       "sample_0002       1.115342       0.917702       0.371899       0.244953   \n",
       "sample_0003       1.036884       0.736977       0.919946       0.209242   \n",
       "sample_0004       0.744478       0.750908       0.392298       0.211141   \n",
       "...                    ...            ...            ...            ...   \n",
       "sample_0177        0.95138        0.84258          1.243       0.815561   \n",
       "sample_0178       0.610196       0.822898       0.200175       0.596484   \n",
       "sample_0179       0.688868       1.028227       0.774527       3.107715   \n",
       "sample_0180       0.810332       0.941312        1.23461       3.388902   \n",
       "Idx                   1481           1482           1483           1484   \n",
       "\n",
       "                      1484           1485  Idx     Class  \n",
       "compound_id  compound_1485  compound_1486    1   Healthy  \n",
       "sample_0001       1.369263       0.898327    2   Healthy  \n",
       "sample_0002       1.417962       1.023614    3   Healthy  \n",
       "sample_0003        1.02814       1.718457    4   Healthy  \n",
       "sample_0004       1.126669       2.942013    5   Healthy  \n",
       "...                    ...            ...  ...       ...  \n",
       "sample_0177       1.041996       0.743896  178  diabetic  \n",
       "sample_0178        1.05049       0.731513  179  diabetic  \n",
       "sample_0179       0.967872       0.618127  180  diabetic  \n",
       "sample_0180       0.958265       0.744399  181       NaN  \n",
       "Idx                   1485           1486  182       NaN  \n",
       "\n",
       "[182 rows x 1488 columns]"
      ]
     },
     "execution_count": 34,
     "metadata": {},
     "output_type": "execute_result"
    }
   ],
   "source": [
    "# Asignar clase a las filas de muestras en dataTable (excluyendo filas como 'compound_id' y 'Idx')\n",
    "# Suponiendo que las filas de muestras son las primeras 180 filas\n",
    "\n",
    "sample_rows = dataTable.iloc[:180].copy()\n",
    "sample_rows = sample_rows.assign(Class=list(clase))\n",
    "\n",
    "# Si quieres mantener las filas extra (como 'compound_id' y 'Idx'), puedes concatenarlas después\n",
    "dataTable = pd.concat([sample_rows, dataTable.iloc[180:]], axis=0)\n",
    "\n",
    "# Comprobamos que se añadió la columna\n",
    "dataTable"
   ]
  },
  {
   "cell_type": "code",
   "execution_count": 35,
   "id": "c2456119",
   "metadata": {},
   "outputs": [
    {
     "data": {
      "text/html": [
       "<div>\n",
       "<style scoped>\n",
       "    .dataframe tbody tr th:only-of-type {\n",
       "        vertical-align: middle;\n",
       "    }\n",
       "\n",
       "    .dataframe tbody tr th {\n",
       "        vertical-align: top;\n",
       "    }\n",
       "\n",
       "    .dataframe thead th {\n",
       "        text-align: right;\n",
       "    }\n",
       "</style>\n",
       "<table border=\"1\" class=\"dataframe\">\n",
       "  <thead>\n",
       "    <tr style=\"text-align: right;\">\n",
       "      <th></th>\n",
       "      <th>0</th>\n",
       "      <th>1</th>\n",
       "      <th>2</th>\n",
       "      <th>3</th>\n",
       "      <th>4</th>\n",
       "      <th>5</th>\n",
       "      <th>6</th>\n",
       "      <th>7</th>\n",
       "      <th>8</th>\n",
       "      <th>9</th>\n",
       "      <th>...</th>\n",
       "      <th>1479</th>\n",
       "      <th>1480</th>\n",
       "      <th>1481</th>\n",
       "      <th>1482</th>\n",
       "      <th>1483</th>\n",
       "      <th>1484</th>\n",
       "      <th>1485</th>\n",
       "      <th>Idx</th>\n",
       "      <th>Class</th>\n",
       "      <th>SampleID</th>\n",
       "    </tr>\n",
       "  </thead>\n",
       "  <tbody>\n",
       "    <tr>\n",
       "      <th>compound_id</th>\n",
       "      <td>compound_0001</td>\n",
       "      <td>compound_0002</td>\n",
       "      <td>compound_0003</td>\n",
       "      <td>compound_0004</td>\n",
       "      <td>compound_0005</td>\n",
       "      <td>compound_0006</td>\n",
       "      <td>compound_0007</td>\n",
       "      <td>compound_0008</td>\n",
       "      <td>compound_0009</td>\n",
       "      <td>compound_0010</td>\n",
       "      <td>...</td>\n",
       "      <td>compound_1480</td>\n",
       "      <td>compound_1481</td>\n",
       "      <td>compound_1482</td>\n",
       "      <td>compound_1483</td>\n",
       "      <td>compound_1484</td>\n",
       "      <td>compound_1485</td>\n",
       "      <td>compound_1486</td>\n",
       "      <td>1</td>\n",
       "      <td>Healthy</td>\n",
       "      <td>sample_0001</td>\n",
       "    </tr>\n",
       "    <tr>\n",
       "      <th>sample_0001</th>\n",
       "      <td>0.79362</td>\n",
       "      <td>0.743363</td>\n",
       "      <td>0.360069</td>\n",
       "      <td>0.557168</td>\n",
       "      <td>0.886952</td>\n",
       "      <td>0.698678</td>\n",
       "      <td>0.811203</td>\n",
       "      <td>0.54667</td>\n",
       "      <td>0.77026</td>\n",
       "      <td>0.781398</td>\n",
       "      <td>...</td>\n",
       "      <td>0.957021</td>\n",
       "      <td>1.384068</td>\n",
       "      <td>0.690831</td>\n",
       "      <td>0.865679</td>\n",
       "      <td>0.254363</td>\n",
       "      <td>1.369263</td>\n",
       "      <td>0.898327</td>\n",
       "      <td>2</td>\n",
       "      <td>Healthy</td>\n",
       "      <td>sample_0002</td>\n",
       "    </tr>\n",
       "    <tr>\n",
       "      <th>sample_0002</th>\n",
       "      <td>0.713684</td>\n",
       "      <td>0.762673</td>\n",
       "      <td>0.716626</td>\n",
       "      <td>0.73939</td>\n",
       "      <td>0.921852</td>\n",
       "      <td>0.814239</td>\n",
       "      <td>0.858662</td>\n",
       "      <td>0.633751</td>\n",
       "      <td>0.740652</td>\n",
       "      <td>0.328962</td>\n",
       "      <td>...</td>\n",
       "      <td>1.111478</td>\n",
       "      <td>1.115342</td>\n",
       "      <td>0.917702</td>\n",
       "      <td>0.371899</td>\n",
       "      <td>0.244953</td>\n",
       "      <td>1.417962</td>\n",
       "      <td>1.023614</td>\n",
       "      <td>3</td>\n",
       "      <td>Healthy</td>\n",
       "      <td>sample_0003</td>\n",
       "    </tr>\n",
       "    <tr>\n",
       "      <th>sample_0003</th>\n",
       "      <td>1.073165</td>\n",
       "      <td>1.184788</td>\n",
       "      <td>0.448938</td>\n",
       "      <td>0.609914</td>\n",
       "      <td>0.861769</td>\n",
       "      <td>1.064785</td>\n",
       "      <td>1.129699</td>\n",
       "      <td>1.094749</td>\n",
       "      <td>0.751253</td>\n",
       "      <td>0.942595</td>\n",
       "      <td>...</td>\n",
       "      <td>1.064177</td>\n",
       "      <td>1.036884</td>\n",
       "      <td>0.736977</td>\n",
       "      <td>0.919946</td>\n",
       "      <td>0.209242</td>\n",
       "      <td>1.02814</td>\n",
       "      <td>1.718457</td>\n",
       "      <td>4</td>\n",
       "      <td>Healthy</td>\n",
       "      <td>sample_0004</td>\n",
       "    </tr>\n",
       "    <tr>\n",
       "      <th>sample_0004</th>\n",
       "      <td>1.074977</td>\n",
       "      <td>0.959059</td>\n",
       "      <td>0.695333</td>\n",
       "      <td>0.699223</td>\n",
       "      <td>0.893694</td>\n",
       "      <td>1.294579</td>\n",
       "      <td>1.062554</td>\n",
       "      <td>1.362446</td>\n",
       "      <td>0.739146</td>\n",
       "      <td>0.793178</td>\n",
       "      <td>...</td>\n",
       "      <td>1.075152</td>\n",
       "      <td>0.744478</td>\n",
       "      <td>0.750908</td>\n",
       "      <td>0.392298</td>\n",
       "      <td>0.211141</td>\n",
       "      <td>1.126669</td>\n",
       "      <td>2.942013</td>\n",
       "      <td>5</td>\n",
       "      <td>Healthy</td>\n",
       "      <td>sample_0005</td>\n",
       "    </tr>\n",
       "    <tr>\n",
       "      <th>...</th>\n",
       "      <td>...</td>\n",
       "      <td>...</td>\n",
       "      <td>...</td>\n",
       "      <td>...</td>\n",
       "      <td>...</td>\n",
       "      <td>...</td>\n",
       "      <td>...</td>\n",
       "      <td>...</td>\n",
       "      <td>...</td>\n",
       "      <td>...</td>\n",
       "      <td>...</td>\n",
       "      <td>...</td>\n",
       "      <td>...</td>\n",
       "      <td>...</td>\n",
       "      <td>...</td>\n",
       "      <td>...</td>\n",
       "      <td>...</td>\n",
       "      <td>...</td>\n",
       "      <td>...</td>\n",
       "      <td>...</td>\n",
       "      <td>...</td>\n",
       "    </tr>\n",
       "    <tr>\n",
       "      <th>sample_0177</th>\n",
       "      <td>0.628734</td>\n",
       "      <td>0.701192</td>\n",
       "      <td>1.245951</td>\n",
       "      <td>1.079366</td>\n",
       "      <td>1.014223</td>\n",
       "      <td>0.824301</td>\n",
       "      <td>0.900189</td>\n",
       "      <td>0.609887</td>\n",
       "      <td>0.897941</td>\n",
       "      <td>0.958437</td>\n",
       "      <td>...</td>\n",
       "      <td>1.02124</td>\n",
       "      <td>0.95138</td>\n",
       "      <td>0.84258</td>\n",
       "      <td>1.243</td>\n",
       "      <td>0.815561</td>\n",
       "      <td>1.041996</td>\n",
       "      <td>0.743896</td>\n",
       "      <td>178</td>\n",
       "      <td>diabetic</td>\n",
       "      <td>sample_0178</td>\n",
       "    </tr>\n",
       "    <tr>\n",
       "      <th>sample_0178</th>\n",
       "      <td>0.55539</td>\n",
       "      <td>0.576311</td>\n",
       "      <td>2.362415</td>\n",
       "      <td>1.029833</td>\n",
       "      <td>0.869503</td>\n",
       "      <td>0.737526</td>\n",
       "      <td>0.859506</td>\n",
       "      <td>0.659059</td>\n",
       "      <td>0.791604</td>\n",
       "      <td>0.686486</td>\n",
       "      <td>...</td>\n",
       "      <td>1.052294</td>\n",
       "      <td>0.610196</td>\n",
       "      <td>0.822898</td>\n",
       "      <td>0.200175</td>\n",
       "      <td>0.596484</td>\n",
       "      <td>1.05049</td>\n",
       "      <td>0.731513</td>\n",
       "      <td>179</td>\n",
       "      <td>diabetic</td>\n",
       "      <td>sample_0179</td>\n",
       "    </tr>\n",
       "    <tr>\n",
       "      <th>sample_0179</th>\n",
       "      <td>0.590216</td>\n",
       "      <td>0.830575</td>\n",
       "      <td>1.660026</td>\n",
       "      <td>0.937246</td>\n",
       "      <td>1.008572</td>\n",
       "      <td>0.682781</td>\n",
       "      <td>0.885793</td>\n",
       "      <td>0.688223</td>\n",
       "      <td>0.945739</td>\n",
       "      <td>0.626076</td>\n",
       "      <td>...</td>\n",
       "      <td>1.225981</td>\n",
       "      <td>0.688868</td>\n",
       "      <td>1.028227</td>\n",
       "      <td>0.774527</td>\n",
       "      <td>3.107715</td>\n",
       "      <td>0.967872</td>\n",
       "      <td>0.618127</td>\n",
       "      <td>180</td>\n",
       "      <td>diabetic</td>\n",
       "      <td>sample_0180</td>\n",
       "    </tr>\n",
       "    <tr>\n",
       "      <th>sample_0180</th>\n",
       "      <td>0.601484</td>\n",
       "      <td>0.649295</td>\n",
       "      <td>2.050633</td>\n",
       "      <td>1.468545</td>\n",
       "      <td>1.196692</td>\n",
       "      <td>0.838273</td>\n",
       "      <td>0.929139</td>\n",
       "      <td>0.732988</td>\n",
       "      <td>0.941791</td>\n",
       "      <td>0.693703</td>\n",
       "      <td>...</td>\n",
       "      <td>1.264813</td>\n",
       "      <td>0.810332</td>\n",
       "      <td>0.941312</td>\n",
       "      <td>1.23461</td>\n",
       "      <td>3.388902</td>\n",
       "      <td>0.958265</td>\n",
       "      <td>0.744399</td>\n",
       "      <td>181</td>\n",
       "      <td>NaN</td>\n",
       "      <td>NaN</td>\n",
       "    </tr>\n",
       "    <tr>\n",
       "      <th>Idx</th>\n",
       "      <td>1</td>\n",
       "      <td>2</td>\n",
       "      <td>3</td>\n",
       "      <td>4</td>\n",
       "      <td>5</td>\n",
       "      <td>6</td>\n",
       "      <td>7</td>\n",
       "      <td>8</td>\n",
       "      <td>9</td>\n",
       "      <td>10</td>\n",
       "      <td>...</td>\n",
       "      <td>1480</td>\n",
       "      <td>1481</td>\n",
       "      <td>1482</td>\n",
       "      <td>1483</td>\n",
       "      <td>1484</td>\n",
       "      <td>1485</td>\n",
       "      <td>1486</td>\n",
       "      <td>182</td>\n",
       "      <td>NaN</td>\n",
       "      <td>NaN</td>\n",
       "    </tr>\n",
       "  </tbody>\n",
       "</table>\n",
       "<p>182 rows × 1489 columns</p>\n",
       "</div>"
      ],
      "text/plain": [
       "                         0              1              2              3  \\\n",
       "compound_id  compound_0001  compound_0002  compound_0003  compound_0004   \n",
       "sample_0001        0.79362       0.743363       0.360069       0.557168   \n",
       "sample_0002       0.713684       0.762673       0.716626        0.73939   \n",
       "sample_0003       1.073165       1.184788       0.448938       0.609914   \n",
       "sample_0004       1.074977       0.959059       0.695333       0.699223   \n",
       "...                    ...            ...            ...            ...   \n",
       "sample_0177       0.628734       0.701192       1.245951       1.079366   \n",
       "sample_0178        0.55539       0.576311       2.362415       1.029833   \n",
       "sample_0179       0.590216       0.830575       1.660026       0.937246   \n",
       "sample_0180       0.601484       0.649295       2.050633       1.468545   \n",
       "Idx                      1              2              3              4   \n",
       "\n",
       "                         4              5              6              7  \\\n",
       "compound_id  compound_0005  compound_0006  compound_0007  compound_0008   \n",
       "sample_0001       0.886952       0.698678       0.811203        0.54667   \n",
       "sample_0002       0.921852       0.814239       0.858662       0.633751   \n",
       "sample_0003       0.861769       1.064785       1.129699       1.094749   \n",
       "sample_0004       0.893694       1.294579       1.062554       1.362446   \n",
       "...                    ...            ...            ...            ...   \n",
       "sample_0177       1.014223       0.824301       0.900189       0.609887   \n",
       "sample_0178       0.869503       0.737526       0.859506       0.659059   \n",
       "sample_0179       1.008572       0.682781       0.885793       0.688223   \n",
       "sample_0180       1.196692       0.838273       0.929139       0.732988   \n",
       "Idx                      5              6              7              8   \n",
       "\n",
       "                         8              9  ...           1479           1480  \\\n",
       "compound_id  compound_0009  compound_0010  ...  compound_1480  compound_1481   \n",
       "sample_0001        0.77026       0.781398  ...       0.957021       1.384068   \n",
       "sample_0002       0.740652       0.328962  ...       1.111478       1.115342   \n",
       "sample_0003       0.751253       0.942595  ...       1.064177       1.036884   \n",
       "sample_0004       0.739146       0.793178  ...       1.075152       0.744478   \n",
       "...                    ...            ...  ...            ...            ...   \n",
       "sample_0177       0.897941       0.958437  ...        1.02124        0.95138   \n",
       "sample_0178       0.791604       0.686486  ...       1.052294       0.610196   \n",
       "sample_0179       0.945739       0.626076  ...       1.225981       0.688868   \n",
       "sample_0180       0.941791       0.693703  ...       1.264813       0.810332   \n",
       "Idx                      9             10  ...           1480           1481   \n",
       "\n",
       "                      1481           1482           1483           1484  \\\n",
       "compound_id  compound_1482  compound_1483  compound_1484  compound_1485   \n",
       "sample_0001       0.690831       0.865679       0.254363       1.369263   \n",
       "sample_0002       0.917702       0.371899       0.244953       1.417962   \n",
       "sample_0003       0.736977       0.919946       0.209242        1.02814   \n",
       "sample_0004       0.750908       0.392298       0.211141       1.126669   \n",
       "...                    ...            ...            ...            ...   \n",
       "sample_0177        0.84258          1.243       0.815561       1.041996   \n",
       "sample_0178       0.822898       0.200175       0.596484        1.05049   \n",
       "sample_0179       1.028227       0.774527       3.107715       0.967872   \n",
       "sample_0180       0.941312        1.23461       3.388902       0.958265   \n",
       "Idx                   1482           1483           1484           1485   \n",
       "\n",
       "                      1485  Idx     Class     SampleID  \n",
       "compound_id  compound_1486    1   Healthy  sample_0001  \n",
       "sample_0001       0.898327    2   Healthy  sample_0002  \n",
       "sample_0002       1.023614    3   Healthy  sample_0003  \n",
       "sample_0003       1.718457    4   Healthy  sample_0004  \n",
       "sample_0004       2.942013    5   Healthy  sample_0005  \n",
       "...                    ...  ...       ...          ...  \n",
       "sample_0177       0.743896  178  diabetic  sample_0178  \n",
       "sample_0178       0.731513  179  diabetic  sample_0179  \n",
       "sample_0179       0.618127  180  diabetic  sample_0180  \n",
       "sample_0180       0.744399  181       NaN          NaN  \n",
       "Idx                   1486  182       NaN          NaN  \n",
       "\n",
       "[182 rows x 1489 columns]"
      ]
     },
     "execution_count": 35,
     "metadata": {},
     "output_type": "execute_result"
    }
   ],
   "source": [
    "# Asignar SAMPLEID solo a las filas de muestras (primeras 180 filas)\n",
    "sample_rows = dataTable.iloc[:180].copy()\n",
    "sample_rows = sample_rows.assign(SampleID=list(muestras))\n",
    "\n",
    "# Mantener las filas extra (como 'compound_id' y 'Idx') y concatenar después\n",
    "dataTable = pd.concat([sample_rows, dataTable.iloc[180:]], axis=0)\n",
    "\n",
    "# Comprobamos que se añadió la columna\n",
    "hoja2 = dataTable\n",
    "hoja2"
   ]
  },
  {
   "cell_type": "code",
   "execution_count": 36,
   "id": "c6b17a4d",
   "metadata": {},
   "outputs": [
    {
     "data": {
      "text/html": [
       "<div>\n",
       "<style scoped>\n",
       "    .dataframe tbody tr th:only-of-type {\n",
       "        vertical-align: middle;\n",
       "    }\n",
       "\n",
       "    .dataframe tbody tr th {\n",
       "        vertical-align: top;\n",
       "    }\n",
       "\n",
       "    .dataframe thead th {\n",
       "        text-align: right;\n",
       "    }\n",
       "</style>\n",
       "<table border=\"1\" class=\"dataframe\">\n",
       "  <thead>\n",
       "    <tr style=\"text-align: right;\">\n",
       "      <th></th>\n",
       "      <th>compound_id</th>\n",
       "      <th>PATHWAY_SORTORDER</th>\n",
       "      <th>BIOCHEMICAL</th>\n",
       "      <th>SUPER_PATHWAY</th>\n",
       "      <th>SUB_PATHWAY</th>\n",
       "      <th>COMP_ID</th>\n",
       "      <th>PLATFORM</th>\n",
       "      <th>RI</th>\n",
       "      <th>MASS</th>\n",
       "      <th>PUBCHEM</th>\n",
       "      <th>KEGG</th>\n",
       "      <th>HMDB_ID</th>\n",
       "    </tr>\n",
       "  </thead>\n",
       "  <tbody>\n",
       "    <tr>\n",
       "      <th>0</th>\n",
       "      <td>compound_0001</td>\n",
       "      <td>1</td>\n",
       "      <td>glycine</td>\n",
       "      <td>Amino Acid</td>\n",
       "      <td>Glycine, Serine and Threonine Metabolism</td>\n",
       "      <td>58</td>\n",
       "      <td>LC/MS Pos Early</td>\n",
       "      <td>1375</td>\n",
       "      <td>76.0393</td>\n",
       "      <td>750</td>\n",
       "      <td>C00037</td>\n",
       "      <td>HMDB00123</td>\n",
       "    </tr>\n",
       "    <tr>\n",
       "      <th>1</th>\n",
       "      <td>compound_0002</td>\n",
       "      <td>2</td>\n",
       "      <td>N-acetylglycine</td>\n",
       "      <td>Amino Acid</td>\n",
       "      <td>Glycine, Serine and Threonine Metabolism</td>\n",
       "      <td>27710</td>\n",
       "      <td>LC/MS Neg</td>\n",
       "      <td>731</td>\n",
       "      <td>116.0353</td>\n",
       "      <td>10972</td>\n",
       "      <td>NaN</td>\n",
       "      <td>HMDB00532</td>\n",
       "    </tr>\n",
       "    <tr>\n",
       "      <th>2</th>\n",
       "      <td>compound_0003</td>\n",
       "      <td>4</td>\n",
       "      <td>sarcosine</td>\n",
       "      <td>Amino Acid</td>\n",
       "      <td>Glycine, Serine and Threonine Metabolism</td>\n",
       "      <td>1516</td>\n",
       "      <td>LC/MS Pos Early</td>\n",
       "      <td>1280</td>\n",
       "      <td>90.055</td>\n",
       "      <td>1088</td>\n",
       "      <td>C00213</td>\n",
       "      <td>HMDB00271</td>\n",
       "    </tr>\n",
       "    <tr>\n",
       "      <th>3</th>\n",
       "      <td>compound_0004</td>\n",
       "      <td>5</td>\n",
       "      <td>dimethylglycine</td>\n",
       "      <td>Amino Acid</td>\n",
       "      <td>Glycine, Serine and Threonine Metabolism</td>\n",
       "      <td>5086</td>\n",
       "      <td>LC/MS Pos Early</td>\n",
       "      <td>1104</td>\n",
       "      <td>104.0706</td>\n",
       "      <td>673</td>\n",
       "      <td>C01026</td>\n",
       "      <td>HMDB00092</td>\n",
       "    </tr>\n",
       "    <tr>\n",
       "      <th>4</th>\n",
       "      <td>compound_0005</td>\n",
       "      <td>6</td>\n",
       "      <td>betaine</td>\n",
       "      <td>Amino Acid</td>\n",
       "      <td>Glycine, Serine and Threonine Metabolism</td>\n",
       "      <td>3141</td>\n",
       "      <td>LC/MS Pos Early</td>\n",
       "      <td>1064</td>\n",
       "      <td>118.0863</td>\n",
       "      <td>247</td>\n",
       "      <td>C00719</td>\n",
       "      <td>HMDB00043</td>\n",
       "    </tr>\n",
       "  </tbody>\n",
       "</table>\n",
       "</div>"
      ],
      "text/plain": [
       "     compound_id PATHWAY_SORTORDER      BIOCHEMICAL SUPER_PATHWAY  \\\n",
       "0  compound_0001                 1          glycine    Amino Acid   \n",
       "1  compound_0002                 2  N-acetylglycine    Amino Acid   \n",
       "2  compound_0003                 4        sarcosine    Amino Acid   \n",
       "3  compound_0004                 5  dimethylglycine    Amino Acid   \n",
       "4  compound_0005                 6          betaine    Amino Acid   \n",
       "\n",
       "                                SUB_PATHWAY  COMP_ID         PLATFORM    RI  \\\n",
       "0  Glycine, Serine and Threonine Metabolism       58  LC/MS Pos Early  1375   \n",
       "1  Glycine, Serine and Threonine Metabolism    27710        LC/MS Neg   731   \n",
       "2  Glycine, Serine and Threonine Metabolism     1516  LC/MS Pos Early  1280   \n",
       "3  Glycine, Serine and Threonine Metabolism     5086  LC/MS Pos Early  1104   \n",
       "4  Glycine, Serine and Threonine Metabolism     3141  LC/MS Pos Early  1064   \n",
       "\n",
       "       MASS PUBCHEM    KEGG    HMDB_ID  \n",
       "0   76.0393     750  C00037  HMDB00123  \n",
       "1  116.0353   10972     NaN  HMDB00532  \n",
       "2    90.055    1088  C00213  HMDB00271  \n",
       "3  104.0706     673  C01026  HMDB00092  \n",
       "4  118.0863     247  C00719  HMDB00043  "
      ]
     },
     "execution_count": 36,
     "metadata": {},
     "output_type": "execute_result"
    }
   ],
   "source": [
    "#Dataset clase de compuestos estudio Hoja 3\n",
    "data_dictionary.head()"
   ]
  },
  {
   "cell_type": "code",
   "execution_count": 37,
   "id": "e3a72a67",
   "metadata": {},
   "outputs": [],
   "source": [
    "#Creo un rango y asigno una nueva columna al df \"sample_metadata\", por que la necesito para hacer el pca\n",
    "rn2= range(1,1487)\n",
    "hoja3 = data_dictionary.assign(Idx = list(rn2)) "
   ]
  },
  {
   "cell_type": "code",
   "execution_count": 38,
   "id": "05aa0d84",
   "metadata": {},
   "outputs": [
    {
     "data": {
      "text/html": [
       "<div>\n",
       "<style scoped>\n",
       "    .dataframe tbody tr th:only-of-type {\n",
       "        vertical-align: middle;\n",
       "    }\n",
       "\n",
       "    .dataframe tbody tr th {\n",
       "        vertical-align: top;\n",
       "    }\n",
       "\n",
       "    .dataframe thead th {\n",
       "        text-align: right;\n",
       "    }\n",
       "</style>\n",
       "<table border=\"1\" class=\"dataframe\">\n",
       "  <thead>\n",
       "    <tr style=\"text-align: right;\">\n",
       "      <th></th>\n",
       "      <th>compound_id</th>\n",
       "      <th>PATHWAY_SORTORDER</th>\n",
       "      <th>BIOCHEMICAL</th>\n",
       "      <th>SUPER_PATHWAY</th>\n",
       "      <th>SUB_PATHWAY</th>\n",
       "      <th>COMP_ID</th>\n",
       "      <th>PLATFORM</th>\n",
       "      <th>RI</th>\n",
       "      <th>MASS</th>\n",
       "      <th>PUBCHEM</th>\n",
       "      <th>KEGG</th>\n",
       "      <th>HMDB_ID</th>\n",
       "      <th>Idx</th>\n",
       "    </tr>\n",
       "  </thead>\n",
       "  <tbody>\n",
       "    <tr>\n",
       "      <th>0</th>\n",
       "      <td>compound_0001</td>\n",
       "      <td>1</td>\n",
       "      <td>glycine</td>\n",
       "      <td>Amino Acid</td>\n",
       "      <td>Glycine, Serine and Threonine Metabolism</td>\n",
       "      <td>58</td>\n",
       "      <td>LC/MS Pos Early</td>\n",
       "      <td>1375</td>\n",
       "      <td>76.0393</td>\n",
       "      <td>750</td>\n",
       "      <td>C00037</td>\n",
       "      <td>HMDB00123</td>\n",
       "      <td>1</td>\n",
       "    </tr>\n",
       "    <tr>\n",
       "      <th>1</th>\n",
       "      <td>compound_0002</td>\n",
       "      <td>2</td>\n",
       "      <td>N-acetylglycine</td>\n",
       "      <td>Amino Acid</td>\n",
       "      <td>Glycine, Serine and Threonine Metabolism</td>\n",
       "      <td>27710</td>\n",
       "      <td>LC/MS Neg</td>\n",
       "      <td>731</td>\n",
       "      <td>116.0353</td>\n",
       "      <td>10972</td>\n",
       "      <td>NaN</td>\n",
       "      <td>HMDB00532</td>\n",
       "      <td>2</td>\n",
       "    </tr>\n",
       "    <tr>\n",
       "      <th>2</th>\n",
       "      <td>compound_0003</td>\n",
       "      <td>4</td>\n",
       "      <td>sarcosine</td>\n",
       "      <td>Amino Acid</td>\n",
       "      <td>Glycine, Serine and Threonine Metabolism</td>\n",
       "      <td>1516</td>\n",
       "      <td>LC/MS Pos Early</td>\n",
       "      <td>1280</td>\n",
       "      <td>90.055</td>\n",
       "      <td>1088</td>\n",
       "      <td>C00213</td>\n",
       "      <td>HMDB00271</td>\n",
       "      <td>3</td>\n",
       "    </tr>\n",
       "    <tr>\n",
       "      <th>3</th>\n",
       "      <td>compound_0004</td>\n",
       "      <td>5</td>\n",
       "      <td>dimethylglycine</td>\n",
       "      <td>Amino Acid</td>\n",
       "      <td>Glycine, Serine and Threonine Metabolism</td>\n",
       "      <td>5086</td>\n",
       "      <td>LC/MS Pos Early</td>\n",
       "      <td>1104</td>\n",
       "      <td>104.0706</td>\n",
       "      <td>673</td>\n",
       "      <td>C01026</td>\n",
       "      <td>HMDB00092</td>\n",
       "      <td>4</td>\n",
       "    </tr>\n",
       "    <tr>\n",
       "      <th>4</th>\n",
       "      <td>compound_0005</td>\n",
       "      <td>6</td>\n",
       "      <td>betaine</td>\n",
       "      <td>Amino Acid</td>\n",
       "      <td>Glycine, Serine and Threonine Metabolism</td>\n",
       "      <td>3141</td>\n",
       "      <td>LC/MS Pos Early</td>\n",
       "      <td>1064</td>\n",
       "      <td>118.0863</td>\n",
       "      <td>247</td>\n",
       "      <td>C00719</td>\n",
       "      <td>HMDB00043</td>\n",
       "      <td>5</td>\n",
       "    </tr>\n",
       "    <tr>\n",
       "      <th>...</th>\n",
       "      <td>...</td>\n",
       "      <td>...</td>\n",
       "      <td>...</td>\n",
       "      <td>...</td>\n",
       "      <td>...</td>\n",
       "      <td>...</td>\n",
       "      <td>...</td>\n",
       "      <td>...</td>\n",
       "      <td>...</td>\n",
       "      <td>...</td>\n",
       "      <td>...</td>\n",
       "      <td>...</td>\n",
       "      <td>...</td>\n",
       "    </tr>\n",
       "    <tr>\n",
       "      <th>1481</th>\n",
       "      <td>compound_1482</td>\n",
       "      <td>.</td>\n",
       "      <td>X - 24699</td>\n",
       "      <td>.</td>\n",
       "      <td>.</td>\n",
       "      <td>53127</td>\n",
       "      <td>LC/MS Pos Early</td>\n",
       "      <td>2402.3</td>\n",
       "      <td>241.1544</td>\n",
       "      <td>NaN</td>\n",
       "      <td>NaN</td>\n",
       "      <td>NaN</td>\n",
       "      <td>1482</td>\n",
       "    </tr>\n",
       "    <tr>\n",
       "      <th>1482</th>\n",
       "      <td>compound_1483</td>\n",
       "      <td>.</td>\n",
       "      <td>X - 24728</td>\n",
       "      <td>.</td>\n",
       "      <td>.</td>\n",
       "      <td>53157</td>\n",
       "      <td>LC/MS Pos Early</td>\n",
       "      <td>1431</td>\n",
       "      <td>238.0376</td>\n",
       "      <td>NaN</td>\n",
       "      <td>NaN</td>\n",
       "      <td>NaN</td>\n",
       "      <td>1483</td>\n",
       "    </tr>\n",
       "    <tr>\n",
       "      <th>1483</th>\n",
       "      <td>compound_1484</td>\n",
       "      <td>.</td>\n",
       "      <td>X - 24738</td>\n",
       "      <td>.</td>\n",
       "      <td>.</td>\n",
       "      <td>53214</td>\n",
       "      <td>LC/MS Pos Early</td>\n",
       "      <td>1051</td>\n",
       "      <td>160.0967</td>\n",
       "      <td>NaN</td>\n",
       "      <td>NaN</td>\n",
       "      <td>NaN</td>\n",
       "      <td>1484</td>\n",
       "    </tr>\n",
       "    <tr>\n",
       "      <th>1484</th>\n",
       "      <td>compound_1485</td>\n",
       "      <td>.</td>\n",
       "      <td>X - 24748</td>\n",
       "      <td>.</td>\n",
       "      <td>.</td>\n",
       "      <td>53267</td>\n",
       "      <td>LC/MS Neg</td>\n",
       "      <td>4596</td>\n",
       "      <td>321.1469</td>\n",
       "      <td>NaN</td>\n",
       "      <td>NaN</td>\n",
       "      <td>NaN</td>\n",
       "      <td>1485</td>\n",
       "    </tr>\n",
       "    <tr>\n",
       "      <th>1485</th>\n",
       "      <td>compound_1486</td>\n",
       "      <td>.</td>\n",
       "      <td>X - 24766</td>\n",
       "      <td>.</td>\n",
       "      <td>.</td>\n",
       "      <td>54704</td>\n",
       "      <td>LC/MS Pos Early</td>\n",
       "      <td>2068.7</td>\n",
       "      <td>115.0866</td>\n",
       "      <td>NaN</td>\n",
       "      <td>NaN</td>\n",
       "      <td>NaN</td>\n",
       "      <td>1486</td>\n",
       "    </tr>\n",
       "  </tbody>\n",
       "</table>\n",
       "<p>1486 rows × 13 columns</p>\n",
       "</div>"
      ],
      "text/plain": [
       "        compound_id PATHWAY_SORTORDER      BIOCHEMICAL SUPER_PATHWAY  \\\n",
       "0     compound_0001                 1          glycine    Amino Acid   \n",
       "1     compound_0002                 2  N-acetylglycine    Amino Acid   \n",
       "2     compound_0003                 4        sarcosine    Amino Acid   \n",
       "3     compound_0004                 5  dimethylglycine    Amino Acid   \n",
       "4     compound_0005                 6          betaine    Amino Acid   \n",
       "...             ...               ...              ...           ...   \n",
       "1481  compound_1482                 .        X - 24699             .   \n",
       "1482  compound_1483                 .        X - 24728             .   \n",
       "1483  compound_1484                 .        X - 24738             .   \n",
       "1484  compound_1485                 .        X - 24748             .   \n",
       "1485  compound_1486                 .        X - 24766             .   \n",
       "\n",
       "                                   SUB_PATHWAY  COMP_ID         PLATFORM  \\\n",
       "0     Glycine, Serine and Threonine Metabolism       58  LC/MS Pos Early   \n",
       "1     Glycine, Serine and Threonine Metabolism    27710        LC/MS Neg   \n",
       "2     Glycine, Serine and Threonine Metabolism     1516  LC/MS Pos Early   \n",
       "3     Glycine, Serine and Threonine Metabolism     5086  LC/MS Pos Early   \n",
       "4     Glycine, Serine and Threonine Metabolism     3141  LC/MS Pos Early   \n",
       "...                                        ...      ...              ...   \n",
       "1481                                         .    53127  LC/MS Pos Early   \n",
       "1482                                         .    53157  LC/MS Pos Early   \n",
       "1483                                         .    53214  LC/MS Pos Early   \n",
       "1484                                         .    53267        LC/MS Neg   \n",
       "1485                                         .    54704  LC/MS Pos Early   \n",
       "\n",
       "          RI      MASS PUBCHEM    KEGG    HMDB_ID   Idx  \n",
       "0       1375   76.0393     750  C00037  HMDB00123     1  \n",
       "1        731  116.0353   10972     NaN  HMDB00532     2  \n",
       "2       1280    90.055    1088  C00213  HMDB00271     3  \n",
       "3       1104  104.0706     673  C01026  HMDB00092     4  \n",
       "4       1064  118.0863     247  C00719  HMDB00043     5  \n",
       "...      ...       ...     ...     ...        ...   ...  \n",
       "1481  2402.3  241.1544     NaN     NaN        NaN  1482  \n",
       "1482    1431  238.0376     NaN     NaN        NaN  1483  \n",
       "1483    1051  160.0967     NaN     NaN        NaN  1484  \n",
       "1484    4596  321.1469     NaN     NaN        NaN  1485  \n",
       "1485  2068.7  115.0866     NaN     NaN        NaN  1486  \n",
       "\n",
       "[1486 rows x 13 columns]"
      ]
     },
     "execution_count": 38,
     "metadata": {},
     "output_type": "execute_result"
    }
   ],
   "source": [
    "#Compruebo que se haya asignado la columna\n",
    "hoja3"
   ]
  },
  {
   "cell_type": "code",
   "execution_count": 39,
   "id": "bc42dadb",
   "metadata": {},
   "outputs": [
    {
     "data": {
      "text/html": [
       "<div>\n",
       "<style scoped>\n",
       "    .dataframe tbody tr th:only-of-type {\n",
       "        vertical-align: middle;\n",
       "    }\n",
       "\n",
       "    .dataframe tbody tr th {\n",
       "        vertical-align: top;\n",
       "    }\n",
       "\n",
       "    .dataframe thead th {\n",
       "        text-align: right;\n",
       "    }\n",
       "</style>\n",
       "<table border=\"1\" class=\"dataframe\">\n",
       "  <thead>\n",
       "    <tr style=\"text-align: right;\">\n",
       "      <th></th>\n",
       "      <th>Name</th>\n",
       "      <th>PATHWAY_SORTORDER</th>\n",
       "      <th>Label</th>\n",
       "      <th>SUPER_PATHWAY</th>\n",
       "      <th>SUB_PATHWAY</th>\n",
       "      <th>COMP_ID</th>\n",
       "      <th>PLATFORM</th>\n",
       "      <th>RI</th>\n",
       "      <th>MASS</th>\n",
       "      <th>PUBCHEM</th>\n",
       "      <th>KEGG</th>\n",
       "      <th>HMDB_ID</th>\n",
       "      <th>Idx</th>\n",
       "    </tr>\n",
       "  </thead>\n",
       "  <tbody>\n",
       "    <tr>\n",
       "      <th>0</th>\n",
       "      <td>compound_0001</td>\n",
       "      <td>1</td>\n",
       "      <td>glycine</td>\n",
       "      <td>Amino Acid</td>\n",
       "      <td>Glycine, Serine and Threonine Metabolism</td>\n",
       "      <td>58</td>\n",
       "      <td>LC/MS Pos Early</td>\n",
       "      <td>1375</td>\n",
       "      <td>76.0393</td>\n",
       "      <td>750</td>\n",
       "      <td>C00037</td>\n",
       "      <td>HMDB00123</td>\n",
       "      <td>1</td>\n",
       "    </tr>\n",
       "    <tr>\n",
       "      <th>1</th>\n",
       "      <td>compound_0002</td>\n",
       "      <td>2</td>\n",
       "      <td>N-acetylglycine</td>\n",
       "      <td>Amino Acid</td>\n",
       "      <td>Glycine, Serine and Threonine Metabolism</td>\n",
       "      <td>27710</td>\n",
       "      <td>LC/MS Neg</td>\n",
       "      <td>731</td>\n",
       "      <td>116.0353</td>\n",
       "      <td>10972</td>\n",
       "      <td>NaN</td>\n",
       "      <td>HMDB00532</td>\n",
       "      <td>2</td>\n",
       "    </tr>\n",
       "    <tr>\n",
       "      <th>2</th>\n",
       "      <td>compound_0003</td>\n",
       "      <td>4</td>\n",
       "      <td>sarcosine</td>\n",
       "      <td>Amino Acid</td>\n",
       "      <td>Glycine, Serine and Threonine Metabolism</td>\n",
       "      <td>1516</td>\n",
       "      <td>LC/MS Pos Early</td>\n",
       "      <td>1280</td>\n",
       "      <td>90.055</td>\n",
       "      <td>1088</td>\n",
       "      <td>C00213</td>\n",
       "      <td>HMDB00271</td>\n",
       "      <td>3</td>\n",
       "    </tr>\n",
       "    <tr>\n",
       "      <th>3</th>\n",
       "      <td>compound_0004</td>\n",
       "      <td>5</td>\n",
       "      <td>dimethylglycine</td>\n",
       "      <td>Amino Acid</td>\n",
       "      <td>Glycine, Serine and Threonine Metabolism</td>\n",
       "      <td>5086</td>\n",
       "      <td>LC/MS Pos Early</td>\n",
       "      <td>1104</td>\n",
       "      <td>104.0706</td>\n",
       "      <td>673</td>\n",
       "      <td>C01026</td>\n",
       "      <td>HMDB00092</td>\n",
       "      <td>4</td>\n",
       "    </tr>\n",
       "    <tr>\n",
       "      <th>4</th>\n",
       "      <td>compound_0005</td>\n",
       "      <td>6</td>\n",
       "      <td>betaine</td>\n",
       "      <td>Amino Acid</td>\n",
       "      <td>Glycine, Serine and Threonine Metabolism</td>\n",
       "      <td>3141</td>\n",
       "      <td>LC/MS Pos Early</td>\n",
       "      <td>1064</td>\n",
       "      <td>118.0863</td>\n",
       "      <td>247</td>\n",
       "      <td>C00719</td>\n",
       "      <td>HMDB00043</td>\n",
       "      <td>5</td>\n",
       "    </tr>\n",
       "    <tr>\n",
       "      <th>...</th>\n",
       "      <td>...</td>\n",
       "      <td>...</td>\n",
       "      <td>...</td>\n",
       "      <td>...</td>\n",
       "      <td>...</td>\n",
       "      <td>...</td>\n",
       "      <td>...</td>\n",
       "      <td>...</td>\n",
       "      <td>...</td>\n",
       "      <td>...</td>\n",
       "      <td>...</td>\n",
       "      <td>...</td>\n",
       "      <td>...</td>\n",
       "    </tr>\n",
       "    <tr>\n",
       "      <th>1481</th>\n",
       "      <td>compound_1482</td>\n",
       "      <td>.</td>\n",
       "      <td>X - 24699</td>\n",
       "      <td>.</td>\n",
       "      <td>.</td>\n",
       "      <td>53127</td>\n",
       "      <td>LC/MS Pos Early</td>\n",
       "      <td>2402.3</td>\n",
       "      <td>241.1544</td>\n",
       "      <td>NaN</td>\n",
       "      <td>NaN</td>\n",
       "      <td>NaN</td>\n",
       "      <td>1482</td>\n",
       "    </tr>\n",
       "    <tr>\n",
       "      <th>1482</th>\n",
       "      <td>compound_1483</td>\n",
       "      <td>.</td>\n",
       "      <td>X - 24728</td>\n",
       "      <td>.</td>\n",
       "      <td>.</td>\n",
       "      <td>53157</td>\n",
       "      <td>LC/MS Pos Early</td>\n",
       "      <td>1431</td>\n",
       "      <td>238.0376</td>\n",
       "      <td>NaN</td>\n",
       "      <td>NaN</td>\n",
       "      <td>NaN</td>\n",
       "      <td>1483</td>\n",
       "    </tr>\n",
       "    <tr>\n",
       "      <th>1483</th>\n",
       "      <td>compound_1484</td>\n",
       "      <td>.</td>\n",
       "      <td>X - 24738</td>\n",
       "      <td>.</td>\n",
       "      <td>.</td>\n",
       "      <td>53214</td>\n",
       "      <td>LC/MS Pos Early</td>\n",
       "      <td>1051</td>\n",
       "      <td>160.0967</td>\n",
       "      <td>NaN</td>\n",
       "      <td>NaN</td>\n",
       "      <td>NaN</td>\n",
       "      <td>1484</td>\n",
       "    </tr>\n",
       "    <tr>\n",
       "      <th>1484</th>\n",
       "      <td>compound_1485</td>\n",
       "      <td>.</td>\n",
       "      <td>X - 24748</td>\n",
       "      <td>.</td>\n",
       "      <td>.</td>\n",
       "      <td>53267</td>\n",
       "      <td>LC/MS Neg</td>\n",
       "      <td>4596</td>\n",
       "      <td>321.1469</td>\n",
       "      <td>NaN</td>\n",
       "      <td>NaN</td>\n",
       "      <td>NaN</td>\n",
       "      <td>1485</td>\n",
       "    </tr>\n",
       "    <tr>\n",
       "      <th>1485</th>\n",
       "      <td>compound_1486</td>\n",
       "      <td>.</td>\n",
       "      <td>X - 24766</td>\n",
       "      <td>.</td>\n",
       "      <td>.</td>\n",
       "      <td>54704</td>\n",
       "      <td>LC/MS Pos Early</td>\n",
       "      <td>2068.7</td>\n",
       "      <td>115.0866</td>\n",
       "      <td>NaN</td>\n",
       "      <td>NaN</td>\n",
       "      <td>NaN</td>\n",
       "      <td>1486</td>\n",
       "    </tr>\n",
       "  </tbody>\n",
       "</table>\n",
       "<p>1486 rows × 13 columns</p>\n",
       "</div>"
      ],
      "text/plain": [
       "               Name PATHWAY_SORTORDER            Label SUPER_PATHWAY  \\\n",
       "0     compound_0001                 1          glycine    Amino Acid   \n",
       "1     compound_0002                 2  N-acetylglycine    Amino Acid   \n",
       "2     compound_0003                 4        sarcosine    Amino Acid   \n",
       "3     compound_0004                 5  dimethylglycine    Amino Acid   \n",
       "4     compound_0005                 6          betaine    Amino Acid   \n",
       "...             ...               ...              ...           ...   \n",
       "1481  compound_1482                 .        X - 24699             .   \n",
       "1482  compound_1483                 .        X - 24728             .   \n",
       "1483  compound_1484                 .        X - 24738             .   \n",
       "1484  compound_1485                 .        X - 24748             .   \n",
       "1485  compound_1486                 .        X - 24766             .   \n",
       "\n",
       "                                   SUB_PATHWAY  COMP_ID         PLATFORM  \\\n",
       "0     Glycine, Serine and Threonine Metabolism       58  LC/MS Pos Early   \n",
       "1     Glycine, Serine and Threonine Metabolism    27710        LC/MS Neg   \n",
       "2     Glycine, Serine and Threonine Metabolism     1516  LC/MS Pos Early   \n",
       "3     Glycine, Serine and Threonine Metabolism     5086  LC/MS Pos Early   \n",
       "4     Glycine, Serine and Threonine Metabolism     3141  LC/MS Pos Early   \n",
       "...                                        ...      ...              ...   \n",
       "1481                                         .    53127  LC/MS Pos Early   \n",
       "1482                                         .    53157  LC/MS Pos Early   \n",
       "1483                                         .    53214  LC/MS Pos Early   \n",
       "1484                                         .    53267        LC/MS Neg   \n",
       "1485                                         .    54704  LC/MS Pos Early   \n",
       "\n",
       "          RI      MASS PUBCHEM    KEGG    HMDB_ID   Idx  \n",
       "0       1375   76.0393     750  C00037  HMDB00123     1  \n",
       "1        731  116.0353   10972     NaN  HMDB00532     2  \n",
       "2       1280    90.055    1088  C00213  HMDB00271     3  \n",
       "3       1104  104.0706     673  C01026  HMDB00092     4  \n",
       "4       1064  118.0863     247  C00719  HMDB00043     5  \n",
       "...      ...       ...     ...     ...        ...   ...  \n",
       "1481  2402.3  241.1544     NaN     NaN        NaN  1482  \n",
       "1482    1431  238.0376     NaN     NaN        NaN  1483  \n",
       "1483    1051  160.0967     NaN     NaN        NaN  1484  \n",
       "1484    4596  321.1469     NaN     NaN        NaN  1485  \n",
       "1485  2068.7  115.0866     NaN     NaN        NaN  1486  \n",
       "\n",
       "[1486 rows x 13 columns]"
      ]
     },
     "execution_count": 39,
     "metadata": {},
     "output_type": "execute_result"
    }
   ],
   "source": [
    "#Renombrar columna compound_id\n",
    "hoja3.rename(columns={'compound_id':'Name'}, inplace= True)\n",
    "hoja3.rename(columns={'BIOCHEMICAL':'Label'}, inplace= True)\n",
    "hoja3"
   ]
  },
  {
   "cell_type": "code",
   "execution_count": 40,
   "id": "1e3fae24",
   "metadata": {},
   "outputs": [
    {
     "data": {
      "text/html": [
       "<div>\n",
       "<style scoped>\n",
       "    .dataframe tbody tr th:only-of-type {\n",
       "        vertical-align: middle;\n",
       "    }\n",
       "\n",
       "    .dataframe tbody tr th {\n",
       "        vertical-align: top;\n",
       "    }\n",
       "\n",
       "    .dataframe thead th {\n",
       "        text-align: right;\n",
       "    }\n",
       "</style>\n",
       "<table border=\"1\" class=\"dataframe\">\n",
       "  <thead>\n",
       "    <tr style=\"text-align: right;\">\n",
       "      <th></th>\n",
       "      <th>0</th>\n",
       "      <th>1</th>\n",
       "      <th>2</th>\n",
       "      <th>3</th>\n",
       "      <th>4</th>\n",
       "      <th>5</th>\n",
       "      <th>6</th>\n",
       "      <th>7</th>\n",
       "      <th>8</th>\n",
       "      <th>9</th>\n",
       "      <th>...</th>\n",
       "      <th>1479</th>\n",
       "      <th>1480</th>\n",
       "      <th>1481</th>\n",
       "      <th>1482</th>\n",
       "      <th>1483</th>\n",
       "      <th>1484</th>\n",
       "      <th>1485</th>\n",
       "      <th>Idx</th>\n",
       "      <th>Class</th>\n",
       "      <th>SampleID</th>\n",
       "    </tr>\n",
       "  </thead>\n",
       "  <tbody>\n",
       "    <tr>\n",
       "      <th>compound_id</th>\n",
       "      <td>compound_0001</td>\n",
       "      <td>compound_0002</td>\n",
       "      <td>compound_0003</td>\n",
       "      <td>compound_0004</td>\n",
       "      <td>compound_0005</td>\n",
       "      <td>compound_0006</td>\n",
       "      <td>compound_0007</td>\n",
       "      <td>compound_0008</td>\n",
       "      <td>compound_0009</td>\n",
       "      <td>compound_0010</td>\n",
       "      <td>...</td>\n",
       "      <td>compound_1480</td>\n",
       "      <td>compound_1481</td>\n",
       "      <td>compound_1482</td>\n",
       "      <td>compound_1483</td>\n",
       "      <td>compound_1484</td>\n",
       "      <td>compound_1485</td>\n",
       "      <td>compound_1486</td>\n",
       "      <td>1</td>\n",
       "      <td>Healthy</td>\n",
       "      <td>sample_0001</td>\n",
       "    </tr>\n",
       "    <tr>\n",
       "      <th>sample_0001</th>\n",
       "      <td>0.79362</td>\n",
       "      <td>0.743363</td>\n",
       "      <td>0.360069</td>\n",
       "      <td>0.557168</td>\n",
       "      <td>0.886952</td>\n",
       "      <td>0.698678</td>\n",
       "      <td>0.811203</td>\n",
       "      <td>0.54667</td>\n",
       "      <td>0.77026</td>\n",
       "      <td>0.781398</td>\n",
       "      <td>...</td>\n",
       "      <td>0.957021</td>\n",
       "      <td>1.384068</td>\n",
       "      <td>0.690831</td>\n",
       "      <td>0.865679</td>\n",
       "      <td>0.254363</td>\n",
       "      <td>1.369263</td>\n",
       "      <td>0.898327</td>\n",
       "      <td>2</td>\n",
       "      <td>Healthy</td>\n",
       "      <td>sample_0002</td>\n",
       "    </tr>\n",
       "    <tr>\n",
       "      <th>sample_0002</th>\n",
       "      <td>0.713684</td>\n",
       "      <td>0.762673</td>\n",
       "      <td>0.716626</td>\n",
       "      <td>0.73939</td>\n",
       "      <td>0.921852</td>\n",
       "      <td>0.814239</td>\n",
       "      <td>0.858662</td>\n",
       "      <td>0.633751</td>\n",
       "      <td>0.740652</td>\n",
       "      <td>0.328962</td>\n",
       "      <td>...</td>\n",
       "      <td>1.111478</td>\n",
       "      <td>1.115342</td>\n",
       "      <td>0.917702</td>\n",
       "      <td>0.371899</td>\n",
       "      <td>0.244953</td>\n",
       "      <td>1.417962</td>\n",
       "      <td>1.023614</td>\n",
       "      <td>3</td>\n",
       "      <td>Healthy</td>\n",
       "      <td>sample_0003</td>\n",
       "    </tr>\n",
       "    <tr>\n",
       "      <th>sample_0003</th>\n",
       "      <td>1.073165</td>\n",
       "      <td>1.184788</td>\n",
       "      <td>0.448938</td>\n",
       "      <td>0.609914</td>\n",
       "      <td>0.861769</td>\n",
       "      <td>1.064785</td>\n",
       "      <td>1.129699</td>\n",
       "      <td>1.094749</td>\n",
       "      <td>0.751253</td>\n",
       "      <td>0.942595</td>\n",
       "      <td>...</td>\n",
       "      <td>1.064177</td>\n",
       "      <td>1.036884</td>\n",
       "      <td>0.736977</td>\n",
       "      <td>0.919946</td>\n",
       "      <td>0.209242</td>\n",
       "      <td>1.02814</td>\n",
       "      <td>1.718457</td>\n",
       "      <td>4</td>\n",
       "      <td>Healthy</td>\n",
       "      <td>sample_0004</td>\n",
       "    </tr>\n",
       "    <tr>\n",
       "      <th>sample_0004</th>\n",
       "      <td>1.074977</td>\n",
       "      <td>0.959059</td>\n",
       "      <td>0.695333</td>\n",
       "      <td>0.699223</td>\n",
       "      <td>0.893694</td>\n",
       "      <td>1.294579</td>\n",
       "      <td>1.062554</td>\n",
       "      <td>1.362446</td>\n",
       "      <td>0.739146</td>\n",
       "      <td>0.793178</td>\n",
       "      <td>...</td>\n",
       "      <td>1.075152</td>\n",
       "      <td>0.744478</td>\n",
       "      <td>0.750908</td>\n",
       "      <td>0.392298</td>\n",
       "      <td>0.211141</td>\n",
       "      <td>1.126669</td>\n",
       "      <td>2.942013</td>\n",
       "      <td>5</td>\n",
       "      <td>Healthy</td>\n",
       "      <td>sample_0005</td>\n",
       "    </tr>\n",
       "    <tr>\n",
       "      <th>...</th>\n",
       "      <td>...</td>\n",
       "      <td>...</td>\n",
       "      <td>...</td>\n",
       "      <td>...</td>\n",
       "      <td>...</td>\n",
       "      <td>...</td>\n",
       "      <td>...</td>\n",
       "      <td>...</td>\n",
       "      <td>...</td>\n",
       "      <td>...</td>\n",
       "      <td>...</td>\n",
       "      <td>...</td>\n",
       "      <td>...</td>\n",
       "      <td>...</td>\n",
       "      <td>...</td>\n",
       "      <td>...</td>\n",
       "      <td>...</td>\n",
       "      <td>...</td>\n",
       "      <td>...</td>\n",
       "      <td>...</td>\n",
       "      <td>...</td>\n",
       "    </tr>\n",
       "    <tr>\n",
       "      <th>sample_0177</th>\n",
       "      <td>0.628734</td>\n",
       "      <td>0.701192</td>\n",
       "      <td>1.245951</td>\n",
       "      <td>1.079366</td>\n",
       "      <td>1.014223</td>\n",
       "      <td>0.824301</td>\n",
       "      <td>0.900189</td>\n",
       "      <td>0.609887</td>\n",
       "      <td>0.897941</td>\n",
       "      <td>0.958437</td>\n",
       "      <td>...</td>\n",
       "      <td>1.02124</td>\n",
       "      <td>0.95138</td>\n",
       "      <td>0.84258</td>\n",
       "      <td>1.243</td>\n",
       "      <td>0.815561</td>\n",
       "      <td>1.041996</td>\n",
       "      <td>0.743896</td>\n",
       "      <td>178</td>\n",
       "      <td>diabetic</td>\n",
       "      <td>sample_0178</td>\n",
       "    </tr>\n",
       "    <tr>\n",
       "      <th>sample_0178</th>\n",
       "      <td>0.55539</td>\n",
       "      <td>0.576311</td>\n",
       "      <td>2.362415</td>\n",
       "      <td>1.029833</td>\n",
       "      <td>0.869503</td>\n",
       "      <td>0.737526</td>\n",
       "      <td>0.859506</td>\n",
       "      <td>0.659059</td>\n",
       "      <td>0.791604</td>\n",
       "      <td>0.686486</td>\n",
       "      <td>...</td>\n",
       "      <td>1.052294</td>\n",
       "      <td>0.610196</td>\n",
       "      <td>0.822898</td>\n",
       "      <td>0.200175</td>\n",
       "      <td>0.596484</td>\n",
       "      <td>1.05049</td>\n",
       "      <td>0.731513</td>\n",
       "      <td>179</td>\n",
       "      <td>diabetic</td>\n",
       "      <td>sample_0179</td>\n",
       "    </tr>\n",
       "    <tr>\n",
       "      <th>sample_0179</th>\n",
       "      <td>0.590216</td>\n",
       "      <td>0.830575</td>\n",
       "      <td>1.660026</td>\n",
       "      <td>0.937246</td>\n",
       "      <td>1.008572</td>\n",
       "      <td>0.682781</td>\n",
       "      <td>0.885793</td>\n",
       "      <td>0.688223</td>\n",
       "      <td>0.945739</td>\n",
       "      <td>0.626076</td>\n",
       "      <td>...</td>\n",
       "      <td>1.225981</td>\n",
       "      <td>0.688868</td>\n",
       "      <td>1.028227</td>\n",
       "      <td>0.774527</td>\n",
       "      <td>3.107715</td>\n",
       "      <td>0.967872</td>\n",
       "      <td>0.618127</td>\n",
       "      <td>180</td>\n",
       "      <td>diabetic</td>\n",
       "      <td>sample_0180</td>\n",
       "    </tr>\n",
       "    <tr>\n",
       "      <th>sample_0180</th>\n",
       "      <td>0.601484</td>\n",
       "      <td>0.649295</td>\n",
       "      <td>2.050633</td>\n",
       "      <td>1.468545</td>\n",
       "      <td>1.196692</td>\n",
       "      <td>0.838273</td>\n",
       "      <td>0.929139</td>\n",
       "      <td>0.732988</td>\n",
       "      <td>0.941791</td>\n",
       "      <td>0.693703</td>\n",
       "      <td>...</td>\n",
       "      <td>1.264813</td>\n",
       "      <td>0.810332</td>\n",
       "      <td>0.941312</td>\n",
       "      <td>1.23461</td>\n",
       "      <td>3.388902</td>\n",
       "      <td>0.958265</td>\n",
       "      <td>0.744399</td>\n",
       "      <td>181</td>\n",
       "      <td>NaN</td>\n",
       "      <td>NaN</td>\n",
       "    </tr>\n",
       "    <tr>\n",
       "      <th>Idx</th>\n",
       "      <td>1</td>\n",
       "      <td>2</td>\n",
       "      <td>3</td>\n",
       "      <td>4</td>\n",
       "      <td>5</td>\n",
       "      <td>6</td>\n",
       "      <td>7</td>\n",
       "      <td>8</td>\n",
       "      <td>9</td>\n",
       "      <td>10</td>\n",
       "      <td>...</td>\n",
       "      <td>1480</td>\n",
       "      <td>1481</td>\n",
       "      <td>1482</td>\n",
       "      <td>1483</td>\n",
       "      <td>1484</td>\n",
       "      <td>1485</td>\n",
       "      <td>1486</td>\n",
       "      <td>182</td>\n",
       "      <td>NaN</td>\n",
       "      <td>NaN</td>\n",
       "    </tr>\n",
       "  </tbody>\n",
       "</table>\n",
       "<p>182 rows × 1489 columns</p>\n",
       "</div>"
      ],
      "text/plain": [
       "                         0              1              2              3  \\\n",
       "compound_id  compound_0001  compound_0002  compound_0003  compound_0004   \n",
       "sample_0001        0.79362       0.743363       0.360069       0.557168   \n",
       "sample_0002       0.713684       0.762673       0.716626        0.73939   \n",
       "sample_0003       1.073165       1.184788       0.448938       0.609914   \n",
       "sample_0004       1.074977       0.959059       0.695333       0.699223   \n",
       "...                    ...            ...            ...            ...   \n",
       "sample_0177       0.628734       0.701192       1.245951       1.079366   \n",
       "sample_0178        0.55539       0.576311       2.362415       1.029833   \n",
       "sample_0179       0.590216       0.830575       1.660026       0.937246   \n",
       "sample_0180       0.601484       0.649295       2.050633       1.468545   \n",
       "Idx                      1              2              3              4   \n",
       "\n",
       "                         4              5              6              7  \\\n",
       "compound_id  compound_0005  compound_0006  compound_0007  compound_0008   \n",
       "sample_0001       0.886952       0.698678       0.811203        0.54667   \n",
       "sample_0002       0.921852       0.814239       0.858662       0.633751   \n",
       "sample_0003       0.861769       1.064785       1.129699       1.094749   \n",
       "sample_0004       0.893694       1.294579       1.062554       1.362446   \n",
       "...                    ...            ...            ...            ...   \n",
       "sample_0177       1.014223       0.824301       0.900189       0.609887   \n",
       "sample_0178       0.869503       0.737526       0.859506       0.659059   \n",
       "sample_0179       1.008572       0.682781       0.885793       0.688223   \n",
       "sample_0180       1.196692       0.838273       0.929139       0.732988   \n",
       "Idx                      5              6              7              8   \n",
       "\n",
       "                         8              9  ...           1479           1480  \\\n",
       "compound_id  compound_0009  compound_0010  ...  compound_1480  compound_1481   \n",
       "sample_0001        0.77026       0.781398  ...       0.957021       1.384068   \n",
       "sample_0002       0.740652       0.328962  ...       1.111478       1.115342   \n",
       "sample_0003       0.751253       0.942595  ...       1.064177       1.036884   \n",
       "sample_0004       0.739146       0.793178  ...       1.075152       0.744478   \n",
       "...                    ...            ...  ...            ...            ...   \n",
       "sample_0177       0.897941       0.958437  ...        1.02124        0.95138   \n",
       "sample_0178       0.791604       0.686486  ...       1.052294       0.610196   \n",
       "sample_0179       0.945739       0.626076  ...       1.225981       0.688868   \n",
       "sample_0180       0.941791       0.693703  ...       1.264813       0.810332   \n",
       "Idx                      9             10  ...           1480           1481   \n",
       "\n",
       "                      1481           1482           1483           1484  \\\n",
       "compound_id  compound_1482  compound_1483  compound_1484  compound_1485   \n",
       "sample_0001       0.690831       0.865679       0.254363       1.369263   \n",
       "sample_0002       0.917702       0.371899       0.244953       1.417962   \n",
       "sample_0003       0.736977       0.919946       0.209242        1.02814   \n",
       "sample_0004       0.750908       0.392298       0.211141       1.126669   \n",
       "...                    ...            ...            ...            ...   \n",
       "sample_0177        0.84258          1.243       0.815561       1.041996   \n",
       "sample_0178       0.822898       0.200175       0.596484        1.05049   \n",
       "sample_0179       1.028227       0.774527       3.107715       0.967872   \n",
       "sample_0180       0.941312        1.23461       3.388902       0.958265   \n",
       "Idx                   1482           1483           1484           1485   \n",
       "\n",
       "                      1485  Idx     Class     SampleID  \n",
       "compound_id  compound_1486    1   Healthy  sample_0001  \n",
       "sample_0001       0.898327    2   Healthy  sample_0002  \n",
       "sample_0002       1.023614    3   Healthy  sample_0003  \n",
       "sample_0003       1.718457    4   Healthy  sample_0004  \n",
       "sample_0004       2.942013    5   Healthy  sample_0005  \n",
       "...                    ...  ...       ...          ...  \n",
       "sample_0177       0.743896  178  diabetic  sample_0178  \n",
       "sample_0178       0.731513  179  diabetic  sample_0179  \n",
       "sample_0179       0.618127  180  diabetic  sample_0180  \n",
       "sample_0180       0.744399  181       NaN          NaN  \n",
       "Idx                   1486  182       NaN          NaN  \n",
       "\n",
       "[182 rows x 1489 columns]"
      ]
     },
     "execution_count": 40,
     "metadata": {},
     "output_type": "execute_result"
    }
   ],
   "source": [
    "hoja2"
   ]
  },
  {
   "cell_type": "code",
   "execution_count": 41,
   "id": "87308bc8",
   "metadata": {},
   "outputs": [],
   "source": [
    "# --- PRE: compatibilidad Bokeh ↔ IPython (evita TypeError en publish_display_data) ---\n",
    "import bokeh.io.notebook as bk_nb\n",
    "from IPython.display import publish_display_data as _ipy_publish\n",
    "def _shim_publish_display_data(data, metadata=None, **kwargs):\n",
    "    return _ipy_publish(data, metadata=metadata)\n",
    "bk_nb.publish_display_data = _shim_publish_display_data\n"
   ]
  },
  {
   "cell_type": "code",
   "execution_count": 42,
   "id": "e33f800c",
   "metadata": {},
   "outputs": [
    {
     "name": "stdout",
     "output_type": "stream",
     "text": [
      "Emparejadas (hoja2 vs hoja3['Name']): 1486 / 1486\n"
     ]
    }
   ],
   "source": [
    "# --- 1) Arreglar hoja2 preservando Idx, Class, SampleID y nombres de compuestos ---\n",
    "import pandas as pd, numpy as np, re\n",
    "\n",
    "h2 = hoja2.copy()\n",
    "\n",
    "# Ordenar dejando meta al final (sin perderlas)\n",
    "meta_cols = [c for c in [\"Idx\", \"Class\", \"SampleID\"] if c in h2.columns]\n",
    "other_cols = [c for c in h2.columns if c not in meta_cols]\n",
    "h2 = h2[other_cols + meta_cols]\n",
    "\n",
    "# Columnas numeradas (0,1,2,...) → sus nombres reales están en la primera fila\n",
    "num_like_cols = [c for c in h2.columns if isinstance(c, (int, np.integer)) or (isinstance(c, str) and c.isdigit())]\n",
    "if num_like_cols:\n",
    "    header_row = h2.loc[h2.index[0], num_like_cols].astype(str)\n",
    "    # ¿Parecen 'compound_####' o 'compound_id'?\n",
    "    mask_names = header_row.str.fullmatch(r\"(compound_\\d+|compound_id)\", case=False)\n",
    "    if mask_names.mean() > 0.8:\n",
    "        rename_map = dict(zip(num_like_cols, header_row))\n",
    "        h2 = h2.rename(columns=rename_map)\n",
    "        # Si esa fila era texto de cabecera, elimínala\n",
    "        is_header = pd.to_numeric(h2.loc[h2.index[0], list(rename_map.values())], errors=\"coerce\").isna().any()\n",
    "        if is_header:\n",
    "            h2 = h2.iloc[1:].reset_index(drop=True)\n",
    "\n",
    "# Renombrar compound_id → SampleID si procede\n",
    "if \"compound_id\" in h2.columns and \"SampleID\" not in h2.columns:\n",
    "    h2 = h2.rename(columns={\"compound_id\": \"SampleID\"})\n",
    "\n",
    "# Limpiar filas sin SampleID\n",
    "if \"SampleID\" in h2.columns:\n",
    "    h2 = h2[h2[\"SampleID\"].notna() & (h2[\"SampleID\"].astype(str).str.lower() != \"nan\")].reset_index(drop=True)\n",
    "\n",
    "# Detectar columnas de compuestos: empiezan por 'compound_'\n",
    "meta_cols = [c for c in [\"Idx\", \"Class\", \"SampleID\"] if c in h2.columns]\n",
    "feature_cols = [c for c in h2.columns if isinstance(c, str) and c.startswith(\"compound_\") and c not in meta_cols]\n",
    "\n",
    "# Convertir solo features a numérico\n",
    "h2[feature_cols] = h2[feature_cols].apply(pd.to_numeric, errors=\"coerce\")\n",
    "\n",
    "# --- 2) Alinear con hoja3['Name'] ---\n",
    "peaklist_raw = hoja3[\"Name\"].dropna().astype(str).tolist()\n",
    "presentes = [c for c in peaklist_raw if c in h2.columns]\n",
    "if not presentes:\n",
    "    # Normalización suave si no hay matches directos\n",
    "    def _norm(s): return str(s).strip().lower().replace(\" \", \"_\").replace(\"-\", \"_\")\n",
    "    col_map = {_norm(c): c for c in feature_cols}\n",
    "    presentes = [col_map[_norm(p)] for p in peaklist_raw if _norm(p) in col_map]\n",
    "\n",
    "print(f\"Emparejadas (hoja2 vs hoja3['Name']): {len(presentes)} / {len(peaklist_raw)}\")\n",
    "hoja2 = h2  # sobrescribe limpia\n"
   ]
  },
  {
   "cell_type": "code",
   "execution_count": 43,
   "id": "1d4eff0d",
   "metadata": {},
   "outputs": [
    {
     "name": "stdout",
     "output_type": "stream",
     "text": [
      "Xknn: 179 rows & 1486 columns\n"
     ]
    },
    {
     "name": "stderr",
     "output_type": "stream",
     "text": [
      "BokehDeprecationWarning: 'legend' keyword is deprecated, use explicit 'legend_label', 'legend_field', or 'legend_group' keywords instead\n",
      "BokehDeprecationWarning: 'legend' keyword is deprecated, use explicit 'legend_label', 'legend_field', or 'legend_group' keywords instead\n"
     ]
    },
    {
     "data": {
      "text/html": [
       "<div class=\"bk-root\">\n",
       "        <a href=\"https://bokeh.org\" target=\"_blank\" class=\"bk-logo bk-logo-small bk-logo-notebook\"></a>\n",
       "        <span id=\"1184\">Loading BokehJS ...</span>\n",
       "    </div>\n"
      ]
     },
     "metadata": {},
     "output_type": "display_data"
    },
    {
     "data": {
      "application/javascript": "(function(root) {\n  function now() {\n    return new Date();\n  }\n\n  const force = true;\n\n  if (typeof root._bokeh_onload_callbacks === \"undefined\" || force === true) {\n    root._bokeh_onload_callbacks = [];\n    root._bokeh_is_loading = undefined;\n  }\n\nconst JS_MIME_TYPE = 'application/javascript';\n  const HTML_MIME_TYPE = 'text/html';\n  const EXEC_MIME_TYPE = 'application/vnd.bokehjs_exec.v0+json';\n  const CLASS_NAME = 'output_bokeh rendered_html';\n\n  /**\n   * Render data to the DOM node\n   */\n  function render(props, node) {\n    const script = document.createElement(\"script\");\n    node.appendChild(script);\n  }\n\n  /**\n   * Handle when an output is cleared or removed\n   */\n  function handleClearOutput(event, handle) {\n    const cell = handle.cell;\n\n    const id = cell.output_area._bokeh_element_id;\n    const server_id = cell.output_area._bokeh_server_id;\n    // Clean up Bokeh references\n    if (id != null && id in Bokeh.index) {\n      Bokeh.index[id].model.document.clear();\n      delete Bokeh.index[id];\n    }\n\n    if (server_id !== undefined) {\n      // Clean up Bokeh references\n      const cmd_clean = \"from bokeh.io.state import curstate; print(curstate().uuid_to_server['\" + server_id + \"'].get_sessions()[0].document.roots[0]._id)\";\n      cell.notebook.kernel.execute(cmd_clean, {\n        iopub: {\n          output: function(msg) {\n            const id = msg.content.text.trim();\n            if (id in Bokeh.index) {\n              Bokeh.index[id].model.document.clear();\n              delete Bokeh.index[id];\n            }\n          }\n        }\n      });\n      // Destroy server and session\n      const cmd_destroy = \"import bokeh.io.notebook as ion; ion.destroy_server('\" + server_id + \"')\";\n      cell.notebook.kernel.execute(cmd_destroy);\n    }\n  }\n\n  /**\n   * Handle when a new output is added\n   */\n  function handleAddOutput(event, handle) {\n    const output_area = handle.output_area;\n    const output = handle.output;\n\n    // limit handleAddOutput to display_data with EXEC_MIME_TYPE content only\n    if ((output.output_type != \"display_data\") || (!Object.prototype.hasOwnProperty.call(output.data, EXEC_MIME_TYPE))) {\n      return\n    }\n\n    const toinsert = output_area.element.find(\".\" + CLASS_NAME.split(' ')[0]);\n\n    if (output.metadata[EXEC_MIME_TYPE][\"id\"] !== undefined) {\n      toinsert[toinsert.length - 1].firstChild.textContent = output.data[JS_MIME_TYPE];\n      // store reference to embed id on output_area\n      output_area._bokeh_element_id = output.metadata[EXEC_MIME_TYPE][\"id\"];\n    }\n    if (output.metadata[EXEC_MIME_TYPE][\"server_id\"] !== undefined) {\n      const bk_div = document.createElement(\"div\");\n      bk_div.innerHTML = output.data[HTML_MIME_TYPE];\n      const script_attrs = bk_div.children[0].attributes;\n      for (let i = 0; i < script_attrs.length; i++) {\n        toinsert[toinsert.length - 1].firstChild.setAttribute(script_attrs[i].name, script_attrs[i].value);\n        toinsert[toinsert.length - 1].firstChild.textContent = bk_div.children[0].textContent\n      }\n      // store reference to server id on output_area\n      output_area._bokeh_server_id = output.metadata[EXEC_MIME_TYPE][\"server_id\"];\n    }\n  }\n\n  function register_renderer(events, OutputArea) {\n\n    function append_mime(data, metadata, element) {\n      // create a DOM node to render to\n      const toinsert = this.create_output_subarea(\n        metadata,\n        CLASS_NAME,\n        EXEC_MIME_TYPE\n      );\n      this.keyboard_manager.register_events(toinsert);\n      // Render to node\n      const props = {data: data, metadata: metadata[EXEC_MIME_TYPE]};\n      render(props, toinsert[toinsert.length - 1]);\n      element.append(toinsert);\n      return toinsert\n    }\n\n    /* Handle when an output is cleared or removed */\n    events.on('clear_output.CodeCell', handleClearOutput);\n    events.on('delete.Cell', handleClearOutput);\n\n    /* Handle when a new output is added */\n    events.on('output_added.OutputArea', handleAddOutput);\n\n    /**\n     * Register the mime type and append_mime function with output_area\n     */\n    OutputArea.prototype.register_mime_type(EXEC_MIME_TYPE, append_mime, {\n      /* Is output safe? */\n      safe: true,\n      /* Index of renderer in `output_area.display_order` */\n      index: 0\n    });\n  }\n\n  // register the mime type if in Jupyter Notebook environment and previously unregistered\n  if (root.Jupyter !== undefined) {\n    const events = require('base/js/events');\n    const OutputArea = require('notebook/js/outputarea').OutputArea;\n\n    if (OutputArea.prototype.mime_types().indexOf(EXEC_MIME_TYPE) == -1) {\n      register_renderer(events, OutputArea);\n    }\n  }\n  if (typeof (root._bokeh_timeout) === \"undefined\" || force === true) {\n    root._bokeh_timeout = Date.now() + 5000;\n    root._bokeh_failed_load = false;\n  }\n\n  const NB_LOAD_WARNING = {'data': {'text/html':\n     \"<div style='background-color: #fdd'>\\n\"+\n     \"<p>\\n\"+\n     \"BokehJS does not appear to have successfully loaded. If loading BokehJS from CDN, this \\n\"+\n     \"may be due to a slow or bad network connection. Possible fixes:\\n\"+\n     \"</p>\\n\"+\n     \"<ul>\\n\"+\n     \"<li>re-rerun `output_notebook()` to attempt to load from CDN again, or</li>\\n\"+\n     \"<li>use INLINE resources instead, as so:</li>\\n\"+\n     \"</ul>\\n\"+\n     \"<code>\\n\"+\n     \"from bokeh.resources import INLINE\\n\"+\n     \"output_notebook(resources=INLINE)\\n\"+\n     \"</code>\\n\"+\n     \"</div>\"}};\n\n  function display_loaded() {\n    const el = document.getElementById(\"1184\");\n    if (el != null) {\n      el.textContent = \"BokehJS is loading...\";\n    }\n    if (root.Bokeh !== undefined) {\n      if (el != null) {\n        el.textContent = \"BokehJS \" + root.Bokeh.version + \" successfully loaded.\";\n      }\n    } else if (Date.now() < root._bokeh_timeout) {\n      setTimeout(display_loaded, 100)\n    }\n  }\n\n  function run_callbacks() {\n    try {\n      root._bokeh_onload_callbacks.forEach(function(callback) {\n        if (callback != null)\n          callback();\n      });\n    } finally {\n      delete root._bokeh_onload_callbacks\n    }\n    console.debug(\"Bokeh: all callbacks have finished\");\n  }\n\n  function load_libs(css_urls, js_urls, callback) {\n    if (css_urls == null) css_urls = [];\n    if (js_urls == null) js_urls = [];\n\n    root._bokeh_onload_callbacks.push(callback);\n    if (root._bokeh_is_loading > 0) {\n      console.debug(\"Bokeh: BokehJS is being loaded, scheduling callback at\", now());\n      return null;\n    }\n    if (js_urls == null || js_urls.length === 0) {\n      run_callbacks();\n      return null;\n    }\n    console.debug(\"Bokeh: BokehJS not loaded, scheduling load and callback at\", now());\n    root._bokeh_is_loading = css_urls.length + js_urls.length;\n\n    function on_load() {\n      root._bokeh_is_loading--;\n      if (root._bokeh_is_loading === 0) {\n        console.debug(\"Bokeh: all BokehJS libraries/stylesheets loaded\");\n        run_callbacks()\n      }\n    }\n\n    function on_error(url) {\n      console.error(\"failed to load \" + url);\n    }\n\n    for (let i = 0; i < css_urls.length; i++) {\n      const url = css_urls[i];\n      const element = document.createElement(\"link\");\n      element.onload = on_load;\n      element.onerror = on_error.bind(null, url);\n      element.rel = \"stylesheet\";\n      element.type = \"text/css\";\n      element.href = url;\n      console.debug(\"Bokeh: injecting link tag for BokehJS stylesheet: \", url);\n      document.body.appendChild(element);\n    }\n\n    for (let i = 0; i < js_urls.length; i++) {\n      const url = js_urls[i];\n      const element = document.createElement('script');\n      element.onload = on_load;\n      element.onerror = on_error.bind(null, url);\n      element.async = false;\n      element.src = url;\n      console.debug(\"Bokeh: injecting script tag for BokehJS library: \", url);\n      document.head.appendChild(element);\n    }\n  };\n\n  function inject_raw_css(css) {\n    const element = document.createElement(\"style\");\n    element.appendChild(document.createTextNode(css));\n    document.body.appendChild(element);\n  }\n\n  const js_urls = [\"https://cdn.bokeh.org/bokeh/release/bokeh-2.4.3.min.js\", \"https://cdn.bokeh.org/bokeh/release/bokeh-gl-2.4.3.min.js\", \"https://cdn.bokeh.org/bokeh/release/bokeh-widgets-2.4.3.min.js\", \"https://cdn.bokeh.org/bokeh/release/bokeh-tables-2.4.3.min.js\", \"https://cdn.bokeh.org/bokeh/release/bokeh-mathjax-2.4.3.min.js\"];\n  const css_urls = [];\n\n  const inline_js = [    function(Bokeh) {\n      Bokeh.set_log_level(\"info\");\n    },\nfunction(Bokeh) {\n    }\n  ];\n\n  function run_inline_js() {\n    if (root.Bokeh !== undefined || force === true) {\n          for (let i = 0; i < inline_js.length; i++) {\n      inline_js[i].call(root, root.Bokeh);\n    }\nif (force === true) {\n        display_loaded();\n      }} else if (Date.now() < root._bokeh_timeout) {\n      setTimeout(run_inline_js, 100);\n    } else if (!root._bokeh_failed_load) {\n      console.log(\"Bokeh: BokehJS failed to load within specified timeout.\");\n      root._bokeh_failed_load = true;\n    } else if (force !== true) {\n      const cell = $(document.getElementById(\"1184\")).parents('.cell').data().cell;\n      cell.output_area.append_execute_result(NB_LOAD_WARNING)\n    }\n  }\n\n  if (root._bokeh_is_loading === 0) {\n    console.debug(\"Bokeh: BokehJS loaded, going straight to plotting\");\n    run_inline_js();\n  } else {\n    load_libs(css_urls, js_urls, function() {\n      console.debug(\"Bokeh: BokehJS plotting callback run at\", now());\n      run_inline_js();\n    });\n  }\n}(window));",
      "application/vnd.bokehjs_load.v0+json": ""
     },
     "metadata": {},
     "output_type": "display_data"
    },
    {
     "data": {
      "text/html": [
       "\n",
       "  <div class=\"bk-root\" id=\"eaa1bd9d-b5c8-4944-834f-f1f470dce0a0\" data-root-id=\"1234\"></div>\n"
      ]
     },
     "metadata": {},
     "output_type": "display_data"
    },
    {
     "data": {
      "application/javascript": "(function(root) {\n  function embed_document(root) {\n  const docs_json = {\"d50c6d38-9107-4acd-a459-b3b9a01c0695\":{\"defs\":[],\"roots\":{\"references\":[{\"attributes\":{\"children\":[{\"id\":\"1233\"},{\"id\":\"1231\"}]},\"id\":\"1234\",\"type\":\"Column\"},{\"attributes\":{\"coordinates\":null,\"data_source\":{\"id\":\"1160\"},\"glyph\":{\"id\":\"1161\"},\"group\":null,\"hover_glyph\":null,\"muted_glyph\":{\"id\":\"1163\"},\"nonselection_glyph\":{\"id\":\"1162\"},\"view\":{\"id\":\"1165\"}},\"id\":\"1164\",\"type\":\"GlyphRenderer\"},{\"attributes\":{\"source\":{\"id\":\"1112\"}},\"id\":\"1117\",\"type\":\"CDSView\"},{\"attributes\":{},\"id\":\"1214\",\"type\":\"UnionRenderers\"},{\"attributes\":{\"line_alpha\":0.2,\"line_color\":\"red\",\"line_width\":2,\"x\":{\"field\":\"x\"},\"y\":{\"field\":\"y\"}},\"id\":\"1115\",\"type\":\"Line\"},{\"attributes\":{},\"id\":\"1044\",\"type\":\"BasicTickFormatter\"},{\"attributes\":{\"source\":{\"id\":\"1160\"}},\"id\":\"1165\",\"type\":\"CDSView\"},{\"attributes\":{},\"id\":\"1079\",\"type\":\"SaveTool\"},{\"attributes\":{\"line_alpha\":0.2,\"line_color\":\"red\",\"x\":{\"field\":\"x\"},\"y\":{\"field\":\"y\"}},\"id\":\"1121\",\"type\":\"Line\"},{\"attributes\":{},\"id\":\"1060\",\"type\":\"DataRange1d\"},{\"attributes\":{\"coordinates\":null,\"group\":null,\"text\":\"PCA Loadings Plot (PC1 vs. PC2)\",\"text_font_size\":\"15pt\"},\"id\":\"1058\",\"type\":\"Title\"},{\"attributes\":{},\"id\":\"1048\",\"type\":\"AllLabels\"},{\"attributes\":{\"data\":{\"x\":{\"__ndarray__\":\"iegDzWcANEC5COgOugk0QL8ZfhTW6jNAdSt9tdujM0CbrU4cFDUzQP24onrxnjJAl1e5kw7iMUAhI9ocLv8wQHZaPelz7i9Aiiy9Y4SWLUC6qmsW+PgqQMSfjDCBGChAVqT62xb4JEA6NZcu8pohQFw6ja8VCRxA+NnIGidxFEDQBn/v2OsIQICFaut/fvA/gBxBHJkk8r+QoUdp8vYKwNhJguMfrhbA2D/+jM8LIMB8iI2KIdckwJmPd8QUtCnAj5Jt6KWdLsAt0VRRYscxwEhwG2ssQTTA/yyg7qO5NsCoYP7lPC45wB5NZVhvnDvAw6UJ5rkBPsARAqUu0i1AwIlhLiPhU0HAQr5zsdpxQsDubXYPmIZDwCxKRvj7kETA3X8R0vOPRcDUEjXJeIJGwKVLKt+QZ0fAnsg57E8+SMBljeqS2AVJwHIhMiRdvUnAxoR6cyBkSsAGbKOZdvlKwP6/NabFfEvABLcSPobtS8Da9PomREtMwE7dXb+elUzAmpj1YUnMTMDSG8m0C+9MwL7DQuPB/UzAXKEfw1z4TMAkZRHk4d5MwOzLAoprsUzALnYEkihwTMByEv5BXBtMwPCmVQNes0vALnbUCJk4S8DYYCbgi6tKwB6tZe/HDErAZK053/BcScAAxiLyu5xIwDq5oUnvzEfAotT6GWHuRsDNh2fN9gFGwHgBmhekCEXAAJmG+mkDRMBs+XW9VfNCwLAlcdd/2UHA3Hglzgq3QMDqTdUURBo/wKvnPkfxuTzAVIw2RpBPOsBWzvWBnt03wE0wKzehZjXAsVLa1SLtMsBMw99isHMwwMQrl62t+SvAOlSR+UAWJ8DK7YyoJEIiwOZnYeClBBvAAC3fNmK3EcCAeXP6KUwBwABUMrx59KI/CHSUaAxHAUAE4mspAsoQQEyR1Qf2kBhALBldfl3wH0BMRqR8T3AjQGaf7LtJrSZAUt/d9carKUC+mWENsWgsQA4J7H014S5Az8EiImSJMECtJlM/k30xQJf5t2AsTDJAC4kOj1r0MkDDTShtcHUzQAMAoOrozjNAiegDzWcANEA=\",\"dtype\":\"float64\",\"order\":\"little\",\"shape\":[100]},\"y\":{\"__ndarray__\":\"W45XPZ+xGsBoVeVVgTMUwMfjQ3VWYQvAnmtEhky//L/wFYZfpvXGv2B4bH5txPY/hFmVdtYHCEBaKTyrPToSQMyU0FirTRhAWNJ95fA3HkCsKcyvevkhQDSSsEVovCRAB9vufOhhJ0CFPpnzQOcpQCHhOW3YSSxA2TeQgDmHLkDaRjCQik4wQHRsXH6iRDFA6Gkb3eYkMkC2S4N+cO4yQCpNv6JvoDNArOM2ziw6NEBMFbGGCbs0QJQisfaAIjVAOB5kdihwNUCCTJL5r6M1QKL1ImLivDVABpzdtqW7NUB+JTA++581QKRd3nz/aTVAoiycGOoZNUC0z7CeDbA0QEA13i7XLDRAKjTkCs6QM0AMkxMLk9wyQDCYgPjfEDJAOgyAzYYuMUA8GTTdcDYwQDNLEMY7Uy5AizAn9kUSLECth+YIU6wpQI/Zf93bIydAQs6753x7JEAUE+x+87UhQO5t7BU2rB1ACnTBJNS9F0CCAddY3qYRQIitZmk32wZAiCljWdph9D8g/3BbniDVvyczZnwiLf+/5ke1hTKZDMByJ28sR88UwBI0Qk+cTBvAneLaEPTeIMASajpBQw4kwHekfUjzMCfA55ciuchDKsDFjlV9mEMtwExUg42lFjDA53fk8e9+McCH95gGONkywJB9RNcYJDTA9HNYUD1eNcByyKqeYYY2wEgtRH1UmzfAmr4NcPibOMC2qxnqRIc5wLyJV15HXDrAhDObOSQaO8AWe/TEF8A7wCZbbu92TTzAerFl/q/BPMAwvMEjSxw9wACAc/nqXD3AvMm84UyDPcBmjNtLSY89wJzS0tzTgD3AijgnfPtXPcCozYFE6hQ9wEY0SVjltzzAirxdmkxBPMDk8EFLmrE7wEp3FYtiCTvA8i7kwFJJOsDg7+bnMHI5wCgubsPahDjAZOBI+kSCN8BITpMaems2wFy+8YaZQTXASkBSTtYFNMAn82bvdbkywFwPHwnPXTHARCTx8o/oL8DyNy3YqvwswDmcMrTx+inAXU2G+X3mJsCO6gppfMIjwPzrMswpkiDAYo5XPZ+xGsA=\",\"dtype\":\"float64\",\"order\":\"little\",\"shape\":[100]}},\"selected\":{\"id\":\"1201\"},\"selection_policy\":{\"id\":\"1200\"}},\"id\":\"1130\",\"type\":\"ColumnDataSource\"},{\"attributes\":{},\"id\":\"1015\",\"type\":\"BasicTicker\"},{\"attributes\":{},\"id\":\"1203\",\"type\":\"Selection\"},{\"attributes\":{\"fill_alpha\":0.1,\"fill_color\":\"blue\",\"hatch_alpha\":0.1,\"hatch_color\":\"blue\",\"line_alpha\":0.1,\"line_color\":\"blue\",\"x\":{\"field\":\"x\"},\"y\":{\"field\":\"y\"}},\"id\":\"1156\",\"type\":\"Patch\"},{\"attributes\":{\"below\":[{\"id\":\"1014\"}],\"center\":[{\"id\":\"1017\"},{\"id\":\"1021\"},{\"id\":\"1052\"}],\"height\":430,\"left\":[{\"id\":\"1018\"}],\"min_border_bottom\":20,\"min_border_left\":20,\"min_border_right\":20,\"min_border_top\":20,\"renderers\":[{\"id\":\"1040\"},{\"id\":\"1116\"},{\"id\":\"1122\"},{\"id\":\"1128\"},{\"id\":\"1134\"},{\"id\":\"1140\"},{\"id\":\"1146\"},{\"id\":\"1152\"},{\"id\":\"1158\"},{\"id\":\"1164\"},{\"id\":\"1170\"},{\"id\":\"1176\"},{\"id\":\"1182\"}],\"title\":{\"id\":\"1004\"},\"toolbar\":{\"id\":\"1029\"},\"toolbar_location\":null,\"width\":490,\"x_range\":{\"id\":\"1006\"},\"x_scale\":{\"id\":\"1010\"},\"y_range\":{\"id\":\"1008\"},\"y_scale\":{\"id\":\"1012\"}},\"id\":\"1003\",\"subtype\":\"Figure\",\"type\":\"Plot\"},{\"attributes\":{\"toolbars\":[{\"id\":\"1029\"},{\"id\":\"1083\"}],\"tools\":[{\"id\":\"1022\"},{\"id\":\"1023\"},{\"id\":\"1024\"},{\"id\":\"1025\"},{\"id\":\"1026\"},{\"id\":\"1027\"},{\"id\":\"1054\"},{\"id\":\"1076\"},{\"id\":\"1077\"},{\"id\":\"1078\"},{\"id\":\"1079\"},{\"id\":\"1080\"},{\"id\":\"1081\"},{\"id\":\"1108\"}]},\"id\":\"1232\",\"type\":\"ProxyToolbar\"},{\"attributes\":{\"source\":{\"id\":\"1154\"}},\"id\":\"1159\",\"type\":\"CDSView\"},{\"attributes\":{\"axis\":{\"id\":\"1072\"},\"coordinates\":null,\"dimension\":1,\"group\":null,\"ticker\":null},\"id\":\"1075\",\"type\":\"Grid\"},{\"attributes\":{\"fill_alpha\":0.1,\"fill_color\":\"green\",\"hatch_alpha\":0.1,\"hatch_color\":\"green\",\"line_alpha\":0.1,\"line_color\":\"green\",\"x\":{\"field\":\"x\"},\"y\":{\"field\":\"y\"}},\"id\":\"1180\",\"type\":\"Patch\"},{\"attributes\":{},\"id\":\"1026\",\"type\":\"ResetTool\"},{\"attributes\":{\"source\":{\"id\":\"1118\"}},\"id\":\"1123\",\"type\":\"CDSView\"},{\"attributes\":{\"source\":{\"id\":\"1002\"}},\"id\":\"1041\",\"type\":\"CDSView\"},{\"attributes\":{\"line_alpha\":0.1,\"line_color\":\"red\",\"line_width\":2,\"x\":{\"field\":\"x\"},\"y\":{\"field\":\"y\"}},\"id\":\"1114\",\"type\":\"Line\"},{\"attributes\":{\"line_alpha\":0.1,\"line_color\":\"blue\",\"line_width\":2,\"x\":{\"field\":\"x\"},\"y\":{\"field\":\"y\"}},\"id\":\"1138\",\"type\":\"Line\"},{\"attributes\":{\"source\":{\"id\":\"1178\"}},\"id\":\"1183\",\"type\":\"CDSView\"},{\"attributes\":{\"line_alpha\":0.1,\"line_color\":\"green\",\"x\":{\"field\":\"x\"},\"y\":{\"field\":\"y\"}},\"id\":\"1168\",\"type\":\"Line\"},{\"attributes\":{},\"id\":\"1099\",\"type\":\"AllLabels\"},{\"attributes\":{\"line_alpha\":0.8,\"line_color\":\"red\",\"line_width\":2,\"x\":{\"field\":\"x\"},\"y\":{\"field\":\"y\"}},\"id\":\"1113\",\"type\":\"Line\"},{\"attributes\":{\"label\":{\"field\":\"group\"},\"renderers\":[{\"id\":\"1094\"}]},\"id\":\"1107\",\"type\":\"LegendItem\"},{\"attributes\":{\"fill_alpha\":0.2,\"fill_color\":\"green\",\"hatch_alpha\":0.2,\"hatch_color\":\"green\",\"line_alpha\":0.2,\"line_color\":\"green\",\"x\":{\"field\":\"x\"},\"y\":{\"field\":\"y\"}},\"id\":\"1181\",\"type\":\"Patch\"},{\"attributes\":{\"coordinates\":null,\"data_source\":{\"id\":\"1112\"},\"glyph\":{\"id\":\"1113\"},\"group\":null,\"hover_glyph\":null,\"muted_glyph\":{\"id\":\"1115\"},\"nonselection_glyph\":{\"id\":\"1114\"},\"view\":{\"id\":\"1117\"}},\"id\":\"1116\",\"type\":\"GlyphRenderer\"},{\"attributes\":{\"coordinates\":null,\"group\":null,\"line_alpha\":0.15,\"line_width\":3,\"location\":0},\"id\":\"1110\",\"type\":\"Span\"},{\"attributes\":{\"fill_alpha\":0.1,\"fill_color\":\"red\",\"hatch_alpha\":0.1,\"hatch_color\":\"red\",\"line_alpha\":0.1,\"line_color\":\"red\",\"x\":{\"field\":\"x\"},\"y\":{\"field\":\"y\"}},\"id\":\"1132\",\"type\":\"Patch\"},{\"attributes\":{},\"id\":\"1102\",\"type\":\"AllLabels\"},{\"attributes\":{\"fill_alpha\":0.2,\"fill_color\":\"red\",\"hatch_alpha\":0.2,\"hatch_color\":\"red\",\"line_alpha\":0.2,\"line_color\":\"red\",\"x\":{\"field\":\"x\"},\"y\":{\"field\":\"y\"}},\"id\":\"1133\",\"type\":\"Patch\"},{\"attributes\":{},\"id\":\"1069\",\"type\":\"BasicTicker\"},{\"attributes\":{},\"id\":\"1199\",\"type\":\"Selection\"},{\"attributes\":{},\"id\":\"1080\",\"type\":\"ResetTool\"},{\"attributes\":{},\"id\":\"1081\",\"type\":\"HelpTool\"},{\"attributes\":{},\"id\":\"1098\",\"type\":\"BasicTickFormatter\"},{\"attributes\":{\"label\":{\"field\":\"group\"},\"renderers\":[{\"id\":\"1040\"}]},\"id\":\"1053\",\"type\":\"LegendItem\"},{\"attributes\":{},\"id\":\"1022\",\"type\":\"PanTool\"},{\"attributes\":{\"fill_alpha\":0.2,\"fill_color\":\"blue\",\"hatch_alpha\":0.2,\"hatch_color\":\"blue\",\"line_alpha\":0.2,\"line_color\":\"blue\",\"x\":{\"field\":\"x\"},\"y\":{\"field\":\"y\"}},\"id\":\"1157\",\"type\":\"Patch\"},{\"attributes\":{},\"id\":\"1211\",\"type\":\"Selection\"},{\"attributes\":{\"axis_label\":\"PC 2 (6.5%)\",\"axis_label_text_font_size\":\"13pt\",\"coordinates\":null,\"formatter\":{\"id\":\"1044\"},\"group\":null,\"major_label_policy\":{\"id\":\"1045\"},\"ticker\":{\"id\":\"1019\"}},\"id\":\"1018\",\"type\":\"LinearAxis\"},{\"attributes\":{\"coordinates\":null,\"group\":null,\"items\":[{\"id\":\"1053\"}]},\"id\":\"1052\",\"type\":\"Legend\"},{\"attributes\":{\"source\":{\"id\":\"1136\"}},\"id\":\"1141\",\"type\":\"CDSView\"},{\"attributes\":{\"fill_alpha\":{\"value\":0.6},\"fill_color\":{\"field\":\"col\"},\"hatch_alpha\":{\"value\":0.6},\"hatch_color\":{\"field\":\"col\"},\"line_alpha\":{\"value\":0.6},\"line_color\":{\"field\":\"col\"},\"size\":{\"value\":5},\"x\":{\"field\":\"x\"},\"y\":{\"field\":\"y\"}},\"id\":\"1037\",\"type\":\"Circle\"},{\"attributes\":{\"data\":{\"x\":{\"__ndarray__\":\"EP4rKSjsR0ADR+urYBJIQA88jkYiJEhAANxfq1ohSEAJJuq3DApIQObzAXJQ3kdAwZgD71KeR0CVy1klVkpHQN7Efqiw4kZA+Ka9T81nRkD1LxDIKtpFQCo8ihFbOkVAU7TZ6AKJREDNCnYd2cZDQGJULtWl9EJAaD3YvUETQkAdiPQtlSNBQDhSLzWXJkBAHAZmO5k6PkDA0ai+jRE8QMBEWgtG1DlAZtSNFBGFN0BYTw1IUCY1QLZ5Ihp1ujJAHrfbgP5DMEBdusjC7IorQAVGL+TdgiZAwIEBKAB1IUDWpQ6aEs0YQLxcfr++cg1AhJ0XXCfl8j8wb5EKfKP0v1SAJhHWxQ3AhrNub9NqGMA5k42NYtsgwN9drV+VXiXAeXBbYFu6KcDTu8FlNuotwIY3xsXq9DDAlCLu0ozaMsDaBnzADKQ0wM4crvSSTzbARkYAvGbbN8A423QP8EU5wMYgLzm5jTrAAtqtVXCxO8Cu1xiw6K88wKh9OvgbiD3AWLblUCs5PsDKmLE1YMI+wDbxHTctIz/ArLpejC5bP8BQQDh6Kmo/wELegY4RUD/A5AkSsP4MP8DoNwMDN6E+wAQ2bqEpDT7AQHDjKG9RPcBeMBkdyW48wE4CcSAhZjvASt4hA4g4OsDAWv+pNOc4wLTJ/82CczfANJzLlfHeNcCmiMcKIis0wEiWMGvVWTLAkjEFW+tsMMB1TTHrv8wswA1XnYOTkCjAMcQ1Fq8pJMDeQfGFODkfwFpKGgsY3BXAGIoPfUeLCMCwVA7Y7f3jvzQMe/Ibrv0/Hljw3/BxEUDnYy5rKokbQDaMI2Nm0yJAFh7jPjXgJ0CHv0chzeUsQJDyVGmA7zBAOlms8FdjM0BApj/15cs1QHJqNuiuJjhAOtJvbEVxOkBAjAbXTKk8QDK3np57zD5Alal9205sQEAdgzZry2VBQP9sYVGyUUJAaGu/YRAvQ0Bt+JVrAf1DQHs+6CSxukRAix1MBVxnRUB8Z3kPUAJGQOWNw4jtikZABaDAnacAR0Cj3nPzBGNHQP9BZiSgsUdAEP4rKSjsR0A=\",\"dtype\":\"float64\",\"order\":\"little\",\"shape\":[100]},\"y\":{\"__ndarray__\":\"2JWbLx1fLMColTyOq2oqwJR9vVDGVyjAaB1OuZAoJsDKLOA5S98jwEIA8SFRfiHA8XBDYSwQHsAM/T0bSP4YwL2u5lYvzBPALoDZV3r+DMCeEX++0DkCwDhTZgnuVe2/8B+ls1ga3T8cNT9mZ0r9Pyq3x5DlpAlAfxtiGoVLEkAHsUmOLLgXQIwwsq/REh1A6lhPzfcqIUC0/vbVDL4jQBJAZYwAQCZAWDurMz2uKEBqPHhhQQYrQL4JSZOiRS1Akqj6qw9qL0BYr5erqbgwQHLaByirrDFAZGGHxBCQMkAJfzwZ8GEzQH+B285wITRA9hapfc3NNEAyofd4VGY1QMzMTYZo6jVAfqB5f4FZNkCk8ujeLLM2QAaZtjUO9zZAWKLyit8kN0BXYcOjcTw3QG3vFDSsPTdAHvek940oN0Dg9FCzLP02QNGVpR61uzZA+FXGtWpkNkAm4txzp/c1QPryV3bbdTVADj5ZiYzfNEBGn8mdVTU0QDamoSnmdzNAgSsLcwGoMkCEXxbHfcYxQJjR0ZxD1DBACk5SS5mkL0DmCgOYRYMtQDoHOkK+RitAyl6/dlHxKEAepUEMZ4UmQJIJhAh+BSRAKHmmDSp0IUA9hl1kIagdQF9ZH43NTxhAbef7FdvkEkBaus1hv9kKQLxwbf75tf8/iJT7HxJj4z/4IKa6Q4bov46FzXCyCAHABh7x1WLRC8D013MrQjgTwKChqAGSbRjAOYd3hUKDHcBCMsvzCjohwPR6XSx6nSPAGtLMpHjpJcCOhyc/qBsowKBw/HfFMSrAQOi6u6kpLMA+nD6eTQEuwBYdPvLKti/AuyA6Xy+kMMDE4D+HNVoxwEjrzE68/DHAjwC2LByLMsDyGbtdwgQzwOir0HsxaTPApiFj/wG4M8D7Ug+q4vAzwNPxYdqYEzTAPptHyAAgNMDwPu+pDRY0wNTX+MDJ9TPACN/iT1a/M8ASX8F363IzwPb+Yf7XEDPAaqkY/YCZMsCAhIh4YQ0ywLim1OEJbTHAxEG7gR+5MMCsfGmct+QvwIrUjFYXMy7A2pWbLx1fLMA=\",\"dtype\":\"float64\",\"order\":\"little\",\"shape\":[100]}},\"selected\":{\"id\":\"1213\"},\"selection_policy\":{\"id\":\"1212\"}},\"id\":\"1166\",\"type\":\"ColumnDataSource\"},{\"attributes\":{\"tools\":[{\"id\":\"1076\"},{\"id\":\"1077\"},{\"id\":\"1078\"},{\"id\":\"1079\"},{\"id\":\"1080\"},{\"id\":\"1081\"},{\"id\":\"1108\"}]},\"id\":\"1083\",\"type\":\"Toolbar\"},{\"attributes\":{\"line_alpha\":0.1,\"line_color\":\"red\",\"x\":{\"field\":\"x\"},\"y\":{\"field\":\"y\"}},\"id\":\"1120\",\"type\":\"Line\"},{\"attributes\":{\"line_alpha\":0.2,\"line_color\":\"blue\",\"line_width\":2,\"x\":{\"field\":\"x\"},\"y\":{\"field\":\"y\"}},\"id\":\"1139\",\"type\":\"Line\"},{\"attributes\":{},\"id\":\"1025\",\"type\":\"SaveTool\"},{\"attributes\":{\"coordinates\":null,\"data_source\":{\"id\":\"1130\"},\"glyph\":{\"id\":\"1131\"},\"group\":null,\"hover_glyph\":null,\"muted_glyph\":{\"id\":\"1133\"},\"nonselection_glyph\":{\"id\":\"1132\"},\"view\":{\"id\":\"1135\"}},\"id\":\"1134\",\"type\":\"GlyphRenderer\"},{\"attributes\":{},\"id\":\"1213\",\"type\":\"Selection\"},{\"attributes\":{},\"id\":\"1023\",\"type\":\"WheelZoomTool\"},{\"attributes\":{\"line_alpha\":0.4,\"line_color\":\"green\",\"x\":{\"field\":\"x\"},\"y\":{\"field\":\"y\"}},\"id\":\"1167\",\"type\":\"Line\"},{\"attributes\":{\"coordinates\":null,\"data_source\":{\"id\":\"1178\"},\"glyph\":{\"id\":\"1179\"},\"group\":null,\"hover_glyph\":null,\"muted_glyph\":{\"id\":\"1181\"},\"nonselection_glyph\":{\"id\":\"1180\"},\"view\":{\"id\":\"1183\"}},\"id\":\"1182\",\"type\":\"GlyphRenderer\"},{\"attributes\":{},\"id\":\"1047\",\"type\":\"BasicTickFormatter\"},{\"attributes\":{\"line_alpha\":0.4,\"line_color\":\"red\",\"x\":{\"field\":\"x\"},\"y\":{\"field\":\"y\"}},\"id\":\"1119\",\"type\":\"Line\"},{\"attributes\":{\"source\":{\"id\":\"1166\"}},\"id\":\"1171\",\"type\":\"CDSView\"},{\"attributes\":{\"coordinates\":null,\"group\":null,\"items\":[{\"id\":\"1107\"}],\"visible\":false},\"id\":\"1106\",\"type\":\"Legend\"},{\"attributes\":{\"overlay\":{\"id\":\"1082\"}},\"id\":\"1078\",\"type\":\"BoxZoomTool\"},{\"attributes\":{\"children\":[[{\"id\":\"1003\"},0,0],[{\"id\":\"1057\"},0,1]]},\"id\":\"1231\",\"type\":\"GridBox\"},{\"attributes\":{},\"id\":\"1064\",\"type\":\"LinearScale\"},{\"attributes\":{\"callback\":null,\"renderers\":[{\"id\":\"1094\"}],\"tooltips\":[[\"Idx\",\"@Idx\"]]},\"id\":\"1108\",\"type\":\"HoverTool\"},{\"attributes\":{\"coordinates\":null,\"group\":null,\"text\":\"PCA Score Plot (PC1 vs. PC2)\",\"text_font_size\":\"15pt\"},\"id\":\"1004\",\"type\":\"Title\"},{\"attributes\":{\"coordinates\":null,\"data_source\":{\"id\":\"1136\"},\"glyph\":{\"id\":\"1137\"},\"group\":null,\"hover_glyph\":null,\"muted_glyph\":{\"id\":\"1139\"},\"nonselection_glyph\":{\"id\":\"1138\"},\"view\":{\"id\":\"1141\"}},\"id\":\"1140\",\"type\":\"GlyphRenderer\"},{\"attributes\":{\"source\":{\"id\":\"1130\"}},\"id\":\"1135\",\"type\":\"CDSView\"},{\"attributes\":{},\"id\":\"1205\",\"type\":\"Selection\"},{\"attributes\":{\"data\":{\"Idx\":[0,1,2,3,4,5,6,7,8,9,10,11,12,13,14,15,16,17,18,19,20,21,22,23,24,25,26,27,28,29,30,31,32,33,34,35,36,37,38,39,40,41,42,43,44,45,46,47,48,49,50,51,52,53,54,55,56,57,58,59,60,61,62,63,64,65,66,67,68,69,70,71,72,73,74,75,76,77,78,79,80,81,82,83,84,85,86,87,88,89,90,91,92,93,94,95,96,97,98,99,100,101,102,103,104,105,106,107,108,109,110,111,112,113,114,115,116,117,118,119,120,121,122,123,124,125,126,127,128,129,130,131,132,133,134,135,136,137,138,139,140,141,142,143,144,145,146,147,148,149,150,151,152,153,154,155,156,157,158,159,160,161,162,163,164,165,166,167,168,169,170,171,172,173,174,175,176,177,178],\"col\":[\"red\",\"red\",\"red\",\"red\",\"red\",\"red\",\"red\",\"red\",\"red\",\"red\",\"red\",\"red\",\"red\",\"red\",\"red\",\"red\",\"red\",\"red\",\"red\",\"red\",\"red\",\"red\",\"red\",\"red\",\"red\",\"red\",\"red\",\"red\",\"red\",\"red\",\"red\",\"red\",\"red\",\"red\",\"red\",\"red\",\"red\",\"red\",\"red\",\"red\",\"red\",\"red\",\"red\",\"red\",\"red\",\"red\",\"red\",\"red\",\"red\",\"red\",\"red\",\"red\",\"red\",\"red\",\"red\",\"red\",\"red\",\"red\",\"red\",\"green\",\"green\",\"green\",\"green\",\"green\",\"green\",\"green\",\"green\",\"green\",\"green\",\"green\",\"green\",\"green\",\"green\",\"green\",\"green\",\"green\",\"green\",\"green\",\"green\",\"green\",\"green\",\"green\",\"green\",\"green\",\"green\",\"green\",\"green\",\"green\",\"green\",\"green\",\"green\",\"green\",\"green\",\"green\",\"green\",\"green\",\"green\",\"green\",\"green\",\"green\",\"green\",\"green\",\"green\",\"green\",\"green\",\"green\",\"green\",\"green\",\"green\",\"green\",\"green\",\"green\",\"green\",\"green\",\"green\",\"green\",\"green\",\"green\",\"green\",\"blue\",\"blue\",\"blue\",\"blue\",\"blue\",\"blue\",\"blue\",\"blue\",\"blue\",\"blue\",\"blue\",\"blue\",\"blue\",\"blue\",\"blue\",\"blue\",\"blue\",\"blue\",\"blue\",\"blue\",\"blue\",\"blue\",\"blue\",\"blue\",\"blue\",\"blue\",\"blue\",\"blue\",\"blue\",\"blue\",\"blue\",\"blue\",\"blue\",\"blue\",\"blue\",\"blue\",\"blue\",\"blue\",\"blue\",\"blue\",\"blue\",\"blue\",\"blue\",\"blue\",\"blue\",\"blue\",\"blue\",\"blue\",\"blue\",\"blue\",\"blue\",\"blue\",\"blue\",\"blue\",\"blue\",\"blue\",\"blue\",\"blue\",\"blue\",\"blue\"],\"group\":[\"Healthy\",\"Healthy\",\"Healthy\",\"Healthy\",\"Healthy\",\"Healthy\",\"Healthy\",\"Healthy\",\"Healthy\",\"Healthy\",\"Healthy\",\"Healthy\",\"Healthy\",\"Healthy\",\"Healthy\",\"Healthy\",\"Healthy\",\"Healthy\",\"Healthy\",\"Healthy\",\"Healthy\",\"Healthy\",\"Healthy\",\"Healthy\",\"Healthy\",\"Healthy\",\"Healthy\",\"Healthy\",\"Healthy\",\"Healthy\",\"Healthy\",\"Healthy\",\"Healthy\",\"Healthy\",\"Healthy\",\"Healthy\",\"Healthy\",\"Healthy\",\"Healthy\",\"Healthy\",\"Healthy\",\"Healthy\",\"Healthy\",\"Healthy\",\"Healthy\",\"Healthy\",\"Healthy\",\"Healthy\",\"Healthy\",\"Healthy\",\"Healthy\",\"Healthy\",\"Healthy\",\"Healthy\",\"Healthy\",\"Healthy\",\"Healthy\",\"Healthy\",\"Healthy\",\"prediabetic\",\"prediabetic\",\"prediabetic\",\"prediabetic\",\"prediabetic\",\"prediabetic\",\"prediabetic\",\"prediabetic\",\"prediabetic\",\"prediabetic\",\"prediabetic\",\"prediabetic\",\"prediabetic\",\"prediabetic\",\"prediabetic\",\"prediabetic\",\"prediabetic\",\"prediabetic\",\"prediabetic\",\"prediabetic\",\"prediabetic\",\"prediabetic\",\"prediabetic\",\"prediabetic\",\"prediabetic\",\"prediabetic\",\"prediabetic\",\"prediabetic\",\"prediabetic\",\"prediabetic\",\"prediabetic\",\"prediabetic\",\"prediabetic\",\"prediabetic\",\"prediabetic\",\"prediabetic\",\"prediabetic\",\"prediabetic\",\"prediabetic\",\"prediabetic\",\"prediabetic\",\"prediabetic\",\"prediabetic\",\"prediabetic\",\"prediabetic\",\"prediabetic\",\"prediabetic\",\"prediabetic\",\"prediabetic\",\"prediabetic\",\"prediabetic\",\"prediabetic\",\"prediabetic\",\"prediabetic\",\"prediabetic\",\"prediabetic\",\"prediabetic\",\"prediabetic\",\"prediabetic\",\"prediabetic\",\"diabetic\",\"diabetic\",\"diabetic\",\"diabetic\",\"diabetic\",\"diabetic\",\"diabetic\",\"diabetic\",\"diabetic\",\"diabetic\",\"diabetic\",\"diabetic\",\"diabetic\",\"diabetic\",\"diabetic\",\"diabetic\",\"diabetic\",\"diabetic\",\"diabetic\",\"diabetic\",\"diabetic\",\"diabetic\",\"diabetic\",\"diabetic\",\"diabetic\",\"diabetic\",\"diabetic\",\"diabetic\",\"diabetic\",\"diabetic\",\"diabetic\",\"diabetic\",\"diabetic\",\"diabetic\",\"diabetic\",\"diabetic\",\"diabetic\",\"diabetic\",\"diabetic\",\"diabetic\",\"diabetic\",\"diabetic\",\"diabetic\",\"diabetic\",\"diabetic\",\"diabetic\",\"diabetic\",\"diabetic\",\"diabetic\",\"diabetic\",\"diabetic\",\"diabetic\",\"diabetic\",\"diabetic\",\"diabetic\",\"diabetic\",\"diabetic\",\"diabetic\",\"diabetic\",\"diabetic\"],\"x\":{\"__ndarray__\":\"4+Jkh6sWQMChMY3RPP06wEEsPLaVB0XAKv81iy6cQcD65aH2xjg+wPikwsqHPCfAb41uYx2vRsAlzj/5bL1BwEaSiWGxpD3A4+hmkNDtPMBb/ITQCLk6wNZveJmc3SHAc8tcTZvlQ8Dqs/qJWnA7wA9tqlGYAEbA4gMguMPZPsCbcenMuNhAwE3SK8iIjjLA6vmAn/QjNsApUheu1Cc1wO7g59hsKTfAcK9cf+UyOcCmquVJ9Dc3wG12Qj1tADfAmWoKDyJGMMD2f9SVEdjEv/6xEeJaJDPAXDUgA8iTCcCDJgQ9LssOwMM8XNizlCRANqEfzt5BFEBEO4wEa7A1QIzIdeJVPSHAf/+xi+NMAMDA/OoeOlDwP3ClvAMldRtAWtsCO0VO6D84be7ewcACQIknL37KL9s/kbwuVdHIIUCh3Vn1WM0LwPvzho1doyFAJ8fPkamzOMCPmGOaD480wCvPXug42SzAQO+1mlilHcCiaHl2uZxBwJ7s5AHx/TzAaSY6nPkwRsD/wr41Snk/wOQ0VzJ6+0DAEkD5x09AQcDLNriLDh0vwMuKpQcrbTbAZGwhLk9lOsB8Amw8Sp08wMSf9lNTkTbAPw9KnsuqM8BF8yep+yRAwHOH3rruUzrAyih9CxL7E8And2/DH2IhQBjK81qwbivAVCdvy0nJib8yED6dM9H7v2UolbmXXAVAYP7MEKUQMMAsAE0RxVX5v3t0iwKW1y/ADIYNB9oLuj859gUpGPwMwAnbK4dLNDFAYl74eX5rEcCbb550C2QpQPv96yNgThLABa1meumlKUDTER8ENI7fPywJ/+fhFCFAgisl6UsE0z90TifvbMk4QKN38ITZWAFAvcBv68hmK0B3dWv7d/UUwFNpmYQH/jBAAvpsvS12RUCdCukwKoVKQIbPNGt+bj9Awtghqc1/RkC1+8yeiJhDQHhmKgFJCkhANQjIbJ/GAcC672WSQxAtQNby0fFAoynA+BLYt7UdDEAps8OHHBUWQAlPqnfL8jRAZdpdL3PeCsArLAsYM44iQN0pVeW4pSnAGZ49kVxGD0DoqUgs7gQ0QGTg6xJPSDZAZML1Fww2JMAFjCQTw+EaQPCHpMzO4yJA1ObFkMFUNEBXCA/UxSQBwJerXr2tVR9AznkIqWEf+b+0bAAAmGUxQFUYx15j9BZAhEE2W8ykO0CY1OUhE6YmQMmdOaDHUjpAxJFW5/xJCkDkkSjxvfwmQLaGjkdcFQJAbvUoLUsEKUBXe2E1R24ZQMH8uKfzCS9AhAC/Zxx1JsB3o8hToq/qPwyrG7FQIzZAXmKtve71OUBXp7ilEm4WQG2lfMVUqzNASQ6BcX1mPEAI53pStD4/QGXIG8ySMzBArhw38jXIOkAfl7EiyxQzQCYO23e4pkFAS+By7xDoD8BXhXbQUDwWQI5YictYTBrAfEwCfbNzBEBWNolb/tIFwMwkZ3RHFBJAYce6Z+8YM8B4zBeUUXsWQB9sVktc0xzAYiQ7eFGVIEA/sAS8ZYbxv9oVVLhviilAMJcD9zLZJcD8HtHefygxQPx0eAyN0RdAgRlsErP6MkDTeU5Wx+bxP8dIznuvZjJAeru6PbB2K8CyU2DHkoHOv5QsBmRs/yTA9pkh59D3zr9zXgciYUAgwPDVcZ7zIRBAlIJ4JxuQPUD022YGvTFBQJhX357omTlAjZVwMBKQO0BV7/YXofQ+QOcLGJowb0ZAyDTMfzFeLMCyt2/aNeQGwPPW3y1N1h1AcDdOgsr+NkB2Z69Kob03wFpsNKVhyS3A1k3jYehOwD9hC2thpp8sQNGaXrG1xjNATL+2pcgzQkA68KSUdwERQBjcNv6b+jFA2vMVIF4AMEAcnDw4vDg4QC/SnLSaDi1AdC0kYMmOPUAd5yqU+TsoQA==\",\"dtype\":\"float64\",\"order\":\"little\",\"shape\":[179]},\"y\":{\"__ndarray__\":\"prNAAbLiGcBuIkmbLRwrwPZBLfuw2SBAeAMzgl1HB8Ar3YP5AmYXwIrNGuBogDLA3jY4sappEUBdkm1Vy0IewHo5o+UUDizABzXwlOghNMBlkZWj+VAqwDh38pKugDrACoYJ8aaJFMD/WS4Ic6crwBSoGUul1AnAI5pSqW/DKcBJK/h8foknwGuzIatI8TTA1SX86Ye4K0ABSeARKnYvQPeo1JGrYS5AFx9pjmd+GECTgTGJu7onQPMP1yr6IPg/tDQsOH2EJEBy2l4krYYJwOU/CKLzXSVANbphGZSmCMBpu1UkNv72P4sYJYvD+iLAnV8XD0zaJ0C6RGA/KgEQwFATqImsmStA2rkSUD7sBcBtqSj7yUodQPerbLlgLhPAyFPFUCIyAsBbZ1EV6k8mwBFnJJmPIh3AEiYsNdTkKsBURmUEO3D5v72hedaa6y7AUhIw/RaZHsCdEf7VS2UywJo1+7LV7x7AP/2i7AU1MMBg5gRLpmzbPwRAWbKrhSbAldZjx6wuA8BB5CmXMicjwLLIi3VodhnABqaHriVOLMAsgDzh9IklwKTBYkeNMy3A6wqovD5AJEDRLDEeeJPeP341RCIo4SFA352TNpty7r/C2LgTdUUoQFUel7PeKP0/WQuDgUs/GUCE/y0ZhEEQwPESA20uJiBAFOs3WYAXBcAdpEcOT6wRQM44uExFm/u/tBXW+de4GUCi3CovTtgKwH28TTrOvSFAwe2Aax+PF8DNAIi2gxkbQHm9JLi2rCXA7YnXmck7z79RmkcT5DYpwCSp9gVAqQpAn1MfnMiRIsAS4C0vDdcTQIO7WNd4TRrAauvVQ72ZH0BEnv/Qu9IRwLA0fp5erCNAAJklXgT8tz+tVx1TLJEiQDY4PrR1pxrAub113/sDFsB2+t2Qk9sswH+44NVFEABATm3eLg9MHcCE9A28jPkVwDLUD/RlZCzAcaMQE67TK0Dpe4mzOqXnP+H2hxoTZzlAtkqh0yTwG0DyAilld1MjQMBU8w5PVhfAvpiyoG7uLEBqv+ApnrwQQImSJLW3rjFAdls7Cd2gG0Cwst2hN9IYQKAhF9xolOc/9N7wVHsND8Dsa+5EMwMswPgmiCdw9wjAXFchHtEALMC/Dv2hhwUjQDJRX8d/VhDAZ9OHI4HAKUBLQQC6qhrlv82grvDpkyRAQlVQVbMLIsC0Rini8I8YQEvF5YsqdxzAurnPMmfQLUA08EA+/zINQPXoTDtFWi1Azaeugd+4EEAaoYPzzQ4eQE0iTCifpwLAi3Ud+kUBOEB/dQn8qqIkQHgn4XYE/S1Acehx8lwoDEDqJagbOHwjQIusCbe2U9q/xZk5LUoPKUAyqcayhTUEQDGNPc/iJjBA4PJpgKlVGEALWITjuiAuQP4uMJRQo/w/SZUH4FJfDECTQ6F+33oVwMYEBeD1Yf4/nNqFq8mXIcAPkvxtPUMRQFm9RhTSxw/ASKvxYbdxC8CH9dJoY50ywFV9oGT9FhlAbz/OpXtxGcA4eMgMGvj3v7GiivKBCSfAPDlwoTY7HkAR/6OYcwgXwNnvaMUyZPG/8YQmA8vOJMCEMtETIdYOwLT+gpCOESrAZx/e8fRTJUASCa+cNAr/v/P4FfORph1AKUFe2+M2EcBwwu33/pQMQCc7esss1yHANB7+rO/yH0BgIzXU6t7pPwWgqYGW7RJAuruHS1CA5D+IknPo/90ZQLnDIEtmsBLA2NSsBokX/j+sKysUHGIMwOn8EXmAKv6/m9Q2mIQcJMDd5sOawuwoQJ6tKBji/B5AUrisdMJgEkC19prNxpYVwEibNu0Pfu0/HwIKIYCXHcCo9z2yfKftP6Sr0cZRGyLARCJcwkVCMkCXMv7EjZgkQAjnVfvhEzJAyLDrtRnGIkBc7o/rQio3QA==\",\"dtype\":\"float64\",\"order\":\"little\",\"shape\":[179]}},\"selected\":{\"id\":\"1050\"},\"selection_policy\":{\"id\":\"1049\"}},\"id\":\"1002\",\"type\":\"ColumnDataSource\"},{\"attributes\":{\"data\":{\"x\":{\"__ndarray__\":\"EP4rKSjsR0ADR+urYBJIQA88jkYiJEhAANxfq1ohSEAJJuq3DApIQObzAXJQ3kdAwZgD71KeR0CVy1klVkpHQN7Efqiw4kZA+Ka9T81nRkD1LxDIKtpFQCo8ihFbOkVAU7TZ6AKJREDNCnYd2cZDQGJULtWl9EJAaD3YvUETQkAdiPQtlSNBQDhSLzWXJkBAHAZmO5k6PkDA0ai+jRE8QMBEWgtG1DlAZtSNFBGFN0BYTw1IUCY1QLZ5Ihp1ujJAHrfbgP5DMEBdusjC7IorQAVGL+TdgiZAwIEBKAB1IUDWpQ6aEs0YQLxcfr++cg1AhJ0XXCfl8j8wb5EKfKP0v1SAJhHWxQ3AhrNub9NqGMA5k42NYtsgwN9drV+VXiXAeXBbYFu6KcDTu8FlNuotwIY3xsXq9DDAlCLu0ozaMsDaBnzADKQ0wM4crvSSTzbARkYAvGbbN8A423QP8EU5wMYgLzm5jTrAAtqtVXCxO8Cu1xiw6K88wKh9OvgbiD3AWLblUCs5PsDKmLE1YMI+wDbxHTctIz/ArLpejC5bP8BQQDh6Kmo/wELegY4RUD/A5AkSsP4MP8DoNwMDN6E+wAQ2bqEpDT7AQHDjKG9RPcBeMBkdyW48wE4CcSAhZjvASt4hA4g4OsDAWv+pNOc4wLTJ/82CczfANJzLlfHeNcCmiMcKIis0wEiWMGvVWTLAkjEFW+tsMMB1TTHrv8wswA1XnYOTkCjAMcQ1Fq8pJMDeQfGFODkfwFpKGgsY3BXAGIoPfUeLCMCwVA7Y7f3jvzQMe/Ibrv0/Hljw3/BxEUDnYy5rKokbQDaMI2Nm0yJAFh7jPjXgJ0CHv0chzeUsQJDyVGmA7zBAOlms8FdjM0BApj/15cs1QHJqNuiuJjhAOtJvbEVxOkBAjAbXTKk8QDK3np57zD5Alal9205sQEAdgzZry2VBQP9sYVGyUUJAaGu/YRAvQ0Bt+JVrAf1DQHs+6CSxukRAix1MBVxnRUB8Z3kPUAJGQOWNw4jtikZABaDAnacAR0Cj3nPzBGNHQP9BZiSgsUdAEP4rKSjsR0A=\",\"dtype\":\"float64\",\"order\":\"little\",\"shape\":[100]},\"y\":{\"__ndarray__\":\"2JWbLx1fLMColTyOq2oqwJR9vVDGVyjAaB1OuZAoJsDKLOA5S98jwEIA8SFRfiHA8XBDYSwQHsAM/T0bSP4YwL2u5lYvzBPALoDZV3r+DMCeEX++0DkCwDhTZgnuVe2/8B+ls1ga3T8cNT9mZ0r9Pyq3x5DlpAlAfxtiGoVLEkAHsUmOLLgXQIwwsq/REh1A6lhPzfcqIUC0/vbVDL4jQBJAZYwAQCZAWDurMz2uKEBqPHhhQQYrQL4JSZOiRS1Akqj6qw9qL0BYr5erqbgwQHLaByirrDFAZGGHxBCQMkAJfzwZ8GEzQH+B285wITRA9hapfc3NNEAyofd4VGY1QMzMTYZo6jVAfqB5f4FZNkCk8ujeLLM2QAaZtjUO9zZAWKLyit8kN0BXYcOjcTw3QG3vFDSsPTdAHvek940oN0Dg9FCzLP02QNGVpR61uzZA+FXGtWpkNkAm4txzp/c1QPryV3bbdTVADj5ZiYzfNEBGn8mdVTU0QDamoSnmdzNAgSsLcwGoMkCEXxbHfcYxQJjR0ZxD1DBACk5SS5mkL0DmCgOYRYMtQDoHOkK+RitAyl6/dlHxKEAepUEMZ4UmQJIJhAh+BSRAKHmmDSp0IUA9hl1kIagdQF9ZH43NTxhAbef7FdvkEkBaus1hv9kKQLxwbf75tf8/iJT7HxJj4z/4IKa6Q4bov46FzXCyCAHABh7x1WLRC8D013MrQjgTwKChqAGSbRjAOYd3hUKDHcBCMsvzCjohwPR6XSx6nSPAGtLMpHjpJcCOhyc/qBsowKBw/HfFMSrAQOi6u6kpLMA+nD6eTQEuwBYdPvLKti/AuyA6Xy+kMMDE4D+HNVoxwEjrzE68/DHAjwC2LByLMsDyGbtdwgQzwOir0HsxaTPApiFj/wG4M8D7Ug+q4vAzwNPxYdqYEzTAPptHyAAgNMDwPu+pDRY0wNTX+MDJ9TPACN/iT1a/M8ASX8F363IzwPb+Yf7XEDPAaqkY/YCZMsCAhIh4YQ0ywLim1OEJbTHAxEG7gR+5MMCsfGmct+QvwIrUjFYXMy7A2pWbLx1fLMA=\",\"dtype\":\"float64\",\"order\":\"little\",\"shape\":[100]}},\"selected\":{\"id\":\"1217\"},\"selection_policy\":{\"id\":\"1216\"}},\"id\":\"1178\",\"type\":\"ColumnDataSource\"},{\"attributes\":{},\"id\":\"1202\",\"type\":\"UnionRenderers\"},{\"attributes\":{\"coordinates\":null,\"data_source\":{\"id\":\"1118\"},\"glyph\":{\"id\":\"1119\"},\"group\":null,\"hover_glyph\":null,\"muted_glyph\":{\"id\":\"1121\"},\"nonselection_glyph\":{\"id\":\"1120\"},\"view\":{\"id\":\"1123\"}},\"id\":\"1122\",\"type\":\"GlyphRenderer\"},{\"attributes\":{},\"id\":\"1062\",\"type\":\"DataRange1d\"},{\"attributes\":{},\"id\":\"1217\",\"type\":\"Selection\"},{\"attributes\":{\"fill_alpha\":0.1,\"fill_color\":\"blue\",\"hatch_alpha\":0.1,\"hatch_color\":\"blue\",\"line_alpha\":0.1,\"line_color\":\"blue\",\"x\":{\"field\":\"x\"},\"y\":{\"field\":\"y\"}},\"id\":\"1150\",\"type\":\"Patch\"},{\"attributes\":{},\"id\":\"1008\",\"type\":\"DataRange1d\"},{\"attributes\":{\"data\":{\"Idx\":[0,1,2,3,4,5,6,7,8,9,10,11,12,13,14,15,16,17,18,19,20,21,22,23,24,25,26,27,28,29,30,31,32,33,34,35,36,37,38,39,40,41,42,43,44,45,46,47,48,49,50,51,52,53,54,55,56,57,58,59,60,61,62,63,64,65,66,67,68,69,70,71,72,73,74,75,76,77,78,79,80,81,82,83,84,85,86,87,88,89,90,91,92,93,94,95,96,97,98,99,100,101,102,103,104,105,106,107,108,109,110,111,112,113,114,115,116,117,118,119,120,121,122,123,124,125,126,127,128,129,130,131,132,133,134,135,136,137,138,139,140,141,142,143,144,145,146,147,148,149,150,151,152,153,154,155,156,157,158,159,160,161,162,163,164,165,166,167,168,169,170,171,172,173,174,175,176,177,178,179,180,181,182,183,184,185,186,187,188,189,190,191,192,193,194,195,196,197,198,199,200,201,202,203,204,205,206,207,208,209,210,211,212,213,214,215,216,217,218,219,220,221,222,223,224,225,226,227,228,229,230,231,232,233,234,235,236,237,238,239,240,241,242,243,244,245,246,247,248,249,250,251,252,253,254,255,256,257,258,259,260,261,262,263,264,265,266,267,268,269,270,271,272,273,274,275,276,277,278,279,280,281,282,283,284,285,286,287,288,289,290,291,292,293,294,295,296,297,298,299,300,301,302,303,304,305,306,307,308,309,310,311,312,313,314,315,316,317,318,319,320,321,322,323,324,325,326,327,328,329,330,331,332,333,334,335,336,337,338,339,340,341,342,343,344,345,346,347,348,349,350,351,352,353,354,355,356,357,358,359,360,361,362,363,364,365,366,367,368,369,370,371,372,373,374,375,376,377,378,379,380,381,382,383,384,385,386,387,388,389,390,391,392,393,394,395,396,397,398,399,400,401,402,403,404,405,406,407,408,409,410,411,412,413,414,415,416,417,418,419,420,421,422,423,424,425,426,427,428,429,430,431,432,433,434,435,436,437,438,439,440,441,442,443,444,445,446,447,448,449,450,451,452,453,454,455,456,457,458,459,460,461,462,463,464,465,466,467,468,469,470,471,472,473,474,475,476,477,478,479,480,481,482,483,484,485,486,487,488,489,490,491,492,493,494,495,496,497,498,499,500,501,502,503,504,505,506,507,508,509,510,511,512,513,514,515,516,517,518,519,520,521,522,523,524,525,526,527,528,529,530,531,532,533,534,535,536,537,538,539,540,541,542,543,544,545,546,547,548,549,550,551,552,553,554,555,556,557,558,559,560,561,562,563,564,565,566,567,568,569,570,571,572,573,574,575,576,577,578,579,580,581,582,583,584,585,586,587,588,589,590,591,592,593,594,595,596,597,598,599,600,601,602,603,604,605,606,607,608,609,610,611,612,613,614,615,616,617,618,619,620,621,622,623,624,625,626,627,628,629,630,631,632,633,634,635,636,637,638,639,640,641,642,643,644,645,646,647,648,649,650,651,652,653,654,655,656,657,658,659,660,661,662,663,664,665,666,667,668,669,670,671,672,673,674,675,676,677,678,679,680,681,682,683,684,685,686,687,688,689,690,691,692,693,694,695,696,697,698,699,700,701,702,703,704,705,706,707,708,709,710,711,712,713,714,715,716,717,718,719,720,721,722,723,724,725,726,727,728,729,730,731,732,733,734,735,736,737,738,739,740,741,742,743,744,745,746,747,748,749,750,751,752,753,754,755,756,757,758,759,760,761,762,763,764,765,766,767,768,769,770,771,772,773,774,775,776,777,778,779,780,781,782,783,784,785,786,787,788,789,790,791,792,793,794,795,796,797,798,799,800,801,802,803,804,805,806,807,808,809,810,811,812,813,814,815,816,817,818,819,820,821,822,823,824,825,826,827,828,829,830,831,832,833,834,835,836,837,838,839,840,841,842,843,844,845,846,847,848,849,850,851,852,853,854,855,856,857,858,859,860,861,862,863,864,865,866,867,868,869,870,871,872,873,874,875,876,877,878,879,880,881,882,883,884,885,886,887,888,889,890,891,892,893,894,895,896,897,898,899,900,901,902,903,904,905,906,907,908,909,910,911,912,913,914,915,916,917,918,919,920,921,922,923,924,925,926,927,928,929,930,931,932,933,934,935,936,937,938,939,940,941,942,943,944,945,946,947,948,949,950,951,952,953,954,955,956,957,958,959,960,961,962,963,964,965,966,967,968,969,970,971,972,973,974,975,976,977,978,979,980,981,982,983,984,985,986,987,988,989,990,991,992,993,994,995,996,997,998,999,1000,1001,1002,1003,1004,1005,1006,1007,1008,1009,1010,1011,1012,1013,1014,1015,1016,1017,1018,1019,1020,1021,1022,1023,1024,1025,1026,1027,1028,1029,1030,1031,1032,1033,1034,1035,1036,1037,1038,1039,1040,1041,1042,1043,1044,1045,1046,1047,1048,1049,1050,1051,1052,1053,1054,1055,1056,1057,1058,1059,1060,1061,1062,1063,1064,1065,1066,1067,1068,1069,1070,1071,1072,1073,1074,1075,1076,1077,1078,1079,1080,1081,1082,1083,1084,1085,1086,1087,1088,1089,1090,1091,1092,1093,1094,1095,1096,1097,1098,1099,1100,1101,1102,1103,1104,1105,1106,1107,1108,1109,1110,1111,1112,1113,1114,1115,1116,1117,1118,1119,1120,1121,1122,1123,1124,1125,1126,1127,1128,1129,1130,1131,1132,1133,1134,1135,1136,1137,1138,1139,1140,1141,1142,1143,1144,1145,1146,1147,1148,1149,1150,1151,1152,1153,1154,1155,1156,1157,1158,1159,1160,1161,1162,1163,1164,1165,1166,1167,1168,1169,1170,1171,1172,1173,1174,1175,1176,1177,1178,1179,1180,1181,1182,1183,1184,1185,1186,1187,1188,1189,1190,1191,1192,1193,1194,1195,1196,1197,1198,1199,1200,1201,1202,1203,1204,1205,1206,1207,1208,1209,1210,1211,1212,1213,1214,1215,1216,1217,1218,1219,1220,1221,1222,1223,1224,1225,1226,1227,1228,1229,1230,1231,1232,1233,1234,1235,1236,1237,1238,1239,1240,1241,1242,1243,1244,1245,1246,1247,1248,1249,1250,1251,1252,1253,1254,1255,1256,1257,1258,1259,1260,1261,1262,1263,1264,1265,1266,1267,1268,1269,1270,1271,1272,1273,1274,1275,1276,1277,1278,1279,1280,1281,1282,1283,1284,1285,1286,1287,1288,1289,1290,1291,1292,1293,1294,1295,1296,1297,1298,1299,1300,1301,1302,1303,1304,1305,1306,1307,1308,1309,1310,1311,1312,1313,1314,1315,1316,1317,1318,1319,1320,1321,1322,1323,1324,1325,1326,1327,1328,1329,1330,1331,1332,1333,1334,1335,1336,1337,1338,1339,1340,1341,1342,1343,1344,1345,1346,1347,1348,1349,1350,1351,1352,1353,1354,1355,1356,1357,1358,1359,1360,1361,1362,1363,1364,1365,1366,1367,1368,1369,1370,1371,1372,1373,1374,1375,1376,1377,1378,1379,1380,1381,1382,1383,1384,1385,1386,1387,1388,1389,1390,1391,1392,1393,1394,1395,1396,1397,1398,1399,1400,1401,1402,1403,1404,1405,1406,1407,1408,1409,1410,1411,1412,1413,1414,1415,1416,1417,1418,1419,1420,1421,1422,1423,1424,1425,1426,1427,1428,1429,1430,1431,1432,1433,1434,1435,1436,1437,1438,1439,1440,1441,1442,1443,1444,1445,1446,1447,1448,1449,1450,1451,1452,1453,1454,1455,1456,1457,1458,1459,1460,1461,1462,1463,1464,1465,1466,1467,1468,1469,1470,1471,1472,1473,1474,1475,1476,1477,1478,1479,1480,1481,1482,1483,1484,1485],\"col\":[\"green\",\"green\",\"green\",\"green\",\"green\",\"green\",\"green\",\"green\",\"green\",\"green\",\"green\",\"green\",\"green\",\"green\",\"green\",\"green\",\"green\",\"green\",\"green\",\"green\",\"green\",\"green\",\"green\",\"green\",\"green\",\"green\",\"green\",\"green\",\"green\",\"green\",\"green\",\"green\",\"green\",\"green\",\"green\",\"green\",\"green\",\"green\",\"green\",\"green\",\"green\",\"green\",\"green\",\"green\",\"green\",\"green\",\"green\",\"green\",\"green\",\"green\",\"green\",\"green\",\"green\",\"green\",\"green\",\"green\",\"green\",\"green\",\"green\",\"green\",\"green\",\"green\",\"green\",\"green\",\"green\",\"green\",\"green\",\"green\",\"green\",\"green\",\"green\",\"green\",\"green\",\"green\",\"green\",\"green\",\"green\",\"green\",\"green\",\"green\",\"green\",\"green\",\"green\",\"green\",\"green\",\"green\",\"green\",\"green\",\"green\",\"green\",\"green\",\"green\",\"green\",\"green\",\"green\",\"green\",\"green\",\"green\",\"green\",\"green\",\"green\",\"green\",\"green\",\"green\",\"green\",\"green\",\"green\",\"green\",\"green\",\"green\",\"green\",\"green\",\"green\",\"green\",\"green\",\"green\",\"green\",\"green\",\"green\",\"green\",\"green\",\"green\",\"green\",\"green\",\"green\",\"green\",\"green\",\"green\",\"green\",\"green\",\"green\",\"green\",\"green\",\"green\",\"green\",\"green\",\"green\",\"green\",\"green\",\"green\",\"green\",\"green\",\"green\",\"green\",\"green\",\"green\",\"green\",\"green\",\"green\",\"green\",\"green\",\"green\",\"green\",\"green\",\"green\",\"green\",\"green\",\"green\",\"green\",\"green\",\"green\",\"green\",\"green\",\"green\",\"green\",\"green\",\"green\",\"green\",\"green\",\"green\",\"green\",\"green\",\"green\",\"green\",\"green\",\"green\",\"green\",\"green\",\"green\",\"green\",\"green\",\"green\",\"green\",\"green\",\"green\",\"green\",\"green\",\"green\",\"green\",\"green\",\"green\",\"green\",\"green\",\"green\",\"green\",\"green\",\"green\",\"green\",\"green\",\"green\",\"green\",\"green\",\"green\",\"green\",\"green\",\"green\",\"green\",\"green\",\"green\",\"green\",\"green\",\"green\",\"green\",\"green\",\"green\",\"green\",\"green\",\"green\",\"green\",\"green\",\"green\",\"green\",\"green\",\"green\",\"green\",\"green\",\"green\",\"green\",\"green\",\"green\",\"green\",\"green\",\"green\",\"green\",\"green\",\"green\",\"green\",\"green\",\"green\",\"green\",\"green\",\"green\",\"green\",\"green\",\"green\",\"green\",\"green\",\"green\",\"green\",\"green\",\"green\",\"green\",\"green\",\"green\",\"green\",\"green\",\"green\",\"green\",\"green\",\"green\",\"green\",\"green\",\"green\",\"green\",\"green\",\"green\",\"green\",\"green\",\"green\",\"green\",\"green\",\"green\",\"green\",\"green\",\"green\",\"green\",\"green\",\"green\",\"green\",\"green\",\"green\",\"green\",\"green\",\"green\",\"green\",\"green\",\"green\",\"green\",\"green\",\"green\",\"green\",\"green\",\"green\",\"green\",\"green\",\"green\",\"green\",\"green\",\"green\",\"green\",\"green\",\"green\",\"green\",\"green\",\"green\",\"green\",\"green\",\"green\",\"green\",\"green\",\"green\",\"green\",\"green\",\"green\",\"green\",\"green\",\"green\",\"green\",\"green\",\"green\",\"green\",\"green\",\"green\",\"green\",\"green\",\"green\",\"green\",\"green\",\"green\",\"green\",\"green\",\"green\",\"green\",\"green\",\"green\",\"green\",\"green\",\"green\",\"green\",\"green\",\"green\",\"green\",\"green\",\"green\",\"green\",\"green\",\"green\",\"green\",\"green\",\"green\",\"green\",\"green\",\"green\",\"green\",\"green\",\"green\",\"green\",\"green\",\"green\",\"green\",\"green\",\"green\",\"green\",\"green\",\"green\",\"green\",\"green\",\"green\",\"green\",\"green\",\"green\",\"green\",\"green\",\"green\",\"green\",\"green\",\"green\",\"green\",\"green\",\"green\",\"green\",\"green\",\"green\",\"green\",\"green\",\"green\",\"green\",\"green\",\"green\",\"green\",\"green\",\"green\",\"green\",\"green\",\"green\",\"green\",\"green\",\"green\",\"green\",\"green\",\"green\",\"green\",\"green\",\"green\",\"green\",\"green\",\"green\",\"green\",\"green\",\"green\",\"green\",\"green\",\"green\",\"green\",\"green\",\"green\",\"green\",\"green\",\"green\",\"green\",\"green\",\"green\",\"green\",\"green\",\"green\",\"green\",\"green\",\"green\",\"green\",\"green\",\"green\",\"green\",\"green\",\"green\",\"green\",\"green\",\"green\",\"green\",\"green\",\"green\",\"green\",\"green\",\"green\",\"green\",\"green\",\"green\",\"green\",\"green\",\"green\",\"green\",\"green\",\"green\",\"green\",\"green\",\"green\",\"green\",\"green\",\"green\",\"green\",\"green\",\"green\",\"green\",\"green\",\"green\",\"green\",\"green\",\"green\",\"green\",\"green\",\"green\",\"green\",\"green\",\"green\",\"green\",\"green\",\"green\",\"green\",\"green\",\"green\",\"green\",\"green\",\"green\",\"green\",\"green\",\"green\",\"green\",\"green\",\"green\",\"green\",\"green\",\"green\",\"green\",\"green\",\"green\",\"green\",\"green\",\"green\",\"green\",\"green\",\"green\",\"green\",\"green\",\"green\",\"green\",\"green\",\"green\",\"green\",\"green\",\"green\",\"green\",\"green\",\"green\",\"green\",\"green\",\"green\",\"green\",\"green\",\"green\",\"green\",\"green\",\"green\",\"green\",\"green\",\"green\",\"green\",\"green\",\"green\",\"green\",\"green\",\"green\",\"green\",\"green\",\"green\",\"green\",\"green\",\"green\",\"green\",\"green\",\"green\",\"green\",\"green\",\"green\",\"green\",\"green\",\"green\",\"green\",\"green\",\"green\",\"green\",\"green\",\"green\",\"green\",\"green\",\"green\",\"green\",\"green\",\"green\",\"green\",\"green\",\"green\",\"green\",\"green\",\"green\",\"green\",\"green\",\"green\",\"green\",\"green\",\"green\",\"green\",\"green\",\"green\",\"green\",\"green\",\"green\",\"green\",\"green\",\"green\",\"green\",\"green\",\"green\",\"green\",\"green\",\"green\",\"green\",\"green\",\"green\",\"green\",\"green\",\"green\",\"green\",\"green\",\"green\",\"green\",\"green\",\"green\",\"green\",\"green\",\"green\",\"green\",\"green\",\"green\",\"green\",\"green\",\"green\",\"green\",\"green\",\"green\",\"green\",\"green\",\"green\",\"green\",\"green\",\"green\",\"green\",\"green\",\"green\",\"green\",\"green\",\"green\",\"green\",\"green\",\"green\",\"green\",\"green\",\"green\",\"green\",\"green\",\"green\",\"green\",\"green\",\"green\",\"green\",\"green\",\"green\",\"green\",\"green\",\"green\",\"green\",\"green\",\"green\",\"green\",\"green\",\"green\",\"green\",\"green\",\"green\",\"green\",\"green\",\"green\",\"green\",\"green\",\"green\",\"green\",\"green\",\"green\",\"green\",\"green\",\"green\",\"green\",\"green\",\"green\",\"green\",\"green\",\"green\",\"green\",\"green\",\"green\",\"green\",\"green\",\"green\",\"green\",\"green\",\"green\",\"green\",\"green\",\"green\",\"green\",\"green\",\"green\",\"green\",\"green\",\"green\",\"green\",\"green\",\"green\",\"green\",\"green\",\"green\",\"green\",\"green\",\"green\",\"green\",\"green\",\"green\",\"green\",\"green\",\"green\",\"green\",\"green\",\"green\",\"green\",\"green\",\"green\",\"green\",\"green\",\"green\",\"green\",\"green\",\"green\",\"green\",\"green\",\"green\",\"green\",\"green\",\"green\",\"green\",\"green\",\"green\",\"green\",\"green\",\"green\",\"green\",\"green\",\"green\",\"green\",\"green\",\"green\",\"green\",\"green\",\"green\",\"green\",\"green\",\"green\",\"green\",\"green\",\"green\",\"green\",\"green\",\"green\",\"green\",\"green\",\"green\",\"green\",\"green\",\"green\",\"green\",\"green\",\"green\",\"green\",\"green\",\"green\",\"green\",\"green\",\"green\",\"green\",\"green\",\"green\",\"green\",\"green\",\"green\",\"green\",\"green\",\"green\",\"green\",\"green\",\"green\",\"green\",\"green\",\"green\",\"green\",\"green\",\"green\",\"green\",\"green\",\"green\",\"green\",\"green\",\"green\",\"green\",\"green\",\"green\",\"green\",\"green\",\"green\",\"green\",\"green\",\"green\",\"green\",\"green\",\"green\",\"green\",\"green\",\"green\",\"green\",\"green\",\"green\",\"green\",\"green\",\"green\",\"green\",\"green\",\"green\",\"green\",\"green\",\"green\",\"green\",\"green\",\"green\",\"green\",\"green\",\"green\",\"green\",\"green\",\"green\",\"green\",\"green\",\"green\",\"green\",\"green\",\"green\",\"green\",\"green\",\"green\",\"green\",\"green\",\"green\",\"green\",\"green\",\"green\",\"green\",\"green\",\"green\",\"green\",\"green\",\"green\",\"green\",\"green\",\"green\",\"green\",\"green\",\"green\",\"green\",\"green\",\"green\",\"green\",\"green\",\"green\",\"green\",\"green\",\"green\",\"green\",\"green\",\"green\",\"green\",\"green\",\"green\",\"green\",\"green\",\"green\",\"green\",\"green\",\"green\",\"green\",\"green\",\"green\",\"green\",\"green\",\"green\",\"green\",\"green\",\"green\",\"green\",\"green\",\"green\",\"green\",\"green\",\"green\",\"green\",\"green\",\"green\",\"green\",\"green\",\"green\",\"green\",\"green\",\"green\",\"green\",\"green\",\"green\",\"green\",\"green\",\"green\",\"green\",\"green\",\"green\",\"green\",\"green\",\"green\",\"green\",\"green\",\"green\",\"green\",\"green\",\"green\",\"green\",\"green\",\"green\",\"green\",\"green\",\"green\",\"green\",\"green\",\"green\",\"green\",\"green\",\"green\",\"green\",\"green\",\"green\",\"green\",\"green\",\"green\",\"green\",\"green\",\"green\",\"green\",\"green\",\"green\",\"green\",\"green\",\"green\",\"green\",\"green\",\"green\",\"green\",\"green\",\"green\",\"green\",\"green\",\"green\",\"green\",\"green\",\"green\",\"green\",\"green\",\"green\",\"green\",\"green\",\"green\",\"green\",\"green\",\"green\",\"green\",\"green\",\"green\",\"green\",\"green\",\"green\",\"green\",\"green\",\"green\",\"green\",\"green\",\"green\",\"green\",\"green\",\"green\",\"green\",\"green\",\"green\",\"green\",\"green\",\"green\",\"green\",\"green\",\"green\",\"green\",\"green\",\"green\",\"green\",\"green\",\"green\",\"green\",\"green\",\"green\",\"green\",\"green\",\"green\",\"green\",\"green\",\"green\",\"green\",\"green\",\"green\",\"green\",\"green\",\"green\",\"green\",\"green\",\"green\",\"green\",\"green\",\"green\",\"green\",\"green\",\"green\",\"green\",\"green\",\"green\",\"green\",\"green\",\"green\",\"green\",\"green\",\"green\",\"green\",\"green\",\"green\",\"green\",\"green\",\"green\",\"green\",\"green\",\"green\",\"green\",\"green\",\"green\",\"green\",\"green\",\"green\",\"green\",\"green\",\"green\",\"green\",\"green\",\"green\",\"green\",\"green\",\"green\",\"green\",\"green\",\"green\",\"green\",\"green\",\"green\",\"green\",\"green\",\"green\",\"green\",\"green\",\"green\",\"green\",\"green\",\"green\",\"green\",\"green\",\"green\",\"green\",\"green\",\"green\",\"green\",\"green\",\"green\",\"green\",\"green\",\"green\",\"green\",\"green\",\"green\",\"green\",\"green\",\"green\",\"green\",\"green\",\"green\",\"green\",\"green\",\"green\",\"green\",\"green\",\"green\",\"green\",\"green\",\"green\",\"green\",\"green\",\"green\",\"green\",\"green\",\"green\",\"green\",\"green\",\"green\",\"green\",\"green\",\"green\",\"green\",\"green\",\"green\",\"green\",\"green\",\"green\",\"green\",\"green\",\"green\",\"green\",\"green\",\"green\",\"green\",\"green\",\"green\",\"green\",\"green\",\"green\",\"green\",\"green\",\"green\",\"green\",\"green\",\"green\",\"green\",\"green\",\"green\",\"green\",\"green\",\"green\",\"green\",\"green\",\"green\",\"green\",\"green\",\"green\",\"green\",\"green\",\"green\",\"green\",\"green\",\"green\",\"green\",\"green\",\"green\",\"green\",\"green\",\"green\",\"green\",\"green\",\"green\",\"green\",\"green\",\"green\",\"green\",\"green\",\"green\",\"green\",\"green\",\"green\",\"green\",\"green\",\"green\",\"green\",\"green\",\"green\",\"green\",\"green\",\"green\",\"green\",\"green\",\"green\",\"green\",\"green\",\"green\",\"green\",\"green\",\"green\",\"green\",\"green\",\"green\",\"green\",\"green\",\"green\",\"green\",\"green\",\"green\",\"green\",\"green\",\"green\",\"green\",\"green\",\"green\",\"green\",\"green\",\"green\",\"green\",\"green\",\"green\",\"green\",\"green\",\"green\",\"green\",\"green\",\"green\",\"green\",\"green\",\"green\",\"green\",\"green\",\"green\",\"green\",\"green\",\"green\",\"green\",\"green\",\"green\",\"green\",\"green\",\"green\",\"green\",\"green\",\"green\",\"green\",\"green\",\"green\",\"green\",\"green\",\"green\",\"green\",\"green\",\"green\",\"green\",\"green\",\"green\",\"green\",\"green\",\"green\",\"green\",\"green\",\"green\",\"green\",\"green\",\"green\",\"green\",\"green\",\"green\",\"green\",\"green\",\"green\",\"green\",\"green\",\"green\",\"green\",\"green\",\"green\",\"green\",\"green\",\"green\",\"green\",\"green\",\"green\",\"green\",\"green\",\"green\",\"green\",\"green\",\"green\",\"green\",\"green\",\"green\",\"green\",\"green\",\"green\",\"green\",\"green\",\"green\",\"green\",\"green\",\"green\",\"green\",\"green\",\"green\",\"green\",\"green\",\"green\",\"green\",\"green\",\"green\",\"green\",\"green\",\"green\",\"green\",\"green\",\"green\",\"green\",\"green\",\"green\",\"green\",\"green\",\"green\",\"green\",\"green\",\"green\",\"green\",\"green\",\"green\",\"green\",\"green\",\"green\",\"green\",\"green\",\"green\",\"green\",\"green\",\"green\",\"green\",\"green\",\"green\",\"green\",\"green\",\"green\",\"green\",\"green\",\"green\",\"green\",\"green\",\"green\",\"green\",\"green\",\"green\",\"green\",\"green\",\"green\",\"green\",\"green\",\"green\",\"green\",\"green\",\"green\",\"green\",\"green\",\"green\",\"green\",\"green\",\"green\",\"green\",\"green\",\"green\",\"green\",\"green\",\"green\",\"green\",\"green\",\"green\",\"green\",\"green\",\"green\",\"green\",\"green\",\"green\",\"green\",\"green\",\"green\",\"green\",\"green\",\"green\",\"green\",\"green\",\"green\",\"green\",\"green\",\"green\",\"green\",\"green\",\"green\",\"green\",\"green\",\"green\",\"green\",\"green\",\"green\",\"green\",\"green\",\"green\",\"green\",\"green\",\"green\",\"green\",\"green\",\"green\",\"green\",\"green\",\"green\",\"green\",\"green\",\"green\",\"green\",\"green\",\"green\",\"green\",\"green\",\"green\",\"green\",\"green\",\"green\",\"green\",\"green\",\"green\",\"green\",\"green\",\"green\",\"green\",\"green\",\"green\",\"green\",\"green\",\"green\",\"green\",\"green\",\"green\",\"green\",\"green\",\"green\",\"green\",\"green\",\"green\",\"green\",\"green\",\"green\",\"green\",\"green\",\"green\",\"green\",\"green\",\"green\",\"green\",\"green\",\"green\",\"green\",\"green\",\"green\",\"green\",\"green\",\"green\",\"green\",\"green\",\"green\",\"green\",\"green\",\"green\",\"green\",\"green\",\"green\",\"green\",\"green\",\"green\",\"green\",\"green\",\"green\",\"green\",\"green\",\"green\",\"green\",\"green\",\"green\",\"green\",\"green\",\"green\",\"green\",\"green\",\"green\",\"green\",\"green\",\"green\",\"green\",\"green\",\"green\",\"green\",\"green\",\"green\",\"green\",\"green\",\"green\",\"green\",\"green\",\"green\",\"green\",\"green\"],\"group\":[null,null,null,null,null,null,null,null,null,null,null,null,null,null,null,null,null,null,null,null,null,null,null,null,null,null,null,null,null,null,null,null,null,null,null,null,null,null,null,null,null,null,null,null,null,null,null,null,null,null,null,null,null,null,null,null,null,null,null,null,null,null,null,null,null,null,null,null,null,null,null,null,null,null,null,null,null,null,null,null,null,null,null,null,null,null,null,null,null,null,null,null,null,null,null,null,null,null,null,null,null,null,null,null,null,null,null,null,null,null,null,null,null,null,null,null,null,null,null,null,null,null,null,null,null,null,null,null,null,null,null,null,null,null,null,null,null,null,null,null,null,null,null,null,null,null,null,null,null,null,null,null,null,null,null,null,null,null,null,null,null,null,null,null,null,null,null,null,null,null,null,null,null,null,null,null,null,null,null,null,null,null,null,null,null,null,null,null,null,null,null,null,null,null,null,null,null,null,null,null,null,null,null,null,null,null,null,null,null,null,null,null,null,null,null,null,null,null,null,null,null,null,null,null,null,null,null,null,null,null,null,null,null,null,null,null,null,null,null,null,null,null,null,null,null,null,null,null,null,null,null,null,null,null,null,null,null,null,null,null,null,null,null,null,null,null,null,null,null,null,null,null,null,null,null,null,null,null,null,null,null,null,null,null,null,null,null,null,null,null,null,null,null,null,null,null,null,null,null,null,null,null,null,null,null,null,null,null,null,null,null,null,null,null,null,null,null,null,null,null,null,null,null,null,null,null,null,null,null,null,null,null,null,null,null,null,null,null,null,null,null,null,null,null,null,null,null,null,null,null,null,null,null,null,null,null,null,null,null,null,null,null,null,null,null,null,null,null,null,null,null,null,null,null,null,null,null,null,null,null,null,null,null,null,null,null,null,null,null,null,null,null,null,null,null,null,null,null,null,null,null,null,null,null,null,null,null,null,null,null,null,null,null,null,null,null,null,null,null,null,null,null,null,null,null,null,null,null,null,null,null,null,null,null,null,null,null,null,null,null,null,null,null,null,null,null,null,null,null,null,null,null,null,null,null,null,null,null,null,null,null,null,null,null,null,null,null,null,null,null,null,null,null,null,null,null,null,null,null,null,null,null,null,null,null,null,null,null,null,null,null,null,null,null,null,null,null,null,null,null,null,null,null,null,null,null,null,null,null,null,null,null,null,null,null,null,null,null,null,null,null,null,null,null,null,null,null,null,null,null,null,null,null,null,null,null,null,null,null,null,null,null,null,null,null,null,null,null,null,null,null,null,null,null,null,null,null,null,null,null,null,null,null,null,null,null,null,null,null,null,null,null,null,null,null,null,null,null,null,null,null,null,null,null,null,null,null,null,null,null,null,null,null,null,null,null,null,null,null,null,null,null,null,null,null,null,null,null,null,null,null,null,null,null,null,null,null,null,null,null,null,null,null,null,null,null,null,null,null,null,null,null,null,null,null,null,null,null,null,null,null,null,null,null,null,null,null,null,null,null,null,null,null,null,null,null,null,null,null,null,null,null,null,null,null,null,null,null,null,null,null,null,null,null,null,null,null,null,null,null,null,null,null,null,null,null,null,null,null,null,null,null,null,null,null,null,null,null,null,null,null,null,null,null,null,null,null,null,null,null,null,null,null,null,null,null,null,null,null,null,null,null,null,null,null,null,null,null,null,null,null,null,null,null,null,null,null,null,null,null,null,null,null,null,null,null,null,null,null,null,null,null,null,null,null,null,null,null,null,null,null,null,null,null,null,null,null,null,null,null,null,null,null,null,null,null,null,null,null,null,null,null,null,null,null,null,null,null,null,null,null,null,null,null,null,null,null,null,null,null,null,null,null,null,null,null,null,null,null,null,null,null,null,null,null,null,null,null,null,null,null,null,null,null,null,null,null,null,null,null,null,null,null,null,null,null,null,null,null,null,null,null,null,null,null,null,null,null,null,null,null,null,null,null,null,null,null,null,null,null,null,null,null,null,null,null,null,null,null,null,null,null,null,null,null,null,null,null,null,null,null,null,null,null,null,null,null,null,null,null,null,null,null,null,null,null,null,null,null,null,null,null,null,null,null,null,null,null,null,null,null,null,null,null,null,null,null,null,null,null,null,null,null,null,null,null,null,null,null,null,null,null,null,null,null,null,null,null,null,null,null,null,null,null,null,null,null,null,null,null,null,null,null,null,null,null,null,null,null,null,null,null,null,null,null,null,null,null,null,null,null,null,null,null,null,null,null,null,null,null,null,null,null,null,null,null,null,null,null,null,null,null,null,null,null,null,null,null,null,null,null,null,null,null,null,null,null,null,null,null,null,null,null,null,null,null,null,null,null,null,null,null,null,null,null,null,null,null,null,null,null,null,null,null,null,null,null,null,null,null,null,null,null,null,null,null,null,null,null,null,null,null,null,null,null,null,null,null,null,null,null,null,null,null,null,null,null,null,null,null,null,null,null,null,null,null,null,null,null,null,null,null,null,null,null,null,null,null,null,null,null,null,null,null,null,null,null,null,null,null,null,null,null,null,null,null,null,null,null,null,null,null,null,null,null,null,null,null,null,null,null,null,null,null,null,null,null,null,null,null,null,null,null,null,null,null,null,null,null,null,null,null,null,null,null,null,null,null,null,null,null,null,null,null,null,null,null,null,null,null,null,null,null,null,null,null,null,null,null,null,null,null,null,null,null,null,null,null,null,null,null,null,null,null,null,null,null,null,null,null,null,null,null,null,null,null,null,null,null,null,null,null,null,null,null,null,null,null,null,null,null,null,null,null,null,null,null,null,null,null,null,null,null,null,null,null,null,null,null,null,null,null,null,null,null,null,null,null,null,null,null,null,null,null,null,null,null,null,null,null,null,null,null,null,null,null,null,null,null,null,null,null,null,null,null,null,null,null,null,null,null,null,null,null,null,null,null,null,null,null,null,null,null,null,null,null,null,null,null,null,null,null,null,null,null,null,null,null,null,null,null,null,null,null,null,null,null,null,null,null,null,null,null,null,null,null,null,null,null,null,null,null,null,null,null,null,null,null,null,null,null,null,null,null,null,null,null,null,null,null,null,null,null,null,null,null,null,null,null,null,null,null,null,null,null,null,null,null,null,null,null,null,null,null,null,null,null,null,null,null,null,null,null,null,null,null,null,null,null,null,null,null,null,null,null,null,null,null,null,null,null,null,null,null,null,null,null,null,null,null,null,null,null,null,null,null,null,null,null,null,null,null,null,null,null,null,null,null,null,null,null,null,null,null,null,null,null,null,null,null,null,null,null,null,null,null,null,null,null,null,null,null,null,null,null,null,null,null,null,null,null,null,null,null,null,null,null,null,null,null,null,null,null,null,null,null,null,null,null,null,null,null,null,null,null,null,null,null,null,null,null,null,null,null,null,null],\"x\":{\"__ndarray__\":\"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\",\"dtype\":\"float64\",\"order\":\"little\",\"shape\":[1486]},\"y\":{\"__ndarray__\":\"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\",\"dtype\":\"float64\",\"order\":\"little\",\"shape\":[1486]}},\"selected\":{\"id\":\"1104\"},\"selection_policy\":{\"id\":\"1103\"}},\"id\":\"1056\",\"type\":\"ColumnDataSource\"},{\"attributes\":{},\"id\":\"1206\",\"type\":\"UnionRenderers\"},{\"attributes\":{\"tools\":[{\"id\":\"1022\"},{\"id\":\"1023\"},{\"id\":\"1024\"},{\"id\":\"1025\"},{\"id\":\"1026\"},{\"id\":\"1027\"},{\"id\":\"1054\"}]},\"id\":\"1029\",\"type\":\"Toolbar\"},{\"attributes\":{\"callback\":null,\"renderers\":[{\"id\":\"1040\"}],\"tooltips\":[[\"Idx\",\"@Idx\"]]},\"id\":\"1054\",\"type\":\"HoverTool\"},{\"attributes\":{\"coordinates\":null,\"data_source\":{\"id\":\"1166\"},\"glyph\":{\"id\":\"1167\"},\"group\":null,\"hover_glyph\":null,\"muted_glyph\":{\"id\":\"1169\"},\"nonselection_glyph\":{\"id\":\"1168\"},\"view\":{\"id\":\"1171\"}},\"id\":\"1170\",\"type\":\"GlyphRenderer\"},{\"attributes\":{\"below\":[{\"id\":\"1068\"}],\"center\":[{\"id\":\"1071\"},{\"id\":\"1075\"},{\"id\":\"1106\"},{\"id\":\"1110\"},{\"id\":\"1111\"}],\"height\":430,\"left\":[{\"id\":\"1072\"}],\"min_border_bottom\":20,\"min_border_left\":20,\"min_border_right\":20,\"min_border_top\":20,\"renderers\":[{\"id\":\"1094\"}],\"title\":{\"id\":\"1058\"},\"toolbar\":{\"id\":\"1083\"},\"toolbar_location\":null,\"width\":490,\"x_range\":{\"id\":\"1060\"},\"x_scale\":{\"id\":\"1064\"},\"y_range\":{\"id\":\"1062\"},\"y_scale\":{\"id\":\"1066\"}},\"id\":\"1057\",\"subtype\":\"Figure\",\"type\":\"Plot\"},{\"attributes\":{\"overlay\":{\"id\":\"1028\"}},\"id\":\"1024\",\"type\":\"BoxZoomTool\"},{\"attributes\":{\"axis_label\":\"PC 1 (29.1%)\",\"axis_label_text_font_size\":\"13pt\",\"coordinates\":null,\"formatter\":{\"id\":\"1101\"},\"group\":null,\"major_label_policy\":{\"id\":\"1102\"},\"ticker\":{\"id\":\"1069\"}},\"id\":\"1068\",\"type\":\"LinearAxis\"},{\"attributes\":{\"data\":{\"x\":{\"__ndarray__\":\"rh8T25nLK8CSefqGLMkrwO2C4pY30SvAp59EwLLjK8B+8iT2igAswPiptXyiJyzA7Gn9B9FYLMBwOWHl45MswHIj5y+e2CzAB6v7DrkmLcCsXnn/430twLhCpybF3S3AqIXYrvlFLsDPA04tFrYuwPyU8BCnLS/AFAByGTGsL8Dk4yzrmBgwwIVsvRYQXjDAY8AjdDamMMDJ/LijwfAwwB6yIM5kPTHAEo5+89CLMcAYjeU8tdsxwHrBrE+/LDLAn8lTopt+MsBfc5/S9dAywCrIlfx4IzPAuNf/EdB1M8D1DBcypsczwBCsAwGnGDTAwkjS/n5oNMBQkYbd27Y0wDm08tVsAzXA0uv7+uJNNcA1WvaK8ZU1wMVXxD5O2zXAjqRnlrEdNsBNj7Ui11w2wFMY4st9mDbAlFiZFGjQNsD+AWJZXAQ3wISiBwwlNDfAwmrP6pBfN8Dfjz4zc4Y3wKjxPdCjqDfANXVrg//FN8CwfG4JaN43wCkJKjnE8TfAKl6sHQAAOMDEasEKDQk4wF3DEqzhDDjA4pTFDnoLOMCdp4yl1wQ4wHs/KkcB+TfAsGNjJwPoN8AY0mvK7tE3wJSV1/LatjfAT9wkiuOWN8ArPfaDKXI3wCYVG7zSSDfARgCJzwkbN8CYqG7w/eg2wPUyjbXisjbAFnAK5e94NsBIo/I6YTs2wLEipSt2+jXAUkpronG2NcD9Ln28mW81wMAsu4A3JjXAmtFmlJbaNMBvvSjtBI00wKzYs4DSPTTAcrhY8lDtM8BGJ94+05szwL2R9WatSTPAtYWjGDT3MsDGhvVXvKQywPcyXyebUjLA8g0ZMCUBMsBjR9tqrrAxwFVyTsmJYTHAx2eL4AgUMcBTdwKVe8gwwBiWIMgvfzDAtnAHCHE4MMAoQ1aDEOkvwMSoS+t2Zy/Ac6gd4JrsLsCWzT4H+3guwNnd2JAODS7AGkDwvESpLcDiKrZoBE4twFjRf6Sr+yzA+tvPUo+yLMDdINbQ+nIswO7Nv6gvPSzARhooTmURLMDGIu/kyO8rwCLesRJ92CvArh8T25nLK8A=\",\"dtype\":\"float64\",\"order\":\"little\",\"shape\":[100]},\"y\":{\"__ndarray__\":\"01/ipGgQEcAXl7oDBTgQwLqPVS4Ivg7A4Ri2IIsMDcD4sQO4UV0LwPa+KHgYsgnActRVxZcMCMBysAoegm4GwBBsM1uC2QTAuJYn+DlPA8Ciy1BkP9EBwJteNGAcYQDAWgAgz5gA/r8efldUdmD7v/ZG6SmG5Pi/jK/E2VeP9r+w9C/6UmP0v+rDOLO0YvK/dMfhb42P8L/8etx6fdftv3gy+rXy8eq/oL7m9nZx6L/YJQN3nljmv7iltJqSqeS/2Nnxtg9m478Y1ztHY4/ivxBg25VqJuK/ZI7E15Er4r+MFAy9057iv3gTYXa5f+O/jN6FL1vN5L9Ub0n+YIbmv1QxC0UEqei/jLVbhxEz67/IOteu6iHuv7yk8d5EufC/fK3D9sGQ8r9gDpWZhpX0v1LjSBV+xfa/IlEPMGce+b+U12l71p37v+BWsdI4Qf6/DMpFAeuCAMAW60nLafQBwPBpKeWbcwPAHuM+Tfb+BMDklal54ZQGwHLjZvy6MwjAKt+lMtfZCcA5UZj9goULwFvE+oIFNQ3AdkOF86HmDsB7KriqTEwQwFHGmiiWJBHAJmBYf077EcCiQ2NYmM8SwM4Z296YoBPAP3EgoXhtFMB0SupuZDUVwIC6+DKO9xXArzuExy2zFsCZsI7EgWcXwNBsQUfQExjA6r+KsWe3GMCdfTVhn1EZwIrGvV3Y4RnAk+Ev/H1nGsCmOWh4BuIawAqHFoPzUBvARsDxw9KzG8CCm5ZPPgocwMYflxDdUxzAlPlOI2OQHMD46R0kkr8cwFast2854RzAtAdHVTb1HMC6XDA6dPscwNDTTq/s8xzAcEaWd6feHMCcDROAurscwKD0T8lJixzAnpw5QodNHMBNkqWUsgIcwO8ksuMYqxvAfqRCfBRHG8A8/ul3DNcawHSro1J0WxrAHIDIc8vUGcC6D7qqnEMZwJAJzJ99qBjAmwv/OQ4EGMDA8iv691YXwJSRSUztoRbAmuqAz6jlFcDrhM2V7CIVwNgo8FuBWhTAWDyCujWNE8CODP9Q3bsSwGKLnutP5xHA1F/ipGgQEcA=\",\"dtype\":\"float64\",\"order\":\"little\",\"shape\":[100]}},\"selected\":{\"id\":\"1199\"},\"selection_policy\":{\"id\":\"1198\"}},\"id\":\"1124\",\"type\":\"ColumnDataSource\"},{\"attributes\":{\"fill_alpha\":0.07,\"fill_color\":\"blue\",\"hatch_alpha\":0.07,\"hatch_color\":\"blue\",\"line_alpha\":0.07,\"line_color\":\"blue\",\"x\":{\"field\":\"x\"},\"y\":{\"field\":\"y\"}},\"id\":\"1149\",\"type\":\"Patch\"},{\"attributes\":{\"line_alpha\":0.2,\"line_color\":\"green\",\"x\":{\"field\":\"x\"},\"y\":{\"field\":\"y\"}},\"id\":\"1169\",\"type\":\"Line\"},{\"attributes\":{},\"id\":\"1194\",\"type\":\"UnionRenderers\"},{\"attributes\":{\"line_alpha\":0.2,\"line_color\":\"green\",\"line_width\":2,\"x\":{\"field\":\"x\"},\"y\":{\"field\":\"y\"}},\"id\":\"1163\",\"type\":\"Line\"},{\"attributes\":{},\"id\":\"1216\",\"type\":\"UnionRenderers\"},{\"attributes\":{\"fill_alpha\":0.07,\"fill_color\":\"green\",\"hatch_alpha\":0.07,\"hatch_color\":\"green\",\"line_alpha\":0.07,\"line_color\":\"green\",\"x\":{\"field\":\"x\"},\"y\":{\"field\":\"y\"}},\"id\":\"1173\",\"type\":\"Patch\"},{\"attributes\":{},\"id\":\"1195\",\"type\":\"Selection\"},{\"attributes\":{},\"id\":\"1027\",\"type\":\"HelpTool\"},{\"attributes\":{\"coordinates\":null,\"data_source\":{\"id\":\"1154\"},\"glyph\":{\"id\":\"1155\"},\"group\":null,\"hover_glyph\":null,\"muted_glyph\":{\"id\":\"1157\"},\"nonselection_glyph\":{\"id\":\"1156\"},\"view\":{\"id\":\"1159\"}},\"id\":\"1158\",\"type\":\"GlyphRenderer\"},{\"attributes\":{\"fill_alpha\":0.1,\"fill_color\":\"red\",\"hatch_alpha\":0.1,\"hatch_color\":\"red\",\"line_alpha\":0.1,\"line_color\":\"red\",\"x\":{\"field\":\"x\"},\"y\":{\"field\":\"y\"}},\"id\":\"1126\",\"type\":\"Patch\"},{\"attributes\":{\"fill_alpha\":{\"value\":0.1},\"fill_color\":{\"field\":\"col\"},\"hatch_alpha\":{\"value\":0.1},\"hatch_color\":{\"field\":\"col\"},\"line_alpha\":{\"value\":0.1},\"line_color\":{\"field\":\"col\"},\"marker\":{\"value\":\"triangle\"},\"size\":{\"value\":7},\"x\":{\"field\":\"x\"},\"y\":{\"field\":\"y\"}},\"id\":\"1092\",\"type\":\"Scatter\"},{\"attributes\":{},\"id\":\"1006\",\"type\":\"DataRange1d\"},{\"attributes\":{\"coordinates\":null,\"data_source\":{\"id\":\"1142\"},\"glyph\":{\"id\":\"1143\"},\"group\":null,\"hover_glyph\":null,\"muted_glyph\":{\"id\":\"1145\"},\"nonselection_glyph\":{\"id\":\"1144\"},\"view\":{\"id\":\"1147\"}},\"id\":\"1146\",\"type\":\"GlyphRenderer\"},{\"attributes\":{\"axis_label\":\"PC 1 (29.1%)\",\"axis_label_text_font_size\":\"13pt\",\"coordinates\":null,\"formatter\":{\"id\":\"1047\"},\"group\":null,\"major_label_policy\":{\"id\":\"1048\"},\"ticker\":{\"id\":\"1015\"}},\"id\":\"1014\",\"type\":\"LinearAxis\"},{\"attributes\":{\"data\":{\"x\":{\"__ndarray__\":\"uwaxtkBySECWdh7vW3VIQD1MreKEZEhAIJ5J7cw/SEDwsaHoWQdIQHanIQVmu0dAker3jT9cR0BMQWCYSOpGQJuniJ72ZUZA4TF4BtLPRUCnynSVdShFQFm7eNCNcERAOnVcStioQ0D762vgItJCQJjyMOZK7UFAYVpNQTz7QEC2BKDs4Pk/QAgB/07b5j1ApA9HDYu/O0AdK8d1KIY5QApzu3f+PDdA0tJGRmjmNEACa6jqzoQyQAGyLcimGjBASOnhKNpUK0Bw3v+MSm0mQP0tH/+sgyFA30ijvyM6GUAwCu7VGfoOQDi8hbl9aPc/0DPQ/a0l7b/UHie8UesJwGKRe3cfDxbAluUVSbjnHsAFvc92KrsjwFVh46ER2SfApzrzQlPJK8CtjOEE4IcvwMao0edtiDHAkFVm4VAwM8DgApn747k0wFhU34GRIzbAaAzwoORrN8DaDRTnipE4wHyDBqFVkznApI38ETtwOsBmz5KFVyc7wNB8hjrutzvAAvVHJWohPMAeVp6JXmM8wI6rvWqHfTzAritc0clvPMD4Rn7nMzo8wP7g3On83DvAbMD07oRYO8DS5/mDVK06wErxFCAc3DnAioZ7brPlOMDSdx9wGMs3wC6d2XVujTbAxmge9PwtNcBWt3ExLq4zwB7S9dCNDzLANJaWOsdTMMAhT+rER/kswL2xtOISGCnA97sroO8HJcAnsZwvDs0gwPLGiKWV1xjA2EaXcKWiD8BQd748hEL6v/D9oRKtB+c/7rPpg2rzCEBk2XxXuS8WQNbsUj//+B9Aeb0MPrjlJEA+XWKOds4pQLaFNxarsS5ASFlKCCbFMUCCrcFPrSk0QLJNK/nzgzZAWPazLY3ROEB+BwUoGRA7QJhgxaZHPT1AGtIbT9pWP0D56F5+U61AQAMSlP5Mo0FA1lHaGVyMQkBwGSySkGdDQLD6dnEINERA/KOI8vDwREBVH1Nah51FQCFeqMAZOUZAUiaexwfDRkAQVt1AwzpHQDYWMsDQn0dA8ubFGsjxR0C/YIDSVDBIQKT5H202W0hAuwaxtkBySEA=\",\"dtype\":\"float64\",\"order\":\"little\",\"shape\":[100]},\"y\":{\"__ndarray__\":\"iNiJy5B+4b9GQU1FWm7rP4qULZiJIgJAdGSh85RpDUBWnUdOjFIUQBr/QTfA5BlAAMecC6hlH0C4SmK7y2ciQIzY5uh8DiVAAcAR8iukJ0CTuPDCLiYqQFVEA4/vkSxAFwJte+/kLkAmqcCYZI4wQJC7gKuZmzFAaLrAdAGZMkAw2kK9loUzQJrUBaVlYDRAliupnowoNUAIOe5XPd01QGBfZo69fTZA8B5zz2cJN0DIJNIirH83QJKFBZ8Q4DdA8ij/5jEqOEDE2o2Qw104QJxsInOQejhAMLWb3nqAOEAa8eC5fG84QDL5KomnRzhAqtP1WyQJOEDWPK2iM7Q3QAbJP+wsSTdAfhjdi37INkB6JzwnrTI2QCr13i1TiDVAGnXgOSDKNED45PBa2PgzQNAeO0xTFTNA7jwDlnsgMkCgy+ObTRsxQPq+opjWBjBAgrlUEWfILUANXogIIGkrQJyliRVK8ihAuPbNf29mJkCFgkQ5MMgjQC51rik/GiFAmnTXzL6+HEA+9zSzwjQXQHZj8bY/nBFA/iMVBPX1B0Bei0sXA1v5P4B6qe5nrMY/+OypGkGN879MggvhKdsEwGSep4Vpxw/ASroUhg5AFcB+lDSUG30awHSQy4p1lR/AzPIN7u1BIsA7RYicnKEkwNUHVGdU5ybAfmuyqL0QKcD0tMfonRsrwMdIqCnaBS3Ai2vzEnnNLsCQfV99UjgwwMST3eTW9jDAsI1NXIWhMcBYuHvyrTcywKCKBN61uDLAtlrjHBgkM8AC3Y39ZXkzwEoXD5FHuDPAyiisBXzgM8Bad7Xp2fEzwAJhP1ZP7DPAcGiWAeLPM8Bw1ls5r5wzwDDiUMTrUjPAloPvq+PyMsAIBAnu+XwywIQZuxao8THAIrwkw31RMcDI3VsNIJ0wwLs8ecSRqi/AVdiCg4z1LcAVQVPV8hwswJz7kuSrIirA0czlksEIKMBdQ/NeXtElwBLp0CjLfiPApU8b12wTIcAQ6la+gyMdwEaF52W/+BfAxSdWLuCrEsAccxKSuYQKwKgKSbYlB/+/uNiJy5B+4b8=\",\"dtype\":\"float64\",\"order\":\"little\",\"shape\":[100]}},\"selected\":{\"id\":\"1209\"},\"selection_policy\":{\"id\":\"1208\"}},\"id\":\"1154\",\"type\":\"ColumnDataSource\"},{\"attributes\":{},\"id\":\"1197\",\"type\":\"Selection\"},{\"attributes\":{},\"id\":\"1066\",\"type\":\"LinearScale\"},{\"attributes\":{\"line_alpha\":0.4,\"line_color\":\"blue\",\"x\":{\"field\":\"x\"},\"y\":{\"field\":\"y\"}},\"id\":\"1143\",\"type\":\"Line\"},{\"attributes\":{},\"id\":\"1076\",\"type\":\"PanTool\"},{\"attributes\":{\"fill_alpha\":{\"value\":0.1},\"fill_color\":{\"field\":\"col\"},\"hatch_alpha\":{\"value\":0.1},\"hatch_color\":{\"field\":\"col\"},\"line_alpha\":{\"value\":0.1},\"line_color\":{\"field\":\"col\"},\"size\":{\"value\":5},\"x\":{\"field\":\"x\"},\"y\":{\"field\":\"y\"}},\"id\":\"1038\",\"type\":\"Circle\"},{\"attributes\":{\"fill_alpha\":{\"value\":0.2},\"fill_color\":{\"field\":\"col\"},\"hatch_alpha\":{\"value\":0.2},\"hatch_color\":{\"field\":\"col\"},\"line_alpha\":{\"value\":0.2},\"line_color\":{\"field\":\"col\"},\"size\":{\"value\":5},\"x\":{\"field\":\"x\"},\"y\":{\"field\":\"y\"}},\"id\":\"1039\",\"type\":\"Circle\"},{\"attributes\":{\"line_alpha\":0.1,\"line_color\":\"green\",\"line_width\":2,\"x\":{\"field\":\"x\"},\"y\":{\"field\":\"y\"}},\"id\":\"1162\",\"type\":\"Line\"},{\"attributes\":{\"fill_alpha\":0.07,\"fill_color\":\"red\",\"hatch_alpha\":0.07,\"hatch_color\":\"red\",\"line_alpha\":0.07,\"line_color\":\"red\",\"x\":{\"field\":\"x\"},\"y\":{\"field\":\"y\"}},\"id\":\"1125\",\"type\":\"Patch\"},{\"attributes\":{\"coordinates\":null,\"data_source\":{\"id\":\"1002\"},\"glyph\":{\"id\":\"1037\"},\"group\":null,\"hover_glyph\":null,\"muted_glyph\":{\"id\":\"1039\"},\"nonselection_glyph\":{\"id\":\"1038\"},\"view\":{\"id\":\"1041\"}},\"id\":\"1040\",\"type\":\"GlyphRenderer\"},{\"attributes\":{\"coordinates\":null,\"data_source\":{\"id\":\"1172\"},\"glyph\":{\"id\":\"1173\"},\"group\":null,\"hover_glyph\":null,\"muted_glyph\":{\"id\":\"1175\"},\"nonselection_glyph\":{\"id\":\"1174\"},\"view\":{\"id\":\"1177\"}},\"id\":\"1176\",\"type\":\"GlyphRenderer\"},{\"attributes\":{\"coordinates\":null,\"dimension\":\"height\",\"group\":null,\"line_alpha\":0.15,\"line_width\":3,\"location\":0},\"id\":\"1111\",\"type\":\"Span\"},{\"attributes\":{\"bottom_units\":\"screen\",\"coordinates\":null,\"fill_alpha\":0.5,\"fill_color\":\"lightgrey\",\"group\":null,\"left_units\":\"screen\",\"level\":\"overlay\",\"line_alpha\":1.0,\"line_color\":\"black\",\"line_dash\":[4,4],\"line_width\":2,\"right_units\":\"screen\",\"syncable\":false,\"top_units\":\"screen\"},\"id\":\"1082\",\"type\":\"BoxAnnotation\"},{\"attributes\":{\"data\":{\"x\":{\"__ndarray__\":\"/ARp2TANK0Ag/oKM7SArQD6TguMYKitAqnS3aqkoK0D25+2coBwrQN5O6OEKBitADoOVgf/kKkBgNRGMoLkqQIoNh7YahCpAJ7wcLaVEKkCzgBJagfspQKTDVKL6qClAIkfEF2ZNKUBgC4UhIukoQJtLrhqWfChApOO/5zEIKEAZ8UqDbYwnQOKVRILICSdA71iCkMmAJkCctufl/fElQG7607T4XSVACHFmklLFJEA8WzXZqCgkQHfEGQediCNAYXC3FtTlIkBieWzV9UAiQD7uVzasmiFA9rwpo6LzIEBbgXBLhUwgQG23NuYATB9AMIzNgX8BHkBd6dYa27ocQLhMC2dkeRtAdM+TxWY+GkBRWnTpJgsZQKqk1orh4BdApgSPIMrAFkB6myujCawVQKiT1Fq9oxRAGgA5ufWoE0Dbf7dAtbwSQH0l5Hnv3xFAElN++IcTEUBoUdlwUVgQQHrqUr0ZXg9AhG0rfNEwDkB0l7WvACoNQBJYckK2SgxAzAOmYNiTC0DW6hOLIwYLQG47rtQpogpA3HwCTFJoCkCG2v2Q2FgKQDjBdpfMcwpAxCm7lhK5CkC6hDQmYygLQPTAA4dLwQtAgoxJGi6DDEAc4qADQ20NQKRmJPeYfg5A+DcqMha2D0Ao49rOPIkQQHQpugwuSRFA2nH39hgaEkCwCDoyJvsSQGqZisFt6xNASJ129ffpFEAjIGJrvvUVQIqrABytDRdAuIjed6MwGEBOC9WQdV0ZQE5FN0/tkhpAenB4scvPG0AWjAIVyhIdQCM26oabWh5AVKskG+6lH0DyEW8ktnkgQBa9RCXfICFA1hgfwMXHIUAdynvpvW0iQLlZo4scEiNAw9YENzi0I0CMT97QaVMkQJwWfj8N7yRAMkNrE4KGJUAdDscsLBkmQJ2QPFx0piZA4P/Y/sgtJ0DuviuUnq4nQKWGE05wKChA12ekmcCaKEBviZmgGQUpQHEzzcINZylAZvA5BzjAKUBqSBCEPBAqQOnKdb3IVipAVLyL+pOTKkBTwmWQX8YqQEhIoyL37ipA/ARp2TANK0A=\",\"dtype\":\"float64\",\"order\":\"little\",\"shape\":[100]},\"y\":{\"__ndarray__\":\"wC+D3Vwi3r989YIc8A7Wv9h0gYts+8q/kMyBsRDesb/wdSMlY+mzP9ATA3FInM0/xLlfy7z52D+Y0AZVU7nhP5jjrCQLF+c/UsK3xX2Q7D+zzc9JAxDxP3EwtRL13/M/D5AnGy619j/dFt3Pwoz5P498RC/FY/w/fGWkzkc3/z/UoU9vMAIBQECz/5UWZAJAcl3ZjOm/A0DYYXLIQhQFQCzBF3LDXwZAFKt00RWhB0CjHNOs7tYIQLQRi54OAApA4FNAXkMbC0Bsg5v8aCcMQBHmOBBrIw1AMsaW0kUODkAVrN0rB+cOQORnbqzPrA9AuFaauWkvEEDWauh/LX4QQP4Q4PdhwhBAPkLg0sD7EEBTsGHtDioRQBHt7IscTRFAioFOjMVkEUDIPNaK8XARQNVUe/uTcRFAim/LNqxmEUAoPpd6RVARQK/5W952LhFA/LF1O2MBEUAm+TIJOckQQOby7iwyhhBA3CdjvpM4EEDBQ92AW8EPQDJ4N521/Q5AzVdzf/8mDkAIFNR7Fj4NQAgFG6nqQwxAMIYK6X05C0AQbZHe4h8KQOggsdI7+AhANSZCibnDB0ACk8sGmoMGQBtDsUgnOQVA1LgK8bXlA0AhT4Hno4oCQM+xn/BWKQFArdMMenaG/z9aTwPkg7P8P/SOBlq/3Pk/CaASBxYF9z9puPkBdi/0P23uLkjLXvE/UsB1dfkr7T+LMupA0q/nPxsvL2HITuI/aM/kos4c2j+AlX+JY9DPP0B21iz9KLg/gOxR5eeWq7+wHSowtgrJv2TtrPPgI9W/mC9eB4xF3b8wKoE//XDiv6S9K++p+OW/nCSyiyg26b9UAnkFIibsv3yfsDWPxe6/5Pev/t2I8L+ITmwHJYTxv2BTWq+ZU/K/EKrsHGb28r+ggCx/4mvzv/SmtrqVs/O/YIWS5jXN878YQmKYqLjzv2yMnf8CdvO/Lvy6z4kF87/oh175sGfyv4oS1jIbnfG/3EJfUJmm8L+cFMfZUgrvvxSDEMjrc+y/YLtBPaiM6b8YjYBlhlfmv2QqqLHU1+K/yC+D3Vwi3r8=\",\"dtype\":\"float64\",\"order\":\"little\",\"shape\":[100]}},\"selected\":{\"id\":\"1215\"},\"selection_policy\":{\"id\":\"1214\"}},\"id\":\"1172\",\"type\":\"ColumnDataSource\"},{\"attributes\":{},\"id\":\"1204\",\"type\":\"UnionRenderers\"},{\"attributes\":{\"data\":{\"x\":{\"__ndarray__\":\"rh8T25nLK8CSefqGLMkrwO2C4pY30SvAp59EwLLjK8B+8iT2igAswPiptXyiJyzA7Gn9B9FYLMBwOWHl45MswHIj5y+e2CzAB6v7DrkmLcCsXnn/430twLhCpybF3S3AqIXYrvlFLsDPA04tFrYuwPyU8BCnLS/AFAByGTGsL8Dk4yzrmBgwwIVsvRYQXjDAY8AjdDamMMDJ/LijwfAwwB6yIM5kPTHAEo5+89CLMcAYjeU8tdsxwHrBrE+/LDLAn8lTopt+MsBfc5/S9dAywCrIlfx4IzPAuNf/EdB1M8D1DBcypsczwBCsAwGnGDTAwkjS/n5oNMBQkYbd27Y0wDm08tVsAzXA0uv7+uJNNcA1WvaK8ZU1wMVXxD5O2zXAjqRnlrEdNsBNj7Ui11w2wFMY4st9mDbAlFiZFGjQNsD+AWJZXAQ3wISiBwwlNDfAwmrP6pBfN8Dfjz4zc4Y3wKjxPdCjqDfANXVrg//FN8CwfG4JaN43wCkJKjnE8TfAKl6sHQAAOMDEasEKDQk4wF3DEqzhDDjA4pTFDnoLOMCdp4yl1wQ4wHs/KkcB+TfAsGNjJwPoN8AY0mvK7tE3wJSV1/LatjfAT9wkiuOWN8ArPfaDKXI3wCYVG7zSSDfARgCJzwkbN8CYqG7w/eg2wPUyjbXisjbAFnAK5e94NsBIo/I6YTs2wLEipSt2+jXAUkpronG2NcD9Ln28mW81wMAsu4A3JjXAmtFmlJbaNMBvvSjtBI00wKzYs4DSPTTAcrhY8lDtM8BGJ94+05szwL2R9WatSTPAtYWjGDT3MsDGhvVXvKQywPcyXyebUjLA8g0ZMCUBMsBjR9tqrrAxwFVyTsmJYTHAx2eL4AgUMcBTdwKVe8gwwBiWIMgvfzDAtnAHCHE4MMAoQ1aDEOkvwMSoS+t2Zy/Ac6gd4JrsLsCWzT4H+3guwNnd2JAODS7AGkDwvESpLcDiKrZoBE4twFjRf6Sr+yzA+tvPUo+yLMDdINbQ+nIswO7Nv6gvPSzARhooTmURLMDGIu/kyO8rwCLesRJ92CvArh8T25nLK8A=\",\"dtype\":\"float64\",\"order\":\"little\",\"shape\":[100]},\"y\":{\"__ndarray__\":\"01/ipGgQEcAXl7oDBTgQwLqPVS4Ivg7A4Ri2IIsMDcD4sQO4UV0LwPa+KHgYsgnActRVxZcMCMBysAoegm4GwBBsM1uC2QTAuJYn+DlPA8Ciy1BkP9EBwJteNGAcYQDAWgAgz5gA/r8efldUdmD7v/ZG6SmG5Pi/jK/E2VeP9r+w9C/6UmP0v+rDOLO0YvK/dMfhb42P8L/8etx6fdftv3gy+rXy8eq/oL7m9nZx6L/YJQN3nljmv7iltJqSqeS/2Nnxtg9m478Y1ztHY4/ivxBg25VqJuK/ZI7E15Er4r+MFAy9057iv3gTYXa5f+O/jN6FL1vN5L9Ub0n+YIbmv1QxC0UEqei/jLVbhxEz67/IOteu6iHuv7yk8d5EufC/fK3D9sGQ8r9gDpWZhpX0v1LjSBV+xfa/IlEPMGce+b+U12l71p37v+BWsdI4Qf6/DMpFAeuCAMAW60nLafQBwPBpKeWbcwPAHuM+Tfb+BMDklal54ZQGwHLjZvy6MwjAKt+lMtfZCcA5UZj9goULwFvE+oIFNQ3AdkOF86HmDsB7KriqTEwQwFHGmiiWJBHAJmBYf077EcCiQ2NYmM8SwM4Z296YoBPAP3EgoXhtFMB0SupuZDUVwIC6+DKO9xXArzuExy2zFsCZsI7EgWcXwNBsQUfQExjA6r+KsWe3GMCdfTVhn1EZwIrGvV3Y4RnAk+Ev/H1nGsCmOWh4BuIawAqHFoPzUBvARsDxw9KzG8CCm5ZPPgocwMYflxDdUxzAlPlOI2OQHMD46R0kkr8cwFast2854RzAtAdHVTb1HMC6XDA6dPscwNDTTq/s8xzAcEaWd6feHMCcDROAurscwKD0T8lJixzAnpw5QodNHMBNkqWUsgIcwO8ksuMYqxvAfqRCfBRHG8A8/ul3DNcawHSro1J0WxrAHIDIc8vUGcC6D7qqnEMZwJAJzJ99qBjAmwv/OQ4EGMDA8iv691YXwJSRSUztoRbAmuqAz6jlFcDrhM2V7CIVwNgo8FuBWhTAWDyCujWNE8CODP9Q3bsSwGKLnutP5xHA1F/ipGgQEcA=\",\"dtype\":\"float64\",\"order\":\"little\",\"shape\":[100]}},\"selected\":{\"id\":\"1195\"},\"selection_policy\":{\"id\":\"1194\"}},\"id\":\"1112\",\"type\":\"ColumnDataSource\"},{\"attributes\":{},\"id\":\"1200\",\"type\":\"UnionRenderers\"},{\"attributes\":{},\"id\":\"1073\",\"type\":\"BasicTicker\"},{\"attributes\":{\"toolbar\":{\"id\":\"1232\"},\"toolbar_location\":\"above\"},\"id\":\"1233\",\"type\":\"ToolbarBox\"},{\"attributes\":{},\"id\":\"1010\",\"type\":\"LinearScale\"},{\"attributes\":{\"fill_alpha\":0.1,\"fill_color\":\"green\",\"hatch_alpha\":0.1,\"hatch_color\":\"green\",\"line_alpha\":0.1,\"line_color\":\"green\",\"x\":{\"field\":\"x\"},\"y\":{\"field\":\"y\"}},\"id\":\"1174\",\"type\":\"Patch\"},{\"attributes\":{},\"id\":\"1198\",\"type\":\"UnionRenderers\"},{\"attributes\":{},\"id\":\"1077\",\"type\":\"WheelZoomTool\"},{\"attributes\":{},\"id\":\"1208\",\"type\":\"UnionRenderers\"},{\"attributes\":{\"coordinates\":null,\"data_source\":{\"id\":\"1148\"},\"glyph\":{\"id\":\"1149\"},\"group\":null,\"hover_glyph\":null,\"muted_glyph\":{\"id\":\"1151\"},\"nonselection_glyph\":{\"id\":\"1150\"},\"view\":{\"id\":\"1153\"}},\"id\":\"1152\",\"type\":\"GlyphRenderer\"},{\"attributes\":{},\"id\":\"1104\",\"type\":\"Selection\"},{\"attributes\":{},\"id\":\"1012\",\"type\":\"LinearScale\"},{\"attributes\":{\"fill_alpha\":0.2,\"fill_color\":\"green\",\"hatch_alpha\":0.2,\"hatch_color\":\"green\",\"line_alpha\":0.2,\"line_color\":\"green\",\"x\":{\"field\":\"x\"},\"y\":{\"field\":\"y\"}},\"id\":\"1175\",\"type\":\"Patch\"},{\"attributes\":{},\"id\":\"1212\",\"type\":\"UnionRenderers\"},{\"attributes\":{\"source\":{\"id\":\"1124\"}},\"id\":\"1129\",\"type\":\"CDSView\"},{\"attributes\":{\"data\":{\"x\":{\"__ndarray__\":\"uwaxtkBySECWdh7vW3VIQD1MreKEZEhAIJ5J7cw/SEDwsaHoWQdIQHanIQVmu0dAker3jT9cR0BMQWCYSOpGQJuniJ72ZUZA4TF4BtLPRUCnynSVdShFQFm7eNCNcERAOnVcStioQ0D762vgItJCQJjyMOZK7UFAYVpNQTz7QEC2BKDs4Pk/QAgB/07b5j1ApA9HDYu/O0AdK8d1KIY5QApzu3f+PDdA0tJGRmjmNEACa6jqzoQyQAGyLcimGjBASOnhKNpUK0Bw3v+MSm0mQP0tH/+sgyFA30ijvyM6GUAwCu7VGfoOQDi8hbl9aPc/0DPQ/a0l7b/UHie8UesJwGKRe3cfDxbAluUVSbjnHsAFvc92KrsjwFVh46ER2SfApzrzQlPJK8CtjOEE4IcvwMao0edtiDHAkFVm4VAwM8DgApn747k0wFhU34GRIzbAaAzwoORrN8DaDRTnipE4wHyDBqFVkznApI38ETtwOsBmz5KFVyc7wNB8hjrutzvAAvVHJWohPMAeVp6JXmM8wI6rvWqHfTzAritc0clvPMD4Rn7nMzo8wP7g3On83DvAbMD07oRYO8DS5/mDVK06wErxFCAc3DnAioZ7brPlOMDSdx9wGMs3wC6d2XVujTbAxmge9PwtNcBWt3ExLq4zwB7S9dCNDzLANJaWOsdTMMAhT+rER/kswL2xtOISGCnA97sroO8HJcAnsZwvDs0gwPLGiKWV1xjA2EaXcKWiD8BQd748hEL6v/D9oRKtB+c/7rPpg2rzCEBk2XxXuS8WQNbsUj//+B9Aeb0MPrjlJEA+XWKOds4pQLaFNxarsS5ASFlKCCbFMUCCrcFPrSk0QLJNK/nzgzZAWPazLY3ROEB+BwUoGRA7QJhgxaZHPT1AGtIbT9pWP0D56F5+U61AQAMSlP5Mo0FA1lHaGVyMQkBwGSySkGdDQLD6dnEINERA/KOI8vDwREBVH1Nah51FQCFeqMAZOUZAUiaexwfDRkAQVt1AwzpHQDYWMsDQn0dA8ubFGsjxR0C/YIDSVDBIQKT5H202W0hAuwaxtkBySEA=\",\"dtype\":\"float64\",\"order\":\"little\",\"shape\":[100]},\"y\":{\"__ndarray__\":\"iNiJy5B+4b9GQU1FWm7rP4qULZiJIgJAdGSh85RpDUBWnUdOjFIUQBr/QTfA5BlAAMecC6hlH0C4SmK7y2ciQIzY5uh8DiVAAcAR8iukJ0CTuPDCLiYqQFVEA4/vkSxAFwJte+/kLkAmqcCYZI4wQJC7gKuZmzFAaLrAdAGZMkAw2kK9loUzQJrUBaVlYDRAliupnowoNUAIOe5XPd01QGBfZo69fTZA8B5zz2cJN0DIJNIirH83QJKFBZ8Q4DdA8ij/5jEqOEDE2o2Qw104QJxsInOQejhAMLWb3nqAOEAa8eC5fG84QDL5KomnRzhAqtP1WyQJOEDWPK2iM7Q3QAbJP+wsSTdAfhjdi37INkB6JzwnrTI2QCr13i1TiDVAGnXgOSDKNED45PBa2PgzQNAeO0xTFTNA7jwDlnsgMkCgy+ObTRsxQPq+opjWBjBAgrlUEWfILUANXogIIGkrQJyliRVK8ihAuPbNf29mJkCFgkQ5MMgjQC51rik/GiFAmnTXzL6+HEA+9zSzwjQXQHZj8bY/nBFA/iMVBPX1B0Bei0sXA1v5P4B6qe5nrMY/+OypGkGN879MggvhKdsEwGSep4Vpxw/ASroUhg5AFcB+lDSUG30awHSQy4p1lR/AzPIN7u1BIsA7RYicnKEkwNUHVGdU5ybAfmuyqL0QKcD0tMfonRsrwMdIqCnaBS3Ai2vzEnnNLsCQfV99UjgwwMST3eTW9jDAsI1NXIWhMcBYuHvyrTcywKCKBN61uDLAtlrjHBgkM8AC3Y39ZXkzwEoXD5FHuDPAyiisBXzgM8Bad7Xp2fEzwAJhP1ZP7DPAcGiWAeLPM8Bw1ls5r5wzwDDiUMTrUjPAloPvq+PyMsAIBAnu+XwywIQZuxao8THAIrwkw31RMcDI3VsNIJ0wwLs8ecSRqi/AVdiCg4z1LcAVQVPV8hwswJz7kuSrIirA0czlksEIKMBdQ/NeXtElwBLp0CjLfiPApU8b12wTIcAQ6la+gyMdwEaF52W/+BfAxSdWLuCrEsAccxKSuYQKwKgKSbYlB/+/uNiJy5B+4b8=\",\"dtype\":\"float64\",\"order\":\"little\",\"shape\":[100]}},\"selected\":{\"id\":\"1205\"},\"selection_policy\":{\"id\":\"1204\"}},\"id\":\"1142\",\"type\":\"ColumnDataSource\"},{\"attributes\":{\"source\":{\"id\":\"1148\"}},\"id\":\"1153\",\"type\":\"CDSView\"},{\"attributes\":{\"source\":{\"id\":\"1056\"}},\"id\":\"1095\",\"type\":\"CDSView\"},{\"attributes\":{},\"id\":\"1103\",\"type\":\"UnionRenderers\"},{\"attributes\":{\"fill_alpha\":0.2,\"fill_color\":\"red\",\"hatch_alpha\":0.2,\"hatch_color\":\"red\",\"line_alpha\":0.2,\"line_color\":\"red\",\"x\":{\"field\":\"x\"},\"y\":{\"field\":\"y\"}},\"id\":\"1127\",\"type\":\"Patch\"},{\"attributes\":{\"data\":{\"x\":{\"__ndarray__\":\"HBqiuX1rLkDmXgxgGG0uQG5+xShmZC5AKFqiCnBRLkC2ul2RSTQuQPRbcskQDS5A9FkhIe7bLUDg7MQ+FKEtQMJpmsy/XC1AUlo5OjcPLUAAIvhzyrgsQIQIiZDSWSxA9pYkdbHyK0Cu8Z9w0YMrQM80182kDStAwsncXaWQKkDxJ2f6Uw0qQMpx/gA4hClAX9hyx971KEBknCsK22IoQPDa5FTEyydAxhF4ZjYxJ0A9Y1CQ0JMmQDwYMBI19CVAm6rwcghTJUCUv+nW8LAkQGPlrVSVDiRAw57NSJ1sI0AlSFKpr8siQBatollyLCJAJbeCf4mPIUDle97ZlvUgQBUWDxo5XyBAUFGKgBaaH0DMV4P3R38eQPpwAx8qbx1A6Nz6d9VqHED0tCldVnMbQCzDf+6riRpA+IwfCseuGUBWqRNUieMYQDFUtk3EKBhAwAK7fTh/F0AZl7iplOcWQO7GACJ1YhZAZmt+IGPwFUA+00A71JEVQOznRespRxVAGhgAKLEQFUBHmv8Xou4UQFvQENcf4RRAfHYLUjjoFEB663c45AMVQNpeGQQHNBVAyh5VFm94FUC8tljr1dAVQN0kymLgPBZAxTi3HR+8FkC/RmPxDk4XQCfYfG4Z8hdAWvgvfJWnGEBDRHUGyG0ZQEEO6r7kQxpAeMxq7w4pG0CKuZZdWhwcQN4gUj7MHB1Ax1JMOFwpHkC2wn509UAfQDw1xt07MSBAiqNtT1zGIED41hpWQl8hQJ4uW1VQ+yFAtkvcb+WZIkCbqj4tXjojQE3YlyIV3CNAdZD2nGN+JECa/jhNoiAlQCsAhPQpwiVAf5+pEFRiJkDaEM2HewAnQGJDk1L9mydAWpYwJDk0KEATd6YPksgoQDCShilvWClAitiUJTzjKUAH2qXvaWgqQMvhGz9v5ypA/MpqJMlfK0CLrRCQ+9ArQH1BeNKROixAKiVBFB+cLEA0CXLGPvUsQLAaIQqVRS1AONEnD8+MLUDggYBpo8otQPC39VzS/i1Axk7VHiYpLkB9k2MNc0kuQKJF1dyXXy5AHBqiuX1rLkA=\",\"dtype\":\"float64\",\"order\":\"little\",\"shape\":[100]},\"y\":{\"__ndarray__\":\"LjdSAmae/j+Yc13IY8IAQPTzi+QXNwJA/UzWJM+rA0B6SiFVCR8FQB9uIMpHjwZA7p/M6w77B0BZVa+852AJQJDUblxhvwpAux0NhBIVDEDrglH6mmANQLoK3f6koA5AZFhzqubTD0BmeoahkXwQQGw1KkGWBxFA+NSe5nGKEUBUPrutnQQSQArEv6abdRJALJQnWPfcEkCQQ7k2RjoTQBOyWhMojRNAZRE3fkfVE0AP2tAeWhIUQNblpAAhRBRApq8P1GhqFEDM0zEjCoUUQIZKnXrpkxRA7W6hhfeWFECyphgeMY4UQIRgp0+feRRAbBBpTldZFEC3xhRhei0UQFnpr7419hNApGvyX8KzE0Duj4zEZGYTQLm8iqxsDhNAvS4gxjSsEkCoRS1QIkASQALH4bGkyhFAPKzmBzVMEUBm3IWnVcUQQLqCUJiRNhBAtv+cCfhAD0AFYpVFXwcOQOHbsCecwQxAs0Rtff5wC0DwhHhE4RYKQJoHAUWptAhARmruocNLB0CDiH1gpN0FQKTgw+jEawRAd6ClgKL3AkAnYc/CvIIBQB62SBOUDgBA5VduJlA5/T99VtQq7Fz6P8TGjirvivc/Od1ZY0HG9D+ylrRavRHyPzRSrtlZ4O4/jGKs2YzI6T+gUtKxU+HkP6jfa0u8L+A/2LqtjTpx1z8go9b6QwLOPyA+F0qGX7w/AFqmqsGXcL/gd74nLhi8vyDbjNZVWMq/EFbwhmau0r/AsBmqEIfXv4DjWm0qsdu/kMUK22go37/AuQmunPTgv0jpXLNi+OG/9PbFtXqe4r/0FLl+Oebiv5gbVRlVz+K/kPWfHuVZ4r8YaDOdYobhv/hKc5ynVeC/EKSbd9yR3b+4K9vdnsPZvzBIVrCCRNW/2EjhhSoZ0L8wiZQA1Y3Ev8CjXnEWnq6/gD3UJDTNqT9gBczSGLTFP0SFO02SBdM/YI5iM8yz2z8Qs+qx423iP2bYSdIJOuc/4KQqemY57D9ReyVvabPwP4LNHVx8XvM/C49h4ysb9j8tUMO8peb4PyMmEGEIvvs/KzdSAmae/j8=\",\"dtype\":\"float64\",\"order\":\"little\",\"shape\":[100]}},\"selected\":{\"id\":\"1203\"},\"selection_policy\":{\"id\":\"1202\"}},\"id\":\"1136\",\"type\":\"ColumnDataSource\"},{\"attributes\":{\"fill_alpha\":{\"value\":0.2},\"fill_color\":{\"field\":\"col\"},\"hatch_alpha\":{\"value\":0.2},\"hatch_color\":{\"field\":\"col\"},\"line_alpha\":{\"value\":0.2},\"line_color\":{\"field\":\"col\"},\"marker\":{\"value\":\"triangle\"},\"size\":{\"value\":7},\"x\":{\"field\":\"x\"},\"y\":{\"field\":\"y\"}},\"id\":\"1093\",\"type\":\"Scatter\"},{\"attributes\":{\"line_alpha\":0.1,\"line_color\":\"blue\",\"x\":{\"field\":\"x\"},\"y\":{\"field\":\"y\"}},\"id\":\"1144\",\"type\":\"Line\"},{\"attributes\":{\"fill_alpha\":0.01,\"fill_color\":\"blue\",\"hatch_alpha\":0.01,\"hatch_color\":\"blue\",\"line_alpha\":0.01,\"line_color\":\"blue\",\"x\":{\"field\":\"x\"},\"y\":{\"field\":\"y\"}},\"id\":\"1155\",\"type\":\"Patch\"},{\"attributes\":{\"coordinates\":null,\"data_source\":{\"id\":\"1056\"},\"glyph\":{\"id\":\"1091\"},\"group\":null,\"hover_glyph\":null,\"muted_glyph\":{\"id\":\"1093\"},\"nonselection_glyph\":{\"id\":\"1092\"},\"view\":{\"id\":\"1095\"}},\"id\":\"1094\",\"type\":\"GlyphRenderer\"},{\"attributes\":{},\"id\":\"1207\",\"type\":\"Selection\"},{\"attributes\":{\"source\":{\"id\":\"1142\"}},\"id\":\"1147\",\"type\":\"CDSView\"},{\"attributes\":{},\"id\":\"1209\",\"type\":\"Selection\"},{\"attributes\":{\"coordinates\":null,\"data_source\":{\"id\":\"1124\"},\"glyph\":{\"id\":\"1125\"},\"group\":null,\"hover_glyph\":null,\"muted_glyph\":{\"id\":\"1127\"},\"nonselection_glyph\":{\"id\":\"1126\"},\"view\":{\"id\":\"1129\"}},\"id\":\"1128\",\"type\":\"GlyphRenderer\"},{\"attributes\":{\"data\":{\"x\":{\"__ndarray__\":\"/ARp2TANK0Ag/oKM7SArQD6TguMYKitAqnS3aqkoK0D25+2coBwrQN5O6OEKBitADoOVgf/kKkBgNRGMoLkqQIoNh7YahCpAJ7wcLaVEKkCzgBJagfspQKTDVKL6qClAIkfEF2ZNKUBgC4UhIukoQJtLrhqWfChApOO/5zEIKEAZ8UqDbYwnQOKVRILICSdA71iCkMmAJkCctufl/fElQG7607T4XSVACHFmklLFJEA8WzXZqCgkQHfEGQediCNAYXC3FtTlIkBieWzV9UAiQD7uVzasmiFA9rwpo6LzIEBbgXBLhUwgQG23NuYATB9AMIzNgX8BHkBd6dYa27ocQLhMC2dkeRtAdM+TxWY+GkBRWnTpJgsZQKqk1orh4BdApgSPIMrAFkB6myujCawVQKiT1Fq9oxRAGgA5ufWoE0Dbf7dAtbwSQH0l5Hnv3xFAElN++IcTEUBoUdlwUVgQQHrqUr0ZXg9AhG0rfNEwDkB0l7WvACoNQBJYckK2SgxAzAOmYNiTC0DW6hOLIwYLQG47rtQpogpA3HwCTFJoCkCG2v2Q2FgKQDjBdpfMcwpAxCm7lhK5CkC6hDQmYygLQPTAA4dLwQtAgoxJGi6DDEAc4qADQ20NQKRmJPeYfg5A+DcqMha2D0Ao49rOPIkQQHQpugwuSRFA2nH39hgaEkCwCDoyJvsSQGqZisFt6xNASJ129ffpFEAjIGJrvvUVQIqrABytDRdAuIjed6MwGEBOC9WQdV0ZQE5FN0/tkhpAenB4scvPG0AWjAIVyhIdQCM26oabWh5AVKskG+6lH0DyEW8ktnkgQBa9RCXfICFA1hgfwMXHIUAdynvpvW0iQLlZo4scEiNAw9YENzi0I0CMT97QaVMkQJwWfj8N7yRAMkNrE4KGJUAdDscsLBkmQJ2QPFx0piZA4P/Y/sgtJ0DuviuUnq4nQKWGE05wKChA12ekmcCaKEBviZmgGQUpQHEzzcINZylAZvA5BzjAKUBqSBCEPBAqQOnKdb3IVipAVLyL+pOTKkBTwmWQX8YqQEhIoyL37ipA/ARp2TANK0A=\",\"dtype\":\"float64\",\"order\":\"little\",\"shape\":[100]},\"y\":{\"__ndarray__\":\"wC+D3Vwi3r989YIc8A7Wv9h0gYts+8q/kMyBsRDesb/wdSMlY+mzP9ATA3FInM0/xLlfy7z52D+Y0AZVU7nhP5jjrCQLF+c/UsK3xX2Q7D+zzc9JAxDxP3EwtRL13/M/D5AnGy619j/dFt3Pwoz5P498RC/FY/w/fGWkzkc3/z/UoU9vMAIBQECz/5UWZAJAcl3ZjOm/A0DYYXLIQhQFQCzBF3LDXwZAFKt00RWhB0CjHNOs7tYIQLQRi54OAApA4FNAXkMbC0Bsg5v8aCcMQBHmOBBrIw1AMsaW0kUODkAVrN0rB+cOQORnbqzPrA9AuFaauWkvEEDWauh/LX4QQP4Q4PdhwhBAPkLg0sD7EEBTsGHtDioRQBHt7IscTRFAioFOjMVkEUDIPNaK8XARQNVUe/uTcRFAim/LNqxmEUAoPpd6RVARQK/5W952LhFA/LF1O2MBEUAm+TIJOckQQOby7iwyhhBA3CdjvpM4EEDBQ92AW8EPQDJ4N521/Q5AzVdzf/8mDkAIFNR7Fj4NQAgFG6nqQwxAMIYK6X05C0AQbZHe4h8KQOggsdI7+AhANSZCibnDB0ACk8sGmoMGQBtDsUgnOQVA1LgK8bXlA0AhT4Hno4oCQM+xn/BWKQFArdMMenaG/z9aTwPkg7P8P/SOBlq/3Pk/CaASBxYF9z9puPkBdi/0P23uLkjLXvE/UsB1dfkr7T+LMupA0q/nPxsvL2HITuI/aM/kos4c2j+AlX+JY9DPP0B21iz9KLg/gOxR5eeWq7+wHSowtgrJv2TtrPPgI9W/mC9eB4xF3b8wKoE//XDiv6S9K++p+OW/nCSyiyg26b9UAnkFIibsv3yfsDWPxe6/5Pev/t2I8L+ITmwHJYTxv2BTWq+ZU/K/EKrsHGb28r+ggCx/4mvzv/SmtrqVs/O/YIWS5jXN878YQmKYqLjzv2yMnf8CdvO/Lvy6z4kF87/oh175sGfyv4oS1jIbnfG/3EJfUJmm8L+cFMfZUgrvvxSDEMjrc+y/YLtBPaiM6b8YjYBlhlfmv2QqqLHU1+K/yC+D3Vwi3r8=\",\"dtype\":\"float64\",\"order\":\"little\",\"shape\":[100]}},\"selected\":{\"id\":\"1211\"},\"selection_policy\":{\"id\":\"1210\"}},\"id\":\"1160\",\"type\":\"ColumnDataSource\"},{\"attributes\":{},\"id\":\"1049\",\"type\":\"UnionRenderers\"},{\"attributes\":{},\"id\":\"1201\",\"type\":\"Selection\"},{\"attributes\":{\"axis_label\":\"PC 2 (6.5%)\",\"axis_label_text_font_size\":\"13pt\",\"coordinates\":null,\"formatter\":{\"id\":\"1098\"},\"group\":null,\"major_label_policy\":{\"id\":\"1099\"},\"ticker\":{\"id\":\"1073\"}},\"id\":\"1072\",\"type\":\"LinearAxis\"},{\"attributes\":{\"axis\":{\"id\":\"1068\"},\"coordinates\":null,\"group\":null,\"ticker\":null},\"id\":\"1071\",\"type\":\"Grid\"},{\"attributes\":{},\"id\":\"1050\",\"type\":\"Selection\"},{\"attributes\":{},\"id\":\"1215\",\"type\":\"Selection\"},{\"attributes\":{\"fill_alpha\":0.01,\"fill_color\":\"red\",\"hatch_alpha\":0.01,\"hatch_color\":\"red\",\"line_alpha\":0.01,\"line_color\":\"red\",\"x\":{\"field\":\"x\"},\"y\":{\"field\":\"y\"}},\"id\":\"1131\",\"type\":\"Patch\"},{\"attributes\":{\"fill_alpha\":0.2,\"fill_color\":\"blue\",\"hatch_alpha\":0.2,\"hatch_color\":\"blue\",\"line_alpha\":0.2,\"line_color\":\"blue\",\"x\":{\"field\":\"x\"},\"y\":{\"field\":\"y\"}},\"id\":\"1151\",\"type\":\"Patch\"},{\"attributes\":{\"source\":{\"id\":\"1172\"}},\"id\":\"1177\",\"type\":\"CDSView\"},{\"attributes\":{},\"id\":\"1196\",\"type\":\"UnionRenderers\"},{\"attributes\":{\"bottom_units\":\"screen\",\"coordinates\":null,\"fill_alpha\":0.5,\"fill_color\":\"lightgrey\",\"group\":null,\"left_units\":\"screen\",\"level\":\"overlay\",\"line_alpha\":1.0,\"line_color\":\"black\",\"line_dash\":[4,4],\"line_width\":2,\"right_units\":\"screen\",\"syncable\":false,\"top_units\":\"screen\"},\"id\":\"1028\",\"type\":\"BoxAnnotation\"},{\"attributes\":{\"fill_alpha\":0.01,\"fill_color\":\"green\",\"hatch_alpha\":0.01,\"hatch_color\":\"green\",\"line_alpha\":0.01,\"line_color\":\"green\",\"x\":{\"field\":\"x\"},\"y\":{\"field\":\"y\"}},\"id\":\"1179\",\"type\":\"Patch\"},{\"attributes\":{\"line_alpha\":0.8,\"line_color\":\"green\",\"line_width\":2,\"x\":{\"field\":\"x\"},\"y\":{\"field\":\"y\"}},\"id\":\"1161\",\"type\":\"Line\"},{\"attributes\":{\"data\":{\"x\":{\"__ndarray__\":\"iegDzWcANEC5COgOugk0QL8ZfhTW6jNAdSt9tdujM0CbrU4cFDUzQP24onrxnjJAl1e5kw7iMUAhI9ocLv8wQHZaPelz7i9Aiiy9Y4SWLUC6qmsW+PgqQMSfjDCBGChAVqT62xb4JEA6NZcu8pohQFw6ja8VCRxA+NnIGidxFEDQBn/v2OsIQICFaut/fvA/gBxBHJkk8r+QoUdp8vYKwNhJguMfrhbA2D/+jM8LIMB8iI2KIdckwJmPd8QUtCnAj5Jt6KWdLsAt0VRRYscxwEhwG2ssQTTA/yyg7qO5NsCoYP7lPC45wB5NZVhvnDvAw6UJ5rkBPsARAqUu0i1AwIlhLiPhU0HAQr5zsdpxQsDubXYPmIZDwCxKRvj7kETA3X8R0vOPRcDUEjXJeIJGwKVLKt+QZ0fAnsg57E8+SMBljeqS2AVJwHIhMiRdvUnAxoR6cyBkSsAGbKOZdvlKwP6/NabFfEvABLcSPobtS8Da9PomREtMwE7dXb+elUzAmpj1YUnMTMDSG8m0C+9MwL7DQuPB/UzAXKEfw1z4TMAkZRHk4d5MwOzLAoprsUzALnYEkihwTMByEv5BXBtMwPCmVQNes0vALnbUCJk4S8DYYCbgi6tKwB6tZe/HDErAZK053/BcScAAxiLyu5xIwDq5oUnvzEfAotT6GWHuRsDNh2fN9gFGwHgBmhekCEXAAJmG+mkDRMBs+XW9VfNCwLAlcdd/2UHA3Hglzgq3QMDqTdUURBo/wKvnPkfxuTzAVIw2RpBPOsBWzvWBnt03wE0wKzehZjXAsVLa1SLtMsBMw99isHMwwMQrl62t+SvAOlSR+UAWJ8DK7YyoJEIiwOZnYeClBBvAAC3fNmK3EcCAeXP6KUwBwABUMrx59KI/CHSUaAxHAUAE4mspAsoQQEyR1Qf2kBhALBldfl3wH0BMRqR8T3AjQGaf7LtJrSZAUt/d9carKUC+mWENsWgsQA4J7H014S5Az8EiImSJMECtJlM/k30xQJf5t2AsTDJAC4kOj1r0MkDDTShtcHUzQAMAoOrozjNAiegDzWcANEA=\",\"dtype\":\"float64\",\"order\":\"little\",\"shape\":[100]},\"y\":{\"__ndarray__\":\"W45XPZ+xGsBoVeVVgTMUwMfjQ3VWYQvAnmtEhky//L/wFYZfpvXGv2B4bH5txPY/hFmVdtYHCEBaKTyrPToSQMyU0FirTRhAWNJ95fA3HkCsKcyvevkhQDSSsEVovCRAB9vufOhhJ0CFPpnzQOcpQCHhOW3YSSxA2TeQgDmHLkDaRjCQik4wQHRsXH6iRDFA6Gkb3eYkMkC2S4N+cO4yQCpNv6JvoDNArOM2ziw6NEBMFbGGCbs0QJQisfaAIjVAOB5kdihwNUCCTJL5r6M1QKL1ImLivDVABpzdtqW7NUB+JTA++581QKRd3nz/aTVAoiycGOoZNUC0z7CeDbA0QEA13i7XLDRAKjTkCs6QM0AMkxMLk9wyQDCYgPjfEDJAOgyAzYYuMUA8GTTdcDYwQDNLEMY7Uy5AizAn9kUSLECth+YIU6wpQI/Zf93bIydAQs6753x7JEAUE+x+87UhQO5t7BU2rB1ACnTBJNS9F0CCAddY3qYRQIitZmk32wZAiCljWdph9D8g/3BbniDVvyczZnwiLf+/5ke1hTKZDMByJ28sR88UwBI0Qk+cTBvAneLaEPTeIMASajpBQw4kwHekfUjzMCfA55ciuchDKsDFjlV9mEMtwExUg42lFjDA53fk8e9+McCH95gGONkywJB9RNcYJDTA9HNYUD1eNcByyKqeYYY2wEgtRH1UmzfAmr4NcPibOMC2qxnqRIc5wLyJV15HXDrAhDObOSQaO8AWe/TEF8A7wCZbbu92TTzAerFl/q/BPMAwvMEjSxw9wACAc/nqXD3AvMm84UyDPcBmjNtLSY89wJzS0tzTgD3AijgnfPtXPcCozYFE6hQ9wEY0SVjltzzAirxdmkxBPMDk8EFLmrE7wEp3FYtiCTvA8i7kwFJJOsDg7+bnMHI5wCgubsPahDjAZOBI+kSCN8BITpMaems2wFy+8YaZQTXASkBSTtYFNMAn82bvdbkywFwPHwnPXTHARCTx8o/oL8DyNy3YqvwswDmcMrTx+inAXU2G+X3mJsCO6gppfMIjwPzrMswpkiDAYo5XPZ+xGsA=\",\"dtype\":\"float64\",\"order\":\"little\",\"shape\":[100]}},\"selected\":{\"id\":\"1197\"},\"selection_policy\":{\"id\":\"1196\"}},\"id\":\"1118\",\"type\":\"ColumnDataSource\"},{\"attributes\":{\"line_alpha\":0.8,\"line_color\":\"blue\",\"line_width\":2,\"x\":{\"field\":\"x\"},\"y\":{\"field\":\"y\"}},\"id\":\"1137\",\"type\":\"Line\"},{\"attributes\":{},\"id\":\"1101\",\"type\":\"BasicTickFormatter\"},{\"attributes\":{},\"id\":\"1210\",\"type\":\"UnionRenderers\"},{\"attributes\":{\"axis\":{\"id\":\"1018\"},\"coordinates\":null,\"dimension\":1,\"group\":null,\"ticker\":null},\"id\":\"1021\",\"type\":\"Grid\"},{\"attributes\":{\"data\":{\"x\":{\"__ndarray__\":\"HBqiuX1rLkDmXgxgGG0uQG5+xShmZC5AKFqiCnBRLkC2ul2RSTQuQPRbcskQDS5A9FkhIe7bLUDg7MQ+FKEtQMJpmsy/XC1AUlo5OjcPLUAAIvhzyrgsQIQIiZDSWSxA9pYkdbHyK0Cu8Z9w0YMrQM80182kDStAwsncXaWQKkDxJ2f6Uw0qQMpx/gA4hClAX9hyx971KEBknCsK22IoQPDa5FTEyydAxhF4ZjYxJ0A9Y1CQ0JMmQDwYMBI19CVAm6rwcghTJUCUv+nW8LAkQGPlrVSVDiRAw57NSJ1sI0AlSFKpr8siQBatollyLCJAJbeCf4mPIUDle97ZlvUgQBUWDxo5XyBAUFGKgBaaH0DMV4P3R38eQPpwAx8qbx1A6Nz6d9VqHED0tCldVnMbQCzDf+6riRpA+IwfCseuGUBWqRNUieMYQDFUtk3EKBhAwAK7fTh/F0AZl7iplOcWQO7GACJ1YhZAZmt+IGPwFUA+00A71JEVQOznRespRxVAGhgAKLEQFUBHmv8Xou4UQFvQENcf4RRAfHYLUjjoFEB663c45AMVQNpeGQQHNBVAyh5VFm94FUC8tljr1dAVQN0kymLgPBZAxTi3HR+8FkC/RmPxDk4XQCfYfG4Z8hdAWvgvfJWnGEBDRHUGyG0ZQEEO6r7kQxpAeMxq7w4pG0CKuZZdWhwcQN4gUj7MHB1Ax1JMOFwpHkC2wn509UAfQDw1xt07MSBAiqNtT1zGIED41hpWQl8hQJ4uW1VQ+yFAtkvcb+WZIkCbqj4tXjojQE3YlyIV3CNAdZD2nGN+JECa/jhNoiAlQCsAhPQpwiVAf5+pEFRiJkDaEM2HewAnQGJDk1L9mydAWpYwJDk0KEATd6YPksgoQDCShilvWClAitiUJTzjKUAH2qXvaWgqQMvhGz9v5ypA/MpqJMlfK0CLrRCQ+9ArQH1BeNKROixAKiVBFB+cLEA0CXLGPvUsQLAaIQqVRS1AONEnD8+MLUDggYBpo8otQPC39VzS/i1Axk7VHiYpLkB9k2MNc0kuQKJF1dyXXy5AHBqiuX1rLkA=\",\"dtype\":\"float64\",\"order\":\"little\",\"shape\":[100]},\"y\":{\"__ndarray__\":\"LjdSAmae/j+Yc13IY8IAQPTzi+QXNwJA/UzWJM+rA0B6SiFVCR8FQB9uIMpHjwZA7p/M6w77B0BZVa+852AJQJDUblxhvwpAux0NhBIVDEDrglH6mmANQLoK3f6koA5AZFhzqubTD0BmeoahkXwQQGw1KkGWBxFA+NSe5nGKEUBUPrutnQQSQArEv6abdRJALJQnWPfcEkCQQ7k2RjoTQBOyWhMojRNAZRE3fkfVE0AP2tAeWhIUQNblpAAhRBRApq8P1GhqFEDM0zEjCoUUQIZKnXrpkxRA7W6hhfeWFECyphgeMY4UQIRgp0+feRRAbBBpTldZFEC3xhRhei0UQFnpr7419hNApGvyX8KzE0Duj4zEZGYTQLm8iqxsDhNAvS4gxjSsEkCoRS1QIkASQALH4bGkyhFAPKzmBzVMEUBm3IWnVcUQQLqCUJiRNhBAtv+cCfhAD0AFYpVFXwcOQOHbsCecwQxAs0Rtff5wC0DwhHhE4RYKQJoHAUWptAhARmruocNLB0CDiH1gpN0FQKTgw+jEawRAd6ClgKL3AkAnYc/CvIIBQB62SBOUDgBA5VduJlA5/T99VtQq7Fz6P8TGjirvivc/Od1ZY0HG9D+ylrRavRHyPzRSrtlZ4O4/jGKs2YzI6T+gUtKxU+HkP6jfa0u8L+A/2LqtjTpx1z8go9b6QwLOPyA+F0qGX7w/AFqmqsGXcL/gd74nLhi8vyDbjNZVWMq/EFbwhmau0r/AsBmqEIfXv4DjWm0qsdu/kMUK22go37/AuQmunPTgv0jpXLNi+OG/9PbFtXqe4r/0FLl+Oebiv5gbVRlVz+K/kPWfHuVZ4r8YaDOdYobhv/hKc5ynVeC/EKSbd9yR3b+4K9vdnsPZvzBIVrCCRNW/2EjhhSoZ0L8wiZQA1Y3Ev8CjXnEWnq6/gD3UJDTNqT9gBczSGLTFP0SFO02SBdM/YI5iM8yz2z8Qs+qx423iP2bYSdIJOuc/4KQqemY57D9ReyVvabPwP4LNHVx8XvM/C49h4ysb9j8tUMO8peb4PyMmEGEIvvs/KzdSAmae/j8=\",\"dtype\":\"float64\",\"order\":\"little\",\"shape\":[100]}},\"selected\":{\"id\":\"1207\"},\"selection_policy\":{\"id\":\"1206\"}},\"id\":\"1148\",\"type\":\"ColumnDataSource\"},{\"attributes\":{},\"id\":\"1019\",\"type\":\"BasicTicker\"},{\"attributes\":{\"line_alpha\":0.2,\"line_color\":\"blue\",\"x\":{\"field\":\"x\"},\"y\":{\"field\":\"y\"}},\"id\":\"1145\",\"type\":\"Line\"},{\"attributes\":{},\"id\":\"1045\",\"type\":\"AllLabels\"},{\"attributes\":{\"fill_alpha\":{\"value\":0.6},\"fill_color\":{\"field\":\"col\"},\"hatch_alpha\":{\"value\":0.6},\"hatch_color\":{\"field\":\"col\"},\"line_alpha\":{\"value\":0.6},\"line_color\":{\"field\":\"col\"},\"marker\":{\"value\":\"triangle\"},\"size\":{\"value\":7},\"x\":{\"field\":\"x\"},\"y\":{\"field\":\"y\"}},\"id\":\"1091\",\"type\":\"Scatter\"},{\"attributes\":{\"axis\":{\"id\":\"1014\"},\"coordinates\":null,\"group\":null,\"ticker\":null},\"id\":\"1017\",\"type\":\"Grid\"}],\"root_ids\":[\"1234\"]},\"title\":\"Bokeh Application\",\"version\":\"2.4.3\"}};\n  const render_items = [{\"docid\":\"d50c6d38-9107-4acd-a459-b3b9a01c0695\",\"root_ids\":[\"1234\"],\"roots\":{\"1234\":\"eaa1bd9d-b5c8-4944-834f-f1f470dce0a0\"}}];\n  root.Bokeh.embed.embed_items_notebook(docs_json, render_items);\n  }\n  if (root.Bokeh !== undefined) {\n    embed_document(root);\n  } else {\n    let attempts = 0;\n    const timer = setInterval(function(root) {\n      if (root.Bokeh !== undefined) {\n        clearInterval(timer);\n        embed_document(root);\n      } else {\n        attempts++;\n        if (attempts > 100) {\n          clearInterval(timer);\n          console.log(\"Bokeh: ERROR: Unable to run BokehJS code because BokehJS library is missing\");\n        }\n      }\n    }, 10, root)\n  }\n})(window);",
      "application/vnd.bokehjs_exec.v0+json": ""
     },
     "metadata": {
      "application/vnd.bokehjs_exec.v0+json": {
       "id": "1234"
      }
     },
     "output_type": "display_data"
    }
   ],
   "source": [
    "# --- 3) PCA robusto (log10 seguro + escala + KNN) ---\n",
    "import numpy as np\n",
    "\n",
    "# Matriz X con las features alineadas\n",
    "X = hoja2[presentes].to_numpy()\n",
    "\n",
    "# Evitar log10 de ceros/negativos/NaN\n",
    "minpos = np.nanmin(X[X > 0]) if np.any(X > 0) else 1e-6\n",
    "X = np.where((X <= 0) | np.isnan(X), minpos * 0.5, X)\n",
    "\n",
    "# Pipeline EDA\n",
    "Xlog   = np.log10(X)\n",
    "Xscale = cb.utils.scale(Xlog, method='auto')   # auto/pareto/vast/level\n",
    "Xknn   = cb.utils.knnimpute(Xscale, k=3)       # kNN-impute (k=3)\n",
    "\n",
    "print(\"Xknn: {} rows & {} columns\".format(*Xknn.shape))\n",
    "\n",
    "# Etiquetas de grupo (fallback si no existe Class)\n",
    "group_label = hoja2[\"Class\"] if \"Class\" in hoja2.columns else pd.Series([\"NA\"]*len(hoja2), name=\"Class\")\n",
    "\n",
    "# --- 4) PCA plot ---\n",
    "cb.plot.pca(\n",
    "    Xknn,\n",
    "    pcx=1,   # x-axis PC\n",
    "    pcy=2,   # y-axis PC\n",
    "    group_label=group_label\n",
    ")\n"
   ]
  },
  {
   "cell_type": "code",
   "execution_count": 44,
   "id": "e622e009",
   "metadata": {},
   "outputs": [],
   "source": [
    "#Para una mejor visualización de las variables que pudieran ser responsable de la enfermedad cojo solo el grupo Diabetes y Sanos\n",
    "\n",
    "filtered_df_hoja2=hoja2[hoja2['Class'].isin(['Healthy', 'diabetic'])]\n"
   ]
  },
  {
   "cell_type": "code",
   "execution_count": 45,
   "id": "85e04e23",
   "metadata": {},
   "outputs": [
    {
     "data": {
      "text/html": [
       "<div>\n",
       "<style scoped>\n",
       "    .dataframe tbody tr th:only-of-type {\n",
       "        vertical-align: middle;\n",
       "    }\n",
       "\n",
       "    .dataframe tbody tr th {\n",
       "        vertical-align: top;\n",
       "    }\n",
       "\n",
       "    .dataframe thead th {\n",
       "        text-align: right;\n",
       "    }\n",
       "</style>\n",
       "<table border=\"1\" class=\"dataframe\">\n",
       "  <thead>\n",
       "    <tr style=\"text-align: right;\">\n",
       "      <th></th>\n",
       "      <th>compound_0001</th>\n",
       "      <th>compound_0002</th>\n",
       "      <th>compound_0003</th>\n",
       "      <th>compound_0004</th>\n",
       "      <th>compound_0005</th>\n",
       "      <th>compound_0006</th>\n",
       "      <th>compound_0007</th>\n",
       "      <th>compound_0008</th>\n",
       "      <th>compound_0009</th>\n",
       "      <th>compound_0010</th>\n",
       "      <th>...</th>\n",
       "      <th>compound_1480</th>\n",
       "      <th>compound_1481</th>\n",
       "      <th>compound_1482</th>\n",
       "      <th>compound_1483</th>\n",
       "      <th>compound_1484</th>\n",
       "      <th>compound_1485</th>\n",
       "      <th>compound_1486</th>\n",
       "      <th>Idx</th>\n",
       "      <th>Class</th>\n",
       "      <th>SampleID</th>\n",
       "    </tr>\n",
       "  </thead>\n",
       "  <tbody>\n",
       "    <tr>\n",
       "      <th>0</th>\n",
       "      <td>0.793620</td>\n",
       "      <td>0.743363</td>\n",
       "      <td>0.360069</td>\n",
       "      <td>0.557168</td>\n",
       "      <td>0.886952</td>\n",
       "      <td>0.698678</td>\n",
       "      <td>0.811203</td>\n",
       "      <td>0.546670</td>\n",
       "      <td>0.770260</td>\n",
       "      <td>0.781398</td>\n",
       "      <td>...</td>\n",
       "      <td>0.957021</td>\n",
       "      <td>1.384068</td>\n",
       "      <td>0.690831</td>\n",
       "      <td>0.865679</td>\n",
       "      <td>0.254363</td>\n",
       "      <td>1.369263</td>\n",
       "      <td>0.898327</td>\n",
       "      <td>2</td>\n",
       "      <td>Healthy</td>\n",
       "      <td>sample_0002</td>\n",
       "    </tr>\n",
       "    <tr>\n",
       "      <th>1</th>\n",
       "      <td>0.713684</td>\n",
       "      <td>0.762673</td>\n",
       "      <td>0.716626</td>\n",
       "      <td>0.739390</td>\n",
       "      <td>0.921852</td>\n",
       "      <td>0.814239</td>\n",
       "      <td>0.858662</td>\n",
       "      <td>0.633751</td>\n",
       "      <td>0.740652</td>\n",
       "      <td>0.328962</td>\n",
       "      <td>...</td>\n",
       "      <td>1.111478</td>\n",
       "      <td>1.115342</td>\n",
       "      <td>0.917702</td>\n",
       "      <td>0.371899</td>\n",
       "      <td>0.244953</td>\n",
       "      <td>1.417962</td>\n",
       "      <td>1.023614</td>\n",
       "      <td>3</td>\n",
       "      <td>Healthy</td>\n",
       "      <td>sample_0003</td>\n",
       "    </tr>\n",
       "    <tr>\n",
       "      <th>2</th>\n",
       "      <td>1.073165</td>\n",
       "      <td>1.184788</td>\n",
       "      <td>0.448938</td>\n",
       "      <td>0.609914</td>\n",
       "      <td>0.861769</td>\n",
       "      <td>1.064785</td>\n",
       "      <td>1.129699</td>\n",
       "      <td>1.094749</td>\n",
       "      <td>0.751253</td>\n",
       "      <td>0.942595</td>\n",
       "      <td>...</td>\n",
       "      <td>1.064177</td>\n",
       "      <td>1.036884</td>\n",
       "      <td>0.736977</td>\n",
       "      <td>0.919946</td>\n",
       "      <td>0.209242</td>\n",
       "      <td>1.028140</td>\n",
       "      <td>1.718457</td>\n",
       "      <td>4</td>\n",
       "      <td>Healthy</td>\n",
       "      <td>sample_0004</td>\n",
       "    </tr>\n",
       "    <tr>\n",
       "      <th>3</th>\n",
       "      <td>1.074977</td>\n",
       "      <td>0.959059</td>\n",
       "      <td>0.695333</td>\n",
       "      <td>0.699223</td>\n",
       "      <td>0.893694</td>\n",
       "      <td>1.294579</td>\n",
       "      <td>1.062554</td>\n",
       "      <td>1.362446</td>\n",
       "      <td>0.739146</td>\n",
       "      <td>0.793178</td>\n",
       "      <td>...</td>\n",
       "      <td>1.075152</td>\n",
       "      <td>0.744478</td>\n",
       "      <td>0.750908</td>\n",
       "      <td>0.392298</td>\n",
       "      <td>0.211141</td>\n",
       "      <td>1.126669</td>\n",
       "      <td>2.942013</td>\n",
       "      <td>5</td>\n",
       "      <td>Healthy</td>\n",
       "      <td>sample_0005</td>\n",
       "    </tr>\n",
       "    <tr>\n",
       "      <th>4</th>\n",
       "      <td>0.903153</td>\n",
       "      <td>0.442795</td>\n",
       "      <td>0.444998</td>\n",
       "      <td>0.668752</td>\n",
       "      <td>0.917792</td>\n",
       "      <td>0.832667</td>\n",
       "      <td>1.031598</td>\n",
       "      <td>0.645060</td>\n",
       "      <td>0.730204</td>\n",
       "      <td>0.888357</td>\n",
       "      <td>...</td>\n",
       "      <td>1.147057</td>\n",
       "      <td>1.206461</td>\n",
       "      <td>0.506770</td>\n",
       "      <td>0.651075</td>\n",
       "      <td>0.679437</td>\n",
       "      <td>0.936695</td>\n",
       "      <td>0.993321</td>\n",
       "      <td>6</td>\n",
       "      <td>Healthy</td>\n",
       "      <td>sample_0006</td>\n",
       "    </tr>\n",
       "    <tr>\n",
       "      <th>...</th>\n",
       "      <td>...</td>\n",
       "      <td>...</td>\n",
       "      <td>...</td>\n",
       "      <td>...</td>\n",
       "      <td>...</td>\n",
       "      <td>...</td>\n",
       "      <td>...</td>\n",
       "      <td>...</td>\n",
       "      <td>...</td>\n",
       "      <td>...</td>\n",
       "      <td>...</td>\n",
       "      <td>...</td>\n",
       "      <td>...</td>\n",
       "      <td>...</td>\n",
       "      <td>...</td>\n",
       "      <td>...</td>\n",
       "      <td>...</td>\n",
       "      <td>...</td>\n",
       "      <td>...</td>\n",
       "      <td>...</td>\n",
       "      <td>...</td>\n",
       "    </tr>\n",
       "    <tr>\n",
       "      <th>174</th>\n",
       "      <td>0.745389</td>\n",
       "      <td>0.561035</td>\n",
       "      <td>1.901547</td>\n",
       "      <td>1.164877</td>\n",
       "      <td>1.224971</td>\n",
       "      <td>0.984899</td>\n",
       "      <td>0.884830</td>\n",
       "      <td>0.772574</td>\n",
       "      <td>1.032960</td>\n",
       "      <td>0.842368</td>\n",
       "      <td>...</td>\n",
       "      <td>1.117245</td>\n",
       "      <td>0.736040</td>\n",
       "      <td>1.068146</td>\n",
       "      <td>1.313251</td>\n",
       "      <td>1.603923</td>\n",
       "      <td>0.969826</td>\n",
       "      <td>0.869234</td>\n",
       "      <td>176</td>\n",
       "      <td>diabetic</td>\n",
       "      <td>sample_0176</td>\n",
       "    </tr>\n",
       "    <tr>\n",
       "      <th>175</th>\n",
       "      <td>0.542919</td>\n",
       "      <td>0.553931</td>\n",
       "      <td>2.349338</td>\n",
       "      <td>0.936585</td>\n",
       "      <td>0.965326</td>\n",
       "      <td>0.787991</td>\n",
       "      <td>0.898010</td>\n",
       "      <td>0.843814</td>\n",
       "      <td>0.840719</td>\n",
       "      <td>0.714205</td>\n",
       "      <td>...</td>\n",
       "      <td>0.975919</td>\n",
       "      <td>0.858300</td>\n",
       "      <td>0.908436</td>\n",
       "      <td>0.788290</td>\n",
       "      <td>0.977343</td>\n",
       "      <td>1.131925</td>\n",
       "      <td>0.896456</td>\n",
       "      <td>177</td>\n",
       "      <td>diabetic</td>\n",
       "      <td>sample_0177</td>\n",
       "    </tr>\n",
       "    <tr>\n",
       "      <th>176</th>\n",
       "      <td>0.628734</td>\n",
       "      <td>0.701192</td>\n",
       "      <td>1.245951</td>\n",
       "      <td>1.079366</td>\n",
       "      <td>1.014223</td>\n",
       "      <td>0.824301</td>\n",
       "      <td>0.900189</td>\n",
       "      <td>0.609887</td>\n",
       "      <td>0.897941</td>\n",
       "      <td>0.958437</td>\n",
       "      <td>...</td>\n",
       "      <td>1.021240</td>\n",
       "      <td>0.951380</td>\n",
       "      <td>0.842580</td>\n",
       "      <td>1.243000</td>\n",
       "      <td>0.815561</td>\n",
       "      <td>1.041996</td>\n",
       "      <td>0.743896</td>\n",
       "      <td>178</td>\n",
       "      <td>diabetic</td>\n",
       "      <td>sample_0178</td>\n",
       "    </tr>\n",
       "    <tr>\n",
       "      <th>177</th>\n",
       "      <td>0.555390</td>\n",
       "      <td>0.576311</td>\n",
       "      <td>2.362415</td>\n",
       "      <td>1.029833</td>\n",
       "      <td>0.869503</td>\n",
       "      <td>0.737526</td>\n",
       "      <td>0.859506</td>\n",
       "      <td>0.659059</td>\n",
       "      <td>0.791604</td>\n",
       "      <td>0.686486</td>\n",
       "      <td>...</td>\n",
       "      <td>1.052294</td>\n",
       "      <td>0.610196</td>\n",
       "      <td>0.822898</td>\n",
       "      <td>0.200175</td>\n",
       "      <td>0.596484</td>\n",
       "      <td>1.050490</td>\n",
       "      <td>0.731513</td>\n",
       "      <td>179</td>\n",
       "      <td>diabetic</td>\n",
       "      <td>sample_0179</td>\n",
       "    </tr>\n",
       "    <tr>\n",
       "      <th>178</th>\n",
       "      <td>0.590216</td>\n",
       "      <td>0.830575</td>\n",
       "      <td>1.660026</td>\n",
       "      <td>0.937246</td>\n",
       "      <td>1.008572</td>\n",
       "      <td>0.682781</td>\n",
       "      <td>0.885793</td>\n",
       "      <td>0.688223</td>\n",
       "      <td>0.945739</td>\n",
       "      <td>0.626076</td>\n",
       "      <td>...</td>\n",
       "      <td>1.225981</td>\n",
       "      <td>0.688868</td>\n",
       "      <td>1.028227</td>\n",
       "      <td>0.774527</td>\n",
       "      <td>3.107715</td>\n",
       "      <td>0.967872</td>\n",
       "      <td>0.618127</td>\n",
       "      <td>180</td>\n",
       "      <td>diabetic</td>\n",
       "      <td>sample_0180</td>\n",
       "    </tr>\n",
       "  </tbody>\n",
       "</table>\n",
       "<p>119 rows × 1489 columns</p>\n",
       "</div>"
      ],
      "text/plain": [
       "     compound_0001  compound_0002  compound_0003  compound_0004  \\\n",
       "0         0.793620       0.743363       0.360069       0.557168   \n",
       "1         0.713684       0.762673       0.716626       0.739390   \n",
       "2         1.073165       1.184788       0.448938       0.609914   \n",
       "3         1.074977       0.959059       0.695333       0.699223   \n",
       "4         0.903153       0.442795       0.444998       0.668752   \n",
       "..             ...            ...            ...            ...   \n",
       "174       0.745389       0.561035       1.901547       1.164877   \n",
       "175       0.542919       0.553931       2.349338       0.936585   \n",
       "176       0.628734       0.701192       1.245951       1.079366   \n",
       "177       0.555390       0.576311       2.362415       1.029833   \n",
       "178       0.590216       0.830575       1.660026       0.937246   \n",
       "\n",
       "     compound_0005  compound_0006  compound_0007  compound_0008  \\\n",
       "0         0.886952       0.698678       0.811203       0.546670   \n",
       "1         0.921852       0.814239       0.858662       0.633751   \n",
       "2         0.861769       1.064785       1.129699       1.094749   \n",
       "3         0.893694       1.294579       1.062554       1.362446   \n",
       "4         0.917792       0.832667       1.031598       0.645060   \n",
       "..             ...            ...            ...            ...   \n",
       "174       1.224971       0.984899       0.884830       0.772574   \n",
       "175       0.965326       0.787991       0.898010       0.843814   \n",
       "176       1.014223       0.824301       0.900189       0.609887   \n",
       "177       0.869503       0.737526       0.859506       0.659059   \n",
       "178       1.008572       0.682781       0.885793       0.688223   \n",
       "\n",
       "     compound_0009  compound_0010  ...  compound_1480  compound_1481  \\\n",
       "0         0.770260       0.781398  ...       0.957021       1.384068   \n",
       "1         0.740652       0.328962  ...       1.111478       1.115342   \n",
       "2         0.751253       0.942595  ...       1.064177       1.036884   \n",
       "3         0.739146       0.793178  ...       1.075152       0.744478   \n",
       "4         0.730204       0.888357  ...       1.147057       1.206461   \n",
       "..             ...            ...  ...            ...            ...   \n",
       "174       1.032960       0.842368  ...       1.117245       0.736040   \n",
       "175       0.840719       0.714205  ...       0.975919       0.858300   \n",
       "176       0.897941       0.958437  ...       1.021240       0.951380   \n",
       "177       0.791604       0.686486  ...       1.052294       0.610196   \n",
       "178       0.945739       0.626076  ...       1.225981       0.688868   \n",
       "\n",
       "     compound_1482  compound_1483  compound_1484  compound_1485  \\\n",
       "0         0.690831       0.865679       0.254363       1.369263   \n",
       "1         0.917702       0.371899       0.244953       1.417962   \n",
       "2         0.736977       0.919946       0.209242       1.028140   \n",
       "3         0.750908       0.392298       0.211141       1.126669   \n",
       "4         0.506770       0.651075       0.679437       0.936695   \n",
       "..             ...            ...            ...            ...   \n",
       "174       1.068146       1.313251       1.603923       0.969826   \n",
       "175       0.908436       0.788290       0.977343       1.131925   \n",
       "176       0.842580       1.243000       0.815561       1.041996   \n",
       "177       0.822898       0.200175       0.596484       1.050490   \n",
       "178       1.028227       0.774527       3.107715       0.967872   \n",
       "\n",
       "     compound_1486  Idx     Class     SampleID  \n",
       "0         0.898327    2   Healthy  sample_0002  \n",
       "1         1.023614    3   Healthy  sample_0003  \n",
       "2         1.718457    4   Healthy  sample_0004  \n",
       "3         2.942013    5   Healthy  sample_0005  \n",
       "4         0.993321    6   Healthy  sample_0006  \n",
       "..             ...  ...       ...          ...  \n",
       "174       0.869234  176  diabetic  sample_0176  \n",
       "175       0.896456  177  diabetic  sample_0177  \n",
       "176       0.743896  178  diabetic  sample_0178  \n",
       "177       0.731513  179  diabetic  sample_0179  \n",
       "178       0.618127  180  diabetic  sample_0180  \n",
       "\n",
       "[119 rows x 1489 columns]"
      ]
     },
     "execution_count": 45,
     "metadata": {},
     "output_type": "execute_result"
    }
   ],
   "source": [
    "filtered_df_hoja2"
   ]
  },
  {
   "cell_type": "markdown",
   "id": "d5f3f199",
   "metadata": {},
   "source": [
    "#To provide a multivariate assesment of the quality of the cleaned data set it is good practice to perform a simple Principal Component Analysis (PCA), after suitable transforming & scaling. \n",
    "#The PCA score plot is typically labelled by sample type (i.e. quality control (QC) or biological sample (Sample)). \n",
    "\n",
    "\"\"\"\n",
    "First the metabolite data matrix is extracted from the dataTable, and transformed & scaled:\n",
    "\n",
    "    A new variable peaklist is created, to hold the names (M1...Mn) of the metabolites to be used in subsequent statistical analysis\n",
    "    The peak data for all samples, corresponding to this list, is extracted from the dataTable table, and placed in a matrix X\n",
    "    The values in X are log-transformed (Xlog)\n",
    "    The helper function cb.utils.scale() is used to scale the log-transformed data (Xscale)\n",
    "    Missing values are imputed using a k-nearest neighbour approach (with three neighbours) to give the table Xknn\n",
    "\n",
    "The transformed & scaled dataset Xknn is used as input to PCA, using the helper function cb.plot.pca(). This returns plots of PCA scores and PCA loadings, for interpretation and quality assessment.\n",
    "\n",
    "\"\"\""
   ]
  },
  {
   "cell_type": "code",
   "execution_count": 46,
   "id": "845e90d2",
   "metadata": {},
   "outputs": [
    {
     "name": "stdout",
     "output_type": "stream",
     "text": [
      "Xknn: 179 rows & 1486 columns\n",
      "Requirement already satisfied: plotly in c:\\users\\momentum\\desktop\\claudia\\cursos\\bootcamp_data_e_ia\\entornoupgrgade\\lib\\site-packages (6.3.1)\n",
      "Requirement already satisfied: ipython in c:\\users\\momentum\\desktop\\claudia\\cursos\\bootcamp_data_e_ia\\entornoupgrgade\\lib\\site-packages (9.6.0)\n",
      "Requirement already satisfied: narwhals>=1.15.1 in c:\\users\\momentum\\desktop\\claudia\\cursos\\bootcamp_data_e_ia\\entornoupgrgade\\lib\\site-packages (from plotly) (2.3.0)\n",
      "Requirement already satisfied: packaging in c:\\users\\momentum\\desktop\\claudia\\cursos\\bootcamp_data_e_ia\\entornoupgrgade\\lib\\site-packages (from plotly) (25.0)\n",
      "Requirement already satisfied: colorama in c:\\users\\momentum\\desktop\\claudia\\cursos\\bootcamp_data_e_ia\\entornoupgrgade\\lib\\site-packages (from ipython) (0.4.6)\n",
      "Requirement already satisfied: decorator in c:\\users\\momentum\\desktop\\claudia\\cursos\\bootcamp_data_e_ia\\entornoupgrgade\\lib\\site-packages (from ipython) (5.2.1)\n",
      "Requirement already satisfied: ipython-pygments-lexers in c:\\users\\momentum\\desktop\\claudia\\cursos\\bootcamp_data_e_ia\\entornoupgrgade\\lib\\site-packages (from ipython) (1.1.1)\n",
      "Requirement already satisfied: jedi>=0.16 in c:\\users\\momentum\\desktop\\claudia\\cursos\\bootcamp_data_e_ia\\entornoupgrgade\\lib\\site-packages (from ipython) (0.19.2)\n",
      "Requirement already satisfied: matplotlib-inline in c:\\users\\momentum\\desktop\\claudia\\cursos\\bootcamp_data_e_ia\\entornoupgrgade\\lib\\site-packages (from ipython) (0.1.7)\n",
      "Requirement already satisfied: prompt_toolkit<3.1.0,>=3.0.41 in c:\\users\\momentum\\desktop\\claudia\\cursos\\bootcamp_data_e_ia\\entornoupgrgade\\lib\\site-packages (from ipython) (3.0.52)\n",
      "Requirement already satisfied: pygments>=2.4.0 in c:\\users\\momentum\\desktop\\claudia\\cursos\\bootcamp_data_e_ia\\entornoupgrgade\\lib\\site-packages (from ipython) (2.19.2)\n",
      "Requirement already satisfied: stack_data in c:\\users\\momentum\\desktop\\claudia\\cursos\\bootcamp_data_e_ia\\entornoupgrgade\\lib\\site-packages (from ipython) (0.6.3)\n",
      "Requirement already satisfied: traitlets>=5.13.0 in c:\\users\\momentum\\desktop\\claudia\\cursos\\bootcamp_data_e_ia\\entornoupgrgade\\lib\\site-packages (from ipython) (5.14.3)\n",
      "Requirement already satisfied: typing_extensions>=4.6 in c:\\users\\momentum\\desktop\\claudia\\cursos\\bootcamp_data_e_ia\\entornoupgrgade\\lib\\site-packages (from ipython) (4.15.0)\n",
      "Requirement already satisfied: parso<0.9.0,>=0.8.4 in c:\\users\\momentum\\desktop\\claudia\\cursos\\bootcamp_data_e_ia\\entornoupgrgade\\lib\\site-packages (from jedi>=0.16->ipython) (0.8.5)\n",
      "Requirement already satisfied: wcwidth in c:\\users\\momentum\\desktop\\claudia\\cursos\\bootcamp_data_e_ia\\entornoupgrgade\\lib\\site-packages (from prompt_toolkit<3.1.0,>=3.0.41->ipython) (0.2.13)\n",
      "Requirement already satisfied: executing>=1.2.0 in c:\\users\\momentum\\desktop\\claudia\\cursos\\bootcamp_data_e_ia\\entornoupgrgade\\lib\\site-packages (from stack_data->ipython) (2.2.1)\n",
      "Requirement already satisfied: asttokens>=2.1.0 in c:\\users\\momentum\\desktop\\claudia\\cursos\\bootcamp_data_e_ia\\entornoupgrgade\\lib\\site-packages (from stack_data->ipython) (3.0.0)\n",
      "Requirement already satisfied: pure-eval in c:\\users\\momentum\\desktop\\claudia\\cursos\\bootcamp_data_e_ia\\entornoupgrgade\\lib\\site-packages (from stack_data->ipython) (0.2.3)\n",
      "Note: you may need to restart the kernel to use updated packages.\n"
     ]
    },
    {
     "name": "stderr",
     "output_type": "stream",
     "text": [
      "\n",
      "[notice] A new release of pip is available: 24.0 -> 25.2\n",
      "[notice] To update, run: python.exe -m pip install --upgrade pip\n",
      "BokehDeprecationWarning: 'legend' keyword is deprecated, use explicit 'legend_label', 'legend_field', or 'legend_group' keywords instead\n",
      "BokehDeprecationWarning: 'legend' keyword is deprecated, use explicit 'legend_label', 'legend_field', or 'legend_group' keywords instead\n"
     ]
    },
    {
     "data": {
      "text/html": [
       "<div class=\"bk-root\">\n",
       "        <a href=\"https://bokeh.org\" target=\"_blank\" class=\"bk-logo bk-logo-small bk-logo-notebook\"></a>\n",
       "        <span id=\"1681\">Loading BokehJS ...</span>\n",
       "    </div>\n"
      ]
     },
     "metadata": {},
     "output_type": "display_data"
    },
    {
     "data": {
      "application/javascript": "(function(root) {\n  function now() {\n    return new Date();\n  }\n\n  const force = true;\n\n  if (typeof root._bokeh_onload_callbacks === \"undefined\" || force === true) {\n    root._bokeh_onload_callbacks = [];\n    root._bokeh_is_loading = undefined;\n  }\n\nconst JS_MIME_TYPE = 'application/javascript';\n  const HTML_MIME_TYPE = 'text/html';\n  const EXEC_MIME_TYPE = 'application/vnd.bokehjs_exec.v0+json';\n  const CLASS_NAME = 'output_bokeh rendered_html';\n\n  /**\n   * Render data to the DOM node\n   */\n  function render(props, node) {\n    const script = document.createElement(\"script\");\n    node.appendChild(script);\n  }\n\n  /**\n   * Handle when an output is cleared or removed\n   */\n  function handleClearOutput(event, handle) {\n    const cell = handle.cell;\n\n    const id = cell.output_area._bokeh_element_id;\n    const server_id = cell.output_area._bokeh_server_id;\n    // Clean up Bokeh references\n    if (id != null && id in Bokeh.index) {\n      Bokeh.index[id].model.document.clear();\n      delete Bokeh.index[id];\n    }\n\n    if (server_id !== undefined) {\n      // Clean up Bokeh references\n      const cmd_clean = \"from bokeh.io.state import curstate; print(curstate().uuid_to_server['\" + server_id + \"'].get_sessions()[0].document.roots[0]._id)\";\n      cell.notebook.kernel.execute(cmd_clean, {\n        iopub: {\n          output: function(msg) {\n            const id = msg.content.text.trim();\n            if (id in Bokeh.index) {\n              Bokeh.index[id].model.document.clear();\n              delete Bokeh.index[id];\n            }\n          }\n        }\n      });\n      // Destroy server and session\n      const cmd_destroy = \"import bokeh.io.notebook as ion; ion.destroy_server('\" + server_id + \"')\";\n      cell.notebook.kernel.execute(cmd_destroy);\n    }\n  }\n\n  /**\n   * Handle when a new output is added\n   */\n  function handleAddOutput(event, handle) {\n    const output_area = handle.output_area;\n    const output = handle.output;\n\n    // limit handleAddOutput to display_data with EXEC_MIME_TYPE content only\n    if ((output.output_type != \"display_data\") || (!Object.prototype.hasOwnProperty.call(output.data, EXEC_MIME_TYPE))) {\n      return\n    }\n\n    const toinsert = output_area.element.find(\".\" + CLASS_NAME.split(' ')[0]);\n\n    if (output.metadata[EXEC_MIME_TYPE][\"id\"] !== undefined) {\n      toinsert[toinsert.length - 1].firstChild.textContent = output.data[JS_MIME_TYPE];\n      // store reference to embed id on output_area\n      output_area._bokeh_element_id = output.metadata[EXEC_MIME_TYPE][\"id\"];\n    }\n    if (output.metadata[EXEC_MIME_TYPE][\"server_id\"] !== undefined) {\n      const bk_div = document.createElement(\"div\");\n      bk_div.innerHTML = output.data[HTML_MIME_TYPE];\n      const script_attrs = bk_div.children[0].attributes;\n      for (let i = 0; i < script_attrs.length; i++) {\n        toinsert[toinsert.length - 1].firstChild.setAttribute(script_attrs[i].name, script_attrs[i].value);\n        toinsert[toinsert.length - 1].firstChild.textContent = bk_div.children[0].textContent\n      }\n      // store reference to server id on output_area\n      output_area._bokeh_server_id = output.metadata[EXEC_MIME_TYPE][\"server_id\"];\n    }\n  }\n\n  function register_renderer(events, OutputArea) {\n\n    function append_mime(data, metadata, element) {\n      // create a DOM node to render to\n      const toinsert = this.create_output_subarea(\n        metadata,\n        CLASS_NAME,\n        EXEC_MIME_TYPE\n      );\n      this.keyboard_manager.register_events(toinsert);\n      // Render to node\n      const props = {data: data, metadata: metadata[EXEC_MIME_TYPE]};\n      render(props, toinsert[toinsert.length - 1]);\n      element.append(toinsert);\n      return toinsert\n    }\n\n    /* Handle when an output is cleared or removed */\n    events.on('clear_output.CodeCell', handleClearOutput);\n    events.on('delete.Cell', handleClearOutput);\n\n    /* Handle when a new output is added */\n    events.on('output_added.OutputArea', handleAddOutput);\n\n    /**\n     * Register the mime type and append_mime function with output_area\n     */\n    OutputArea.prototype.register_mime_type(EXEC_MIME_TYPE, append_mime, {\n      /* Is output safe? */\n      safe: true,\n      /* Index of renderer in `output_area.display_order` */\n      index: 0\n    });\n  }\n\n  // register the mime type if in Jupyter Notebook environment and previously unregistered\n  if (root.Jupyter !== undefined) {\n    const events = require('base/js/events');\n    const OutputArea = require('notebook/js/outputarea').OutputArea;\n\n    if (OutputArea.prototype.mime_types().indexOf(EXEC_MIME_TYPE) == -1) {\n      register_renderer(events, OutputArea);\n    }\n  }\n  if (typeof (root._bokeh_timeout) === \"undefined\" || force === true) {\n    root._bokeh_timeout = Date.now() + 5000;\n    root._bokeh_failed_load = false;\n  }\n\n  const NB_LOAD_WARNING = {'data': {'text/html':\n     \"<div style='background-color: #fdd'>\\n\"+\n     \"<p>\\n\"+\n     \"BokehJS does not appear to have successfully loaded. If loading BokehJS from CDN, this \\n\"+\n     \"may be due to a slow or bad network connection. Possible fixes:\\n\"+\n     \"</p>\\n\"+\n     \"<ul>\\n\"+\n     \"<li>re-rerun `output_notebook()` to attempt to load from CDN again, or</li>\\n\"+\n     \"<li>use INLINE resources instead, as so:</li>\\n\"+\n     \"</ul>\\n\"+\n     \"<code>\\n\"+\n     \"from bokeh.resources import INLINE\\n\"+\n     \"output_notebook(resources=INLINE)\\n\"+\n     \"</code>\\n\"+\n     \"</div>\"}};\n\n  function display_loaded() {\n    const el = document.getElementById(\"1681\");\n    if (el != null) {\n      el.textContent = \"BokehJS is loading...\";\n    }\n    if (root.Bokeh !== undefined) {\n      if (el != null) {\n        el.textContent = \"BokehJS \" + root.Bokeh.version + \" successfully loaded.\";\n      }\n    } else if (Date.now() < root._bokeh_timeout) {\n      setTimeout(display_loaded, 100)\n    }\n  }\n\n  function run_callbacks() {\n    try {\n      root._bokeh_onload_callbacks.forEach(function(callback) {\n        if (callback != null)\n          callback();\n      });\n    } finally {\n      delete root._bokeh_onload_callbacks\n    }\n    console.debug(\"Bokeh: all callbacks have finished\");\n  }\n\n  function load_libs(css_urls, js_urls, callback) {\n    if (css_urls == null) css_urls = [];\n    if (js_urls == null) js_urls = [];\n\n    root._bokeh_onload_callbacks.push(callback);\n    if (root._bokeh_is_loading > 0) {\n      console.debug(\"Bokeh: BokehJS is being loaded, scheduling callback at\", now());\n      return null;\n    }\n    if (js_urls == null || js_urls.length === 0) {\n      run_callbacks();\n      return null;\n    }\n    console.debug(\"Bokeh: BokehJS not loaded, scheduling load and callback at\", now());\n    root._bokeh_is_loading = css_urls.length + js_urls.length;\n\n    function on_load() {\n      root._bokeh_is_loading--;\n      if (root._bokeh_is_loading === 0) {\n        console.debug(\"Bokeh: all BokehJS libraries/stylesheets loaded\");\n        run_callbacks()\n      }\n    }\n\n    function on_error(url) {\n      console.error(\"failed to load \" + url);\n    }\n\n    for (let i = 0; i < css_urls.length; i++) {\n      const url = css_urls[i];\n      const element = document.createElement(\"link\");\n      element.onload = on_load;\n      element.onerror = on_error.bind(null, url);\n      element.rel = \"stylesheet\";\n      element.type = \"text/css\";\n      element.href = url;\n      console.debug(\"Bokeh: injecting link tag for BokehJS stylesheet: \", url);\n      document.body.appendChild(element);\n    }\n\n    for (let i = 0; i < js_urls.length; i++) {\n      const url = js_urls[i];\n      const element = document.createElement('script');\n      element.onload = on_load;\n      element.onerror = on_error.bind(null, url);\n      element.async = false;\n      element.src = url;\n      console.debug(\"Bokeh: injecting script tag for BokehJS library: \", url);\n      document.head.appendChild(element);\n    }\n  };\n\n  function inject_raw_css(css) {\n    const element = document.createElement(\"style\");\n    element.appendChild(document.createTextNode(css));\n    document.body.appendChild(element);\n  }\n\n  const js_urls = [\"https://cdn.bokeh.org/bokeh/release/bokeh-2.4.3.min.js\", \"https://cdn.bokeh.org/bokeh/release/bokeh-gl-2.4.3.min.js\", \"https://cdn.bokeh.org/bokeh/release/bokeh-widgets-2.4.3.min.js\", \"https://cdn.bokeh.org/bokeh/release/bokeh-tables-2.4.3.min.js\", \"https://cdn.bokeh.org/bokeh/release/bokeh-mathjax-2.4.3.min.js\"];\n  const css_urls = [];\n\n  const inline_js = [    function(Bokeh) {\n      Bokeh.set_log_level(\"info\");\n    },\nfunction(Bokeh) {\n    }\n  ];\n\n  function run_inline_js() {\n    if (root.Bokeh !== undefined || force === true) {\n          for (let i = 0; i < inline_js.length; i++) {\n      inline_js[i].call(root, root.Bokeh);\n    }\nif (force === true) {\n        display_loaded();\n      }} else if (Date.now() < root._bokeh_timeout) {\n      setTimeout(run_inline_js, 100);\n    } else if (!root._bokeh_failed_load) {\n      console.log(\"Bokeh: BokehJS failed to load within specified timeout.\");\n      root._bokeh_failed_load = true;\n    } else if (force !== true) {\n      const cell = $(document.getElementById(\"1681\")).parents('.cell').data().cell;\n      cell.output_area.append_execute_result(NB_LOAD_WARNING)\n    }\n  }\n\n  if (root._bokeh_is_loading === 0) {\n    console.debug(\"Bokeh: BokehJS loaded, going straight to plotting\");\n    run_inline_js();\n  } else {\n    load_libs(css_urls, js_urls, function() {\n      console.debug(\"Bokeh: BokehJS plotting callback run at\", now());\n      run_inline_js();\n    });\n  }\n}(window));",
      "application/vnd.bokehjs_load.v0+json": ""
     },
     "metadata": {},
     "output_type": "display_data"
    },
    {
     "data": {
      "text/html": [
       "\n",
       "  <div class=\"bk-root\" id=\"0e8ad597-ecac-42d1-a02e-1e209a8d4352\" data-root-id=\"1731\"></div>\n"
      ]
     },
     "metadata": {},
     "output_type": "display_data"
    },
    {
     "data": {
      "application/javascript": "(function(root) {\n  function embed_document(root) {\n  const docs_json = {\"138754ce-2cc6-4b4c-b131-f2805900762c\":{\"defs\":[],\"roots\":{\"references\":[{\"attributes\":{\"children\":[{\"id\":\"1730\"},{\"id\":\"1728\"}]},\"id\":\"1731\",\"type\":\"Column\"},{\"attributes\":{\"data\":{\"Idx\":[0,1,2,3,4,5,6,7,8,9,10,11,12,13,14,15,16,17,18,19,20,21,22,23,24,25,26,27,28,29,30,31,32,33,34,35,36,37,38,39,40,41,42,43,44,45,46,47,48,49,50,51,52,53,54,55,56,57,58,59,60,61,62,63,64,65,66,67,68,69,70,71,72,73,74,75,76,77,78,79,80,81,82,83,84,85,86,87,88,89,90,91,92,93,94,95,96,97,98,99,100,101,102,103,104,105,106,107,108,109,110,111,112,113,114,115,116,117,118,119,120,121,122,123,124,125,126,127,128,129,130,131,132,133,134,135,136,137,138,139,140,141,142,143,144,145,146,147,148,149,150,151,152,153,154,155,156,157,158,159,160,161,162,163,164,165,166,167,168,169,170,171,172,173,174,175,176,177,178],\"col\":[\"red\",\"red\",\"red\",\"red\",\"red\",\"red\",\"red\",\"red\",\"red\",\"red\",\"red\",\"red\",\"red\",\"red\",\"red\",\"red\",\"red\",\"red\",\"red\",\"red\",\"red\",\"red\",\"red\",\"red\",\"red\",\"red\",\"red\",\"red\",\"red\",\"red\",\"red\",\"red\",\"red\",\"red\",\"red\",\"red\",\"red\",\"red\",\"red\",\"red\",\"red\",\"red\",\"red\",\"red\",\"red\",\"red\",\"red\",\"red\",\"red\",\"red\",\"red\",\"red\",\"red\",\"red\",\"red\",\"red\",\"red\",\"red\",\"red\",\"green\",\"green\",\"green\",\"green\",\"green\",\"green\",\"green\",\"green\",\"green\",\"green\",\"green\",\"green\",\"green\",\"green\",\"green\",\"green\",\"green\",\"green\",\"green\",\"green\",\"green\",\"green\",\"green\",\"green\",\"green\",\"green\",\"green\",\"green\",\"green\",\"green\",\"green\",\"green\",\"green\",\"green\",\"green\",\"green\",\"green\",\"green\",\"green\",\"green\",\"green\",\"green\",\"green\",\"green\",\"green\",\"green\",\"green\",\"green\",\"green\",\"green\",\"green\",\"green\",\"green\",\"green\",\"green\",\"green\",\"green\",\"green\",\"green\",\"green\",\"blue\",\"blue\",\"blue\",\"blue\",\"blue\",\"blue\",\"blue\",\"blue\",\"blue\",\"blue\",\"blue\",\"blue\",\"blue\",\"blue\",\"blue\",\"blue\",\"blue\",\"blue\",\"blue\",\"blue\",\"blue\",\"blue\",\"blue\",\"blue\",\"blue\",\"blue\",\"blue\",\"blue\",\"blue\",\"blue\",\"blue\",\"blue\",\"blue\",\"blue\",\"blue\",\"blue\",\"blue\",\"blue\",\"blue\",\"blue\",\"blue\",\"blue\",\"blue\",\"blue\",\"blue\",\"blue\",\"blue\",\"blue\",\"blue\",\"blue\",\"blue\",\"blue\",\"blue\",\"blue\",\"blue\",\"blue\",\"blue\",\"blue\",\"blue\",\"blue\"],\"group\":[\"Healthy\",\"Healthy\",\"Healthy\",\"Healthy\",\"Healthy\",\"Healthy\",\"Healthy\",\"Healthy\",\"Healthy\",\"Healthy\",\"Healthy\",\"Healthy\",\"Healthy\",\"Healthy\",\"Healthy\",\"Healthy\",\"Healthy\",\"Healthy\",\"Healthy\",\"Healthy\",\"Healthy\",\"Healthy\",\"Healthy\",\"Healthy\",\"Healthy\",\"Healthy\",\"Healthy\",\"Healthy\",\"Healthy\",\"Healthy\",\"Healthy\",\"Healthy\",\"Healthy\",\"Healthy\",\"Healthy\",\"Healthy\",\"Healthy\",\"Healthy\",\"Healthy\",\"Healthy\",\"Healthy\",\"Healthy\",\"Healthy\",\"Healthy\",\"Healthy\",\"Healthy\",\"Healthy\",\"Healthy\",\"Healthy\",\"Healthy\",\"Healthy\",\"Healthy\",\"Healthy\",\"Healthy\",\"Healthy\",\"Healthy\",\"Healthy\",\"Healthy\",\"Healthy\",\"prediabetic\",\"prediabetic\",\"prediabetic\",\"prediabetic\",\"prediabetic\",\"prediabetic\",\"prediabetic\",\"prediabetic\",\"prediabetic\",\"prediabetic\",\"prediabetic\",\"prediabetic\",\"prediabetic\",\"prediabetic\",\"prediabetic\",\"prediabetic\",\"prediabetic\",\"prediabetic\",\"prediabetic\",\"prediabetic\",\"prediabetic\",\"prediabetic\",\"prediabetic\",\"prediabetic\",\"prediabetic\",\"prediabetic\",\"prediabetic\",\"prediabetic\",\"prediabetic\",\"prediabetic\",\"prediabetic\",\"prediabetic\",\"prediabetic\",\"prediabetic\",\"prediabetic\",\"prediabetic\",\"prediabetic\",\"prediabetic\",\"prediabetic\",\"prediabetic\",\"prediabetic\",\"prediabetic\",\"prediabetic\",\"prediabetic\",\"prediabetic\",\"prediabetic\",\"prediabetic\",\"prediabetic\",\"prediabetic\",\"prediabetic\",\"prediabetic\",\"prediabetic\",\"prediabetic\",\"prediabetic\",\"prediabetic\",\"prediabetic\",\"prediabetic\",\"prediabetic\",\"prediabetic\",\"prediabetic\",\"diabetic\",\"diabetic\",\"diabetic\",\"diabetic\",\"diabetic\",\"diabetic\",\"diabetic\",\"diabetic\",\"diabetic\",\"diabetic\",\"diabetic\",\"diabetic\",\"diabetic\",\"diabetic\",\"diabetic\",\"diabetic\",\"diabetic\",\"diabetic\",\"diabetic\",\"diabetic\",\"diabetic\",\"diabetic\",\"diabetic\",\"diabetic\",\"diabetic\",\"diabetic\",\"diabetic\",\"diabetic\",\"diabetic\",\"diabetic\",\"diabetic\",\"diabetic\",\"diabetic\",\"diabetic\",\"diabetic\",\"diabetic\",\"diabetic\",\"diabetic\",\"diabetic\",\"diabetic\",\"diabetic\",\"diabetic\",\"diabetic\",\"diabetic\",\"diabetic\",\"diabetic\",\"diabetic\",\"diabetic\",\"diabetic\",\"diabetic\",\"diabetic\",\"diabetic\",\"diabetic\",\"diabetic\",\"diabetic\",\"diabetic\",\"diabetic\",\"diabetic\",\"diabetic\",\"diabetic\"],\"x\":{\"__ndarray__\":\"4+Jkh6sWQMChMY3RPP06wEEsPLaVB0XAKv81iy6cQcD65aH2xjg+wPikwsqHPCfAb41uYx2vRsAlzj/5bL1BwEaSiWGxpD3A4+hmkNDtPMBb/ITQCLk6wNZveJmc3SHAc8tcTZvlQ8Dqs/qJWnA7wA9tqlGYAEbA4gMguMPZPsCbcenMuNhAwE3SK8iIjjLA6vmAn/QjNsApUheu1Cc1wO7g59hsKTfAcK9cf+UyOcCmquVJ9Dc3wG12Qj1tADfAmWoKDyJGMMD2f9SVEdjEv/6xEeJaJDPAXDUgA8iTCcCDJgQ9LssOwMM8XNizlCRANqEfzt5BFEBEO4wEa7A1QIzIdeJVPSHAf/+xi+NMAMDA/OoeOlDwP3ClvAMldRtAWtsCO0VO6D84be7ewcACQIknL37KL9s/kbwuVdHIIUCh3Vn1WM0LwPvzho1doyFAJ8fPkamzOMCPmGOaD480wCvPXug42SzAQO+1mlilHcCiaHl2uZxBwJ7s5AHx/TzAaSY6nPkwRsD/wr41Snk/wOQ0VzJ6+0DAEkD5x09AQcDLNriLDh0vwMuKpQcrbTbAZGwhLk9lOsB8Amw8Sp08wMSf9lNTkTbAPw9KnsuqM8BF8yep+yRAwHOH3rruUzrAyih9CxL7E8And2/DH2IhQBjK81qwbivAVCdvy0nJib8yED6dM9H7v2UolbmXXAVAYP7MEKUQMMAsAE0RxVX5v3t0iwKW1y/ADIYNB9oLuj859gUpGPwMwAnbK4dLNDFAYl74eX5rEcCbb550C2QpQPv96yNgThLABa1meumlKUDTER8ENI7fPywJ/+fhFCFAgisl6UsE0z90TifvbMk4QKN38ITZWAFAvcBv68hmK0B3dWv7d/UUwFNpmYQH/jBAAvpsvS12RUCdCukwKoVKQIbPNGt+bj9Awtghqc1/RkC1+8yeiJhDQHhmKgFJCkhANQjIbJ/GAcC672WSQxAtQNby0fFAoynA+BLYt7UdDEAps8OHHBUWQAlPqnfL8jRAZdpdL3PeCsArLAsYM44iQN0pVeW4pSnAGZ49kVxGD0DoqUgs7gQ0QGTg6xJPSDZAZML1Fww2JMAFjCQTw+EaQPCHpMzO4yJA1ObFkMFUNEBXCA/UxSQBwJerXr2tVR9AznkIqWEf+b+0bAAAmGUxQFUYx15j9BZAhEE2W8ykO0CY1OUhE6YmQMmdOaDHUjpAxJFW5/xJCkDkkSjxvfwmQLaGjkdcFQJAbvUoLUsEKUBXe2E1R24ZQMH8uKfzCS9AhAC/Zxx1JsB3o8hToq/qPwyrG7FQIzZAXmKtve71OUBXp7ilEm4WQG2lfMVUqzNASQ6BcX1mPEAI53pStD4/QGXIG8ySMzBArhw38jXIOkAfl7EiyxQzQCYO23e4pkFAS+By7xDoD8BXhXbQUDwWQI5YictYTBrAfEwCfbNzBEBWNolb/tIFwMwkZ3RHFBJAYce6Z+8YM8B4zBeUUXsWQB9sVktc0xzAYiQ7eFGVIEA/sAS8ZYbxv9oVVLhviilAMJcD9zLZJcD8HtHefygxQPx0eAyN0RdAgRlsErP6MkDTeU5Wx+bxP8dIznuvZjJAeru6PbB2K8CyU2DHkoHOv5QsBmRs/yTA9pkh59D3zr9zXgciYUAgwPDVcZ7zIRBAlIJ4JxuQPUD022YGvTFBQJhX357omTlAjZVwMBKQO0BV7/YXofQ+QOcLGJowb0ZAyDTMfzFeLMCyt2/aNeQGwPPW3y1N1h1AcDdOgsr+NkB2Z69Kob03wFpsNKVhyS3A1k3jYehOwD9hC2thpp8sQNGaXrG1xjNATL+2pcgzQkA68KSUdwERQBjcNv6b+jFA2vMVIF4AMEAcnDw4vDg4QC/SnLSaDi1AdC0kYMmOPUAd5yqU+TsoQA==\",\"dtype\":\"float64\",\"order\":\"little\",\"shape\":[179]},\"y\":{\"__ndarray__\":\"prNAAbLiGcBuIkmbLRwrwPZBLfuw2SBAeAMzgl1HB8Ar3YP5AmYXwIrNGuBogDLA3jY4sappEUBdkm1Vy0IewHo5o+UUDizABzXwlOghNMBlkZWj+VAqwDh38pKugDrACoYJ8aaJFMD/WS4Ic6crwBSoGUul1AnAI5pSqW/DKcBJK/h8foknwGuzIatI8TTA1SX86Ye4K0ABSeARKnYvQPeo1JGrYS5AFx9pjmd+GECTgTGJu7onQPMP1yr6IPg/tDQsOH2EJEBy2l4krYYJwOU/CKLzXSVANbphGZSmCMBpu1UkNv72P4sYJYvD+iLAnV8XD0zaJ0C6RGA/KgEQwFATqImsmStA2rkSUD7sBcBtqSj7yUodQPerbLlgLhPAyFPFUCIyAsBbZ1EV6k8mwBFnJJmPIh3AEiYsNdTkKsBURmUEO3D5v72hedaa6y7AUhIw/RaZHsCdEf7VS2UywJo1+7LV7x7AP/2i7AU1MMBg5gRLpmzbPwRAWbKrhSbAldZjx6wuA8BB5CmXMicjwLLIi3VodhnABqaHriVOLMAsgDzh9IklwKTBYkeNMy3A6wqovD5AJEDRLDEeeJPeP341RCIo4SFA352TNpty7r/C2LgTdUUoQFUel7PeKP0/WQuDgUs/GUCE/y0ZhEEQwPESA20uJiBAFOs3WYAXBcAdpEcOT6wRQM44uExFm/u/tBXW+de4GUCi3CovTtgKwH28TTrOvSFAwe2Aax+PF8DNAIi2gxkbQHm9JLi2rCXA7YnXmck7z79RmkcT5DYpwCSp9gVAqQpAn1MfnMiRIsAS4C0vDdcTQIO7WNd4TRrAauvVQ72ZH0BEnv/Qu9IRwLA0fp5erCNAAJklXgT8tz+tVx1TLJEiQDY4PrR1pxrAub113/sDFsB2+t2Qk9sswH+44NVFEABATm3eLg9MHcCE9A28jPkVwDLUD/RlZCzAcaMQE67TK0Dpe4mzOqXnP+H2hxoTZzlAtkqh0yTwG0DyAilld1MjQMBU8w5PVhfAvpiyoG7uLEBqv+ApnrwQQImSJLW3rjFAdls7Cd2gG0Cwst2hN9IYQKAhF9xolOc/9N7wVHsND8Dsa+5EMwMswPgmiCdw9wjAXFchHtEALMC/Dv2hhwUjQDJRX8d/VhDAZ9OHI4HAKUBLQQC6qhrlv82grvDpkyRAQlVQVbMLIsC0Rini8I8YQEvF5YsqdxzAurnPMmfQLUA08EA+/zINQPXoTDtFWi1Azaeugd+4EEAaoYPzzQ4eQE0iTCifpwLAi3Ud+kUBOEB/dQn8qqIkQHgn4XYE/S1Acehx8lwoDEDqJagbOHwjQIusCbe2U9q/xZk5LUoPKUAyqcayhTUEQDGNPc/iJjBA4PJpgKlVGEALWITjuiAuQP4uMJRQo/w/SZUH4FJfDECTQ6F+33oVwMYEBeD1Yf4/nNqFq8mXIcAPkvxtPUMRQFm9RhTSxw/ASKvxYbdxC8CH9dJoY50ywFV9oGT9FhlAbz/OpXtxGcA4eMgMGvj3v7GiivKBCSfAPDlwoTY7HkAR/6OYcwgXwNnvaMUyZPG/8YQmA8vOJMCEMtETIdYOwLT+gpCOESrAZx/e8fRTJUASCa+cNAr/v/P4FfORph1AKUFe2+M2EcBwwu33/pQMQCc7esss1yHANB7+rO/yH0BgIzXU6t7pPwWgqYGW7RJAuruHS1CA5D+IknPo/90ZQLnDIEtmsBLA2NSsBokX/j+sKysUHGIMwOn8EXmAKv6/m9Q2mIQcJMDd5sOawuwoQJ6tKBji/B5AUrisdMJgEkC19prNxpYVwEibNu0Pfu0/HwIKIYCXHcCo9z2yfKftP6Sr0cZRGyLARCJcwkVCMkCXMv7EjZgkQAjnVfvhEzJAyLDrtRnGIkBc7o/rQio3QA==\",\"dtype\":\"float64\",\"order\":\"little\",\"shape\":[179]}},\"selected\":{\"id\":\"1547\"},\"selection_policy\":{\"id\":\"1546\"}},\"id\":\"1499\",\"type\":\"ColumnDataSource\"},{\"attributes\":{\"axis_label\":\"PC 1 (29.1%)\",\"axis_label_text_font_size\":\"13pt\",\"coordinates\":null,\"formatter\":{\"id\":\"1598\"},\"group\":null,\"major_label_policy\":{\"id\":\"1599\"},\"ticker\":{\"id\":\"1566\"}},\"id\":\"1565\",\"type\":\"LinearAxis\"},{\"attributes\":{\"fill_alpha\":0.2,\"fill_color\":\"red\",\"hatch_alpha\":0.2,\"hatch_color\":\"red\",\"line_alpha\":0.2,\"line_color\":\"red\",\"x\":{\"field\":\"x\"},\"y\":{\"field\":\"y\"}},\"id\":\"1630\",\"type\":\"Patch\"},{\"attributes\":{},\"id\":\"1599\",\"type\":\"AllLabels\"},{\"attributes\":{},\"id\":\"1704\",\"type\":\"Selection\"},{\"attributes\":{\"fill_alpha\":0.1,\"fill_color\":\"red\",\"hatch_alpha\":0.1,\"hatch_color\":\"red\",\"line_alpha\":0.1,\"line_color\":\"red\",\"x\":{\"field\":\"x\"},\"y\":{\"field\":\"y\"}},\"id\":\"1623\",\"type\":\"Patch\"},{\"attributes\":{\"fill_alpha\":0.01,\"fill_color\":\"red\",\"hatch_alpha\":0.01,\"hatch_color\":\"red\",\"line_alpha\":0.01,\"line_color\":\"red\",\"x\":{\"field\":\"x\"},\"y\":{\"field\":\"y\"}},\"id\":\"1628\",\"type\":\"Patch\"},{\"attributes\":{},\"id\":\"1547\",\"type\":\"Selection\"},{\"attributes\":{},\"id\":\"1523\",\"type\":\"ResetTool\"},{\"attributes\":{\"coordinates\":null,\"data_source\":{\"id\":\"1615\"},\"glyph\":{\"id\":\"1616\"},\"group\":null,\"hover_glyph\":null,\"muted_glyph\":{\"id\":\"1618\"},\"nonselection_glyph\":{\"id\":\"1617\"},\"view\":{\"id\":\"1620\"}},\"id\":\"1619\",\"type\":\"GlyphRenderer\"},{\"attributes\":{},\"id\":\"1561\",\"type\":\"LinearScale\"},{\"attributes\":{},\"id\":\"1541\",\"type\":\"BasicTickFormatter\"},{\"attributes\":{\"source\":{\"id\":\"1639\"}},\"id\":\"1644\",\"type\":\"CDSView\"},{\"attributes\":{\"fill_alpha\":0.1,\"fill_color\":\"blue\",\"hatch_alpha\":0.1,\"hatch_color\":\"blue\",\"line_alpha\":0.1,\"line_color\":\"blue\",\"x\":{\"field\":\"x\"},\"y\":{\"field\":\"y\"}},\"id\":\"1653\",\"type\":\"Patch\"},{\"attributes\":{\"coordinates\":null,\"group\":null,\"line_alpha\":0.15,\"line_width\":3,\"location\":0},\"id\":\"1607\",\"type\":\"Span\"},{\"attributes\":{\"coordinates\":null,\"data_source\":{\"id\":\"1621\"},\"glyph\":{\"id\":\"1622\"},\"group\":null,\"hover_glyph\":null,\"muted_glyph\":{\"id\":\"1624\"},\"nonselection_glyph\":{\"id\":\"1623\"},\"view\":{\"id\":\"1626\"}},\"id\":\"1625\",\"type\":\"GlyphRenderer\"},{\"attributes\":{\"fill_alpha\":{\"value\":0.6},\"fill_color\":{\"field\":\"col\"},\"hatch_alpha\":{\"value\":0.6},\"hatch_color\":{\"field\":\"col\"},\"line_alpha\":{\"value\":0.6},\"line_color\":{\"field\":\"col\"},\"size\":{\"value\":5},\"x\":{\"field\":\"x\"},\"y\":{\"field\":\"y\"}},\"id\":\"1534\",\"type\":\"Circle\"},{\"attributes\":{\"fill_alpha\":{\"value\":0.1},\"fill_color\":{\"field\":\"col\"},\"hatch_alpha\":{\"value\":0.1},\"hatch_color\":{\"field\":\"col\"},\"line_alpha\":{\"value\":0.1},\"line_color\":{\"field\":\"col\"},\"marker\":{\"value\":\"triangle\"},\"size\":{\"value\":7},\"x\":{\"field\":\"x\"},\"y\":{\"field\":\"y\"}},\"id\":\"1589\",\"type\":\"Scatter\"},{\"attributes\":{\"source\":{\"id\":\"1663\"}},\"id\":\"1668\",\"type\":\"CDSView\"},{\"attributes\":{\"source\":{\"id\":\"1669\"}},\"id\":\"1674\",\"type\":\"CDSView\"},{\"attributes\":{\"coordinates\":null,\"data_source\":{\"id\":\"1627\"},\"glyph\":{\"id\":\"1628\"},\"group\":null,\"hover_glyph\":null,\"muted_glyph\":{\"id\":\"1630\"},\"nonselection_glyph\":{\"id\":\"1629\"},\"view\":{\"id\":\"1632\"}},\"id\":\"1631\",\"type\":\"GlyphRenderer\"},{\"attributes\":{\"fill_alpha\":{\"value\":0.1},\"fill_color\":{\"field\":\"col\"},\"hatch_alpha\":{\"value\":0.1},\"hatch_color\":{\"field\":\"col\"},\"line_alpha\":{\"value\":0.1},\"line_color\":{\"field\":\"col\"},\"size\":{\"value\":5},\"x\":{\"field\":\"x\"},\"y\":{\"field\":\"y\"}},\"id\":\"1535\",\"type\":\"Circle\"},{\"attributes\":{\"fill_alpha\":0.2,\"fill_color\":\"red\",\"hatch_alpha\":0.2,\"hatch_color\":\"red\",\"line_alpha\":0.2,\"line_color\":\"red\",\"x\":{\"field\":\"x\"},\"y\":{\"field\":\"y\"}},\"id\":\"1624\",\"type\":\"Patch\"},{\"attributes\":{\"line_alpha\":0.2,\"line_color\":\"green\",\"x\":{\"field\":\"x\"},\"y\":{\"field\":\"y\"}},\"id\":\"1666\",\"type\":\"Line\"},{\"attributes\":{\"line_alpha\":0.2,\"line_color\":\"blue\",\"x\":{\"field\":\"x\"},\"y\":{\"field\":\"y\"}},\"id\":\"1642\",\"type\":\"Line\"},{\"attributes\":{\"data\":{\"x\":{\"__ndarray__\":\"EP4rKSjsR0ADR+urYBJIQA88jkYiJEhAANxfq1ohSEAJJuq3DApIQObzAXJQ3kdAwZgD71KeR0CVy1klVkpHQN7Efqiw4kZA+Ka9T81nRkD1LxDIKtpFQCo8ihFbOkVAU7TZ6AKJREDNCnYd2cZDQGJULtWl9EJAaD3YvUETQkAdiPQtlSNBQDhSLzWXJkBAHAZmO5k6PkDA0ai+jRE8QMBEWgtG1DlAZtSNFBGFN0BYTw1IUCY1QLZ5Ihp1ujJAHrfbgP5DMEBdusjC7IorQAVGL+TdgiZAwIEBKAB1IUDWpQ6aEs0YQLxcfr++cg1AhJ0XXCfl8j8wb5EKfKP0v1SAJhHWxQ3AhrNub9NqGMA5k42NYtsgwN9drV+VXiXAeXBbYFu6KcDTu8FlNuotwIY3xsXq9DDAlCLu0ozaMsDaBnzADKQ0wM4crvSSTzbARkYAvGbbN8A423QP8EU5wMYgLzm5jTrAAtqtVXCxO8Cu1xiw6K88wKh9OvgbiD3AWLblUCs5PsDKmLE1YMI+wDbxHTctIz/ArLpejC5bP8BQQDh6Kmo/wELegY4RUD/A5AkSsP4MP8DoNwMDN6E+wAQ2bqEpDT7AQHDjKG9RPcBeMBkdyW48wE4CcSAhZjvASt4hA4g4OsDAWv+pNOc4wLTJ/82CczfANJzLlfHeNcCmiMcKIis0wEiWMGvVWTLAkjEFW+tsMMB1TTHrv8wswA1XnYOTkCjAMcQ1Fq8pJMDeQfGFODkfwFpKGgsY3BXAGIoPfUeLCMCwVA7Y7f3jvzQMe/Ibrv0/Hljw3/BxEUDnYy5rKokbQDaMI2Nm0yJAFh7jPjXgJ0CHv0chzeUsQJDyVGmA7zBAOlms8FdjM0BApj/15cs1QHJqNuiuJjhAOtJvbEVxOkBAjAbXTKk8QDK3np57zD5Alal9205sQEAdgzZry2VBQP9sYVGyUUJAaGu/YRAvQ0Bt+JVrAf1DQHs+6CSxukRAix1MBVxnRUB8Z3kPUAJGQOWNw4jtikZABaDAnacAR0Cj3nPzBGNHQP9BZiSgsUdAEP4rKSjsR0A=\",\"dtype\":\"float64\",\"order\":\"little\",\"shape\":[100]},\"y\":{\"__ndarray__\":\"2JWbLx1fLMColTyOq2oqwJR9vVDGVyjAaB1OuZAoJsDKLOA5S98jwEIA8SFRfiHA8XBDYSwQHsAM/T0bSP4YwL2u5lYvzBPALoDZV3r+DMCeEX++0DkCwDhTZgnuVe2/8B+ls1ga3T8cNT9mZ0r9Pyq3x5DlpAlAfxtiGoVLEkAHsUmOLLgXQIwwsq/REh1A6lhPzfcqIUC0/vbVDL4jQBJAZYwAQCZAWDurMz2uKEBqPHhhQQYrQL4JSZOiRS1Akqj6qw9qL0BYr5erqbgwQHLaByirrDFAZGGHxBCQMkAJfzwZ8GEzQH+B285wITRA9hapfc3NNEAyofd4VGY1QMzMTYZo6jVAfqB5f4FZNkCk8ujeLLM2QAaZtjUO9zZAWKLyit8kN0BXYcOjcTw3QG3vFDSsPTdAHvek940oN0Dg9FCzLP02QNGVpR61uzZA+FXGtWpkNkAm4txzp/c1QPryV3bbdTVADj5ZiYzfNEBGn8mdVTU0QDamoSnmdzNAgSsLcwGoMkCEXxbHfcYxQJjR0ZxD1DBACk5SS5mkL0DmCgOYRYMtQDoHOkK+RitAyl6/dlHxKEAepUEMZ4UmQJIJhAh+BSRAKHmmDSp0IUA9hl1kIagdQF9ZH43NTxhAbef7FdvkEkBaus1hv9kKQLxwbf75tf8/iJT7HxJj4z/4IKa6Q4bov46FzXCyCAHABh7x1WLRC8D013MrQjgTwKChqAGSbRjAOYd3hUKDHcBCMsvzCjohwPR6XSx6nSPAGtLMpHjpJcCOhyc/qBsowKBw/HfFMSrAQOi6u6kpLMA+nD6eTQEuwBYdPvLKti/AuyA6Xy+kMMDE4D+HNVoxwEjrzE68/DHAjwC2LByLMsDyGbtdwgQzwOir0HsxaTPApiFj/wG4M8D7Ug+q4vAzwNPxYdqYEzTAPptHyAAgNMDwPu+pDRY0wNTX+MDJ9TPACN/iT1a/M8ASX8F363IzwPb+Yf7XEDPAaqkY/YCZMsCAhIh4YQ0ywLim1OEJbTHAxEG7gR+5MMCsfGmct+QvwIrUjFYXMy7A2pWbLx1fLMA=\",\"dtype\":\"float64\",\"order\":\"little\",\"shape\":[100]}},\"selected\":{\"id\":\"1710\"},\"selection_policy\":{\"id\":\"1709\"}},\"id\":\"1663\",\"type\":\"ColumnDataSource\"},{\"attributes\":{},\"id\":\"1544\",\"type\":\"BasicTickFormatter\"},{\"attributes\":{},\"id\":\"1698\",\"type\":\"Selection\"},{\"attributes\":{},\"id\":\"1713\",\"type\":\"UnionRenderers\"},{\"attributes\":{},\"id\":\"1563\",\"type\":\"LinearScale\"},{\"attributes\":{},\"id\":\"1596\",\"type\":\"AllLabels\"},{\"attributes\":{},\"id\":\"1714\",\"type\":\"Selection\"},{\"attributes\":{\"fill_alpha\":0.07,\"fill_color\":\"red\",\"hatch_alpha\":0.07,\"hatch_color\":\"red\",\"line_alpha\":0.07,\"line_color\":\"red\",\"x\":{\"field\":\"x\"},\"y\":{\"field\":\"y\"}},\"id\":\"1622\",\"type\":\"Patch\"},{\"attributes\":{\"line_alpha\":0.1,\"line_color\":\"blue\",\"x\":{\"field\":\"x\"},\"y\":{\"field\":\"y\"}},\"id\":\"1641\",\"type\":\"Line\"},{\"attributes\":{},\"id\":\"1703\",\"type\":\"UnionRenderers\"},{\"attributes\":{\"coordinates\":null,\"data_source\":{\"id\":\"1633\"},\"glyph\":{\"id\":\"1634\"},\"group\":null,\"hover_glyph\":null,\"muted_glyph\":{\"id\":\"1636\"},\"nonselection_glyph\":{\"id\":\"1635\"},\"view\":{\"id\":\"1638\"}},\"id\":\"1637\",\"type\":\"GlyphRenderer\"},{\"attributes\":{},\"id\":\"1573\",\"type\":\"PanTool\"},{\"attributes\":{\"coordinates\":null,\"dimension\":\"height\",\"group\":null,\"line_alpha\":0.15,\"line_width\":3,\"location\":0},\"id\":\"1608\",\"type\":\"Span\"},{\"attributes\":{\"data\":{\"x\":{\"__ndarray__\":\"/ARp2TANK0Ag/oKM7SArQD6TguMYKitAqnS3aqkoK0D25+2coBwrQN5O6OEKBitADoOVgf/kKkBgNRGMoLkqQIoNh7YahCpAJ7wcLaVEKkCzgBJagfspQKTDVKL6qClAIkfEF2ZNKUBgC4UhIukoQJtLrhqWfChApOO/5zEIKEAZ8UqDbYwnQOKVRILICSdA71iCkMmAJkCctufl/fElQG7607T4XSVACHFmklLFJEA8WzXZqCgkQHfEGQediCNAYXC3FtTlIkBieWzV9UAiQD7uVzasmiFA9rwpo6LzIEBbgXBLhUwgQG23NuYATB9AMIzNgX8BHkBd6dYa27ocQLhMC2dkeRtAdM+TxWY+GkBRWnTpJgsZQKqk1orh4BdApgSPIMrAFkB6myujCawVQKiT1Fq9oxRAGgA5ufWoE0Dbf7dAtbwSQH0l5Hnv3xFAElN++IcTEUBoUdlwUVgQQHrqUr0ZXg9AhG0rfNEwDkB0l7WvACoNQBJYckK2SgxAzAOmYNiTC0DW6hOLIwYLQG47rtQpogpA3HwCTFJoCkCG2v2Q2FgKQDjBdpfMcwpAxCm7lhK5CkC6hDQmYygLQPTAA4dLwQtAgoxJGi6DDEAc4qADQ20NQKRmJPeYfg5A+DcqMha2D0Ao49rOPIkQQHQpugwuSRFA2nH39hgaEkCwCDoyJvsSQGqZisFt6xNASJ129ffpFEAjIGJrvvUVQIqrABytDRdAuIjed6MwGEBOC9WQdV0ZQE5FN0/tkhpAenB4scvPG0AWjAIVyhIdQCM26oabWh5AVKskG+6lH0DyEW8ktnkgQBa9RCXfICFA1hgfwMXHIUAdynvpvW0iQLlZo4scEiNAw9YENzi0I0CMT97QaVMkQJwWfj8N7yRAMkNrE4KGJUAdDscsLBkmQJ2QPFx0piZA4P/Y/sgtJ0DuviuUnq4nQKWGE05wKChA12ekmcCaKEBviZmgGQUpQHEzzcINZylAZvA5BzjAKUBqSBCEPBAqQOnKdb3IVipAVLyL+pOTKkBTwmWQX8YqQEhIoyL37ipA/ARp2TANK0A=\",\"dtype\":\"float64\",\"order\":\"little\",\"shape\":[100]},\"y\":{\"__ndarray__\":\"wC+D3Vwi3r989YIc8A7Wv9h0gYts+8q/kMyBsRDesb/wdSMlY+mzP9ATA3FInM0/xLlfy7z52D+Y0AZVU7nhP5jjrCQLF+c/UsK3xX2Q7D+zzc9JAxDxP3EwtRL13/M/D5AnGy619j/dFt3Pwoz5P498RC/FY/w/fGWkzkc3/z/UoU9vMAIBQECz/5UWZAJAcl3ZjOm/A0DYYXLIQhQFQCzBF3LDXwZAFKt00RWhB0CjHNOs7tYIQLQRi54OAApA4FNAXkMbC0Bsg5v8aCcMQBHmOBBrIw1AMsaW0kUODkAVrN0rB+cOQORnbqzPrA9AuFaauWkvEEDWauh/LX4QQP4Q4PdhwhBAPkLg0sD7EEBTsGHtDioRQBHt7IscTRFAioFOjMVkEUDIPNaK8XARQNVUe/uTcRFAim/LNqxmEUAoPpd6RVARQK/5W952LhFA/LF1O2MBEUAm+TIJOckQQOby7iwyhhBA3CdjvpM4EEDBQ92AW8EPQDJ4N521/Q5AzVdzf/8mDkAIFNR7Fj4NQAgFG6nqQwxAMIYK6X05C0AQbZHe4h8KQOggsdI7+AhANSZCibnDB0ACk8sGmoMGQBtDsUgnOQVA1LgK8bXlA0AhT4Hno4oCQM+xn/BWKQFArdMMenaG/z9aTwPkg7P8P/SOBlq/3Pk/CaASBxYF9z9puPkBdi/0P23uLkjLXvE/UsB1dfkr7T+LMupA0q/nPxsvL2HITuI/aM/kos4c2j+AlX+JY9DPP0B21iz9KLg/gOxR5eeWq7+wHSowtgrJv2TtrPPgI9W/mC9eB4xF3b8wKoE//XDiv6S9K++p+OW/nCSyiyg26b9UAnkFIibsv3yfsDWPxe6/5Pev/t2I8L+ITmwHJYTxv2BTWq+ZU/K/EKrsHGb28r+ggCx/4mvzv/SmtrqVs/O/YIWS5jXN878YQmKYqLjzv2yMnf8CdvO/Lvy6z4kF87/oh175sGfyv4oS1jIbnfG/3EJfUJmm8L+cFMfZUgrvvxSDEMjrc+y/YLtBPaiM6b8YjYBlhlfmv2QqqLHU1+K/yC+D3Vwi3r8=\",\"dtype\":\"float64\",\"order\":\"little\",\"shape\":[100]}},\"selected\":{\"id\":\"1708\"},\"selection_policy\":{\"id\":\"1707\"}},\"id\":\"1657\",\"type\":\"ColumnDataSource\"},{\"attributes\":{\"below\":[{\"id\":\"1565\"}],\"center\":[{\"id\":\"1568\"},{\"id\":\"1572\"},{\"id\":\"1603\"},{\"id\":\"1607\"},{\"id\":\"1608\"}],\"height\":430,\"left\":[{\"id\":\"1569\"}],\"min_border_bottom\":20,\"min_border_left\":20,\"min_border_right\":20,\"min_border_top\":20,\"renderers\":[{\"id\":\"1591\"}],\"title\":{\"id\":\"1555\"},\"toolbar\":{\"id\":\"1580\"},\"toolbar_location\":null,\"width\":490,\"x_range\":{\"id\":\"1557\"},\"x_scale\":{\"id\":\"1561\"},\"y_range\":{\"id\":\"1559\"},\"y_scale\":{\"id\":\"1563\"}},\"id\":\"1554\",\"subtype\":\"Figure\",\"type\":\"Plot\"},{\"attributes\":{\"fill_alpha\":{\"value\":0.2},\"fill_color\":{\"field\":\"col\"},\"hatch_alpha\":{\"value\":0.2},\"hatch_color\":{\"field\":\"col\"},\"line_alpha\":{\"value\":0.2},\"line_color\":{\"field\":\"col\"},\"size\":{\"value\":5},\"x\":{\"field\":\"x\"},\"y\":{\"field\":\"y\"}},\"id\":\"1536\",\"type\":\"Circle\"},{\"attributes\":{\"fill_alpha\":{\"value\":0.2},\"fill_color\":{\"field\":\"col\"},\"hatch_alpha\":{\"value\":0.2},\"hatch_color\":{\"field\":\"col\"},\"line_alpha\":{\"value\":0.2},\"line_color\":{\"field\":\"col\"},\"marker\":{\"value\":\"triangle\"},\"size\":{\"value\":7},\"x\":{\"field\":\"x\"},\"y\":{\"field\":\"y\"}},\"id\":\"1590\",\"type\":\"Scatter\"},{\"attributes\":{},\"id\":\"1693\",\"type\":\"UnionRenderers\"},{\"attributes\":{\"data\":{\"x\":{\"__ndarray__\":\"rh8T25nLK8CSefqGLMkrwO2C4pY30SvAp59EwLLjK8B+8iT2igAswPiptXyiJyzA7Gn9B9FYLMBwOWHl45MswHIj5y+e2CzAB6v7DrkmLcCsXnn/430twLhCpybF3S3AqIXYrvlFLsDPA04tFrYuwPyU8BCnLS/AFAByGTGsL8Dk4yzrmBgwwIVsvRYQXjDAY8AjdDamMMDJ/LijwfAwwB6yIM5kPTHAEo5+89CLMcAYjeU8tdsxwHrBrE+/LDLAn8lTopt+MsBfc5/S9dAywCrIlfx4IzPAuNf/EdB1M8D1DBcypsczwBCsAwGnGDTAwkjS/n5oNMBQkYbd27Y0wDm08tVsAzXA0uv7+uJNNcA1WvaK8ZU1wMVXxD5O2zXAjqRnlrEdNsBNj7Ui11w2wFMY4st9mDbAlFiZFGjQNsD+AWJZXAQ3wISiBwwlNDfAwmrP6pBfN8Dfjz4zc4Y3wKjxPdCjqDfANXVrg//FN8CwfG4JaN43wCkJKjnE8TfAKl6sHQAAOMDEasEKDQk4wF3DEqzhDDjA4pTFDnoLOMCdp4yl1wQ4wHs/KkcB+TfAsGNjJwPoN8AY0mvK7tE3wJSV1/LatjfAT9wkiuOWN8ArPfaDKXI3wCYVG7zSSDfARgCJzwkbN8CYqG7w/eg2wPUyjbXisjbAFnAK5e94NsBIo/I6YTs2wLEipSt2+jXAUkpronG2NcD9Ln28mW81wMAsu4A3JjXAmtFmlJbaNMBvvSjtBI00wKzYs4DSPTTAcrhY8lDtM8BGJ94+05szwL2R9WatSTPAtYWjGDT3MsDGhvVXvKQywPcyXyebUjLA8g0ZMCUBMsBjR9tqrrAxwFVyTsmJYTHAx2eL4AgUMcBTdwKVe8gwwBiWIMgvfzDAtnAHCHE4MMAoQ1aDEOkvwMSoS+t2Zy/Ac6gd4JrsLsCWzT4H+3guwNnd2JAODS7AGkDwvESpLcDiKrZoBE4twFjRf6Sr+yzA+tvPUo+yLMDdINbQ+nIswO7Nv6gvPSzARhooTmURLMDGIu/kyO8rwCLesRJ92CvArh8T25nLK8A=\",\"dtype\":\"float64\",\"order\":\"little\",\"shape\":[100]},\"y\":{\"__ndarray__\":\"01/ipGgQEcAXl7oDBTgQwLqPVS4Ivg7A4Ri2IIsMDcD4sQO4UV0LwPa+KHgYsgnActRVxZcMCMBysAoegm4GwBBsM1uC2QTAuJYn+DlPA8Ciy1BkP9EBwJteNGAcYQDAWgAgz5gA/r8efldUdmD7v/ZG6SmG5Pi/jK/E2VeP9r+w9C/6UmP0v+rDOLO0YvK/dMfhb42P8L/8etx6fdftv3gy+rXy8eq/oL7m9nZx6L/YJQN3nljmv7iltJqSqeS/2Nnxtg9m478Y1ztHY4/ivxBg25VqJuK/ZI7E15Er4r+MFAy9057iv3gTYXa5f+O/jN6FL1vN5L9Ub0n+YIbmv1QxC0UEqei/jLVbhxEz67/IOteu6iHuv7yk8d5EufC/fK3D9sGQ8r9gDpWZhpX0v1LjSBV+xfa/IlEPMGce+b+U12l71p37v+BWsdI4Qf6/DMpFAeuCAMAW60nLafQBwPBpKeWbcwPAHuM+Tfb+BMDklal54ZQGwHLjZvy6MwjAKt+lMtfZCcA5UZj9goULwFvE+oIFNQ3AdkOF86HmDsB7KriqTEwQwFHGmiiWJBHAJmBYf077EcCiQ2NYmM8SwM4Z296YoBPAP3EgoXhtFMB0SupuZDUVwIC6+DKO9xXArzuExy2zFsCZsI7EgWcXwNBsQUfQExjA6r+KsWe3GMCdfTVhn1EZwIrGvV3Y4RnAk+Ev/H1nGsCmOWh4BuIawAqHFoPzUBvARsDxw9KzG8CCm5ZPPgocwMYflxDdUxzAlPlOI2OQHMD46R0kkr8cwFast2854RzAtAdHVTb1HMC6XDA6dPscwNDTTq/s8xzAcEaWd6feHMCcDROAurscwKD0T8lJixzAnpw5QodNHMBNkqWUsgIcwO8ksuMYqxvAfqRCfBRHG8A8/ul3DNcawHSro1J0WxrAHIDIc8vUGcC6D7qqnEMZwJAJzJ99qBjAmwv/OQ4EGMDA8iv691YXwJSRSUztoRbAmuqAz6jlFcDrhM2V7CIVwNgo8FuBWhTAWDyCujWNE8CODP9Q3bsSwGKLnutP5xHA1F/ipGgQEcA=\",\"dtype\":\"float64\",\"order\":\"little\",\"shape\":[100]}},\"selected\":{\"id\":\"1696\"},\"selection_policy\":{\"id\":\"1695\"}},\"id\":\"1621\",\"type\":\"ColumnDataSource\"},{\"attributes\":{\"below\":[{\"id\":\"1511\"}],\"center\":[{\"id\":\"1514\"},{\"id\":\"1518\"},{\"id\":\"1549\"}],\"height\":430,\"left\":[{\"id\":\"1515\"}],\"min_border_bottom\":20,\"min_border_left\":20,\"min_border_right\":20,\"min_border_top\":20,\"renderers\":[{\"id\":\"1537\"},{\"id\":\"1613\"},{\"id\":\"1619\"},{\"id\":\"1625\"},{\"id\":\"1631\"},{\"id\":\"1637\"},{\"id\":\"1643\"},{\"id\":\"1649\"},{\"id\":\"1655\"},{\"id\":\"1661\"},{\"id\":\"1667\"},{\"id\":\"1673\"},{\"id\":\"1679\"}],\"title\":{\"id\":\"1501\"},\"toolbar\":{\"id\":\"1526\"},\"toolbar_location\":null,\"width\":490,\"x_range\":{\"id\":\"1503\"},\"x_scale\":{\"id\":\"1507\"},\"y_range\":{\"id\":\"1505\"},\"y_scale\":{\"id\":\"1509\"}},\"id\":\"1500\",\"subtype\":\"Figure\",\"type\":\"Plot\"},{\"attributes\":{},\"id\":\"1524\",\"type\":\"HelpTool\"},{\"attributes\":{\"data\":{\"x\":{\"__ndarray__\":\"EP4rKSjsR0ADR+urYBJIQA88jkYiJEhAANxfq1ohSEAJJuq3DApIQObzAXJQ3kdAwZgD71KeR0CVy1klVkpHQN7Efqiw4kZA+Ka9T81nRkD1LxDIKtpFQCo8ihFbOkVAU7TZ6AKJREDNCnYd2cZDQGJULtWl9EJAaD3YvUETQkAdiPQtlSNBQDhSLzWXJkBAHAZmO5k6PkDA0ai+jRE8QMBEWgtG1DlAZtSNFBGFN0BYTw1IUCY1QLZ5Ihp1ujJAHrfbgP5DMEBdusjC7IorQAVGL+TdgiZAwIEBKAB1IUDWpQ6aEs0YQLxcfr++cg1AhJ0XXCfl8j8wb5EKfKP0v1SAJhHWxQ3AhrNub9NqGMA5k42NYtsgwN9drV+VXiXAeXBbYFu6KcDTu8FlNuotwIY3xsXq9DDAlCLu0ozaMsDaBnzADKQ0wM4crvSSTzbARkYAvGbbN8A423QP8EU5wMYgLzm5jTrAAtqtVXCxO8Cu1xiw6K88wKh9OvgbiD3AWLblUCs5PsDKmLE1YMI+wDbxHTctIz/ArLpejC5bP8BQQDh6Kmo/wELegY4RUD/A5AkSsP4MP8DoNwMDN6E+wAQ2bqEpDT7AQHDjKG9RPcBeMBkdyW48wE4CcSAhZjvASt4hA4g4OsDAWv+pNOc4wLTJ/82CczfANJzLlfHeNcCmiMcKIis0wEiWMGvVWTLAkjEFW+tsMMB1TTHrv8wswA1XnYOTkCjAMcQ1Fq8pJMDeQfGFODkfwFpKGgsY3BXAGIoPfUeLCMCwVA7Y7f3jvzQMe/Ibrv0/Hljw3/BxEUDnYy5rKokbQDaMI2Nm0yJAFh7jPjXgJ0CHv0chzeUsQJDyVGmA7zBAOlms8FdjM0BApj/15cs1QHJqNuiuJjhAOtJvbEVxOkBAjAbXTKk8QDK3np57zD5Alal9205sQEAdgzZry2VBQP9sYVGyUUJAaGu/YRAvQ0Bt+JVrAf1DQHs+6CSxukRAix1MBVxnRUB8Z3kPUAJGQOWNw4jtikZABaDAnacAR0Cj3nPzBGNHQP9BZiSgsUdAEP4rKSjsR0A=\",\"dtype\":\"float64\",\"order\":\"little\",\"shape\":[100]},\"y\":{\"__ndarray__\":\"2JWbLx1fLMColTyOq2oqwJR9vVDGVyjAaB1OuZAoJsDKLOA5S98jwEIA8SFRfiHA8XBDYSwQHsAM/T0bSP4YwL2u5lYvzBPALoDZV3r+DMCeEX++0DkCwDhTZgnuVe2/8B+ls1ga3T8cNT9mZ0r9Pyq3x5DlpAlAfxtiGoVLEkAHsUmOLLgXQIwwsq/REh1A6lhPzfcqIUC0/vbVDL4jQBJAZYwAQCZAWDurMz2uKEBqPHhhQQYrQL4JSZOiRS1Akqj6qw9qL0BYr5erqbgwQHLaByirrDFAZGGHxBCQMkAJfzwZ8GEzQH+B285wITRA9hapfc3NNEAyofd4VGY1QMzMTYZo6jVAfqB5f4FZNkCk8ujeLLM2QAaZtjUO9zZAWKLyit8kN0BXYcOjcTw3QG3vFDSsPTdAHvek940oN0Dg9FCzLP02QNGVpR61uzZA+FXGtWpkNkAm4txzp/c1QPryV3bbdTVADj5ZiYzfNEBGn8mdVTU0QDamoSnmdzNAgSsLcwGoMkCEXxbHfcYxQJjR0ZxD1DBACk5SS5mkL0DmCgOYRYMtQDoHOkK+RitAyl6/dlHxKEAepUEMZ4UmQJIJhAh+BSRAKHmmDSp0IUA9hl1kIagdQF9ZH43NTxhAbef7FdvkEkBaus1hv9kKQLxwbf75tf8/iJT7HxJj4z/4IKa6Q4bov46FzXCyCAHABh7x1WLRC8D013MrQjgTwKChqAGSbRjAOYd3hUKDHcBCMsvzCjohwPR6XSx6nSPAGtLMpHjpJcCOhyc/qBsowKBw/HfFMSrAQOi6u6kpLMA+nD6eTQEuwBYdPvLKti/AuyA6Xy+kMMDE4D+HNVoxwEjrzE68/DHAjwC2LByLMsDyGbtdwgQzwOir0HsxaTPApiFj/wG4M8D7Ug+q4vAzwNPxYdqYEzTAPptHyAAgNMDwPu+pDRY0wNTX+MDJ9TPACN/iT1a/M8ASX8F363IzwPb+Yf7XEDPAaqkY/YCZMsCAhIh4YQ0ywLim1OEJbTHAxEG7gR+5MMCsfGmct+QvwIrUjFYXMy7A2pWbLx1fLMA=\",\"dtype\":\"float64\",\"order\":\"little\",\"shape\":[100]}},\"selected\":{\"id\":\"1714\"},\"selection_policy\":{\"id\":\"1713\"}},\"id\":\"1675\",\"type\":\"ColumnDataSource\"},{\"attributes\":{},\"id\":\"1696\",\"type\":\"Selection\"},{\"attributes\":{\"line_alpha\":0.1,\"line_color\":\"green\",\"line_width\":2,\"x\":{\"field\":\"x\"},\"y\":{\"field\":\"y\"}},\"id\":\"1659\",\"type\":\"Line\"},{\"attributes\":{\"data\":{\"x\":{\"__ndarray__\":\"HBqiuX1rLkDmXgxgGG0uQG5+xShmZC5AKFqiCnBRLkC2ul2RSTQuQPRbcskQDS5A9FkhIe7bLUDg7MQ+FKEtQMJpmsy/XC1AUlo5OjcPLUAAIvhzyrgsQIQIiZDSWSxA9pYkdbHyK0Cu8Z9w0YMrQM80182kDStAwsncXaWQKkDxJ2f6Uw0qQMpx/gA4hClAX9hyx971KEBknCsK22IoQPDa5FTEyydAxhF4ZjYxJ0A9Y1CQ0JMmQDwYMBI19CVAm6rwcghTJUCUv+nW8LAkQGPlrVSVDiRAw57NSJ1sI0AlSFKpr8siQBatollyLCJAJbeCf4mPIUDle97ZlvUgQBUWDxo5XyBAUFGKgBaaH0DMV4P3R38eQPpwAx8qbx1A6Nz6d9VqHED0tCldVnMbQCzDf+6riRpA+IwfCseuGUBWqRNUieMYQDFUtk3EKBhAwAK7fTh/F0AZl7iplOcWQO7GACJ1YhZAZmt+IGPwFUA+00A71JEVQOznRespRxVAGhgAKLEQFUBHmv8Xou4UQFvQENcf4RRAfHYLUjjoFEB663c45AMVQNpeGQQHNBVAyh5VFm94FUC8tljr1dAVQN0kymLgPBZAxTi3HR+8FkC/RmPxDk4XQCfYfG4Z8hdAWvgvfJWnGEBDRHUGyG0ZQEEO6r7kQxpAeMxq7w4pG0CKuZZdWhwcQN4gUj7MHB1Ax1JMOFwpHkC2wn509UAfQDw1xt07MSBAiqNtT1zGIED41hpWQl8hQJ4uW1VQ+yFAtkvcb+WZIkCbqj4tXjojQE3YlyIV3CNAdZD2nGN+JECa/jhNoiAlQCsAhPQpwiVAf5+pEFRiJkDaEM2HewAnQGJDk1L9mydAWpYwJDk0KEATd6YPksgoQDCShilvWClAitiUJTzjKUAH2qXvaWgqQMvhGz9v5ypA/MpqJMlfK0CLrRCQ+9ArQH1BeNKROixAKiVBFB+cLEA0CXLGPvUsQLAaIQqVRS1AONEnD8+MLUDggYBpo8otQPC39VzS/i1Axk7VHiYpLkB9k2MNc0kuQKJF1dyXXy5AHBqiuX1rLkA=\",\"dtype\":\"float64\",\"order\":\"little\",\"shape\":[100]},\"y\":{\"__ndarray__\":\"LjdSAmae/j+Yc13IY8IAQPTzi+QXNwJA/UzWJM+rA0B6SiFVCR8FQB9uIMpHjwZA7p/M6w77B0BZVa+852AJQJDUblxhvwpAux0NhBIVDEDrglH6mmANQLoK3f6koA5AZFhzqubTD0BmeoahkXwQQGw1KkGWBxFA+NSe5nGKEUBUPrutnQQSQArEv6abdRJALJQnWPfcEkCQQ7k2RjoTQBOyWhMojRNAZRE3fkfVE0AP2tAeWhIUQNblpAAhRBRApq8P1GhqFEDM0zEjCoUUQIZKnXrpkxRA7W6hhfeWFECyphgeMY4UQIRgp0+feRRAbBBpTldZFEC3xhRhei0UQFnpr7419hNApGvyX8KzE0Duj4zEZGYTQLm8iqxsDhNAvS4gxjSsEkCoRS1QIkASQALH4bGkyhFAPKzmBzVMEUBm3IWnVcUQQLqCUJiRNhBAtv+cCfhAD0AFYpVFXwcOQOHbsCecwQxAs0Rtff5wC0DwhHhE4RYKQJoHAUWptAhARmruocNLB0CDiH1gpN0FQKTgw+jEawRAd6ClgKL3AkAnYc/CvIIBQB62SBOUDgBA5VduJlA5/T99VtQq7Fz6P8TGjirvivc/Od1ZY0HG9D+ylrRavRHyPzRSrtlZ4O4/jGKs2YzI6T+gUtKxU+HkP6jfa0u8L+A/2LqtjTpx1z8go9b6QwLOPyA+F0qGX7w/AFqmqsGXcL/gd74nLhi8vyDbjNZVWMq/EFbwhmau0r/AsBmqEIfXv4DjWm0qsdu/kMUK22go37/AuQmunPTgv0jpXLNi+OG/9PbFtXqe4r/0FLl+Oebiv5gbVRlVz+K/kPWfHuVZ4r8YaDOdYobhv/hKc5ynVeC/EKSbd9yR3b+4K9vdnsPZvzBIVrCCRNW/2EjhhSoZ0L8wiZQA1Y3Ev8CjXnEWnq6/gD3UJDTNqT9gBczSGLTFP0SFO02SBdM/YI5iM8yz2z8Qs+qx423iP2bYSdIJOuc/4KQqemY57D9ReyVvabPwP4LNHVx8XvM/C49h4ysb9j8tUMO8peb4PyMmEGEIvvs/KzdSAmae/j8=\",\"dtype\":\"float64\",\"order\":\"little\",\"shape\":[100]}},\"selected\":{\"id\":\"1700\"},\"selection_policy\":{\"id\":\"1699\"}},\"id\":\"1633\",\"type\":\"ColumnDataSource\"},{\"attributes\":{\"fill_alpha\":0.07,\"fill_color\":\"green\",\"hatch_alpha\":0.07,\"hatch_color\":\"green\",\"line_alpha\":0.07,\"line_color\":\"green\",\"x\":{\"field\":\"x\"},\"y\":{\"field\":\"y\"}},\"id\":\"1670\",\"type\":\"Patch\"},{\"attributes\":{\"fill_alpha\":{\"value\":0.6},\"fill_color\":{\"field\":\"col\"},\"hatch_alpha\":{\"value\":0.6},\"hatch_color\":{\"field\":\"col\"},\"line_alpha\":{\"value\":0.6},\"line_color\":{\"field\":\"col\"},\"marker\":{\"value\":\"triangle\"},\"size\":{\"value\":7},\"x\":{\"field\":\"x\"},\"y\":{\"field\":\"y\"}},\"id\":\"1588\",\"type\":\"Scatter\"},{\"attributes\":{\"overlay\":{\"id\":\"1525\"}},\"id\":\"1521\",\"type\":\"BoxZoomTool\"},{\"attributes\":{\"coordinates\":null,\"data_source\":{\"id\":\"1669\"},\"glyph\":{\"id\":\"1670\"},\"group\":null,\"hover_glyph\":null,\"muted_glyph\":{\"id\":\"1672\"},\"nonselection_glyph\":{\"id\":\"1671\"},\"view\":{\"id\":\"1674\"}},\"id\":\"1673\",\"type\":\"GlyphRenderer\"},{\"attributes\":{\"line_alpha\":0.8,\"line_color\":\"red\",\"line_width\":2,\"x\":{\"field\":\"x\"},\"y\":{\"field\":\"y\"}},\"id\":\"1610\",\"type\":\"Line\"},{\"attributes\":{\"data\":{\"x\":{\"__ndarray__\":\"iegDzWcANEC5COgOugk0QL8ZfhTW6jNAdSt9tdujM0CbrU4cFDUzQP24onrxnjJAl1e5kw7iMUAhI9ocLv8wQHZaPelz7i9Aiiy9Y4SWLUC6qmsW+PgqQMSfjDCBGChAVqT62xb4JEA6NZcu8pohQFw6ja8VCRxA+NnIGidxFEDQBn/v2OsIQICFaut/fvA/gBxBHJkk8r+QoUdp8vYKwNhJguMfrhbA2D/+jM8LIMB8iI2KIdckwJmPd8QUtCnAj5Jt6KWdLsAt0VRRYscxwEhwG2ssQTTA/yyg7qO5NsCoYP7lPC45wB5NZVhvnDvAw6UJ5rkBPsARAqUu0i1AwIlhLiPhU0HAQr5zsdpxQsDubXYPmIZDwCxKRvj7kETA3X8R0vOPRcDUEjXJeIJGwKVLKt+QZ0fAnsg57E8+SMBljeqS2AVJwHIhMiRdvUnAxoR6cyBkSsAGbKOZdvlKwP6/NabFfEvABLcSPobtS8Da9PomREtMwE7dXb+elUzAmpj1YUnMTMDSG8m0C+9MwL7DQuPB/UzAXKEfw1z4TMAkZRHk4d5MwOzLAoprsUzALnYEkihwTMByEv5BXBtMwPCmVQNes0vALnbUCJk4S8DYYCbgi6tKwB6tZe/HDErAZK053/BcScAAxiLyu5xIwDq5oUnvzEfAotT6GWHuRsDNh2fN9gFGwHgBmhekCEXAAJmG+mkDRMBs+XW9VfNCwLAlcdd/2UHA3Hglzgq3QMDqTdUURBo/wKvnPkfxuTzAVIw2RpBPOsBWzvWBnt03wE0wKzehZjXAsVLa1SLtMsBMw99isHMwwMQrl62t+SvAOlSR+UAWJ8DK7YyoJEIiwOZnYeClBBvAAC3fNmK3EcCAeXP6KUwBwABUMrx59KI/CHSUaAxHAUAE4mspAsoQQEyR1Qf2kBhALBldfl3wH0BMRqR8T3AjQGaf7LtJrSZAUt/d9carKUC+mWENsWgsQA4J7H014S5Az8EiImSJMECtJlM/k30xQJf5t2AsTDJAC4kOj1r0MkDDTShtcHUzQAMAoOrozjNAiegDzWcANEA=\",\"dtype\":\"float64\",\"order\":\"little\",\"shape\":[100]},\"y\":{\"__ndarray__\":\"W45XPZ+xGsBoVeVVgTMUwMfjQ3VWYQvAnmtEhky//L/wFYZfpvXGv2B4bH5txPY/hFmVdtYHCEBaKTyrPToSQMyU0FirTRhAWNJ95fA3HkCsKcyvevkhQDSSsEVovCRAB9vufOhhJ0CFPpnzQOcpQCHhOW3YSSxA2TeQgDmHLkDaRjCQik4wQHRsXH6iRDFA6Gkb3eYkMkC2S4N+cO4yQCpNv6JvoDNArOM2ziw6NEBMFbGGCbs0QJQisfaAIjVAOB5kdihwNUCCTJL5r6M1QKL1ImLivDVABpzdtqW7NUB+JTA++581QKRd3nz/aTVAoiycGOoZNUC0z7CeDbA0QEA13i7XLDRAKjTkCs6QM0AMkxMLk9wyQDCYgPjfEDJAOgyAzYYuMUA8GTTdcDYwQDNLEMY7Uy5AizAn9kUSLECth+YIU6wpQI/Zf93bIydAQs6753x7JEAUE+x+87UhQO5t7BU2rB1ACnTBJNS9F0CCAddY3qYRQIitZmk32wZAiCljWdph9D8g/3BbniDVvyczZnwiLf+/5ke1hTKZDMByJ28sR88UwBI0Qk+cTBvAneLaEPTeIMASajpBQw4kwHekfUjzMCfA55ciuchDKsDFjlV9mEMtwExUg42lFjDA53fk8e9+McCH95gGONkywJB9RNcYJDTA9HNYUD1eNcByyKqeYYY2wEgtRH1UmzfAmr4NcPibOMC2qxnqRIc5wLyJV15HXDrAhDObOSQaO8AWe/TEF8A7wCZbbu92TTzAerFl/q/BPMAwvMEjSxw9wACAc/nqXD3AvMm84UyDPcBmjNtLSY89wJzS0tzTgD3AijgnfPtXPcCozYFE6hQ9wEY0SVjltzzAirxdmkxBPMDk8EFLmrE7wEp3FYtiCTvA8i7kwFJJOsDg7+bnMHI5wCgubsPahDjAZOBI+kSCN8BITpMaems2wFy+8YaZQTXASkBSTtYFNMAn82bvdbkywFwPHwnPXTHARCTx8o/oL8DyNy3YqvwswDmcMrTx+inAXU2G+X3mJsCO6gppfMIjwPzrMswpkiDAYo5XPZ+xGsA=\",\"dtype\":\"float64\",\"order\":\"little\",\"shape\":[100]}},\"selected\":{\"id\":\"1698\"},\"selection_policy\":{\"id\":\"1697\"}},\"id\":\"1627\",\"type\":\"ColumnDataSource\"},{\"attributes\":{\"fill_alpha\":0.1,\"fill_color\":\"blue\",\"hatch_alpha\":0.1,\"hatch_color\":\"blue\",\"line_alpha\":0.1,\"line_color\":\"blue\",\"x\":{\"field\":\"x\"},\"y\":{\"field\":\"y\"}},\"id\":\"1647\",\"type\":\"Patch\"},{\"attributes\":{},\"id\":\"1691\",\"type\":\"UnionRenderers\"},{\"attributes\":{},\"id\":\"1708\",\"type\":\"Selection\"},{\"attributes\":{\"coordinates\":null,\"data_source\":{\"id\":\"1553\"},\"glyph\":{\"id\":\"1588\"},\"group\":null,\"hover_glyph\":null,\"muted_glyph\":{\"id\":\"1590\"},\"nonselection_glyph\":{\"id\":\"1589\"},\"view\":{\"id\":\"1592\"}},\"id\":\"1591\",\"type\":\"GlyphRenderer\"},{\"attributes\":{\"line_alpha\":0.4,\"line_color\":\"blue\",\"x\":{\"field\":\"x\"},\"y\":{\"field\":\"y\"}},\"id\":\"1640\",\"type\":\"Line\"},{\"attributes\":{\"axis_label\":\"PC 2 (6.5%)\",\"axis_label_text_font_size\":\"13pt\",\"coordinates\":null,\"formatter\":{\"id\":\"1541\"},\"group\":null,\"major_label_policy\":{\"id\":\"1542\"},\"ticker\":{\"id\":\"1516\"}},\"id\":\"1515\",\"type\":\"LinearAxis\"},{\"attributes\":{\"source\":{\"id\":\"1615\"}},\"id\":\"1620\",\"type\":\"CDSView\"},{\"attributes\":{},\"id\":\"1503\",\"type\":\"DataRange1d\"},{\"attributes\":{\"coordinates\":null,\"data_source\":{\"id\":\"1657\"},\"glyph\":{\"id\":\"1658\"},\"group\":null,\"hover_glyph\":null,\"muted_glyph\":{\"id\":\"1660\"},\"nonselection_glyph\":{\"id\":\"1659\"},\"view\":{\"id\":\"1662\"}},\"id\":\"1661\",\"type\":\"GlyphRenderer\"},{\"attributes\":{},\"id\":\"1694\",\"type\":\"Selection\"},{\"attributes\":{\"fill_alpha\":0.2,\"fill_color\":\"blue\",\"hatch_alpha\":0.2,\"hatch_color\":\"blue\",\"line_alpha\":0.2,\"line_color\":\"blue\",\"x\":{\"field\":\"x\"},\"y\":{\"field\":\"y\"}},\"id\":\"1654\",\"type\":\"Patch\"},{\"attributes\":{},\"id\":\"1707\",\"type\":\"UnionRenderers\"},{\"attributes\":{\"children\":[[{\"id\":\"1500\"},0,0],[{\"id\":\"1554\"},0,1]]},\"id\":\"1728\",\"type\":\"GridBox\"},{\"attributes\":{},\"id\":\"1702\",\"type\":\"Selection\"},{\"attributes\":{},\"id\":\"1574\",\"type\":\"WheelZoomTool\"},{\"attributes\":{\"line_alpha\":0.2,\"line_color\":\"red\",\"line_width\":2,\"x\":{\"field\":\"x\"},\"y\":{\"field\":\"y\"}},\"id\":\"1612\",\"type\":\"Line\"},{\"attributes\":{},\"id\":\"1566\",\"type\":\"BasicTicker\"},{\"attributes\":{\"line_alpha\":0.8,\"line_color\":\"blue\",\"line_width\":2,\"x\":{\"field\":\"x\"},\"y\":{\"field\":\"y\"}},\"id\":\"1634\",\"type\":\"Line\"},{\"attributes\":{\"fill_alpha\":0.01,\"fill_color\":\"blue\",\"hatch_alpha\":0.01,\"hatch_color\":\"blue\",\"line_alpha\":0.01,\"line_color\":\"blue\",\"x\":{\"field\":\"x\"},\"y\":{\"field\":\"y\"}},\"id\":\"1652\",\"type\":\"Patch\"},{\"attributes\":{\"source\":{\"id\":\"1627\"}},\"id\":\"1632\",\"type\":\"CDSView\"},{\"attributes\":{\"coordinates\":null,\"data_source\":{\"id\":\"1675\"},\"glyph\":{\"id\":\"1676\"},\"group\":null,\"hover_glyph\":null,\"muted_glyph\":{\"id\":\"1678\"},\"nonselection_glyph\":{\"id\":\"1677\"},\"view\":{\"id\":\"1680\"}},\"id\":\"1679\",\"type\":\"GlyphRenderer\"},{\"attributes\":{\"line_alpha\":0.1,\"line_color\":\"red\",\"line_width\":2,\"x\":{\"field\":\"x\"},\"y\":{\"field\":\"y\"}},\"id\":\"1611\",\"type\":\"Line\"},{\"attributes\":{\"line_alpha\":0.2,\"line_color\":\"blue\",\"line_width\":2,\"x\":{\"field\":\"x\"},\"y\":{\"field\":\"y\"}},\"id\":\"1636\",\"type\":\"Line\"},{\"attributes\":{},\"id\":\"1601\",\"type\":\"Selection\"},{\"attributes\":{},\"id\":\"1692\",\"type\":\"Selection\"},{\"attributes\":{\"source\":{\"id\":\"1633\"}},\"id\":\"1638\",\"type\":\"CDSView\"},{\"attributes\":{\"bottom_units\":\"screen\",\"coordinates\":null,\"fill_alpha\":0.5,\"fill_color\":\"lightgrey\",\"group\":null,\"left_units\":\"screen\",\"level\":\"overlay\",\"line_alpha\":1.0,\"line_color\":\"black\",\"line_dash\":[4,4],\"line_width\":2,\"right_units\":\"screen\",\"syncable\":false,\"top_units\":\"screen\"},\"id\":\"1579\",\"type\":\"BoxAnnotation\"},{\"attributes\":{\"source\":{\"id\":\"1621\"}},\"id\":\"1626\",\"type\":\"CDSView\"},{\"attributes\":{},\"id\":\"1600\",\"type\":\"UnionRenderers\"},{\"attributes\":{\"tools\":[{\"id\":\"1573\"},{\"id\":\"1574\"},{\"id\":\"1575\"},{\"id\":\"1576\"},{\"id\":\"1577\"},{\"id\":\"1578\"},{\"id\":\"1605\"}]},\"id\":\"1580\",\"type\":\"Toolbar\"},{\"attributes\":{},\"id\":\"1505\",\"type\":\"DataRange1d\"},{\"attributes\":{},\"id\":\"1557\",\"type\":\"DataRange1d\"},{\"attributes\":{\"source\":{\"id\":\"1553\"}},\"id\":\"1592\",\"type\":\"CDSView\"},{\"attributes\":{\"overlay\":{\"id\":\"1579\"}},\"id\":\"1575\",\"type\":\"BoxZoomTool\"},{\"attributes\":{\"coordinates\":null,\"data_source\":{\"id\":\"1651\"},\"glyph\":{\"id\":\"1652\"},\"group\":null,\"hover_glyph\":null,\"muted_glyph\":{\"id\":\"1654\"},\"nonselection_glyph\":{\"id\":\"1653\"},\"view\":{\"id\":\"1656\"}},\"id\":\"1655\",\"type\":\"GlyphRenderer\"},{\"attributes\":{\"axis\":{\"id\":\"1565\"},\"coordinates\":null,\"group\":null,\"ticker\":null},\"id\":\"1568\",\"type\":\"Grid\"},{\"attributes\":{},\"id\":\"1598\",\"type\":\"BasicTickFormatter\"},{\"attributes\":{\"toolbar\":{\"id\":\"1729\"},\"toolbar_location\":\"above\"},\"id\":\"1730\",\"type\":\"ToolbarBox\"},{\"attributes\":{},\"id\":\"1520\",\"type\":\"WheelZoomTool\"},{\"attributes\":{\"fill_alpha\":0.07,\"fill_color\":\"blue\",\"hatch_alpha\":0.07,\"hatch_color\":\"blue\",\"line_alpha\":0.07,\"line_color\":\"blue\",\"x\":{\"field\":\"x\"},\"y\":{\"field\":\"y\"}},\"id\":\"1646\",\"type\":\"Patch\"},{\"attributes\":{},\"id\":\"1699\",\"type\":\"UnionRenderers\"},{\"attributes\":{},\"id\":\"1576\",\"type\":\"SaveTool\"},{\"attributes\":{\"fill_alpha\":0.2,\"fill_color\":\"green\",\"hatch_alpha\":0.2,\"hatch_color\":\"green\",\"line_alpha\":0.2,\"line_color\":\"green\",\"x\":{\"field\":\"x\"},\"y\":{\"field\":\"y\"}},\"id\":\"1672\",\"type\":\"Patch\"},{\"attributes\":{},\"id\":\"1705\",\"type\":\"UnionRenderers\"},{\"attributes\":{\"coordinates\":null,\"data_source\":{\"id\":\"1609\"},\"glyph\":{\"id\":\"1610\"},\"group\":null,\"hover_glyph\":null,\"muted_glyph\":{\"id\":\"1612\"},\"nonselection_glyph\":{\"id\":\"1611\"},\"view\":{\"id\":\"1614\"}},\"id\":\"1613\",\"type\":\"GlyphRenderer\"},{\"attributes\":{\"axis_label\":\"PC 2 (6.5%)\",\"axis_label_text_font_size\":\"13pt\",\"coordinates\":null,\"formatter\":{\"id\":\"1595\"},\"group\":null,\"major_label_policy\":{\"id\":\"1596\"},\"ticker\":{\"id\":\"1570\"}},\"id\":\"1569\",\"type\":\"LinearAxis\"},{\"attributes\":{\"fill_alpha\":0.1,\"fill_color\":\"green\",\"hatch_alpha\":0.1,\"hatch_color\":\"green\",\"line_alpha\":0.1,\"line_color\":\"green\",\"x\":{\"field\":\"x\"},\"y\":{\"field\":\"y\"}},\"id\":\"1671\",\"type\":\"Patch\"},{\"attributes\":{},\"id\":\"1711\",\"type\":\"UnionRenderers\"},{\"attributes\":{\"fill_alpha\":0.2,\"fill_color\":\"blue\",\"hatch_alpha\":0.2,\"hatch_color\":\"blue\",\"line_alpha\":0.2,\"line_color\":\"blue\",\"x\":{\"field\":\"x\"},\"y\":{\"field\":\"y\"}},\"id\":\"1648\",\"type\":\"Patch\"},{\"attributes\":{},\"id\":\"1545\",\"type\":\"AllLabels\"},{\"attributes\":{\"callback\":null,\"renderers\":[{\"id\":\"1591\"}],\"tooltips\":[[\"Idx\",\"@Idx\"]]},\"id\":\"1605\",\"type\":\"HoverTool\"},{\"attributes\":{\"source\":{\"id\":\"1609\"}},\"id\":\"1614\",\"type\":\"CDSView\"},{\"attributes\":{\"coordinates\":null,\"group\":null,\"items\":[{\"id\":\"1604\"}],\"visible\":false},\"id\":\"1603\",\"type\":\"Legend\"},{\"attributes\":{\"data\":{\"Idx\":[0,1,2,3,4,5,6,7,8,9,10,11,12,13,14,15,16,17,18,19,20,21,22,23,24,25,26,27,28,29,30,31,32,33,34,35,36,37,38,39,40,41,42,43,44,45,46,47,48,49,50,51,52,53,54,55,56,57,58,59,60,61,62,63,64,65,66,67,68,69,70,71,72,73,74,75,76,77,78,79,80,81,82,83,84,85,86,87,88,89,90,91,92,93,94,95,96,97,98,99,100,101,102,103,104,105,106,107,108,109,110,111,112,113,114,115,116,117,118,119,120,121,122,123,124,125,126,127,128,129,130,131,132,133,134,135,136,137,138,139,140,141,142,143,144,145,146,147,148,149,150,151,152,153,154,155,156,157,158,159,160,161,162,163,164,165,166,167,168,169,170,171,172,173,174,175,176,177,178,179,180,181,182,183,184,185,186,187,188,189,190,191,192,193,194,195,196,197,198,199,200,201,202,203,204,205,206,207,208,209,210,211,212,213,214,215,216,217,218,219,220,221,222,223,224,225,226,227,228,229,230,231,232,233,234,235,236,237,238,239,240,241,242,243,244,245,246,247,248,249,250,251,252,253,254,255,256,257,258,259,260,261,262,263,264,265,266,267,268,269,270,271,272,273,274,275,276,277,278,279,280,281,282,283,284,285,286,287,288,289,290,291,292,293,294,295,296,297,298,299,300,301,302,303,304,305,306,307,308,309,310,311,312,313,314,315,316,317,318,319,320,321,322,323,324,325,326,327,328,329,330,331,332,333,334,335,336,337,338,339,340,341,342,343,344,345,346,347,348,349,350,351,352,353,354,355,356,357,358,359,360,361,362,363,364,365,366,367,368,369,370,371,372,373,374,375,376,377,378,379,380,381,382,383,384,385,386,387,388,389,390,391,392,393,394,395,396,397,398,399,400,401,402,403,404,405,406,407,408,409,410,411,412,413,414,415,416,417,418,419,420,421,422,423,424,425,426,427,428,429,430,431,432,433,434,435,436,437,438,439,440,441,442,443,444,445,446,447,448,449,450,451,452,453,454,455,456,457,458,459,460,461,462,463,464,465,466,467,468,469,470,471,472,473,474,475,476,477,478,479,480,481,482,483,484,485,486,487,488,489,490,491,492,493,494,495,496,497,498,499,500,501,502,503,504,505,506,507,508,509,510,511,512,513,514,515,516,517,518,519,520,521,522,523,524,525,526,527,528,529,530,531,532,533,534,535,536,537,538,539,540,541,542,543,544,545,546,547,548,549,550,551,552,553,554,555,556,557,558,559,560,561,562,563,564,565,566,567,568,569,570,571,572,573,574,575,576,577,578,579,580,581,582,583,584,585,586,587,588,589,590,591,592,593,594,595,596,597,598,599,600,601,602,603,604,605,606,607,608,609,610,611,612,613,614,615,616,617,618,619,620,621,622,623,624,625,626,627,628,629,630,631,632,633,634,635,636,637,638,639,640,641,642,643,644,645,646,647,648,649,650,651,652,653,654,655,656,657,658,659,660,661,662,663,664,665,666,667,668,669,670,671,672,673,674,675,676,677,678,679,680,681,682,683,684,685,686,687,688,689,690,691,692,693,694,695,696,697,698,699,700,701,702,703,704,705,706,707,708,709,710,711,712,713,714,715,716,717,718,719,720,721,722,723,724,725,726,727,728,729,730,731,732,733,734,735,736,737,738,739,740,741,742,743,744,745,746,747,748,749,750,751,752,753,754,755,756,757,758,759,760,761,762,763,764,765,766,767,768,769,770,771,772,773,774,775,776,777,778,779,780,781,782,783,784,785,786,787,788,789,790,791,792,793,794,795,796,797,798,799,800,801,802,803,804,805,806,807,808,809,810,811,812,813,814,815,816,817,818,819,820,821,822,823,824,825,826,827,828,829,830,831,832,833,834,835,836,837,838,839,840,841,842,843,844,845,846,847,848,849,850,851,852,853,854,855,856,857,858,859,860,861,862,863,864,865,866,867,868,869,870,871,872,873,874,875,876,877,878,879,880,881,882,883,884,885,886,887,888,889,890,891,892,893,894,895,896,897,898,899,900,901,902,903,904,905,906,907,908,909,910,911,912,913,914,915,916,917,918,919,920,921,922,923,924,925,926,927,928,929,930,931,932,933,934,935,936,937,938,939,940,941,942,943,944,945,946,947,948,949,950,951,952,953,954,955,956,957,958,959,960,961,962,963,964,965,966,967,968,969,970,971,972,973,974,975,976,977,978,979,980,981,982,983,984,985,986,987,988,989,990,991,992,993,994,995,996,997,998,999,1000,1001,1002,1003,1004,1005,1006,1007,1008,1009,1010,1011,1012,1013,1014,1015,1016,1017,1018,1019,1020,1021,1022,1023,1024,1025,1026,1027,1028,1029,1030,1031,1032,1033,1034,1035,1036,1037,1038,1039,1040,1041,1042,1043,1044,1045,1046,1047,1048,1049,1050,1051,1052,1053,1054,1055,1056,1057,1058,1059,1060,1061,1062,1063,1064,1065,1066,1067,1068,1069,1070,1071,1072,1073,1074,1075,1076,1077,1078,1079,1080,1081,1082,1083,1084,1085,1086,1087,1088,1089,1090,1091,1092,1093,1094,1095,1096,1097,1098,1099,1100,1101,1102,1103,1104,1105,1106,1107,1108,1109,1110,1111,1112,1113,1114,1115,1116,1117,1118,1119,1120,1121,1122,1123,1124,1125,1126,1127,1128,1129,1130,1131,1132,1133,1134,1135,1136,1137,1138,1139,1140,1141,1142,1143,1144,1145,1146,1147,1148,1149,1150,1151,1152,1153,1154,1155,1156,1157,1158,1159,1160,1161,1162,1163,1164,1165,1166,1167,1168,1169,1170,1171,1172,1173,1174,1175,1176,1177,1178,1179,1180,1181,1182,1183,1184,1185,1186,1187,1188,1189,1190,1191,1192,1193,1194,1195,1196,1197,1198,1199,1200,1201,1202,1203,1204,1205,1206,1207,1208,1209,1210,1211,1212,1213,1214,1215,1216,1217,1218,1219,1220,1221,1222,1223,1224,1225,1226,1227,1228,1229,1230,1231,1232,1233,1234,1235,1236,1237,1238,1239,1240,1241,1242,1243,1244,1245,1246,1247,1248,1249,1250,1251,1252,1253,1254,1255,1256,1257,1258,1259,1260,1261,1262,1263,1264,1265,1266,1267,1268,1269,1270,1271,1272,1273,1274,1275,1276,1277,1278,1279,1280,1281,1282,1283,1284,1285,1286,1287,1288,1289,1290,1291,1292,1293,1294,1295,1296,1297,1298,1299,1300,1301,1302,1303,1304,1305,1306,1307,1308,1309,1310,1311,1312,1313,1314,1315,1316,1317,1318,1319,1320,1321,1322,1323,1324,1325,1326,1327,1328,1329,1330,1331,1332,1333,1334,1335,1336,1337,1338,1339,1340,1341,1342,1343,1344,1345,1346,1347,1348,1349,1350,1351,1352,1353,1354,1355,1356,1357,1358,1359,1360,1361,1362,1363,1364,1365,1366,1367,1368,1369,1370,1371,1372,1373,1374,1375,1376,1377,1378,1379,1380,1381,1382,1383,1384,1385,1386,1387,1388,1389,1390,1391,1392,1393,1394,1395,1396,1397,1398,1399,1400,1401,1402,1403,1404,1405,1406,1407,1408,1409,1410,1411,1412,1413,1414,1415,1416,1417,1418,1419,1420,1421,1422,1423,1424,1425,1426,1427,1428,1429,1430,1431,1432,1433,1434,1435,1436,1437,1438,1439,1440,1441,1442,1443,1444,1445,1446,1447,1448,1449,1450,1451,1452,1453,1454,1455,1456,1457,1458,1459,1460,1461,1462,1463,1464,1465,1466,1467,1468,1469,1470,1471,1472,1473,1474,1475,1476,1477,1478,1479,1480,1481,1482,1483,1484,1485],\"col\":[\"green\",\"green\",\"green\",\"green\",\"green\",\"green\",\"green\",\"green\",\"green\",\"green\",\"green\",\"green\",\"green\",\"green\",\"green\",\"green\",\"green\",\"green\",\"green\",\"green\",\"green\",\"green\",\"green\",\"green\",\"green\",\"green\",\"green\",\"green\",\"green\",\"green\",\"green\",\"green\",\"green\",\"green\",\"green\",\"green\",\"green\",\"green\",\"green\",\"green\",\"green\",\"green\",\"green\",\"green\",\"green\",\"green\",\"green\",\"green\",\"green\",\"green\",\"green\",\"green\",\"green\",\"green\",\"green\",\"green\",\"green\",\"green\",\"green\",\"green\",\"green\",\"green\",\"green\",\"green\",\"green\",\"green\",\"green\",\"green\",\"green\",\"green\",\"green\",\"green\",\"green\",\"green\",\"green\",\"green\",\"green\",\"green\",\"green\",\"green\",\"green\",\"green\",\"green\",\"green\",\"green\",\"green\",\"green\",\"green\",\"green\",\"green\",\"green\",\"green\",\"green\",\"green\",\"green\",\"green\",\"green\",\"green\",\"green\",\"green\",\"green\",\"green\",\"green\",\"green\",\"green\",\"green\",\"green\",\"green\",\"green\",\"green\",\"green\",\"green\",\"green\",\"green\",\"green\",\"green\",\"green\",\"green\",\"green\",\"green\",\"green\",\"green\",\"green\",\"green\",\"green\",\"green\",\"green\",\"green\",\"green\",\"green\",\"green\",\"green\",\"green\",\"green\",\"green\",\"green\",\"green\",\"green\",\"green\",\"green\",\"green\",\"green\",\"green\",\"green\",\"green\",\"green\",\"green\",\"green\",\"green\",\"green\",\"green\",\"green\",\"green\",\"green\",\"green\",\"green\",\"green\",\"green\",\"green\",\"green\",\"green\",\"green\",\"green\",\"green\",\"green\",\"green\",\"green\",\"green\",\"green\",\"green\",\"green\",\"green\",\"green\",\"green\",\"green\",\"green\",\"green\",\"green\",\"green\",\"green\",\"green\",\"green\",\"green\",\"green\",\"green\",\"green\",\"green\",\"green\",\"green\",\"green\",\"green\",\"green\",\"green\",\"green\",\"green\",\"green\",\"green\",\"green\",\"green\",\"green\",\"green\",\"green\",\"green\",\"green\",\"green\",\"green\",\"green\",\"green\",\"green\",\"green\",\"green\",\"green\",\"green\",\"green\",\"green\",\"green\",\"green\",\"green\",\"green\",\"green\",\"green\",\"green\",\"green\",\"green\",\"green\",\"green\",\"green\",\"green\",\"green\",\"green\",\"green\",\"green\",\"green\",\"green\",\"green\",\"green\",\"green\",\"green\",\"green\",\"green\",\"green\",\"green\",\"green\",\"green\",\"green\",\"green\",\"green\",\"green\",\"green\",\"green\",\"green\",\"green\",\"green\",\"green\",\"green\",\"green\",\"green\",\"green\",\"green\",\"green\",\"green\",\"green\",\"green\",\"green\",\"green\",\"green\",\"green\",\"green\",\"green\",\"green\",\"green\",\"green\",\"green\",\"green\",\"green\",\"green\",\"green\",\"green\",\"green\",\"green\",\"green\",\"green\",\"green\",\"green\",\"green\",\"green\",\"green\",\"green\",\"green\",\"green\",\"green\",\"green\",\"green\",\"green\",\"green\",\"green\",\"green\",\"green\",\"green\",\"green\",\"green\",\"green\",\"green\",\"green\",\"green\",\"green\",\"green\",\"green\",\"green\",\"green\",\"green\",\"green\",\"green\",\"green\",\"green\",\"green\",\"green\",\"green\",\"green\",\"green\",\"green\",\"green\",\"green\",\"green\",\"green\",\"green\",\"green\",\"green\",\"green\",\"green\",\"green\",\"green\",\"green\",\"green\",\"green\",\"green\",\"green\",\"green\",\"green\",\"green\",\"green\",\"green\",\"green\",\"green\",\"green\",\"green\",\"green\",\"green\",\"green\",\"green\",\"green\",\"green\",\"green\",\"green\",\"green\",\"green\",\"green\",\"green\",\"green\",\"green\",\"green\",\"green\",\"green\",\"green\",\"green\",\"green\",\"green\",\"green\",\"green\",\"green\",\"green\",\"green\",\"green\",\"green\",\"green\",\"green\",\"green\",\"green\",\"green\",\"green\",\"green\",\"green\",\"green\",\"green\",\"green\",\"green\",\"green\",\"green\",\"green\",\"green\",\"green\",\"green\",\"green\",\"green\",\"green\",\"green\",\"green\",\"green\",\"green\",\"green\",\"green\",\"green\",\"green\",\"green\",\"green\",\"green\",\"green\",\"green\",\"green\",\"green\",\"green\",\"green\",\"green\",\"green\",\"green\",\"green\",\"green\",\"green\",\"green\",\"green\",\"green\",\"green\",\"green\",\"green\",\"green\",\"green\",\"green\",\"green\",\"green\",\"green\",\"green\",\"green\",\"green\",\"green\",\"green\",\"green\",\"green\",\"green\",\"green\",\"green\",\"green\",\"green\",\"green\",\"green\",\"green\",\"green\",\"green\",\"green\",\"green\",\"green\",\"green\",\"green\",\"green\",\"green\",\"green\",\"green\",\"green\",\"green\",\"green\",\"green\",\"green\",\"green\",\"green\",\"green\",\"green\",\"green\",\"green\",\"green\",\"green\",\"green\",\"green\",\"green\",\"green\",\"green\",\"green\",\"green\",\"green\",\"green\",\"green\",\"green\",\"green\",\"green\",\"green\",\"green\",\"green\",\"green\",\"green\",\"green\",\"green\",\"green\",\"green\",\"green\",\"green\",\"green\",\"green\",\"green\",\"green\",\"green\",\"green\",\"green\",\"green\",\"green\",\"green\",\"green\",\"green\",\"green\",\"green\",\"green\",\"green\",\"green\",\"green\",\"green\",\"green\",\"green\",\"green\",\"green\",\"green\",\"green\",\"green\",\"green\",\"green\",\"green\",\"green\",\"green\",\"green\",\"green\",\"green\",\"green\",\"green\",\"green\",\"green\",\"green\",\"green\",\"green\",\"green\",\"green\",\"green\",\"green\",\"green\",\"green\",\"green\",\"green\",\"green\",\"green\",\"green\",\"green\",\"green\",\"green\",\"green\",\"green\",\"green\",\"green\",\"green\",\"green\",\"green\",\"green\",\"green\",\"green\",\"green\",\"green\",\"green\",\"green\",\"green\",\"green\",\"green\",\"green\",\"green\",\"green\",\"green\",\"green\",\"green\",\"green\",\"green\",\"green\",\"green\",\"green\",\"green\",\"green\",\"green\",\"green\",\"green\",\"green\",\"green\",\"green\",\"green\",\"green\",\"green\",\"green\",\"green\",\"green\",\"green\",\"green\",\"green\",\"green\",\"green\",\"green\",\"green\",\"green\",\"green\",\"green\",\"green\",\"green\",\"green\",\"green\",\"green\",\"green\",\"green\",\"green\",\"green\",\"green\",\"green\",\"green\",\"green\",\"green\",\"green\",\"green\",\"green\",\"green\",\"green\",\"green\",\"green\",\"green\",\"green\",\"green\",\"green\",\"green\",\"green\",\"green\",\"green\",\"green\",\"green\",\"green\",\"green\",\"green\",\"green\",\"green\",\"green\",\"green\",\"green\",\"green\",\"green\",\"green\",\"green\",\"green\",\"green\",\"green\",\"green\",\"green\",\"green\",\"green\",\"green\",\"green\",\"green\",\"green\",\"green\",\"green\",\"green\",\"green\",\"green\",\"green\",\"green\",\"green\",\"green\",\"green\",\"green\",\"green\",\"green\",\"green\",\"green\",\"green\",\"green\",\"green\",\"green\",\"green\",\"green\",\"green\",\"green\",\"green\",\"green\",\"green\",\"green\",\"green\",\"green\",\"green\",\"green\",\"green\",\"green\",\"green\",\"green\",\"green\",\"green\",\"green\",\"green\",\"green\",\"green\",\"green\",\"green\",\"green\",\"green\",\"green\",\"green\",\"green\",\"green\",\"green\",\"green\",\"green\",\"green\",\"green\",\"green\",\"green\",\"green\",\"green\",\"green\",\"green\",\"green\",\"green\",\"green\",\"green\",\"green\",\"green\",\"green\",\"green\",\"green\",\"green\",\"green\",\"green\",\"green\",\"green\",\"green\",\"green\",\"green\",\"green\",\"green\",\"green\",\"green\",\"green\",\"green\",\"green\",\"green\",\"green\",\"green\",\"green\",\"green\",\"green\",\"green\",\"green\",\"green\",\"green\",\"green\",\"green\",\"green\",\"green\",\"green\",\"green\",\"green\",\"green\",\"green\",\"green\",\"green\",\"green\",\"green\",\"green\",\"green\",\"green\",\"green\",\"green\",\"green\",\"green\",\"green\",\"green\",\"green\",\"green\",\"green\",\"green\",\"green\",\"green\",\"green\",\"green\",\"green\",\"green\",\"green\",\"green\",\"green\",\"green\",\"green\",\"green\",\"green\",\"green\",\"green\",\"green\",\"green\",\"green\",\"green\",\"green\",\"green\",\"green\",\"green\",\"green\",\"green\",\"green\",\"green\",\"green\",\"green\",\"green\",\"green\",\"green\",\"green\",\"green\",\"green\",\"green\",\"green\",\"green\",\"green\",\"green\",\"green\",\"green\",\"green\",\"green\",\"green\",\"green\",\"green\",\"green\",\"green\",\"green\",\"green\",\"green\",\"green\",\"green\",\"green\",\"green\",\"green\",\"green\",\"green\",\"green\",\"green\",\"green\",\"green\",\"green\",\"green\",\"green\",\"green\",\"green\",\"green\",\"green\",\"green\",\"green\",\"green\",\"green\",\"green\",\"green\",\"green\",\"green\",\"green\",\"green\",\"green\",\"green\",\"green\",\"green\",\"green\",\"green\",\"green\",\"green\",\"green\",\"green\",\"green\",\"green\",\"green\",\"green\",\"green\",\"green\",\"green\",\"green\",\"green\",\"green\",\"green\",\"green\",\"green\",\"green\",\"green\",\"green\",\"green\",\"green\",\"green\",\"green\",\"green\",\"green\",\"green\",\"green\",\"green\",\"green\",\"green\",\"green\",\"green\",\"green\",\"green\",\"green\",\"green\",\"green\",\"green\",\"green\",\"green\",\"green\",\"green\",\"green\",\"green\",\"green\",\"green\",\"green\",\"green\",\"green\",\"green\",\"green\",\"green\",\"green\",\"green\",\"green\",\"green\",\"green\",\"green\",\"green\",\"green\",\"green\",\"green\",\"green\",\"green\",\"green\",\"green\",\"green\",\"green\",\"green\",\"green\",\"green\",\"green\",\"green\",\"green\",\"green\",\"green\",\"green\",\"green\",\"green\",\"green\",\"green\",\"green\",\"green\",\"green\",\"green\",\"green\",\"green\",\"green\",\"green\",\"green\",\"green\",\"green\",\"green\",\"green\",\"green\",\"green\",\"green\",\"green\",\"green\",\"green\",\"green\",\"green\",\"green\",\"green\",\"green\",\"green\",\"green\",\"green\",\"green\",\"green\",\"green\",\"green\",\"green\",\"green\",\"green\",\"green\",\"green\",\"green\",\"green\",\"green\",\"green\",\"green\",\"green\",\"green\",\"green\",\"green\",\"green\",\"green\",\"green\",\"green\",\"green\",\"green\",\"green\",\"green\",\"green\",\"green\",\"green\",\"green\",\"green\",\"green\",\"green\",\"green\",\"green\",\"green\",\"green\",\"green\",\"green\",\"green\",\"green\",\"green\",\"green\",\"green\",\"green\",\"green\",\"green\",\"green\",\"green\",\"green\",\"green\",\"green\",\"green\",\"green\",\"green\",\"green\",\"green\",\"green\",\"green\",\"green\",\"green\",\"green\",\"green\",\"green\",\"green\",\"green\",\"green\",\"green\",\"green\",\"green\",\"green\",\"green\",\"green\",\"green\",\"green\",\"green\",\"green\",\"green\",\"green\",\"green\",\"green\",\"green\",\"green\",\"green\",\"green\",\"green\",\"green\",\"green\",\"green\",\"green\",\"green\",\"green\",\"green\",\"green\",\"green\",\"green\",\"green\",\"green\",\"green\",\"green\",\"green\",\"green\",\"green\",\"green\",\"green\",\"green\",\"green\",\"green\",\"green\",\"green\",\"green\",\"green\",\"green\",\"green\",\"green\",\"green\",\"green\",\"green\",\"green\",\"green\",\"green\",\"green\",\"green\",\"green\",\"green\",\"green\",\"green\",\"green\",\"green\",\"green\",\"green\",\"green\",\"green\",\"green\",\"green\",\"green\",\"green\",\"green\",\"green\",\"green\",\"green\",\"green\",\"green\",\"green\",\"green\",\"green\",\"green\",\"green\",\"green\",\"green\",\"green\",\"green\",\"green\",\"green\",\"green\",\"green\",\"green\",\"green\",\"green\",\"green\",\"green\",\"green\",\"green\",\"green\",\"green\",\"green\",\"green\",\"green\",\"green\",\"green\",\"green\",\"green\",\"green\",\"green\",\"green\",\"green\",\"green\",\"green\",\"green\",\"green\",\"green\",\"green\",\"green\",\"green\",\"green\",\"green\",\"green\",\"green\",\"green\",\"green\",\"green\",\"green\",\"green\",\"green\",\"green\",\"green\",\"green\",\"green\",\"green\",\"green\",\"green\",\"green\",\"green\",\"green\",\"green\",\"green\",\"green\",\"green\",\"green\",\"green\",\"green\",\"green\",\"green\",\"green\",\"green\",\"green\",\"green\",\"green\",\"green\",\"green\",\"green\",\"green\",\"green\",\"green\",\"green\",\"green\",\"green\",\"green\",\"green\",\"green\",\"green\",\"green\",\"green\",\"green\",\"green\",\"green\",\"green\",\"green\",\"green\",\"green\",\"green\",\"green\",\"green\",\"green\",\"green\",\"green\",\"green\",\"green\",\"green\",\"green\",\"green\",\"green\",\"green\",\"green\",\"green\",\"green\",\"green\",\"green\",\"green\",\"green\",\"green\",\"green\",\"green\",\"green\",\"green\",\"green\",\"green\",\"green\",\"green\",\"green\",\"green\",\"green\",\"green\",\"green\",\"green\",\"green\",\"green\",\"green\",\"green\",\"green\",\"green\",\"green\",\"green\",\"green\",\"green\",\"green\",\"green\",\"green\",\"green\",\"green\",\"green\",\"green\",\"green\",\"green\",\"green\",\"green\",\"green\",\"green\",\"green\",\"green\",\"green\",\"green\",\"green\",\"green\",\"green\",\"green\",\"green\",\"green\",\"green\",\"green\",\"green\",\"green\",\"green\",\"green\",\"green\",\"green\",\"green\",\"green\",\"green\",\"green\",\"green\",\"green\",\"green\",\"green\",\"green\",\"green\",\"green\",\"green\",\"green\",\"green\",\"green\",\"green\",\"green\",\"green\",\"green\",\"green\",\"green\",\"green\",\"green\",\"green\",\"green\",\"green\",\"green\",\"green\",\"green\",\"green\",\"green\",\"green\",\"green\",\"green\",\"green\",\"green\",\"green\",\"green\",\"green\",\"green\",\"green\",\"green\",\"green\",\"green\",\"green\",\"green\",\"green\",\"green\",\"green\",\"green\",\"green\",\"green\",\"green\",\"green\",\"green\",\"green\",\"green\",\"green\",\"green\",\"green\",\"green\",\"green\",\"green\",\"green\",\"green\",\"green\",\"green\",\"green\",\"green\",\"green\",\"green\",\"green\",\"green\",\"green\",\"green\",\"green\",\"green\",\"green\",\"green\",\"green\",\"green\",\"green\",\"green\",\"green\",\"green\",\"green\",\"green\",\"green\",\"green\",\"green\",\"green\",\"green\",\"green\",\"green\",\"green\",\"green\",\"green\",\"green\",\"green\",\"green\",\"green\",\"green\",\"green\",\"green\",\"green\",\"green\",\"green\",\"green\",\"green\",\"green\",\"green\",\"green\",\"green\",\"green\",\"green\",\"green\",\"green\",\"green\",\"green\",\"green\",\"green\",\"green\",\"green\",\"green\",\"green\",\"green\",\"green\",\"green\",\"green\",\"green\",\"green\",\"green\",\"green\",\"green\",\"green\",\"green\",\"green\",\"green\",\"green\",\"green\",\"green\",\"green\",\"green\",\"green\",\"green\",\"green\",\"green\",\"green\",\"green\",\"green\",\"green\",\"green\",\"green\",\"green\",\"green\",\"green\",\"green\",\"green\",\"green\",\"green\",\"green\",\"green\",\"green\",\"green\",\"green\",\"green\",\"green\",\"green\",\"green\",\"green\",\"green\",\"green\",\"green\",\"green\",\"green\",\"green\",\"green\",\"green\",\"green\",\"green\",\"green\",\"green\",\"green\",\"green\",\"green\",\"green\",\"green\",\"green\",\"green\",\"green\",\"green\",\"green\",\"green\",\"green\",\"green\",\"green\",\"green\",\"green\",\"green\",\"green\",\"green\"],\"group\":[null,null,null,null,null,null,null,null,null,null,null,null,null,null,null,null,null,null,null,null,null,null,null,null,null,null,null,null,null,null,null,null,null,null,null,null,null,null,null,null,null,null,null,null,null,null,null,null,null,null,null,null,null,null,null,null,null,null,null,null,null,null,null,null,null,null,null,null,null,null,null,null,null,null,null,null,null,null,null,null,null,null,null,null,null,null,null,null,null,null,null,null,null,null,null,null,null,null,null,null,null,null,null,null,null,null,null,null,null,null,null,null,null,null,null,null,null,null,null,null,null,null,null,null,null,null,null,null,null,null,null,null,null,null,null,null,null,null,null,null,null,null,null,null,null,null,null,null,null,null,null,null,null,null,null,null,null,null,null,null,null,null,null,null,null,null,null,null,null,null,null,null,null,null,null,null,null,null,null,null,null,null,null,null,null,null,null,null,null,null,null,null,null,null,null,null,null,null,null,null,null,null,null,null,null,null,null,null,null,null,null,null,null,null,null,null,null,null,null,null,null,null,null,null,null,null,null,null,null,null,null,null,null,null,null,null,null,null,null,null,null,null,null,null,null,null,null,null,null,null,null,null,null,null,null,null,null,null,null,null,null,null,null,null,null,null,null,null,null,null,null,null,null,null,null,null,null,null,null,null,null,null,null,null,null,null,null,null,null,null,null,null,null,null,null,null,null,null,null,null,null,null,null,null,null,null,null,null,null,null,null,null,null,null,null,null,null,null,null,null,null,null,null,null,null,null,null,null,null,null,null,null,null,null,null,null,null,null,null,null,null,null,null,null,null,null,null,null,null,null,null,null,null,null,null,null,null,null,null,null,null,null,null,null,null,null,null,null,null,null,null,null,null,null,null,null,null,null,null,null,null,null,null,null,null,null,null,null,null,null,null,null,null,null,null,null,null,null,null,null,null,null,null,null,null,null,null,null,null,null,null,null,null,null,null,null,null,null,null,null,null,null,null,null,null,null,null,null,null,null,null,null,null,null,null,null,null,null,null,null,null,null,null,null,null,null,null,null,null,null,null,null,null,null,null,null,null,null,null,null,null,null,null,null,null,null,null,null,null,null,null,null,null,null,null,null,null,null,null,null,null,null,null,null,null,null,null,null,null,null,null,null,null,null,null,null,null,null,null,null,null,null,null,null,null,null,null,null,null,null,null,null,null,null,null,null,null,null,null,null,null,null,null,null,null,null,null,null,null,null,null,null,null,null,null,null,null,null,null,null,null,null,null,null,null,null,null,null,null,null,null,null,null,null,null,null,null,null,null,null,null,null,null,null,null,null,null,null,null,null,null,null,null,null,null,null,null,null,null,null,null,null,null,null,null,null,null,null,null,null,null,null,null,null,null,null,null,null,null,null,null,null,null,null,null,null,null,null,null,null,null,null,null,null,null,null,null,null,null,null,null,null,null,null,null,null,null,null,null,null,null,null,null,null,null,null,null,null,null,null,null,null,null,null,null,null,null,null,null,null,null,null,null,null,null,null,null,null,null,null,null,null,null,null,null,null,null,null,null,null,null,null,null,null,null,null,null,null,null,null,null,null,null,null,null,null,null,null,null,null,null,null,null,null,null,null,null,null,null,null,null,null,null,null,null,null,null,null,null,null,null,null,null,null,null,null,null,null,null,null,null,null,null,null,null,null,null,null,null,null,null,null,null,null,null,null,null,null,null,null,null,null,null,null,null,null,null,null,null,null,null,null,null,null,null,null,null,null,null,null,null,null,null,null,null,null,null,null,null,null,null,null,null,null,null,null,null,null,null,null,null,null,null,null,null,null,null,null,null,null,null,null,null,null,null,null,null,null,null,null,null,null,null,null,null,null,null,null,null,null,null,null,null,null,null,null,null,null,null,null,null,null,null,null,null,null,null,null,null,null,null,null,null,null,null,null,null,null,null,null,null,null,null,null,null,null,null,null,null,null,null,null,null,null,null,null,null,null,null,null,null,null,null,null,null,null,null,null,null,null,null,null,null,null,null,null,null,null,null,null,null,null,null,null,null,null,null,null,null,null,null,null,null,null,null,null,null,null,null,null,null,null,null,null,null,null,null,null,null,null,null,null,null,null,null,null,null,null,null,null,null,null,null,null,null,null,null,null,null,null,null,null,null,null,null,null,null,null,null,null,null,null,null,null,null,null,null,null,null,null,null,null,null,null,null,null,null,null,null,null,null,null,null,null,null,null,null,null,null,null,null,null,null,null,null,null,null,null,null,null,null,null,null,null,null,null,null,null,null,null,null,null,null,null,null,null,null,null,null,null,null,null,null,null,null,null,null,null,null,null,null,null,null,null,null,null,null,null,null,null,null,null,null,null,null,null,null,null,null,null,null,null,null,null,null,null,null,null,null,null,null,null,null,null,null,null,null,null,null,null,null,null,null,null,null,null,null,null,null,null,null,null,null,null,null,null,null,null,null,null,null,null,null,null,null,null,null,null,null,null,null,null,null,null,null,null,null,null,null,null,null,null,null,null,null,null,null,null,null,null,null,null,null,null,null,null,null,null,null,null,null,null,null,null,null,null,null,null,null,null,null,null,null,null,null,null,null,null,null,null,null,null,null,null,null,null,null,null,null,null,null,null,null,null,null,null,null,null,null,null,null,null,null,null,null,null,null,null,null,null,null,null,null,null,null,null,null,null,null,null,null,null,null,null,null,null,null,null,null,null,null,null,null,null,null,null,null,null,null,null,null,null,null,null,null,null,null,null,null,null,null,null,null,null,null,null,null,null,null,null,null,null,null,null,null,null,null,null,null,null,null,null,null,null,null,null,null,null,null,null,null,null,null,null,null,null,null,null,null,null,null,null,null,null,null,null,null,null,null,null,null,null,null,null,null,null,null,null,null,null,null,null,null,null,null,null,null,null,null,null,null,null,null,null,null,null,null,null,null,null,null,null,null,null,null,null,null,null,null,null,null,null,null,null,null,null,null,null,null,null,null,null,null,null,null,null,null,null,null,null,null,null,null,null,null,null,null,null,null,null,null,null,null,null,null,null,null,null,null,null,null,null,null,null,null,null,null,null,null,null,null,null,null,null,null,null,null,null,null,null,null,null,null,null,null,null,null,null,null,null,null,null,null,null,null,null,null,null,null,null,null,null,null,null,null,null,null,null,null,null,null,null,null,null,null,null,null,null,null,null,null,null,null,null,null,null,null,null,null,null,null,null,null,null,null,null,null,null,null,null,null,null,null,null,null,null,null,null,null,null,null,null,null,null,null,null,null,null,null,null,null,null,null,null,null,null,null,null,null,null,null,null,null,null,null,null,null,null,null,null,null,null,null,null,null,null,null,null,null,null,null,null,null,null,null,null,null,null,null,null,null,null,null,null,null,null,null,null,null,null,null,null,null,null,null,null],\"x\":{\"__ndarray__\":\"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\",\"dtype\":\"float64\",\"order\":\"little\",\"shape\":[1486]},\"y\":{\"__ndarray__\":\"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\",\"dtype\":\"float64\",\"order\":\"little\",\"shape\":[1486]}},\"selected\":{\"id\":\"1601\"},\"selection_policy\":{\"id\":\"1600\"}},\"id\":\"1553\",\"type\":\"ColumnDataSource\"},{\"attributes\":{\"callback\":null,\"renderers\":[{\"id\":\"1537\"}],\"tooltips\":[[\"Idx\",\"@Idx\"]]},\"id\":\"1551\",\"type\":\"HoverTool\"},{\"attributes\":{\"fill_alpha\":0.01,\"fill_color\":\"green\",\"hatch_alpha\":0.01,\"hatch_color\":\"green\",\"line_alpha\":0.01,\"line_color\":\"green\",\"x\":{\"field\":\"x\"},\"y\":{\"field\":\"y\"}},\"id\":\"1676\",\"type\":\"Patch\"},{\"attributes\":{},\"id\":\"1706\",\"type\":\"Selection\"},{\"attributes\":{\"coordinates\":null,\"group\":null,\"text\":\"PCA Loadings Plot (PC1 vs. PC2)\",\"text_font_size\":\"15pt\"},\"id\":\"1555\",\"type\":\"Title\"},{\"attributes\":{},\"id\":\"1546\",\"type\":\"UnionRenderers\"},{\"attributes\":{\"source\":{\"id\":\"1499\"}},\"id\":\"1538\",\"type\":\"CDSView\"},{\"attributes\":{\"data\":{\"x\":{\"__ndarray__\":\"uwaxtkBySECWdh7vW3VIQD1MreKEZEhAIJ5J7cw/SEDwsaHoWQdIQHanIQVmu0dAker3jT9cR0BMQWCYSOpGQJuniJ72ZUZA4TF4BtLPRUCnynSVdShFQFm7eNCNcERAOnVcStioQ0D762vgItJCQJjyMOZK7UFAYVpNQTz7QEC2BKDs4Pk/QAgB/07b5j1ApA9HDYu/O0AdK8d1KIY5QApzu3f+PDdA0tJGRmjmNEACa6jqzoQyQAGyLcimGjBASOnhKNpUK0Bw3v+MSm0mQP0tH/+sgyFA30ijvyM6GUAwCu7VGfoOQDi8hbl9aPc/0DPQ/a0l7b/UHie8UesJwGKRe3cfDxbAluUVSbjnHsAFvc92KrsjwFVh46ER2SfApzrzQlPJK8CtjOEE4IcvwMao0edtiDHAkFVm4VAwM8DgApn747k0wFhU34GRIzbAaAzwoORrN8DaDRTnipE4wHyDBqFVkznApI38ETtwOsBmz5KFVyc7wNB8hjrutzvAAvVHJWohPMAeVp6JXmM8wI6rvWqHfTzAritc0clvPMD4Rn7nMzo8wP7g3On83DvAbMD07oRYO8DS5/mDVK06wErxFCAc3DnAioZ7brPlOMDSdx9wGMs3wC6d2XVujTbAxmge9PwtNcBWt3ExLq4zwB7S9dCNDzLANJaWOsdTMMAhT+rER/kswL2xtOISGCnA97sroO8HJcAnsZwvDs0gwPLGiKWV1xjA2EaXcKWiD8BQd748hEL6v/D9oRKtB+c/7rPpg2rzCEBk2XxXuS8WQNbsUj//+B9Aeb0MPrjlJEA+XWKOds4pQLaFNxarsS5ASFlKCCbFMUCCrcFPrSk0QLJNK/nzgzZAWPazLY3ROEB+BwUoGRA7QJhgxaZHPT1AGtIbT9pWP0D56F5+U61AQAMSlP5Mo0FA1lHaGVyMQkBwGSySkGdDQLD6dnEINERA/KOI8vDwREBVH1Nah51FQCFeqMAZOUZAUiaexwfDRkAQVt1AwzpHQDYWMsDQn0dA8ubFGsjxR0C/YIDSVDBIQKT5H202W0hAuwaxtkBySEA=\",\"dtype\":\"float64\",\"order\":\"little\",\"shape\":[100]},\"y\":{\"__ndarray__\":\"iNiJy5B+4b9GQU1FWm7rP4qULZiJIgJAdGSh85RpDUBWnUdOjFIUQBr/QTfA5BlAAMecC6hlH0C4SmK7y2ciQIzY5uh8DiVAAcAR8iukJ0CTuPDCLiYqQFVEA4/vkSxAFwJte+/kLkAmqcCYZI4wQJC7gKuZmzFAaLrAdAGZMkAw2kK9loUzQJrUBaVlYDRAliupnowoNUAIOe5XPd01QGBfZo69fTZA8B5zz2cJN0DIJNIirH83QJKFBZ8Q4DdA8ij/5jEqOEDE2o2Qw104QJxsInOQejhAMLWb3nqAOEAa8eC5fG84QDL5KomnRzhAqtP1WyQJOEDWPK2iM7Q3QAbJP+wsSTdAfhjdi37INkB6JzwnrTI2QCr13i1TiDVAGnXgOSDKNED45PBa2PgzQNAeO0xTFTNA7jwDlnsgMkCgy+ObTRsxQPq+opjWBjBAgrlUEWfILUANXogIIGkrQJyliRVK8ihAuPbNf29mJkCFgkQ5MMgjQC51rik/GiFAmnTXzL6+HEA+9zSzwjQXQHZj8bY/nBFA/iMVBPX1B0Bei0sXA1v5P4B6qe5nrMY/+OypGkGN879MggvhKdsEwGSep4Vpxw/ASroUhg5AFcB+lDSUG30awHSQy4p1lR/AzPIN7u1BIsA7RYicnKEkwNUHVGdU5ybAfmuyqL0QKcD0tMfonRsrwMdIqCnaBS3Ai2vzEnnNLsCQfV99UjgwwMST3eTW9jDAsI1NXIWhMcBYuHvyrTcywKCKBN61uDLAtlrjHBgkM8AC3Y39ZXkzwEoXD5FHuDPAyiisBXzgM8Bad7Xp2fEzwAJhP1ZP7DPAcGiWAeLPM8Bw1ls5r5wzwDDiUMTrUjPAloPvq+PyMsAIBAnu+XwywIQZuxao8THAIrwkw31RMcDI3VsNIJ0wwLs8ecSRqi/AVdiCg4z1LcAVQVPV8hwswJz7kuSrIirA0czlksEIKMBdQ/NeXtElwBLp0CjLfiPApU8b12wTIcAQ6la+gyMdwEaF52W/+BfAxSdWLuCrEsAccxKSuYQKwKgKSbYlB/+/uNiJy5B+4b8=\",\"dtype\":\"float64\",\"order\":\"little\",\"shape\":[100]}},\"selected\":{\"id\":\"1706\"},\"selection_policy\":{\"id\":\"1705\"}},\"id\":\"1651\",\"type\":\"ColumnDataSource\"},{\"attributes\":{},\"id\":\"1522\",\"type\":\"SaveTool\"},{\"attributes\":{},\"id\":\"1578\",\"type\":\"HelpTool\"},{\"attributes\":{\"data\":{\"x\":{\"__ndarray__\":\"/ARp2TANK0Ag/oKM7SArQD6TguMYKitAqnS3aqkoK0D25+2coBwrQN5O6OEKBitADoOVgf/kKkBgNRGMoLkqQIoNh7YahCpAJ7wcLaVEKkCzgBJagfspQKTDVKL6qClAIkfEF2ZNKUBgC4UhIukoQJtLrhqWfChApOO/5zEIKEAZ8UqDbYwnQOKVRILICSdA71iCkMmAJkCctufl/fElQG7607T4XSVACHFmklLFJEA8WzXZqCgkQHfEGQediCNAYXC3FtTlIkBieWzV9UAiQD7uVzasmiFA9rwpo6LzIEBbgXBLhUwgQG23NuYATB9AMIzNgX8BHkBd6dYa27ocQLhMC2dkeRtAdM+TxWY+GkBRWnTpJgsZQKqk1orh4BdApgSPIMrAFkB6myujCawVQKiT1Fq9oxRAGgA5ufWoE0Dbf7dAtbwSQH0l5Hnv3xFAElN++IcTEUBoUdlwUVgQQHrqUr0ZXg9AhG0rfNEwDkB0l7WvACoNQBJYckK2SgxAzAOmYNiTC0DW6hOLIwYLQG47rtQpogpA3HwCTFJoCkCG2v2Q2FgKQDjBdpfMcwpAxCm7lhK5CkC6hDQmYygLQPTAA4dLwQtAgoxJGi6DDEAc4qADQ20NQKRmJPeYfg5A+DcqMha2D0Ao49rOPIkQQHQpugwuSRFA2nH39hgaEkCwCDoyJvsSQGqZisFt6xNASJ129ffpFEAjIGJrvvUVQIqrABytDRdAuIjed6MwGEBOC9WQdV0ZQE5FN0/tkhpAenB4scvPG0AWjAIVyhIdQCM26oabWh5AVKskG+6lH0DyEW8ktnkgQBa9RCXfICFA1hgfwMXHIUAdynvpvW0iQLlZo4scEiNAw9YENzi0I0CMT97QaVMkQJwWfj8N7yRAMkNrE4KGJUAdDscsLBkmQJ2QPFx0piZA4P/Y/sgtJ0DuviuUnq4nQKWGE05wKChA12ekmcCaKEBviZmgGQUpQHEzzcINZylAZvA5BzjAKUBqSBCEPBAqQOnKdb3IVipAVLyL+pOTKkBTwmWQX8YqQEhIoyL37ipA/ARp2TANK0A=\",\"dtype\":\"float64\",\"order\":\"little\",\"shape\":[100]},\"y\":{\"__ndarray__\":\"wC+D3Vwi3r989YIc8A7Wv9h0gYts+8q/kMyBsRDesb/wdSMlY+mzP9ATA3FInM0/xLlfy7z52D+Y0AZVU7nhP5jjrCQLF+c/UsK3xX2Q7D+zzc9JAxDxP3EwtRL13/M/D5AnGy619j/dFt3Pwoz5P498RC/FY/w/fGWkzkc3/z/UoU9vMAIBQECz/5UWZAJAcl3ZjOm/A0DYYXLIQhQFQCzBF3LDXwZAFKt00RWhB0CjHNOs7tYIQLQRi54OAApA4FNAXkMbC0Bsg5v8aCcMQBHmOBBrIw1AMsaW0kUODkAVrN0rB+cOQORnbqzPrA9AuFaauWkvEEDWauh/LX4QQP4Q4PdhwhBAPkLg0sD7EEBTsGHtDioRQBHt7IscTRFAioFOjMVkEUDIPNaK8XARQNVUe/uTcRFAim/LNqxmEUAoPpd6RVARQK/5W952LhFA/LF1O2MBEUAm+TIJOckQQOby7iwyhhBA3CdjvpM4EEDBQ92AW8EPQDJ4N521/Q5AzVdzf/8mDkAIFNR7Fj4NQAgFG6nqQwxAMIYK6X05C0AQbZHe4h8KQOggsdI7+AhANSZCibnDB0ACk8sGmoMGQBtDsUgnOQVA1LgK8bXlA0AhT4Hno4oCQM+xn/BWKQFArdMMenaG/z9aTwPkg7P8P/SOBlq/3Pk/CaASBxYF9z9puPkBdi/0P23uLkjLXvE/UsB1dfkr7T+LMupA0q/nPxsvL2HITuI/aM/kos4c2j+AlX+JY9DPP0B21iz9KLg/gOxR5eeWq7+wHSowtgrJv2TtrPPgI9W/mC9eB4xF3b8wKoE//XDiv6S9K++p+OW/nCSyiyg26b9UAnkFIibsv3yfsDWPxe6/5Pev/t2I8L+ITmwHJYTxv2BTWq+ZU/K/EKrsHGb28r+ggCx/4mvzv/SmtrqVs/O/YIWS5jXN878YQmKYqLjzv2yMnf8CdvO/Lvy6z4kF87/oh175sGfyv4oS1jIbnfG/3EJfUJmm8L+cFMfZUgrvvxSDEMjrc+y/YLtBPaiM6b8YjYBlhlfmv2QqqLHU1+K/yC+D3Vwi3r8=\",\"dtype\":\"float64\",\"order\":\"little\",\"shape\":[100]}},\"selected\":{\"id\":\"1712\"},\"selection_policy\":{\"id\":\"1711\"}},\"id\":\"1669\",\"type\":\"ColumnDataSource\"},{\"attributes\":{},\"id\":\"1507\",\"type\":\"LinearScale\"},{\"attributes\":{\"data\":{\"x\":{\"__ndarray__\":\"rh8T25nLK8CSefqGLMkrwO2C4pY30SvAp59EwLLjK8B+8iT2igAswPiptXyiJyzA7Gn9B9FYLMBwOWHl45MswHIj5y+e2CzAB6v7DrkmLcCsXnn/430twLhCpybF3S3AqIXYrvlFLsDPA04tFrYuwPyU8BCnLS/AFAByGTGsL8Dk4yzrmBgwwIVsvRYQXjDAY8AjdDamMMDJ/LijwfAwwB6yIM5kPTHAEo5+89CLMcAYjeU8tdsxwHrBrE+/LDLAn8lTopt+MsBfc5/S9dAywCrIlfx4IzPAuNf/EdB1M8D1DBcypsczwBCsAwGnGDTAwkjS/n5oNMBQkYbd27Y0wDm08tVsAzXA0uv7+uJNNcA1WvaK8ZU1wMVXxD5O2zXAjqRnlrEdNsBNj7Ui11w2wFMY4st9mDbAlFiZFGjQNsD+AWJZXAQ3wISiBwwlNDfAwmrP6pBfN8Dfjz4zc4Y3wKjxPdCjqDfANXVrg//FN8CwfG4JaN43wCkJKjnE8TfAKl6sHQAAOMDEasEKDQk4wF3DEqzhDDjA4pTFDnoLOMCdp4yl1wQ4wHs/KkcB+TfAsGNjJwPoN8AY0mvK7tE3wJSV1/LatjfAT9wkiuOWN8ArPfaDKXI3wCYVG7zSSDfARgCJzwkbN8CYqG7w/eg2wPUyjbXisjbAFnAK5e94NsBIo/I6YTs2wLEipSt2+jXAUkpronG2NcD9Ln28mW81wMAsu4A3JjXAmtFmlJbaNMBvvSjtBI00wKzYs4DSPTTAcrhY8lDtM8BGJ94+05szwL2R9WatSTPAtYWjGDT3MsDGhvVXvKQywPcyXyebUjLA8g0ZMCUBMsBjR9tqrrAxwFVyTsmJYTHAx2eL4AgUMcBTdwKVe8gwwBiWIMgvfzDAtnAHCHE4MMAoQ1aDEOkvwMSoS+t2Zy/Ac6gd4JrsLsCWzT4H+3guwNnd2JAODS7AGkDwvESpLcDiKrZoBE4twFjRf6Sr+yzA+tvPUo+yLMDdINbQ+nIswO7Nv6gvPSzARhooTmURLMDGIu/kyO8rwCLesRJ92CvArh8T25nLK8A=\",\"dtype\":\"float64\",\"order\":\"little\",\"shape\":[100]},\"y\":{\"__ndarray__\":\"01/ipGgQEcAXl7oDBTgQwLqPVS4Ivg7A4Ri2IIsMDcD4sQO4UV0LwPa+KHgYsgnActRVxZcMCMBysAoegm4GwBBsM1uC2QTAuJYn+DlPA8Ciy1BkP9EBwJteNGAcYQDAWgAgz5gA/r8efldUdmD7v/ZG6SmG5Pi/jK/E2VeP9r+w9C/6UmP0v+rDOLO0YvK/dMfhb42P8L/8etx6fdftv3gy+rXy8eq/oL7m9nZx6L/YJQN3nljmv7iltJqSqeS/2Nnxtg9m478Y1ztHY4/ivxBg25VqJuK/ZI7E15Er4r+MFAy9057iv3gTYXa5f+O/jN6FL1vN5L9Ub0n+YIbmv1QxC0UEqei/jLVbhxEz67/IOteu6iHuv7yk8d5EufC/fK3D9sGQ8r9gDpWZhpX0v1LjSBV+xfa/IlEPMGce+b+U12l71p37v+BWsdI4Qf6/DMpFAeuCAMAW60nLafQBwPBpKeWbcwPAHuM+Tfb+BMDklal54ZQGwHLjZvy6MwjAKt+lMtfZCcA5UZj9goULwFvE+oIFNQ3AdkOF86HmDsB7KriqTEwQwFHGmiiWJBHAJmBYf077EcCiQ2NYmM8SwM4Z296YoBPAP3EgoXhtFMB0SupuZDUVwIC6+DKO9xXArzuExy2zFsCZsI7EgWcXwNBsQUfQExjA6r+KsWe3GMCdfTVhn1EZwIrGvV3Y4RnAk+Ev/H1nGsCmOWh4BuIawAqHFoPzUBvARsDxw9KzG8CCm5ZPPgocwMYflxDdUxzAlPlOI2OQHMD46R0kkr8cwFast2854RzAtAdHVTb1HMC6XDA6dPscwNDTTq/s8xzAcEaWd6feHMCcDROAurscwKD0T8lJixzAnpw5QodNHMBNkqWUsgIcwO8ksuMYqxvAfqRCfBRHG8A8/ul3DNcawHSro1J0WxrAHIDIc8vUGcC6D7qqnEMZwJAJzJ99qBjAmwv/OQ4EGMDA8iv691YXwJSRSUztoRbAmuqAz6jlFcDrhM2V7CIVwNgo8FuBWhTAWDyCujWNE8CODP9Q3bsSwGKLnutP5xHA1F/ipGgQEcA=\",\"dtype\":\"float64\",\"order\":\"little\",\"shape\":[100]}},\"selected\":{\"id\":\"1692\"},\"selection_policy\":{\"id\":\"1691\"}},\"id\":\"1609\",\"type\":\"ColumnDataSource\"},{\"attributes\":{\"data\":{\"x\":{\"__ndarray__\":\"iegDzWcANEC5COgOugk0QL8ZfhTW6jNAdSt9tdujM0CbrU4cFDUzQP24onrxnjJAl1e5kw7iMUAhI9ocLv8wQHZaPelz7i9Aiiy9Y4SWLUC6qmsW+PgqQMSfjDCBGChAVqT62xb4JEA6NZcu8pohQFw6ja8VCRxA+NnIGidxFEDQBn/v2OsIQICFaut/fvA/gBxBHJkk8r+QoUdp8vYKwNhJguMfrhbA2D/+jM8LIMB8iI2KIdckwJmPd8QUtCnAj5Jt6KWdLsAt0VRRYscxwEhwG2ssQTTA/yyg7qO5NsCoYP7lPC45wB5NZVhvnDvAw6UJ5rkBPsARAqUu0i1AwIlhLiPhU0HAQr5zsdpxQsDubXYPmIZDwCxKRvj7kETA3X8R0vOPRcDUEjXJeIJGwKVLKt+QZ0fAnsg57E8+SMBljeqS2AVJwHIhMiRdvUnAxoR6cyBkSsAGbKOZdvlKwP6/NabFfEvABLcSPobtS8Da9PomREtMwE7dXb+elUzAmpj1YUnMTMDSG8m0C+9MwL7DQuPB/UzAXKEfw1z4TMAkZRHk4d5MwOzLAoprsUzALnYEkihwTMByEv5BXBtMwPCmVQNes0vALnbUCJk4S8DYYCbgi6tKwB6tZe/HDErAZK053/BcScAAxiLyu5xIwDq5oUnvzEfAotT6GWHuRsDNh2fN9gFGwHgBmhekCEXAAJmG+mkDRMBs+XW9VfNCwLAlcdd/2UHA3Hglzgq3QMDqTdUURBo/wKvnPkfxuTzAVIw2RpBPOsBWzvWBnt03wE0wKzehZjXAsVLa1SLtMsBMw99isHMwwMQrl62t+SvAOlSR+UAWJ8DK7YyoJEIiwOZnYeClBBvAAC3fNmK3EcCAeXP6KUwBwABUMrx59KI/CHSUaAxHAUAE4mspAsoQQEyR1Qf2kBhALBldfl3wH0BMRqR8T3AjQGaf7LtJrSZAUt/d9carKUC+mWENsWgsQA4J7H014S5Az8EiImSJMECtJlM/k30xQJf5t2AsTDJAC4kOj1r0MkDDTShtcHUzQAMAoOrozjNAiegDzWcANEA=\",\"dtype\":\"float64\",\"order\":\"little\",\"shape\":[100]},\"y\":{\"__ndarray__\":\"W45XPZ+xGsBoVeVVgTMUwMfjQ3VWYQvAnmtEhky//L/wFYZfpvXGv2B4bH5txPY/hFmVdtYHCEBaKTyrPToSQMyU0FirTRhAWNJ95fA3HkCsKcyvevkhQDSSsEVovCRAB9vufOhhJ0CFPpnzQOcpQCHhOW3YSSxA2TeQgDmHLkDaRjCQik4wQHRsXH6iRDFA6Gkb3eYkMkC2S4N+cO4yQCpNv6JvoDNArOM2ziw6NEBMFbGGCbs0QJQisfaAIjVAOB5kdihwNUCCTJL5r6M1QKL1ImLivDVABpzdtqW7NUB+JTA++581QKRd3nz/aTVAoiycGOoZNUC0z7CeDbA0QEA13i7XLDRAKjTkCs6QM0AMkxMLk9wyQDCYgPjfEDJAOgyAzYYuMUA8GTTdcDYwQDNLEMY7Uy5AizAn9kUSLECth+YIU6wpQI/Zf93bIydAQs6753x7JEAUE+x+87UhQO5t7BU2rB1ACnTBJNS9F0CCAddY3qYRQIitZmk32wZAiCljWdph9D8g/3BbniDVvyczZnwiLf+/5ke1hTKZDMByJ28sR88UwBI0Qk+cTBvAneLaEPTeIMASajpBQw4kwHekfUjzMCfA55ciuchDKsDFjlV9mEMtwExUg42lFjDA53fk8e9+McCH95gGONkywJB9RNcYJDTA9HNYUD1eNcByyKqeYYY2wEgtRH1UmzfAmr4NcPibOMC2qxnqRIc5wLyJV15HXDrAhDObOSQaO8AWe/TEF8A7wCZbbu92TTzAerFl/q/BPMAwvMEjSxw9wACAc/nqXD3AvMm84UyDPcBmjNtLSY89wJzS0tzTgD3AijgnfPtXPcCozYFE6hQ9wEY0SVjltzzAirxdmkxBPMDk8EFLmrE7wEp3FYtiCTvA8i7kwFJJOsDg7+bnMHI5wCgubsPahDjAZOBI+kSCN8BITpMaems2wFy+8YaZQTXASkBSTtYFNMAn82bvdbkywFwPHwnPXTHARCTx8o/oL8DyNy3YqvwswDmcMrTx+inAXU2G+X3mJsCO6gppfMIjwPzrMswpkiDAYo5XPZ+xGsA=\",\"dtype\":\"float64\",\"order\":\"little\",\"shape\":[100]}},\"selected\":{\"id\":\"1694\"},\"selection_policy\":{\"id\":\"1693\"}},\"id\":\"1615\",\"type\":\"ColumnDataSource\"},{\"attributes\":{\"coordinates\":null,\"data_source\":{\"id\":\"1645\"},\"glyph\":{\"id\":\"1646\"},\"group\":null,\"hover_glyph\":null,\"muted_glyph\":{\"id\":\"1648\"},\"nonselection_glyph\":{\"id\":\"1647\"},\"view\":{\"id\":\"1650\"}},\"id\":\"1649\",\"type\":\"GlyphRenderer\"},{\"attributes\":{\"source\":{\"id\":\"1657\"}},\"id\":\"1662\",\"type\":\"CDSView\"},{\"attributes\":{},\"id\":\"1577\",\"type\":\"ResetTool\"},{\"attributes\":{\"axis_label\":\"PC 1 (29.1%)\",\"axis_label_text_font_size\":\"13pt\",\"coordinates\":null,\"formatter\":{\"id\":\"1544\"},\"group\":null,\"major_label_policy\":{\"id\":\"1545\"},\"ticker\":{\"id\":\"1512\"}},\"id\":\"1511\",\"type\":\"LinearAxis\"},{\"attributes\":{},\"id\":\"1712\",\"type\":\"Selection\"},{\"attributes\":{\"coordinates\":null,\"data_source\":{\"id\":\"1663\"},\"glyph\":{\"id\":\"1664\"},\"group\":null,\"hover_glyph\":null,\"muted_glyph\":{\"id\":\"1666\"},\"nonselection_glyph\":{\"id\":\"1665\"},\"view\":{\"id\":\"1668\"}},\"id\":\"1667\",\"type\":\"GlyphRenderer\"},{\"attributes\":{\"coordinates\":null,\"group\":null,\"text\":\"PCA Score Plot (PC1 vs. PC2)\",\"text_font_size\":\"15pt\"},\"id\":\"1501\",\"type\":\"Title\"},{\"attributes\":{\"label\":{\"field\":\"group\"},\"renderers\":[{\"id\":\"1591\"}]},\"id\":\"1604\",\"type\":\"LegendItem\"},{\"attributes\":{\"axis\":{\"id\":\"1515\"},\"coordinates\":null,\"dimension\":1,\"group\":null,\"ticker\":null},\"id\":\"1518\",\"type\":\"Grid\"},{\"attributes\":{\"fill_alpha\":0.1,\"fill_color\":\"red\",\"hatch_alpha\":0.1,\"hatch_color\":\"red\",\"line_alpha\":0.1,\"line_color\":\"red\",\"x\":{\"field\":\"x\"},\"y\":{\"field\":\"y\"}},\"id\":\"1629\",\"type\":\"Patch\"},{\"attributes\":{\"data\":{\"x\":{\"__ndarray__\":\"HBqiuX1rLkDmXgxgGG0uQG5+xShmZC5AKFqiCnBRLkC2ul2RSTQuQPRbcskQDS5A9FkhIe7bLUDg7MQ+FKEtQMJpmsy/XC1AUlo5OjcPLUAAIvhzyrgsQIQIiZDSWSxA9pYkdbHyK0Cu8Z9w0YMrQM80182kDStAwsncXaWQKkDxJ2f6Uw0qQMpx/gA4hClAX9hyx971KEBknCsK22IoQPDa5FTEyydAxhF4ZjYxJ0A9Y1CQ0JMmQDwYMBI19CVAm6rwcghTJUCUv+nW8LAkQGPlrVSVDiRAw57NSJ1sI0AlSFKpr8siQBatollyLCJAJbeCf4mPIUDle97ZlvUgQBUWDxo5XyBAUFGKgBaaH0DMV4P3R38eQPpwAx8qbx1A6Nz6d9VqHED0tCldVnMbQCzDf+6riRpA+IwfCseuGUBWqRNUieMYQDFUtk3EKBhAwAK7fTh/F0AZl7iplOcWQO7GACJ1YhZAZmt+IGPwFUA+00A71JEVQOznRespRxVAGhgAKLEQFUBHmv8Xou4UQFvQENcf4RRAfHYLUjjoFEB663c45AMVQNpeGQQHNBVAyh5VFm94FUC8tljr1dAVQN0kymLgPBZAxTi3HR+8FkC/RmPxDk4XQCfYfG4Z8hdAWvgvfJWnGEBDRHUGyG0ZQEEO6r7kQxpAeMxq7w4pG0CKuZZdWhwcQN4gUj7MHB1Ax1JMOFwpHkC2wn509UAfQDw1xt07MSBAiqNtT1zGIED41hpWQl8hQJ4uW1VQ+yFAtkvcb+WZIkCbqj4tXjojQE3YlyIV3CNAdZD2nGN+JECa/jhNoiAlQCsAhPQpwiVAf5+pEFRiJkDaEM2HewAnQGJDk1L9mydAWpYwJDk0KEATd6YPksgoQDCShilvWClAitiUJTzjKUAH2qXvaWgqQMvhGz9v5ypA/MpqJMlfK0CLrRCQ+9ArQH1BeNKROixAKiVBFB+cLEA0CXLGPvUsQLAaIQqVRS1AONEnD8+MLUDggYBpo8otQPC39VzS/i1Axk7VHiYpLkB9k2MNc0kuQKJF1dyXXy5AHBqiuX1rLkA=\",\"dtype\":\"float64\",\"order\":\"little\",\"shape\":[100]},\"y\":{\"__ndarray__\":\"LjdSAmae/j+Yc13IY8IAQPTzi+QXNwJA/UzWJM+rA0B6SiFVCR8FQB9uIMpHjwZA7p/M6w77B0BZVa+852AJQJDUblxhvwpAux0NhBIVDEDrglH6mmANQLoK3f6koA5AZFhzqubTD0BmeoahkXwQQGw1KkGWBxFA+NSe5nGKEUBUPrutnQQSQArEv6abdRJALJQnWPfcEkCQQ7k2RjoTQBOyWhMojRNAZRE3fkfVE0AP2tAeWhIUQNblpAAhRBRApq8P1GhqFEDM0zEjCoUUQIZKnXrpkxRA7W6hhfeWFECyphgeMY4UQIRgp0+feRRAbBBpTldZFEC3xhRhei0UQFnpr7419hNApGvyX8KzE0Duj4zEZGYTQLm8iqxsDhNAvS4gxjSsEkCoRS1QIkASQALH4bGkyhFAPKzmBzVMEUBm3IWnVcUQQLqCUJiRNhBAtv+cCfhAD0AFYpVFXwcOQOHbsCecwQxAs0Rtff5wC0DwhHhE4RYKQJoHAUWptAhARmruocNLB0CDiH1gpN0FQKTgw+jEawRAd6ClgKL3AkAnYc/CvIIBQB62SBOUDgBA5VduJlA5/T99VtQq7Fz6P8TGjirvivc/Od1ZY0HG9D+ylrRavRHyPzRSrtlZ4O4/jGKs2YzI6T+gUtKxU+HkP6jfa0u8L+A/2LqtjTpx1z8go9b6QwLOPyA+F0qGX7w/AFqmqsGXcL/gd74nLhi8vyDbjNZVWMq/EFbwhmau0r/AsBmqEIfXv4DjWm0qsdu/kMUK22go37/AuQmunPTgv0jpXLNi+OG/9PbFtXqe4r/0FLl+Oebiv5gbVRlVz+K/kPWfHuVZ4r8YaDOdYobhv/hKc5ynVeC/EKSbd9yR3b+4K9vdnsPZvzBIVrCCRNW/2EjhhSoZ0L8wiZQA1Y3Ev8CjXnEWnq6/gD3UJDTNqT9gBczSGLTFP0SFO02SBdM/YI5iM8yz2z8Qs+qx423iP2bYSdIJOuc/4KQqemY57D9ReyVvabPwP4LNHVx8XvM/C49h4ysb9j8tUMO8peb4PyMmEGEIvvs/KzdSAmae/j8=\",\"dtype\":\"float64\",\"order\":\"little\",\"shape\":[100]}},\"selected\":{\"id\":\"1704\"},\"selection_policy\":{\"id\":\"1703\"}},\"id\":\"1645\",\"type\":\"ColumnDataSource\"},{\"attributes\":{},\"id\":\"1516\",\"type\":\"BasicTicker\"},{\"attributes\":{},\"id\":\"1595\",\"type\":\"BasicTickFormatter\"},{\"attributes\":{\"line_alpha\":0.1,\"line_color\":\"blue\",\"line_width\":2,\"x\":{\"field\":\"x\"},\"y\":{\"field\":\"y\"}},\"id\":\"1635\",\"type\":\"Line\"},{\"attributes\":{},\"id\":\"1559\",\"type\":\"DataRange1d\"},{\"attributes\":{\"source\":{\"id\":\"1651\"}},\"id\":\"1656\",\"type\":\"CDSView\"},{\"attributes\":{},\"id\":\"1570\",\"type\":\"BasicTicker\"},{\"attributes\":{},\"id\":\"1509\",\"type\":\"LinearScale\"},{\"attributes\":{},\"id\":\"1701\",\"type\":\"UnionRenderers\"},{\"attributes\":{\"toolbars\":[{\"id\":\"1526\"},{\"id\":\"1580\"}],\"tools\":[{\"id\":\"1519\"},{\"id\":\"1520\"},{\"id\":\"1521\"},{\"id\":\"1522\"},{\"id\":\"1523\"},{\"id\":\"1524\"},{\"id\":\"1551\"},{\"id\":\"1573\"},{\"id\":\"1574\"},{\"id\":\"1575\"},{\"id\":\"1576\"},{\"id\":\"1577\"},{\"id\":\"1578\"},{\"id\":\"1605\"}]},\"id\":\"1729\",\"type\":\"ProxyToolbar\"},{\"attributes\":{\"source\":{\"id\":\"1645\"}},\"id\":\"1650\",\"type\":\"CDSView\"},{\"attributes\":{},\"id\":\"1709\",\"type\":\"UnionRenderers\"},{\"attributes\":{\"line_alpha\":0.2,\"line_color\":\"red\",\"x\":{\"field\":\"x\"},\"y\":{\"field\":\"y\"}},\"id\":\"1618\",\"type\":\"Line\"},{\"attributes\":{\"line_alpha\":0.2,\"line_color\":\"green\",\"line_width\":2,\"x\":{\"field\":\"x\"},\"y\":{\"field\":\"y\"}},\"id\":\"1660\",\"type\":\"Line\"},{\"attributes\":{},\"id\":\"1700\",\"type\":\"Selection\"},{\"attributes\":{\"tools\":[{\"id\":\"1519\"},{\"id\":\"1520\"},{\"id\":\"1521\"},{\"id\":\"1522\"},{\"id\":\"1523\"},{\"id\":\"1524\"},{\"id\":\"1551\"}]},\"id\":\"1526\",\"type\":\"Toolbar\"},{\"attributes\":{\"line_alpha\":0.4,\"line_color\":\"green\",\"x\":{\"field\":\"x\"},\"y\":{\"field\":\"y\"}},\"id\":\"1664\",\"type\":\"Line\"},{\"attributes\":{\"axis\":{\"id\":\"1511\"},\"coordinates\":null,\"group\":null,\"ticker\":null},\"id\":\"1514\",\"type\":\"Grid\"},{\"attributes\":{\"coordinates\":null,\"data_source\":{\"id\":\"1639\"},\"glyph\":{\"id\":\"1640\"},\"group\":null,\"hover_glyph\":null,\"muted_glyph\":{\"id\":\"1642\"},\"nonselection_glyph\":{\"id\":\"1641\"},\"view\":{\"id\":\"1644\"}},\"id\":\"1643\",\"type\":\"GlyphRenderer\"},{\"attributes\":{\"line_alpha\":0.1,\"line_color\":\"red\",\"x\":{\"field\":\"x\"},\"y\":{\"field\":\"y\"}},\"id\":\"1617\",\"type\":\"Line\"},{\"attributes\":{},\"id\":\"1697\",\"type\":\"UnionRenderers\"},{\"attributes\":{\"line_alpha\":0.8,\"line_color\":\"green\",\"line_width\":2,\"x\":{\"field\":\"x\"},\"y\":{\"field\":\"y\"}},\"id\":\"1658\",\"type\":\"Line\"},{\"attributes\":{\"line_alpha\":0.1,\"line_color\":\"green\",\"x\":{\"field\":\"x\"},\"y\":{\"field\":\"y\"}},\"id\":\"1665\",\"type\":\"Line\"},{\"attributes\":{\"fill_alpha\":0.2,\"fill_color\":\"green\",\"hatch_alpha\":0.2,\"hatch_color\":\"green\",\"line_alpha\":0.2,\"line_color\":\"green\",\"x\":{\"field\":\"x\"},\"y\":{\"field\":\"y\"}},\"id\":\"1678\",\"type\":\"Patch\"},{\"attributes\":{\"bottom_units\":\"screen\",\"coordinates\":null,\"fill_alpha\":0.5,\"fill_color\":\"lightgrey\",\"group\":null,\"left_units\":\"screen\",\"level\":\"overlay\",\"line_alpha\":1.0,\"line_color\":\"black\",\"line_dash\":[4,4],\"line_width\":2,\"right_units\":\"screen\",\"syncable\":false,\"top_units\":\"screen\"},\"id\":\"1525\",\"type\":\"BoxAnnotation\"},{\"attributes\":{\"source\":{\"id\":\"1675\"}},\"id\":\"1680\",\"type\":\"CDSView\"},{\"attributes\":{\"label\":{\"field\":\"group\"},\"renderers\":[{\"id\":\"1537\"}]},\"id\":\"1550\",\"type\":\"LegendItem\"},{\"attributes\":{\"data\":{\"x\":{\"__ndarray__\":\"uwaxtkBySECWdh7vW3VIQD1MreKEZEhAIJ5J7cw/SEDwsaHoWQdIQHanIQVmu0dAker3jT9cR0BMQWCYSOpGQJuniJ72ZUZA4TF4BtLPRUCnynSVdShFQFm7eNCNcERAOnVcStioQ0D762vgItJCQJjyMOZK7UFAYVpNQTz7QEC2BKDs4Pk/QAgB/07b5j1ApA9HDYu/O0AdK8d1KIY5QApzu3f+PDdA0tJGRmjmNEACa6jqzoQyQAGyLcimGjBASOnhKNpUK0Bw3v+MSm0mQP0tH/+sgyFA30ijvyM6GUAwCu7VGfoOQDi8hbl9aPc/0DPQ/a0l7b/UHie8UesJwGKRe3cfDxbAluUVSbjnHsAFvc92KrsjwFVh46ER2SfApzrzQlPJK8CtjOEE4IcvwMao0edtiDHAkFVm4VAwM8DgApn747k0wFhU34GRIzbAaAzwoORrN8DaDRTnipE4wHyDBqFVkznApI38ETtwOsBmz5KFVyc7wNB8hjrutzvAAvVHJWohPMAeVp6JXmM8wI6rvWqHfTzAritc0clvPMD4Rn7nMzo8wP7g3On83DvAbMD07oRYO8DS5/mDVK06wErxFCAc3DnAioZ7brPlOMDSdx9wGMs3wC6d2XVujTbAxmge9PwtNcBWt3ExLq4zwB7S9dCNDzLANJaWOsdTMMAhT+rER/kswL2xtOISGCnA97sroO8HJcAnsZwvDs0gwPLGiKWV1xjA2EaXcKWiD8BQd748hEL6v/D9oRKtB+c/7rPpg2rzCEBk2XxXuS8WQNbsUj//+B9Aeb0MPrjlJEA+XWKOds4pQLaFNxarsS5ASFlKCCbFMUCCrcFPrSk0QLJNK/nzgzZAWPazLY3ROEB+BwUoGRA7QJhgxaZHPT1AGtIbT9pWP0D56F5+U61AQAMSlP5Mo0FA1lHaGVyMQkBwGSySkGdDQLD6dnEINERA/KOI8vDwREBVH1Nah51FQCFeqMAZOUZAUiaexwfDRkAQVt1AwzpHQDYWMsDQn0dA8ubFGsjxR0C/YIDSVDBIQKT5H202W0hAuwaxtkBySEA=\",\"dtype\":\"float64\",\"order\":\"little\",\"shape\":[100]},\"y\":{\"__ndarray__\":\"iNiJy5B+4b9GQU1FWm7rP4qULZiJIgJAdGSh85RpDUBWnUdOjFIUQBr/QTfA5BlAAMecC6hlH0C4SmK7y2ciQIzY5uh8DiVAAcAR8iukJ0CTuPDCLiYqQFVEA4/vkSxAFwJte+/kLkAmqcCYZI4wQJC7gKuZmzFAaLrAdAGZMkAw2kK9loUzQJrUBaVlYDRAliupnowoNUAIOe5XPd01QGBfZo69fTZA8B5zz2cJN0DIJNIirH83QJKFBZ8Q4DdA8ij/5jEqOEDE2o2Qw104QJxsInOQejhAMLWb3nqAOEAa8eC5fG84QDL5KomnRzhAqtP1WyQJOEDWPK2iM7Q3QAbJP+wsSTdAfhjdi37INkB6JzwnrTI2QCr13i1TiDVAGnXgOSDKNED45PBa2PgzQNAeO0xTFTNA7jwDlnsgMkCgy+ObTRsxQPq+opjWBjBAgrlUEWfILUANXogIIGkrQJyliRVK8ihAuPbNf29mJkCFgkQ5MMgjQC51rik/GiFAmnTXzL6+HEA+9zSzwjQXQHZj8bY/nBFA/iMVBPX1B0Bei0sXA1v5P4B6qe5nrMY/+OypGkGN879MggvhKdsEwGSep4Vpxw/ASroUhg5AFcB+lDSUG30awHSQy4p1lR/AzPIN7u1BIsA7RYicnKEkwNUHVGdU5ybAfmuyqL0QKcD0tMfonRsrwMdIqCnaBS3Ai2vzEnnNLsCQfV99UjgwwMST3eTW9jDAsI1NXIWhMcBYuHvyrTcywKCKBN61uDLAtlrjHBgkM8AC3Y39ZXkzwEoXD5FHuDPAyiisBXzgM8Bad7Xp2fEzwAJhP1ZP7DPAcGiWAeLPM8Bw1ls5r5wzwDDiUMTrUjPAloPvq+PyMsAIBAnu+XwywIQZuxao8THAIrwkw31RMcDI3VsNIJ0wwLs8ecSRqi/AVdiCg4z1LcAVQVPV8hwswJz7kuSrIirA0czlksEIKMBdQ/NeXtElwBLp0CjLfiPApU8b12wTIcAQ6la+gyMdwEaF52W/+BfAxSdWLuCrEsAccxKSuYQKwKgKSbYlB/+/uNiJy5B+4b8=\",\"dtype\":\"float64\",\"order\":\"little\",\"shape\":[100]}},\"selected\":{\"id\":\"1702\"},\"selection_policy\":{\"id\":\"1701\"}},\"id\":\"1639\",\"type\":\"ColumnDataSource\"},{\"attributes\":{},\"id\":\"1542\",\"type\":\"AllLabels\"},{\"attributes\":{},\"id\":\"1695\",\"type\":\"UnionRenderers\"},{\"attributes\":{\"coordinates\":null,\"group\":null,\"items\":[{\"id\":\"1550\"}]},\"id\":\"1549\",\"type\":\"Legend\"},{\"attributes\":{\"line_alpha\":0.4,\"line_color\":\"red\",\"x\":{\"field\":\"x\"},\"y\":{\"field\":\"y\"}},\"id\":\"1616\",\"type\":\"Line\"},{\"attributes\":{\"fill_alpha\":0.1,\"fill_color\":\"green\",\"hatch_alpha\":0.1,\"hatch_color\":\"green\",\"line_alpha\":0.1,\"line_color\":\"green\",\"x\":{\"field\":\"x\"},\"y\":{\"field\":\"y\"}},\"id\":\"1677\",\"type\":\"Patch\"},{\"attributes\":{},\"id\":\"1710\",\"type\":\"Selection\"},{\"attributes\":{\"axis\":{\"id\":\"1569\"},\"coordinates\":null,\"dimension\":1,\"group\":null,\"ticker\":null},\"id\":\"1572\",\"type\":\"Grid\"},{\"attributes\":{},\"id\":\"1519\",\"type\":\"PanTool\"},{\"attributes\":{},\"id\":\"1512\",\"type\":\"BasicTicker\"},{\"attributes\":{\"coordinates\":null,\"data_source\":{\"id\":\"1499\"},\"glyph\":{\"id\":\"1534\"},\"group\":null,\"hover_glyph\":null,\"muted_glyph\":{\"id\":\"1536\"},\"nonselection_glyph\":{\"id\":\"1535\"},\"view\":{\"id\":\"1538\"}},\"id\":\"1537\",\"type\":\"GlyphRenderer\"}],\"root_ids\":[\"1731\"]},\"title\":\"Bokeh Application\",\"version\":\"2.4.3\"}};\n  const render_items = [{\"docid\":\"138754ce-2cc6-4b4c-b131-f2805900762c\",\"root_ids\":[\"1731\"],\"roots\":{\"1731\":\"0e8ad597-ecac-42d1-a02e-1e209a8d4352\"}}];\n  root.Bokeh.embed.embed_items_notebook(docs_json, render_items);\n  }\n  if (root.Bokeh !== undefined) {\n    embed_document(root);\n  } else {\n    let attempts = 0;\n    const timer = setInterval(function(root) {\n      if (root.Bokeh !== undefined) {\n        clearInterval(timer);\n        embed_document(root);\n      } else {\n        attempts++;\n        if (attempts > 100) {\n          clearInterval(timer);\n          console.log(\"Bokeh: ERROR: Unable to run BokehJS code because BokehJS library is missing\");\n        }\n      }\n    }, 10, root)\n  }\n})(window);",
      "application/vnd.bokehjs_exec.v0+json": ""
     },
     "metadata": {
      "application/vnd.bokehjs_exec.v0+json": {
       "id": "1731"
      }
     },
     "output_type": "display_data"
    }
   ],
   "source": [
    "#CREAR PCA y un Loading Plot de los tres grupos \n",
    "\n",
    "peaklist = hoja3['Name']                   # Set peaklist to the metabolite names in the peakTableClean\n",
    "X = hoja2[peaklist].values                      # Extract X matrix from dataTable using peaklist\n",
    "Xlog = np.log10(X)                                  # Log scale (base-10)\n",
    "Xscale = cb.utils.scale(Xlog, method='auto')        # methods include auto, pareto, vast, and level\n",
    "Xknn = cb.utils.knnimpute(Xscale, k=3)              # missing value imputation (knn - 3 nearest neighbors)\n",
    "\n",
    "print(\"Xknn: {} rows & {} columns\".format(*Xknn.shape))\n",
    "\n",
    "# Si ves el error, actualiza plotly e IPython antes de ejecutar el PCA:\n",
    "%pip install --upgrade plotly ipython\n",
    "\n",
    "cb.plot.pca(Xknn,\n",
    "            pcx=1,                                                  # pc for x-axis\n",
    "            pcy=2,                                                  # pc for y-axis\n",
    "            group_label=hoja2['Class'])                    # labels for Hover in PCA loadings plot"
   ]
  },
  {
   "cell_type": "code",
   "execution_count": 47,
   "id": "afa3515a",
   "metadata": {},
   "outputs": [
    {
     "data": {
      "text/html": [
       "<div>\n",
       "<style scoped>\n",
       "    .dataframe tbody tr th:only-of-type {\n",
       "        vertical-align: middle;\n",
       "    }\n",
       "\n",
       "    .dataframe tbody tr th {\n",
       "        vertical-align: top;\n",
       "    }\n",
       "\n",
       "    .dataframe thead th {\n",
       "        text-align: right;\n",
       "    }\n",
       "</style>\n",
       "<table border=\"1\" class=\"dataframe\">\n",
       "  <thead>\n",
       "    <tr style=\"text-align: right;\">\n",
       "      <th></th>\n",
       "      <th>Idx</th>\n",
       "      <th>Name</th>\n",
       "      <th>Label</th>\n",
       "      <th>Grp0_Mean</th>\n",
       "      <th>Grp0_Mean-95CI</th>\n",
       "      <th>Grp1_Mean</th>\n",
       "      <th>Grp1_Mean-95CI</th>\n",
       "      <th>Sign</th>\n",
       "      <th>TTestStat</th>\n",
       "      <th>TTestPvalue</th>\n",
       "      <th>bhQvalue</th>\n",
       "      <th>TotalMissing</th>\n",
       "      <th>PercTotalMissing</th>\n",
       "      <th>Grp0_Missing</th>\n",
       "      <th>Grp1_Missing</th>\n",
       "      <th>ShapiroW</th>\n",
       "      <th>ShapiroPvalue</th>\n",
       "      <th>LeveneW</th>\n",
       "      <th>LevenePvalue</th>\n",
       "    </tr>\n",
       "  </thead>\n",
       "  <tbody>\n",
       "    <tr>\n",
       "      <th>1</th>\n",
       "      <td>1</td>\n",
       "      <td>compound_0001</td>\n",
       "      <td>glycine</td>\n",
       "      <td>1.192211</td>\n",
       "      <td>(1.12, 1.26)</td>\n",
       "      <td>0.931861</td>\n",
       "      <td>(0.87, 1.0)</td>\n",
       "      <td>0</td>\n",
       "      <td>5.474714</td>\n",
       "      <td>2.537992e-07</td>\n",
       "      <td>8.343929e-07</td>\n",
       "      <td>0</td>\n",
       "      <td>0.0</td>\n",
       "      <td>0.0</td>\n",
       "      <td>0.0</td>\n",
       "      <td>0.963224</td>\n",
       "      <td>2.443782e-03</td>\n",
       "      <td>0.112177</td>\n",
       "      <td>0.738279</td>\n",
       "    </tr>\n",
       "    <tr>\n",
       "      <th>2</th>\n",
       "      <td>2</td>\n",
       "      <td>compound_0002</td>\n",
       "      <td>N-acetylglycine</td>\n",
       "      <td>1.307628</td>\n",
       "      <td>(1.18, 1.43)</td>\n",
       "      <td>0.953409</td>\n",
       "      <td>(0.86, 1.05)</td>\n",
       "      <td>0</td>\n",
       "      <td>4.444210</td>\n",
       "      <td>2.016373e-05</td>\n",
       "      <td>4.638281e-05</td>\n",
       "      <td>0</td>\n",
       "      <td>0.0</td>\n",
       "      <td>0.0</td>\n",
       "      <td>0.0</td>\n",
       "      <td>0.923619</td>\n",
       "      <td>4.271827e-06</td>\n",
       "      <td>4.947750</td>\n",
       "      <td>0.028043</td>\n",
       "    </tr>\n",
       "    <tr>\n",
       "      <th>3</th>\n",
       "      <td>3</td>\n",
       "      <td>compound_0003</td>\n",
       "      <td>sarcosine</td>\n",
       "      <td>1.016183</td>\n",
       "      <td>(0.89, 1.14)</td>\n",
       "      <td>1.135714</td>\n",
       "      <td>(1.02, 1.25)</td>\n",
       "      <td>1</td>\n",
       "      <td>-1.397288</td>\n",
       "      <td>1.649711e-01</td>\n",
       "      <td>2.012701e-01</td>\n",
       "      <td>0</td>\n",
       "      <td>0.0</td>\n",
       "      <td>0.0</td>\n",
       "      <td>0.0</td>\n",
       "      <td>0.940642</td>\n",
       "      <td>5.086666e-05</td>\n",
       "      <td>0.183873</td>\n",
       "      <td>0.668854</td>\n",
       "    </tr>\n",
       "    <tr>\n",
       "      <th>4</th>\n",
       "      <td>4</td>\n",
       "      <td>compound_0004</td>\n",
       "      <td>dimethylglycine</td>\n",
       "      <td>0.912933</td>\n",
       "      <td>(0.84, 0.99)</td>\n",
       "      <td>1.026753</td>\n",
       "      <td>(0.97, 1.08)</td>\n",
       "      <td>1</td>\n",
       "      <td>-2.467073</td>\n",
       "      <td>1.507032e-02</td>\n",
       "      <td>2.176336e-02</td>\n",
       "      <td>0</td>\n",
       "      <td>0.0</td>\n",
       "      <td>0.0</td>\n",
       "      <td>0.0</td>\n",
       "      <td>0.971709</td>\n",
       "      <td>1.297516e-02</td>\n",
       "      <td>10.155512</td>\n",
       "      <td>0.001845</td>\n",
       "    </tr>\n",
       "    <tr>\n",
       "      <th>5</th>\n",
       "      <td>5</td>\n",
       "      <td>compound_0005</td>\n",
       "      <td>betaine</td>\n",
       "      <td>1.079400</td>\n",
       "      <td>(1.01, 1.15)</td>\n",
       "      <td>1.010144</td>\n",
       "      <td>(0.96, 1.06)</td>\n",
       "      <td>0</td>\n",
       "      <td>1.620383</td>\n",
       "      <td>1.078422e-01</td>\n",
       "      <td>1.361542e-01</td>\n",
       "      <td>0</td>\n",
       "      <td>0.0</td>\n",
       "      <td>0.0</td>\n",
       "      <td>0.0</td>\n",
       "      <td>0.958901</td>\n",
       "      <td>1.094889e-03</td>\n",
       "      <td>5.546096</td>\n",
       "      <td>0.020187</td>\n",
       "    </tr>\n",
       "    <tr>\n",
       "      <th>...</th>\n",
       "      <td>...</td>\n",
       "      <td>...</td>\n",
       "      <td>...</td>\n",
       "      <td>...</td>\n",
       "      <td>...</td>\n",
       "      <td>...</td>\n",
       "      <td>...</td>\n",
       "      <td>...</td>\n",
       "      <td>...</td>\n",
       "      <td>...</td>\n",
       "      <td>...</td>\n",
       "      <td>...</td>\n",
       "      <td>...</td>\n",
       "      <td>...</td>\n",
       "      <td>...</td>\n",
       "      <td>...</td>\n",
       "      <td>...</td>\n",
       "      <td>...</td>\n",
       "      <td>...</td>\n",
       "    </tr>\n",
       "    <tr>\n",
       "      <th>1482</th>\n",
       "      <td>1482</td>\n",
       "      <td>compound_1482</td>\n",
       "      <td>X - 24699</td>\n",
       "      <td>0.904106</td>\n",
       "      <td>(0.83, 0.98)</td>\n",
       "      <td>1.152691</td>\n",
       "      <td>(1.08, 1.22)</td>\n",
       "      <td>1</td>\n",
       "      <td>-4.795577</td>\n",
       "      <td>4.819825e-06</td>\n",
       "      <td>1.237005e-05</td>\n",
       "      <td>0</td>\n",
       "      <td>0.0</td>\n",
       "      <td>0.0</td>\n",
       "      <td>0.0</td>\n",
       "      <td>0.971736</td>\n",
       "      <td>1.304772e-02</td>\n",
       "      <td>0.117782</td>\n",
       "      <td>0.732068</td>\n",
       "    </tr>\n",
       "    <tr>\n",
       "      <th>1483</th>\n",
       "      <td>1483</td>\n",
       "      <td>compound_1483</td>\n",
       "      <td>X - 24728</td>\n",
       "      <td>0.714953</td>\n",
       "      <td>(0.6, 0.83)</td>\n",
       "      <td>0.993203</td>\n",
       "      <td>(0.87, 1.11)</td>\n",
       "      <td>1</td>\n",
       "      <td>-3.277355</td>\n",
       "      <td>1.379681e-03</td>\n",
       "      <td>2.311393e-03</td>\n",
       "      <td>0</td>\n",
       "      <td>0.0</td>\n",
       "      <td>0.0</td>\n",
       "      <td>0.0</td>\n",
       "      <td>0.947770</td>\n",
       "      <td>1.591348e-04</td>\n",
       "      <td>0.000247</td>\n",
       "      <td>0.987496</td>\n",
       "    </tr>\n",
       "    <tr>\n",
       "      <th>1484</th>\n",
       "      <td>1484</td>\n",
       "      <td>compound_1484</td>\n",
       "      <td>X - 24738</td>\n",
       "      <td>2.317989</td>\n",
       "      <td>(1.61, 3.03)</td>\n",
       "      <td>1.589411</td>\n",
       "      <td>(1.1, 2.08)</td>\n",
       "      <td>0</td>\n",
       "      <td>1.658427</td>\n",
       "      <td>9.990989e-02</td>\n",
       "      <td>1.271114e-01</td>\n",
       "      <td>0</td>\n",
       "      <td>0.0</td>\n",
       "      <td>0.0</td>\n",
       "      <td>0.0</td>\n",
       "      <td>0.749349</td>\n",
       "      <td>5.709027e-13</td>\n",
       "      <td>1.006973</td>\n",
       "      <td>0.317700</td>\n",
       "    </tr>\n",
       "    <tr>\n",
       "      <th>1485</th>\n",
       "      <td>1485</td>\n",
       "      <td>compound_1485</td>\n",
       "      <td>X - 24748</td>\n",
       "      <td>0.854791</td>\n",
       "      <td>(0.78, 0.93)</td>\n",
       "      <td>1.172017</td>\n",
       "      <td>(1.05, 1.29)</td>\n",
       "      <td>1</td>\n",
       "      <td>-4.362741</td>\n",
       "      <td>2.782597e-05</td>\n",
       "      <td>6.190030e-05</td>\n",
       "      <td>0</td>\n",
       "      <td>0.0</td>\n",
       "      <td>0.0</td>\n",
       "      <td>0.0</td>\n",
       "      <td>0.892375</td>\n",
       "      <td>8.993877e-08</td>\n",
       "      <td>6.002693</td>\n",
       "      <td>0.015765</td>\n",
       "    </tr>\n",
       "    <tr>\n",
       "      <th>1486</th>\n",
       "      <td>1486</td>\n",
       "      <td>compound_1486</td>\n",
       "      <td>X - 24766</td>\n",
       "      <td>1.022313</td>\n",
       "      <td>(0.92, 1.13)</td>\n",
       "      <td>0.990046</td>\n",
       "      <td>(0.94, 1.04)</td>\n",
       "      <td>0</td>\n",
       "      <td>0.556787</td>\n",
       "      <td>5.787362e-01</td>\n",
       "      <td>6.281972e-01</td>\n",
       "      <td>0</td>\n",
       "      <td>0.0</td>\n",
       "      <td>0.0</td>\n",
       "      <td>0.0</td>\n",
       "      <td>0.847866</td>\n",
       "      <td>1.023143e-09</td>\n",
       "      <td>9.560791</td>\n",
       "      <td>0.002485</td>\n",
       "    </tr>\n",
       "  </tbody>\n",
       "</table>\n",
       "<p>1486 rows × 19 columns</p>\n",
       "</div>"
      ],
      "text/plain": [
       "       Idx           Name            Label  Grp0_Mean Grp0_Mean-95CI  \\\n",
       "1        1  compound_0001          glycine   1.192211   (1.12, 1.26)   \n",
       "2        2  compound_0002  N-acetylglycine   1.307628   (1.18, 1.43)   \n",
       "3        3  compound_0003        sarcosine   1.016183   (0.89, 1.14)   \n",
       "4        4  compound_0004  dimethylglycine   0.912933   (0.84, 0.99)   \n",
       "5        5  compound_0005          betaine   1.079400   (1.01, 1.15)   \n",
       "...    ...            ...              ...        ...            ...   \n",
       "1482  1482  compound_1482        X - 24699   0.904106   (0.83, 0.98)   \n",
       "1483  1483  compound_1483        X - 24728   0.714953    (0.6, 0.83)   \n",
       "1484  1484  compound_1484        X - 24738   2.317989   (1.61, 3.03)   \n",
       "1485  1485  compound_1485        X - 24748   0.854791   (0.78, 0.93)   \n",
       "1486  1486  compound_1486        X - 24766   1.022313   (0.92, 1.13)   \n",
       "\n",
       "      Grp1_Mean Grp1_Mean-95CI  Sign  TTestStat   TTestPvalue      bhQvalue  \\\n",
       "1      0.931861    (0.87, 1.0)     0   5.474714  2.537992e-07  8.343929e-07   \n",
       "2      0.953409   (0.86, 1.05)     0   4.444210  2.016373e-05  4.638281e-05   \n",
       "3      1.135714   (1.02, 1.25)     1  -1.397288  1.649711e-01  2.012701e-01   \n",
       "4      1.026753   (0.97, 1.08)     1  -2.467073  1.507032e-02  2.176336e-02   \n",
       "5      1.010144   (0.96, 1.06)     0   1.620383  1.078422e-01  1.361542e-01   \n",
       "...         ...            ...   ...        ...           ...           ...   \n",
       "1482   1.152691   (1.08, 1.22)     1  -4.795577  4.819825e-06  1.237005e-05   \n",
       "1483   0.993203   (0.87, 1.11)     1  -3.277355  1.379681e-03  2.311393e-03   \n",
       "1484   1.589411    (1.1, 2.08)     0   1.658427  9.990989e-02  1.271114e-01   \n",
       "1485   1.172017   (1.05, 1.29)     1  -4.362741  2.782597e-05  6.190030e-05   \n",
       "1486   0.990046   (0.94, 1.04)     0   0.556787  5.787362e-01  6.281972e-01   \n",
       "\n",
       "      TotalMissing  PercTotalMissing  Grp0_Missing  Grp1_Missing  ShapiroW  \\\n",
       "1                0               0.0           0.0           0.0  0.963224   \n",
       "2                0               0.0           0.0           0.0  0.923619   \n",
       "3                0               0.0           0.0           0.0  0.940642   \n",
       "4                0               0.0           0.0           0.0  0.971709   \n",
       "5                0               0.0           0.0           0.0  0.958901   \n",
       "...            ...               ...           ...           ...       ...   \n",
       "1482             0               0.0           0.0           0.0  0.971736   \n",
       "1483             0               0.0           0.0           0.0  0.947770   \n",
       "1484             0               0.0           0.0           0.0  0.749349   \n",
       "1485             0               0.0           0.0           0.0  0.892375   \n",
       "1486             0               0.0           0.0           0.0  0.847866   \n",
       "\n",
       "      ShapiroPvalue    LeveneW  LevenePvalue  \n",
       "1      2.443782e-03   0.112177      0.738279  \n",
       "2      4.271827e-06   4.947750      0.028043  \n",
       "3      5.086666e-05   0.183873      0.668854  \n",
       "4      1.297516e-02  10.155512      0.001845  \n",
       "5      1.094889e-03   5.546096      0.020187  \n",
       "...             ...        ...           ...  \n",
       "1482   1.304772e-02   0.117782      0.732068  \n",
       "1483   1.591348e-04   0.000247      0.987496  \n",
       "1484   5.709027e-13   1.006973      0.317700  \n",
       "1485   8.993877e-08   6.002693      0.015765  \n",
       "1486   1.023143e-09   9.560791      0.002485  \n",
       "\n",
       "[1486 rows x 19 columns]"
      ]
     },
     "execution_count": 47,
     "metadata": {},
     "output_type": "execute_result"
    }
   ],
   "source": [
    "#Realizar análisis estadístico\n",
    "\n",
    "# Seleccionar los grupos a comparar para hacer el análisis estadístico\n",
    "Stat_hoja2 = hoja2[(hoja2.Class == \"diabetic\") | (hoja2.Class == \"Healthy\")]  # Seleccionar solo los grupos Diabeticos y Sanos\n",
    "pos_outcome = \"diabetic\"    #que resulten positivos para diabetes\n",
    "\n",
    "# Calcular la estadistica básica y crear la tabla.\n",
    "Tabla_estadistica = cb.utils.univariate_2class(Stat_hoja2,\n",
    "                                        hoja3,\n",
    "                                        group='Class',                # Columna para determinar los grupos\n",
    "                                        posclass= pos_outcome,         # Valor posclass en la columna de acuerod a la clase\n",
    "                                        parametric=True)              # Set parametric = True or False\n",
    "\n",
    "# Imprimir tabla\n",
    "Tabla_estadistica\n"
   ]
  },
  {
   "cell_type": "code",
   "execution_count": 48,
   "id": "5e8def4f",
   "metadata": {},
   "outputs": [
    {
     "data": {
      "text/html": [
       "<div>\n",
       "<style scoped>\n",
       "    .dataframe tbody tr th:only-of-type {\n",
       "        vertical-align: middle;\n",
       "    }\n",
       "\n",
       "    .dataframe tbody tr th {\n",
       "        vertical-align: top;\n",
       "    }\n",
       "\n",
       "    .dataframe thead th {\n",
       "        text-align: right;\n",
       "    }\n",
       "</style>\n",
       "<table border=\"1\" class=\"dataframe\">\n",
       "  <thead>\n",
       "    <tr style=\"text-align: right;\">\n",
       "      <th></th>\n",
       "      <th>Name</th>\n",
       "      <th>Label</th>\n",
       "      <th>Sign</th>\n",
       "      <th>TTestPvalue</th>\n",
       "    </tr>\n",
       "  </thead>\n",
       "  <tbody>\n",
       "    <tr>\n",
       "      <th>500</th>\n",
       "      <td>compound_0500</td>\n",
       "      <td>CE(18:0)</td>\n",
       "      <td>1</td>\n",
       "      <td>9.970682e-01</td>\n",
       "    </tr>\n",
       "    <tr>\n",
       "      <th>718</th>\n",
       "      <td>compound_0718</td>\n",
       "      <td>PE(P-16:0/22:6)</td>\n",
       "      <td>1</td>\n",
       "      <td>9.736176e-01</td>\n",
       "    </tr>\n",
       "    <tr>\n",
       "      <th>1443</th>\n",
       "      <td>compound_1443</td>\n",
       "      <td>X - 23644</td>\n",
       "      <td>1</td>\n",
       "      <td>9.730556e-01</td>\n",
       "    </tr>\n",
       "    <tr>\n",
       "      <th>1390</th>\n",
       "      <td>compound_1390</td>\n",
       "      <td>X - 21295</td>\n",
       "      <td>1</td>\n",
       "      <td>9.706971e-01</td>\n",
       "    </tr>\n",
       "    <tr>\n",
       "      <th>472</th>\n",
       "      <td>compound_0472</td>\n",
       "      <td>succinimide</td>\n",
       "      <td>1</td>\n",
       "      <td>9.645653e-01</td>\n",
       "    </tr>\n",
       "    <tr>\n",
       "      <th>...</th>\n",
       "      <td>...</td>\n",
       "      <td>...</td>\n",
       "      <td>...</td>\n",
       "      <td>...</td>\n",
       "    </tr>\n",
       "    <tr>\n",
       "      <th>164</th>\n",
       "      <td>compound_0164</td>\n",
       "      <td>N-acetylcarnosine</td>\n",
       "      <td>1</td>\n",
       "      <td>1.295494e-21</td>\n",
       "    </tr>\n",
       "    <tr>\n",
       "      <th>17</th>\n",
       "      <td>compound_0017</td>\n",
       "      <td>glutamate</td>\n",
       "      <td>1</td>\n",
       "      <td>1.168410e-22</td>\n",
       "    </tr>\n",
       "    <tr>\n",
       "      <th>102</th>\n",
       "      <td>compound_0102</td>\n",
       "      <td>3-methyl-2-oxobutyrate</td>\n",
       "      <td>1</td>\n",
       "      <td>1.431922e-24</td>\n",
       "    </tr>\n",
       "    <tr>\n",
       "      <th>175</th>\n",
       "      <td>compound_0175</td>\n",
       "      <td>glucose</td>\n",
       "      <td>1</td>\n",
       "      <td>1.664146e-29</td>\n",
       "    </tr>\n",
       "    <tr>\n",
       "      <th>189</th>\n",
       "      <td>compound_0189</td>\n",
       "      <td>mannose</td>\n",
       "      <td>1</td>\n",
       "      <td>1.637755e-41</td>\n",
       "    </tr>\n",
       "  </tbody>\n",
       "</table>\n",
       "<p>1081 rows × 4 columns</p>\n",
       "</div>"
      ],
      "text/plain": [
       "               Name                   Label  Sign   TTestPvalue\n",
       "500   compound_0500                CE(18:0)     1  9.970682e-01\n",
       "718   compound_0718         PE(P-16:0/22:6)     1  9.736176e-01\n",
       "1443  compound_1443               X - 23644     1  9.730556e-01\n",
       "1390  compound_1390               X - 21295     1  9.706971e-01\n",
       "472   compound_0472             succinimide     1  9.645653e-01\n",
       "...             ...                     ...   ...           ...\n",
       "164   compound_0164       N-acetylcarnosine     1  1.295494e-21\n",
       "17    compound_0017               glutamate     1  1.168410e-22\n",
       "102   compound_0102  3-methyl-2-oxobutyrate     1  1.431922e-24\n",
       "175   compound_0175                 glucose     1  1.664146e-29\n",
       "189   compound_0189                 mannose     1  1.637755e-41\n",
       "\n",
       "[1081 rows x 4 columns]"
      ]
     },
     "execution_count": 48,
     "metadata": {},
     "output_type": "execute_result"
    }
   ],
   "source": [
    "#ordenar T-test\n",
    "Tabla_estadistica=Tabla_estadistica.sort_values(by=\"TTestPvalue\", ascending=False)\n",
    "#Coger aquellos que p valor <=0.05\n",
    "Ttest=Tabla_estadistica[Tabla_estadistica['TTestPvalue'] <= 0.05]\n",
    "Ttest.loc[:, [\"Name\", \"Label\", \"Sign\",\"TTestPvalue\"]]\n",
    "\n",
    "#cogemos aquellos que resulten significativamente más alto en diabetes \n",
    "Ttest=Tabla_estadistica[Tabla_estadistica['Sign'] == 1]\n",
    "Ttest.loc[:, [\"Name\", \"Label\", \"Sign\",\"TTestPvalue\"]]\n"
   ]
  },
  {
   "cell_type": "code",
   "execution_count": 49,
   "id": "8c9012d2",
   "metadata": {},
   "outputs": [
    {
     "data": {
      "text/html": [
       "<div>\n",
       "<style scoped>\n",
       "    .dataframe tbody tr th:only-of-type {\n",
       "        vertical-align: middle;\n",
       "    }\n",
       "\n",
       "    .dataframe tbody tr th {\n",
       "        vertical-align: top;\n",
       "    }\n",
       "\n",
       "    .dataframe thead th {\n",
       "        text-align: right;\n",
       "    }\n",
       "</style>\n",
       "<table border=\"1\" class=\"dataframe\">\n",
       "  <thead>\n",
       "    <tr style=\"text-align: right;\">\n",
       "      <th></th>\n",
       "      <th>Idx</th>\n",
       "      <th>Name</th>\n",
       "      <th>Label</th>\n",
       "      <th>Grp0_Mean</th>\n",
       "      <th>Grp0_Mean-95CI</th>\n",
       "      <th>Grp1_Mean</th>\n",
       "      <th>Grp1_Mean-95CI</th>\n",
       "      <th>Sign</th>\n",
       "      <th>TTestStat</th>\n",
       "      <th>TTestPvalue</th>\n",
       "      <th>bhQvalue</th>\n",
       "      <th>TotalMissing</th>\n",
       "      <th>PercTotalMissing</th>\n",
       "      <th>Grp0_Missing</th>\n",
       "      <th>Grp1_Missing</th>\n",
       "      <th>ShapiroW</th>\n",
       "      <th>ShapiroPvalue</th>\n",
       "      <th>LeveneW</th>\n",
       "      <th>LevenePvalue</th>\n",
       "    </tr>\n",
       "  </thead>\n",
       "  <tbody>\n",
       "    <tr>\n",
       "      <th>1</th>\n",
       "      <td>1</td>\n",
       "      <td>compound_0001</td>\n",
       "      <td>glycine</td>\n",
       "      <td>0.931861</td>\n",
       "      <td>(0.87, 1.0)</td>\n",
       "      <td>1.192211</td>\n",
       "      <td>(1.12, 1.26)</td>\n",
       "      <td>1</td>\n",
       "      <td>-5.474714</td>\n",
       "      <td>2.537992e-07</td>\n",
       "      <td>8.343929e-07</td>\n",
       "      <td>0</td>\n",
       "      <td>0.0</td>\n",
       "      <td>0.0</td>\n",
       "      <td>0.0</td>\n",
       "      <td>0.963224</td>\n",
       "      <td>2.443782e-03</td>\n",
       "      <td>0.112177</td>\n",
       "      <td>0.738279</td>\n",
       "    </tr>\n",
       "    <tr>\n",
       "      <th>2</th>\n",
       "      <td>2</td>\n",
       "      <td>compound_0002</td>\n",
       "      <td>N-acetylglycine</td>\n",
       "      <td>0.953409</td>\n",
       "      <td>(0.86, 1.05)</td>\n",
       "      <td>1.307628</td>\n",
       "      <td>(1.18, 1.43)</td>\n",
       "      <td>1</td>\n",
       "      <td>-4.444210</td>\n",
       "      <td>2.016373e-05</td>\n",
       "      <td>4.638281e-05</td>\n",
       "      <td>0</td>\n",
       "      <td>0.0</td>\n",
       "      <td>0.0</td>\n",
       "      <td>0.0</td>\n",
       "      <td>0.923619</td>\n",
       "      <td>4.271827e-06</td>\n",
       "      <td>4.947750</td>\n",
       "      <td>0.028043</td>\n",
       "    </tr>\n",
       "    <tr>\n",
       "      <th>3</th>\n",
       "      <td>3</td>\n",
       "      <td>compound_0003</td>\n",
       "      <td>sarcosine</td>\n",
       "      <td>1.135714</td>\n",
       "      <td>(1.02, 1.25)</td>\n",
       "      <td>1.016183</td>\n",
       "      <td>(0.89, 1.14)</td>\n",
       "      <td>0</td>\n",
       "      <td>1.397288</td>\n",
       "      <td>1.649711e-01</td>\n",
       "      <td>2.012701e-01</td>\n",
       "      <td>0</td>\n",
       "      <td>0.0</td>\n",
       "      <td>0.0</td>\n",
       "      <td>0.0</td>\n",
       "      <td>0.940642</td>\n",
       "      <td>5.086666e-05</td>\n",
       "      <td>0.183873</td>\n",
       "      <td>0.668854</td>\n",
       "    </tr>\n",
       "    <tr>\n",
       "      <th>4</th>\n",
       "      <td>4</td>\n",
       "      <td>compound_0004</td>\n",
       "      <td>dimethylglycine</td>\n",
       "      <td>1.026753</td>\n",
       "      <td>(0.97, 1.08)</td>\n",
       "      <td>0.912933</td>\n",
       "      <td>(0.84, 0.99)</td>\n",
       "      <td>0</td>\n",
       "      <td>2.467073</td>\n",
       "      <td>1.507032e-02</td>\n",
       "      <td>2.176336e-02</td>\n",
       "      <td>0</td>\n",
       "      <td>0.0</td>\n",
       "      <td>0.0</td>\n",
       "      <td>0.0</td>\n",
       "      <td>0.971709</td>\n",
       "      <td>1.297516e-02</td>\n",
       "      <td>10.155512</td>\n",
       "      <td>0.001845</td>\n",
       "    </tr>\n",
       "    <tr>\n",
       "      <th>5</th>\n",
       "      <td>5</td>\n",
       "      <td>compound_0005</td>\n",
       "      <td>betaine</td>\n",
       "      <td>1.010144</td>\n",
       "      <td>(0.96, 1.06)</td>\n",
       "      <td>1.079400</td>\n",
       "      <td>(1.01, 1.15)</td>\n",
       "      <td>1</td>\n",
       "      <td>-1.620383</td>\n",
       "      <td>1.078422e-01</td>\n",
       "      <td>1.361542e-01</td>\n",
       "      <td>0</td>\n",
       "      <td>0.0</td>\n",
       "      <td>0.0</td>\n",
       "      <td>0.0</td>\n",
       "      <td>0.958901</td>\n",
       "      <td>1.094889e-03</td>\n",
       "      <td>5.546096</td>\n",
       "      <td>0.020187</td>\n",
       "    </tr>\n",
       "    <tr>\n",
       "      <th>...</th>\n",
       "      <td>...</td>\n",
       "      <td>...</td>\n",
       "      <td>...</td>\n",
       "      <td>...</td>\n",
       "      <td>...</td>\n",
       "      <td>...</td>\n",
       "      <td>...</td>\n",
       "      <td>...</td>\n",
       "      <td>...</td>\n",
       "      <td>...</td>\n",
       "      <td>...</td>\n",
       "      <td>...</td>\n",
       "      <td>...</td>\n",
       "      <td>...</td>\n",
       "      <td>...</td>\n",
       "      <td>...</td>\n",
       "      <td>...</td>\n",
       "      <td>...</td>\n",
       "      <td>...</td>\n",
       "    </tr>\n",
       "    <tr>\n",
       "      <th>1482</th>\n",
       "      <td>1482</td>\n",
       "      <td>compound_1482</td>\n",
       "      <td>X - 24699</td>\n",
       "      <td>1.152691</td>\n",
       "      <td>(1.08, 1.22)</td>\n",
       "      <td>0.904106</td>\n",
       "      <td>(0.83, 0.98)</td>\n",
       "      <td>0</td>\n",
       "      <td>4.795577</td>\n",
       "      <td>4.819825e-06</td>\n",
       "      <td>1.237005e-05</td>\n",
       "      <td>0</td>\n",
       "      <td>0.0</td>\n",
       "      <td>0.0</td>\n",
       "      <td>0.0</td>\n",
       "      <td>0.971736</td>\n",
       "      <td>1.304772e-02</td>\n",
       "      <td>0.117782</td>\n",
       "      <td>0.732068</td>\n",
       "    </tr>\n",
       "    <tr>\n",
       "      <th>1483</th>\n",
       "      <td>1483</td>\n",
       "      <td>compound_1483</td>\n",
       "      <td>X - 24728</td>\n",
       "      <td>0.993203</td>\n",
       "      <td>(0.87, 1.11)</td>\n",
       "      <td>0.714953</td>\n",
       "      <td>(0.6, 0.83)</td>\n",
       "      <td>0</td>\n",
       "      <td>3.277355</td>\n",
       "      <td>1.379681e-03</td>\n",
       "      <td>2.311393e-03</td>\n",
       "      <td>0</td>\n",
       "      <td>0.0</td>\n",
       "      <td>0.0</td>\n",
       "      <td>0.0</td>\n",
       "      <td>0.947770</td>\n",
       "      <td>1.591348e-04</td>\n",
       "      <td>0.000247</td>\n",
       "      <td>0.987496</td>\n",
       "    </tr>\n",
       "    <tr>\n",
       "      <th>1484</th>\n",
       "      <td>1484</td>\n",
       "      <td>compound_1484</td>\n",
       "      <td>X - 24738</td>\n",
       "      <td>1.589411</td>\n",
       "      <td>(1.1, 2.08)</td>\n",
       "      <td>2.317989</td>\n",
       "      <td>(1.61, 3.03)</td>\n",
       "      <td>1</td>\n",
       "      <td>-1.658427</td>\n",
       "      <td>9.990989e-02</td>\n",
       "      <td>1.271114e-01</td>\n",
       "      <td>0</td>\n",
       "      <td>0.0</td>\n",
       "      <td>0.0</td>\n",
       "      <td>0.0</td>\n",
       "      <td>0.749349</td>\n",
       "      <td>5.709027e-13</td>\n",
       "      <td>1.006973</td>\n",
       "      <td>0.317700</td>\n",
       "    </tr>\n",
       "    <tr>\n",
       "      <th>1485</th>\n",
       "      <td>1485</td>\n",
       "      <td>compound_1485</td>\n",
       "      <td>X - 24748</td>\n",
       "      <td>1.172017</td>\n",
       "      <td>(1.05, 1.29)</td>\n",
       "      <td>0.854791</td>\n",
       "      <td>(0.78, 0.93)</td>\n",
       "      <td>0</td>\n",
       "      <td>4.362741</td>\n",
       "      <td>2.782597e-05</td>\n",
       "      <td>6.190030e-05</td>\n",
       "      <td>0</td>\n",
       "      <td>0.0</td>\n",
       "      <td>0.0</td>\n",
       "      <td>0.0</td>\n",
       "      <td>0.892375</td>\n",
       "      <td>8.993877e-08</td>\n",
       "      <td>6.002693</td>\n",
       "      <td>0.015765</td>\n",
       "    </tr>\n",
       "    <tr>\n",
       "      <th>1486</th>\n",
       "      <td>1486</td>\n",
       "      <td>compound_1486</td>\n",
       "      <td>X - 24766</td>\n",
       "      <td>0.990046</td>\n",
       "      <td>(0.94, 1.04)</td>\n",
       "      <td>1.022313</td>\n",
       "      <td>(0.92, 1.13)</td>\n",
       "      <td>1</td>\n",
       "      <td>-0.556787</td>\n",
       "      <td>5.787362e-01</td>\n",
       "      <td>6.281972e-01</td>\n",
       "      <td>0</td>\n",
       "      <td>0.0</td>\n",
       "      <td>0.0</td>\n",
       "      <td>0.0</td>\n",
       "      <td>0.847866</td>\n",
       "      <td>1.023143e-09</td>\n",
       "      <td>9.560791</td>\n",
       "      <td>0.002485</td>\n",
       "    </tr>\n",
       "  </tbody>\n",
       "</table>\n",
       "<p>1486 rows × 19 columns</p>\n",
       "</div>"
      ],
      "text/plain": [
       "       Idx           Name            Label  Grp0_Mean Grp0_Mean-95CI  \\\n",
       "1        1  compound_0001          glycine   0.931861    (0.87, 1.0)   \n",
       "2        2  compound_0002  N-acetylglycine   0.953409   (0.86, 1.05)   \n",
       "3        3  compound_0003        sarcosine   1.135714   (1.02, 1.25)   \n",
       "4        4  compound_0004  dimethylglycine   1.026753   (0.97, 1.08)   \n",
       "5        5  compound_0005          betaine   1.010144   (0.96, 1.06)   \n",
       "...    ...            ...              ...        ...            ...   \n",
       "1482  1482  compound_1482        X - 24699   1.152691   (1.08, 1.22)   \n",
       "1483  1483  compound_1483        X - 24728   0.993203   (0.87, 1.11)   \n",
       "1484  1484  compound_1484        X - 24738   1.589411    (1.1, 2.08)   \n",
       "1485  1485  compound_1485        X - 24748   1.172017   (1.05, 1.29)   \n",
       "1486  1486  compound_1486        X - 24766   0.990046   (0.94, 1.04)   \n",
       "\n",
       "      Grp1_Mean Grp1_Mean-95CI  Sign  TTestStat   TTestPvalue      bhQvalue  \\\n",
       "1      1.192211   (1.12, 1.26)     1  -5.474714  2.537992e-07  8.343929e-07   \n",
       "2      1.307628   (1.18, 1.43)     1  -4.444210  2.016373e-05  4.638281e-05   \n",
       "3      1.016183   (0.89, 1.14)     0   1.397288  1.649711e-01  2.012701e-01   \n",
       "4      0.912933   (0.84, 0.99)     0   2.467073  1.507032e-02  2.176336e-02   \n",
       "5      1.079400   (1.01, 1.15)     1  -1.620383  1.078422e-01  1.361542e-01   \n",
       "...         ...            ...   ...        ...           ...           ...   \n",
       "1482   0.904106   (0.83, 0.98)     0   4.795577  4.819825e-06  1.237005e-05   \n",
       "1483   0.714953    (0.6, 0.83)     0   3.277355  1.379681e-03  2.311393e-03   \n",
       "1484   2.317989   (1.61, 3.03)     1  -1.658427  9.990989e-02  1.271114e-01   \n",
       "1485   0.854791   (0.78, 0.93)     0   4.362741  2.782597e-05  6.190030e-05   \n",
       "1486   1.022313   (0.92, 1.13)     1  -0.556787  5.787362e-01  6.281972e-01   \n",
       "\n",
       "      TotalMissing  PercTotalMissing  Grp0_Missing  Grp1_Missing  ShapiroW  \\\n",
       "1                0               0.0           0.0           0.0  0.963224   \n",
       "2                0               0.0           0.0           0.0  0.923619   \n",
       "3                0               0.0           0.0           0.0  0.940642   \n",
       "4                0               0.0           0.0           0.0  0.971709   \n",
       "5                0               0.0           0.0           0.0  0.958901   \n",
       "...            ...               ...           ...           ...       ...   \n",
       "1482             0               0.0           0.0           0.0  0.971736   \n",
       "1483             0               0.0           0.0           0.0  0.947770   \n",
       "1484             0               0.0           0.0           0.0  0.749349   \n",
       "1485             0               0.0           0.0           0.0  0.892375   \n",
       "1486             0               0.0           0.0           0.0  0.847866   \n",
       "\n",
       "      ShapiroPvalue    LeveneW  LevenePvalue  \n",
       "1      2.443782e-03   0.112177      0.738279  \n",
       "2      4.271827e-06   4.947750      0.028043  \n",
       "3      5.086666e-05   0.183873      0.668854  \n",
       "4      1.297516e-02  10.155512      0.001845  \n",
       "5      1.094889e-03   5.546096      0.020187  \n",
       "...             ...        ...           ...  \n",
       "1482   1.304772e-02   0.117782      0.732068  \n",
       "1483   1.591348e-04   0.000247      0.987496  \n",
       "1484   5.709027e-13   1.006973      0.317700  \n",
       "1485   8.993877e-08   6.002693      0.015765  \n",
       "1486   1.023143e-09   9.560791      0.002485  \n",
       "\n",
       "[1486 rows x 19 columns]"
      ]
     },
     "execution_count": 49,
     "metadata": {},
     "output_type": "execute_result"
    }
   ],
   "source": [
    "# Seleccionar los grupos a comparar para hacer el análisis estadístico\n",
    "Stat_hoja2 = hoja2[(hoja2.Class == \"diabetic\") | (hoja2.Class == \"Healthy\")]  # Seleccionar solo los grupos Diabeticos y Sanos\n",
    "pos_outcome = \"Healthy\"    #que resulten positivos para Sanos\n",
    "\n",
    "# Calcular la estadistica básica y crear la tabla.\n",
    "Tabla_estadistica_H = cb.utils.univariate_2class(Stat_hoja2,\n",
    "                                        hoja3,\n",
    "                                        group='Class',                # Columna para determinar los grupos\n",
    "                                        posclass= pos_outcome,         # Valor posclass en la columna de acuerod a la clase\n",
    "                                        parametric=True)              # Set parametric = True or False\n",
    "\n",
    "# Imprimir tabla\n",
    "Tabla_estadistica_H\n"
   ]
  },
  {
   "cell_type": "code",
   "execution_count": 50,
   "id": "f89c78fa",
   "metadata": {},
   "outputs": [],
   "source": [
    "#ordenar T-test\n",
    "Tabla_estadistica_H=Tabla_estadistica_H.sort_values(by=\"TTestPvalue\", ascending=False)\n",
    "#Coger aquellos que p valor <=0.05\n",
    "Ttest_H=Tabla_estadistica_H[Tabla_estadistica_H['TTestPvalue'] <= 0.05]"
   ]
  },
  {
   "cell_type": "code",
   "execution_count": 51,
   "id": "b950beba",
   "metadata": {},
   "outputs": [
    {
     "data": {
      "text/html": [
       "<div>\n",
       "<style scoped>\n",
       "    .dataframe tbody tr th:only-of-type {\n",
       "        vertical-align: middle;\n",
       "    }\n",
       "\n",
       "    .dataframe tbody tr th {\n",
       "        vertical-align: top;\n",
       "    }\n",
       "\n",
       "    .dataframe thead th {\n",
       "        text-align: right;\n",
       "    }\n",
       "</style>\n",
       "<table border=\"1\" class=\"dataframe\">\n",
       "  <thead>\n",
       "    <tr style=\"text-align: right;\">\n",
       "      <th></th>\n",
       "      <th>Name</th>\n",
       "      <th>Label</th>\n",
       "      <th>Sign</th>\n",
       "      <th>TTestPvalue</th>\n",
       "    </tr>\n",
       "  </thead>\n",
       "  <tbody>\n",
       "    <tr>\n",
       "      <th>1421</th>\n",
       "      <td>compound_1421</td>\n",
       "      <td>X - 21803</td>\n",
       "      <td>1</td>\n",
       "      <td>9.923699e-01</td>\n",
       "    </tr>\n",
       "    <tr>\n",
       "      <th>124</th>\n",
       "      <td>compound_0124</td>\n",
       "      <td>urea</td>\n",
       "      <td>1</td>\n",
       "      <td>9.757371e-01</td>\n",
       "    </tr>\n",
       "    <tr>\n",
       "      <th>444</th>\n",
       "      <td>compound_0444</td>\n",
       "      <td>thymol sulfate</td>\n",
       "      <td>1</td>\n",
       "      <td>9.610538e-01</td>\n",
       "    </tr>\n",
       "    <tr>\n",
       "      <th>1403</th>\n",
       "      <td>compound_1403</td>\n",
       "      <td>X - 21411</td>\n",
       "      <td>1</td>\n",
       "      <td>9.344140e-01</td>\n",
       "    </tr>\n",
       "    <tr>\n",
       "      <th>654</th>\n",
       "      <td>compound_0654</td>\n",
       "      <td>PC(18:0/22:4)</td>\n",
       "      <td>1</td>\n",
       "      <td>9.183804e-01</td>\n",
       "    </tr>\n",
       "    <tr>\n",
       "      <th>...</th>\n",
       "      <td>...</td>\n",
       "      <td>...</td>\n",
       "      <td>...</td>\n",
       "      <td>...</td>\n",
       "    </tr>\n",
       "    <tr>\n",
       "      <th>1264</th>\n",
       "      <td>compound_1264</td>\n",
       "      <td>X - 11871</td>\n",
       "      <td>1</td>\n",
       "      <td>8.151497e-22</td>\n",
       "    </tr>\n",
       "    <tr>\n",
       "      <th>1252</th>\n",
       "      <td>compound_1252</td>\n",
       "      <td>X - 11537</td>\n",
       "      <td>1</td>\n",
       "      <td>5.988293e-22</td>\n",
       "    </tr>\n",
       "    <tr>\n",
       "      <th>276</th>\n",
       "      <td>compound_0276</td>\n",
       "      <td>docosahexaenoylcholine</td>\n",
       "      <td>1</td>\n",
       "      <td>8.224643e-23</td>\n",
       "    </tr>\n",
       "    <tr>\n",
       "      <th>274</th>\n",
       "      <td>compound_0274</td>\n",
       "      <td>arachidonoylcholine</td>\n",
       "      <td>1</td>\n",
       "      <td>4.531371e-24</td>\n",
       "    </tr>\n",
       "    <tr>\n",
       "      <th>174</th>\n",
       "      <td>compound_0174</td>\n",
       "      <td>1,5-anhydroglucitol (1,5-AG)</td>\n",
       "      <td>1</td>\n",
       "      <td>2.172344e-24</td>\n",
       "    </tr>\n",
       "  </tbody>\n",
       "</table>\n",
       "<p>371 rows × 4 columns</p>\n",
       "</div>"
      ],
      "text/plain": [
       "               Name                         Label  Sign   TTestPvalue\n",
       "1421  compound_1421                     X - 21803     1  9.923699e-01\n",
       "124   compound_0124                          urea     1  9.757371e-01\n",
       "444   compound_0444                thymol sulfate     1  9.610538e-01\n",
       "1403  compound_1403                     X - 21411     1  9.344140e-01\n",
       "654   compound_0654                 PC(18:0/22:4)     1  9.183804e-01\n",
       "...             ...                           ...   ...           ...\n",
       "1264  compound_1264                     X - 11871     1  8.151497e-22\n",
       "1252  compound_1252                     X - 11537     1  5.988293e-22\n",
       "276   compound_0276        docosahexaenoylcholine     1  8.224643e-23\n",
       "274   compound_0274           arachidonoylcholine     1  4.531371e-24\n",
       "174   compound_0174  1,5-anhydroglucitol (1,5-AG)     1  2.172344e-24\n",
       "\n",
       "[371 rows x 4 columns]"
      ]
     },
     "execution_count": 51,
     "metadata": {},
     "output_type": "execute_result"
    }
   ],
   "source": [
    "#cogemos aquellos que resulten significativamente más alto en diabetes \n",
    "Ttest_H=Tabla_estadistica_H[Tabla_estadistica_H['Sign'] == 1]\n",
    "Ttest_H= Ttest_H.loc[:, [\"Name\", \"Label\", \"Sign\",\"TTestPvalue\"]]\n",
    "Ttest_H"
   ]
  },
  {
   "cell_type": "code",
   "execution_count": 52,
   "id": "99530e9c",
   "metadata": {},
   "outputs": [
    {
     "data": {
      "text/html": [
       "<div>\n",
       "<style scoped>\n",
       "    .dataframe tbody tr th:only-of-type {\n",
       "        vertical-align: middle;\n",
       "    }\n",
       "\n",
       "    .dataframe tbody tr th {\n",
       "        vertical-align: top;\n",
       "    }\n",
       "\n",
       "    .dataframe thead th {\n",
       "        text-align: right;\n",
       "    }\n",
       "</style>\n",
       "<table border=\"1\" class=\"dataframe\">\n",
       "  <thead>\n",
       "    <tr style=\"text-align: right;\">\n",
       "      <th></th>\n",
       "      <th>Name</th>\n",
       "      <th>Label</th>\n",
       "      <th>Sign</th>\n",
       "      <th>TTestPvalue</th>\n",
       "    </tr>\n",
       "  </thead>\n",
       "  <tbody>\n",
       "  </tbody>\n",
       "</table>\n",
       "</div>"
      ],
      "text/plain": [
       "Empty DataFrame\n",
       "Columns: [Name, Label, Sign, TTestPvalue]\n",
       "Index: []"
      ]
     },
     "execution_count": 52,
     "metadata": {},
     "output_type": "execute_result"
    }
   ],
   "source": [
    "Ttest_glucose = Ttest_H[Ttest_H['Label'] == \"glucose\"]\n",
    "Ttest_glucose"
   ]
  },
  {
   "cell_type": "code",
   "execution_count": 53,
   "id": "351a2d2d",
   "metadata": {},
   "outputs": [],
   "source": [
    "### 3.3 Dataset Hoja 3   -----> Información identificacion/clase de los compuestos"
   ]
  },
  {
   "cell_type": "code",
   "execution_count": 54,
   "id": "42327879",
   "metadata": {},
   "outputs": [
    {
     "data": {
      "text/html": [
       "<div>\n",
       "<style scoped>\n",
       "    .dataframe tbody tr th:only-of-type {\n",
       "        vertical-align: middle;\n",
       "    }\n",
       "\n",
       "    .dataframe tbody tr th {\n",
       "        vertical-align: top;\n",
       "    }\n",
       "\n",
       "    .dataframe thead th {\n",
       "        text-align: right;\n",
       "    }\n",
       "</style>\n",
       "<table border=\"1\" class=\"dataframe\">\n",
       "  <thead>\n",
       "    <tr style=\"text-align: right;\">\n",
       "      <th></th>\n",
       "      <th>compound_id</th>\n",
       "      <th>PATHWAY_SORTORDER</th>\n",
       "      <th>BIOCHEMICAL</th>\n",
       "      <th>SUPER_PATHWAY</th>\n",
       "      <th>SUB_PATHWAY</th>\n",
       "      <th>COMP_ID</th>\n",
       "      <th>PLATFORM</th>\n",
       "      <th>RI</th>\n",
       "      <th>MASS</th>\n",
       "      <th>PUBCHEM</th>\n",
       "      <th>KEGG</th>\n",
       "      <th>HMDB_ID</th>\n",
       "    </tr>\n",
       "  </thead>\n",
       "  <tbody>\n",
       "    <tr>\n",
       "      <th>0</th>\n",
       "      <td>compound_0001</td>\n",
       "      <td>1</td>\n",
       "      <td>glycine</td>\n",
       "      <td>Amino Acid</td>\n",
       "      <td>Glycine, Serine and Threonine Metabolism</td>\n",
       "      <td>58</td>\n",
       "      <td>LC/MS Pos Early</td>\n",
       "      <td>1375</td>\n",
       "      <td>76.0393</td>\n",
       "      <td>750</td>\n",
       "      <td>C00037</td>\n",
       "      <td>HMDB00123</td>\n",
       "    </tr>\n",
       "    <tr>\n",
       "      <th>1</th>\n",
       "      <td>compound_0002</td>\n",
       "      <td>2</td>\n",
       "      <td>N-acetylglycine</td>\n",
       "      <td>Amino Acid</td>\n",
       "      <td>Glycine, Serine and Threonine Metabolism</td>\n",
       "      <td>27710</td>\n",
       "      <td>LC/MS Neg</td>\n",
       "      <td>731</td>\n",
       "      <td>116.0353</td>\n",
       "      <td>10972</td>\n",
       "      <td>NaN</td>\n",
       "      <td>HMDB00532</td>\n",
       "    </tr>\n",
       "    <tr>\n",
       "      <th>2</th>\n",
       "      <td>compound_0003</td>\n",
       "      <td>4</td>\n",
       "      <td>sarcosine</td>\n",
       "      <td>Amino Acid</td>\n",
       "      <td>Glycine, Serine and Threonine Metabolism</td>\n",
       "      <td>1516</td>\n",
       "      <td>LC/MS Pos Early</td>\n",
       "      <td>1280</td>\n",
       "      <td>90.055</td>\n",
       "      <td>1088</td>\n",
       "      <td>C00213</td>\n",
       "      <td>HMDB00271</td>\n",
       "    </tr>\n",
       "    <tr>\n",
       "      <th>3</th>\n",
       "      <td>compound_0004</td>\n",
       "      <td>5</td>\n",
       "      <td>dimethylglycine</td>\n",
       "      <td>Amino Acid</td>\n",
       "      <td>Glycine, Serine and Threonine Metabolism</td>\n",
       "      <td>5086</td>\n",
       "      <td>LC/MS Pos Early</td>\n",
       "      <td>1104</td>\n",
       "      <td>104.0706</td>\n",
       "      <td>673</td>\n",
       "      <td>C01026</td>\n",
       "      <td>HMDB00092</td>\n",
       "    </tr>\n",
       "    <tr>\n",
       "      <th>4</th>\n",
       "      <td>compound_0005</td>\n",
       "      <td>6</td>\n",
       "      <td>betaine</td>\n",
       "      <td>Amino Acid</td>\n",
       "      <td>Glycine, Serine and Threonine Metabolism</td>\n",
       "      <td>3141</td>\n",
       "      <td>LC/MS Pos Early</td>\n",
       "      <td>1064</td>\n",
       "      <td>118.0863</td>\n",
       "      <td>247</td>\n",
       "      <td>C00719</td>\n",
       "      <td>HMDB00043</td>\n",
       "    </tr>\n",
       "  </tbody>\n",
       "</table>\n",
       "</div>"
      ],
      "text/plain": [
       "     compound_id PATHWAY_SORTORDER      BIOCHEMICAL SUPER_PATHWAY  \\\n",
       "0  compound_0001                 1          glycine    Amino Acid   \n",
       "1  compound_0002                 2  N-acetylglycine    Amino Acid   \n",
       "2  compound_0003                 4        sarcosine    Amino Acid   \n",
       "3  compound_0004                 5  dimethylglycine    Amino Acid   \n",
       "4  compound_0005                 6          betaine    Amino Acid   \n",
       "\n",
       "                                SUB_PATHWAY  COMP_ID         PLATFORM    RI  \\\n",
       "0  Glycine, Serine and Threonine Metabolism       58  LC/MS Pos Early  1375   \n",
       "1  Glycine, Serine and Threonine Metabolism    27710        LC/MS Neg   731   \n",
       "2  Glycine, Serine and Threonine Metabolism     1516  LC/MS Pos Early  1280   \n",
       "3  Glycine, Serine and Threonine Metabolism     5086  LC/MS Pos Early  1104   \n",
       "4  Glycine, Serine and Threonine Metabolism     3141  LC/MS Pos Early  1064   \n",
       "\n",
       "       MASS PUBCHEM    KEGG    HMDB_ID  \n",
       "0   76.0393     750  C00037  HMDB00123  \n",
       "1  116.0353   10972     NaN  HMDB00532  \n",
       "2    90.055    1088  C00213  HMDB00271  \n",
       "3  104.0706     673  C01026  HMDB00092  \n",
       "4  118.0863     247  C00719  HMDB00043  "
      ]
     },
     "execution_count": 54,
     "metadata": {},
     "output_type": "execute_result"
    }
   ],
   "source": [
    "data_dictionary = pd.read_excel(r\"C:\\Users\\Momentum\\Desktop\\Claudia\\Cursos\\Bootcamp_Data_e_IA\\Proyecto_EDA\\study_data.xlsx\", sheet_name=\"data_dictionary\")\n",
    "data_dictionary.head()"
   ]
  },
  {
   "cell_type": "code",
   "execution_count": 55,
   "id": "0be11f7e",
   "metadata": {},
   "outputs": [
    {
     "data": {
      "application/vnd.plotly.v1+json": {
       "config": {
        "plotlyServerURL": "https://plot.ly"
       },
       "data": [
        {
         "hovertemplate": "SUPER_PATHWAY=%{x}<br>count=%{y}<extra></extra>",
         "legendgroup": "Amino Acid",
         "marker": {
          "color": "#636efa",
          "line": {
           "width": 0
          },
          "pattern": {
           "shape": ""
          }
         },
         "name": "Amino Acid",
         "orientation": "v",
         "showlegend": true,
         "textposition": "auto",
         "type": "bar",
         "x": [
          "Amino Acid",
          "Amino Acid",
          "Amino Acid",
          "Amino Acid",
          "Amino Acid",
          "Amino Acid",
          "Amino Acid",
          "Amino Acid",
          "Amino Acid",
          "Amino Acid",
          "Amino Acid",
          "Amino Acid",
          "Amino Acid",
          "Amino Acid",
          "Amino Acid",
          "Amino Acid",
          "Amino Acid",
          "Amino Acid",
          "Amino Acid",
          "Amino Acid",
          "Amino Acid",
          "Amino Acid",
          "Amino Acid",
          "Amino Acid",
          "Amino Acid",
          "Amino Acid",
          "Amino Acid",
          "Amino Acid",
          "Amino Acid",
          "Amino Acid",
          "Amino Acid",
          "Amino Acid",
          "Amino Acid",
          "Amino Acid",
          "Amino Acid",
          "Amino Acid",
          "Amino Acid",
          "Amino Acid",
          "Amino Acid",
          "Amino Acid",
          "Amino Acid",
          "Amino Acid",
          "Amino Acid",
          "Amino Acid",
          "Amino Acid",
          "Amino Acid",
          "Amino Acid",
          "Amino Acid",
          "Amino Acid",
          "Amino Acid",
          "Amino Acid",
          "Amino Acid",
          "Amino Acid",
          "Amino Acid",
          "Amino Acid",
          "Amino Acid",
          "Amino Acid",
          "Amino Acid",
          "Amino Acid",
          "Amino Acid",
          "Amino Acid",
          "Amino Acid",
          "Amino Acid",
          "Amino Acid",
          "Amino Acid",
          "Amino Acid",
          "Amino Acid",
          "Amino Acid",
          "Amino Acid",
          "Amino Acid",
          "Amino Acid",
          "Amino Acid",
          "Amino Acid",
          "Amino Acid",
          "Amino Acid",
          "Amino Acid",
          "Amino Acid",
          "Amino Acid",
          "Amino Acid",
          "Amino Acid",
          "Amino Acid",
          "Amino Acid",
          "Amino Acid",
          "Amino Acid",
          "Amino Acid",
          "Amino Acid",
          "Amino Acid",
          "Amino Acid",
          "Amino Acid",
          "Amino Acid",
          "Amino Acid",
          "Amino Acid",
          "Amino Acid",
          "Amino Acid",
          "Amino Acid",
          "Amino Acid",
          "Amino Acid",
          "Amino Acid",
          "Amino Acid",
          "Amino Acid",
          "Amino Acid",
          "Amino Acid",
          "Amino Acid",
          "Amino Acid",
          "Amino Acid",
          "Amino Acid",
          "Amino Acid",
          "Amino Acid",
          "Amino Acid",
          "Amino Acid",
          "Amino Acid",
          "Amino Acid",
          "Amino Acid",
          "Amino Acid",
          "Amino Acid",
          "Amino Acid",
          "Amino Acid",
          "Amino Acid",
          "Amino Acid",
          "Amino Acid",
          "Amino Acid",
          "Amino Acid",
          "Amino Acid",
          "Amino Acid",
          "Amino Acid",
          "Amino Acid",
          "Amino Acid",
          "Amino Acid",
          "Amino Acid",
          "Amino Acid",
          "Amino Acid",
          "Amino Acid",
          "Amino Acid",
          "Amino Acid",
          "Amino Acid",
          "Amino Acid",
          "Amino Acid",
          "Amino Acid",
          "Amino Acid",
          "Amino Acid",
          "Amino Acid",
          "Amino Acid",
          "Amino Acid",
          "Amino Acid",
          "Amino Acid",
          "Amino Acid",
          "Amino Acid",
          "Amino Acid",
          "Amino Acid"
         ],
         "xaxis": "x",
         "y": {
          "bdata": "AQEBAQEBAQEBAQEBAQEBAQEBAQEBAQEBAQEBAQEBAQEBAQEBAQEBAQEBAQEBAQEBAQEBAQEBAQEBAQEBAQEBAQEBAQEBAQEBAQEBAQEBAQEBAQEBAQEBAQEBAQEBAQEBAQEBAQEBAQEBAQEBAQEBAQEBAQEBAQEBAQEBAQEBAQEBAQEBAQEBAQEBAQEBAQEBAQEBAQE=",
          "dtype": "i1"
         },
         "yaxis": "y"
        },
        {
         "hovertemplate": "SUPER_PATHWAY=%{x}<br>count=%{y}<extra></extra>",
         "legendgroup": "Peptide",
         "marker": {
          "color": "#EF553B",
          "line": {
           "width": 0
          },
          "pattern": {
           "shape": ""
          }
         },
         "name": "Peptide",
         "orientation": "v",
         "showlegend": true,
         "textposition": "auto",
         "type": "bar",
         "x": [
          "Peptide",
          "Peptide",
          "Peptide",
          "Peptide",
          "Peptide",
          "Peptide",
          "Peptide",
          "Peptide",
          "Peptide",
          "Peptide",
          "Peptide",
          "Peptide",
          "Peptide",
          "Peptide",
          "Peptide",
          "Peptide",
          "Peptide",
          "Peptide",
          "Peptide",
          "Peptide",
          "Peptide",
          "Peptide",
          "Peptide",
          "Peptide"
         ],
         "xaxis": "x",
         "y": {
          "bdata": "AQEBAQEBAQEBAQEBAQEBAQEBAQEBAQEB",
          "dtype": "i1"
         },
         "yaxis": "y"
        },
        {
         "hovertemplate": "SUPER_PATHWAY=%{x}<br>count=%{y}<extra></extra>",
         "legendgroup": "Carbohydrate",
         "marker": {
          "color": "#00cc96",
          "line": {
           "width": 0
          },
          "pattern": {
           "shape": ""
          }
         },
         "name": "Carbohydrate",
         "orientation": "v",
         "showlegend": true,
         "textposition": "auto",
         "type": "bar",
         "x": [
          "Carbohydrate",
          "Carbohydrate",
          "Carbohydrate",
          "Carbohydrate",
          "Carbohydrate",
          "Carbohydrate",
          "Carbohydrate",
          "Carbohydrate",
          "Carbohydrate",
          "Carbohydrate",
          "Carbohydrate",
          "Carbohydrate",
          "Carbohydrate",
          "Carbohydrate",
          "Carbohydrate",
          "Carbohydrate",
          "Carbohydrate",
          "Carbohydrate",
          "Carbohydrate",
          "Carbohydrate",
          "Carbohydrate"
         ],
         "xaxis": "x",
         "y": {
          "bdata": "AQEBAQEBAQEBAQEBAQEBAQEBAQEB",
          "dtype": "i1"
         },
         "yaxis": "y"
        },
        {
         "hovertemplate": "SUPER_PATHWAY=%{x}<br>count=%{y}<extra></extra>",
         "legendgroup": "Energy",
         "marker": {
          "color": "#ab63fa",
          "line": {
           "width": 0
          },
          "pattern": {
           "shape": ""
          }
         },
         "name": "Energy",
         "orientation": "v",
         "showlegend": true,
         "textposition": "auto",
         "type": "bar",
         "x": [
          "Energy",
          "Energy",
          "Energy",
          "Energy",
          "Energy",
          "Energy",
          "Energy",
          "Energy"
         ],
         "xaxis": "x",
         "y": {
          "bdata": "AQEBAQEBAQE=",
          "dtype": "i1"
         },
         "yaxis": "y"
        },
        {
         "hovertemplate": "SUPER_PATHWAY=%{x}<br>count=%{y}<extra></extra>",
         "legendgroup": "Lipid",
         "marker": {
          "color": "#FFA15A",
          "line": {
           "width": 0
          },
          "pattern": {
           "shape": ""
          }
         },
         "name": "Lipid",
         "orientation": "v",
         "showlegend": true,
         "textposition": "auto",
         "type": "bar",
         "x": [
          "Lipid",
          "Lipid",
          "Lipid",
          "Lipid",
          "Lipid",
          "Lipid",
          "Lipid",
          "Lipid",
          "Lipid",
          "Lipid",
          "Lipid",
          "Lipid",
          "Lipid",
          "Lipid",
          "Lipid",
          "Lipid",
          "Lipid",
          "Lipid",
          "Lipid",
          "Lipid",
          "Lipid",
          "Lipid",
          "Lipid",
          "Lipid",
          "Lipid",
          "Lipid",
          "Lipid",
          "Lipid",
          "Lipid",
          "Lipid",
          "Lipid",
          "Lipid",
          "Lipid",
          "Lipid",
          "Lipid",
          "Lipid",
          "Lipid",
          "Lipid",
          "Lipid",
          "Lipid",
          "Lipid",
          "Lipid",
          "Lipid",
          "Lipid",
          "Lipid",
          "Lipid",
          "Lipid",
          "Lipid",
          "Lipid",
          "Lipid",
          "Lipid",
          "Lipid",
          "Lipid",
          "Lipid",
          "Lipid",
          "Lipid",
          "Lipid",
          "Lipid",
          "Lipid",
          "Lipid",
          "Lipid",
          "Lipid",
          "Lipid",
          "Lipid",
          "Lipid",
          "Lipid",
          "Lipid",
          "Lipid",
          "Lipid",
          "Lipid",
          "Lipid",
          "Lipid",
          "Lipid",
          "Lipid",
          "Lipid",
          "Lipid",
          "Lipid",
          "Lipid",
          "Lipid",
          "Lipid",
          "Lipid",
          "Lipid",
          "Lipid",
          "Lipid",
          "Lipid",
          "Lipid",
          "Lipid",
          "Lipid",
          "Lipid",
          "Lipid",
          "Lipid",
          "Lipid",
          "Lipid",
          "Lipid",
          "Lipid",
          "Lipid",
          "Lipid",
          "Lipid",
          "Lipid",
          "Lipid",
          "Lipid",
          "Lipid",
          "Lipid",
          "Lipid",
          "Lipid",
          "Lipid",
          "Lipid",
          "Lipid",
          "Lipid",
          "Lipid",
          "Lipid",
          "Lipid",
          "Lipid",
          "Lipid",
          "Lipid",
          "Lipid",
          "Lipid",
          "Lipid",
          "Lipid",
          "Lipid",
          "Lipid",
          "Lipid",
          "Lipid",
          "Lipid",
          "Lipid",
          "Lipid",
          "Lipid",
          "Lipid",
          "Lipid",
          "Lipid",
          "Lipid",
          "Lipid",
          "Lipid",
          "Lipid",
          "Lipid",
          "Lipid",
          "Lipid",
          "Lipid",
          "Lipid",
          "Lipid",
          "Lipid",
          "Lipid"
         ],
         "xaxis": "x",
         "y": {
          "bdata": "AQEBAQEBAQEBAQEBAQEBAQEBAQEBAQEBAQEBAQEBAQEBAQEBAQEBAQEBAQEBAQEBAQEBAQEBAQEBAQEBAQEBAQEBAQEBAQEBAQEBAQEBAQEBAQEBAQEBAQEBAQEBAQEBAQEBAQEBAQEBAQEBAQEBAQEBAQEBAQEBAQEBAQEBAQEBAQEBAQEBAQEBAQEBAQ==",
          "dtype": "i1"
         },
         "yaxis": "y"
        },
        {
         "hovertemplate": "SUPER_PATHWAY=%{x}<br>count=%{y}<extra></extra>",
         "legendgroup": "Nucleotide",
         "marker": {
          "color": "#19d3f3",
          "line": {
           "width": 0
          },
          "pattern": {
           "shape": ""
          }
         },
         "name": "Nucleotide",
         "orientation": "v",
         "showlegend": true,
         "textposition": "auto",
         "type": "bar",
         "x": [
          "Nucleotide",
          "Nucleotide",
          "Nucleotide",
          "Nucleotide",
          "Nucleotide",
          "Nucleotide",
          "Nucleotide",
          "Nucleotide",
          "Nucleotide",
          "Nucleotide",
          "Nucleotide",
          "Nucleotide",
          "Nucleotide",
          "Nucleotide",
          "Nucleotide",
          "Nucleotide",
          "Nucleotide",
          "Nucleotide",
          "Nucleotide",
          "Nucleotide",
          "Nucleotide",
          "Nucleotide",
          "Nucleotide",
          "Nucleotide",
          "Nucleotide",
          "Nucleotide",
          "Nucleotide"
         ],
         "xaxis": "x",
         "y": {
          "bdata": "AQEBAQEBAQEBAQEBAQEBAQEBAQEBAQEBAQEB",
          "dtype": "i1"
         },
         "yaxis": "y"
        },
        {
         "hovertemplate": "SUPER_PATHWAY=%{x}<br>count=%{y}<extra></extra>",
         "legendgroup": "Cofactors and Vitamins",
         "marker": {
          "color": "#FF6692",
          "line": {
           "width": 0
          },
          "pattern": {
           "shape": ""
          }
         },
         "name": "Cofactors and Vitamins",
         "orientation": "v",
         "showlegend": true,
         "textposition": "auto",
         "type": "bar",
         "x": [
          "Cofactors and Vitamins",
          "Cofactors and Vitamins",
          "Cofactors and Vitamins",
          "Cofactors and Vitamins",
          "Cofactors and Vitamins",
          "Cofactors and Vitamins",
          "Cofactors and Vitamins",
          "Cofactors and Vitamins",
          "Cofactors and Vitamins",
          "Cofactors and Vitamins",
          "Cofactors and Vitamins",
          "Cofactors and Vitamins",
          "Cofactors and Vitamins",
          "Cofactors and Vitamins",
          "Cofactors and Vitamins",
          "Cofactors and Vitamins",
          "Cofactors and Vitamins",
          "Cofactors and Vitamins"
         ],
         "xaxis": "x",
         "y": {
          "bdata": "AQEBAQEBAQEBAQEBAQEBAQEB",
          "dtype": "i1"
         },
         "yaxis": "y"
        },
        {
         "hovertemplate": "SUPER_PATHWAY=%{x}<br>count=%{y}<extra></extra>",
         "legendgroup": "Xenobiotics",
         "marker": {
          "color": "#B6E880",
          "line": {
           "width": 0
          },
          "pattern": {
           "shape": ""
          }
         },
         "name": "Xenobiotics",
         "orientation": "v",
         "showlegend": true,
         "textposition": "auto",
         "type": "bar",
         "x": [
          "Xenobiotics",
          "Xenobiotics",
          "Xenobiotics",
          "Xenobiotics",
          "Xenobiotics",
          "Xenobiotics",
          "Xenobiotics",
          "Xenobiotics",
          "Xenobiotics",
          "Xenobiotics",
          "Xenobiotics",
          "Xenobiotics",
          "Xenobiotics",
          "Xenobiotics",
          "Xenobiotics",
          "Xenobiotics",
          "Xenobiotics",
          "Xenobiotics",
          "Xenobiotics",
          "Xenobiotics",
          "Xenobiotics",
          "Xenobiotics",
          "Xenobiotics",
          "Xenobiotics",
          "Xenobiotics",
          "Xenobiotics",
          "Xenobiotics",
          "Xenobiotics",
          "Xenobiotics",
          "Xenobiotics",
          "Xenobiotics",
          "Xenobiotics",
          "Xenobiotics",
          "Xenobiotics",
          "Xenobiotics",
          "Xenobiotics",
          "Xenobiotics",
          "Xenobiotics",
          "Xenobiotics",
          "Xenobiotics",
          "Xenobiotics",
          "Xenobiotics",
          "Xenobiotics",
          "Xenobiotics",
          "Xenobiotics",
          "Xenobiotics",
          "Xenobiotics",
          "Xenobiotics",
          "Xenobiotics",
          "Xenobiotics",
          "Xenobiotics",
          "Xenobiotics",
          "Xenobiotics",
          "Xenobiotics",
          "Xenobiotics",
          "Xenobiotics",
          "Xenobiotics",
          "Xenobiotics",
          "Xenobiotics",
          "Xenobiotics",
          "Xenobiotics",
          "Xenobiotics",
          "Xenobiotics",
          "Xenobiotics",
          "Xenobiotics",
          "Xenobiotics",
          "Xenobiotics",
          "Xenobiotics",
          "Xenobiotics",
          "Xenobiotics",
          "Xenobiotics",
          "Xenobiotics",
          "Xenobiotics",
          "Xenobiotics",
          "Xenobiotics",
          "Xenobiotics",
          "Xenobiotics",
          "Xenobiotics",
          "Xenobiotics",
          "Xenobiotics",
          "Xenobiotics",
          "Xenobiotics",
          "Xenobiotics",
          "Xenobiotics",
          "Xenobiotics",
          "Xenobiotics",
          "Xenobiotics",
          "Xenobiotics",
          "Xenobiotics"
         ],
         "xaxis": "x",
         "y": {
          "bdata": "AQEBAQEBAQEBAQEBAQEBAQEBAQEBAQEBAQEBAQEBAQEBAQEBAQEBAQEBAQEBAQEBAQEBAQEBAQEBAQEBAQEBAQEBAQEBAQEBAQEBAQEBAQEBAQEBAQEBAQE=",
          "dtype": "i1"
         },
         "yaxis": "y"
        },
        {
         "hovertemplate": "SUPER_PATHWAY=%{x}<br>count=%{y}<extra></extra>",
         "legendgroup": "Neutral Complex Lipids",
         "marker": {
          "color": "#FF97FF",
          "line": {
           "width": 0
          },
          "pattern": {
           "shape": ""
          }
         },
         "name": "Neutral Complex Lipids",
         "orientation": "v",
         "showlegend": true,
         "textposition": "auto",
         "type": "bar",
         "x": [
          "Neutral Complex Lipids",
          "Neutral Complex Lipids",
          "Neutral Complex Lipids",
          "Neutral Complex Lipids"
         ],
         "xaxis": "x",
         "y": {
          "bdata": "AQEBAQ==",
          "dtype": "i1"
         },
         "yaxis": "y"
        },
        {
         "hovertemplate": "SUPER_PATHWAY=%{x}<br>count=%{y}<extra></extra>",
         "legendgroup": "Phospholipids",
         "marker": {
          "color": "#FECB52",
          "line": {
           "width": 0
          },
          "pattern": {
           "shape": ""
          }
         },
         "name": "Phospholipids",
         "orientation": "v",
         "showlegend": true,
         "textposition": "auto",
         "type": "bar",
         "x": [
          "Phospholipids",
          "Phospholipids",
          "Phospholipids",
          "Phospholipids",
          "Phospholipids"
         ],
         "xaxis": "x",
         "y": {
          "bdata": "AQEBAQE=",
          "dtype": "i1"
         },
         "yaxis": "y"
        },
        {
         "hovertemplate": "SUPER_PATHWAY=%{x}<br>count=%{y}<extra></extra>",
         "legendgroup": "Sphingolipids",
         "marker": {
          "color": "#636efa",
          "line": {
           "width": 0
          },
          "pattern": {
           "shape": ""
          }
         },
         "name": "Sphingolipids",
         "orientation": "v",
         "showlegend": true,
         "textposition": "auto",
         "type": "bar",
         "x": [
          "Sphingolipids",
          "Sphingolipids",
          "Sphingolipids",
          "Sphingolipids",
          "Sphingolipids"
         ],
         "xaxis": "x",
         "y": {
          "bdata": "AQEBAQE=",
          "dtype": "i1"
         },
         "yaxis": "y"
        },
        {
         "hovertemplate": "SUPER_PATHWAY=%{x}<br>count=%{y}<extra></extra>",
         "legendgroup": "Cholesterol Ester",
         "marker": {
          "color": "#EF553B",
          "line": {
           "width": 0
          },
          "pattern": {
           "shape": ""
          }
         },
         "name": "Cholesterol Ester",
         "orientation": "v",
         "showlegend": true,
         "textposition": "auto",
         "type": "bar",
         "x": [
          "Cholesterol Ester",
          "Cholesterol Ester",
          "Cholesterol Ester",
          "Cholesterol Ester",
          "Cholesterol Ester",
          "Cholesterol Ester",
          "Cholesterol Ester",
          "Cholesterol Ester",
          "Cholesterol Ester",
          "Cholesterol Ester",
          "Cholesterol Ester",
          "Cholesterol Ester",
          "Cholesterol Ester",
          "Cholesterol Ester",
          "Cholesterol Ester",
          "Cholesterol Ester",
          "Cholesterol Ester",
          "Cholesterol Ester",
          "Cholesterol Ester",
          "Cholesterol Ester",
          "Cholesterol Ester",
          "Cholesterol Ester",
          "Cholesterol Ester",
          "Cholesterol Ester",
          "Cholesterol Ester",
          "Cholesterol Ester"
         ],
         "xaxis": "x",
         "y": {
          "bdata": "AQEBAQEBAQEBAQEBAQEBAQEBAQEBAQEBAQE=",
          "dtype": "i1"
         },
         "yaxis": "y"
        },
        {
         "hovertemplate": "SUPER_PATHWAY=%{x}<br>count=%{y}<extra></extra>",
         "legendgroup": "Ceramides",
         "marker": {
          "color": "#00cc96",
          "line": {
           "width": 0
          },
          "pattern": {
           "shape": ""
          }
         },
         "name": "Ceramides",
         "orientation": "v",
         "showlegend": true,
         "textposition": "auto",
         "type": "bar",
         "x": [
          "Ceramides",
          "Ceramides",
          "Ceramides",
          "Ceramides",
          "Ceramides",
          "Ceramides",
          "Ceramides",
          "Ceramides",
          "Ceramides"
         ],
         "xaxis": "x",
         "y": {
          "bdata": "AQEBAQEBAQEB",
          "dtype": "i1"
         },
         "yaxis": "y"
        },
        {
         "hovertemplate": "SUPER_PATHWAY=%{x}<br>count=%{y}<extra></extra>",
         "legendgroup": "Diacylglycerol",
         "marker": {
          "color": "#ab63fa",
          "line": {
           "width": 0
          },
          "pattern": {
           "shape": ""
          }
         },
         "name": "Diacylglycerol",
         "orientation": "v",
         "showlegend": true,
         "textposition": "auto",
         "type": "bar",
         "x": [
          "Diacylglycerol",
          "Diacylglycerol",
          "Diacylglycerol",
          "Diacylglycerol",
          "Diacylglycerol",
          "Diacylglycerol",
          "Diacylglycerol",
          "Diacylglycerol",
          "Diacylglycerol",
          "Diacylglycerol",
          "Diacylglycerol",
          "Diacylglycerol",
          "Diacylglycerol",
          "Diacylglycerol",
          "Diacylglycerol",
          "Diacylglycerol",
          "Diacylglycerol",
          "Diacylglycerol",
          "Diacylglycerol",
          "Diacylglycerol",
          "Diacylglycerol",
          "Diacylglycerol",
          "Diacylglycerol",
          "Diacylglycerol",
          "Diacylglycerol",
          "Diacylglycerol",
          "Diacylglycerol",
          "Diacylglycerol",
          "Diacylglycerol",
          "Diacylglycerol",
          "Diacylglycerol",
          "Diacylglycerol",
          "Diacylglycerol",
          "Diacylglycerol",
          "Diacylglycerol",
          "Diacylglycerol",
          "Diacylglycerol",
          "Diacylglycerol",
          "Diacylglycerol",
          "Diacylglycerol",
          "Diacylglycerol",
          "Diacylglycerol",
          "Diacylglycerol",
          "Diacylglycerol",
          "Diacylglycerol",
          "Diacylglycerol",
          "Diacylglycerol",
          "Diacylglycerol",
          "Diacylglycerol",
          "Diacylglycerol",
          "Diacylglycerol",
          "Diacylglycerol"
         ],
         "xaxis": "x",
         "y": {
          "bdata": "AQEBAQEBAQEBAQEBAQEBAQEBAQEBAQEBAQEBAQEBAQEBAQEBAQEBAQEBAQEBAQEBAQEBAQ==",
          "dtype": "i1"
         },
         "yaxis": "y"
        },
        {
         "hovertemplate": "SUPER_PATHWAY=%{x}<br>count=%{y}<extra></extra>",
         "legendgroup": "Dihydroceramides",
         "marker": {
          "color": "#FFA15A",
          "line": {
           "width": 0
          },
          "pattern": {
           "shape": ""
          }
         },
         "name": "Dihydroceramides",
         "orientation": "v",
         "showlegend": true,
         "textposition": "auto",
         "type": "bar",
         "x": [
          "Dihydroceramides",
          "Dihydroceramides",
          "Dihydroceramides",
          "Dihydroceramides"
         ],
         "xaxis": "x",
         "y": {
          "bdata": "AQEBAQ==",
          "dtype": "i1"
         },
         "yaxis": "y"
        },
        {
         "hovertemplate": "SUPER_PATHWAY=%{x}<br>count=%{y}<extra></extra>",
         "legendgroup": "Free Fatty Acids",
         "marker": {
          "color": "#19d3f3",
          "line": {
           "width": 0
          },
          "pattern": {
           "shape": ""
          }
         },
         "name": "Free Fatty Acids",
         "orientation": "v",
         "showlegend": true,
         "textposition": "auto",
         "type": "bar",
         "x": [
          "Free Fatty Acids",
          "Free Fatty Acids",
          "Free Fatty Acids",
          "Free Fatty Acids",
          "Free Fatty Acids",
          "Free Fatty Acids",
          "Free Fatty Acids",
          "Free Fatty Acids",
          "Free Fatty Acids",
          "Free Fatty Acids",
          "Free Fatty Acids",
          "Free Fatty Acids",
          "Free Fatty Acids",
          "Free Fatty Acids",
          "Free Fatty Acids",
          "Free Fatty Acids",
          "Free Fatty Acids",
          "Free Fatty Acids",
          "Free Fatty Acids",
          "Free Fatty Acids",
          "Free Fatty Acids",
          "Free Fatty Acids",
          "Free Fatty Acids",
          "Free Fatty Acids",
          "Free Fatty Acids",
          "Free Fatty Acids"
         ],
         "xaxis": "x",
         "y": {
          "bdata": "AQEBAQEBAQEBAQEBAQEBAQEBAQEBAQEBAQE=",
          "dtype": "i1"
         },
         "yaxis": "y"
        },
        {
         "hovertemplate": "SUPER_PATHWAY=%{x}<br>count=%{y}<extra></extra>",
         "legendgroup": "Hexosylceramides",
         "marker": {
          "color": "#FF6692",
          "line": {
           "width": 0
          },
          "pattern": {
           "shape": ""
          }
         },
         "name": "Hexosylceramides",
         "orientation": "v",
         "showlegend": true,
         "textposition": "auto",
         "type": "bar",
         "x": [
          "Hexosylceramides",
          "Hexosylceramides",
          "Hexosylceramides",
          "Hexosylceramides",
          "Hexosylceramides",
          "Hexosylceramides",
          "Hexosylceramides"
         ],
         "xaxis": "x",
         "y": {
          "bdata": "AQEBAQEBAQ==",
          "dtype": "i1"
         },
         "yaxis": "y"
        },
        {
         "hovertemplate": "SUPER_PATHWAY=%{x}<br>count=%{y}<extra></extra>",
         "legendgroup": "Lactosylceramide",
         "marker": {
          "color": "#B6E880",
          "line": {
           "width": 0
          },
          "pattern": {
           "shape": ""
          }
         },
         "name": "Lactosylceramide",
         "orientation": "v",
         "showlegend": true,
         "textposition": "auto",
         "type": "bar",
         "x": [
          "Lactosylceramide",
          "Lactosylceramide",
          "Lactosylceramide",
          "Lactosylceramide"
         ],
         "xaxis": "x",
         "y": {
          "bdata": "AQEBAQ==",
          "dtype": "i1"
         },
         "yaxis": "y"
        },
        {
         "hovertemplate": "SUPER_PATHWAY=%{x}<br>count=%{y}<extra></extra>",
         "legendgroup": "Lysophosphatidylcholine",
         "marker": {
          "color": "#FF97FF",
          "line": {
           "width": 0
          },
          "pattern": {
           "shape": ""
          }
         },
         "name": "Lysophosphatidylcholine",
         "orientation": "v",
         "showlegend": true,
         "textposition": "auto",
         "type": "bar",
         "x": [
          "Lysophosphatidylcholine",
          "Lysophosphatidylcholine",
          "Lysophosphatidylcholine",
          "Lysophosphatidylcholine",
          "Lysophosphatidylcholine",
          "Lysophosphatidylcholine",
          "Lysophosphatidylcholine",
          "Lysophosphatidylcholine",
          "Lysophosphatidylcholine",
          "Lysophosphatidylcholine",
          "Lysophosphatidylcholine",
          "Lysophosphatidylcholine",
          "Lysophosphatidylcholine",
          "Lysophosphatidylcholine",
          "Lysophosphatidylcholine"
         ],
         "xaxis": "x",
         "y": {
          "bdata": "AQEBAQEBAQEBAQEBAQEB",
          "dtype": "i1"
         },
         "yaxis": "y"
        },
        {
         "hovertemplate": "SUPER_PATHWAY=%{x}<br>count=%{y}<extra></extra>",
         "legendgroup": "Lysophosphatidylethanolamine",
         "marker": {
          "color": "#FECB52",
          "line": {
           "width": 0
          },
          "pattern": {
           "shape": ""
          }
         },
         "name": "Lysophosphatidylethanolamine",
         "orientation": "v",
         "showlegend": true,
         "textposition": "auto",
         "type": "bar",
         "x": [
          "Lysophosphatidylethanolamine",
          "Lysophosphatidylethanolamine",
          "Lysophosphatidylethanolamine",
          "Lysophosphatidylethanolamine",
          "Lysophosphatidylethanolamine",
          "Lysophosphatidylethanolamine"
         ],
         "xaxis": "x",
         "y": {
          "bdata": "AQEBAQEB",
          "dtype": "i1"
         },
         "yaxis": "y"
        },
        {
         "hovertemplate": "SUPER_PATHWAY=%{x}<br>count=%{y}<extra></extra>",
         "legendgroup": "Phosphatidylcholine",
         "marker": {
          "color": "#636efa",
          "line": {
           "width": 0
          },
          "pattern": {
           "shape": ""
          }
         },
         "name": "Phosphatidylcholine",
         "orientation": "v",
         "showlegend": true,
         "textposition": "auto",
         "type": "bar",
         "x": [
          "Phosphatidylcholine",
          "Phosphatidylcholine",
          "Phosphatidylcholine",
          "Phosphatidylcholine",
          "Phosphatidylcholine",
          "Phosphatidylcholine",
          "Phosphatidylcholine",
          "Phosphatidylcholine",
          "Phosphatidylcholine",
          "Phosphatidylcholine",
          "Phosphatidylcholine",
          "Phosphatidylcholine",
          "Phosphatidylcholine",
          "Phosphatidylcholine",
          "Phosphatidylcholine",
          "Phosphatidylcholine",
          "Phosphatidylcholine",
          "Phosphatidylcholine",
          "Phosphatidylcholine",
          "Phosphatidylcholine",
          "Phosphatidylcholine",
          "Phosphatidylcholine",
          "Phosphatidylcholine",
          "Phosphatidylcholine",
          "Phosphatidylcholine",
          "Phosphatidylcholine",
          "Phosphatidylcholine",
          "Phosphatidylcholine",
          "Phosphatidylcholine",
          "Phosphatidylcholine",
          "Phosphatidylcholine",
          "Phosphatidylcholine",
          "Phosphatidylcholine",
          "Phosphatidylcholine",
          "Phosphatidylcholine",
          "Phosphatidylcholine",
          "Phosphatidylcholine",
          "Phosphatidylcholine",
          "Phosphatidylcholine",
          "Phosphatidylcholine",
          "Phosphatidylcholine"
         ],
         "xaxis": "x",
         "y": {
          "bdata": "AQEBAQEBAQEBAQEBAQEBAQEBAQEBAQEBAQEBAQEBAQEBAQEBAQEBAQE=",
          "dtype": "i1"
         },
         "yaxis": "y"
        },
        {
         "hovertemplate": "SUPER_PATHWAY=%{x}<br>count=%{y}<extra></extra>",
         "legendgroup": "Phosphatidylethanolamine",
         "marker": {
          "color": "#EF553B",
          "line": {
           "width": 0
          },
          "pattern": {
           "shape": ""
          }
         },
         "name": "Phosphatidylethanolamine",
         "orientation": "v",
         "showlegend": true,
         "textposition": "auto",
         "type": "bar",
         "x": [
          "Phosphatidylethanolamine",
          "Phosphatidylethanolamine",
          "Phosphatidylethanolamine",
          "Phosphatidylethanolamine",
          "Phosphatidylethanolamine",
          "Phosphatidylethanolamine",
          "Phosphatidylethanolamine",
          "Phosphatidylethanolamine",
          "Phosphatidylethanolamine",
          "Phosphatidylethanolamine",
          "Phosphatidylethanolamine",
          "Phosphatidylethanolamine",
          "Phosphatidylethanolamine",
          "Phosphatidylethanolamine",
          "Phosphatidylethanolamine",
          "Phosphatidylethanolamine",
          "Phosphatidylethanolamine",
          "Phosphatidylethanolamine",
          "Phosphatidylethanolamine",
          "Phosphatidylethanolamine",
          "Phosphatidylethanolamine",
          "Phosphatidylethanolamine",
          "Phosphatidylethanolamine",
          "Phosphatidylethanolamine",
          "Phosphatidylethanolamine",
          "Phosphatidylethanolamine",
          "Phosphatidylethanolamine",
          "Phosphatidylethanolamine",
          "Phosphatidylethanolamine",
          "Phosphatidylethanolamine",
          "Phosphatidylethanolamine",
          "Phosphatidylethanolamine",
          "Phosphatidylethanolamine",
          "Phosphatidylethanolamine",
          "Phosphatidylethanolamine",
          "Phosphatidylethanolamine",
          "Phosphatidylethanolamine"
         ],
         "xaxis": "x",
         "y": {
          "bdata": "AQEBAQEBAQEBAQEBAQEBAQEBAQEBAQEBAQEBAQEBAQEBAQEBAQ==",
          "dtype": "i1"
         },
         "yaxis": "y"
        },
        {
         "hovertemplate": "SUPER_PATHWAY=%{x}<br>count=%{y}<extra></extra>",
         "legendgroup": "PI",
         "marker": {
          "color": "#00cc96",
          "line": {
           "width": 0
          },
          "pattern": {
           "shape": ""
          }
         },
         "name": "PI",
         "orientation": "v",
         "showlegend": true,
         "textposition": "auto",
         "type": "bar",
         "x": [
          "PI",
          "PI",
          "PI",
          "PI",
          "PI"
         ],
         "xaxis": "x",
         "y": {
          "bdata": "AQEBAQE=",
          "dtype": "i1"
         },
         "yaxis": "y"
        },
        {
         "hovertemplate": "SUPER_PATHWAY=%{x}<br>count=%{y}<extra></extra>",
         "legendgroup": "Sphingomyelin",
         "marker": {
          "color": "#ab63fa",
          "line": {
           "width": 0
          },
          "pattern": {
           "shape": ""
          }
         },
         "name": "Sphingomyelin",
         "orientation": "v",
         "showlegend": true,
         "textposition": "auto",
         "type": "bar",
         "x": [
          "Sphingomyelin",
          "Sphingomyelin",
          "Sphingomyelin",
          "Sphingomyelin",
          "Sphingomyelin",
          "Sphingomyelin",
          "Sphingomyelin",
          "Sphingomyelin",
          "Sphingomyelin",
          "Sphingomyelin",
          "Sphingomyelin",
          "Sphingomyelin"
         ],
         "xaxis": "x",
         "y": {
          "bdata": "AQEBAQEBAQEBAQEB",
          "dtype": "i1"
         },
         "yaxis": "y"
        },
        {
         "hovertemplate": "SUPER_PATHWAY=%{x}<br>count=%{y}<extra></extra>",
         "legendgroup": "Triacylglycerol",
         "marker": {
          "color": "#FFA15A",
          "line": {
           "width": 0
          },
          "pattern": {
           "shape": ""
          }
         },
         "name": "Triacylglycerol",
         "orientation": "v",
         "showlegend": true,
         "textposition": "auto",
         "type": "bar",
         "x": [
          "Triacylglycerol",
          "Triacylglycerol",
          "Triacylglycerol",
          "Triacylglycerol",
          "Triacylglycerol",
          "Triacylglycerol",
          "Triacylglycerol",
          "Triacylglycerol",
          "Triacylglycerol",
          "Triacylglycerol",
          "Triacylglycerol",
          "Triacylglycerol",
          "Triacylglycerol",
          "Triacylglycerol",
          "Triacylglycerol",
          "Triacylglycerol",
          "Triacylglycerol",
          "Triacylglycerol",
          "Triacylglycerol",
          "Triacylglycerol",
          "Triacylglycerol",
          "Triacylglycerol",
          "Triacylglycerol",
          "Triacylglycerol",
          "Triacylglycerol",
          "Triacylglycerol",
          "Triacylglycerol",
          "Triacylglycerol",
          "Triacylglycerol",
          "Triacylglycerol",
          "Triacylglycerol",
          "Triacylglycerol",
          "Triacylglycerol",
          "Triacylglycerol",
          "Triacylglycerol",
          "Triacylglycerol",
          "Triacylglycerol",
          "Triacylglycerol",
          "Triacylglycerol",
          "Triacylglycerol",
          "Triacylglycerol",
          "Triacylglycerol",
          "Triacylglycerol",
          "Triacylglycerol",
          "Triacylglycerol",
          "Triacylglycerol",
          "Triacylglycerol",
          "Triacylglycerol",
          "Triacylglycerol",
          "Triacylglycerol",
          "Triacylglycerol",
          "Triacylglycerol",
          "Triacylglycerol",
          "Triacylglycerol",
          "Triacylglycerol",
          "Triacylglycerol",
          "Triacylglycerol",
          "Triacylglycerol",
          "Triacylglycerol",
          "Triacylglycerol",
          "Triacylglycerol",
          "Triacylglycerol",
          "Triacylglycerol",
          "Triacylglycerol",
          "Triacylglycerol",
          "Triacylglycerol",
          "Triacylglycerol",
          "Triacylglycerol",
          "Triacylglycerol",
          "Triacylglycerol",
          "Triacylglycerol",
          "Triacylglycerol",
          "Triacylglycerol",
          "Triacylglycerol",
          "Triacylglycerol",
          "Triacylglycerol",
          "Triacylglycerol",
          "Triacylglycerol",
          "Triacylglycerol",
          "Triacylglycerol",
          "Triacylglycerol",
          "Triacylglycerol",
          "Triacylglycerol",
          "Triacylglycerol",
          "Triacylglycerol",
          "Triacylglycerol",
          "Triacylglycerol",
          "Triacylglycerol",
          "Triacylglycerol",
          "Triacylglycerol",
          "Triacylglycerol",
          "Triacylglycerol",
          "Triacylglycerol",
          "Triacylglycerol",
          "Triacylglycerol",
          "Triacylglycerol",
          "Triacylglycerol",
          "Triacylglycerol",
          "Triacylglycerol",
          "Triacylglycerol",
          "Triacylglycerol",
          "Triacylglycerol",
          "Triacylglycerol",
          "Triacylglycerol",
          "Triacylglycerol",
          "Triacylglycerol",
          "Triacylglycerol",
          "Triacylglycerol",
          "Triacylglycerol",
          "Triacylglycerol",
          "Triacylglycerol",
          "Triacylglycerol",
          "Triacylglycerol",
          "Triacylglycerol",
          "Triacylglycerol",
          "Triacylglycerol",
          "Triacylglycerol",
          "Triacylglycerol",
          "Triacylglycerol",
          "Triacylglycerol",
          "Triacylglycerol",
          "Triacylglycerol",
          "Triacylglycerol",
          "Triacylglycerol",
          "Triacylglycerol",
          "Triacylglycerol",
          "Triacylglycerol",
          "Triacylglycerol",
          "Triacylglycerol",
          "Triacylglycerol",
          "Triacylglycerol",
          "Triacylglycerol",
          "Triacylglycerol",
          "Triacylglycerol",
          "Triacylglycerol",
          "Triacylglycerol",
          "Triacylglycerol",
          "Triacylglycerol",
          "Triacylglycerol",
          "Triacylglycerol",
          "Triacylglycerol",
          "Triacylglycerol",
          "Triacylglycerol",
          "Triacylglycerol",
          "Triacylglycerol",
          "Triacylglycerol",
          "Triacylglycerol",
          "Triacylglycerol",
          "Triacylglycerol",
          "Triacylglycerol",
          "Triacylglycerol",
          "Triacylglycerol",
          "Triacylglycerol",
          "Triacylglycerol",
          "Triacylglycerol",
          "Triacylglycerol",
          "Triacylglycerol",
          "Triacylglycerol",
          "Triacylglycerol",
          "Triacylglycerol",
          "Triacylglycerol",
          "Triacylglycerol",
          "Triacylglycerol",
          "Triacylglycerol",
          "Triacylglycerol",
          "Triacylglycerol",
          "Triacylglycerol",
          "Triacylglycerol",
          "Triacylglycerol",
          "Triacylglycerol",
          "Triacylglycerol",
          "Triacylglycerol",
          "Triacylglycerol",
          "Triacylglycerol",
          "Triacylglycerol",
          "Triacylglycerol",
          "Triacylglycerol",
          "Triacylglycerol",
          "Triacylglycerol",
          "Triacylglycerol",
          "Triacylglycerol",
          "Triacylglycerol",
          "Triacylglycerol",
          "Triacylglycerol",
          "Triacylglycerol",
          "Triacylglycerol",
          "Triacylglycerol",
          "Triacylglycerol",
          "Triacylglycerol",
          "Triacylglycerol",
          "Triacylglycerol",
          "Triacylglycerol",
          "Triacylglycerol",
          "Triacylglycerol",
          "Triacylglycerol",
          "Triacylglycerol",
          "Triacylglycerol",
          "Triacylglycerol",
          "Triacylglycerol",
          "Triacylglycerol",
          "Triacylglycerol",
          "Triacylglycerol",
          "Triacylglycerol",
          "Triacylglycerol",
          "Triacylglycerol",
          "Triacylglycerol",
          "Triacylglycerol",
          "Triacylglycerol",
          "Triacylglycerol",
          "Triacylglycerol",
          "Triacylglycerol",
          "Triacylglycerol",
          "Triacylglycerol",
          "Triacylglycerol",
          "Triacylglycerol",
          "Triacylglycerol",
          "Triacylglycerol",
          "Triacylglycerol",
          "Triacylglycerol",
          "Triacylglycerol",
          "Triacylglycerol",
          "Triacylglycerol",
          "Triacylglycerol",
          "Triacylglycerol",
          "Triacylglycerol",
          "Triacylglycerol",
          "Triacylglycerol",
          "Triacylglycerol",
          "Triacylglycerol",
          "Triacylglycerol",
          "Triacylglycerol",
          "Triacylglycerol",
          "Triacylglycerol",
          "Triacylglycerol",
          "Triacylglycerol",
          "Triacylglycerol",
          "Triacylglycerol",
          "Triacylglycerol",
          "Triacylglycerol",
          "Triacylglycerol",
          "Triacylglycerol",
          "Triacylglycerol",
          "Triacylglycerol",
          "Triacylglycerol",
          "Triacylglycerol",
          "Triacylglycerol",
          "Triacylglycerol",
          "Triacylglycerol",
          "Triacylglycerol",
          "Triacylglycerol",
          "Triacylglycerol",
          "Triacylglycerol",
          "Triacylglycerol",
          "Triacylglycerol",
          "Triacylglycerol",
          "Triacylglycerol",
          "Triacylglycerol",
          "Triacylglycerol",
          "Triacylglycerol",
          "Triacylglycerol",
          "Triacylglycerol",
          "Triacylglycerol",
          "Triacylglycerol",
          "Triacylglycerol",
          "Triacylglycerol",
          "Triacylglycerol",
          "Triacylglycerol",
          "Triacylglycerol",
          "Triacylglycerol",
          "Triacylglycerol",
          "Triacylglycerol",
          "Triacylglycerol",
          "Triacylglycerol",
          "Triacylglycerol",
          "Triacylglycerol",
          "Triacylglycerol",
          "Triacylglycerol",
          "Triacylglycerol",
          "Triacylglycerol",
          "Triacylglycerol",
          "Triacylglycerol",
          "Triacylglycerol",
          "Triacylglycerol",
          "Triacylglycerol",
          "Triacylglycerol",
          "Triacylglycerol",
          "Triacylglycerol",
          "Triacylglycerol",
          "Triacylglycerol",
          "Triacylglycerol",
          "Triacylglycerol",
          "Triacylglycerol",
          "Triacylglycerol",
          "Triacylglycerol",
          "Triacylglycerol",
          "Triacylglycerol",
          "Triacylglycerol",
          "Triacylglycerol",
          "Triacylglycerol",
          "Triacylglycerol",
          "Triacylglycerol",
          "Triacylglycerol",
          "Triacylglycerol",
          "Triacylglycerol",
          "Triacylglycerol",
          "Triacylglycerol",
          "Triacylglycerol",
          "Triacylglycerol",
          "Triacylglycerol",
          "Triacylglycerol",
          "Triacylglycerol",
          "Triacylglycerol",
          "Triacylglycerol",
          "Triacylglycerol",
          "Triacylglycerol",
          "Triacylglycerol",
          "Triacylglycerol",
          "Triacylglycerol",
          "Triacylglycerol",
          "Triacylglycerol",
          "Triacylglycerol",
          "Triacylglycerol",
          "Triacylglycerol",
          "Triacylglycerol",
          "Triacylglycerol",
          "Triacylglycerol",
          "Triacylglycerol",
          "Triacylglycerol",
          "Triacylglycerol",
          "Triacylglycerol",
          "Triacylglycerol",
          "Triacylglycerol",
          "Triacylglycerol",
          "Triacylglycerol",
          "Triacylglycerol",
          "Triacylglycerol",
          "Triacylglycerol",
          "Triacylglycerol",
          "Triacylglycerol",
          "Triacylglycerol",
          "Triacylglycerol",
          "Triacylglycerol",
          "Triacylglycerol",
          "Triacylglycerol",
          "Triacylglycerol",
          "Triacylglycerol",
          "Triacylglycerol",
          "Triacylglycerol",
          "Triacylglycerol",
          "Triacylglycerol",
          "Triacylglycerol",
          "Triacylglycerol",
          "Triacylglycerol",
          "Triacylglycerol",
          "Triacylglycerol",
          "Triacylglycerol",
          "Triacylglycerol",
          "Triacylglycerol",
          "Triacylglycerol",
          "Triacylglycerol",
          "Triacylglycerol",
          "Triacylglycerol",
          "Triacylglycerol",
          "Triacylglycerol",
          "Triacylglycerol",
          "Triacylglycerol",
          "Triacylglycerol",
          "Triacylglycerol",
          "Triacylglycerol",
          "Triacylglycerol",
          "Triacylglycerol",
          "Triacylglycerol",
          "Triacylglycerol",
          "Triacylglycerol",
          "Triacylglycerol",
          "Triacylglycerol",
          "Triacylglycerol",
          "Triacylglycerol",
          "Triacylglycerol",
          "Triacylglycerol",
          "Triacylglycerol",
          "Triacylglycerol",
          "Triacylglycerol",
          "Triacylglycerol",
          "Triacylglycerol",
          "Triacylglycerol",
          "Triacylglycerol",
          "Triacylglycerol",
          "Triacylglycerol",
          "Triacylglycerol",
          "Triacylglycerol",
          "Triacylglycerol",
          "Triacylglycerol",
          "Triacylglycerol",
          "Triacylglycerol",
          "Triacylglycerol",
          "Triacylglycerol",
          "Triacylglycerol",
          "Triacylglycerol",
          "Triacylglycerol",
          "Triacylglycerol",
          "Triacylglycerol",
          "Triacylglycerol",
          "Triacylglycerol",
          "Triacylglycerol",
          "Triacylglycerol",
          "Triacylglycerol",
          "Triacylglycerol",
          "Triacylglycerol",
          "Triacylglycerol",
          "Triacylglycerol",
          "Triacylglycerol",
          "Triacylglycerol",
          "Triacylglycerol",
          "Triacylglycerol",
          "Triacylglycerol",
          "Triacylglycerol",
          "Triacylglycerol",
          "Triacylglycerol",
          "Triacylglycerol",
          "Triacylglycerol",
          "Triacylglycerol",
          "Triacylglycerol",
          "Triacylglycerol",
          "Triacylglycerol",
          "Triacylglycerol",
          "Triacylglycerol",
          "Triacylglycerol",
          "Triacylglycerol",
          "Triacylglycerol",
          "Triacylglycerol",
          "Triacylglycerol",
          "Triacylglycerol",
          "Triacylglycerol",
          "Triacylglycerol",
          "Triacylglycerol",
          "Triacylglycerol",
          "Triacylglycerol",
          "Triacylglycerol",
          "Triacylglycerol",
          "Triacylglycerol",
          "Triacylglycerol",
          "Triacylglycerol",
          "Triacylglycerol",
          "Triacylglycerol",
          "Triacylglycerol",
          "Triacylglycerol",
          "Triacylglycerol",
          "Triacylglycerol",
          "Triacylglycerol",
          "Triacylglycerol",
          "Triacylglycerol",
          "Triacylglycerol",
          "Triacylglycerol",
          "Triacylglycerol",
          "Triacylglycerol",
          "Triacylglycerol",
          "Triacylglycerol",
          "Triacylglycerol",
          "Triacylglycerol",
          "Triacylglycerol",
          "Triacylglycerol",
          "Triacylglycerol",
          "Triacylglycerol",
          "Triacylglycerol",
          "Triacylglycerol",
          "Triacylglycerol",
          "Triacylglycerol",
          "Triacylglycerol",
          "Triacylglycerol",
          "Triacylglycerol",
          "Triacylglycerol",
          "Triacylglycerol",
          "Triacylglycerol",
          "Triacylglycerol",
          "Triacylglycerol",
          "Triacylglycerol",
          "Triacylglycerol",
          "Triacylglycerol",
          "Triacylglycerol",
          "Triacylglycerol",
          "Triacylglycerol",
          "Triacylglycerol",
          "Triacylglycerol",
          "Triacylglycerol",
          "Triacylglycerol",
          "Triacylglycerol",
          "Triacylglycerol",
          "Triacylglycerol",
          "Triacylglycerol"
         ],
         "xaxis": "x",
         "y": {
          "bdata": "AQEBAQEBAQEBAQEBAQEBAQEBAQEBAQEBAQEBAQEBAQEBAQEBAQEBAQEBAQEBAQEBAQEBAQEBAQEBAQEBAQEBAQEBAQEBAQEBAQEBAQEBAQEBAQEBAQEBAQEBAQEBAQEBAQEBAQEBAQEBAQEBAQEBAQEBAQEBAQEBAQEBAQEBAQEBAQEBAQEBAQEBAQEBAQEBAQEBAQEBAQEBAQEBAQEBAQEBAQEBAQEBAQEBAQEBAQEBAQEBAQEBAQEBAQEBAQEBAQEBAQEBAQEBAQEBAQEBAQEBAQEBAQEBAQEBAQEBAQEBAQEBAQEBAQEBAQEBAQEBAQEBAQEBAQEBAQEBAQEBAQEBAQEBAQEBAQEBAQEBAQEBAQEBAQEBAQEBAQEBAQEBAQEBAQEBAQEBAQEBAQEBAQEBAQEBAQEBAQEBAQEBAQEBAQEBAQEBAQEBAQEBAQEBAQEBAQEBAQEBAQEBAQEBAQEBAQEBAQEBAQEBAQEBAQEBAQEBAQEBAQEBAQEBAQEBAQEBAQEBAQEBAQEBAQEBAQEBAQEBAQEBAQEBAQEBAQEBAQEBAQEBAQEBAQEBAQEBAQEBAQEBAQEBAQEBAQEBAQEBAQEBAQEBAQEBAQEBAQEBAQEBAQEBAQEBAQEBAQEBAQEBAQEBAQEBAQ==",
          "dtype": "i1"
         },
         "yaxis": "y"
        },
        {
         "hovertemplate": "SUPER_PATHWAY=%{x}<br>count=%{y}<extra></extra>",
         "legendgroup": ".",
         "marker": {
          "color": "#19d3f3",
          "line": {
           "width": 0
          },
          "pattern": {
           "shape": ""
          }
         },
         "name": ".",
         "orientation": "v",
         "showlegend": true,
         "textposition": "auto",
         "type": "bar",
         "x": [
          ".",
          ".",
          ".",
          ".",
          ".",
          ".",
          ".",
          ".",
          ".",
          ".",
          ".",
          ".",
          ".",
          ".",
          ".",
          ".",
          ".",
          ".",
          ".",
          ".",
          ".",
          ".",
          ".",
          ".",
          ".",
          ".",
          ".",
          ".",
          ".",
          ".",
          ".",
          ".",
          ".",
          ".",
          ".",
          ".",
          ".",
          ".",
          ".",
          ".",
          ".",
          ".",
          ".",
          ".",
          ".",
          ".",
          ".",
          ".",
          ".",
          ".",
          ".",
          ".",
          ".",
          ".",
          ".",
          ".",
          ".",
          ".",
          ".",
          ".",
          ".",
          ".",
          ".",
          ".",
          ".",
          ".",
          ".",
          ".",
          ".",
          ".",
          ".",
          ".",
          ".",
          ".",
          ".",
          ".",
          ".",
          ".",
          ".",
          ".",
          ".",
          ".",
          ".",
          ".",
          ".",
          ".",
          ".",
          ".",
          ".",
          ".",
          ".",
          ".",
          ".",
          ".",
          ".",
          ".",
          ".",
          ".",
          ".",
          ".",
          ".",
          ".",
          ".",
          ".",
          ".",
          ".",
          ".",
          ".",
          ".",
          ".",
          ".",
          ".",
          ".",
          ".",
          ".",
          ".",
          ".",
          ".",
          ".",
          ".",
          ".",
          ".",
          ".",
          ".",
          ".",
          ".",
          ".",
          ".",
          ".",
          ".",
          ".",
          ".",
          ".",
          ".",
          ".",
          ".",
          ".",
          ".",
          ".",
          ".",
          ".",
          ".",
          ".",
          ".",
          ".",
          ".",
          ".",
          ".",
          ".",
          ".",
          ".",
          ".",
          ".",
          ".",
          ".",
          ".",
          ".",
          ".",
          ".",
          ".",
          ".",
          ".",
          ".",
          ".",
          ".",
          ".",
          ".",
          ".",
          ".",
          ".",
          ".",
          ".",
          ".",
          ".",
          ".",
          ".",
          ".",
          ".",
          ".",
          ".",
          ".",
          ".",
          ".",
          ".",
          ".",
          ".",
          ".",
          ".",
          ".",
          ".",
          ".",
          ".",
          ".",
          ".",
          ".",
          ".",
          ".",
          ".",
          ".",
          ".",
          ".",
          ".",
          ".",
          ".",
          ".",
          ".",
          ".",
          ".",
          ".",
          ".",
          ".",
          ".",
          ".",
          ".",
          ".",
          ".",
          ".",
          ".",
          ".",
          ".",
          ".",
          ".",
          ".",
          ".",
          ".",
          ".",
          ".",
          ".",
          ".",
          ".",
          ".",
          ".",
          ".",
          ".",
          ".",
          ".",
          ".",
          ".",
          ".",
          ".",
          ".",
          ".",
          ".",
          ".",
          ".",
          ".",
          ".",
          ".",
          ".",
          ".",
          ".",
          ".",
          ".",
          ".",
          ".",
          ".",
          ".",
          ".",
          ".",
          "."
         ],
         "xaxis": "x",
         "y": {
          "bdata": "AQEBAQEBAQEBAQEBAQEBAQEBAQEBAQEBAQEBAQEBAQEBAQEBAQEBAQEBAQEBAQEBAQEBAQEBAQEBAQEBAQEBAQEBAQEBAQEBAQEBAQEBAQEBAQEBAQEBAQEBAQEBAQEBAQEBAQEBAQEBAQEBAQEBAQEBAQEBAQEBAQEBAQEBAQEBAQEBAQEBAQEBAQEBAQEBAQEBAQEBAQEBAQEBAQEBAQEBAQEBAQEBAQEBAQEBAQEBAQEBAQEBAQEBAQEBAQEBAQEBAQEBAQEBAQEBAQEBAQEBAQEBAQEBAQEBAQEBAQEBAQEBAQEBAQEBAQEBAQEBAQEBAQEBAQEBAQEBAQEBAQEBAQE=",
          "dtype": "i1"
         },
         "yaxis": "y"
        }
       ],
       "layout": {
        "barmode": "relative",
        "legend": {
         "title": {
          "text": "SUPER_PATHWAY"
         },
         "tracegroupgap": 0
        },
        "margin": {
         "t": 60
        },
        "template": {
         "data": {
          "bar": [
           {
            "error_x": {
             "color": "#2a3f5f"
            },
            "error_y": {
             "color": "#2a3f5f"
            },
            "marker": {
             "line": {
              "color": "#E5ECF6",
              "width": 0.5
             },
             "pattern": {
              "fillmode": "overlay",
              "size": 10,
              "solidity": 0.2
             }
            },
            "type": "bar"
           }
          ],
          "barpolar": [
           {
            "marker": {
             "line": {
              "color": "#E5ECF6",
              "width": 0.5
             },
             "pattern": {
              "fillmode": "overlay",
              "size": 10,
              "solidity": 0.2
             }
            },
            "type": "barpolar"
           }
          ],
          "carpet": [
           {
            "aaxis": {
             "endlinecolor": "#2a3f5f",
             "gridcolor": "white",
             "linecolor": "white",
             "minorgridcolor": "white",
             "startlinecolor": "#2a3f5f"
            },
            "baxis": {
             "endlinecolor": "#2a3f5f",
             "gridcolor": "white",
             "linecolor": "white",
             "minorgridcolor": "white",
             "startlinecolor": "#2a3f5f"
            },
            "type": "carpet"
           }
          ],
          "choropleth": [
           {
            "colorbar": {
             "outlinewidth": 0,
             "ticks": ""
            },
            "type": "choropleth"
           }
          ],
          "contour": [
           {
            "colorbar": {
             "outlinewidth": 0,
             "ticks": ""
            },
            "colorscale": [
             [
              0,
              "#0d0887"
             ],
             [
              0.1111111111111111,
              "#46039f"
             ],
             [
              0.2222222222222222,
              "#7201a8"
             ],
             [
              0.3333333333333333,
              "#9c179e"
             ],
             [
              0.4444444444444444,
              "#bd3786"
             ],
             [
              0.5555555555555556,
              "#d8576b"
             ],
             [
              0.6666666666666666,
              "#ed7953"
             ],
             [
              0.7777777777777778,
              "#fb9f3a"
             ],
             [
              0.8888888888888888,
              "#fdca26"
             ],
             [
              1,
              "#f0f921"
             ]
            ],
            "type": "contour"
           }
          ],
          "contourcarpet": [
           {
            "colorbar": {
             "outlinewidth": 0,
             "ticks": ""
            },
            "type": "contourcarpet"
           }
          ],
          "heatmap": [
           {
            "colorbar": {
             "outlinewidth": 0,
             "ticks": ""
            },
            "colorscale": [
             [
              0,
              "#0d0887"
             ],
             [
              0.1111111111111111,
              "#46039f"
             ],
             [
              0.2222222222222222,
              "#7201a8"
             ],
             [
              0.3333333333333333,
              "#9c179e"
             ],
             [
              0.4444444444444444,
              "#bd3786"
             ],
             [
              0.5555555555555556,
              "#d8576b"
             ],
             [
              0.6666666666666666,
              "#ed7953"
             ],
             [
              0.7777777777777778,
              "#fb9f3a"
             ],
             [
              0.8888888888888888,
              "#fdca26"
             ],
             [
              1,
              "#f0f921"
             ]
            ],
            "type": "heatmap"
           }
          ],
          "histogram": [
           {
            "marker": {
             "pattern": {
              "fillmode": "overlay",
              "size": 10,
              "solidity": 0.2
             }
            },
            "type": "histogram"
           }
          ],
          "histogram2d": [
           {
            "colorbar": {
             "outlinewidth": 0,
             "ticks": ""
            },
            "colorscale": [
             [
              0,
              "#0d0887"
             ],
             [
              0.1111111111111111,
              "#46039f"
             ],
             [
              0.2222222222222222,
              "#7201a8"
             ],
             [
              0.3333333333333333,
              "#9c179e"
             ],
             [
              0.4444444444444444,
              "#bd3786"
             ],
             [
              0.5555555555555556,
              "#d8576b"
             ],
             [
              0.6666666666666666,
              "#ed7953"
             ],
             [
              0.7777777777777778,
              "#fb9f3a"
             ],
             [
              0.8888888888888888,
              "#fdca26"
             ],
             [
              1,
              "#f0f921"
             ]
            ],
            "type": "histogram2d"
           }
          ],
          "histogram2dcontour": [
           {
            "colorbar": {
             "outlinewidth": 0,
             "ticks": ""
            },
            "colorscale": [
             [
              0,
              "#0d0887"
             ],
             [
              0.1111111111111111,
              "#46039f"
             ],
             [
              0.2222222222222222,
              "#7201a8"
             ],
             [
              0.3333333333333333,
              "#9c179e"
             ],
             [
              0.4444444444444444,
              "#bd3786"
             ],
             [
              0.5555555555555556,
              "#d8576b"
             ],
             [
              0.6666666666666666,
              "#ed7953"
             ],
             [
              0.7777777777777778,
              "#fb9f3a"
             ],
             [
              0.8888888888888888,
              "#fdca26"
             ],
             [
              1,
              "#f0f921"
             ]
            ],
            "type": "histogram2dcontour"
           }
          ],
          "mesh3d": [
           {
            "colorbar": {
             "outlinewidth": 0,
             "ticks": ""
            },
            "type": "mesh3d"
           }
          ],
          "parcoords": [
           {
            "line": {
             "colorbar": {
              "outlinewidth": 0,
              "ticks": ""
             }
            },
            "type": "parcoords"
           }
          ],
          "pie": [
           {
            "automargin": true,
            "type": "pie"
           }
          ],
          "scatter": [
           {
            "fillpattern": {
             "fillmode": "overlay",
             "size": 10,
             "solidity": 0.2
            },
            "type": "scatter"
           }
          ],
          "scatter3d": [
           {
            "line": {
             "colorbar": {
              "outlinewidth": 0,
              "ticks": ""
             }
            },
            "marker": {
             "colorbar": {
              "outlinewidth": 0,
              "ticks": ""
             }
            },
            "type": "scatter3d"
           }
          ],
          "scattercarpet": [
           {
            "marker": {
             "colorbar": {
              "outlinewidth": 0,
              "ticks": ""
             }
            },
            "type": "scattercarpet"
           }
          ],
          "scattergeo": [
           {
            "marker": {
             "colorbar": {
              "outlinewidth": 0,
              "ticks": ""
             }
            },
            "type": "scattergeo"
           }
          ],
          "scattergl": [
           {
            "marker": {
             "colorbar": {
              "outlinewidth": 0,
              "ticks": ""
             }
            },
            "type": "scattergl"
           }
          ],
          "scattermap": [
           {
            "marker": {
             "colorbar": {
              "outlinewidth": 0,
              "ticks": ""
             }
            },
            "type": "scattermap"
           }
          ],
          "scattermapbox": [
           {
            "marker": {
             "colorbar": {
              "outlinewidth": 0,
              "ticks": ""
             }
            },
            "type": "scattermapbox"
           }
          ],
          "scatterpolar": [
           {
            "marker": {
             "colorbar": {
              "outlinewidth": 0,
              "ticks": ""
             }
            },
            "type": "scatterpolar"
           }
          ],
          "scatterpolargl": [
           {
            "marker": {
             "colorbar": {
              "outlinewidth": 0,
              "ticks": ""
             }
            },
            "type": "scatterpolargl"
           }
          ],
          "scatterternary": [
           {
            "marker": {
             "colorbar": {
              "outlinewidth": 0,
              "ticks": ""
             }
            },
            "type": "scatterternary"
           }
          ],
          "surface": [
           {
            "colorbar": {
             "outlinewidth": 0,
             "ticks": ""
            },
            "colorscale": [
             [
              0,
              "#0d0887"
             ],
             [
              0.1111111111111111,
              "#46039f"
             ],
             [
              0.2222222222222222,
              "#7201a8"
             ],
             [
              0.3333333333333333,
              "#9c179e"
             ],
             [
              0.4444444444444444,
              "#bd3786"
             ],
             [
              0.5555555555555556,
              "#d8576b"
             ],
             [
              0.6666666666666666,
              "#ed7953"
             ],
             [
              0.7777777777777778,
              "#fb9f3a"
             ],
             [
              0.8888888888888888,
              "#fdca26"
             ],
             [
              1,
              "#f0f921"
             ]
            ],
            "type": "surface"
           }
          ],
          "table": [
           {
            "cells": {
             "fill": {
              "color": "#EBF0F8"
             },
             "line": {
              "color": "white"
             }
            },
            "header": {
             "fill": {
              "color": "#C8D4E3"
             },
             "line": {
              "color": "white"
             }
            },
            "type": "table"
           }
          ]
         },
         "layout": {
          "annotationdefaults": {
           "arrowcolor": "#2a3f5f",
           "arrowhead": 0,
           "arrowwidth": 1
          },
          "autotypenumbers": "strict",
          "coloraxis": {
           "colorbar": {
            "outlinewidth": 0,
            "ticks": ""
           }
          },
          "colorscale": {
           "diverging": [
            [
             0,
             "#8e0152"
            ],
            [
             0.1,
             "#c51b7d"
            ],
            [
             0.2,
             "#de77ae"
            ],
            [
             0.3,
             "#f1b6da"
            ],
            [
             0.4,
             "#fde0ef"
            ],
            [
             0.5,
             "#f7f7f7"
            ],
            [
             0.6,
             "#e6f5d0"
            ],
            [
             0.7,
             "#b8e186"
            ],
            [
             0.8,
             "#7fbc41"
            ],
            [
             0.9,
             "#4d9221"
            ],
            [
             1,
             "#276419"
            ]
           ],
           "sequential": [
            [
             0,
             "#0d0887"
            ],
            [
             0.1111111111111111,
             "#46039f"
            ],
            [
             0.2222222222222222,
             "#7201a8"
            ],
            [
             0.3333333333333333,
             "#9c179e"
            ],
            [
             0.4444444444444444,
             "#bd3786"
            ],
            [
             0.5555555555555556,
             "#d8576b"
            ],
            [
             0.6666666666666666,
             "#ed7953"
            ],
            [
             0.7777777777777778,
             "#fb9f3a"
            ],
            [
             0.8888888888888888,
             "#fdca26"
            ],
            [
             1,
             "#f0f921"
            ]
           ],
           "sequentialminus": [
            [
             0,
             "#0d0887"
            ],
            [
             0.1111111111111111,
             "#46039f"
            ],
            [
             0.2222222222222222,
             "#7201a8"
            ],
            [
             0.3333333333333333,
             "#9c179e"
            ],
            [
             0.4444444444444444,
             "#bd3786"
            ],
            [
             0.5555555555555556,
             "#d8576b"
            ],
            [
             0.6666666666666666,
             "#ed7953"
            ],
            [
             0.7777777777777778,
             "#fb9f3a"
            ],
            [
             0.8888888888888888,
             "#fdca26"
            ],
            [
             1,
             "#f0f921"
            ]
           ]
          },
          "colorway": [
           "#636efa",
           "#EF553B",
           "#00cc96",
           "#ab63fa",
           "#FFA15A",
           "#19d3f3",
           "#FF6692",
           "#B6E880",
           "#FF97FF",
           "#FECB52"
          ],
          "font": {
           "color": "#2a3f5f"
          },
          "geo": {
           "bgcolor": "white",
           "lakecolor": "white",
           "landcolor": "#E5ECF6",
           "showlakes": true,
           "showland": true,
           "subunitcolor": "white"
          },
          "hoverlabel": {
           "align": "left"
          },
          "hovermode": "closest",
          "mapbox": {
           "style": "light"
          },
          "paper_bgcolor": "white",
          "plot_bgcolor": "#E5ECF6",
          "polar": {
           "angularaxis": {
            "gridcolor": "white",
            "linecolor": "white",
            "ticks": ""
           },
           "bgcolor": "#E5ECF6",
           "radialaxis": {
            "gridcolor": "white",
            "linecolor": "white",
            "ticks": ""
           }
          },
          "scene": {
           "xaxis": {
            "backgroundcolor": "#E5ECF6",
            "gridcolor": "white",
            "gridwidth": 2,
            "linecolor": "white",
            "showbackground": true,
            "ticks": "",
            "zerolinecolor": "white"
           },
           "yaxis": {
            "backgroundcolor": "#E5ECF6",
            "gridcolor": "white",
            "gridwidth": 2,
            "linecolor": "white",
            "showbackground": true,
            "ticks": "",
            "zerolinecolor": "white"
           },
           "zaxis": {
            "backgroundcolor": "#E5ECF6",
            "gridcolor": "white",
            "gridwidth": 2,
            "linecolor": "white",
            "showbackground": true,
            "ticks": "",
            "zerolinecolor": "white"
           }
          },
          "shapedefaults": {
           "line": {
            "color": "#2a3f5f"
           }
          },
          "ternary": {
           "aaxis": {
            "gridcolor": "white",
            "linecolor": "white",
            "ticks": ""
           },
           "baxis": {
            "gridcolor": "white",
            "linecolor": "white",
            "ticks": ""
           },
           "bgcolor": "#E5ECF6",
           "caxis": {
            "gridcolor": "white",
            "linecolor": "white",
            "ticks": ""
           }
          },
          "title": {
           "x": 0.05
          },
          "xaxis": {
           "automargin": true,
           "gridcolor": "white",
           "linecolor": "white",
           "ticks": "",
           "title": {
            "standoff": 15
           },
           "zerolinecolor": "white",
           "zerolinewidth": 2
          },
          "yaxis": {
           "automargin": true,
           "gridcolor": "white",
           "linecolor": "white",
           "ticks": "",
           "title": {
            "standoff": 15
           },
           "zerolinecolor": "white",
           "zerolinewidth": 2
          }
         }
        },
        "xaxis": {
         "anchor": "y",
         "categoryarray": [
          "Amino Acid",
          "Peptide",
          "Carbohydrate",
          "Energy",
          "Lipid",
          "Nucleotide",
          "Cofactors and Vitamins",
          "Xenobiotics",
          "Neutral Complex Lipids",
          "Phospholipids",
          "Sphingolipids",
          "Cholesterol Ester",
          "Ceramides",
          "Diacylglycerol",
          "Dihydroceramides",
          "Free Fatty Acids",
          "Hexosylceramides",
          "Lactosylceramide",
          "Lysophosphatidylcholine",
          "Lysophosphatidylethanolamine",
          "Phosphatidylcholine",
          "Phosphatidylethanolamine",
          "PI",
          "Sphingomyelin",
          "Triacylglycerol",
          "."
         ],
         "categoryorder": "array",
         "domain": [
          0,
          1
         ],
         "title": {
          "text": "SUPER_PATHWAY"
         }
        },
        "yaxis": {
         "anchor": "x",
         "domain": [
          0,
          1
         ],
         "title": {
          "text": "count"
         }
        }
       }
      },
      "text/html": [
       "<div>            <script src=\"https://cdnjs.cloudflare.com/ajax/libs/mathjax/2.7.5/MathJax.js?config=TeX-AMS-MML_SVG\"></script><script type=\"text/javascript\">if (window.MathJax && window.MathJax.Hub && window.MathJax.Hub.Config) {window.MathJax.Hub.Config({SVG: {font: \"STIX-Web\"}});}</script>                <script type=\"text/javascript\">window.PlotlyConfig = {MathJaxConfig: 'local'};</script>\n",
       "        <script charset=\"utf-8\" src=\"https://cdn.plot.ly/plotly-3.1.1.min.js\" integrity=\"sha256-HUEFyfiTnZJxCxur99FjbKYTvKSzwDaD3/x5TqHpFu4=\" crossorigin=\"anonymous\"></script>                <div id=\"23a04b03-ca52-48ba-bce2-6e8b0a972a99\" class=\"plotly-graph-div\" style=\"height:525px; width:100%;\"></div>            <script type=\"text/javascript\">                window.PLOTLYENV=window.PLOTLYENV || {};                                if (document.getElementById(\"23a04b03-ca52-48ba-bce2-6e8b0a972a99\")) {                    Plotly.newPlot(                        \"23a04b03-ca52-48ba-bce2-6e8b0a972a99\",                        [{\"hovertemplate\":\"SUPER_PATHWAY=%{x}\\u003cbr\\u003ecount=%{y}\\u003cextra\\u003e\\u003c\\u002fextra\\u003e\",\"legendgroup\":\"Amino Acid\",\"marker\":{\"color\":\"#636efa\",\"pattern\":{\"shape\":\"\"},\"line\":{\"width\":0}},\"name\":\"Amino Acid\",\"orientation\":\"v\",\"showlegend\":true,\"textposition\":\"auto\",\"x\":[\"Amino Acid\",\"Amino Acid\",\"Amino Acid\",\"Amino Acid\",\"Amino Acid\",\"Amino Acid\",\"Amino Acid\",\"Amino Acid\",\"Amino Acid\",\"Amino Acid\",\"Amino Acid\",\"Amino Acid\",\"Amino Acid\",\"Amino Acid\",\"Amino Acid\",\"Amino Acid\",\"Amino Acid\",\"Amino Acid\",\"Amino Acid\",\"Amino Acid\",\"Amino Acid\",\"Amino Acid\",\"Amino Acid\",\"Amino Acid\",\"Amino Acid\",\"Amino Acid\",\"Amino Acid\",\"Amino Acid\",\"Amino Acid\",\"Amino Acid\",\"Amino Acid\",\"Amino Acid\",\"Amino Acid\",\"Amino Acid\",\"Amino Acid\",\"Amino Acid\",\"Amino Acid\",\"Amino Acid\",\"Amino Acid\",\"Amino Acid\",\"Amino Acid\",\"Amino Acid\",\"Amino Acid\",\"Amino Acid\",\"Amino Acid\",\"Amino Acid\",\"Amino Acid\",\"Amino Acid\",\"Amino Acid\",\"Amino Acid\",\"Amino Acid\",\"Amino Acid\",\"Amino Acid\",\"Amino Acid\",\"Amino Acid\",\"Amino Acid\",\"Amino Acid\",\"Amino Acid\",\"Amino Acid\",\"Amino Acid\",\"Amino Acid\",\"Amino Acid\",\"Amino Acid\",\"Amino Acid\",\"Amino Acid\",\"Amino Acid\",\"Amino Acid\",\"Amino Acid\",\"Amino Acid\",\"Amino Acid\",\"Amino Acid\",\"Amino Acid\",\"Amino Acid\",\"Amino Acid\",\"Amino Acid\",\"Amino Acid\",\"Amino Acid\",\"Amino Acid\",\"Amino Acid\",\"Amino Acid\",\"Amino Acid\",\"Amino Acid\",\"Amino Acid\",\"Amino Acid\",\"Amino Acid\",\"Amino Acid\",\"Amino Acid\",\"Amino Acid\",\"Amino Acid\",\"Amino Acid\",\"Amino Acid\",\"Amino Acid\",\"Amino Acid\",\"Amino Acid\",\"Amino Acid\",\"Amino Acid\",\"Amino Acid\",\"Amino Acid\",\"Amino Acid\",\"Amino Acid\",\"Amino Acid\",\"Amino Acid\",\"Amino Acid\",\"Amino Acid\",\"Amino Acid\",\"Amino Acid\",\"Amino Acid\",\"Amino Acid\",\"Amino Acid\",\"Amino Acid\",\"Amino Acid\",\"Amino Acid\",\"Amino Acid\",\"Amino Acid\",\"Amino Acid\",\"Amino Acid\",\"Amino Acid\",\"Amino Acid\",\"Amino Acid\",\"Amino Acid\",\"Amino Acid\",\"Amino Acid\",\"Amino Acid\",\"Amino Acid\",\"Amino Acid\",\"Amino Acid\",\"Amino Acid\",\"Amino Acid\",\"Amino Acid\",\"Amino Acid\",\"Amino Acid\",\"Amino Acid\",\"Amino Acid\",\"Amino Acid\",\"Amino Acid\",\"Amino Acid\",\"Amino Acid\",\"Amino Acid\",\"Amino Acid\",\"Amino Acid\",\"Amino Acid\",\"Amino Acid\",\"Amino Acid\",\"Amino Acid\",\"Amino Acid\",\"Amino Acid\",\"Amino Acid\",\"Amino Acid\",\"Amino Acid\"],\"xaxis\":\"x\",\"y\":{\"dtype\":\"i1\",\"bdata\":\"AQEBAQEBAQEBAQEBAQEBAQEBAQEBAQEBAQEBAQEBAQEBAQEBAQEBAQEBAQEBAQEBAQEBAQEBAQEBAQEBAQEBAQEBAQEBAQEBAQEBAQEBAQEBAQEBAQEBAQEBAQEBAQEBAQEBAQEBAQEBAQEBAQEBAQEBAQEBAQEBAQEBAQEBAQEBAQEBAQEBAQEBAQEBAQEBAQEBAQE=\"},\"yaxis\":\"y\",\"type\":\"bar\"},{\"hovertemplate\":\"SUPER_PATHWAY=%{x}\\u003cbr\\u003ecount=%{y}\\u003cextra\\u003e\\u003c\\u002fextra\\u003e\",\"legendgroup\":\"Peptide\",\"marker\":{\"color\":\"#EF553B\",\"pattern\":{\"shape\":\"\"},\"line\":{\"width\":0}},\"name\":\"Peptide\",\"orientation\":\"v\",\"showlegend\":true,\"textposition\":\"auto\",\"x\":[\"Peptide\",\"Peptide\",\"Peptide\",\"Peptide\",\"Peptide\",\"Peptide\",\"Peptide\",\"Peptide\",\"Peptide\",\"Peptide\",\"Peptide\",\"Peptide\",\"Peptide\",\"Peptide\",\"Peptide\",\"Peptide\",\"Peptide\",\"Peptide\",\"Peptide\",\"Peptide\",\"Peptide\",\"Peptide\",\"Peptide\",\"Peptide\"],\"xaxis\":\"x\",\"y\":{\"dtype\":\"i1\",\"bdata\":\"AQEBAQEBAQEBAQEBAQEBAQEBAQEBAQEB\"},\"yaxis\":\"y\",\"type\":\"bar\"},{\"hovertemplate\":\"SUPER_PATHWAY=%{x}\\u003cbr\\u003ecount=%{y}\\u003cextra\\u003e\\u003c\\u002fextra\\u003e\",\"legendgroup\":\"Carbohydrate\",\"marker\":{\"color\":\"#00cc96\",\"pattern\":{\"shape\":\"\"},\"line\":{\"width\":0}},\"name\":\"Carbohydrate\",\"orientation\":\"v\",\"showlegend\":true,\"textposition\":\"auto\",\"x\":[\"Carbohydrate\",\"Carbohydrate\",\"Carbohydrate\",\"Carbohydrate\",\"Carbohydrate\",\"Carbohydrate\",\"Carbohydrate\",\"Carbohydrate\",\"Carbohydrate\",\"Carbohydrate\",\"Carbohydrate\",\"Carbohydrate\",\"Carbohydrate\",\"Carbohydrate\",\"Carbohydrate\",\"Carbohydrate\",\"Carbohydrate\",\"Carbohydrate\",\"Carbohydrate\",\"Carbohydrate\",\"Carbohydrate\"],\"xaxis\":\"x\",\"y\":{\"dtype\":\"i1\",\"bdata\":\"AQEBAQEBAQEBAQEBAQEBAQEBAQEB\"},\"yaxis\":\"y\",\"type\":\"bar\"},{\"hovertemplate\":\"SUPER_PATHWAY=%{x}\\u003cbr\\u003ecount=%{y}\\u003cextra\\u003e\\u003c\\u002fextra\\u003e\",\"legendgroup\":\"Energy\",\"marker\":{\"color\":\"#ab63fa\",\"pattern\":{\"shape\":\"\"},\"line\":{\"width\":0}},\"name\":\"Energy\",\"orientation\":\"v\",\"showlegend\":true,\"textposition\":\"auto\",\"x\":[\"Energy\",\"Energy\",\"Energy\",\"Energy\",\"Energy\",\"Energy\",\"Energy\",\"Energy\"],\"xaxis\":\"x\",\"y\":{\"dtype\":\"i1\",\"bdata\":\"AQEBAQEBAQE=\"},\"yaxis\":\"y\",\"type\":\"bar\"},{\"hovertemplate\":\"SUPER_PATHWAY=%{x}\\u003cbr\\u003ecount=%{y}\\u003cextra\\u003e\\u003c\\u002fextra\\u003e\",\"legendgroup\":\"Lipid\",\"marker\":{\"color\":\"#FFA15A\",\"pattern\":{\"shape\":\"\"},\"line\":{\"width\":0}},\"name\":\"Lipid\",\"orientation\":\"v\",\"showlegend\":true,\"textposition\":\"auto\",\"x\":[\"Lipid\",\"Lipid\",\"Lipid\",\"Lipid\",\"Lipid\",\"Lipid\",\"Lipid\",\"Lipid\",\"Lipid\",\"Lipid\",\"Lipid\",\"Lipid\",\"Lipid\",\"Lipid\",\"Lipid\",\"Lipid\",\"Lipid\",\"Lipid\",\"Lipid\",\"Lipid\",\"Lipid\",\"Lipid\",\"Lipid\",\"Lipid\",\"Lipid\",\"Lipid\",\"Lipid\",\"Lipid\",\"Lipid\",\"Lipid\",\"Lipid\",\"Lipid\",\"Lipid\",\"Lipid\",\"Lipid\",\"Lipid\",\"Lipid\",\"Lipid\",\"Lipid\",\"Lipid\",\"Lipid\",\"Lipid\",\"Lipid\",\"Lipid\",\"Lipid\",\"Lipid\",\"Lipid\",\"Lipid\",\"Lipid\",\"Lipid\",\"Lipid\",\"Lipid\",\"Lipid\",\"Lipid\",\"Lipid\",\"Lipid\",\"Lipid\",\"Lipid\",\"Lipid\",\"Lipid\",\"Lipid\",\"Lipid\",\"Lipid\",\"Lipid\",\"Lipid\",\"Lipid\",\"Lipid\",\"Lipid\",\"Lipid\",\"Lipid\",\"Lipid\",\"Lipid\",\"Lipid\",\"Lipid\",\"Lipid\",\"Lipid\",\"Lipid\",\"Lipid\",\"Lipid\",\"Lipid\",\"Lipid\",\"Lipid\",\"Lipid\",\"Lipid\",\"Lipid\",\"Lipid\",\"Lipid\",\"Lipid\",\"Lipid\",\"Lipid\",\"Lipid\",\"Lipid\",\"Lipid\",\"Lipid\",\"Lipid\",\"Lipid\",\"Lipid\",\"Lipid\",\"Lipid\",\"Lipid\",\"Lipid\",\"Lipid\",\"Lipid\",\"Lipid\",\"Lipid\",\"Lipid\",\"Lipid\",\"Lipid\",\"Lipid\",\"Lipid\",\"Lipid\",\"Lipid\",\"Lipid\",\"Lipid\",\"Lipid\",\"Lipid\",\"Lipid\",\"Lipid\",\"Lipid\",\"Lipid\",\"Lipid\",\"Lipid\",\"Lipid\",\"Lipid\",\"Lipid\",\"Lipid\",\"Lipid\",\"Lipid\",\"Lipid\",\"Lipid\",\"Lipid\",\"Lipid\",\"Lipid\",\"Lipid\",\"Lipid\",\"Lipid\",\"Lipid\",\"Lipid\",\"Lipid\",\"Lipid\",\"Lipid\",\"Lipid\"],\"xaxis\":\"x\",\"y\":{\"dtype\":\"i1\",\"bdata\":\"AQEBAQEBAQEBAQEBAQEBAQEBAQEBAQEBAQEBAQEBAQEBAQEBAQEBAQEBAQEBAQEBAQEBAQEBAQEBAQEBAQEBAQEBAQEBAQEBAQEBAQEBAQEBAQEBAQEBAQEBAQEBAQEBAQEBAQEBAQEBAQEBAQEBAQEBAQEBAQEBAQEBAQEBAQEBAQEBAQEBAQEBAQEBAQ==\"},\"yaxis\":\"y\",\"type\":\"bar\"},{\"hovertemplate\":\"SUPER_PATHWAY=%{x}\\u003cbr\\u003ecount=%{y}\\u003cextra\\u003e\\u003c\\u002fextra\\u003e\",\"legendgroup\":\"Nucleotide\",\"marker\":{\"color\":\"#19d3f3\",\"pattern\":{\"shape\":\"\"},\"line\":{\"width\":0}},\"name\":\"Nucleotide\",\"orientation\":\"v\",\"showlegend\":true,\"textposition\":\"auto\",\"x\":[\"Nucleotide\",\"Nucleotide\",\"Nucleotide\",\"Nucleotide\",\"Nucleotide\",\"Nucleotide\",\"Nucleotide\",\"Nucleotide\",\"Nucleotide\",\"Nucleotide\",\"Nucleotide\",\"Nucleotide\",\"Nucleotide\",\"Nucleotide\",\"Nucleotide\",\"Nucleotide\",\"Nucleotide\",\"Nucleotide\",\"Nucleotide\",\"Nucleotide\",\"Nucleotide\",\"Nucleotide\",\"Nucleotide\",\"Nucleotide\",\"Nucleotide\",\"Nucleotide\",\"Nucleotide\"],\"xaxis\":\"x\",\"y\":{\"dtype\":\"i1\",\"bdata\":\"AQEBAQEBAQEBAQEBAQEBAQEBAQEBAQEBAQEB\"},\"yaxis\":\"y\",\"type\":\"bar\"},{\"hovertemplate\":\"SUPER_PATHWAY=%{x}\\u003cbr\\u003ecount=%{y}\\u003cextra\\u003e\\u003c\\u002fextra\\u003e\",\"legendgroup\":\"Cofactors and Vitamins\",\"marker\":{\"color\":\"#FF6692\",\"pattern\":{\"shape\":\"\"},\"line\":{\"width\":0}},\"name\":\"Cofactors and Vitamins\",\"orientation\":\"v\",\"showlegend\":true,\"textposition\":\"auto\",\"x\":[\"Cofactors and Vitamins\",\"Cofactors and Vitamins\",\"Cofactors and Vitamins\",\"Cofactors and Vitamins\",\"Cofactors and Vitamins\",\"Cofactors and Vitamins\",\"Cofactors and Vitamins\",\"Cofactors and Vitamins\",\"Cofactors and Vitamins\",\"Cofactors and Vitamins\",\"Cofactors and Vitamins\",\"Cofactors and Vitamins\",\"Cofactors and Vitamins\",\"Cofactors and Vitamins\",\"Cofactors and Vitamins\",\"Cofactors and Vitamins\",\"Cofactors and Vitamins\",\"Cofactors and Vitamins\"],\"xaxis\":\"x\",\"y\":{\"dtype\":\"i1\",\"bdata\":\"AQEBAQEBAQEBAQEBAQEBAQEB\"},\"yaxis\":\"y\",\"type\":\"bar\"},{\"hovertemplate\":\"SUPER_PATHWAY=%{x}\\u003cbr\\u003ecount=%{y}\\u003cextra\\u003e\\u003c\\u002fextra\\u003e\",\"legendgroup\":\"Xenobiotics\",\"marker\":{\"color\":\"#B6E880\",\"pattern\":{\"shape\":\"\"},\"line\":{\"width\":0}},\"name\":\"Xenobiotics\",\"orientation\":\"v\",\"showlegend\":true,\"textposition\":\"auto\",\"x\":[\"Xenobiotics\",\"Xenobiotics\",\"Xenobiotics\",\"Xenobiotics\",\"Xenobiotics\",\"Xenobiotics\",\"Xenobiotics\",\"Xenobiotics\",\"Xenobiotics\",\"Xenobiotics\",\"Xenobiotics\",\"Xenobiotics\",\"Xenobiotics\",\"Xenobiotics\",\"Xenobiotics\",\"Xenobiotics\",\"Xenobiotics\",\"Xenobiotics\",\"Xenobiotics\",\"Xenobiotics\",\"Xenobiotics\",\"Xenobiotics\",\"Xenobiotics\",\"Xenobiotics\",\"Xenobiotics\",\"Xenobiotics\",\"Xenobiotics\",\"Xenobiotics\",\"Xenobiotics\",\"Xenobiotics\",\"Xenobiotics\",\"Xenobiotics\",\"Xenobiotics\",\"Xenobiotics\",\"Xenobiotics\",\"Xenobiotics\",\"Xenobiotics\",\"Xenobiotics\",\"Xenobiotics\",\"Xenobiotics\",\"Xenobiotics\",\"Xenobiotics\",\"Xenobiotics\",\"Xenobiotics\",\"Xenobiotics\",\"Xenobiotics\",\"Xenobiotics\",\"Xenobiotics\",\"Xenobiotics\",\"Xenobiotics\",\"Xenobiotics\",\"Xenobiotics\",\"Xenobiotics\",\"Xenobiotics\",\"Xenobiotics\",\"Xenobiotics\",\"Xenobiotics\",\"Xenobiotics\",\"Xenobiotics\",\"Xenobiotics\",\"Xenobiotics\",\"Xenobiotics\",\"Xenobiotics\",\"Xenobiotics\",\"Xenobiotics\",\"Xenobiotics\",\"Xenobiotics\",\"Xenobiotics\",\"Xenobiotics\",\"Xenobiotics\",\"Xenobiotics\",\"Xenobiotics\",\"Xenobiotics\",\"Xenobiotics\",\"Xenobiotics\",\"Xenobiotics\",\"Xenobiotics\",\"Xenobiotics\",\"Xenobiotics\",\"Xenobiotics\",\"Xenobiotics\",\"Xenobiotics\",\"Xenobiotics\",\"Xenobiotics\",\"Xenobiotics\",\"Xenobiotics\",\"Xenobiotics\",\"Xenobiotics\",\"Xenobiotics\"],\"xaxis\":\"x\",\"y\":{\"dtype\":\"i1\",\"bdata\":\"AQEBAQEBAQEBAQEBAQEBAQEBAQEBAQEBAQEBAQEBAQEBAQEBAQEBAQEBAQEBAQEBAQEBAQEBAQEBAQEBAQEBAQEBAQEBAQEBAQEBAQEBAQEBAQEBAQEBAQE=\"},\"yaxis\":\"y\",\"type\":\"bar\"},{\"hovertemplate\":\"SUPER_PATHWAY=%{x}\\u003cbr\\u003ecount=%{y}\\u003cextra\\u003e\\u003c\\u002fextra\\u003e\",\"legendgroup\":\"Neutral Complex Lipids\",\"marker\":{\"color\":\"#FF97FF\",\"pattern\":{\"shape\":\"\"},\"line\":{\"width\":0}},\"name\":\"Neutral Complex Lipids\",\"orientation\":\"v\",\"showlegend\":true,\"textposition\":\"auto\",\"x\":[\"Neutral Complex Lipids\",\"Neutral Complex Lipids\",\"Neutral Complex Lipids\",\"Neutral Complex Lipids\"],\"xaxis\":\"x\",\"y\":{\"dtype\":\"i1\",\"bdata\":\"AQEBAQ==\"},\"yaxis\":\"y\",\"type\":\"bar\"},{\"hovertemplate\":\"SUPER_PATHWAY=%{x}\\u003cbr\\u003ecount=%{y}\\u003cextra\\u003e\\u003c\\u002fextra\\u003e\",\"legendgroup\":\"Phospholipids\",\"marker\":{\"color\":\"#FECB52\",\"pattern\":{\"shape\":\"\"},\"line\":{\"width\":0}},\"name\":\"Phospholipids\",\"orientation\":\"v\",\"showlegend\":true,\"textposition\":\"auto\",\"x\":[\"Phospholipids\",\"Phospholipids\",\"Phospholipids\",\"Phospholipids\",\"Phospholipids\"],\"xaxis\":\"x\",\"y\":{\"dtype\":\"i1\",\"bdata\":\"AQEBAQE=\"},\"yaxis\":\"y\",\"type\":\"bar\"},{\"hovertemplate\":\"SUPER_PATHWAY=%{x}\\u003cbr\\u003ecount=%{y}\\u003cextra\\u003e\\u003c\\u002fextra\\u003e\",\"legendgroup\":\"Sphingolipids\",\"marker\":{\"color\":\"#636efa\",\"pattern\":{\"shape\":\"\"},\"line\":{\"width\":0}},\"name\":\"Sphingolipids\",\"orientation\":\"v\",\"showlegend\":true,\"textposition\":\"auto\",\"x\":[\"Sphingolipids\",\"Sphingolipids\",\"Sphingolipids\",\"Sphingolipids\",\"Sphingolipids\"],\"xaxis\":\"x\",\"y\":{\"dtype\":\"i1\",\"bdata\":\"AQEBAQE=\"},\"yaxis\":\"y\",\"type\":\"bar\"},{\"hovertemplate\":\"SUPER_PATHWAY=%{x}\\u003cbr\\u003ecount=%{y}\\u003cextra\\u003e\\u003c\\u002fextra\\u003e\",\"legendgroup\":\"Cholesterol Ester\",\"marker\":{\"color\":\"#EF553B\",\"pattern\":{\"shape\":\"\"},\"line\":{\"width\":0}},\"name\":\"Cholesterol Ester\",\"orientation\":\"v\",\"showlegend\":true,\"textposition\":\"auto\",\"x\":[\"Cholesterol Ester\",\"Cholesterol Ester\",\"Cholesterol Ester\",\"Cholesterol Ester\",\"Cholesterol Ester\",\"Cholesterol Ester\",\"Cholesterol Ester\",\"Cholesterol Ester\",\"Cholesterol Ester\",\"Cholesterol Ester\",\"Cholesterol Ester\",\"Cholesterol Ester\",\"Cholesterol Ester\",\"Cholesterol Ester\",\"Cholesterol Ester\",\"Cholesterol Ester\",\"Cholesterol Ester\",\"Cholesterol Ester\",\"Cholesterol Ester\",\"Cholesterol Ester\",\"Cholesterol Ester\",\"Cholesterol Ester\",\"Cholesterol Ester\",\"Cholesterol Ester\",\"Cholesterol Ester\",\"Cholesterol Ester\"],\"xaxis\":\"x\",\"y\":{\"dtype\":\"i1\",\"bdata\":\"AQEBAQEBAQEBAQEBAQEBAQEBAQEBAQEBAQE=\"},\"yaxis\":\"y\",\"type\":\"bar\"},{\"hovertemplate\":\"SUPER_PATHWAY=%{x}\\u003cbr\\u003ecount=%{y}\\u003cextra\\u003e\\u003c\\u002fextra\\u003e\",\"legendgroup\":\"Ceramides\",\"marker\":{\"color\":\"#00cc96\",\"pattern\":{\"shape\":\"\"},\"line\":{\"width\":0}},\"name\":\"Ceramides\",\"orientation\":\"v\",\"showlegend\":true,\"textposition\":\"auto\",\"x\":[\"Ceramides\",\"Ceramides\",\"Ceramides\",\"Ceramides\",\"Ceramides\",\"Ceramides\",\"Ceramides\",\"Ceramides\",\"Ceramides\"],\"xaxis\":\"x\",\"y\":{\"dtype\":\"i1\",\"bdata\":\"AQEBAQEBAQEB\"},\"yaxis\":\"y\",\"type\":\"bar\"},{\"hovertemplate\":\"SUPER_PATHWAY=%{x}\\u003cbr\\u003ecount=%{y}\\u003cextra\\u003e\\u003c\\u002fextra\\u003e\",\"legendgroup\":\"Diacylglycerol\",\"marker\":{\"color\":\"#ab63fa\",\"pattern\":{\"shape\":\"\"},\"line\":{\"width\":0}},\"name\":\"Diacylglycerol\",\"orientation\":\"v\",\"showlegend\":true,\"textposition\":\"auto\",\"x\":[\"Diacylglycerol\",\"Diacylglycerol\",\"Diacylglycerol\",\"Diacylglycerol\",\"Diacylglycerol\",\"Diacylglycerol\",\"Diacylglycerol\",\"Diacylglycerol\",\"Diacylglycerol\",\"Diacylglycerol\",\"Diacylglycerol\",\"Diacylglycerol\",\"Diacylglycerol\",\"Diacylglycerol\",\"Diacylglycerol\",\"Diacylglycerol\",\"Diacylglycerol\",\"Diacylglycerol\",\"Diacylglycerol\",\"Diacylglycerol\",\"Diacylglycerol\",\"Diacylglycerol\",\"Diacylglycerol\",\"Diacylglycerol\",\"Diacylglycerol\",\"Diacylglycerol\",\"Diacylglycerol\",\"Diacylglycerol\",\"Diacylglycerol\",\"Diacylglycerol\",\"Diacylglycerol\",\"Diacylglycerol\",\"Diacylglycerol\",\"Diacylglycerol\",\"Diacylglycerol\",\"Diacylglycerol\",\"Diacylglycerol\",\"Diacylglycerol\",\"Diacylglycerol\",\"Diacylglycerol\",\"Diacylglycerol\",\"Diacylglycerol\",\"Diacylglycerol\",\"Diacylglycerol\",\"Diacylglycerol\",\"Diacylglycerol\",\"Diacylglycerol\",\"Diacylglycerol\",\"Diacylglycerol\",\"Diacylglycerol\",\"Diacylglycerol\",\"Diacylglycerol\"],\"xaxis\":\"x\",\"y\":{\"dtype\":\"i1\",\"bdata\":\"AQEBAQEBAQEBAQEBAQEBAQEBAQEBAQEBAQEBAQEBAQEBAQEBAQEBAQEBAQEBAQEBAQEBAQ==\"},\"yaxis\":\"y\",\"type\":\"bar\"},{\"hovertemplate\":\"SUPER_PATHWAY=%{x}\\u003cbr\\u003ecount=%{y}\\u003cextra\\u003e\\u003c\\u002fextra\\u003e\",\"legendgroup\":\"Dihydroceramides\",\"marker\":{\"color\":\"#FFA15A\",\"pattern\":{\"shape\":\"\"},\"line\":{\"width\":0}},\"name\":\"Dihydroceramides\",\"orientation\":\"v\",\"showlegend\":true,\"textposition\":\"auto\",\"x\":[\"Dihydroceramides\",\"Dihydroceramides\",\"Dihydroceramides\",\"Dihydroceramides\"],\"xaxis\":\"x\",\"y\":{\"dtype\":\"i1\",\"bdata\":\"AQEBAQ==\"},\"yaxis\":\"y\",\"type\":\"bar\"},{\"hovertemplate\":\"SUPER_PATHWAY=%{x}\\u003cbr\\u003ecount=%{y}\\u003cextra\\u003e\\u003c\\u002fextra\\u003e\",\"legendgroup\":\"Free Fatty Acids\",\"marker\":{\"color\":\"#19d3f3\",\"pattern\":{\"shape\":\"\"},\"line\":{\"width\":0}},\"name\":\"Free Fatty Acids\",\"orientation\":\"v\",\"showlegend\":true,\"textposition\":\"auto\",\"x\":[\"Free Fatty Acids\",\"Free Fatty Acids\",\"Free Fatty Acids\",\"Free Fatty Acids\",\"Free Fatty Acids\",\"Free Fatty Acids\",\"Free Fatty Acids\",\"Free Fatty Acids\",\"Free Fatty Acids\",\"Free Fatty Acids\",\"Free Fatty Acids\",\"Free Fatty Acids\",\"Free Fatty Acids\",\"Free Fatty Acids\",\"Free Fatty Acids\",\"Free Fatty Acids\",\"Free Fatty Acids\",\"Free Fatty Acids\",\"Free Fatty Acids\",\"Free Fatty Acids\",\"Free Fatty Acids\",\"Free Fatty Acids\",\"Free Fatty Acids\",\"Free Fatty Acids\",\"Free Fatty Acids\",\"Free Fatty Acids\"],\"xaxis\":\"x\",\"y\":{\"dtype\":\"i1\",\"bdata\":\"AQEBAQEBAQEBAQEBAQEBAQEBAQEBAQEBAQE=\"},\"yaxis\":\"y\",\"type\":\"bar\"},{\"hovertemplate\":\"SUPER_PATHWAY=%{x}\\u003cbr\\u003ecount=%{y}\\u003cextra\\u003e\\u003c\\u002fextra\\u003e\",\"legendgroup\":\"Hexosylceramides\",\"marker\":{\"color\":\"#FF6692\",\"pattern\":{\"shape\":\"\"},\"line\":{\"width\":0}},\"name\":\"Hexosylceramides\",\"orientation\":\"v\",\"showlegend\":true,\"textposition\":\"auto\",\"x\":[\"Hexosylceramides\",\"Hexosylceramides\",\"Hexosylceramides\",\"Hexosylceramides\",\"Hexosylceramides\",\"Hexosylceramides\",\"Hexosylceramides\"],\"xaxis\":\"x\",\"y\":{\"dtype\":\"i1\",\"bdata\":\"AQEBAQEBAQ==\"},\"yaxis\":\"y\",\"type\":\"bar\"},{\"hovertemplate\":\"SUPER_PATHWAY=%{x}\\u003cbr\\u003ecount=%{y}\\u003cextra\\u003e\\u003c\\u002fextra\\u003e\",\"legendgroup\":\"Lactosylceramide\",\"marker\":{\"color\":\"#B6E880\",\"pattern\":{\"shape\":\"\"},\"line\":{\"width\":0}},\"name\":\"Lactosylceramide\",\"orientation\":\"v\",\"showlegend\":true,\"textposition\":\"auto\",\"x\":[\"Lactosylceramide\",\"Lactosylceramide\",\"Lactosylceramide\",\"Lactosylceramide\"],\"xaxis\":\"x\",\"y\":{\"dtype\":\"i1\",\"bdata\":\"AQEBAQ==\"},\"yaxis\":\"y\",\"type\":\"bar\"},{\"hovertemplate\":\"SUPER_PATHWAY=%{x}\\u003cbr\\u003ecount=%{y}\\u003cextra\\u003e\\u003c\\u002fextra\\u003e\",\"legendgroup\":\"Lysophosphatidylcholine\",\"marker\":{\"color\":\"#FF97FF\",\"pattern\":{\"shape\":\"\"},\"line\":{\"width\":0}},\"name\":\"Lysophosphatidylcholine\",\"orientation\":\"v\",\"showlegend\":true,\"textposition\":\"auto\",\"x\":[\"Lysophosphatidylcholine\",\"Lysophosphatidylcholine\",\"Lysophosphatidylcholine\",\"Lysophosphatidylcholine\",\"Lysophosphatidylcholine\",\"Lysophosphatidylcholine\",\"Lysophosphatidylcholine\",\"Lysophosphatidylcholine\",\"Lysophosphatidylcholine\",\"Lysophosphatidylcholine\",\"Lysophosphatidylcholine\",\"Lysophosphatidylcholine\",\"Lysophosphatidylcholine\",\"Lysophosphatidylcholine\",\"Lysophosphatidylcholine\"],\"xaxis\":\"x\",\"y\":{\"dtype\":\"i1\",\"bdata\":\"AQEBAQEBAQEBAQEBAQEB\"},\"yaxis\":\"y\",\"type\":\"bar\"},{\"hovertemplate\":\"SUPER_PATHWAY=%{x}\\u003cbr\\u003ecount=%{y}\\u003cextra\\u003e\\u003c\\u002fextra\\u003e\",\"legendgroup\":\"Lysophosphatidylethanolamine\",\"marker\":{\"color\":\"#FECB52\",\"pattern\":{\"shape\":\"\"},\"line\":{\"width\":0}},\"name\":\"Lysophosphatidylethanolamine\",\"orientation\":\"v\",\"showlegend\":true,\"textposition\":\"auto\",\"x\":[\"Lysophosphatidylethanolamine\",\"Lysophosphatidylethanolamine\",\"Lysophosphatidylethanolamine\",\"Lysophosphatidylethanolamine\",\"Lysophosphatidylethanolamine\",\"Lysophosphatidylethanolamine\"],\"xaxis\":\"x\",\"y\":{\"dtype\":\"i1\",\"bdata\":\"AQEBAQEB\"},\"yaxis\":\"y\",\"type\":\"bar\"},{\"hovertemplate\":\"SUPER_PATHWAY=%{x}\\u003cbr\\u003ecount=%{y}\\u003cextra\\u003e\\u003c\\u002fextra\\u003e\",\"legendgroup\":\"Phosphatidylcholine\",\"marker\":{\"color\":\"#636efa\",\"pattern\":{\"shape\":\"\"},\"line\":{\"width\":0}},\"name\":\"Phosphatidylcholine\",\"orientation\":\"v\",\"showlegend\":true,\"textposition\":\"auto\",\"x\":[\"Phosphatidylcholine\",\"Phosphatidylcholine\",\"Phosphatidylcholine\",\"Phosphatidylcholine\",\"Phosphatidylcholine\",\"Phosphatidylcholine\",\"Phosphatidylcholine\",\"Phosphatidylcholine\",\"Phosphatidylcholine\",\"Phosphatidylcholine\",\"Phosphatidylcholine\",\"Phosphatidylcholine\",\"Phosphatidylcholine\",\"Phosphatidylcholine\",\"Phosphatidylcholine\",\"Phosphatidylcholine\",\"Phosphatidylcholine\",\"Phosphatidylcholine\",\"Phosphatidylcholine\",\"Phosphatidylcholine\",\"Phosphatidylcholine\",\"Phosphatidylcholine\",\"Phosphatidylcholine\",\"Phosphatidylcholine\",\"Phosphatidylcholine\",\"Phosphatidylcholine\",\"Phosphatidylcholine\",\"Phosphatidylcholine\",\"Phosphatidylcholine\",\"Phosphatidylcholine\",\"Phosphatidylcholine\",\"Phosphatidylcholine\",\"Phosphatidylcholine\",\"Phosphatidylcholine\",\"Phosphatidylcholine\",\"Phosphatidylcholine\",\"Phosphatidylcholine\",\"Phosphatidylcholine\",\"Phosphatidylcholine\",\"Phosphatidylcholine\",\"Phosphatidylcholine\"],\"xaxis\":\"x\",\"y\":{\"dtype\":\"i1\",\"bdata\":\"AQEBAQEBAQEBAQEBAQEBAQEBAQEBAQEBAQEBAQEBAQEBAQEBAQEBAQE=\"},\"yaxis\":\"y\",\"type\":\"bar\"},{\"hovertemplate\":\"SUPER_PATHWAY=%{x}\\u003cbr\\u003ecount=%{y}\\u003cextra\\u003e\\u003c\\u002fextra\\u003e\",\"legendgroup\":\"Phosphatidylethanolamine\",\"marker\":{\"color\":\"#EF553B\",\"pattern\":{\"shape\":\"\"},\"line\":{\"width\":0}},\"name\":\"Phosphatidylethanolamine\",\"orientation\":\"v\",\"showlegend\":true,\"textposition\":\"auto\",\"x\":[\"Phosphatidylethanolamine\",\"Phosphatidylethanolamine\",\"Phosphatidylethanolamine\",\"Phosphatidylethanolamine\",\"Phosphatidylethanolamine\",\"Phosphatidylethanolamine\",\"Phosphatidylethanolamine\",\"Phosphatidylethanolamine\",\"Phosphatidylethanolamine\",\"Phosphatidylethanolamine\",\"Phosphatidylethanolamine\",\"Phosphatidylethanolamine\",\"Phosphatidylethanolamine\",\"Phosphatidylethanolamine\",\"Phosphatidylethanolamine\",\"Phosphatidylethanolamine\",\"Phosphatidylethanolamine\",\"Phosphatidylethanolamine\",\"Phosphatidylethanolamine\",\"Phosphatidylethanolamine\",\"Phosphatidylethanolamine\",\"Phosphatidylethanolamine\",\"Phosphatidylethanolamine\",\"Phosphatidylethanolamine\",\"Phosphatidylethanolamine\",\"Phosphatidylethanolamine\",\"Phosphatidylethanolamine\",\"Phosphatidylethanolamine\",\"Phosphatidylethanolamine\",\"Phosphatidylethanolamine\",\"Phosphatidylethanolamine\",\"Phosphatidylethanolamine\",\"Phosphatidylethanolamine\",\"Phosphatidylethanolamine\",\"Phosphatidylethanolamine\",\"Phosphatidylethanolamine\",\"Phosphatidylethanolamine\"],\"xaxis\":\"x\",\"y\":{\"dtype\":\"i1\",\"bdata\":\"AQEBAQEBAQEBAQEBAQEBAQEBAQEBAQEBAQEBAQEBAQEBAQEBAQ==\"},\"yaxis\":\"y\",\"type\":\"bar\"},{\"hovertemplate\":\"SUPER_PATHWAY=%{x}\\u003cbr\\u003ecount=%{y}\\u003cextra\\u003e\\u003c\\u002fextra\\u003e\",\"legendgroup\":\"PI\",\"marker\":{\"color\":\"#00cc96\",\"pattern\":{\"shape\":\"\"},\"line\":{\"width\":0}},\"name\":\"PI\",\"orientation\":\"v\",\"showlegend\":true,\"textposition\":\"auto\",\"x\":[\"PI\",\"PI\",\"PI\",\"PI\",\"PI\"],\"xaxis\":\"x\",\"y\":{\"dtype\":\"i1\",\"bdata\":\"AQEBAQE=\"},\"yaxis\":\"y\",\"type\":\"bar\"},{\"hovertemplate\":\"SUPER_PATHWAY=%{x}\\u003cbr\\u003ecount=%{y}\\u003cextra\\u003e\\u003c\\u002fextra\\u003e\",\"legendgroup\":\"Sphingomyelin\",\"marker\":{\"color\":\"#ab63fa\",\"pattern\":{\"shape\":\"\"},\"line\":{\"width\":0}},\"name\":\"Sphingomyelin\",\"orientation\":\"v\",\"showlegend\":true,\"textposition\":\"auto\",\"x\":[\"Sphingomyelin\",\"Sphingomyelin\",\"Sphingomyelin\",\"Sphingomyelin\",\"Sphingomyelin\",\"Sphingomyelin\",\"Sphingomyelin\",\"Sphingomyelin\",\"Sphingomyelin\",\"Sphingomyelin\",\"Sphingomyelin\",\"Sphingomyelin\"],\"xaxis\":\"x\",\"y\":{\"dtype\":\"i1\",\"bdata\":\"AQEBAQEBAQEBAQEB\"},\"yaxis\":\"y\",\"type\":\"bar\"},{\"hovertemplate\":\"SUPER_PATHWAY=%{x}\\u003cbr\\u003ecount=%{y}\\u003cextra\\u003e\\u003c\\u002fextra\\u003e\",\"legendgroup\":\"Triacylglycerol\",\"marker\":{\"color\":\"#FFA15A\",\"pattern\":{\"shape\":\"\"},\"line\":{\"width\":0}},\"name\":\"Triacylglycerol\",\"orientation\":\"v\",\"showlegend\":true,\"textposition\":\"auto\",\"x\":[\"Triacylglycerol\",\"Triacylglycerol\",\"Triacylglycerol\",\"Triacylglycerol\",\"Triacylglycerol\",\"Triacylglycerol\",\"Triacylglycerol\",\"Triacylglycerol\",\"Triacylglycerol\",\"Triacylglycerol\",\"Triacylglycerol\",\"Triacylglycerol\",\"Triacylglycerol\",\"Triacylglycerol\",\"Triacylglycerol\",\"Triacylglycerol\",\"Triacylglycerol\",\"Triacylglycerol\",\"Triacylglycerol\",\"Triacylglycerol\",\"Triacylglycerol\",\"Triacylglycerol\",\"Triacylglycerol\",\"Triacylglycerol\",\"Triacylglycerol\",\"Triacylglycerol\",\"Triacylglycerol\",\"Triacylglycerol\",\"Triacylglycerol\",\"Triacylglycerol\",\"Triacylglycerol\",\"Triacylglycerol\",\"Triacylglycerol\",\"Triacylglycerol\",\"Triacylglycerol\",\"Triacylglycerol\",\"Triacylglycerol\",\"Triacylglycerol\",\"Triacylglycerol\",\"Triacylglycerol\",\"Triacylglycerol\",\"Triacylglycerol\",\"Triacylglycerol\",\"Triacylglycerol\",\"Triacylglycerol\",\"Triacylglycerol\",\"Triacylglycerol\",\"Triacylglycerol\",\"Triacylglycerol\",\"Triacylglycerol\",\"Triacylglycerol\",\"Triacylglycerol\",\"Triacylglycerol\",\"Triacylglycerol\",\"Triacylglycerol\",\"Triacylglycerol\",\"Triacylglycerol\",\"Triacylglycerol\",\"Triacylglycerol\",\"Triacylglycerol\",\"Triacylglycerol\",\"Triacylglycerol\",\"Triacylglycerol\",\"Triacylglycerol\",\"Triacylglycerol\",\"Triacylglycerol\",\"Triacylglycerol\",\"Triacylglycerol\",\"Triacylglycerol\",\"Triacylglycerol\",\"Triacylglycerol\",\"Triacylglycerol\",\"Triacylglycerol\",\"Triacylglycerol\",\"Triacylglycerol\",\"Triacylglycerol\",\"Triacylglycerol\",\"Triacylglycerol\",\"Triacylglycerol\",\"Triacylglycerol\",\"Triacylglycerol\",\"Triacylglycerol\",\"Triacylglycerol\",\"Triacylglycerol\",\"Triacylglycerol\",\"Triacylglycerol\",\"Triacylglycerol\",\"Triacylglycerol\",\"Triacylglycerol\",\"Triacylglycerol\",\"Triacylglycerol\",\"Triacylglycerol\",\"Triacylglycerol\",\"Triacylglycerol\",\"Triacylglycerol\",\"Triacylglycerol\",\"Triacylglycerol\",\"Triacylglycerol\",\"Triacylglycerol\",\"Triacylglycerol\",\"Triacylglycerol\",\"Triacylglycerol\",\"Triacylglycerol\",\"Triacylglycerol\",\"Triacylglycerol\",\"Triacylglycerol\",\"Triacylglycerol\",\"Triacylglycerol\",\"Triacylglycerol\",\"Triacylglycerol\",\"Triacylglycerol\",\"Triacylglycerol\",\"Triacylglycerol\",\"Triacylglycerol\",\"Triacylglycerol\",\"Triacylglycerol\",\"Triacylglycerol\",\"Triacylglycerol\",\"Triacylglycerol\",\"Triacylglycerol\",\"Triacylglycerol\",\"Triacylglycerol\",\"Triacylglycerol\",\"Triacylglycerol\",\"Triacylglycerol\",\"Triacylglycerol\",\"Triacylglycerol\",\"Triacylglycerol\",\"Triacylglycerol\",\"Triacylglycerol\",\"Triacylglycerol\",\"Triacylglycerol\",\"Triacylglycerol\",\"Triacylglycerol\",\"Triacylglycerol\",\"Triacylglycerol\",\"Triacylglycerol\",\"Triacylglycerol\",\"Triacylglycerol\",\"Triacylglycerol\",\"Triacylglycerol\",\"Triacylglycerol\",\"Triacylglycerol\",\"Triacylglycerol\",\"Triacylglycerol\",\"Triacylglycerol\",\"Triacylglycerol\",\"Triacylglycerol\",\"Triacylglycerol\",\"Triacylglycerol\",\"Triacylglycerol\",\"Triacylglycerol\",\"Triacylglycerol\",\"Triacylglycerol\",\"Triacylglycerol\",\"Triacylglycerol\",\"Triacylglycerol\",\"Triacylglycerol\",\"Triacylglycerol\",\"Triacylglycerol\",\"Triacylglycerol\",\"Triacylglycerol\",\"Triacylglycerol\",\"Triacylglycerol\",\"Triacylglycerol\",\"Triacylglycerol\",\"Triacylglycerol\",\"Triacylglycerol\",\"Triacylglycerol\",\"Triacylglycerol\",\"Triacylglycerol\",\"Triacylglycerol\",\"Triacylglycerol\",\"Triacylglycerol\",\"Triacylglycerol\",\"Triacylglycerol\",\"Triacylglycerol\",\"Triacylglycerol\",\"Triacylglycerol\",\"Triacylglycerol\",\"Triacylglycerol\",\"Triacylglycerol\",\"Triacylglycerol\",\"Triacylglycerol\",\"Triacylglycerol\",\"Triacylglycerol\",\"Triacylglycerol\",\"Triacylglycerol\",\"Triacylglycerol\",\"Triacylglycerol\",\"Triacylglycerol\",\"Triacylglycerol\",\"Triacylglycerol\",\"Triacylglycerol\",\"Triacylglycerol\",\"Triacylglycerol\",\"Triacylglycerol\",\"Triacylglycerol\",\"Triacylglycerol\",\"Triacylglycerol\",\"Triacylglycerol\",\"Triacylglycerol\",\"Triacylglycerol\",\"Triacylglycerol\",\"Triacylglycerol\",\"Triacylglycerol\",\"Triacylglycerol\",\"Triacylglycerol\",\"Triacylglycerol\",\"Triacylglycerol\",\"Triacylglycerol\",\"Triacylglycerol\",\"Triacylglycerol\",\"Triacylglycerol\",\"Triacylglycerol\",\"Triacylglycerol\",\"Triacylglycerol\",\"Triacylglycerol\",\"Triacylglycerol\",\"Triacylglycerol\",\"Triacylglycerol\",\"Triacylglycerol\",\"Triacylglycerol\",\"Triacylglycerol\",\"Triacylglycerol\",\"Triacylglycerol\",\"Triacylglycerol\",\"Triacylglycerol\",\"Triacylglycerol\",\"Triacylglycerol\",\"Triacylglycerol\",\"Triacylglycerol\",\"Triacylglycerol\",\"Triacylglycerol\",\"Triacylglycerol\",\"Triacylglycerol\",\"Triacylglycerol\",\"Triacylglycerol\",\"Triacylglycerol\",\"Triacylglycerol\",\"Triacylglycerol\",\"Triacylglycerol\",\"Triacylglycerol\",\"Triacylglycerol\",\"Triacylglycerol\",\"Triacylglycerol\",\"Triacylglycerol\",\"Triacylglycerol\",\"Triacylglycerol\",\"Triacylglycerol\",\"Triacylglycerol\",\"Triacylglycerol\",\"Triacylglycerol\",\"Triacylglycerol\",\"Triacylglycerol\",\"Triacylglycerol\",\"Triacylglycerol\",\"Triacylglycerol\",\"Triacylglycerol\",\"Triacylglycerol\",\"Triacylglycerol\",\"Triacylglycerol\",\"Triacylglycerol\",\"Triacylglycerol\",\"Triacylglycerol\",\"Triacylglycerol\",\"Triacylglycerol\",\"Triacylglycerol\",\"Triacylglycerol\",\"Triacylglycerol\",\"Triacylglycerol\",\"Triacylglycerol\",\"Triacylglycerol\",\"Triacylglycerol\",\"Triacylglycerol\",\"Triacylglycerol\",\"Triacylglycerol\",\"Triacylglycerol\",\"Triacylglycerol\",\"Triacylglycerol\",\"Triacylglycerol\",\"Triacylglycerol\",\"Triacylglycerol\",\"Triacylglycerol\",\"Triacylglycerol\",\"Triacylglycerol\",\"Triacylglycerol\",\"Triacylglycerol\",\"Triacylglycerol\",\"Triacylglycerol\",\"Triacylglycerol\",\"Triacylglycerol\",\"Triacylglycerol\",\"Triacylglycerol\",\"Triacylglycerol\",\"Triacylglycerol\",\"Triacylglycerol\",\"Triacylglycerol\",\"Triacylglycerol\",\"Triacylglycerol\",\"Triacylglycerol\",\"Triacylglycerol\",\"Triacylglycerol\",\"Triacylglycerol\",\"Triacylglycerol\",\"Triacylglycerol\",\"Triacylglycerol\",\"Triacylglycerol\",\"Triacylglycerol\",\"Triacylglycerol\",\"Triacylglycerol\",\"Triacylglycerol\",\"Triacylglycerol\",\"Triacylglycerol\",\"Triacylglycerol\",\"Triacylglycerol\",\"Triacylglycerol\",\"Triacylglycerol\",\"Triacylglycerol\",\"Triacylglycerol\",\"Triacylglycerol\",\"Triacylglycerol\",\"Triacylglycerol\",\"Triacylglycerol\",\"Triacylglycerol\",\"Triacylglycerol\",\"Triacylglycerol\",\"Triacylglycerol\",\"Triacylglycerol\",\"Triacylglycerol\",\"Triacylglycerol\",\"Triacylglycerol\",\"Triacylglycerol\",\"Triacylglycerol\",\"Triacylglycerol\",\"Triacylglycerol\",\"Triacylglycerol\",\"Triacylglycerol\",\"Triacylglycerol\",\"Triacylglycerol\",\"Triacylglycerol\",\"Triacylglycerol\",\"Triacylglycerol\",\"Triacylglycerol\",\"Triacylglycerol\",\"Triacylglycerol\",\"Triacylglycerol\",\"Triacylglycerol\",\"Triacylglycerol\",\"Triacylglycerol\",\"Triacylglycerol\",\"Triacylglycerol\",\"Triacylglycerol\",\"Triacylglycerol\",\"Triacylglycerol\",\"Triacylglycerol\",\"Triacylglycerol\",\"Triacylglycerol\",\"Triacylglycerol\",\"Triacylglycerol\",\"Triacylglycerol\",\"Triacylglycerol\",\"Triacylglycerol\",\"Triacylglycerol\",\"Triacylglycerol\",\"Triacylglycerol\",\"Triacylglycerol\",\"Triacylglycerol\",\"Triacylglycerol\",\"Triacylglycerol\",\"Triacylglycerol\",\"Triacylglycerol\",\"Triacylglycerol\",\"Triacylglycerol\",\"Triacylglycerol\",\"Triacylglycerol\",\"Triacylglycerol\",\"Triacylglycerol\",\"Triacylglycerol\",\"Triacylglycerol\",\"Triacylglycerol\",\"Triacylglycerol\",\"Triacylglycerol\",\"Triacylglycerol\",\"Triacylglycerol\",\"Triacylglycerol\",\"Triacylglycerol\",\"Triacylglycerol\",\"Triacylglycerol\",\"Triacylglycerol\",\"Triacylglycerol\",\"Triacylglycerol\",\"Triacylglycerol\",\"Triacylglycerol\",\"Triacylglycerol\",\"Triacylglycerol\",\"Triacylglycerol\",\"Triacylglycerol\",\"Triacylglycerol\",\"Triacylglycerol\",\"Triacylglycerol\",\"Triacylglycerol\",\"Triacylglycerol\",\"Triacylglycerol\",\"Triacylglycerol\",\"Triacylglycerol\",\"Triacylglycerol\",\"Triacylglycerol\",\"Triacylglycerol\",\"Triacylglycerol\",\"Triacylglycerol\",\"Triacylglycerol\",\"Triacylglycerol\",\"Triacylglycerol\",\"Triacylglycerol\",\"Triacylglycerol\",\"Triacylglycerol\",\"Triacylglycerol\",\"Triacylglycerol\",\"Triacylglycerol\",\"Triacylglycerol\",\"Triacylglycerol\",\"Triacylglycerol\",\"Triacylglycerol\",\"Triacylglycerol\",\"Triacylglycerol\",\"Triacylglycerol\",\"Triacylglycerol\",\"Triacylglycerol\",\"Triacylglycerol\",\"Triacylglycerol\",\"Triacylglycerol\",\"Triacylglycerol\",\"Triacylglycerol\",\"Triacylglycerol\",\"Triacylglycerol\",\"Triacylglycerol\",\"Triacylglycerol\",\"Triacylglycerol\",\"Triacylglycerol\",\"Triacylglycerol\",\"Triacylglycerol\",\"Triacylglycerol\",\"Triacylglycerol\",\"Triacylglycerol\",\"Triacylglycerol\",\"Triacylglycerol\",\"Triacylglycerol\",\"Triacylglycerol\",\"Triacylglycerol\",\"Triacylglycerol\",\"Triacylglycerol\",\"Triacylglycerol\",\"Triacylglycerol\",\"Triacylglycerol\",\"Triacylglycerol\",\"Triacylglycerol\",\"Triacylglycerol\",\"Triacylglycerol\",\"Triacylglycerol\",\"Triacylglycerol\",\"Triacylglycerol\",\"Triacylglycerol\",\"Triacylglycerol\",\"Triacylglycerol\",\"Triacylglycerol\",\"Triacylglycerol\",\"Triacylglycerol\",\"Triacylglycerol\",\"Triacylglycerol\",\"Triacylglycerol\",\"Triacylglycerol\",\"Triacylglycerol\",\"Triacylglycerol\",\"Triacylglycerol\",\"Triacylglycerol\",\"Triacylglycerol\",\"Triacylglycerol\",\"Triacylglycerol\",\"Triacylglycerol\",\"Triacylglycerol\",\"Triacylglycerol\",\"Triacylglycerol\",\"Triacylglycerol\",\"Triacylglycerol\",\"Triacylglycerol\",\"Triacylglycerol\",\"Triacylglycerol\",\"Triacylglycerol\",\"Triacylglycerol\"],\"xaxis\":\"x\",\"y\":{\"dtype\":\"i1\",\"bdata\":\"AQEBAQEBAQEBAQEBAQEBAQEBAQEBAQEBAQEBAQEBAQEBAQEBAQEBAQEBAQEBAQEBAQEBAQEBAQEBAQEBAQEBAQEBAQEBAQEBAQEBAQEBAQEBAQEBAQEBAQEBAQEBAQEBAQEBAQEBAQEBAQEBAQEBAQEBAQEBAQEBAQEBAQEBAQEBAQEBAQEBAQEBAQEBAQEBAQEBAQEBAQEBAQEBAQEBAQEBAQEBAQEBAQEBAQEBAQEBAQEBAQEBAQEBAQEBAQEBAQEBAQEBAQEBAQEBAQEBAQEBAQEBAQEBAQEBAQEBAQEBAQEBAQEBAQEBAQEBAQEBAQEBAQEBAQEBAQEBAQEBAQEBAQEBAQEBAQEBAQEBAQEBAQEBAQEBAQEBAQEBAQEBAQEBAQEBAQEBAQEBAQEBAQEBAQEBAQEBAQEBAQEBAQEBAQEBAQEBAQEBAQEBAQEBAQEBAQEBAQEBAQEBAQEBAQEBAQEBAQEBAQEBAQEBAQEBAQEBAQEBAQEBAQEBAQEBAQEBAQEBAQEBAQEBAQEBAQEBAQEBAQEBAQEBAQEBAQEBAQEBAQEBAQEBAQEBAQEBAQEBAQEBAQEBAQEBAQEBAQEBAQEBAQEBAQEBAQEBAQEBAQEBAQEBAQEBAQEBAQEBAQEBAQEBAQEBAQ==\"},\"yaxis\":\"y\",\"type\":\"bar\"},{\"hovertemplate\":\"SUPER_PATHWAY=%{x}\\u003cbr\\u003ecount=%{y}\\u003cextra\\u003e\\u003c\\u002fextra\\u003e\",\"legendgroup\":\".\",\"marker\":{\"color\":\"#19d3f3\",\"pattern\":{\"shape\":\"\"},\"line\":{\"width\":0}},\"name\":\".\",\"orientation\":\"v\",\"showlegend\":true,\"textposition\":\"auto\",\"x\":[\".\",\".\",\".\",\".\",\".\",\".\",\".\",\".\",\".\",\".\",\".\",\".\",\".\",\".\",\".\",\".\",\".\",\".\",\".\",\".\",\".\",\".\",\".\",\".\",\".\",\".\",\".\",\".\",\".\",\".\",\".\",\".\",\".\",\".\",\".\",\".\",\".\",\".\",\".\",\".\",\".\",\".\",\".\",\".\",\".\",\".\",\".\",\".\",\".\",\".\",\".\",\".\",\".\",\".\",\".\",\".\",\".\",\".\",\".\",\".\",\".\",\".\",\".\",\".\",\".\",\".\",\".\",\".\",\".\",\".\",\".\",\".\",\".\",\".\",\".\",\".\",\".\",\".\",\".\",\".\",\".\",\".\",\".\",\".\",\".\",\".\",\".\",\".\",\".\",\".\",\".\",\".\",\".\",\".\",\".\",\".\",\".\",\".\",\".\",\".\",\".\",\".\",\".\",\".\",\".\",\".\",\".\",\".\",\".\",\".\",\".\",\".\",\".\",\".\",\".\",\".\",\".\",\".\",\".\",\".\",\".\",\".\",\".\",\".\",\".\",\".\",\".\",\".\",\".\",\".\",\".\",\".\",\".\",\".\",\".\",\".\",\".\",\".\",\".\",\".\",\".\",\".\",\".\",\".\",\".\",\".\",\".\",\".\",\".\",\".\",\".\",\".\",\".\",\".\",\".\",\".\",\".\",\".\",\".\",\".\",\".\",\".\",\".\",\".\",\".\",\".\",\".\",\".\",\".\",\".\",\".\",\".\",\".\",\".\",\".\",\".\",\".\",\".\",\".\",\".\",\".\",\".\",\".\",\".\",\".\",\".\",\".\",\".\",\".\",\".\",\".\",\".\",\".\",\".\",\".\",\".\",\".\",\".\",\".\",\".\",\".\",\".\",\".\",\".\",\".\",\".\",\".\",\".\",\".\",\".\",\".\",\".\",\".\",\".\",\".\",\".\",\".\",\".\",\".\",\".\",\".\",\".\",\".\",\".\",\".\",\".\",\".\",\".\",\".\",\".\",\".\",\".\",\".\",\".\",\".\",\".\",\".\",\".\",\".\",\".\",\".\",\".\",\".\",\".\",\".\",\".\",\".\",\".\",\".\",\".\",\".\",\".\",\".\",\".\",\".\",\".\",\".\",\".\",\".\",\".\"],\"xaxis\":\"x\",\"y\":{\"dtype\":\"i1\",\"bdata\":\"AQEBAQEBAQEBAQEBAQEBAQEBAQEBAQEBAQEBAQEBAQEBAQEBAQEBAQEBAQEBAQEBAQEBAQEBAQEBAQEBAQEBAQEBAQEBAQEBAQEBAQEBAQEBAQEBAQEBAQEBAQEBAQEBAQEBAQEBAQEBAQEBAQEBAQEBAQEBAQEBAQEBAQEBAQEBAQEBAQEBAQEBAQEBAQEBAQEBAQEBAQEBAQEBAQEBAQEBAQEBAQEBAQEBAQEBAQEBAQEBAQEBAQEBAQEBAQEBAQEBAQEBAQEBAQEBAQEBAQEBAQEBAQEBAQEBAQEBAQEBAQEBAQEBAQEBAQEBAQEBAQEBAQEBAQEBAQEBAQEBAQEBAQE=\"},\"yaxis\":\"y\",\"type\":\"bar\"}],                        {\"template\":{\"data\":{\"histogram2dcontour\":[{\"type\":\"histogram2dcontour\",\"colorbar\":{\"outlinewidth\":0,\"ticks\":\"\"},\"colorscale\":[[0.0,\"#0d0887\"],[0.1111111111111111,\"#46039f\"],[0.2222222222222222,\"#7201a8\"],[0.3333333333333333,\"#9c179e\"],[0.4444444444444444,\"#bd3786\"],[0.5555555555555556,\"#d8576b\"],[0.6666666666666666,\"#ed7953\"],[0.7777777777777778,\"#fb9f3a\"],[0.8888888888888888,\"#fdca26\"],[1.0,\"#f0f921\"]]}],\"choropleth\":[{\"type\":\"choropleth\",\"colorbar\":{\"outlinewidth\":0,\"ticks\":\"\"}}],\"histogram2d\":[{\"type\":\"histogram2d\",\"colorbar\":{\"outlinewidth\":0,\"ticks\":\"\"},\"colorscale\":[[0.0,\"#0d0887\"],[0.1111111111111111,\"#46039f\"],[0.2222222222222222,\"#7201a8\"],[0.3333333333333333,\"#9c179e\"],[0.4444444444444444,\"#bd3786\"],[0.5555555555555556,\"#d8576b\"],[0.6666666666666666,\"#ed7953\"],[0.7777777777777778,\"#fb9f3a\"],[0.8888888888888888,\"#fdca26\"],[1.0,\"#f0f921\"]]}],\"heatmap\":[{\"type\":\"heatmap\",\"colorbar\":{\"outlinewidth\":0,\"ticks\":\"\"},\"colorscale\":[[0.0,\"#0d0887\"],[0.1111111111111111,\"#46039f\"],[0.2222222222222222,\"#7201a8\"],[0.3333333333333333,\"#9c179e\"],[0.4444444444444444,\"#bd3786\"],[0.5555555555555556,\"#d8576b\"],[0.6666666666666666,\"#ed7953\"],[0.7777777777777778,\"#fb9f3a\"],[0.8888888888888888,\"#fdca26\"],[1.0,\"#f0f921\"]]}],\"contourcarpet\":[{\"type\":\"contourcarpet\",\"colorbar\":{\"outlinewidth\":0,\"ticks\":\"\"}}],\"contour\":[{\"type\":\"contour\",\"colorbar\":{\"outlinewidth\":0,\"ticks\":\"\"},\"colorscale\":[[0.0,\"#0d0887\"],[0.1111111111111111,\"#46039f\"],[0.2222222222222222,\"#7201a8\"],[0.3333333333333333,\"#9c179e\"],[0.4444444444444444,\"#bd3786\"],[0.5555555555555556,\"#d8576b\"],[0.6666666666666666,\"#ed7953\"],[0.7777777777777778,\"#fb9f3a\"],[0.8888888888888888,\"#fdca26\"],[1.0,\"#f0f921\"]]}],\"surface\":[{\"type\":\"surface\",\"colorbar\":{\"outlinewidth\":0,\"ticks\":\"\"},\"colorscale\":[[0.0,\"#0d0887\"],[0.1111111111111111,\"#46039f\"],[0.2222222222222222,\"#7201a8\"],[0.3333333333333333,\"#9c179e\"],[0.4444444444444444,\"#bd3786\"],[0.5555555555555556,\"#d8576b\"],[0.6666666666666666,\"#ed7953\"],[0.7777777777777778,\"#fb9f3a\"],[0.8888888888888888,\"#fdca26\"],[1.0,\"#f0f921\"]]}],\"mesh3d\":[{\"type\":\"mesh3d\",\"colorbar\":{\"outlinewidth\":0,\"ticks\":\"\"}}],\"scatter\":[{\"fillpattern\":{\"fillmode\":\"overlay\",\"size\":10,\"solidity\":0.2},\"type\":\"scatter\"}],\"parcoords\":[{\"type\":\"parcoords\",\"line\":{\"colorbar\":{\"outlinewidth\":0,\"ticks\":\"\"}}}],\"scatterpolargl\":[{\"type\":\"scatterpolargl\",\"marker\":{\"colorbar\":{\"outlinewidth\":0,\"ticks\":\"\"}}}],\"bar\":[{\"error_x\":{\"color\":\"#2a3f5f\"},\"error_y\":{\"color\":\"#2a3f5f\"},\"marker\":{\"line\":{\"color\":\"#E5ECF6\",\"width\":0.5},\"pattern\":{\"fillmode\":\"overlay\",\"size\":10,\"solidity\":0.2}},\"type\":\"bar\"}],\"scattergeo\":[{\"type\":\"scattergeo\",\"marker\":{\"colorbar\":{\"outlinewidth\":0,\"ticks\":\"\"}}}],\"scatterpolar\":[{\"type\":\"scatterpolar\",\"marker\":{\"colorbar\":{\"outlinewidth\":0,\"ticks\":\"\"}}}],\"histogram\":[{\"marker\":{\"pattern\":{\"fillmode\":\"overlay\",\"size\":10,\"solidity\":0.2}},\"type\":\"histogram\"}],\"scattergl\":[{\"type\":\"scattergl\",\"marker\":{\"colorbar\":{\"outlinewidth\":0,\"ticks\":\"\"}}}],\"scatter3d\":[{\"type\":\"scatter3d\",\"line\":{\"colorbar\":{\"outlinewidth\":0,\"ticks\":\"\"}},\"marker\":{\"colorbar\":{\"outlinewidth\":0,\"ticks\":\"\"}}}],\"scattermap\":[{\"type\":\"scattermap\",\"marker\":{\"colorbar\":{\"outlinewidth\":0,\"ticks\":\"\"}}}],\"scattermapbox\":[{\"type\":\"scattermapbox\",\"marker\":{\"colorbar\":{\"outlinewidth\":0,\"ticks\":\"\"}}}],\"scatterternary\":[{\"type\":\"scatterternary\",\"marker\":{\"colorbar\":{\"outlinewidth\":0,\"ticks\":\"\"}}}],\"scattercarpet\":[{\"type\":\"scattercarpet\",\"marker\":{\"colorbar\":{\"outlinewidth\":0,\"ticks\":\"\"}}}],\"carpet\":[{\"aaxis\":{\"endlinecolor\":\"#2a3f5f\",\"gridcolor\":\"white\",\"linecolor\":\"white\",\"minorgridcolor\":\"white\",\"startlinecolor\":\"#2a3f5f\"},\"baxis\":{\"endlinecolor\":\"#2a3f5f\",\"gridcolor\":\"white\",\"linecolor\":\"white\",\"minorgridcolor\":\"white\",\"startlinecolor\":\"#2a3f5f\"},\"type\":\"carpet\"}],\"table\":[{\"cells\":{\"fill\":{\"color\":\"#EBF0F8\"},\"line\":{\"color\":\"white\"}},\"header\":{\"fill\":{\"color\":\"#C8D4E3\"},\"line\":{\"color\":\"white\"}},\"type\":\"table\"}],\"barpolar\":[{\"marker\":{\"line\":{\"color\":\"#E5ECF6\",\"width\":0.5},\"pattern\":{\"fillmode\":\"overlay\",\"size\":10,\"solidity\":0.2}},\"type\":\"barpolar\"}],\"pie\":[{\"automargin\":true,\"type\":\"pie\"}]},\"layout\":{\"autotypenumbers\":\"strict\",\"colorway\":[\"#636efa\",\"#EF553B\",\"#00cc96\",\"#ab63fa\",\"#FFA15A\",\"#19d3f3\",\"#FF6692\",\"#B6E880\",\"#FF97FF\",\"#FECB52\"],\"font\":{\"color\":\"#2a3f5f\"},\"hovermode\":\"closest\",\"hoverlabel\":{\"align\":\"left\"},\"paper_bgcolor\":\"white\",\"plot_bgcolor\":\"#E5ECF6\",\"polar\":{\"bgcolor\":\"#E5ECF6\",\"angularaxis\":{\"gridcolor\":\"white\",\"linecolor\":\"white\",\"ticks\":\"\"},\"radialaxis\":{\"gridcolor\":\"white\",\"linecolor\":\"white\",\"ticks\":\"\"}},\"ternary\":{\"bgcolor\":\"#E5ECF6\",\"aaxis\":{\"gridcolor\":\"white\",\"linecolor\":\"white\",\"ticks\":\"\"},\"baxis\":{\"gridcolor\":\"white\",\"linecolor\":\"white\",\"ticks\":\"\"},\"caxis\":{\"gridcolor\":\"white\",\"linecolor\":\"white\",\"ticks\":\"\"}},\"coloraxis\":{\"colorbar\":{\"outlinewidth\":0,\"ticks\":\"\"}},\"colorscale\":{\"sequential\":[[0.0,\"#0d0887\"],[0.1111111111111111,\"#46039f\"],[0.2222222222222222,\"#7201a8\"],[0.3333333333333333,\"#9c179e\"],[0.4444444444444444,\"#bd3786\"],[0.5555555555555556,\"#d8576b\"],[0.6666666666666666,\"#ed7953\"],[0.7777777777777778,\"#fb9f3a\"],[0.8888888888888888,\"#fdca26\"],[1.0,\"#f0f921\"]],\"sequentialminus\":[[0.0,\"#0d0887\"],[0.1111111111111111,\"#46039f\"],[0.2222222222222222,\"#7201a8\"],[0.3333333333333333,\"#9c179e\"],[0.4444444444444444,\"#bd3786\"],[0.5555555555555556,\"#d8576b\"],[0.6666666666666666,\"#ed7953\"],[0.7777777777777778,\"#fb9f3a\"],[0.8888888888888888,\"#fdca26\"],[1.0,\"#f0f921\"]],\"diverging\":[[0,\"#8e0152\"],[0.1,\"#c51b7d\"],[0.2,\"#de77ae\"],[0.3,\"#f1b6da\"],[0.4,\"#fde0ef\"],[0.5,\"#f7f7f7\"],[0.6,\"#e6f5d0\"],[0.7,\"#b8e186\"],[0.8,\"#7fbc41\"],[0.9,\"#4d9221\"],[1,\"#276419\"]]},\"xaxis\":{\"gridcolor\":\"white\",\"linecolor\":\"white\",\"ticks\":\"\",\"title\":{\"standoff\":15},\"zerolinecolor\":\"white\",\"automargin\":true,\"zerolinewidth\":2},\"yaxis\":{\"gridcolor\":\"white\",\"linecolor\":\"white\",\"ticks\":\"\",\"title\":{\"standoff\":15},\"zerolinecolor\":\"white\",\"automargin\":true,\"zerolinewidth\":2},\"scene\":{\"xaxis\":{\"backgroundcolor\":\"#E5ECF6\",\"gridcolor\":\"white\",\"linecolor\":\"white\",\"showbackground\":true,\"ticks\":\"\",\"zerolinecolor\":\"white\",\"gridwidth\":2},\"yaxis\":{\"backgroundcolor\":\"#E5ECF6\",\"gridcolor\":\"white\",\"linecolor\":\"white\",\"showbackground\":true,\"ticks\":\"\",\"zerolinecolor\":\"white\",\"gridwidth\":2},\"zaxis\":{\"backgroundcolor\":\"#E5ECF6\",\"gridcolor\":\"white\",\"linecolor\":\"white\",\"showbackground\":true,\"ticks\":\"\",\"zerolinecolor\":\"white\",\"gridwidth\":2}},\"shapedefaults\":{\"line\":{\"color\":\"#2a3f5f\"}},\"annotationdefaults\":{\"arrowcolor\":\"#2a3f5f\",\"arrowhead\":0,\"arrowwidth\":1},\"geo\":{\"bgcolor\":\"white\",\"landcolor\":\"#E5ECF6\",\"subunitcolor\":\"white\",\"showland\":true,\"showlakes\":true,\"lakecolor\":\"white\"},\"title\":{\"x\":0.05},\"mapbox\":{\"style\":\"light\"}}},\"xaxis\":{\"anchor\":\"y\",\"domain\":[0.0,1.0],\"title\":{\"text\":\"SUPER_PATHWAY\"},\"categoryorder\":\"array\",\"categoryarray\":[\"Amino Acid\",\"Peptide\",\"Carbohydrate\",\"Energy\",\"Lipid\",\"Nucleotide\",\"Cofactors and Vitamins\",\"Xenobiotics\",\"Neutral Complex Lipids\",\"Phospholipids\",\"Sphingolipids\",\"Cholesterol Ester\",\"Ceramides\",\"Diacylglycerol\",\"Dihydroceramides\",\"Free Fatty Acids\",\"Hexosylceramides\",\"Lactosylceramide\",\"Lysophosphatidylcholine\",\"Lysophosphatidylethanolamine\",\"Phosphatidylcholine\",\"Phosphatidylethanolamine\",\"PI\",\"Sphingomyelin\",\"Triacylglycerol\",\".\"]},\"yaxis\":{\"anchor\":\"x\",\"domain\":[0.0,1.0],\"title\":{\"text\":\"count\"}},\"legend\":{\"title\":{\"text\":\"SUPER_PATHWAY\"},\"tracegroupgap\":0},\"margin\":{\"t\":60},\"barmode\":\"relative\"},                        {\"responsive\": true}                    ).then(function(){\n",
       "                            \n",
       "var gd = document.getElementById('23a04b03-ca52-48ba-bce2-6e8b0a972a99');\n",
       "var x = new MutationObserver(function (mutations, observer) {{\n",
       "        var display = window.getComputedStyle(gd).display;\n",
       "        if (!display || display === 'none') {{\n",
       "            console.log([gd, 'removed!']);\n",
       "            Plotly.purge(gd);\n",
       "            observer.disconnect();\n",
       "        }}\n",
       "}});\n",
       "\n",
       "// Listen for the removal of the full notebook cells\n",
       "var notebookContainer = gd.closest('#notebook-container');\n",
       "if (notebookContainer) {{\n",
       "    x.observe(notebookContainer, {childList: true});\n",
       "}}\n",
       "\n",
       "// Listen for the clearing of the current output cell\n",
       "var outputEl = gd.closest('.output');\n",
       "if (outputEl) {{\n",
       "    x.observe(outputEl, {childList: true});\n",
       "}}\n",
       "\n",
       "                        })                };            </script>        </div>"
      ]
     },
     "metadata": {},
     "output_type": "display_data"
    }
   ],
   "source": [
    "# GRAFICO DE BARRAS IDENTIFICACION DEL GRUPO DE BIOQUIMICO AL QUE PERTENECEN LOS COMPUESTOS IDENTIFICADOS\n",
    "fig = px.bar(data_dictionary, x=\"SUPER_PATHWAY\", color=\"SUPER_PATHWAY\")\n",
    "fig.update_traces(marker_line_width=0)\n",
    "fig.show()"
   ]
  },
  {
   "cell_type": "code",
   "execution_count": 56,
   "id": "6ba4933b",
   "metadata": {},
   "outputs": [
    {
     "data": {
      "text/plain": [
       "SUPER_PATHWAY\n",
       "Triacylglycerol                 490\n",
       ".                               260\n",
       "Amino Acid                      149\n",
       "Lipid                           142\n",
       "Xenobiotics                      89\n",
       "Diacylglycerol                   52\n",
       "Phosphatidylcholine              41\n",
       "Phosphatidylethanolamine         37\n",
       "Nucleotide                       27\n",
       "Cholesterol Ester                26\n",
       "Free Fatty Acids                 26\n",
       "Peptide                          24\n",
       "Carbohydrate                     21\n",
       "Cofactors and Vitamins           18\n",
       "Lysophosphatidylcholine          15\n",
       "Sphingomyelin                    12\n",
       "Ceramides                         9\n",
       "Energy                            8\n",
       "Hexosylceramides                  7\n",
       "Lysophosphatidylethanolamine      6\n",
       "Sphingolipids                     5\n",
       "PI                                5\n",
       "Phospholipids                     5\n",
       "Lactosylceramide                  4\n",
       "Neutral Complex Lipids            4\n",
       "Dihydroceramides                  4\n",
       "Name: count, dtype: int64"
      ]
     },
     "execution_count": 56,
     "metadata": {},
     "output_type": "execute_result"
    }
   ],
   "source": [
    "#sacar la clase a la que pertenecen los compuestos\n",
    "grupo_compuestos= data_dictionary[\"SUPER_PATHWAY\"].value_counts()\n",
    "grupo_compuestos"
   ]
  },
  {
   "cell_type": "code",
   "execution_count": 57,
   "id": "74d131fd",
   "metadata": {},
   "outputs": [
    {
     "data": {
      "application/vnd.plotly.v1+json": {
       "config": {
        "plotlyServerURL": "https://plot.ly"
       },
       "data": [
        {
         "hovertemplate": "SUPER_PATHWAY=%{x}<br>count=%{y}<extra></extra>",
         "legendgroup": "Triacylglycerol",
         "marker": {
          "color": "#636efa",
          "line": {
           "width": 0
          },
          "pattern": {
           "shape": ""
          }
         },
         "name": "Triacylglycerol",
         "orientation": "v",
         "showlegend": true,
         "textposition": "auto",
         "type": "bar",
         "x": [
          "Triacylglycerol"
         ],
         "xaxis": "x",
         "y": {
          "bdata": "6gE=",
          "dtype": "i2"
         },
         "yaxis": "y"
        },
        {
         "hovertemplate": "SUPER_PATHWAY=%{x}<br>count=%{y}<extra></extra>",
         "legendgroup": ".",
         "marker": {
          "color": "#EF553B",
          "line": {
           "width": 0
          },
          "pattern": {
           "shape": ""
          }
         },
         "name": ".",
         "orientation": "v",
         "showlegend": true,
         "textposition": "auto",
         "type": "bar",
         "x": [
          "."
         ],
         "xaxis": "x",
         "y": {
          "bdata": "BAE=",
          "dtype": "i2"
         },
         "yaxis": "y"
        },
        {
         "hovertemplate": "SUPER_PATHWAY=%{x}<br>count=%{y}<extra></extra>",
         "legendgroup": "Amino Acid",
         "marker": {
          "color": "#00cc96",
          "line": {
           "width": 0
          },
          "pattern": {
           "shape": ""
          }
         },
         "name": "Amino Acid",
         "orientation": "v",
         "showlegend": true,
         "textposition": "auto",
         "type": "bar",
         "x": [
          "Amino Acid"
         ],
         "xaxis": "x",
         "y": {
          "bdata": "lQA=",
          "dtype": "i2"
         },
         "yaxis": "y"
        },
        {
         "hovertemplate": "SUPER_PATHWAY=%{x}<br>count=%{y}<extra></extra>",
         "legendgroup": "Lipid",
         "marker": {
          "color": "#ab63fa",
          "line": {
           "width": 0
          },
          "pattern": {
           "shape": ""
          }
         },
         "name": "Lipid",
         "orientation": "v",
         "showlegend": true,
         "textposition": "auto",
         "type": "bar",
         "x": [
          "Lipid"
         ],
         "xaxis": "x",
         "y": {
          "bdata": "jgA=",
          "dtype": "i2"
         },
         "yaxis": "y"
        },
        {
         "hovertemplate": "SUPER_PATHWAY=%{x}<br>count=%{y}<extra></extra>",
         "legendgroup": "Xenobiotics",
         "marker": {
          "color": "#FFA15A",
          "line": {
           "width": 0
          },
          "pattern": {
           "shape": ""
          }
         },
         "name": "Xenobiotics",
         "orientation": "v",
         "showlegend": true,
         "textposition": "auto",
         "type": "bar",
         "x": [
          "Xenobiotics"
         ],
         "xaxis": "x",
         "y": {
          "bdata": "WQ==",
          "dtype": "i1"
         },
         "yaxis": "y"
        },
        {
         "hovertemplate": "SUPER_PATHWAY=%{x}<br>count=%{y}<extra></extra>",
         "legendgroup": "Diacylglycerol",
         "marker": {
          "color": "#19d3f3",
          "line": {
           "width": 0
          },
          "pattern": {
           "shape": ""
          }
         },
         "name": "Diacylglycerol",
         "orientation": "v",
         "showlegend": true,
         "textposition": "auto",
         "type": "bar",
         "x": [
          "Diacylglycerol"
         ],
         "xaxis": "x",
         "y": {
          "bdata": "NA==",
          "dtype": "i1"
         },
         "yaxis": "y"
        },
        {
         "hovertemplate": "SUPER_PATHWAY=%{x}<br>count=%{y}<extra></extra>",
         "legendgroup": "Phosphatidylcholine",
         "marker": {
          "color": "#FF6692",
          "line": {
           "width": 0
          },
          "pattern": {
           "shape": ""
          }
         },
         "name": "Phosphatidylcholine",
         "orientation": "v",
         "showlegend": true,
         "textposition": "auto",
         "type": "bar",
         "x": [
          "Phosphatidylcholine"
         ],
         "xaxis": "x",
         "y": {
          "bdata": "KQ==",
          "dtype": "i1"
         },
         "yaxis": "y"
        },
        {
         "hovertemplate": "SUPER_PATHWAY=%{x}<br>count=%{y}<extra></extra>",
         "legendgroup": "Phosphatidylethanolamine",
         "marker": {
          "color": "#B6E880",
          "line": {
           "width": 0
          },
          "pattern": {
           "shape": ""
          }
         },
         "name": "Phosphatidylethanolamine",
         "orientation": "v",
         "showlegend": true,
         "textposition": "auto",
         "type": "bar",
         "x": [
          "Phosphatidylethanolamine"
         ],
         "xaxis": "x",
         "y": {
          "bdata": "JQ==",
          "dtype": "i1"
         },
         "yaxis": "y"
        },
        {
         "hovertemplate": "SUPER_PATHWAY=%{x}<br>count=%{y}<extra></extra>",
         "legendgroup": "Nucleotide",
         "marker": {
          "color": "#FF97FF",
          "line": {
           "width": 0
          },
          "pattern": {
           "shape": ""
          }
         },
         "name": "Nucleotide",
         "orientation": "v",
         "showlegend": true,
         "textposition": "auto",
         "type": "bar",
         "x": [
          "Nucleotide"
         ],
         "xaxis": "x",
         "y": {
          "bdata": "Gw==",
          "dtype": "i1"
         },
         "yaxis": "y"
        },
        {
         "hovertemplate": "SUPER_PATHWAY=%{x}<br>count=%{y}<extra></extra>",
         "legendgroup": "Cholesterol Ester",
         "marker": {
          "color": "#FECB52",
          "line": {
           "width": 0
          },
          "pattern": {
           "shape": ""
          }
         },
         "name": "Cholesterol Ester",
         "orientation": "v",
         "showlegend": true,
         "textposition": "auto",
         "type": "bar",
         "x": [
          "Cholesterol Ester"
         ],
         "xaxis": "x",
         "y": {
          "bdata": "Gg==",
          "dtype": "i1"
         },
         "yaxis": "y"
        },
        {
         "hovertemplate": "SUPER_PATHWAY=%{x}<br>count=%{y}<extra></extra>",
         "legendgroup": "Free Fatty Acids",
         "marker": {
          "color": "#636efa",
          "line": {
           "width": 0
          },
          "pattern": {
           "shape": ""
          }
         },
         "name": "Free Fatty Acids",
         "orientation": "v",
         "showlegend": true,
         "textposition": "auto",
         "type": "bar",
         "x": [
          "Free Fatty Acids"
         ],
         "xaxis": "x",
         "y": {
          "bdata": "Gg==",
          "dtype": "i1"
         },
         "yaxis": "y"
        },
        {
         "hovertemplate": "SUPER_PATHWAY=%{x}<br>count=%{y}<extra></extra>",
         "legendgroup": "Peptide",
         "marker": {
          "color": "#EF553B",
          "line": {
           "width": 0
          },
          "pattern": {
           "shape": ""
          }
         },
         "name": "Peptide",
         "orientation": "v",
         "showlegend": true,
         "textposition": "auto",
         "type": "bar",
         "x": [
          "Peptide"
         ],
         "xaxis": "x",
         "y": {
          "bdata": "GA==",
          "dtype": "i1"
         },
         "yaxis": "y"
        },
        {
         "hovertemplate": "SUPER_PATHWAY=%{x}<br>count=%{y}<extra></extra>",
         "legendgroup": "Carbohydrate",
         "marker": {
          "color": "#00cc96",
          "line": {
           "width": 0
          },
          "pattern": {
           "shape": ""
          }
         },
         "name": "Carbohydrate",
         "orientation": "v",
         "showlegend": true,
         "textposition": "auto",
         "type": "bar",
         "x": [
          "Carbohydrate"
         ],
         "xaxis": "x",
         "y": {
          "bdata": "FQ==",
          "dtype": "i1"
         },
         "yaxis": "y"
        },
        {
         "hovertemplate": "SUPER_PATHWAY=%{x}<br>count=%{y}<extra></extra>",
         "legendgroup": "Cofactors and Vitamins",
         "marker": {
          "color": "#ab63fa",
          "line": {
           "width": 0
          },
          "pattern": {
           "shape": ""
          }
         },
         "name": "Cofactors and Vitamins",
         "orientation": "v",
         "showlegend": true,
         "textposition": "auto",
         "type": "bar",
         "x": [
          "Cofactors and Vitamins"
         ],
         "xaxis": "x",
         "y": {
          "bdata": "Eg==",
          "dtype": "i1"
         },
         "yaxis": "y"
        },
        {
         "hovertemplate": "SUPER_PATHWAY=%{x}<br>count=%{y}<extra></extra>",
         "legendgroup": "Lysophosphatidylcholine",
         "marker": {
          "color": "#FFA15A",
          "line": {
           "width": 0
          },
          "pattern": {
           "shape": ""
          }
         },
         "name": "Lysophosphatidylcholine",
         "orientation": "v",
         "showlegend": true,
         "textposition": "auto",
         "type": "bar",
         "x": [
          "Lysophosphatidylcholine"
         ],
         "xaxis": "x",
         "y": {
          "bdata": "Dw==",
          "dtype": "i1"
         },
         "yaxis": "y"
        },
        {
         "hovertemplate": "SUPER_PATHWAY=%{x}<br>count=%{y}<extra></extra>",
         "legendgroup": "Sphingomyelin",
         "marker": {
          "color": "#19d3f3",
          "line": {
           "width": 0
          },
          "pattern": {
           "shape": ""
          }
         },
         "name": "Sphingomyelin",
         "orientation": "v",
         "showlegend": true,
         "textposition": "auto",
         "type": "bar",
         "x": [
          "Sphingomyelin"
         ],
         "xaxis": "x",
         "y": {
          "bdata": "DA==",
          "dtype": "i1"
         },
         "yaxis": "y"
        },
        {
         "hovertemplate": "SUPER_PATHWAY=%{x}<br>count=%{y}<extra></extra>",
         "legendgroup": "Ceramides",
         "marker": {
          "color": "#FF6692",
          "line": {
           "width": 0
          },
          "pattern": {
           "shape": ""
          }
         },
         "name": "Ceramides",
         "orientation": "v",
         "showlegend": true,
         "textposition": "auto",
         "type": "bar",
         "x": [
          "Ceramides"
         ],
         "xaxis": "x",
         "y": {
          "bdata": "CQ==",
          "dtype": "i1"
         },
         "yaxis": "y"
        },
        {
         "hovertemplate": "SUPER_PATHWAY=%{x}<br>count=%{y}<extra></extra>",
         "legendgroup": "Energy",
         "marker": {
          "color": "#B6E880",
          "line": {
           "width": 0
          },
          "pattern": {
           "shape": ""
          }
         },
         "name": "Energy",
         "orientation": "v",
         "showlegend": true,
         "textposition": "auto",
         "type": "bar",
         "x": [
          "Energy"
         ],
         "xaxis": "x",
         "y": {
          "bdata": "CA==",
          "dtype": "i1"
         },
         "yaxis": "y"
        },
        {
         "hovertemplate": "SUPER_PATHWAY=%{x}<br>count=%{y}<extra></extra>",
         "legendgroup": "Hexosylceramides",
         "marker": {
          "color": "#FF97FF",
          "line": {
           "width": 0
          },
          "pattern": {
           "shape": ""
          }
         },
         "name": "Hexosylceramides",
         "orientation": "v",
         "showlegend": true,
         "textposition": "auto",
         "type": "bar",
         "x": [
          "Hexosylceramides"
         ],
         "xaxis": "x",
         "y": {
          "bdata": "Bw==",
          "dtype": "i1"
         },
         "yaxis": "y"
        },
        {
         "hovertemplate": "SUPER_PATHWAY=%{x}<br>count=%{y}<extra></extra>",
         "legendgroup": "Lysophosphatidylethanolamine",
         "marker": {
          "color": "#FECB52",
          "line": {
           "width": 0
          },
          "pattern": {
           "shape": ""
          }
         },
         "name": "Lysophosphatidylethanolamine",
         "orientation": "v",
         "showlegend": true,
         "textposition": "auto",
         "type": "bar",
         "x": [
          "Lysophosphatidylethanolamine"
         ],
         "xaxis": "x",
         "y": {
          "bdata": "Bg==",
          "dtype": "i1"
         },
         "yaxis": "y"
        },
        {
         "hovertemplate": "SUPER_PATHWAY=%{x}<br>count=%{y}<extra></extra>",
         "legendgroup": "Sphingolipids",
         "marker": {
          "color": "#636efa",
          "line": {
           "width": 0
          },
          "pattern": {
           "shape": ""
          }
         },
         "name": "Sphingolipids",
         "orientation": "v",
         "showlegend": true,
         "textposition": "auto",
         "type": "bar",
         "x": [
          "Sphingolipids"
         ],
         "xaxis": "x",
         "y": {
          "bdata": "BQ==",
          "dtype": "i1"
         },
         "yaxis": "y"
        },
        {
         "hovertemplate": "SUPER_PATHWAY=%{x}<br>count=%{y}<extra></extra>",
         "legendgroup": "PI",
         "marker": {
          "color": "#EF553B",
          "line": {
           "width": 0
          },
          "pattern": {
           "shape": ""
          }
         },
         "name": "PI",
         "orientation": "v",
         "showlegend": true,
         "textposition": "auto",
         "type": "bar",
         "x": [
          "PI"
         ],
         "xaxis": "x",
         "y": {
          "bdata": "BQ==",
          "dtype": "i1"
         },
         "yaxis": "y"
        },
        {
         "hovertemplate": "SUPER_PATHWAY=%{x}<br>count=%{y}<extra></extra>",
         "legendgroup": "Phospholipids",
         "marker": {
          "color": "#00cc96",
          "line": {
           "width": 0
          },
          "pattern": {
           "shape": ""
          }
         },
         "name": "Phospholipids",
         "orientation": "v",
         "showlegend": true,
         "textposition": "auto",
         "type": "bar",
         "x": [
          "Phospholipids"
         ],
         "xaxis": "x",
         "y": {
          "bdata": "BQ==",
          "dtype": "i1"
         },
         "yaxis": "y"
        },
        {
         "hovertemplate": "SUPER_PATHWAY=%{x}<br>count=%{y}<extra></extra>",
         "legendgroup": "Lactosylceramide",
         "marker": {
          "color": "#ab63fa",
          "line": {
           "width": 0
          },
          "pattern": {
           "shape": ""
          }
         },
         "name": "Lactosylceramide",
         "orientation": "v",
         "showlegend": true,
         "textposition": "auto",
         "type": "bar",
         "x": [
          "Lactosylceramide"
         ],
         "xaxis": "x",
         "y": {
          "bdata": "BA==",
          "dtype": "i1"
         },
         "yaxis": "y"
        },
        {
         "hovertemplate": "SUPER_PATHWAY=%{x}<br>count=%{y}<extra></extra>",
         "legendgroup": "Neutral Complex Lipids",
         "marker": {
          "color": "#FFA15A",
          "line": {
           "width": 0
          },
          "pattern": {
           "shape": ""
          }
         },
         "name": "Neutral Complex Lipids",
         "orientation": "v",
         "showlegend": true,
         "textposition": "auto",
         "type": "bar",
         "x": [
          "Neutral Complex Lipids"
         ],
         "xaxis": "x",
         "y": {
          "bdata": "BA==",
          "dtype": "i1"
         },
         "yaxis": "y"
        },
        {
         "hovertemplate": "SUPER_PATHWAY=%{x}<br>count=%{y}<extra></extra>",
         "legendgroup": "Dihydroceramides",
         "marker": {
          "color": "#19d3f3",
          "line": {
           "width": 0
          },
          "pattern": {
           "shape": ""
          }
         },
         "name": "Dihydroceramides",
         "orientation": "v",
         "showlegend": true,
         "textposition": "auto",
         "type": "bar",
         "x": [
          "Dihydroceramides"
         ],
         "xaxis": "x",
         "y": {
          "bdata": "BA==",
          "dtype": "i1"
         },
         "yaxis": "y"
        }
       ],
       "layout": {
        "barmode": "relative",
        "legend": {
         "title": {
          "text": "SUPER_PATHWAY"
         },
         "tracegroupgap": 0
        },
        "margin": {
         "t": 60
        },
        "template": {
         "data": {
          "bar": [
           {
            "error_x": {
             "color": "#2a3f5f"
            },
            "error_y": {
             "color": "#2a3f5f"
            },
            "marker": {
             "line": {
              "color": "#E5ECF6",
              "width": 0.5
             },
             "pattern": {
              "fillmode": "overlay",
              "size": 10,
              "solidity": 0.2
             }
            },
            "type": "bar"
           }
          ],
          "barpolar": [
           {
            "marker": {
             "line": {
              "color": "#E5ECF6",
              "width": 0.5
             },
             "pattern": {
              "fillmode": "overlay",
              "size": 10,
              "solidity": 0.2
             }
            },
            "type": "barpolar"
           }
          ],
          "carpet": [
           {
            "aaxis": {
             "endlinecolor": "#2a3f5f",
             "gridcolor": "white",
             "linecolor": "white",
             "minorgridcolor": "white",
             "startlinecolor": "#2a3f5f"
            },
            "baxis": {
             "endlinecolor": "#2a3f5f",
             "gridcolor": "white",
             "linecolor": "white",
             "minorgridcolor": "white",
             "startlinecolor": "#2a3f5f"
            },
            "type": "carpet"
           }
          ],
          "choropleth": [
           {
            "colorbar": {
             "outlinewidth": 0,
             "ticks": ""
            },
            "type": "choropleth"
           }
          ],
          "contour": [
           {
            "colorbar": {
             "outlinewidth": 0,
             "ticks": ""
            },
            "colorscale": [
             [
              0,
              "#0d0887"
             ],
             [
              0.1111111111111111,
              "#46039f"
             ],
             [
              0.2222222222222222,
              "#7201a8"
             ],
             [
              0.3333333333333333,
              "#9c179e"
             ],
             [
              0.4444444444444444,
              "#bd3786"
             ],
             [
              0.5555555555555556,
              "#d8576b"
             ],
             [
              0.6666666666666666,
              "#ed7953"
             ],
             [
              0.7777777777777778,
              "#fb9f3a"
             ],
             [
              0.8888888888888888,
              "#fdca26"
             ],
             [
              1,
              "#f0f921"
             ]
            ],
            "type": "contour"
           }
          ],
          "contourcarpet": [
           {
            "colorbar": {
             "outlinewidth": 0,
             "ticks": ""
            },
            "type": "contourcarpet"
           }
          ],
          "heatmap": [
           {
            "colorbar": {
             "outlinewidth": 0,
             "ticks": ""
            },
            "colorscale": [
             [
              0,
              "#0d0887"
             ],
             [
              0.1111111111111111,
              "#46039f"
             ],
             [
              0.2222222222222222,
              "#7201a8"
             ],
             [
              0.3333333333333333,
              "#9c179e"
             ],
             [
              0.4444444444444444,
              "#bd3786"
             ],
             [
              0.5555555555555556,
              "#d8576b"
             ],
             [
              0.6666666666666666,
              "#ed7953"
             ],
             [
              0.7777777777777778,
              "#fb9f3a"
             ],
             [
              0.8888888888888888,
              "#fdca26"
             ],
             [
              1,
              "#f0f921"
             ]
            ],
            "type": "heatmap"
           }
          ],
          "histogram": [
           {
            "marker": {
             "pattern": {
              "fillmode": "overlay",
              "size": 10,
              "solidity": 0.2
             }
            },
            "type": "histogram"
           }
          ],
          "histogram2d": [
           {
            "colorbar": {
             "outlinewidth": 0,
             "ticks": ""
            },
            "colorscale": [
             [
              0,
              "#0d0887"
             ],
             [
              0.1111111111111111,
              "#46039f"
             ],
             [
              0.2222222222222222,
              "#7201a8"
             ],
             [
              0.3333333333333333,
              "#9c179e"
             ],
             [
              0.4444444444444444,
              "#bd3786"
             ],
             [
              0.5555555555555556,
              "#d8576b"
             ],
             [
              0.6666666666666666,
              "#ed7953"
             ],
             [
              0.7777777777777778,
              "#fb9f3a"
             ],
             [
              0.8888888888888888,
              "#fdca26"
             ],
             [
              1,
              "#f0f921"
             ]
            ],
            "type": "histogram2d"
           }
          ],
          "histogram2dcontour": [
           {
            "colorbar": {
             "outlinewidth": 0,
             "ticks": ""
            },
            "colorscale": [
             [
              0,
              "#0d0887"
             ],
             [
              0.1111111111111111,
              "#46039f"
             ],
             [
              0.2222222222222222,
              "#7201a8"
             ],
             [
              0.3333333333333333,
              "#9c179e"
             ],
             [
              0.4444444444444444,
              "#bd3786"
             ],
             [
              0.5555555555555556,
              "#d8576b"
             ],
             [
              0.6666666666666666,
              "#ed7953"
             ],
             [
              0.7777777777777778,
              "#fb9f3a"
             ],
             [
              0.8888888888888888,
              "#fdca26"
             ],
             [
              1,
              "#f0f921"
             ]
            ],
            "type": "histogram2dcontour"
           }
          ],
          "mesh3d": [
           {
            "colorbar": {
             "outlinewidth": 0,
             "ticks": ""
            },
            "type": "mesh3d"
           }
          ],
          "parcoords": [
           {
            "line": {
             "colorbar": {
              "outlinewidth": 0,
              "ticks": ""
             }
            },
            "type": "parcoords"
           }
          ],
          "pie": [
           {
            "automargin": true,
            "type": "pie"
           }
          ],
          "scatter": [
           {
            "fillpattern": {
             "fillmode": "overlay",
             "size": 10,
             "solidity": 0.2
            },
            "type": "scatter"
           }
          ],
          "scatter3d": [
           {
            "line": {
             "colorbar": {
              "outlinewidth": 0,
              "ticks": ""
             }
            },
            "marker": {
             "colorbar": {
              "outlinewidth": 0,
              "ticks": ""
             }
            },
            "type": "scatter3d"
           }
          ],
          "scattercarpet": [
           {
            "marker": {
             "colorbar": {
              "outlinewidth": 0,
              "ticks": ""
             }
            },
            "type": "scattercarpet"
           }
          ],
          "scattergeo": [
           {
            "marker": {
             "colorbar": {
              "outlinewidth": 0,
              "ticks": ""
             }
            },
            "type": "scattergeo"
           }
          ],
          "scattergl": [
           {
            "marker": {
             "colorbar": {
              "outlinewidth": 0,
              "ticks": ""
             }
            },
            "type": "scattergl"
           }
          ],
          "scattermap": [
           {
            "marker": {
             "colorbar": {
              "outlinewidth": 0,
              "ticks": ""
             }
            },
            "type": "scattermap"
           }
          ],
          "scattermapbox": [
           {
            "marker": {
             "colorbar": {
              "outlinewidth": 0,
              "ticks": ""
             }
            },
            "type": "scattermapbox"
           }
          ],
          "scatterpolar": [
           {
            "marker": {
             "colorbar": {
              "outlinewidth": 0,
              "ticks": ""
             }
            },
            "type": "scatterpolar"
           }
          ],
          "scatterpolargl": [
           {
            "marker": {
             "colorbar": {
              "outlinewidth": 0,
              "ticks": ""
             }
            },
            "type": "scatterpolargl"
           }
          ],
          "scatterternary": [
           {
            "marker": {
             "colorbar": {
              "outlinewidth": 0,
              "ticks": ""
             }
            },
            "type": "scatterternary"
           }
          ],
          "surface": [
           {
            "colorbar": {
             "outlinewidth": 0,
             "ticks": ""
            },
            "colorscale": [
             [
              0,
              "#0d0887"
             ],
             [
              0.1111111111111111,
              "#46039f"
             ],
             [
              0.2222222222222222,
              "#7201a8"
             ],
             [
              0.3333333333333333,
              "#9c179e"
             ],
             [
              0.4444444444444444,
              "#bd3786"
             ],
             [
              0.5555555555555556,
              "#d8576b"
             ],
             [
              0.6666666666666666,
              "#ed7953"
             ],
             [
              0.7777777777777778,
              "#fb9f3a"
             ],
             [
              0.8888888888888888,
              "#fdca26"
             ],
             [
              1,
              "#f0f921"
             ]
            ],
            "type": "surface"
           }
          ],
          "table": [
           {
            "cells": {
             "fill": {
              "color": "#EBF0F8"
             },
             "line": {
              "color": "white"
             }
            },
            "header": {
             "fill": {
              "color": "#C8D4E3"
             },
             "line": {
              "color": "white"
             }
            },
            "type": "table"
           }
          ]
         },
         "layout": {
          "annotationdefaults": {
           "arrowcolor": "#2a3f5f",
           "arrowhead": 0,
           "arrowwidth": 1
          },
          "autotypenumbers": "strict",
          "coloraxis": {
           "colorbar": {
            "outlinewidth": 0,
            "ticks": ""
           }
          },
          "colorscale": {
           "diverging": [
            [
             0,
             "#8e0152"
            ],
            [
             0.1,
             "#c51b7d"
            ],
            [
             0.2,
             "#de77ae"
            ],
            [
             0.3,
             "#f1b6da"
            ],
            [
             0.4,
             "#fde0ef"
            ],
            [
             0.5,
             "#f7f7f7"
            ],
            [
             0.6,
             "#e6f5d0"
            ],
            [
             0.7,
             "#b8e186"
            ],
            [
             0.8,
             "#7fbc41"
            ],
            [
             0.9,
             "#4d9221"
            ],
            [
             1,
             "#276419"
            ]
           ],
           "sequential": [
            [
             0,
             "#0d0887"
            ],
            [
             0.1111111111111111,
             "#46039f"
            ],
            [
             0.2222222222222222,
             "#7201a8"
            ],
            [
             0.3333333333333333,
             "#9c179e"
            ],
            [
             0.4444444444444444,
             "#bd3786"
            ],
            [
             0.5555555555555556,
             "#d8576b"
            ],
            [
             0.6666666666666666,
             "#ed7953"
            ],
            [
             0.7777777777777778,
             "#fb9f3a"
            ],
            [
             0.8888888888888888,
             "#fdca26"
            ],
            [
             1,
             "#f0f921"
            ]
           ],
           "sequentialminus": [
            [
             0,
             "#0d0887"
            ],
            [
             0.1111111111111111,
             "#46039f"
            ],
            [
             0.2222222222222222,
             "#7201a8"
            ],
            [
             0.3333333333333333,
             "#9c179e"
            ],
            [
             0.4444444444444444,
             "#bd3786"
            ],
            [
             0.5555555555555556,
             "#d8576b"
            ],
            [
             0.6666666666666666,
             "#ed7953"
            ],
            [
             0.7777777777777778,
             "#fb9f3a"
            ],
            [
             0.8888888888888888,
             "#fdca26"
            ],
            [
             1,
             "#f0f921"
            ]
           ]
          },
          "colorway": [
           "#636efa",
           "#EF553B",
           "#00cc96",
           "#ab63fa",
           "#FFA15A",
           "#19d3f3",
           "#FF6692",
           "#B6E880",
           "#FF97FF",
           "#FECB52"
          ],
          "font": {
           "color": "#2a3f5f"
          },
          "geo": {
           "bgcolor": "white",
           "lakecolor": "white",
           "landcolor": "#E5ECF6",
           "showlakes": true,
           "showland": true,
           "subunitcolor": "white"
          },
          "hoverlabel": {
           "align": "left"
          },
          "hovermode": "closest",
          "mapbox": {
           "style": "light"
          },
          "paper_bgcolor": "white",
          "plot_bgcolor": "#E5ECF6",
          "polar": {
           "angularaxis": {
            "gridcolor": "white",
            "linecolor": "white",
            "ticks": ""
           },
           "bgcolor": "#E5ECF6",
           "radialaxis": {
            "gridcolor": "white",
            "linecolor": "white",
            "ticks": ""
           }
          },
          "scene": {
           "xaxis": {
            "backgroundcolor": "#E5ECF6",
            "gridcolor": "white",
            "gridwidth": 2,
            "linecolor": "white",
            "showbackground": true,
            "ticks": "",
            "zerolinecolor": "white"
           },
           "yaxis": {
            "backgroundcolor": "#E5ECF6",
            "gridcolor": "white",
            "gridwidth": 2,
            "linecolor": "white",
            "showbackground": true,
            "ticks": "",
            "zerolinecolor": "white"
           },
           "zaxis": {
            "backgroundcolor": "#E5ECF6",
            "gridcolor": "white",
            "gridwidth": 2,
            "linecolor": "white",
            "showbackground": true,
            "ticks": "",
            "zerolinecolor": "white"
           }
          },
          "shapedefaults": {
           "line": {
            "color": "#2a3f5f"
           }
          },
          "ternary": {
           "aaxis": {
            "gridcolor": "white",
            "linecolor": "white",
            "ticks": ""
           },
           "baxis": {
            "gridcolor": "white",
            "linecolor": "white",
            "ticks": ""
           },
           "bgcolor": "#E5ECF6",
           "caxis": {
            "gridcolor": "white",
            "linecolor": "white",
            "ticks": ""
           }
          },
          "title": {
           "x": 0.05
          },
          "xaxis": {
           "automargin": true,
           "gridcolor": "white",
           "linecolor": "white",
           "ticks": "",
           "title": {
            "standoff": 15
           },
           "zerolinecolor": "white",
           "zerolinewidth": 2
          },
          "yaxis": {
           "automargin": true,
           "gridcolor": "white",
           "linecolor": "white",
           "ticks": "",
           "title": {
            "standoff": 15
           },
           "zerolinecolor": "white",
           "zerolinewidth": 2
          }
         }
        },
        "xaxis": {
         "anchor": "y",
         "categoryarray": [
          "Triacylglycerol",
          ".",
          "Amino Acid",
          "Lipid",
          "Xenobiotics",
          "Diacylglycerol",
          "Phosphatidylcholine",
          "Phosphatidylethanolamine",
          "Nucleotide",
          "Cholesterol Ester",
          "Free Fatty Acids",
          "Peptide",
          "Carbohydrate",
          "Cofactors and Vitamins",
          "Lysophosphatidylcholine",
          "Sphingomyelin",
          "Ceramides",
          "Energy",
          "Hexosylceramides",
          "Lysophosphatidylethanolamine",
          "Sphingolipids",
          "PI",
          "Phospholipids",
          "Lactosylceramide",
          "Neutral Complex Lipids",
          "Dihydroceramides"
         ],
         "categoryorder": "array",
         "domain": [
          0,
          1
         ],
         "title": {
          "text": "SUPER_PATHWAY"
         }
        },
        "yaxis": {
         "anchor": "x",
         "domain": [
          0,
          1
         ],
         "title": {
          "text": "count"
         }
        }
       }
      },
      "text/html": [
       "<div>            <script src=\"https://cdnjs.cloudflare.com/ajax/libs/mathjax/2.7.5/MathJax.js?config=TeX-AMS-MML_SVG\"></script><script type=\"text/javascript\">if (window.MathJax && window.MathJax.Hub && window.MathJax.Hub.Config) {window.MathJax.Hub.Config({SVG: {font: \"STIX-Web\"}});}</script>                <script type=\"text/javascript\">window.PlotlyConfig = {MathJaxConfig: 'local'};</script>\n",
       "        <script charset=\"utf-8\" src=\"https://cdn.plot.ly/plotly-3.1.1.min.js\" integrity=\"sha256-HUEFyfiTnZJxCxur99FjbKYTvKSzwDaD3/x5TqHpFu4=\" crossorigin=\"anonymous\"></script>                <div id=\"a8eb0fa8-1e62-4dbd-9b55-37054ed9ff77\" class=\"plotly-graph-div\" style=\"height:525px; width:100%;\"></div>            <script type=\"text/javascript\">                window.PLOTLYENV=window.PLOTLYENV || {};                                if (document.getElementById(\"a8eb0fa8-1e62-4dbd-9b55-37054ed9ff77\")) {                    Plotly.newPlot(                        \"a8eb0fa8-1e62-4dbd-9b55-37054ed9ff77\",                        [{\"hovertemplate\":\"SUPER_PATHWAY=%{x}\\u003cbr\\u003ecount=%{y}\\u003cextra\\u003e\\u003c\\u002fextra\\u003e\",\"legendgroup\":\"Triacylglycerol\",\"marker\":{\"color\":\"#636efa\",\"pattern\":{\"shape\":\"\"},\"line\":{\"width\":0}},\"name\":\"Triacylglycerol\",\"orientation\":\"v\",\"showlegend\":true,\"textposition\":\"auto\",\"x\":[\"Triacylglycerol\"],\"xaxis\":\"x\",\"y\":{\"dtype\":\"i2\",\"bdata\":\"6gE=\"},\"yaxis\":\"y\",\"type\":\"bar\"},{\"hovertemplate\":\"SUPER_PATHWAY=%{x}\\u003cbr\\u003ecount=%{y}\\u003cextra\\u003e\\u003c\\u002fextra\\u003e\",\"legendgroup\":\".\",\"marker\":{\"color\":\"#EF553B\",\"pattern\":{\"shape\":\"\"},\"line\":{\"width\":0}},\"name\":\".\",\"orientation\":\"v\",\"showlegend\":true,\"textposition\":\"auto\",\"x\":[\".\"],\"xaxis\":\"x\",\"y\":{\"dtype\":\"i2\",\"bdata\":\"BAE=\"},\"yaxis\":\"y\",\"type\":\"bar\"},{\"hovertemplate\":\"SUPER_PATHWAY=%{x}\\u003cbr\\u003ecount=%{y}\\u003cextra\\u003e\\u003c\\u002fextra\\u003e\",\"legendgroup\":\"Amino Acid\",\"marker\":{\"color\":\"#00cc96\",\"pattern\":{\"shape\":\"\"},\"line\":{\"width\":0}},\"name\":\"Amino Acid\",\"orientation\":\"v\",\"showlegend\":true,\"textposition\":\"auto\",\"x\":[\"Amino Acid\"],\"xaxis\":\"x\",\"y\":{\"dtype\":\"i2\",\"bdata\":\"lQA=\"},\"yaxis\":\"y\",\"type\":\"bar\"},{\"hovertemplate\":\"SUPER_PATHWAY=%{x}\\u003cbr\\u003ecount=%{y}\\u003cextra\\u003e\\u003c\\u002fextra\\u003e\",\"legendgroup\":\"Lipid\",\"marker\":{\"color\":\"#ab63fa\",\"pattern\":{\"shape\":\"\"},\"line\":{\"width\":0}},\"name\":\"Lipid\",\"orientation\":\"v\",\"showlegend\":true,\"textposition\":\"auto\",\"x\":[\"Lipid\"],\"xaxis\":\"x\",\"y\":{\"dtype\":\"i2\",\"bdata\":\"jgA=\"},\"yaxis\":\"y\",\"type\":\"bar\"},{\"hovertemplate\":\"SUPER_PATHWAY=%{x}\\u003cbr\\u003ecount=%{y}\\u003cextra\\u003e\\u003c\\u002fextra\\u003e\",\"legendgroup\":\"Xenobiotics\",\"marker\":{\"color\":\"#FFA15A\",\"pattern\":{\"shape\":\"\"},\"line\":{\"width\":0}},\"name\":\"Xenobiotics\",\"orientation\":\"v\",\"showlegend\":true,\"textposition\":\"auto\",\"x\":[\"Xenobiotics\"],\"xaxis\":\"x\",\"y\":{\"dtype\":\"i1\",\"bdata\":\"WQ==\"},\"yaxis\":\"y\",\"type\":\"bar\"},{\"hovertemplate\":\"SUPER_PATHWAY=%{x}\\u003cbr\\u003ecount=%{y}\\u003cextra\\u003e\\u003c\\u002fextra\\u003e\",\"legendgroup\":\"Diacylglycerol\",\"marker\":{\"color\":\"#19d3f3\",\"pattern\":{\"shape\":\"\"},\"line\":{\"width\":0}},\"name\":\"Diacylglycerol\",\"orientation\":\"v\",\"showlegend\":true,\"textposition\":\"auto\",\"x\":[\"Diacylglycerol\"],\"xaxis\":\"x\",\"y\":{\"dtype\":\"i1\",\"bdata\":\"NA==\"},\"yaxis\":\"y\",\"type\":\"bar\"},{\"hovertemplate\":\"SUPER_PATHWAY=%{x}\\u003cbr\\u003ecount=%{y}\\u003cextra\\u003e\\u003c\\u002fextra\\u003e\",\"legendgroup\":\"Phosphatidylcholine\",\"marker\":{\"color\":\"#FF6692\",\"pattern\":{\"shape\":\"\"},\"line\":{\"width\":0}},\"name\":\"Phosphatidylcholine\",\"orientation\":\"v\",\"showlegend\":true,\"textposition\":\"auto\",\"x\":[\"Phosphatidylcholine\"],\"xaxis\":\"x\",\"y\":{\"dtype\":\"i1\",\"bdata\":\"KQ==\"},\"yaxis\":\"y\",\"type\":\"bar\"},{\"hovertemplate\":\"SUPER_PATHWAY=%{x}\\u003cbr\\u003ecount=%{y}\\u003cextra\\u003e\\u003c\\u002fextra\\u003e\",\"legendgroup\":\"Phosphatidylethanolamine\",\"marker\":{\"color\":\"#B6E880\",\"pattern\":{\"shape\":\"\"},\"line\":{\"width\":0}},\"name\":\"Phosphatidylethanolamine\",\"orientation\":\"v\",\"showlegend\":true,\"textposition\":\"auto\",\"x\":[\"Phosphatidylethanolamine\"],\"xaxis\":\"x\",\"y\":{\"dtype\":\"i1\",\"bdata\":\"JQ==\"},\"yaxis\":\"y\",\"type\":\"bar\"},{\"hovertemplate\":\"SUPER_PATHWAY=%{x}\\u003cbr\\u003ecount=%{y}\\u003cextra\\u003e\\u003c\\u002fextra\\u003e\",\"legendgroup\":\"Nucleotide\",\"marker\":{\"color\":\"#FF97FF\",\"pattern\":{\"shape\":\"\"},\"line\":{\"width\":0}},\"name\":\"Nucleotide\",\"orientation\":\"v\",\"showlegend\":true,\"textposition\":\"auto\",\"x\":[\"Nucleotide\"],\"xaxis\":\"x\",\"y\":{\"dtype\":\"i1\",\"bdata\":\"Gw==\"},\"yaxis\":\"y\",\"type\":\"bar\"},{\"hovertemplate\":\"SUPER_PATHWAY=%{x}\\u003cbr\\u003ecount=%{y}\\u003cextra\\u003e\\u003c\\u002fextra\\u003e\",\"legendgroup\":\"Cholesterol Ester\",\"marker\":{\"color\":\"#FECB52\",\"pattern\":{\"shape\":\"\"},\"line\":{\"width\":0}},\"name\":\"Cholesterol Ester\",\"orientation\":\"v\",\"showlegend\":true,\"textposition\":\"auto\",\"x\":[\"Cholesterol Ester\"],\"xaxis\":\"x\",\"y\":{\"dtype\":\"i1\",\"bdata\":\"Gg==\"},\"yaxis\":\"y\",\"type\":\"bar\"},{\"hovertemplate\":\"SUPER_PATHWAY=%{x}\\u003cbr\\u003ecount=%{y}\\u003cextra\\u003e\\u003c\\u002fextra\\u003e\",\"legendgroup\":\"Free Fatty Acids\",\"marker\":{\"color\":\"#636efa\",\"pattern\":{\"shape\":\"\"},\"line\":{\"width\":0}},\"name\":\"Free Fatty Acids\",\"orientation\":\"v\",\"showlegend\":true,\"textposition\":\"auto\",\"x\":[\"Free Fatty Acids\"],\"xaxis\":\"x\",\"y\":{\"dtype\":\"i1\",\"bdata\":\"Gg==\"},\"yaxis\":\"y\",\"type\":\"bar\"},{\"hovertemplate\":\"SUPER_PATHWAY=%{x}\\u003cbr\\u003ecount=%{y}\\u003cextra\\u003e\\u003c\\u002fextra\\u003e\",\"legendgroup\":\"Peptide\",\"marker\":{\"color\":\"#EF553B\",\"pattern\":{\"shape\":\"\"},\"line\":{\"width\":0}},\"name\":\"Peptide\",\"orientation\":\"v\",\"showlegend\":true,\"textposition\":\"auto\",\"x\":[\"Peptide\"],\"xaxis\":\"x\",\"y\":{\"dtype\":\"i1\",\"bdata\":\"GA==\"},\"yaxis\":\"y\",\"type\":\"bar\"},{\"hovertemplate\":\"SUPER_PATHWAY=%{x}\\u003cbr\\u003ecount=%{y}\\u003cextra\\u003e\\u003c\\u002fextra\\u003e\",\"legendgroup\":\"Carbohydrate\",\"marker\":{\"color\":\"#00cc96\",\"pattern\":{\"shape\":\"\"},\"line\":{\"width\":0}},\"name\":\"Carbohydrate\",\"orientation\":\"v\",\"showlegend\":true,\"textposition\":\"auto\",\"x\":[\"Carbohydrate\"],\"xaxis\":\"x\",\"y\":{\"dtype\":\"i1\",\"bdata\":\"FQ==\"},\"yaxis\":\"y\",\"type\":\"bar\"},{\"hovertemplate\":\"SUPER_PATHWAY=%{x}\\u003cbr\\u003ecount=%{y}\\u003cextra\\u003e\\u003c\\u002fextra\\u003e\",\"legendgroup\":\"Cofactors and Vitamins\",\"marker\":{\"color\":\"#ab63fa\",\"pattern\":{\"shape\":\"\"},\"line\":{\"width\":0}},\"name\":\"Cofactors and Vitamins\",\"orientation\":\"v\",\"showlegend\":true,\"textposition\":\"auto\",\"x\":[\"Cofactors and Vitamins\"],\"xaxis\":\"x\",\"y\":{\"dtype\":\"i1\",\"bdata\":\"Eg==\"},\"yaxis\":\"y\",\"type\":\"bar\"},{\"hovertemplate\":\"SUPER_PATHWAY=%{x}\\u003cbr\\u003ecount=%{y}\\u003cextra\\u003e\\u003c\\u002fextra\\u003e\",\"legendgroup\":\"Lysophosphatidylcholine\",\"marker\":{\"color\":\"#FFA15A\",\"pattern\":{\"shape\":\"\"},\"line\":{\"width\":0}},\"name\":\"Lysophosphatidylcholine\",\"orientation\":\"v\",\"showlegend\":true,\"textposition\":\"auto\",\"x\":[\"Lysophosphatidylcholine\"],\"xaxis\":\"x\",\"y\":{\"dtype\":\"i1\",\"bdata\":\"Dw==\"},\"yaxis\":\"y\",\"type\":\"bar\"},{\"hovertemplate\":\"SUPER_PATHWAY=%{x}\\u003cbr\\u003ecount=%{y}\\u003cextra\\u003e\\u003c\\u002fextra\\u003e\",\"legendgroup\":\"Sphingomyelin\",\"marker\":{\"color\":\"#19d3f3\",\"pattern\":{\"shape\":\"\"},\"line\":{\"width\":0}},\"name\":\"Sphingomyelin\",\"orientation\":\"v\",\"showlegend\":true,\"textposition\":\"auto\",\"x\":[\"Sphingomyelin\"],\"xaxis\":\"x\",\"y\":{\"dtype\":\"i1\",\"bdata\":\"DA==\"},\"yaxis\":\"y\",\"type\":\"bar\"},{\"hovertemplate\":\"SUPER_PATHWAY=%{x}\\u003cbr\\u003ecount=%{y}\\u003cextra\\u003e\\u003c\\u002fextra\\u003e\",\"legendgroup\":\"Ceramides\",\"marker\":{\"color\":\"#FF6692\",\"pattern\":{\"shape\":\"\"},\"line\":{\"width\":0}},\"name\":\"Ceramides\",\"orientation\":\"v\",\"showlegend\":true,\"textposition\":\"auto\",\"x\":[\"Ceramides\"],\"xaxis\":\"x\",\"y\":{\"dtype\":\"i1\",\"bdata\":\"CQ==\"},\"yaxis\":\"y\",\"type\":\"bar\"},{\"hovertemplate\":\"SUPER_PATHWAY=%{x}\\u003cbr\\u003ecount=%{y}\\u003cextra\\u003e\\u003c\\u002fextra\\u003e\",\"legendgroup\":\"Energy\",\"marker\":{\"color\":\"#B6E880\",\"pattern\":{\"shape\":\"\"},\"line\":{\"width\":0}},\"name\":\"Energy\",\"orientation\":\"v\",\"showlegend\":true,\"textposition\":\"auto\",\"x\":[\"Energy\"],\"xaxis\":\"x\",\"y\":{\"dtype\":\"i1\",\"bdata\":\"CA==\"},\"yaxis\":\"y\",\"type\":\"bar\"},{\"hovertemplate\":\"SUPER_PATHWAY=%{x}\\u003cbr\\u003ecount=%{y}\\u003cextra\\u003e\\u003c\\u002fextra\\u003e\",\"legendgroup\":\"Hexosylceramides\",\"marker\":{\"color\":\"#FF97FF\",\"pattern\":{\"shape\":\"\"},\"line\":{\"width\":0}},\"name\":\"Hexosylceramides\",\"orientation\":\"v\",\"showlegend\":true,\"textposition\":\"auto\",\"x\":[\"Hexosylceramides\"],\"xaxis\":\"x\",\"y\":{\"dtype\":\"i1\",\"bdata\":\"Bw==\"},\"yaxis\":\"y\",\"type\":\"bar\"},{\"hovertemplate\":\"SUPER_PATHWAY=%{x}\\u003cbr\\u003ecount=%{y}\\u003cextra\\u003e\\u003c\\u002fextra\\u003e\",\"legendgroup\":\"Lysophosphatidylethanolamine\",\"marker\":{\"color\":\"#FECB52\",\"pattern\":{\"shape\":\"\"},\"line\":{\"width\":0}},\"name\":\"Lysophosphatidylethanolamine\",\"orientation\":\"v\",\"showlegend\":true,\"textposition\":\"auto\",\"x\":[\"Lysophosphatidylethanolamine\"],\"xaxis\":\"x\",\"y\":{\"dtype\":\"i1\",\"bdata\":\"Bg==\"},\"yaxis\":\"y\",\"type\":\"bar\"},{\"hovertemplate\":\"SUPER_PATHWAY=%{x}\\u003cbr\\u003ecount=%{y}\\u003cextra\\u003e\\u003c\\u002fextra\\u003e\",\"legendgroup\":\"Sphingolipids\",\"marker\":{\"color\":\"#636efa\",\"pattern\":{\"shape\":\"\"},\"line\":{\"width\":0}},\"name\":\"Sphingolipids\",\"orientation\":\"v\",\"showlegend\":true,\"textposition\":\"auto\",\"x\":[\"Sphingolipids\"],\"xaxis\":\"x\",\"y\":{\"dtype\":\"i1\",\"bdata\":\"BQ==\"},\"yaxis\":\"y\",\"type\":\"bar\"},{\"hovertemplate\":\"SUPER_PATHWAY=%{x}\\u003cbr\\u003ecount=%{y}\\u003cextra\\u003e\\u003c\\u002fextra\\u003e\",\"legendgroup\":\"PI\",\"marker\":{\"color\":\"#EF553B\",\"pattern\":{\"shape\":\"\"},\"line\":{\"width\":0}},\"name\":\"PI\",\"orientation\":\"v\",\"showlegend\":true,\"textposition\":\"auto\",\"x\":[\"PI\"],\"xaxis\":\"x\",\"y\":{\"dtype\":\"i1\",\"bdata\":\"BQ==\"},\"yaxis\":\"y\",\"type\":\"bar\"},{\"hovertemplate\":\"SUPER_PATHWAY=%{x}\\u003cbr\\u003ecount=%{y}\\u003cextra\\u003e\\u003c\\u002fextra\\u003e\",\"legendgroup\":\"Phospholipids\",\"marker\":{\"color\":\"#00cc96\",\"pattern\":{\"shape\":\"\"},\"line\":{\"width\":0}},\"name\":\"Phospholipids\",\"orientation\":\"v\",\"showlegend\":true,\"textposition\":\"auto\",\"x\":[\"Phospholipids\"],\"xaxis\":\"x\",\"y\":{\"dtype\":\"i1\",\"bdata\":\"BQ==\"},\"yaxis\":\"y\",\"type\":\"bar\"},{\"hovertemplate\":\"SUPER_PATHWAY=%{x}\\u003cbr\\u003ecount=%{y}\\u003cextra\\u003e\\u003c\\u002fextra\\u003e\",\"legendgroup\":\"Lactosylceramide\",\"marker\":{\"color\":\"#ab63fa\",\"pattern\":{\"shape\":\"\"},\"line\":{\"width\":0}},\"name\":\"Lactosylceramide\",\"orientation\":\"v\",\"showlegend\":true,\"textposition\":\"auto\",\"x\":[\"Lactosylceramide\"],\"xaxis\":\"x\",\"y\":{\"dtype\":\"i1\",\"bdata\":\"BA==\"},\"yaxis\":\"y\",\"type\":\"bar\"},{\"hovertemplate\":\"SUPER_PATHWAY=%{x}\\u003cbr\\u003ecount=%{y}\\u003cextra\\u003e\\u003c\\u002fextra\\u003e\",\"legendgroup\":\"Neutral Complex Lipids\",\"marker\":{\"color\":\"#FFA15A\",\"pattern\":{\"shape\":\"\"},\"line\":{\"width\":0}},\"name\":\"Neutral Complex Lipids\",\"orientation\":\"v\",\"showlegend\":true,\"textposition\":\"auto\",\"x\":[\"Neutral Complex Lipids\"],\"xaxis\":\"x\",\"y\":{\"dtype\":\"i1\",\"bdata\":\"BA==\"},\"yaxis\":\"y\",\"type\":\"bar\"},{\"hovertemplate\":\"SUPER_PATHWAY=%{x}\\u003cbr\\u003ecount=%{y}\\u003cextra\\u003e\\u003c\\u002fextra\\u003e\",\"legendgroup\":\"Dihydroceramides\",\"marker\":{\"color\":\"#19d3f3\",\"pattern\":{\"shape\":\"\"},\"line\":{\"width\":0}},\"name\":\"Dihydroceramides\",\"orientation\":\"v\",\"showlegend\":true,\"textposition\":\"auto\",\"x\":[\"Dihydroceramides\"],\"xaxis\":\"x\",\"y\":{\"dtype\":\"i1\",\"bdata\":\"BA==\"},\"yaxis\":\"y\",\"type\":\"bar\"}],                        {\"template\":{\"data\":{\"histogram2dcontour\":[{\"type\":\"histogram2dcontour\",\"colorbar\":{\"outlinewidth\":0,\"ticks\":\"\"},\"colorscale\":[[0.0,\"#0d0887\"],[0.1111111111111111,\"#46039f\"],[0.2222222222222222,\"#7201a8\"],[0.3333333333333333,\"#9c179e\"],[0.4444444444444444,\"#bd3786\"],[0.5555555555555556,\"#d8576b\"],[0.6666666666666666,\"#ed7953\"],[0.7777777777777778,\"#fb9f3a\"],[0.8888888888888888,\"#fdca26\"],[1.0,\"#f0f921\"]]}],\"choropleth\":[{\"type\":\"choropleth\",\"colorbar\":{\"outlinewidth\":0,\"ticks\":\"\"}}],\"histogram2d\":[{\"type\":\"histogram2d\",\"colorbar\":{\"outlinewidth\":0,\"ticks\":\"\"},\"colorscale\":[[0.0,\"#0d0887\"],[0.1111111111111111,\"#46039f\"],[0.2222222222222222,\"#7201a8\"],[0.3333333333333333,\"#9c179e\"],[0.4444444444444444,\"#bd3786\"],[0.5555555555555556,\"#d8576b\"],[0.6666666666666666,\"#ed7953\"],[0.7777777777777778,\"#fb9f3a\"],[0.8888888888888888,\"#fdca26\"],[1.0,\"#f0f921\"]]}],\"heatmap\":[{\"type\":\"heatmap\",\"colorbar\":{\"outlinewidth\":0,\"ticks\":\"\"},\"colorscale\":[[0.0,\"#0d0887\"],[0.1111111111111111,\"#46039f\"],[0.2222222222222222,\"#7201a8\"],[0.3333333333333333,\"#9c179e\"],[0.4444444444444444,\"#bd3786\"],[0.5555555555555556,\"#d8576b\"],[0.6666666666666666,\"#ed7953\"],[0.7777777777777778,\"#fb9f3a\"],[0.8888888888888888,\"#fdca26\"],[1.0,\"#f0f921\"]]}],\"contourcarpet\":[{\"type\":\"contourcarpet\",\"colorbar\":{\"outlinewidth\":0,\"ticks\":\"\"}}],\"contour\":[{\"type\":\"contour\",\"colorbar\":{\"outlinewidth\":0,\"ticks\":\"\"},\"colorscale\":[[0.0,\"#0d0887\"],[0.1111111111111111,\"#46039f\"],[0.2222222222222222,\"#7201a8\"],[0.3333333333333333,\"#9c179e\"],[0.4444444444444444,\"#bd3786\"],[0.5555555555555556,\"#d8576b\"],[0.6666666666666666,\"#ed7953\"],[0.7777777777777778,\"#fb9f3a\"],[0.8888888888888888,\"#fdca26\"],[1.0,\"#f0f921\"]]}],\"surface\":[{\"type\":\"surface\",\"colorbar\":{\"outlinewidth\":0,\"ticks\":\"\"},\"colorscale\":[[0.0,\"#0d0887\"],[0.1111111111111111,\"#46039f\"],[0.2222222222222222,\"#7201a8\"],[0.3333333333333333,\"#9c179e\"],[0.4444444444444444,\"#bd3786\"],[0.5555555555555556,\"#d8576b\"],[0.6666666666666666,\"#ed7953\"],[0.7777777777777778,\"#fb9f3a\"],[0.8888888888888888,\"#fdca26\"],[1.0,\"#f0f921\"]]}],\"mesh3d\":[{\"type\":\"mesh3d\",\"colorbar\":{\"outlinewidth\":0,\"ticks\":\"\"}}],\"scatter\":[{\"fillpattern\":{\"fillmode\":\"overlay\",\"size\":10,\"solidity\":0.2},\"type\":\"scatter\"}],\"parcoords\":[{\"type\":\"parcoords\",\"line\":{\"colorbar\":{\"outlinewidth\":0,\"ticks\":\"\"}}}],\"scatterpolargl\":[{\"type\":\"scatterpolargl\",\"marker\":{\"colorbar\":{\"outlinewidth\":0,\"ticks\":\"\"}}}],\"bar\":[{\"error_x\":{\"color\":\"#2a3f5f\"},\"error_y\":{\"color\":\"#2a3f5f\"},\"marker\":{\"line\":{\"color\":\"#E5ECF6\",\"width\":0.5},\"pattern\":{\"fillmode\":\"overlay\",\"size\":10,\"solidity\":0.2}},\"type\":\"bar\"}],\"scattergeo\":[{\"type\":\"scattergeo\",\"marker\":{\"colorbar\":{\"outlinewidth\":0,\"ticks\":\"\"}}}],\"scatterpolar\":[{\"type\":\"scatterpolar\",\"marker\":{\"colorbar\":{\"outlinewidth\":0,\"ticks\":\"\"}}}],\"histogram\":[{\"marker\":{\"pattern\":{\"fillmode\":\"overlay\",\"size\":10,\"solidity\":0.2}},\"type\":\"histogram\"}],\"scattergl\":[{\"type\":\"scattergl\",\"marker\":{\"colorbar\":{\"outlinewidth\":0,\"ticks\":\"\"}}}],\"scatter3d\":[{\"type\":\"scatter3d\",\"line\":{\"colorbar\":{\"outlinewidth\":0,\"ticks\":\"\"}},\"marker\":{\"colorbar\":{\"outlinewidth\":0,\"ticks\":\"\"}}}],\"scattermap\":[{\"type\":\"scattermap\",\"marker\":{\"colorbar\":{\"outlinewidth\":0,\"ticks\":\"\"}}}],\"scattermapbox\":[{\"type\":\"scattermapbox\",\"marker\":{\"colorbar\":{\"outlinewidth\":0,\"ticks\":\"\"}}}],\"scatterternary\":[{\"type\":\"scatterternary\",\"marker\":{\"colorbar\":{\"outlinewidth\":0,\"ticks\":\"\"}}}],\"scattercarpet\":[{\"type\":\"scattercarpet\",\"marker\":{\"colorbar\":{\"outlinewidth\":0,\"ticks\":\"\"}}}],\"carpet\":[{\"aaxis\":{\"endlinecolor\":\"#2a3f5f\",\"gridcolor\":\"white\",\"linecolor\":\"white\",\"minorgridcolor\":\"white\",\"startlinecolor\":\"#2a3f5f\"},\"baxis\":{\"endlinecolor\":\"#2a3f5f\",\"gridcolor\":\"white\",\"linecolor\":\"white\",\"minorgridcolor\":\"white\",\"startlinecolor\":\"#2a3f5f\"},\"type\":\"carpet\"}],\"table\":[{\"cells\":{\"fill\":{\"color\":\"#EBF0F8\"},\"line\":{\"color\":\"white\"}},\"header\":{\"fill\":{\"color\":\"#C8D4E3\"},\"line\":{\"color\":\"white\"}},\"type\":\"table\"}],\"barpolar\":[{\"marker\":{\"line\":{\"color\":\"#E5ECF6\",\"width\":0.5},\"pattern\":{\"fillmode\":\"overlay\",\"size\":10,\"solidity\":0.2}},\"type\":\"barpolar\"}],\"pie\":[{\"automargin\":true,\"type\":\"pie\"}]},\"layout\":{\"autotypenumbers\":\"strict\",\"colorway\":[\"#636efa\",\"#EF553B\",\"#00cc96\",\"#ab63fa\",\"#FFA15A\",\"#19d3f3\",\"#FF6692\",\"#B6E880\",\"#FF97FF\",\"#FECB52\"],\"font\":{\"color\":\"#2a3f5f\"},\"hovermode\":\"closest\",\"hoverlabel\":{\"align\":\"left\"},\"paper_bgcolor\":\"white\",\"plot_bgcolor\":\"#E5ECF6\",\"polar\":{\"bgcolor\":\"#E5ECF6\",\"angularaxis\":{\"gridcolor\":\"white\",\"linecolor\":\"white\",\"ticks\":\"\"},\"radialaxis\":{\"gridcolor\":\"white\",\"linecolor\":\"white\",\"ticks\":\"\"}},\"ternary\":{\"bgcolor\":\"#E5ECF6\",\"aaxis\":{\"gridcolor\":\"white\",\"linecolor\":\"white\",\"ticks\":\"\"},\"baxis\":{\"gridcolor\":\"white\",\"linecolor\":\"white\",\"ticks\":\"\"},\"caxis\":{\"gridcolor\":\"white\",\"linecolor\":\"white\",\"ticks\":\"\"}},\"coloraxis\":{\"colorbar\":{\"outlinewidth\":0,\"ticks\":\"\"}},\"colorscale\":{\"sequential\":[[0.0,\"#0d0887\"],[0.1111111111111111,\"#46039f\"],[0.2222222222222222,\"#7201a8\"],[0.3333333333333333,\"#9c179e\"],[0.4444444444444444,\"#bd3786\"],[0.5555555555555556,\"#d8576b\"],[0.6666666666666666,\"#ed7953\"],[0.7777777777777778,\"#fb9f3a\"],[0.8888888888888888,\"#fdca26\"],[1.0,\"#f0f921\"]],\"sequentialminus\":[[0.0,\"#0d0887\"],[0.1111111111111111,\"#46039f\"],[0.2222222222222222,\"#7201a8\"],[0.3333333333333333,\"#9c179e\"],[0.4444444444444444,\"#bd3786\"],[0.5555555555555556,\"#d8576b\"],[0.6666666666666666,\"#ed7953\"],[0.7777777777777778,\"#fb9f3a\"],[0.8888888888888888,\"#fdca26\"],[1.0,\"#f0f921\"]],\"diverging\":[[0,\"#8e0152\"],[0.1,\"#c51b7d\"],[0.2,\"#de77ae\"],[0.3,\"#f1b6da\"],[0.4,\"#fde0ef\"],[0.5,\"#f7f7f7\"],[0.6,\"#e6f5d0\"],[0.7,\"#b8e186\"],[0.8,\"#7fbc41\"],[0.9,\"#4d9221\"],[1,\"#276419\"]]},\"xaxis\":{\"gridcolor\":\"white\",\"linecolor\":\"white\",\"ticks\":\"\",\"title\":{\"standoff\":15},\"zerolinecolor\":\"white\",\"automargin\":true,\"zerolinewidth\":2},\"yaxis\":{\"gridcolor\":\"white\",\"linecolor\":\"white\",\"ticks\":\"\",\"title\":{\"standoff\":15},\"zerolinecolor\":\"white\",\"automargin\":true,\"zerolinewidth\":2},\"scene\":{\"xaxis\":{\"backgroundcolor\":\"#E5ECF6\",\"gridcolor\":\"white\",\"linecolor\":\"white\",\"showbackground\":true,\"ticks\":\"\",\"zerolinecolor\":\"white\",\"gridwidth\":2},\"yaxis\":{\"backgroundcolor\":\"#E5ECF6\",\"gridcolor\":\"white\",\"linecolor\":\"white\",\"showbackground\":true,\"ticks\":\"\",\"zerolinecolor\":\"white\",\"gridwidth\":2},\"zaxis\":{\"backgroundcolor\":\"#E5ECF6\",\"gridcolor\":\"white\",\"linecolor\":\"white\",\"showbackground\":true,\"ticks\":\"\",\"zerolinecolor\":\"white\",\"gridwidth\":2}},\"shapedefaults\":{\"line\":{\"color\":\"#2a3f5f\"}},\"annotationdefaults\":{\"arrowcolor\":\"#2a3f5f\",\"arrowhead\":0,\"arrowwidth\":1},\"geo\":{\"bgcolor\":\"white\",\"landcolor\":\"#E5ECF6\",\"subunitcolor\":\"white\",\"showland\":true,\"showlakes\":true,\"lakecolor\":\"white\"},\"title\":{\"x\":0.05},\"mapbox\":{\"style\":\"light\"}}},\"xaxis\":{\"anchor\":\"y\",\"domain\":[0.0,1.0],\"title\":{\"text\":\"SUPER_PATHWAY\"},\"categoryorder\":\"array\",\"categoryarray\":[\"Triacylglycerol\",\".\",\"Amino Acid\",\"Lipid\",\"Xenobiotics\",\"Diacylglycerol\",\"Phosphatidylcholine\",\"Phosphatidylethanolamine\",\"Nucleotide\",\"Cholesterol Ester\",\"Free Fatty Acids\",\"Peptide\",\"Carbohydrate\",\"Cofactors and Vitamins\",\"Lysophosphatidylcholine\",\"Sphingomyelin\",\"Ceramides\",\"Energy\",\"Hexosylceramides\",\"Lysophosphatidylethanolamine\",\"Sphingolipids\",\"PI\",\"Phospholipids\",\"Lactosylceramide\",\"Neutral Complex Lipids\",\"Dihydroceramides\"]},\"yaxis\":{\"anchor\":\"x\",\"domain\":[0.0,1.0],\"title\":{\"text\":\"count\"}},\"legend\":{\"title\":{\"text\":\"SUPER_PATHWAY\"},\"tracegroupgap\":0},\"margin\":{\"t\":60},\"barmode\":\"relative\"},                        {\"responsive\": true}                    ).then(function(){\n",
       "                            \n",
       "var gd = document.getElementById('a8eb0fa8-1e62-4dbd-9b55-37054ed9ff77');\n",
       "var x = new MutationObserver(function (mutations, observer) {{\n",
       "        var display = window.getComputedStyle(gd).display;\n",
       "        if (!display || display === 'none') {{\n",
       "            console.log([gd, 'removed!']);\n",
       "            Plotly.purge(gd);\n",
       "            observer.disconnect();\n",
       "        }}\n",
       "}});\n",
       "\n",
       "// Listen for the removal of the full notebook cells\n",
       "var notebookContainer = gd.closest('#notebook-container');\n",
       "if (notebookContainer) {{\n",
       "    x.observe(notebookContainer, {childList: true});\n",
       "}}\n",
       "\n",
       "// Listen for the clearing of the current output cell\n",
       "var outputEl = gd.closest('.output');\n",
       "if (outputEl) {{\n",
       "    x.observe(outputEl, {childList: true});\n",
       "}}\n",
       "\n",
       "                        })                };            </script>        </div>"
      ]
     },
     "metadata": {},
     "output_type": "display_data"
    }
   ],
   "source": [
    "# GRAFICO IDENTIFICACION DEL GRUPO DE BIOQUIMICO AL QUE PERTENECEN LOS COMPUESTOS IDENTIFICADOS (Final para presentación)\n",
    "grupo_compuestos_df = grupo_compuestos.reset_index()\n",
    "grupo_compuestos_df.columns = [\"SUPER_PATHWAY\", \"count\"]\n",
    "fig = px.bar(grupo_compuestos_df, x=\"SUPER_PATHWAY\", y=\"count\", color=\"SUPER_PATHWAY\")\n",
    "fig.update_traces(marker_line_width=0)\n",
    "fig.show()"
   ]
  }
 ],
 "metadata": {
  "kernelspec": {
   "display_name": "entornoupgrgade",
   "language": "python",
   "name": "python3"
  },
  "language_info": {
   "codemirror_mode": {
    "name": "ipython",
    "version": 3
   },
   "file_extension": ".py",
   "mimetype": "text/x-python",
   "name": "python",
   "nbconvert_exporter": "python",
   "pygments_lexer": "ipython3",
   "version": "3.11.9"
  }
 },
 "nbformat": 4,
 "nbformat_minor": 5
}
